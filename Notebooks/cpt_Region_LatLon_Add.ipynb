{
 "cells": [
  {
   "cell_type": "markdown",
   "metadata": {},
   "source": [
    "# Region & Lat/Lon Addition\n",
    "\n",
    "Code to add world regions and lat long to our final stack event dataset"
   ]
  },
  {
   "cell_type": "code",
   "execution_count": 1,
   "metadata": {},
   "outputs": [],
   "source": [
    "import pandas as pd\n",
    "import numpy as np\n",
    "import geopandas as gpd"
   ]
  },
  {
   "cell_type": "code",
   "execution_count": 2,
   "metadata": {},
   "outputs": [],
   "source": [
    "# Open files\n",
    "\n",
    "events = pd.read_csv('/home/cascade/projects/data_out_urbanheat/All_data20191019.csv')\n",
    "ghs = gpd.read_file('/home/cascade/tana-crunch-cascade/projects/UrbanHeat/data/raw/GHS_UCDB/GHS_STAT_UCDB2015MT_GLOBE_R2019A_V1_0.shp')\n",
    "countries = pd.read_csv('/home/cascade/tana-crunch-cascade/projects/UrbanHeat/data/raw/countrylist.csv')"
   ]
  },
  {
   "cell_type": "code",
   "execution_count": 3,
   "metadata": {
    "scrolled": true
   },
   "outputs": [
    {
     "data": {
      "text/html": [
       "<div>\n",
       "<style scoped>\n",
       "    .dataframe tbody tr th:only-of-type {\n",
       "        vertical-align: middle;\n",
       "    }\n",
       "\n",
       "    .dataframe tbody tr th {\n",
       "        vertical-align: top;\n",
       "    }\n",
       "\n",
       "    .dataframe thead th {\n",
       "        text-align: right;\n",
       "    }\n",
       "</style>\n",
       "<table border=\"1\" class=\"dataframe\">\n",
       "  <thead>\n",
       "    <tr style=\"text-align: right;\">\n",
       "      <th></th>\n",
       "      <th>Unnamed: 0</th>\n",
       "      <th>Event_ID</th>\n",
       "      <th>ID_HDC_G0</th>\n",
       "      <th>CTR_MN_NM</th>\n",
       "      <th>total_days</th>\n",
       "      <th>duration</th>\n",
       "      <th>avg_temp</th>\n",
       "      <th>avg_intensity</th>\n",
       "      <th>tot_intensity</th>\n",
       "      <th>event_dates</th>\n",
       "      <th>intensity</th>\n",
       "      <th>tmax</th>\n",
       "      <th>year</th>\n",
       "    </tr>\n",
       "  </thead>\n",
       "  <tbody>\n",
       "    <tr>\n",
       "      <td>0</td>\n",
       "      <td>0</td>\n",
       "      <td>1</td>\n",
       "      <td>2784</td>\n",
       "      <td>Germany</td>\n",
       "      <td>1</td>\n",
       "      <td>1</td>\n",
       "      <td>44.459750</td>\n",
       "      <td>3.859750</td>\n",
       "      <td>3.859750</td>\n",
       "      <td>['1983.07.27']</td>\n",
       "      <td>[3.85975]</td>\n",
       "      <td>[44.45975]</td>\n",
       "      <td>1983</td>\n",
       "    </tr>\n",
       "    <tr>\n",
       "      <td>1</td>\n",
       "      <td>1</td>\n",
       "      <td>2</td>\n",
       "      <td>2372</td>\n",
       "      <td>France</td>\n",
       "      <td>1</td>\n",
       "      <td>1</td>\n",
       "      <td>43.331635</td>\n",
       "      <td>2.731635</td>\n",
       "      <td>2.731635</td>\n",
       "      <td>['1983.07.31']</td>\n",
       "      <td>[2.731635]</td>\n",
       "      <td>[43.331635]</td>\n",
       "      <td>1983</td>\n",
       "    </tr>\n",
       "    <tr>\n",
       "      <td>2</td>\n",
       "      <td>2</td>\n",
       "      <td>3</td>\n",
       "      <td>6156</td>\n",
       "      <td>Kazakhstan</td>\n",
       "      <td>1</td>\n",
       "      <td>1</td>\n",
       "      <td>41.336376</td>\n",
       "      <td>0.736376</td>\n",
       "      <td>0.736376</td>\n",
       "      <td>['1983.07.31']</td>\n",
       "      <td>[0.736376]</td>\n",
       "      <td>[41.336376]</td>\n",
       "      <td>1983</td>\n",
       "    </tr>\n",
       "    <tr>\n",
       "      <td>3</td>\n",
       "      <td>3</td>\n",
       "      <td>4</td>\n",
       "      <td>2833</td>\n",
       "      <td>Germany</td>\n",
       "      <td>1</td>\n",
       "      <td>1</td>\n",
       "      <td>47.493180</td>\n",
       "      <td>6.893180</td>\n",
       "      <td>6.893180</td>\n",
       "      <td>['1983.07.27']</td>\n",
       "      <td>[6.89318]</td>\n",
       "      <td>[47.49318]</td>\n",
       "      <td>1983</td>\n",
       "    </tr>\n",
       "    <tr>\n",
       "      <td>4</td>\n",
       "      <td>4</td>\n",
       "      <td>5</td>\n",
       "      <td>2885</td>\n",
       "      <td>Austria</td>\n",
       "      <td>1</td>\n",
       "      <td>1</td>\n",
       "      <td>44.013890</td>\n",
       "      <td>3.413890</td>\n",
       "      <td>3.413890</td>\n",
       "      <td>['1983.07.27']</td>\n",
       "      <td>[3.41389]</td>\n",
       "      <td>[44.01389]</td>\n",
       "      <td>1983</td>\n",
       "    </tr>\n",
       "  </tbody>\n",
       "</table>\n",
       "</div>"
      ],
      "text/plain": [
       "   Unnamed: 0  Event_ID  ID_HDC_G0   CTR_MN_NM  total_days  duration  \\\n",
       "0           0         1       2784     Germany           1         1   \n",
       "1           1         2       2372      France           1         1   \n",
       "2           2         3       6156  Kazakhstan           1         1   \n",
       "3           3         4       2833     Germany           1         1   \n",
       "4           4         5       2885     Austria           1         1   \n",
       "\n",
       "    avg_temp  avg_intensity  tot_intensity     event_dates   intensity  \\\n",
       "0  44.459750       3.859750       3.859750  ['1983.07.27']   [3.85975]   \n",
       "1  43.331635       2.731635       2.731635  ['1983.07.31']  [2.731635]   \n",
       "2  41.336376       0.736376       0.736376  ['1983.07.31']  [0.736376]   \n",
       "3  47.493180       6.893180       6.893180  ['1983.07.27']   [6.89318]   \n",
       "4  44.013890       3.413890       3.413890  ['1983.07.27']   [3.41389]   \n",
       "\n",
       "          tmax  year  \n",
       "0   [44.45975]  1983  \n",
       "1  [43.331635]  1983  \n",
       "2  [41.336376]  1983  \n",
       "3   [47.49318]  1983  \n",
       "4   [44.01389]  1983  "
      ]
     },
     "execution_count": 3,
     "metadata": {},
     "output_type": "execute_result"
    }
   ],
   "source": [
    "events.head()"
   ]
  },
  {
   "cell_type": "code",
   "execution_count": 4,
   "metadata": {},
   "outputs": [
    {
     "data": {
      "text/html": [
       "<div>\n",
       "<style scoped>\n",
       "    .dataframe tbody tr th:only-of-type {\n",
       "        vertical-align: middle;\n",
       "    }\n",
       "\n",
       "    .dataframe tbody tr th {\n",
       "        vertical-align: top;\n",
       "    }\n",
       "\n",
       "    .dataframe thead th {\n",
       "        text-align: right;\n",
       "    }\n",
       "</style>\n",
       "<table border=\"1\" class=\"dataframe\">\n",
       "  <thead>\n",
       "    <tr style=\"text-align: right;\">\n",
       "      <th></th>\n",
       "      <th>name</th>\n",
       "      <th>alpha-2</th>\n",
       "      <th>alpha-3</th>\n",
       "      <th>country-code</th>\n",
       "      <th>iso_3166-2</th>\n",
       "      <th>region</th>\n",
       "      <th>sub-region</th>\n",
       "      <th>intermediate-region</th>\n",
       "      <th>region-code</th>\n",
       "      <th>sub-region-code</th>\n",
       "      <th>intermediate-region-code</th>\n",
       "    </tr>\n",
       "  </thead>\n",
       "  <tbody>\n",
       "    <tr>\n",
       "      <td>197</td>\n",
       "      <td>Serbia</td>\n",
       "      <td>RS</td>\n",
       "      <td>SRB</td>\n",
       "      <td>688.0</td>\n",
       "      <td>ISO 3166-2:RS</td>\n",
       "      <td>Europe</td>\n",
       "      <td>Southern Europe</td>\n",
       "      <td>Southern Europe</td>\n",
       "      <td>150.0</td>\n",
       "      <td>39.0</td>\n",
       "      <td>NaN</td>\n",
       "    </tr>\n",
       "  </tbody>\n",
       "</table>\n",
       "</div>"
      ],
      "text/plain": [
       "       name alpha-2 alpha-3  country-code     iso_3166-2  region  \\\n",
       "197  Serbia      RS     SRB         688.0  ISO 3166-2:RS  Europe   \n",
       "\n",
       "          sub-region intermediate-region  region-code  sub-region-code  \\\n",
       "197  Southern Europe     Southern Europe        150.0             39.0   \n",
       "\n",
       "     intermediate-region-code  \n",
       "197                       NaN  "
      ]
     },
     "execution_count": 4,
     "metadata": {},
     "output_type": "execute_result"
    }
   ],
   "source": [
    "countries[countries['name'] == 'Serbia']"
   ]
  },
  {
   "cell_type": "code",
   "execution_count": 5,
   "metadata": {},
   "outputs": [],
   "source": [
    "# Fix Ivory Coast\n",
    "events.CTR_MN_NM = events.CTR_MN_NM.replace('CÃ´te d\\'Ivoire', 'Ivory Coast')"
   ]
  },
  {
   "cell_type": "markdown",
   "metadata": {},
   "source": [
    "## Try Merging Events and Countries"
   ]
  },
  {
   "cell_type": "code",
   "execution_count": 6,
   "metadata": {},
   "outputs": [],
   "source": [
    "regions = pd.DataFrame()\n",
    "regions['CTR_MN_NM'] = countries['name']\n",
    "regions['region'] = countries['region']\n",
    "regions['sub-region'] = countries['sub-region']\n",
    "regions['intermediate-region'] = countries['intermediate-region']\n"
   ]
  },
  {
   "cell_type": "code",
   "execution_count": 7,
   "metadata": {},
   "outputs": [
    {
     "name": "stdout",
     "output_type": "stream",
     "text": [
      "883026\n",
      "883026\n"
     ]
    }
   ],
   "source": [
    "print(len(events))\n",
    "events = events.merge(regions, on = 'CTR_MN_NM', how = 'inner')\n",
    "print(len(events))"
   ]
  },
  {
   "cell_type": "code",
   "execution_count": 8,
   "metadata": {
    "scrolled": true
   },
   "outputs": [
    {
     "data": {
      "text/html": [
       "<div>\n",
       "<style scoped>\n",
       "    .dataframe tbody tr th:only-of-type {\n",
       "        vertical-align: middle;\n",
       "    }\n",
       "\n",
       "    .dataframe tbody tr th {\n",
       "        vertical-align: top;\n",
       "    }\n",
       "\n",
       "    .dataframe thead th {\n",
       "        text-align: right;\n",
       "    }\n",
       "</style>\n",
       "<table border=\"1\" class=\"dataframe\">\n",
       "  <thead>\n",
       "    <tr style=\"text-align: right;\">\n",
       "      <th></th>\n",
       "      <th>Unnamed: 0</th>\n",
       "      <th>Event_ID</th>\n",
       "      <th>ID_HDC_G0</th>\n",
       "      <th>CTR_MN_NM</th>\n",
       "      <th>total_days</th>\n",
       "      <th>duration</th>\n",
       "      <th>avg_temp</th>\n",
       "      <th>avg_intensity</th>\n",
       "      <th>tot_intensity</th>\n",
       "      <th>event_dates</th>\n",
       "      <th>intensity</th>\n",
       "      <th>tmax</th>\n",
       "      <th>year</th>\n",
       "      <th>region</th>\n",
       "      <th>sub-region</th>\n",
       "      <th>intermediate-region</th>\n",
       "    </tr>\n",
       "  </thead>\n",
       "  <tbody>\n",
       "    <tr>\n",
       "      <td>0</td>\n",
       "      <td>0</td>\n",
       "      <td>1</td>\n",
       "      <td>2784</td>\n",
       "      <td>Germany</td>\n",
       "      <td>1</td>\n",
       "      <td>1</td>\n",
       "      <td>44.459750</td>\n",
       "      <td>3.859750</td>\n",
       "      <td>3.859750</td>\n",
       "      <td>['1983.07.27']</td>\n",
       "      <td>[3.85975]</td>\n",
       "      <td>[44.45975]</td>\n",
       "      <td>1983</td>\n",
       "      <td>Europe</td>\n",
       "      <td>Western Europe</td>\n",
       "      <td>Western Europe</td>\n",
       "    </tr>\n",
       "    <tr>\n",
       "      <td>1</td>\n",
       "      <td>3</td>\n",
       "      <td>4</td>\n",
       "      <td>2833</td>\n",
       "      <td>Germany</td>\n",
       "      <td>1</td>\n",
       "      <td>1</td>\n",
       "      <td>47.493180</td>\n",
       "      <td>6.893180</td>\n",
       "      <td>6.893180</td>\n",
       "      <td>['1983.07.27']</td>\n",
       "      <td>[6.89318]</td>\n",
       "      <td>[47.49318]</td>\n",
       "      <td>1983</td>\n",
       "      <td>Europe</td>\n",
       "      <td>Western Europe</td>\n",
       "      <td>Western Europe</td>\n",
       "    </tr>\n",
       "    <tr>\n",
       "      <td>2</td>\n",
       "      <td>5</td>\n",
       "      <td>22703</td>\n",
       "      <td>2833</td>\n",
       "      <td>Germany</td>\n",
       "      <td>1</td>\n",
       "      <td>1</td>\n",
       "      <td>41.787350</td>\n",
       "      <td>1.187350</td>\n",
       "      <td>1.187350</td>\n",
       "      <td>['1984.07.11']</td>\n",
       "      <td>[1.18735]</td>\n",
       "      <td>[41.78735]</td>\n",
       "      <td>1984</td>\n",
       "      <td>Europe</td>\n",
       "      <td>Western Europe</td>\n",
       "      <td>Western Europe</td>\n",
       "    </tr>\n",
       "    <tr>\n",
       "      <td>3</td>\n",
       "      <td>6</td>\n",
       "      <td>349979</td>\n",
       "      <td>2833</td>\n",
       "      <td>Germany</td>\n",
       "      <td>1</td>\n",
       "      <td>1</td>\n",
       "      <td>41.393425</td>\n",
       "      <td>0.793425</td>\n",
       "      <td>0.793425</td>\n",
       "      <td>['1998.08.11']</td>\n",
       "      <td>[0.793425]</td>\n",
       "      <td>[41.393425]</td>\n",
       "      <td>1998</td>\n",
       "      <td>Europe</td>\n",
       "      <td>Western Europe</td>\n",
       "      <td>Western Europe</td>\n",
       "    </tr>\n",
       "    <tr>\n",
       "      <td>4</td>\n",
       "      <td>0</td>\n",
       "      <td>429537</td>\n",
       "      <td>2833</td>\n",
       "      <td>Germany</td>\n",
       "      <td>1</td>\n",
       "      <td>1</td>\n",
       "      <td>41.278350</td>\n",
       "      <td>0.678350</td>\n",
       "      <td>0.678350</td>\n",
       "      <td>['2001.08.26']</td>\n",
       "      <td>[0.67835]</td>\n",
       "      <td>[41.27835]</td>\n",
       "      <td>2001</td>\n",
       "      <td>Europe</td>\n",
       "      <td>Western Europe</td>\n",
       "      <td>Western Europe</td>\n",
       "    </tr>\n",
       "  </tbody>\n",
       "</table>\n",
       "</div>"
      ],
      "text/plain": [
       "   Unnamed: 0  Event_ID  ID_HDC_G0 CTR_MN_NM  total_days  duration   avg_temp  \\\n",
       "0           0         1       2784   Germany           1         1  44.459750   \n",
       "1           3         4       2833   Germany           1         1  47.493180   \n",
       "2           5     22703       2833   Germany           1         1  41.787350   \n",
       "3           6    349979       2833   Germany           1         1  41.393425   \n",
       "4           0    429537       2833   Germany           1         1  41.278350   \n",
       "\n",
       "   avg_intensity  tot_intensity     event_dates   intensity         tmax  \\\n",
       "0       3.859750       3.859750  ['1983.07.27']   [3.85975]   [44.45975]   \n",
       "1       6.893180       6.893180  ['1983.07.27']   [6.89318]   [47.49318]   \n",
       "2       1.187350       1.187350  ['1984.07.11']   [1.18735]   [41.78735]   \n",
       "3       0.793425       0.793425  ['1998.08.11']  [0.793425]  [41.393425]   \n",
       "4       0.678350       0.678350  ['2001.08.26']   [0.67835]   [41.27835]   \n",
       "\n",
       "   year  region      sub-region intermediate-region  \n",
       "0  1983  Europe  Western Europe      Western Europe  \n",
       "1  1983  Europe  Western Europe      Western Europe  \n",
       "2  1984  Europe  Western Europe      Western Europe  \n",
       "3  1998  Europe  Western Europe      Western Europe  \n",
       "4  2001  Europe  Western Europe      Western Europe  "
      ]
     },
     "execution_count": 8,
     "metadata": {},
     "output_type": "execute_result"
    }
   ],
   "source": [
    "events.head()"
   ]
  },
  {
   "cell_type": "markdown",
   "metadata": {},
   "source": [
    "## Match lat/lon with events"
   ]
  },
  {
   "cell_type": "code",
   "execution_count": 9,
   "metadata": {
    "scrolled": true
   },
   "outputs": [
    {
     "data": {
      "text/plain": [
       "(883026, 16)"
      ]
     },
     "execution_count": 9,
     "metadata": {},
     "output_type": "execute_result"
    }
   ],
   "source": [
    "events.shape"
   ]
  },
  {
   "cell_type": "code",
   "execution_count": 10,
   "metadata": {},
   "outputs": [],
   "source": [
    "ghs.head()\n",
    "\n",
    "df = pd.DataFrame()\n",
    "df['ID_HDC_G0'] = ghs['ID_HDC_G0']\n",
    "df['GCPNT_LAT'] = ghs['GCPNT_LAT']\n",
    "df['GCPNT_LON'] = ghs['GCPNT_LON']\n",
    "\n",
    "events = events.merge(df, on = 'ID_HDC_G0', how = 'inner')"
   ]
  },
  {
   "cell_type": "code",
   "execution_count": 11,
   "metadata": {
    "scrolled": true
   },
   "outputs": [
    {
     "data": {
      "text/plain": [
       "(883026, 18)"
      ]
     },
     "execution_count": 11,
     "metadata": {},
     "output_type": "execute_result"
    }
   ],
   "source": [
    "events.shape"
   ]
  },
  {
   "cell_type": "code",
   "execution_count": 12,
   "metadata": {},
   "outputs": [
    {
     "data": {
      "text/html": [
       "<div>\n",
       "<style scoped>\n",
       "    .dataframe tbody tr th:only-of-type {\n",
       "        vertical-align: middle;\n",
       "    }\n",
       "\n",
       "    .dataframe tbody tr th {\n",
       "        vertical-align: top;\n",
       "    }\n",
       "\n",
       "    .dataframe thead th {\n",
       "        text-align: right;\n",
       "    }\n",
       "</style>\n",
       "<table border=\"1\" class=\"dataframe\">\n",
       "  <thead>\n",
       "    <tr style=\"text-align: right;\">\n",
       "      <th></th>\n",
       "      <th>Unnamed: 0</th>\n",
       "      <th>Event_ID</th>\n",
       "      <th>ID_HDC_G0</th>\n",
       "      <th>CTR_MN_NM</th>\n",
       "      <th>total_days</th>\n",
       "      <th>duration</th>\n",
       "      <th>avg_temp</th>\n",
       "      <th>avg_intensity</th>\n",
       "      <th>tot_intensity</th>\n",
       "      <th>event_dates</th>\n",
       "      <th>intensity</th>\n",
       "      <th>tmax</th>\n",
       "      <th>year</th>\n",
       "      <th>region</th>\n",
       "      <th>sub-region</th>\n",
       "      <th>intermediate-region</th>\n",
       "      <th>GCPNT_LAT</th>\n",
       "      <th>GCPNT_LON</th>\n",
       "    </tr>\n",
       "  </thead>\n",
       "  <tbody>\n",
       "    <tr>\n",
       "      <td>0</td>\n",
       "      <td>0</td>\n",
       "      <td>1</td>\n",
       "      <td>2784</td>\n",
       "      <td>Germany</td>\n",
       "      <td>1</td>\n",
       "      <td>1</td>\n",
       "      <td>44.459750</td>\n",
       "      <td>3.859750</td>\n",
       "      <td>3.859750</td>\n",
       "      <td>['1983.07.27']</td>\n",
       "      <td>[3.85975]</td>\n",
       "      <td>[44.45975]</td>\n",
       "      <td>1983</td>\n",
       "      <td>Europe</td>\n",
       "      <td>Western Europe</td>\n",
       "      <td>Western Europe</td>\n",
       "      <td>48.138002</td>\n",
       "      <td>11.563435</td>\n",
       "    </tr>\n",
       "    <tr>\n",
       "      <td>1</td>\n",
       "      <td>2</td>\n",
       "      <td>763005</td>\n",
       "      <td>2784</td>\n",
       "      <td>Germany</td>\n",
       "      <td>1</td>\n",
       "      <td>1</td>\n",
       "      <td>40.658337</td>\n",
       "      <td>0.058337</td>\n",
       "      <td>0.058337</td>\n",
       "      <td>['2013.08.06']</td>\n",
       "      <td>[0.058337]</td>\n",
       "      <td>[40.658337]</td>\n",
       "      <td>2013</td>\n",
       "      <td>Europe</td>\n",
       "      <td>Western Europe</td>\n",
       "      <td>Western Europe</td>\n",
       "      <td>48.138002</td>\n",
       "      <td>11.563435</td>\n",
       "    </tr>\n",
       "    <tr>\n",
       "      <td>2</td>\n",
       "      <td>3</td>\n",
       "      <td>4</td>\n",
       "      <td>2833</td>\n",
       "      <td>Germany</td>\n",
       "      <td>1</td>\n",
       "      <td>1</td>\n",
       "      <td>47.493180</td>\n",
       "      <td>6.893180</td>\n",
       "      <td>6.893180</td>\n",
       "      <td>['1983.07.27']</td>\n",
       "      <td>[6.89318]</td>\n",
       "      <td>[47.49318]</td>\n",
       "      <td>1983</td>\n",
       "      <td>Europe</td>\n",
       "      <td>Western Europe</td>\n",
       "      <td>Western Europe</td>\n",
       "      <td>47.849642</td>\n",
       "      <td>12.102591</td>\n",
       "    </tr>\n",
       "    <tr>\n",
       "      <td>3</td>\n",
       "      <td>5</td>\n",
       "      <td>22703</td>\n",
       "      <td>2833</td>\n",
       "      <td>Germany</td>\n",
       "      <td>1</td>\n",
       "      <td>1</td>\n",
       "      <td>41.787350</td>\n",
       "      <td>1.187350</td>\n",
       "      <td>1.187350</td>\n",
       "      <td>['1984.07.11']</td>\n",
       "      <td>[1.18735]</td>\n",
       "      <td>[41.78735]</td>\n",
       "      <td>1984</td>\n",
       "      <td>Europe</td>\n",
       "      <td>Western Europe</td>\n",
       "      <td>Western Europe</td>\n",
       "      <td>47.849642</td>\n",
       "      <td>12.102591</td>\n",
       "    </tr>\n",
       "    <tr>\n",
       "      <td>4</td>\n",
       "      <td>6</td>\n",
       "      <td>349979</td>\n",
       "      <td>2833</td>\n",
       "      <td>Germany</td>\n",
       "      <td>1</td>\n",
       "      <td>1</td>\n",
       "      <td>41.393425</td>\n",
       "      <td>0.793425</td>\n",
       "      <td>0.793425</td>\n",
       "      <td>['1998.08.11']</td>\n",
       "      <td>[0.793425]</td>\n",
       "      <td>[41.393425]</td>\n",
       "      <td>1998</td>\n",
       "      <td>Europe</td>\n",
       "      <td>Western Europe</td>\n",
       "      <td>Western Europe</td>\n",
       "      <td>47.849642</td>\n",
       "      <td>12.102591</td>\n",
       "    </tr>\n",
       "  </tbody>\n",
       "</table>\n",
       "</div>"
      ],
      "text/plain": [
       "   Unnamed: 0  Event_ID  ID_HDC_G0 CTR_MN_NM  total_days  duration   avg_temp  \\\n",
       "0           0         1       2784   Germany           1         1  44.459750   \n",
       "1           2    763005       2784   Germany           1         1  40.658337   \n",
       "2           3         4       2833   Germany           1         1  47.493180   \n",
       "3           5     22703       2833   Germany           1         1  41.787350   \n",
       "4           6    349979       2833   Germany           1         1  41.393425   \n",
       "\n",
       "   avg_intensity  tot_intensity     event_dates   intensity         tmax  \\\n",
       "0       3.859750       3.859750  ['1983.07.27']   [3.85975]   [44.45975]   \n",
       "1       0.058337       0.058337  ['2013.08.06']  [0.058337]  [40.658337]   \n",
       "2       6.893180       6.893180  ['1983.07.27']   [6.89318]   [47.49318]   \n",
       "3       1.187350       1.187350  ['1984.07.11']   [1.18735]   [41.78735]   \n",
       "4       0.793425       0.793425  ['1998.08.11']  [0.793425]  [41.393425]   \n",
       "\n",
       "   year  region      sub-region intermediate-region  GCPNT_LAT  GCPNT_LON  \n",
       "0  1983  Europe  Western Europe      Western Europe  48.138002  11.563435  \n",
       "1  2013  Europe  Western Europe      Western Europe  48.138002  11.563435  \n",
       "2  1983  Europe  Western Europe      Western Europe  47.849642  12.102591  \n",
       "3  1984  Europe  Western Europe      Western Europe  47.849642  12.102591  \n",
       "4  1998  Europe  Western Europe      Western Europe  47.849642  12.102591  "
      ]
     },
     "execution_count": 12,
     "metadata": {},
     "output_type": "execute_result"
    }
   ],
   "source": [
    "events.head()"
   ]
  },
  {
   "cell_type": "code",
   "execution_count": 13,
   "metadata": {},
   "outputs": [],
   "source": [
    "# events.to_csv('/home/cascade/projects/data_out_urbanheat/All_data20191107.csv')"
   ]
  },
  {
   "cell_type": "markdown",
   "metadata": {},
   "source": [
    "# OLD CODE"
   ]
  },
  {
   "cell_type": "code",
   "execution_count": null,
   "metadata": {},
   "outputs": [],
   "source": [
    "# Rename countries\n",
    "\n",
    "countries.name = countries.name.replace('Bolivia (Plurinational State of)', 'Bolivia')\n",
    "countries.name = countries.name.replace('Côte d\\'Ivoire', 'CÃ´te d\\'Ivoire')\n",
    "countries.name = countries.name.replace('Iran (Islamic Republic of)','Iran')\n",
    "countries.name = countries.name.replace('Tanzania, United Republic of','Tanzania')\n",
    "countries.name = countries.name.replace('United States of America','United States')\n",
    "countries.name = countries.name.replace('Venezuela (Bolivarian Republic of)','United States')\n",
    "countries.name = countries.name.replace('Korea (Democratic People\\'s Republic of)','North Korea')\n",
    "countries.name = countries.name.replace('Korea, Republic of','South Korea')\n",
    "countries.name = countries.name.replace('Lao People\\'s Democratic Republic','Laos')\n",
    "countries.name = countries.name.replace('Syrian Arab Republic','Syria')\n",
    "countries.name = countries.name.replace('Palestine, State of','Palestina')\n",
    "countries.name = countries.name.replace('Congo, Democratic Republic of the','Democratic Republic of the Congo')\n",
    "countries.name = countries.name.replace('Russian Federation','Russia')\n",
    "countries.name = countries.name.replace('Congo','Republic of Congo')\n",
    "\n",
    "\n",
    "# {'Kosovo', 'Macedonia', 'Swaziland', 'Venezuela', 'Vietnam'}\n",
    "# Kosovo, Europe, Southern Europe, NaN\n",
    "# Macedonia, Europe, Southern Europe, NaN\n",
    "# Swaziland, Africa, Sub-Saharan, Africa, Southern Africa\n",
    "# Venezuela Americas, Latin America and the Caribbean, South America\n",
    "# Vietnam, Asia, South-eastern Asia, NaN\n"
   ]
  },
  {
   "cell_type": "code",
   "execution_count": null,
   "metadata": {},
   "outputs": [],
   "source": [
    "# Get Regions\n",
    "\n",
    "regions = pd.DataFrame()\n",
    "regions['CTR_MN_NM'] = countries['name']\n",
    "regions['region'] = countries['region']\n",
    "regions['sub-region'] = countries['sub-region']\n",
    "regions['intermediate-region'] = countries['intermediate-region']\n",
    "\n",
    "ghs_cnt = pd.DataFrame()\n",
    "ghs_cnt['ID_HDC_G0'] = ghs['ID_HDC_G0']\n",
    "ghs_cnt['CTR_MN_NM'] = ghs['CTR_MN_NM']"
   ]
  },
  {
   "cell_type": "code",
   "execution_count": null,
   "metadata": {
    "scrolled": true
   },
   "outputs": [],
   "source": [
    "print(ghs_cnt.shape)\n",
    "merge = ghs_cnt.merge(regions, on = 'CTR_MN_NM', how = 'left')\n",
    "\n",
    "print(merge.shape)"
   ]
  },
  {
   "cell_type": "code",
   "execution_count": null,
   "metadata": {},
   "outputs": [],
   "source": []
  },
  {
   "cell_type": "code",
   "execution_count": null,
   "metadata": {},
   "outputs": [],
   "source": []
  },
  {
   "cell_type": "code",
   "execution_count": null,
   "metadata": {},
   "outputs": [],
   "source": [
    "merge = ghs_cnt"
   ]
  },
  {
   "cell_type": "markdown",
   "metadata": {},
   "source": [
    "## Match lat/lon with events"
   ]
  },
  {
   "cell_type": "code",
   "execution_count": null,
   "metadata": {
    "scrolled": true
   },
   "outputs": [],
   "source": [
    "events.head()"
   ]
  },
  {
   "cell_type": "code",
   "execution_count": null,
   "metadata": {
    "scrolled": true
   },
   "outputs": [],
   "source": [
    "events.shape"
   ]
  },
  {
   "cell_type": "code",
   "execution_count": null,
   "metadata": {},
   "outputs": [],
   "source": [
    "ghs.head()\n",
    "\n",
    "df = pd.DataFrame()\n",
    "df['ID_HDC_G0'] = ghs['ID_HDC_G0']\n",
    "df['GCPNT_LAT'] = ghs['GCPNT_LAT']\n",
    "df['GCPNT_LON'] = ghs['GCPNT_LON']\n",
    "\n",
    "events = events.merge(df, on = 'ID_HDC_G0', how = 'inner')"
   ]
  },
  {
   "cell_type": "code",
   "execution_count": null,
   "metadata": {
    "scrolled": true
   },
   "outputs": [],
   "source": [
    "events.shape"
   ]
  },
  {
   "cell_type": "code",
   "execution_count": null,
   "metadata": {},
   "outputs": [],
   "source": [
    "## Match countries and regions"
   ]
  },
  {
   "cell_type": "code",
   "execution_count": null,
   "metadata": {},
   "outputs": [],
   "source": [
    "ghs_names = list(np.unique(ghs.CTR_MN_NM))"
   ]
  },
  {
   "cell_type": "code",
   "execution_count": null,
   "metadata": {
    "scrolled": true
   },
   "outputs": [],
   "source": [
    "cnt_names = list(np.unique(countries.name))"
   ]
  },
  {
   "cell_type": "code",
   "execution_count": null,
   "metadata": {},
   "outputs": [],
   "source": [
    "# reset country names\n",
    "cnt_names"
   ]
  },
  {
   "cell_type": "code",
   "execution_count": null,
   "metadata": {},
   "outputs": [],
   "source": [
    "c = set(ghs_names) & set(cnt_names)"
   ]
  },
  {
   "cell_type": "code",
   "execution_count": null,
   "metadata": {},
   "outputs": [],
   "source": [
    "print(len(c))\n",
    "print(len(ghs_names))"
   ]
  },
  {
   "cell_type": "code",
   "execution_count": null,
   "metadata": {
    "scrolled": true
   },
   "outputs": [],
   "source": [
    "missing = set(ghs_names) - (c)\n",
    "missing"
   ]
  },
  {
   "cell_type": "code",
   "execution_count": null,
   "metadata": {},
   "outputs": [],
   "source": [
    "# Rename countries\n",
    "\n",
    "countries[countries['name'] == 'Bolivia (Plurinational State of)'] = 'Bolivia'\n",
    "countries[countries['name'] == 'Côte d\\'Ivoire'] = 'CÃ´te d\\'Ivoire'\n",
    "countries[countries['name'] == 'Iran (Islamic Republic of)'] = 'Iran'\n",
    "countries[countries['name'] == 'Tanzania, United Republic of'] = 'Tanzania'\n",
    "countries[countries['name'] == 'United States of America'] = 'United States'\n",
    "countries[countries['name'] == 'Venezuela (Bolivarian Republic of)'] = 'United States'\n",
    "countries[countries['name'] == 'Korea (Democratic People\\'s Republic of)'] = 'North Korea'\n",
    "countries[countries['name'] == 'Korea, Republic of'] = 'South Korea'\n",
    "countries[countries['name'] == 'Lao People\\'s Democratic Republic'] = 'Laos'\n",
    "countries[countries['name'] == 'Syrian Arab Republic'] = 'Syria'\n",
    "countries[countries['name'] == 'Palestine, State of'] = 'Palestina'\n",
    "countries[countries['name'] == 'Congo, Democratic Republic of the'] = 'Democratic Republic of the Congo'\n",
    "countries[countries['name'] == 'Russian Federation'] = 'Russia'\n",
    "countries[countries['name'] == 'Congo'] = 'Republic of Congo'\n",
    "\n",
    "\n",
    "# {'Kosovo', 'Macedonia', 'Swaziland', 'Venezuela', 'Vietnam'}"
   ]
  },
  {
   "cell_type": "code",
   "execution_count": null,
   "metadata": {
    "scrolled": true
   },
   "outputs": [],
   "source": [
    "countries"
   ]
  },
  {
   "cell_type": "code",
   "execution_count": null,
   "metadata": {
    "scrolled": true
   },
   "outputs": [],
   "source": [
    "# Add region column\n",
    "\n",
    "# events['region'] = 'NAN'\n",
    "\n",
    "# for i, event in events.iterrows():\n",
    "#     for j, country in countries.iterrows():\n",
    "#         if event['CTR_MN_NM'] == country['name']:\n",
    "#             if country['intermediate-region'] == 'NaN':\n",
    "#                 event['region'] == country['sub-region']\n",
    "#             else:\n",
    "#                 event['region'] == country['intermediate-region']\n",
    "\n",
    "regions = pd.DataFrame()\n",
    "\n",
    "regions['CTR_MN_NM'] = countries['name']\n",
    "regions['region'] = countries['region']\n",
    "regions['sub-region'] = countries['sub-region']\n",
    "regions['intermediate-region'] = countries['intermediate-region']\n",
    "\n",
    "regions"
   ]
  },
  {
   "cell_type": "code",
   "execution_count": null,
   "metadata": {},
   "outputs": [],
   "source": [
    "sub = events[0:1000]\n",
    "merge = sub.merge(regions, on = 'CTR_MN_NM', how = 'inner')"
   ]
  },
  {
   "cell_type": "code",
   "execution_count": null,
   "metadata": {},
   "outputs": [],
   "source": [
    "merge.tail()"
   ]
  }
 ],
 "metadata": {
  "kernelspec": {
   "display_name": "geo",
   "language": "python",
   "name": "geo"
  },
  "language_info": {
   "codemirror_mode": {
    "name": "ipython",
    "version": 3
   },
   "file_extension": ".py",
   "mimetype": "text/x-python",
   "name": "python",
   "nbconvert_exporter": "python",
   "pygments_lexer": "ipython3",
   "version": "3.6.7"
  }
 },
 "nbformat": 4,
 "nbformat_minor": 2
}
