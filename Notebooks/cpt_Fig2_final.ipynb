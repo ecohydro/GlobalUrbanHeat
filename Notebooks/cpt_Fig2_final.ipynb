{
 "cells": [
  {
   "cell_type": "markdown",
   "metadata": {},
   "source": [
    "# Figure 2 Final\n",
    "\n",
    "Notebook to make figure 2 for ms <br>\n",
    "by Cascade Tuholske 2020.02.23"
   ]
  },
  {
   "cell_type": "code",
   "execution_count": 1,
   "metadata": {},
   "outputs": [],
   "source": [
    "#### Depdencies \n",
    "import pandas as pd\n",
    "import numpy as np\n",
    "import geopandas as gpd\n",
    "import matplotlib.pyplot as plt\n",
    "import statsmodels.api as sm\n",
    "import seaborn as sns\n",
    "from scipy.optimize import fmin\n",
    "from scipy.stats import beta\n",
    "from scipy.special import gamma as gammaf\n",
    "import scipy\n"
   ]
  },
  {
   "cell_type": "code",
   "execution_count": 2,
   "metadata": {},
   "outputs": [],
   "source": [
    "#### Functions\n",
    "def OLS(df, geog, col, alpha):\n",
    "    \n",
    "    \"\"\"Finds linear coef for increase in stat by a given geography from 1983 - 2016, as well\n",
    "    as the pct change in population of the cities within the given geography\n",
    "    \n",
    "    \n",
    "    Args:\n",
    "        df = HI stats dataframe\n",
    "        geog = subset geography to calc people days regression\n",
    "        col = col to regress on \n",
    "        alpha = ci alpha for coef \n",
    "    \"\"\"\n",
    "\n",
    "    # Get results\n",
    "    labels = []\n",
    "    #delt_list = [] #CPT 2020.02.26\n",
    "    #r2_list = [] #CPT 2020.02.26\n",
    "    coef_list = []\n",
    "    leftci_list = []\n",
    "    rightci_list = []\n",
    "    p_list = []\n",
    "    df_out = pd.DataFrame()\n",
    "\n",
    "    for label, df_geog in df.groupby(geog):\n",
    "\n",
    "        # Get Data\n",
    "        X_year = np.array(df_geog.groupby('year')['ID_HDC_G0'].mean().index).reshape((-1, 1))\n",
    "        Y_stats = np.array(df_geog.groupby('year')[col].sum()).reshape((-1, 1))\n",
    "\n",
    "        # Add Intercept\n",
    "        X_year_2 = sm.add_constant(X_year)\n",
    "\n",
    "        # Regress\n",
    "        model = sm.OLS(Y_stats, X_year_2).fit() \n",
    "        \n",
    "        # Get slope\n",
    "        # first param in intercept coef, second is slope of line but if slope = 0, then intecept\n",
    "        if len(model.params) == 2:\n",
    "            coef = model.params[1]\n",
    "            \n",
    "        else:\n",
    "            coef = model.params[0]\n",
    "        \n",
    "        # R2 and P\n",
    "        #r2 = model.rsquared_adj #CPT 2020.02.26\n",
    "        p = model.pvalues[0]\n",
    "\n",
    "        # Pop change #CPT 2020.02.26\n",
    "#         delt = df_geog.drop_duplicates('ID_HDC_G0').copy()\n",
    "#         delt['delt_pop'] = delt['P2016'] - delt['P1983']\n",
    "#         delt = delt['delt_pop'].sum()\n",
    "\n",
    "        # GET Left and Right CI\n",
    "        left_ci = model.conf_int(alpha=alpha)[1][0]\n",
    "        right_ci = model.conf_int(alpha=alpha)[1][1]\n",
    "        \n",
    "        # Make lists\n",
    "        labels.append(label)\n",
    "        #r2_list.append(r2) #CPT 2020.02.26\n",
    "        coef_list.append(coef)\n",
    "        p_list.append(p)\n",
    "        leftci_list.append(left_ci)\n",
    "        rightci_list.append(right_ci)\n",
    "        #delt_list.append(delt) #CPT 2020.02.26\n",
    "\n",
    "    # Make data frame\n",
    "    df_out[geog] = labels\n",
    "    #df_out['p_delt'] = delt_list #CPT 2020.02.26\n",
    "    #df_out['r2'] = r2_list #CPT 2020.02.26\n",
    "    df_out['coef'] = coef_list\n",
    "    df_out['p_value'] = [round(elem, 4) for elem in p_list]\n",
    "    df_out['ci_left'] = leftci_list\n",
    "    df_out['ci_right'] = rightci_list \n",
    "\n",
    "    return df_out\n"
   ]
  },
  {
   "cell_type": "code",
   "execution_count": 3,
   "metadata": {},
   "outputs": [],
   "source": [
    "def run_OLS(stats, geog, alpha):\n",
    "    \"\"\" Function calculate OLS coef of people days due to pop and heat and the \n",
    "    attribution index for distribution plots\n",
    "    \n",
    "    Args:\n",
    "        stats = df to feed in\n",
    "        geog = geography level to conduct analysis (city-level is 'ID-HDC-G0')\n",
    "        alpha = alpha for CI coef \n",
    "    \n",
    "    \"\"\"\n",
    "    # Get coef for people days\n",
    "    out = OLS(stats, geog, 'people_days', alpha = alpha)\n",
    "    out.rename(columns={\"coef\": \"coef_pdays\"}, inplace = True)\n",
    "    out.rename(columns={\"p_value\": \"p_value_pdays\"}, inplace = True)\n",
    "    out.rename(columns={\"ci_left\": \"ci_left_pdays\"}, inplace = True)\n",
    "    out.rename(columns={\"ci_right\": \"ci_right_pdays\"}, inplace = True)\n",
    "    \n",
    "    # Get people days due to heat coef\n",
    "    heat = OLS(stats, geog, 'people_days_heat', alpha = alpha) # get stats \n",
    "    heat.rename(columns={\"coef\": \"coef_heat\"}, inplace = True)\n",
    "    heat.rename(columns={\"p_value\": \"p_value_heat\"}, inplace = True)\n",
    "    heat.rename(columns={\"ci_left\": \"ci_left_heat\"}, inplace = True)\n",
    "    heat.rename(columns={\"ci_right\": \"ci_right_heat\"}, inplace = True)\n",
    "    out = out.merge(heat, on = geog, how = 'left') # merge\n",
    "    \n",
    "    # Get people days due to pop\n",
    "    pop = OLS(stats, geog, 'people_days_pop', alpha = alpha) # get stats \n",
    "    pop.rename(columns={\"coef\": \"coef_pop\"}, inplace = True)\n",
    "    pop.rename(columns={\"p_value\": \"p_value_pop\"}, inplace = True)\n",
    "    pop.rename(columns={\"ci_left\": \"ci_left_pop\"}, inplace = True)\n",
    "    pop.rename(columns={\"ci_right\": \"ci_right_pop\"}, inplace = True)\n",
    "    out = out.merge(pop, on = geog, how = 'left') # merge\n",
    "    \n",
    "    # Get total days\n",
    "    totDays = OLS(stats, geog, 'total_days', alpha = alpha) # get stats \n",
    "    totDays.rename(columns={\"coef\": \"coef_totDays\"}, inplace = True)\n",
    "    totDays.rename(columns={\"p_value\": \"p_value_totDays\"}, inplace = True)\n",
    "    totDays.rename(columns={\"ci_left\": \"ci_left_totDays\"}, inplace = True)\n",
    "    totDays.rename(columns={\"ci_right\": \"ci_right_totDays\"}, inplace = True)\n",
    "    out = out.merge(totDays, on = geog, how = 'left') # merge\n",
    "    \n",
    "    # attrib coef --- creates range -1 to 1 index of heat vs. population as a driver of total pdays increase\n",
    "    out['coef_attrib'] = (out['coef_pop'] - out['coef_heat']) / (out['coef_pop'] + out['coef_heat']) # normalize dif\n",
    "    \n",
    "    # I am not sure if this works correcetly ... CPT 2020.02.27\n",
    "    out['coef_attrib_left'] = (out['ci_left_pop'] - out['ci_left_heat']) / (out['ci_left_pop'] + out['ci_left_heat']) # normalize dif\n",
    "    out['coef_attrib_right'] = (out['ci_right_pop'] - out['ci_right_heat']) / (out['ci_right_pop'] + out['ci_left_heat']) # normalize dif\n",
    "    \n",
    "    # drop all neg or zero pday slopes\n",
    "    out = out[out['coef_pdays'] > 0]\n",
    "    out = out[out['coef_heat'] > 0]\n",
    "    out = out[out['coef_pop'] > 0]\n",
    "    \n",
    "    # normalize coef of attribution \n",
    "    norm = out['coef_attrib']\n",
    "    out['coef_attrib_norm'] = (norm-min(norm))/(max(norm)-min(norm))\n",
    "    norm = out['coef_attrib_left']\n",
    "    out['coef_attrib_norm_left'] = (norm-min(norm))/(max(norm)-min(norm))\n",
    "    norm = out['coef_attrib_right']\n",
    "    out['coef_attrib_norm_right'] = (norm-min(norm))/(max(norm)-min(norm))\n",
    "    \n",
    "    return out"
   ]
  },
  {
   "cell_type": "code",
   "execution_count": 43,
   "metadata": {},
   "outputs": [],
   "source": [
    "def beta_fit(data):\n",
    "    \n",
    "    \"\"\"Function fits a beta distribution curve basde on these using scipy beta.fit\n",
    "    https://stackoverflow.com/questions/23329331/how-to-properly-fit-a-beta-distribution-in-python\n",
    "    https://stats.stackexchange.com/questions/414277/fitting-beta-distributions-to-data\n",
    "    \n",
    "    Args: Normalized data that we want to put together \n",
    "    \"\"\"\n",
    " \n",
    "    #### Fit Data\n",
    "    alpha3,beta3,xx,yy=beta.fit(data, loc = 0, scale = 1)\n",
    "    fitted=lambda x,a,b:gammaf(a+b)/gammaf(a)/gammaf(b)*x**(a-1)*(1-x)**(b-1) #pdf of beta\n",
    "\n",
    "    xx=np.linspace(0,max(data),len(data)) # line space of X\n",
    "    xx = xx[1:] # drop first value of zero because it makes plot look funky\n",
    "    yy = fitted(xx,alpha3,beta3) # fit values to beta pdf function\n",
    "    \n",
    "    return xx, yy"
   ]
  },
  {
   "cell_type": "code",
   "execution_count": 195,
   "metadata": {},
   "outputs": [],
   "source": [
    "def beta_mle(data):\n",
    "        \n",
    "    \"\"\"Function fits a beta distribution curve basde on these using moments\n",
    "    https://stackoverflow.com/questions/23329331/how-to-properly-fit-a-beta-distribution-in-python\n",
    "    https://stats.stackexchange.com/questions/414277/fitting-beta-distributions-to-data\n",
    "    \n",
    "    Args: Normalized data that we want to put together \n",
    "    \"\"\"\n",
    "    \n",
    "    mean=np.mean(data)\n",
    "    var=np.var(data,ddof=1)\n",
    "    alpha1=mean**2*(1-mean)/var-mean\n",
    "    beta1=alpha1*(1-mean)/mean\n",
    "    \n",
    "    xx=np.linspace(0,max(data),len(data)) # line space of X\n",
    "    xx = xx[1:] # drop first value of zero because it makes plot look funky\n",
    "    yy = fitted(xx,alpha3,beta3) # fit values to beta pdf function"
   ]
  },
  {
   "cell_type": "markdown",
   "metadata": {},
   "source": [
    "# LOAD DATA"
   ]
  },
  {
   "cell_type": "code",
   "execution_count": 4,
   "metadata": {},
   "outputs": [],
   "source": [
    "#### Load Data\n",
    "# file path\n",
    "DATA_IN = \"/home/cascade/projects/UrbanHeat/data/\"  # Note: Need ?dl=1 to make sure this file gets read correctly\n",
    "FIG_OUT = \"/home/cascade/projects/UrbanHeat/figures/\"\n",
    "\n",
    "# Raw Heat\n",
    "FN_IN = 'processed/All_data_HI406_figdata.csv'\n",
    "HI_STATS = pd.read_csv(DATA_IN+FN_IN)\n",
    "\n",
    "# scale the date in the plot \n",
    "scale = 10**9 "
   ]
  },
  {
   "cell_type": "code",
   "execution_count": 5,
   "metadata": {},
   "outputs": [
    {
     "data": {
      "text/html": [
       "<div>\n",
       "<style scoped>\n",
       "    .dataframe tbody tr th:only-of-type {\n",
       "        vertical-align: middle;\n",
       "    }\n",
       "\n",
       "    .dataframe tbody tr th {\n",
       "        vertical-align: top;\n",
       "    }\n",
       "\n",
       "    .dataframe thead th {\n",
       "        text-align: right;\n",
       "    }\n",
       "</style>\n",
       "<table border=\"1\" class=\"dataframe\">\n",
       "  <thead>\n",
       "    <tr style=\"text-align: right;\">\n",
       "      <th></th>\n",
       "      <th>Unnamed: 0</th>\n",
       "      <th>ID_HDC_G0</th>\n",
       "      <th>year</th>\n",
       "      <th>total_days</th>\n",
       "      <th>P</th>\n",
       "      <th>P1983</th>\n",
       "      <th>P2016</th>\n",
       "      <th>people_days</th>\n",
       "      <th>people_days_heat</th>\n",
       "      <th>people_days_pop</th>\n",
       "    </tr>\n",
       "  </thead>\n",
       "  <tbody>\n",
       "    <tr>\n",
       "      <td>0</td>\n",
       "      <td>0</td>\n",
       "      <td>22</td>\n",
       "      <td>1983</td>\n",
       "      <td>2</td>\n",
       "      <td>52064.452435</td>\n",
       "      <td>52064.452435</td>\n",
       "      <td>73006.671133</td>\n",
       "      <td>0.000104</td>\n",
       "      <td>0.000104</td>\n",
       "      <td>0.0</td>\n",
       "    </tr>\n",
       "    <tr>\n",
       "      <td>1</td>\n",
       "      <td>1</td>\n",
       "      <td>26</td>\n",
       "      <td>1983</td>\n",
       "      <td>1</td>\n",
       "      <td>194088.886834</td>\n",
       "      <td>194088.886834</td>\n",
       "      <td>268055.635628</td>\n",
       "      <td>0.000194</td>\n",
       "      <td>0.000194</td>\n",
       "      <td>0.0</td>\n",
       "    </tr>\n",
       "    <tr>\n",
       "      <td>2</td>\n",
       "      <td>2</td>\n",
       "      <td>27</td>\n",
       "      <td>1983</td>\n",
       "      <td>1</td>\n",
       "      <td>80540.779940</td>\n",
       "      <td>80540.779940</td>\n",
       "      <td>93335.494324</td>\n",
       "      <td>0.000081</td>\n",
       "      <td>0.000081</td>\n",
       "      <td>0.0</td>\n",
       "    </tr>\n",
       "    <tr>\n",
       "      <td>3</td>\n",
       "      <td>3</td>\n",
       "      <td>28</td>\n",
       "      <td>1983</td>\n",
       "      <td>9</td>\n",
       "      <td>59320.971209</td>\n",
       "      <td>59320.971209</td>\n",
       "      <td>91449.606255</td>\n",
       "      <td>0.000534</td>\n",
       "      <td>0.000534</td>\n",
       "      <td>0.0</td>\n",
       "    </tr>\n",
       "    <tr>\n",
       "      <td>4</td>\n",
       "      <td>4</td>\n",
       "      <td>29</td>\n",
       "      <td>1983</td>\n",
       "      <td>8</td>\n",
       "      <td>336518.836621</td>\n",
       "      <td>336518.836621</td>\n",
       "      <td>533318.453653</td>\n",
       "      <td>0.002692</td>\n",
       "      <td>0.002692</td>\n",
       "      <td>0.0</td>\n",
       "    </tr>\n",
       "  </tbody>\n",
       "</table>\n",
       "</div>"
      ],
      "text/plain": [
       "   Unnamed: 0  ID_HDC_G0  year  total_days              P          P1983  \\\n",
       "0           0         22  1983           2   52064.452435   52064.452435   \n",
       "1           1         26  1983           1  194088.886834  194088.886834   \n",
       "2           2         27  1983           1   80540.779940   80540.779940   \n",
       "3           3         28  1983           9   59320.971209   59320.971209   \n",
       "4           4         29  1983           8  336518.836621  336518.836621   \n",
       "\n",
       "           P2016  people_days  people_days_heat  people_days_pop  \n",
       "0   73006.671133     0.000104          0.000104              0.0  \n",
       "1  268055.635628     0.000194          0.000194              0.0  \n",
       "2   93335.494324     0.000081          0.000081              0.0  \n",
       "3   91449.606255     0.000534          0.000534              0.0  \n",
       "4  533318.453653     0.002692          0.002692              0.0  "
      ]
     },
     "execution_count": 5,
     "metadata": {},
     "output_type": "execute_result"
    }
   ],
   "source": [
    "HI_STATS.head()"
   ]
  },
  {
   "cell_type": "code",
   "execution_count": 6,
   "metadata": {},
   "outputs": [],
   "source": [
    "# cols we want to add to HI_STATS\n",
    "cols = ['region', 'intermediate-region', 'sub-region','CTR_MN_NM', 'ID_HDC_G0'] \n",
    "\n",
    "# open all the data\n",
    "meta_fn = 'processed/All_data_HI406_meta.csv' # open all the data\n",
    "all_data = pd.read_csv(DATA_IN+meta_fn)\n",
    "\n",
    "# drop ID duplicates\n",
    "meta = all_data.drop_duplicates('ID_HDC_G0')\n",
    "meta = meta[cols]"
   ]
  },
  {
   "cell_type": "code",
   "execution_count": 7,
   "metadata": {},
   "outputs": [
    {
     "name": "stdout",
     "output_type": "stream",
     "text": [
      "5616932\n",
      "11558\n",
      "392972\n",
      "11558\n"
     ]
    }
   ],
   "source": [
    "print(len(all_data))\n",
    "print(len(all_data.drop_duplicates('ID_HDC_G0')))\n",
    "print(len(HI_STATS))\n",
    "print(len(meta))"
   ]
  },
  {
   "cell_type": "code",
   "execution_count": 45,
   "metadata": {},
   "outputs": [
    {
     "name": "stdout",
     "output_type": "stream",
     "text": [
      "how long is heat stats? 392972\n"
     ]
    },
    {
     "data": {
      "text/html": [
       "<div>\n",
       "<style scoped>\n",
       "    .dataframe tbody tr th:only-of-type {\n",
       "        vertical-align: middle;\n",
       "    }\n",
       "\n",
       "    .dataframe tbody tr th {\n",
       "        vertical-align: top;\n",
       "    }\n",
       "\n",
       "    .dataframe thead th {\n",
       "        text-align: right;\n",
       "    }\n",
       "</style>\n",
       "<table border=\"1\" class=\"dataframe\">\n",
       "  <thead>\n",
       "    <tr style=\"text-align: right;\">\n",
       "      <th></th>\n",
       "      <th>Unnamed: 0</th>\n",
       "      <th>ID_HDC_G0</th>\n",
       "      <th>year</th>\n",
       "      <th>total_days</th>\n",
       "      <th>P</th>\n",
       "      <th>P1983</th>\n",
       "      <th>P2016</th>\n",
       "      <th>people_days</th>\n",
       "      <th>people_days_heat</th>\n",
       "      <th>people_days_pop</th>\n",
       "      <th>...</th>\n",
       "      <th>sub-region_x</th>\n",
       "      <th>CTR_MN_NM_x</th>\n",
       "      <th>region_y</th>\n",
       "      <th>intermediate-region_y</th>\n",
       "      <th>sub-region_y</th>\n",
       "      <th>CTR_MN_NM_y</th>\n",
       "      <th>region</th>\n",
       "      <th>intermediate-region</th>\n",
       "      <th>sub-region</th>\n",
       "      <th>CTR_MN_NM</th>\n",
       "    </tr>\n",
       "  </thead>\n",
       "  <tbody>\n",
       "    <tr>\n",
       "      <td>0</td>\n",
       "      <td>0</td>\n",
       "      <td>22</td>\n",
       "      <td>1983</td>\n",
       "      <td>2</td>\n",
       "      <td>52064.452435</td>\n",
       "      <td>52064.452435</td>\n",
       "      <td>73006.671133</td>\n",
       "      <td>0.000104</td>\n",
       "      <td>0.000104</td>\n",
       "      <td>0.000000</td>\n",
       "      <td>...</td>\n",
       "      <td>Northern America</td>\n",
       "      <td>United States</td>\n",
       "      <td>Americas</td>\n",
       "      <td>Northern America</td>\n",
       "      <td>Northern America</td>\n",
       "      <td>United States</td>\n",
       "      <td>Americas</td>\n",
       "      <td>Northern America</td>\n",
       "      <td>Northern America</td>\n",
       "      <td>United States</td>\n",
       "    </tr>\n",
       "    <tr>\n",
       "      <td>1</td>\n",
       "      <td>10112</td>\n",
       "      <td>22</td>\n",
       "      <td>1984</td>\n",
       "      <td>1</td>\n",
       "      <td>53373.163358</td>\n",
       "      <td>52064.452435</td>\n",
       "      <td>73006.671133</td>\n",
       "      <td>0.000053</td>\n",
       "      <td>0.000052</td>\n",
       "      <td>0.000001</td>\n",
       "      <td>...</td>\n",
       "      <td>Northern America</td>\n",
       "      <td>United States</td>\n",
       "      <td>Americas</td>\n",
       "      <td>Northern America</td>\n",
       "      <td>Northern America</td>\n",
       "      <td>United States</td>\n",
       "      <td>Americas</td>\n",
       "      <td>Northern America</td>\n",
       "      <td>Northern America</td>\n",
       "      <td>United States</td>\n",
       "    </tr>\n",
       "  </tbody>\n",
       "</table>\n",
       "<p>2 rows × 22 columns</p>\n",
       "</div>"
      ],
      "text/plain": [
       "   Unnamed: 0  ID_HDC_G0  year  total_days             P         P1983  \\\n",
       "0           0         22  1983           2  52064.452435  52064.452435   \n",
       "1       10112         22  1984           1  53373.163358  52064.452435   \n",
       "\n",
       "          P2016  people_days  people_days_heat  people_days_pop  ...  \\\n",
       "0  73006.671133     0.000104          0.000104         0.000000  ...   \n",
       "1  73006.671133     0.000053          0.000052         0.000001  ...   \n",
       "\n",
       "       sub-region_x    CTR_MN_NM_x  region_y intermediate-region_y  \\\n",
       "0  Northern America  United States  Americas      Northern America   \n",
       "1  Northern America  United States  Americas      Northern America   \n",
       "\n",
       "       sub-region_y    CTR_MN_NM_y    region intermediate-region  \\\n",
       "0  Northern America  United States  Americas    Northern America   \n",
       "1  Northern America  United States  Americas    Northern America   \n",
       "\n",
       "         sub-region      CTR_MN_NM  \n",
       "0  Northern America  United States  \n",
       "1  Northern America  United States  \n",
       "\n",
       "[2 rows x 22 columns]"
      ]
     },
     "execution_count": 45,
     "metadata": {},
     "output_type": "execute_result"
    }
   ],
   "source": [
    "HI_STATS = HI_STATS.merge(meta, on = 'ID_HDC_G0', how = 'inner')\n",
    "print('how long is heat stats?',len(HI_STATS))\n",
    "HI_STATS.head(2)"
   ]
  },
  {
   "cell_type": "markdown",
   "metadata": {},
   "source": [
    "# TEST FUNCTIONS\n",
    "\n",
    "First time run_OLS it throws a warning, but if you run it again it is fine ...\n",
    "\n",
    "Beta fit for Western Asia throws an error because at some point python reduces a very large neg exp to zero and tries to divide"
   ]
  },
  {
   "cell_type": "code",
   "execution_count": 169,
   "metadata": {},
   "outputs": [],
   "source": [
    "#### Global\n",
    "geog = 'sub-region'\n",
    "loc = 'Western Asia'##>>>>>>>>>>>>>>>>>>>>>>>>>>>>>>>>>>> WHY 'Western Asia'\n",
    "chunk = HI_STATS[HI_STATS[geog] == loc]\n",
    "plotdata = run_OLS(chunk, 'ID_HDC_G0', alpha = 0.05)"
   ]
  },
  {
   "cell_type": "code",
   "execution_count": 170,
   "metadata": {},
   "outputs": [],
   "source": [
    "# drop all neg or zero pday slopes\n",
    "plotdata = plotdata[plotdata['coef_pdays'] > 0]\n",
    "plotdata = plotdata[plotdata['coef_heat'] > 0]\n",
    "plotdata = plotdata[plotdata['coef_pop'] > 0]\n",
    "    "
   ]
  },
  {
   "cell_type": "code",
   "execution_count": 171,
   "metadata": {
    "scrolled": false
   },
   "outputs": [
    {
     "name": "stderr",
     "output_type": "stream",
     "text": [
      "/home/cascade/miniconda3/envs/geo/lib/python3.6/site-packages/ipykernel_launcher.py:12: RuntimeWarning: invalid value encountered in double_scalars\n",
      "  if sys.path[0] == '':\n"
     ]
    }
   ],
   "source": [
    "# Try beta function`\n",
    "\n",
    "betadata = plotdata['coef_attrib_norm']\n",
    "WA_Beta = beta_fit(betadata)"
   ]
  },
  {
   "cell_type": "code",
   "execution_count": 172,
   "metadata": {},
   "outputs": [
    {
     "data": {
      "text/plain": [
       "array([0.        , 0.00143472, 0.00286944, 0.00430416, 0.00573888,\n",
       "       0.0071736 , 0.00860832, 0.01004304, 0.01147776, 0.01291248,\n",
       "       0.0143472 , 0.01578192, 0.01721664, 0.01865136, 0.02008608,\n",
       "       0.0215208 , 0.02295552, 0.02439024, 0.02582496, 0.02725968,\n",
       "       0.0286944 , 0.03012912, 0.03156385, 0.03299857, 0.03443329,\n",
       "       0.03586801, 0.03730273, 0.03873745, 0.04017217, 0.04160689,\n",
       "       0.04304161, 0.04447633, 0.04591105, 0.04734577, 0.04878049,\n",
       "       0.05021521, 0.05164993, 0.05308465, 0.05451937, 0.05595409,\n",
       "       0.05738881, 0.05882353, 0.06025825, 0.06169297, 0.06312769,\n",
       "       0.06456241, 0.06599713, 0.06743185, 0.06886657, 0.07030129,\n",
       "       0.07173601, 0.07317073, 0.07460545, 0.07604017, 0.07747489,\n",
       "       0.07890961, 0.08034433, 0.08177905, 0.08321377, 0.08464849,\n",
       "       0.08608321, 0.08751793, 0.08895265, 0.09038737, 0.09182209,\n",
       "       0.09325681, 0.09469154, 0.09612626, 0.09756098, 0.0989957 ,\n",
       "       0.10043042, 0.10186514, 0.10329986, 0.10473458, 0.1061693 ,\n",
       "       0.10760402, 0.10903874, 0.11047346, 0.11190818, 0.1133429 ,\n",
       "       0.11477762, 0.11621234, 0.11764706, 0.11908178, 0.1205165 ,\n",
       "       0.12195122, 0.12338594, 0.12482066, 0.12625538, 0.1276901 ,\n",
       "       0.12912482, 0.13055954, 0.13199426, 0.13342898, 0.1348637 ,\n",
       "       0.13629842, 0.13773314, 0.13916786, 0.14060258, 0.1420373 ,\n",
       "       0.14347202, 0.14490674, 0.14634146, 0.14777618, 0.1492109 ,\n",
       "       0.15064562, 0.15208034, 0.15351506, 0.15494978, 0.15638451,\n",
       "       0.15781923, 0.15925395, 0.16068867, 0.16212339, 0.16355811,\n",
       "       0.16499283, 0.16642755, 0.16786227, 0.16929699, 0.17073171,\n",
       "       0.17216643, 0.17360115, 0.17503587, 0.17647059, 0.17790531,\n",
       "       0.17934003, 0.18077475, 0.18220947, 0.18364419, 0.18507891,\n",
       "       0.18651363, 0.18794835, 0.18938307, 0.19081779, 0.19225251,\n",
       "       0.19368723, 0.19512195, 0.19655667, 0.19799139, 0.19942611,\n",
       "       0.20086083, 0.20229555, 0.20373027, 0.20516499, 0.20659971,\n",
       "       0.20803443, 0.20946915, 0.21090387, 0.21233859, 0.21377331,\n",
       "       0.21520803, 0.21664275, 0.21807747, 0.2195122 , 0.22094692,\n",
       "       0.22238164, 0.22381636, 0.22525108, 0.2266858 , 0.22812052,\n",
       "       0.22955524, 0.23098996, 0.23242468, 0.2338594 , 0.23529412,\n",
       "       0.23672884, 0.23816356, 0.23959828, 0.241033  , 0.24246772,\n",
       "       0.24390244, 0.24533716, 0.24677188, 0.2482066 , 0.24964132,\n",
       "       0.25107604, 0.25251076, 0.25394548, 0.2553802 , 0.25681492,\n",
       "       0.25824964, 0.25968436, 0.26111908, 0.2625538 , 0.26398852,\n",
       "       0.26542324, 0.26685796, 0.26829268, 0.2697274 , 0.27116212,\n",
       "       0.27259684, 0.27403156, 0.27546628, 0.276901  , 0.27833572,\n",
       "       0.27977044, 0.28120516, 0.28263989, 0.28407461, 0.28550933,\n",
       "       0.28694405, 0.28837877, 0.28981349, 0.29124821, 0.29268293,\n",
       "       0.29411765, 0.29555237, 0.29698709, 0.29842181, 0.29985653,\n",
       "       0.30129125, 0.30272597, 0.30416069, 0.30559541, 0.30703013,\n",
       "       0.30846485, 0.30989957, 0.31133429, 0.31276901, 0.31420373,\n",
       "       0.31563845, 0.31707317, 0.31850789, 0.31994261, 0.32137733,\n",
       "       0.32281205, 0.32424677, 0.32568149, 0.32711621, 0.32855093,\n",
       "       0.32998565, 0.33142037, 0.33285509, 0.33428981, 0.33572453,\n",
       "       0.33715925, 0.33859397, 0.34002869, 0.34146341, 0.34289813,\n",
       "       0.34433286, 0.34576758, 0.3472023 , 0.34863702, 0.35007174,\n",
       "       0.35150646, 0.35294118, 0.3543759 , 0.35581062, 0.35724534,\n",
       "       0.35868006, 0.36011478, 0.3615495 , 0.36298422, 0.36441894,\n",
       "       0.36585366, 0.36728838, 0.3687231 , 0.37015782, 0.37159254,\n",
       "       0.37302726, 0.37446198, 0.3758967 , 0.37733142, 0.37876614,\n",
       "       0.38020086, 0.38163558, 0.3830703 , 0.38450502, 0.38593974,\n",
       "       0.38737446, 0.38880918, 0.3902439 , 0.39167862, 0.39311334,\n",
       "       0.39454806, 0.39598278, 0.3974175 , 0.39885222, 0.40028694,\n",
       "       0.40172166, 0.40315638, 0.4045911 , 0.40602582, 0.40746055,\n",
       "       0.40889527, 0.41032999, 0.41176471, 0.41319943, 0.41463415,\n",
       "       0.41606887, 0.41750359, 0.41893831, 0.42037303, 0.42180775,\n",
       "       0.42324247, 0.42467719, 0.42611191, 0.42754663, 0.42898135,\n",
       "       0.43041607, 0.43185079, 0.43328551, 0.43472023, 0.43615495,\n",
       "       0.43758967, 0.43902439, 0.44045911, 0.44189383, 0.44332855,\n",
       "       0.44476327, 0.44619799, 0.44763271, 0.44906743, 0.45050215,\n",
       "       0.45193687, 0.45337159, 0.45480631, 0.45624103, 0.45767575,\n",
       "       0.45911047, 0.46054519, 0.46197991, 0.46341463, 0.46484935,\n",
       "       0.46628407, 0.46771879, 0.46915352, 0.47058824, 0.47202296,\n",
       "       0.47345768, 0.4748924 , 0.47632712, 0.47776184, 0.47919656,\n",
       "       0.48063128, 0.482066  , 0.48350072, 0.48493544, 0.48637016,\n",
       "       0.48780488, 0.4892396 , 0.49067432, 0.49210904, 0.49354376,\n",
       "       0.49497848, 0.4964132 , 0.49784792, 0.49928264, 0.50071736,\n",
       "       0.50215208, 0.5035868 , 0.50502152, 0.50645624, 0.50789096,\n",
       "       0.50932568, 0.5107604 , 0.51219512, 0.51362984, 0.51506456,\n",
       "       0.51649928, 0.517934  , 0.51936872, 0.52080344, 0.52223816,\n",
       "       0.52367288, 0.5251076 , 0.52654232, 0.52797704, 0.52941176,\n",
       "       0.53084648, 0.53228121, 0.53371593, 0.53515065, 0.53658537,\n",
       "       0.53802009, 0.53945481, 0.54088953, 0.54232425, 0.54375897,\n",
       "       0.54519369, 0.54662841, 0.54806313, 0.54949785, 0.55093257,\n",
       "       0.55236729, 0.55380201, 0.55523673, 0.55667145, 0.55810617,\n",
       "       0.55954089, 0.56097561, 0.56241033, 0.56384505, 0.56527977,\n",
       "       0.56671449, 0.56814921, 0.56958393, 0.57101865, 0.57245337,\n",
       "       0.57388809, 0.57532281, 0.57675753, 0.57819225, 0.57962697,\n",
       "       0.58106169, 0.58249641, 0.58393113, 0.58536585, 0.58680057,\n",
       "       0.58823529, 0.58967001, 0.59110473, 0.59253945, 0.59397418,\n",
       "       0.5954089 , 0.59684362, 0.59827834, 0.59971306, 0.60114778,\n",
       "       0.6025825 , 0.60401722, 0.60545194, 0.60688666, 0.60832138,\n",
       "       0.6097561 , 0.61119082, 0.61262554, 0.61406026, 0.61549498,\n",
       "       0.6169297 , 0.61836442, 0.61979914, 0.62123386, 0.62266858,\n",
       "       0.6241033 , 0.62553802, 0.62697274, 0.62840746, 0.62984218,\n",
       "       0.6312769 , 0.63271162, 0.63414634, 0.63558106, 0.63701578,\n",
       "       0.6384505 , 0.63988522, 0.64131994, 0.64275466, 0.64418938,\n",
       "       0.6456241 , 0.64705882, 0.64849354, 0.64992826, 0.65136298,\n",
       "       0.6527977 , 0.65423242, 0.65566714, 0.65710187, 0.65853659,\n",
       "       0.65997131, 0.66140603, 0.66284075, 0.66427547, 0.66571019,\n",
       "       0.66714491, 0.66857963, 0.67001435, 0.67144907, 0.67288379,\n",
       "       0.67431851, 0.67575323, 0.67718795, 0.67862267, 0.68005739,\n",
       "       0.68149211, 0.68292683, 0.68436155, 0.68579627, 0.68723099,\n",
       "       0.68866571, 0.69010043, 0.69153515, 0.69296987, 0.69440459,\n",
       "       0.69583931, 0.69727403, 0.69870875, 0.70014347, 0.70157819,\n",
       "       0.70301291, 0.70444763, 0.70588235, 0.70731707, 0.70875179,\n",
       "       0.71018651, 0.71162123, 0.71305595, 0.71449067, 0.71592539,\n",
       "       0.71736011, 0.71879484, 0.72022956, 0.72166428, 0.723099  ,\n",
       "       0.72453372, 0.72596844, 0.72740316, 0.72883788, 0.7302726 ,\n",
       "       0.73170732, 0.73314204, 0.73457676, 0.73601148, 0.7374462 ,\n",
       "       0.73888092, 0.74031564, 0.74175036, 0.74318508, 0.7446198 ,\n",
       "       0.74605452, 0.74748924, 0.74892396, 0.75035868, 0.7517934 ,\n",
       "       0.75322812, 0.75466284, 0.75609756, 0.75753228, 0.758967  ,\n",
       "       0.76040172, 0.76183644, 0.76327116, 0.76470588, 0.7661406 ,\n",
       "       0.76757532, 0.76901004, 0.77044476, 0.77187948, 0.7733142 ,\n",
       "       0.77474892, 0.77618364, 0.77761836, 0.77905308, 0.7804878 ,\n",
       "       0.78192253, 0.78335725, 0.78479197, 0.78622669, 0.78766141,\n",
       "       0.78909613, 0.79053085, 0.79196557, 0.79340029, 0.79483501,\n",
       "       0.79626973, 0.79770445, 0.79913917, 0.80057389, 0.80200861,\n",
       "       0.80344333, 0.80487805, 0.80631277, 0.80774749, 0.80918221,\n",
       "       0.81061693, 0.81205165, 0.81348637, 0.81492109, 0.81635581,\n",
       "       0.81779053, 0.81922525, 0.82065997, 0.82209469, 0.82352941,\n",
       "       0.82496413, 0.82639885, 0.82783357, 0.82926829, 0.83070301,\n",
       "       0.83213773, 0.83357245, 0.83500717, 0.83644189, 0.83787661,\n",
       "       0.83931133, 0.84074605, 0.84218077, 0.84361549, 0.84505022,\n",
       "       0.84648494, 0.84791966, 0.84935438, 0.8507891 , 0.85222382,\n",
       "       0.85365854, 0.85509326, 0.85652798, 0.8579627 , 0.85939742,\n",
       "       0.86083214, 0.86226686, 0.86370158, 0.8651363 , 0.86657102,\n",
       "       0.86800574, 0.86944046, 0.87087518, 0.8723099 , 0.87374462,\n",
       "       0.87517934, 0.87661406, 0.87804878, 0.8794835 , 0.88091822,\n",
       "       0.88235294, 0.88378766, 0.88522238, 0.8866571 , 0.88809182,\n",
       "       0.88952654, 0.89096126, 0.89239598, 0.8938307 , 0.89526542,\n",
       "       0.89670014, 0.89813486, 0.89956958, 0.9010043 , 0.90243902,\n",
       "       0.90387374, 0.90530846, 0.90674319, 0.90817791, 0.90961263,\n",
       "       0.91104735, 0.91248207, 0.91391679, 0.91535151, 0.91678623,\n",
       "       0.91822095, 0.91965567, 0.92109039, 0.92252511, 0.92395983,\n",
       "       0.92539455, 0.92682927, 0.92826399, 0.92969871, 0.93113343,\n",
       "       0.93256815, 0.93400287, 0.93543759, 0.93687231, 0.93830703,\n",
       "       0.93974175, 0.94117647, 0.94261119, 0.94404591, 0.94548063,\n",
       "       0.94691535, 0.94835007, 0.94978479, 0.95121951, 0.95265423,\n",
       "       0.95408895, 0.95552367, 0.95695839, 0.95839311, 0.95982783,\n",
       "       0.96126255, 0.96269727, 0.96413199, 0.96556671, 0.96700143,\n",
       "       0.96843615, 0.96987088, 0.9713056 , 0.97274032, 0.97417504,\n",
       "       0.97560976, 0.97704448, 0.9784792 , 0.97991392, 0.98134864,\n",
       "       0.98278336, 0.98421808, 0.9856528 , 0.98708752, 0.98852224,\n",
       "       0.98995696, 0.99139168, 0.9928264 , 0.99426112, 0.99569584,\n",
       "       0.99713056, 0.99856528, 1.        ])"
      ]
     },
     "execution_count": 172,
     "metadata": {},
     "output_type": "execute_result"
    }
   ],
   "source": [
    "# try pieces of beta function\n",
    "alpha3,beta3,xx,yy=beta.fit(betadata, loc = 0, scale = 1)\n",
    "xx=np.linspace(0,max(betadata),len(betadata)) # line space of X\n",
    "xx"
   ]
  },
  {
   "cell_type": "code",
   "execution_count": 173,
   "metadata": {},
   "outputs": [],
   "source": [
    "fitted=lambda x,a,b:gammaf(a+b)/gammaf(a)/gammaf(b)*x**(a-1)*(1-x)**(b-1) #pdf of beta\n"
   ]
  },
  {
   "cell_type": "code",
   "execution_count": 174,
   "metadata": {},
   "outputs": [
    {
     "name": "stdout",
     "output_type": "stream",
     "text": [
      "alpha is  7783.923890194146\n",
      "beta is  3.8997150320119527\n"
     ]
    }
   ],
   "source": [
    "a = alpha3\n",
    "b = beta3\n",
    "print('alpha is ', a)\n",
    "print('beta is ', b)"
   ]
  },
  {
   "cell_type": "code",
   "execution_count": 175,
   "metadata": {
    "scrolled": true
   },
   "outputs": [
    {
     "name": "stderr",
     "output_type": "stream",
     "text": [
      "/home/cascade/miniconda3/envs/geo/lib/python3.6/site-packages/ipykernel_launcher.py:1: RuntimeWarning: invalid value encountered in double_scalars\n",
      "  \"\"\"Entry point for launching an IPython kernel.\n"
     ]
    }
   ],
   "source": [
    "yy = fitted(xx,a,b)"
   ]
  },
  {
   "cell_type": "code",
   "execution_count": 176,
   "metadata": {
    "scrolled": true
   },
   "outputs": [
    {
     "data": {
      "text/plain": [
       "Text(0.5, 1.0, 'Western Asia May not be a Beta fit...?')"
      ]
     },
     "execution_count": 176,
     "metadata": {},
     "output_type": "execute_result"
    },
    {
     "data": {
      "image/png": "[encoded data removed]",
      "text/plain": [
       "<Figure size 432x288 with 1 Axes>"
      ]
     },
     "metadata": {
      "needs_background": "light"
     },
     "output_type": "display_data"
    }
   ],
   "source": [
    "plt.hist(betadata, bins = 50, alpha = 0.5, density = True)\n",
    "plt.plot(xx, yy, linewidth = 3)\n",
    "plt.title('Western Asia May not be a Beta fit...?')"
   ]
  },
  {
   "cell_type": "code",
   "execution_count": 177,
   "metadata": {},
   "outputs": [],
   "source": [
    "#----------------Fit using moments----------------\n",
    "data = betadata\n",
    "mean=np.mean(data)\n",
    "var=np.var(data,ddof=1)\n",
    "alpha1=mean**2*(1-mean)/var-mean\n",
    "beta1=alpha1*(1-mean)/mean"
   ]
  },
  {
   "cell_type": "code",
   "execution_count": 178,
   "metadata": {},
   "outputs": [
    {
     "data": {
      "text/plain": [
       "1.4982921125133346"
      ]
     },
     "execution_count": 178,
     "metadata": {},
     "output_type": "execute_result"
    }
   ],
   "source": [
    "beta1"
   ]
  },
  {
   "cell_type": "code",
   "execution_count": 180,
   "metadata": {},
   "outputs": [],
   "source": [
    "xx=np.linspace(0,max(betadata),len(betadata)) # line space of X\n",
    "yy = fitted(xx,alpha1,beta1)"
   ]
  },
  {
   "cell_type": "code",
   "execution_count": 181,
   "metadata": {},
   "outputs": [
    {
     "data": {
      "text/plain": [
       "Text(0.5, 1.0, 'Western Asia May not be a Beta fit...?')"
      ]
     },
     "execution_count": 181,
     "metadata": {},
     "output_type": "execute_result"
    },
    {
     "data": {
      "image/png": "[encoded data removed]",
      "text/plain": [
       "<Figure size 432x288 with 1 Axes>"
      ]
     },
     "metadata": {
      "needs_background": "light"
     },
     "output_type": "display_data"
    }
   ],
   "source": [
    "plt.hist(betadata, bins = 50, alpha = 0.5, density = True)\n",
    "plt.plot(xx, yy, linewidth = 3)\n",
    "plt.title('Western Asia May not be a Beta fit...?')"
   ]
  },
  {
   "cell_type": "code",
   "execution_count": 185,
   "metadata": {},
   "outputs": [
    {
     "name": "stderr",
     "output_type": "stream",
     "text": [
      "/home/cascade/miniconda3/envs/geo/lib/python3.6/site-packages/ipykernel_launcher.py:12: RuntimeWarning: divide by zero encountered in log\n",
      "  if sys.path[0] == '':\n",
      "/home/cascade/miniconda3/envs/geo/lib/python3.6/site-packages/scipy/optimize/optimize.py:596: RuntimeWarning: invalid value encountered in subtract\n",
      "  numpy.max(numpy.abs(fsim[0] - fsim[1:])) <= fatol):\n",
      "/home/cascade/miniconda3/envs/geo/lib/python3.6/site-packages/numpy/core/fromnumeric.py:83: RuntimeWarning: invalid value encountered in reduce\n",
      "  return ufunc.reduce(obj, axis, dtype, out, **passkwargs)\n"
     ]
    },
    {
     "name": "stdout",
     "output_type": "stream",
     "text": [
      "Warning: Maximum number of function evaluations has been exceeded.\n"
     ]
    }
   ],
   "source": [
    "def betaNLL(param,*args):\n",
    "    '''Negative log likelihood function for beta\n",
    "    <param>: list for parameters to be fitted.\n",
    "    <args>: 1-element array containing the sample data.\n",
    "\n",
    "    Return <nll>: negative log-likelihood to be minimized.\n",
    "    '''\n",
    "\n",
    "    a,b=param\n",
    "    data=args[0]\n",
    "    pdf=beta.pdf(data,a,b,loc=0,scale=1)\n",
    "    lg=np.log(pdf)\n",
    "    #-----Replace -inf with 0s------\n",
    "    lg=np.where(lg==-np.inf,0,lg)\n",
    "    nll=-1*np.sum(lg)\n",
    "    return nll\n",
    "\n",
    "#------------------Fit using mle------------------\n",
    "result=fmin(betaNLL,[1,1],args=(data,))\n",
    "alpha2,beta2=result"
   ]
  },
  {
   "cell_type": "code",
   "execution_count": 188,
   "metadata": {
    "scrolled": true
   },
   "outputs": [
    {
     "name": "stderr",
     "output_type": "stream",
     "text": [
      "/home/cascade/miniconda3/envs/geo/lib/python3.6/site-packages/ipykernel_launcher.py:1: RuntimeWarning: divide by zero encountered in power\n",
      "  \"\"\"Entry point for launching an IPython kernel.\n"
     ]
    },
    {
     "data": {
      "text/plain": [
       "Text(0.5, 1.0, 'Western Asia May not be a Beta fit...?')"
      ]
     },
     "execution_count": 188,
     "metadata": {},
     "output_type": "execute_result"
    },
    {
     "data": {
      "image/png": "[encoded data removed]",
      "text/plain": [
       "<Figure size 432x288 with 1 Axes>"
      ]
     },
     "metadata": {
      "needs_background": "light"
     },
     "output_type": "display_data"
    }
   ],
   "source": [
    "xx=np.linspace(0,max(betadata),len(betadata)) # line space of X\n",
    "yy = fitted(xx,alpha2,beta2)\n",
    "plt.hist(betadata, bins = 50, alpha = 0.5, density = True)\n",
    "plt.plot(xx, yy, linewidth = 3)\n",
    "plt.title('Western Asia May not be a Beta fit...?')"
   ]
  },
  {
   "cell_type": "code",
   "execution_count": 197,
   "metadata": {},
   "outputs": [
    {
     "name": "stderr",
     "output_type": "stream",
     "text": [
      "/home/cascade/miniconda3/envs/geo/lib/python3.6/site-packages/ipykernel_launcher.py:1: RuntimeWarning: invalid value encountered in double_scalars\n",
      "  \"\"\"Entry point for launching an IPython kernel.\n"
     ]
    }
   ],
   "source": [
    "beta_mle(betadata)"
   ]
  },
  {
   "cell_type": "markdown",
   "metadata": {},
   "source": [
    "# Beta Fits\n",
    "\n",
    "**RUN OLS IS THROWING A WARNING - BEST LOOK -- but then doesn't ...**"
   ]
  },
  {
   "cell_type": "code",
   "execution_count": 191,
   "metadata": {},
   "outputs": [],
   "source": [
    "#### Global\n",
    "plotdata = run_OLS(HI_STATS, 'ID_HDC_G0', alpha = 0.05)\n",
    "\n",
    "#### Chunk 1\n",
    "geog1 = 'sub-region'\n",
    "loc1 = 'Sub-Saharan Africa'\n",
    "chunk1 = HI_STATS[HI_STATS[geog1] == loc1]\n",
    "plotdata1 = run_OLS(chunk1, 'ID_HDC_G0', alpha = 0.05)\n",
    "\n",
    "\n",
    "#### Chunk 2\n",
    "geog2 = 'sub-region'\n",
    "loc2 = 'Eastern Asia'\n",
    "chunk2 = HI_STATS[HI_STATS[geog2] == loc2]\n",
    "plotdata2 = run_OLS(chunk2, 'ID_HDC_G0', alpha = 0.05)\n",
    "\n",
    "\n",
    "#### Chunk 3\n",
    "geog3 = 'sub-region'\n",
    "loc3 = 'Western Asia'\n",
    "chunk3 = HI_STATS[HI_STATS[geog3] == loc3]\n",
    "plotdata3 = run_OLS(chunk3, 'ID_HDC_G0', alpha = 0.05)\n",
    "\n",
    "#### Chunk 4\n",
    "geog4 = 'region'\n",
    "loc4 = 'Europe'\n",
    "chunk4 = HI_STATS[HI_STATS[geog4] == loc4]\n",
    "plotdata4 = run_OLS(chunk4, 'ID_HDC_G0', alpha = 0.05)"
   ]
  },
  {
   "cell_type": "code",
   "execution_count": 196,
   "metadata": {},
   "outputs": [
    {
     "name": "stderr",
     "output_type": "stream",
     "text": [
      "/home/cascade/miniconda3/envs/geo/lib/python3.6/site-packages/ipykernel_launcher.py:1: RuntimeWarning: invalid value encountered in double_scalars\n",
      "  \"\"\"Entry point for launching an IPython kernel.\n"
     ]
    },
    {
     "ename": "TypeError",
     "evalue": "'NoneType' object is not iterable",
     "output_type": "error",
     "traceback": [
      "\u001b[0;31m---------------------------------------------------------------------------\u001b[0m",
      "\u001b[0;31mTypeError\u001b[0m                                 Traceback (most recent call last)",
      "\u001b[0;32m<ipython-input-196-73ab60d811cf>\u001b[0m in \u001b[0;36m<module>\u001b[0;34m\u001b[0m\n\u001b[1;32m      8\u001b[0m \u001b[0mylim\u001b[0m \u001b[0;34m=\u001b[0m \u001b[0;34m[\u001b[0m\u001b[0;36m0\u001b[0m\u001b[0;34m,\u001b[0m\u001b[0;36m4\u001b[0m\u001b[0;34m]\u001b[0m\u001b[0;34m\u001b[0m\u001b[0;34m\u001b[0m\u001b[0m\n\u001b[1;32m      9\u001b[0m \u001b[0;34m\u001b[0m\u001b[0m\n\u001b[0;32m---> 10\u001b[0;31m \u001b[0mg_X\u001b[0m\u001b[0;34m,\u001b[0m \u001b[0mg_Y\u001b[0m \u001b[0;34m=\u001b[0m \u001b[0mbeta_mle\u001b[0m\u001b[0;34m(\u001b[0m\u001b[0mplotdata\u001b[0m\u001b[0;34m[\u001b[0m\u001b[0;34m'coef_attrib_norm'\u001b[0m\u001b[0;34m]\u001b[0m\u001b[0;34m)\u001b[0m\u001b[0;34m\u001b[0m\u001b[0;34m\u001b[0m\u001b[0m\n\u001b[0m\u001b[1;32m     11\u001b[0m \u001b[0;34m\u001b[0m\u001b[0m\n\u001b[1;32m     12\u001b[0m \u001b[0mkwargs\u001b[0m \u001b[0;34m=\u001b[0m \u001b[0;34m{\u001b[0m\u001b[0;34m'lw'\u001b[0m\u001b[0;34m:\u001b[0m \u001b[0;36m3\u001b[0m\u001b[0;34m,\u001b[0m \u001b[0;34m'alpha'\u001b[0m \u001b[0;34m:\u001b[0m \u001b[0;36m0.9\u001b[0m\u001b[0;34m,\u001b[0m \u001b[0;34m'linestyle'\u001b[0m \u001b[0;34m:\u001b[0m \u001b[0;34m'-'\u001b[0m\u001b[0;34m}\u001b[0m\u001b[0;34m\u001b[0m\u001b[0;34m\u001b[0m\u001b[0m\n",
      "\u001b[0;31mTypeError\u001b[0m: 'NoneType' object is not iterable"
     ]
    },
    {
     "data": {
      "image/png": "[encoded data removed]",
      "text/plain": [
       "<Figure size 1728x432 with 4 Axes>"
      ]
     },
     "metadata": {
      "needs_background": "light"
     },
     "output_type": "display_data"
    }
   ],
   "source": [
    "#### Size\n",
    "fig, axs = plt.subplots(1, 4, figsize = (24, 6), sharex=True)\n",
    "axs = axs.ravel()\n",
    "ws = 0.25\n",
    "fig.subplots_adjust(wspace=ws)\n",
    "fig = plt.gcf()\n",
    "xlim = [0,1]\n",
    "ylim = [0,4]\n",
    "\n",
    "g_X, g_Y = beta_mle(plotdata['coef_attrib_norm'])\n",
    "\n",
    "kwargs = {'lw': 3, 'alpha' : 0.9, 'linestyle' : '-'}\n",
    "kwargs_g = {'lw': 3, 'alpha' : 0.5, 'linestyle' : ':'}\n",
    "\n",
    "#### Chunk 1\n",
    "data = plotdata1['coef_attrib_norm']\n",
    "X, Y = beta_mle(data)\n",
    "axs[0].hist(data, density = True, color = 'red', alpha = 0.1, bins = 30)\n",
    "axs[0].plot(X, Y, label = loc1, color = 'red', **kwargs)\n",
    "axs[0].plot(g_X, g_Y, label = loc1, color = 'black', **kwargs_g)\n",
    "axs[0].set_title(loc1)\n",
    "axs[0].set_xlim(xlim)\n",
    "axs[0].set_ylim(ylim)\n",
    "\n",
    "# #### Chunk 2\n",
    "data = plotdata2['coef_attrib_norm']\n",
    "X, Y = beta_mle(data)\n",
    "axs[1].hist(data, density = True, color = 'blue', alpha = 0.1, bins = 30)\n",
    "axs[1].plot(X, Y, label = loc2, color = 'blue', **kwargs)\n",
    "axs[1].plot(g_X, g_Y, label = loc1, color = 'black', **kwargs_g)\n",
    "axs[1].set_title(loc2)\n",
    "axs[1].set_xlim(xlim)\n",
    "axs[1].set_ylim(ylim)\n",
    "\n",
    "#### Chunk 3\n",
    "data = plotdata3['coef_attrib_norm']\n",
    "X, Y = beta_mle(data)\n",
    "axs[2].hist(data, density = True, color = 'green', alpha = 0.1, bins = 30)\n",
    "axs[2].plot(X, Y, label = loc3, color = 'green', **kwargs)\n",
    "axs[2].plot(g_X, g_Y, label = loc1, color = 'black', **kwargs_g)\n",
    "axs[2].set_title(loc3)\n",
    "axs[2].set_xlim(xlim)\n",
    "axs[2].set_ylim(ylim)\n",
    "\n",
    "#### Chunk 4\n",
    "data = plotdata4['coef_attrib_norm']\n",
    "X, Y = beta_mle(data)\n",
    "axs[3].hist(data, density = True, color = 'orange', alpha = 0.1, bins = 30)\n",
    "axs[3].plot(X, Y, label = loc3, color = 'orange', **kwargs)\n",
    "axs[3].plot(g_X, g_Y, label = loc1, color = 'black', **kwargs_g)\n",
    "axs[3].set_title(loc4)\n",
    "axs[3].set_xlim(xlim)\n",
    "axs[3].set_ylim(ylim)\n",
    "\n",
    "#### Lims and Ticks\n",
    "plt.xlim([0,1])\n",
    "plt.ylim([0,4])\n",
    "ticks = [x / 10 for x in list(range(0,11))]\n",
    "labels = [100, 80, 60, 40, 20, 0, 20, 40, 60, 80, 100]\n",
    "plt.xticks(ticks, labels, fontsize = 12);\n",
    "\n",
    "#### Legends\n",
    "# labels = [loc1, loc2, loc3]\n",
    "# plt.legend(labels, loc=2, facecolor= 'white', edgecolor = 'white', fontsize = 15)\n",
    "\n",
    "\n",
    "# ## Labels \n",
    "# plt.xlabel('Coef of Attribtuion (Right is people, left heat)', fontsize = 15, labelpad = 10)\n",
    "# plt.ylabel('PDF', fontsize = 15)\n",
    "# fig.title('Dist of PeopleDays Attribution Coef, 1983 - 2016', fontsize = 15)\n"
   ]
  },
  {
   "cell_type": "code",
   "execution_count": null,
   "metadata": {},
   "outputs": [],
   "source": [
    "#### Size\n",
    "fig, axs = plt.subplots(1, 4, figsize = (24, 6), sharex=True)\n",
    "axs = axs.ravel()\n",
    "ws = 0.25\n",
    "fig.subplots_adjust(wspace=ws)\n",
    "\n",
    "\n",
    "#### Chunk 1\n",
    "X = np.log10(plotdata1['coef_pop']*scale)\n",
    "Y = np.log10(plotdata1['coef_heat']*scale)\n",
    "C = np.log10(plotdata1['coef_pdays']) ##########<<<< CASCADE FIX SO WE CAN CITY\n",
    "\n",
    "# plots\n",
    "im  = axs[0].scatter(X, Y, alpha = 0.4, marker = 'h', c = C, cmap = 'rainbow')\n",
    "\n",
    "# Make one-to-one-line\n",
    "axs[0].plot([0, lim], [0, lim], ':', lw=3, alpha = 0.7, color = 'black')\n",
    "axs[0].set_title(loc1)\n",
    "\n",
    "#fig.colorbar(ax = axs[4], mappable = im)\n",
    "\n",
    "# Set limits\n",
    "axs[0].set_xlim([-0.5, lim])\n",
    "axs[0].set_ylim([-0.5, lim])\n",
    "\n",
    "#### Chunk 2\n",
    "X = np.log10(plotdata2['coef_pop']*scale)\n",
    "Y = np.log10(plotdata2['coef_heat']*scale)\n",
    "C = np.log10(plotdata2['coef_pdays']) ##########<<<< CASCADE FIX SO WE CAN CITY\n",
    "\n",
    "# plots\n",
    "im  = axs[1].scatter(X, Y, alpha = 0.4, marker = 'h', c = C, cmap = 'rainbow')\n",
    "\n",
    "# Make one-to-one-line\n",
    "axs[1].plot([0, lim], [0, lim], ':', lw=3, alpha = 0.7, color = 'black')\n",
    "axs[1].set_title(loc2)\n",
    "\n",
    "#fig.colorbar(ax = axs[4], mappable = im)\n",
    "\n",
    "# Set limits\n",
    "axs[1].set_xlim([-0.5, lim])\n",
    "axs[1].set_ylim([-0.5, lim])\n",
    "\n",
    "#### Chunk 3\n",
    "X = np.log10(plotdata3['coef_pop']*scale)\n",
    "Y = np.log10(plotdata3['coef_heat']*scale)\n",
    "C = np.log10(plotdata3['coef_pdays']) ##########<<<< CASCADE FIX SO WE CAN CITY\n",
    "\n",
    "# plots\n",
    "im  = axs[2].scatter(X, Y, alpha = 0.4, marker = 'h', c = C, cmap = 'rainbow')\n",
    "\n",
    "# Make one-to-one-line\n",
    "axs[2].plot([0, lim], [0, lim], ':', lw=3, alpha = 0.7, color = 'black')\n",
    "axs[2].set_title(loc3)\n",
    "\n",
    "#fig.colorbar(ax = axs[4], mappable = im)\n",
    "\n",
    "# Set limits\n",
    "axs[2].set_xlim([-0.5, lim])\n",
    "axs[2].set_ylim([-0.5, lim])\n",
    "\n",
    "#### Chunk 4\n",
    "X = np.log10(plotdata4['coef_pop']*scale)\n",
    "Y = np.log10(plotdata4['coef_heat']*scale)\n",
    "C = np.log10(plotdata4['coef_pdays']) ##########<<<< CASCADE FIX SO WE CAN CITY\n",
    "\n",
    "# plots\n",
    "im  = axs[3].scatter(X, Y, alpha = 0.4, marker = 'h', c = C, cmap = 'rainbow')\n",
    "\n",
    "# Make one-to-one-line\n",
    "axs[3].plot([0, lim], [0, lim], ':', lw=3, alpha = 0.7, color = 'black')\n",
    "axs[3].set_title(loc4)\n",
    "\n",
    "#fig.colorbar(ax = axs[4], mappable = im)\n",
    "\n",
    "# Set limits\n",
    "axs[3].set_xlim([-0.5, lim])\n",
    "axs[3].set_ylim([-0.5, lim])"
   ]
  },
  {
   "cell_type": "markdown",
   "metadata": {},
   "source": [
    "# Fig 2 Scatter"
   ]
  },
  {
   "cell_type": "code",
   "execution_count": null,
   "metadata": {},
   "outputs": [],
   "source": [
    "#### Plot and Save Figure \n",
    "#### Plot is people-days heat vs pop increase in log scale values\n",
    "fig, axs = plt.subplots(5, 3, figsize = (15, 15), sharex=True) # Change number of panels as needed\n",
    "axs = axs.ravel()\n",
    "counter = 0\n",
    "lim = 13\n",
    "\n",
    "for i, region in enumerate(sig_regions):\n",
    "    \n",
    "    df_region = stats[stats[geog] == region] # select region\n",
    "    \n",
    "    # Get people days dues to heat coef\n",
    "    heat = pop_stat(df_region, 'ID_HDC_G0', 'people_days_heat') # get stats \n",
    "    heat.rename(columns={\"coef\": \"coef_heat\"}, inplace = True)\n",
    "    \n",
    "    # Get people days total\n",
    "    pdays_all = pop_stat(df_region, 'ID_HDC_G0', 'people_days_pop') # get stats\n",
    "    pdays_all.rename(columns={\"coef\": \"coef_pop\"}, inplace = True)\n",
    "    \n",
    "    # Merge pdays_all and heat\n",
    "    heat = heat.merge(pdays_all[['ID_HDC_G0', 'coef_pop']], on = 'ID_HDC_G0', how = 'left')\n",
    "    \n",
    "    # drop negitive and zero slopes\n",
    "    heat = heat[heat['coef_heat'] > 0]\n",
    "    heat = heat[heat['coef_pop'] > 0]\n",
    "    \n",
    "    # get data for plot\n",
    "    X = np.log10(heat['coef_pop']*scale)\n",
    "    Y = np.log10(heat['coef_heat']*scale)\n",
    "    C = np.log10(heat['p_delt'])\n",
    "    \n",
    "    # drop all slopes below 10^0\n",
    "    X = X * (X > 0)\n",
    "    Y = Y * (Y > 0)\n",
    "    \n",
    "    # plots\n",
    "    a = i + counter\n",
    "    im  = axs[a].scatter(X, Y, alpha = 0.4, marker = 'h', c = C, cmap = 'rainbow')\n",
    "    axs[a].set_title(region, fontsize = 14)\n",
    "    \n",
    "    # Set limits\n",
    "    axs[a].set_xlim([-0.5, lim])\n",
    "    axs[a].set_ylim([-0.5, lim])\n",
    "    \n",
    "    # Make one-to-one-line\n",
    "    axs[a].plot([0, lim], [0, lim], ':', lw=3, alpha = 0.7, color = 'black')\n",
    "    \n",
    "    fig.colorbar(ax = axs[a], mappable = im)\n",
    "\n",
    "fig.text(0.5, 0.08, 'Annual increase in people-days [log10] due to population', ha='center', size = 16)\n",
    "fig.text(0.07, 0.5, 'Annual increase in people-days [log10] due to heat', va='center', rotation='vertical',\n",
    "        size = 16)\n",
    "\n",
    "#plt.savefig(FIG_OUT+'FIG2.png') "
   ]
  },
  {
   "cell_type": "markdown",
   "metadata": {},
   "source": [
    "# Fig 2 Dist"
   ]
  },
  {
   "cell_type": "code",
   "execution_count": null,
   "metadata": {},
   "outputs": [],
   "source": [
    "def plot_data(stats, geog):\n",
    "    \"\"\" Function calculate coef of people days due to pop and heat and the \n",
    "    attribution index\n",
    "    \n",
    "    Args:\n",
    "        stats = df to feed in\n",
    "        geog = geography level to conduct analysis (city-level is 'ID-HDC-G0')\n",
    "    \n",
    "    \"\"\"\n",
    "    # Get people days dues to heat coef\n",
    "    heat = pop_stat(stats, geog, 'people_days_heat') # get stats \n",
    "    heat.rename(columns={\"coef\": \"coef_heat\"}, inplace = True)\n",
    "    \n",
    "    # Get people days total\n",
    "    pdays_all = pop_stat(stats, geog, 'people_days_pop') # get stats\n",
    "    pdays_all.rename(columns={\"coef\": \"coef_pop\"}, inplace = True)\n",
    "    \n",
    "    # Merge pdays_all and heat\n",
    "    heat = heat.merge(pdays_all[[geog, 'coef_pop']], on = geog, how = 'left')\n",
    "    \n",
    "    # drop negitive and zero slopes\n",
    "    heat = heat[heat['coef_heat'] > 0]\n",
    "    heat = heat[heat['coef_pop'] > 0]\n",
    "    \n",
    "    # attrib coef\n",
    "    heat['coef_attrib'] = (heat['coef_pop'] - heat['coef_heat']) / (heat['coef_pop'] + heat['coef_heat']) # normalize dif\n",
    "    \n",
    "    return heat"
   ]
  },
  {
   "cell_type": "code",
   "execution_count": null,
   "metadata": {},
   "outputs": [],
   "source": [
    "#### Chunk Data\n",
    "geog = 'sub-region'\n",
    "loc = 'Northern America'\n",
    "chunk_stats = stats[stats[geog] == loc]\n",
    "\n",
    "Y95= chunk_stats[(chunk_stats['year'] >= 1986) & (chunk_stats['year'] <= 1995)]\n",
    "Y05 = chunk_stats[(chunk_stats['year'] >= 1996) & (chunk_stats['year'] <= 2005)]\n",
    "Y15 = chunk_stats[(chunk_stats['year'] >= 2006) & (chunk_stats['year'] <= 2015)]"
   ]
  },
  {
   "cell_type": "code",
   "execution_count": null,
   "metadata": {},
   "outputs": [],
   "source": [
    "#### Make distribution\n",
    "\n",
    "Y95_plotdata = plot_data(Y95, 'ID_HDC_G0')\n",
    "Y95_plotdata.head()\n",
    "\n",
    "Y05_plotdata = plot_data(Y05, 'ID_HDC_G0')\n",
    "Y95_plotdata.head()\n",
    "\n",
    "Y15_plotdata = plot_data(Y15, 'ID_HDC_G0')\n",
    "Y15_plotdata.head()"
   ]
  },
  {
   "cell_type": "code",
   "execution_count": null,
   "metadata": {},
   "outputs": [],
   "source": [
    "data = Y15_plotdata['coef_attrib']\n",
    "bins = 20\n",
    "#plt.hist(data, color = 'blue', alpha = 0.3, bins = bins)\n",
    "#sns.kdeplot(np.array(data), bw=0.15, color = 'blue', alpha = 0.4)\n",
    "\n",
    "data = Y05_plotdata['coef_attrib']\n",
    "#plt.hist(data, color = 'green', alpha = 0.3, bins = bins)\n",
    "#sns.kdeplot(np.array(data), bw=0.15, color = 'green', alpha = 0.4)\n",
    "\n",
    "data = Y95_plotdata['coef_attrib']\n",
    "plt.hist(data, color = 'red', alpha = 0.3, bins = bins)\n",
    "#sns.kdeplot(np.array(data), bw=0.15, color = 'red', alpha = 0.4)\n",
    "plt.xlabel('Coef of Attribtuion (Right is people, left heat)')\n",
    "plt.ylabel('N of Cites')\n",
    "plt.title(loc+' Dist of PeopleDays Attribution Coef')\n",
    "#sns.kdeplot(np.array(data), bw=0.5)\n",
    "\n",
    "labels = ['1986 - 1995', '1996 - 2005', '2006 - 2015']\n",
    "plt.legend(labels, loc=1, facecolor= 'white', edgecolor = 'white')\n"
   ]
  },
  {
   "cell_type": "markdown",
   "metadata": {},
   "source": [
    "# Desnity Plots\n"
   ]
  },
  {
   "cell_type": "markdown",
   "metadata": {},
   "source": [
    "### North America "
   ]
  },
  {
   "cell_type": "code",
   "execution_count": null,
   "metadata": {},
   "outputs": [],
   "source": [
    "#### Chunk Data\n",
    "geog = 'region'\n",
    "loc = 'Europe'\n",
    "chunk_stats = stats[stats[geog] == loc]\n",
    "\n",
    "Y95= chunk_stats[(chunk_stats['year'] >= 1986) & (chunk_stats['year'] <= 1995)]\n",
    "Y05 = chunk_stats[(chunk_stats['year'] >= 1996) & (chunk_stats['year'] <= 2005)]\n",
    "Y15 = chunk_stats[(chunk_stats['year'] >= 2006) & (chunk_stats['year'] <= 2015)]\n",
    "\n",
    "#### Make distribution\n",
    "all_plotdata = plot_data(chunk_stats, 'ID_HDC_G0')\n",
    "Y95_plotdata = plot_data(Y95, 'ID_HDC_G0')\n",
    "Y05_plotdata = plot_data(Y05, 'ID_HDC_G0')\n",
    "Y15_plotdata = plot_data(Y15, 'ID_HDC_G0')"
   ]
  },
  {
   "cell_type": "code",
   "execution_count": null,
   "metadata": {
    "scrolled": false
   },
   "outputs": [],
   "source": [
    "bw = 'scott'\n",
    "kws1 = {'bw': bw, 'linewidth': 0, 'shade': True, 'alpha' : 0.05}\n",
    "kws2 = {'bw': bw, 'linewidth': 2, 'shade': False, 'alpha' : 0.5}\n",
    "\n",
    "#### Size\n",
    "fig = plt.gcf()\n",
    "fig.set_size_inches(8, 8)\n",
    "\n",
    "data = all_plotdata['coef_attrib']\n",
    "sns.distplot(data, hist=False, kde=True, color = 'black', kde_kws= kws1)\n",
    "sns.distplot(data, hist=False, kde=True, color = 'black', kde_kws= kws2, label = '1983 - 2016')\n",
    "\n",
    "data = Y15_plotdata['coef_attrib']\n",
    "sns.distplot(data, hist=False, kde=True, color = 'darkblue', kde_kws= kws1)\n",
    "sns.distplot(data, hist=False, kde=True, color = 'darkblue', kde_kws= kws2, label = '2006 - 2015')\n",
    "\n",
    "\n",
    "data = Y05_plotdata['coef_attrib']\n",
    "sns.distplot(data, hist=False, kde=True, color = 'red', kde_kws= kws1)\n",
    "sns.distplot(data, hist=False, kde=True, color = 'red', kde_kws= kws2, label = '1996 - 2005')\n",
    "\n",
    "data = Y95_plotdata['coef_attrib']\n",
    "sns.distplot(data, hist=False, kde=True, color = 'green', kde_kws= kws1)\n",
    "sns.distplot(data, hist=False, kde=True, color = 'green', kde_kws= kws2, label = '1986 - 1995')\n",
    "\n",
    "\n",
    "## Labels \n",
    "plt.xlabel('Coef of Attribtuion (Right is people, left heat)')\n",
    "plt.ylabel('Density')\n",
    "plt.title(loc+' Dist of PeopleDays Attribution Coef')\n",
    "\n",
    "## Legend\n",
    "#labels = ['1986 - 1995', '1996 - 2005', '2006 - 2015']\n",
    "plt.legend(loc=2, facecolor= 'white', edgecolor = 'white')"
   ]
  },
  {
   "cell_type": "markdown",
   "metadata": {},
   "source": [
    "### SS Africa"
   ]
  },
  {
   "cell_type": "code",
   "execution_count": null,
   "metadata": {},
   "outputs": [],
   "source": [
    "#### Chunk Data\n",
    "geog = 'sub-region'\n",
    "loc = 'Sub-Saharan Africa'\n",
    "chunk_stats = stats[stats[geog] == loc]\n",
    "\n",
    "Y95= chunk_stats[(chunk_stats['year'] >= 1986) & (chunk_stats['year'] <= 1995)]\n",
    "Y05 = chunk_stats[(chunk_stats['year'] >= 1996) & (chunk_stats['year'] <= 2005)]\n",
    "Y15 = chunk_stats[(chunk_stats['year'] >= 2006) & (chunk_stats['year'] <= 2015)]\n",
    "\n",
    "#### Make distribution\n",
    "Y95_plotdata = plot_data(Y95, 'ID_HDC_G0')\n",
    "Y05_plotdata = plot_data(Y05, 'ID_HDC_G0')\n",
    "Y15_plotdata = plot_data(Y15, 'ID_HDC_G0')"
   ]
  },
  {
   "cell_type": "code",
   "execution_count": null,
   "metadata": {},
   "outputs": [],
   "source": [
    "bw = 'scott'\n",
    "kws = {'bw': bw, 'linewidth': 1, 'alpha' : 0.5}\n",
    "\n",
    "#### Size\n",
    "fig = plt.gcf()\n",
    "fig.set_size_inches(8, 8)\n",
    "\n",
    "data = Y15_plotdata['coef_attrib']\n",
    "sns.distplot(data, hist=False, kde=True, color = 'darkblue', kde_kws= kws, label = '2006 - 2015')\n",
    "\n",
    "data = Y05_plotdata['coef_attrib']\n",
    "sns.distplot(data, hist=False, kde=True, color = 'red', kde_kws= kws, label = '1996 - 2005')\n",
    "\n",
    "data = Y95_plotdata['coef_attrib']\n",
    "sns.distplot(data, hist=False, kde=True, color = 'green', kde_kws= kws, label = '1986 - 1995')\n",
    "\n",
    "## Labels \n",
    "plt.xlabel('Coef of Attribtuion (Right is people, left heat)')\n",
    "plt.ylabel('Density')\n",
    "plt.title(loc+' Dist of PeopleDays Attribution Coef')\n",
    "\n",
    "## Legend\n",
    "#labels = ['1986 - 1995', '1996 - 2005', '2006 - 2015']\n",
    "plt.legend(loc=2, facecolor= 'white', edgecolor = 'white')"
   ]
  },
  {
   "cell_type": "markdown",
   "metadata": {},
   "source": [
    "## Plots of Different Regions"
   ]
  },
  {
   "cell_type": "code",
   "execution_count": null,
   "metadata": {},
   "outputs": [],
   "source": [
    "#### Chunk SSA\n",
    "geog = 'sub-region'\n",
    "loc = 'Sub-Saharan Africa'\n",
    "chunk_SSA = stats[stats[geog] == loc]\n",
    "plotdata_SSA = plot_data(chunk_SSA, 'ID_HDC_G0')\n",
    "\n",
    "#### Chunk SSA\n",
    "geog = 'region'\n",
    "loc = 'Europe'\n",
    "chunk_EU = stats[stats[geog] == loc]\n",
    "plotdata_EU = plot_data(chunk_EU, 'ID_HDC_G0')\n",
    "\n",
    "#### Chunk North America\n",
    "geog = 'sub-region'\n",
    "loc = 'Northern America'\n",
    "chunk_NA = stats[stats[geog] == loc]\n",
    "plotdata_NA = plot_data(chunk_NA, 'ID_HDC_G0')"
   ]
  },
  {
   "cell_type": "code",
   "execution_count": null,
   "metadata": {},
   "outputs": [],
   "source": [
    "bw = 'scott'\n",
    "kws1 = {'bw': bw, 'linewidth': 0, 'shade': True, 'alpha' : 0.05}\n",
    "kws2 = {'bw': bw, 'linewidth': 2, 'shade': False, 'alpha' : 0.5}\n",
    "\n",
    "#### Size\n",
    "fig = plt.gcf()\n",
    "fig.set_size_inches(8, 8)\n",
    "\n",
    "data = plotdata_SSA['coef_attrib']\n",
    "sns.distplot(data, hist=False, kde=True, color = 'darkblue', kde_kws= kws1)\n",
    "sns.distplot(data, hist=False, kde=True, color = 'darkblue', kde_kws= kws2, label = 'Sub-Saharan Africa')\n",
    "\n",
    "data = plotdata_EU['coef_attrib']\n",
    "sns.distplot(data, hist=False, kde=True, color = 'red', kde_kws= kws1)\n",
    "sns.distplot(data, hist=False, kde=True, color = 'red', kde_kws= kws2, label = 'Europe')\n",
    "\n",
    "data = plotdata_NA['coef_attrib']\n",
    "sns.distplot(data, hist=False, kde=True, color = 'green', kde_kws= kws1)\n",
    "sns.distplot(data, hist=False, kde=True, color = 'green', kde_kws= kws2, label = 'Northern America')\n",
    "\n",
    "\n",
    "## Labels \n",
    "plt.xlabel('Coef of Attribtuion (Right is people, left heat) 1983 - 2016')\n",
    "plt.ylabel('Density')\n",
    "plt.title(loc+' Dist of PeopleDays Attribution Coef')\n",
    "\n",
    "## Legend\n",
    "#labels = ['1986 - 1995', '1996 - 2005', '2006 - 2015']\n",
    "plt.legend(loc=2, facecolor= 'white', edgecolor = 'white')"
   ]
  },
  {
   "cell_type": "code",
   "execution_count": null,
   "metadata": {},
   "outputs": [],
   "source": [
    "#### Size\n",
    "fig = plt.gcf()\n",
    "fig.set_size_inches(8, 8)\n",
    "\n",
    "data = plotdata_SSA['coef_attrib']\n",
    "plt.hist(data, color = 'r', alpha = 0.5)\n",
    "\n",
    "data = plotdata_EU['coef_attrib']\n",
    "plt.hist(data, color = 'b', alpha = 0.5)\n",
    "\n",
    "data = plotdata_NA['coef_attrib']\n",
    "plt.hist(data, color = 'g', alpha = 0.5)\n"
   ]
  },
  {
   "cell_type": "code",
   "execution_count": null,
   "metadata": {},
   "outputs": [],
   "source": [
    "#### Chunk SSA\n",
    "geog = 'CTR_MN_NM'\n",
    "loc1 = 'Saudi Arabia'\n",
    "chunk_1 = stats[stats[geog] == loc1]\n",
    "plotdata_1 = plot_data(chunk_1, 'ID_HDC_G0')\n",
    "\n",
    "#### Chunk SSA\n",
    "geog = 'CTR_MN_NM'\n",
    "loc2 = 'Mexico'\n",
    "chunk_2 = stats[stats[geog] == loc2]\n",
    "plotdata_2 = plot_data(chunk_2, 'ID_HDC_G0')\n",
    "\n",
    "#### Chunk North America\n",
    "geog = 'CTR_MN_NM'\n",
    "loc3 = 'China'\n",
    "chunk_3 = stats[stats[geog] == loc3]\n",
    "plotdata_3 = plot_data(chunk_3, 'ID_HDC_G0')"
   ]
  },
  {
   "cell_type": "code",
   "execution_count": null,
   "metadata": {
    "scrolled": true
   },
   "outputs": [],
   "source": [
    "bw = 'scott'\n",
    "kws1 = {'bw': bw, 'linewidth': 0, 'shade': True, 'alpha' : 0.05}\n",
    "kws2 = {'bw': bw, 'linewidth': 2, 'shade': False, 'alpha' : 0.5}\n",
    "\n",
    "#### Size\n",
    "fig = plt.gcf()\n",
    "fig.set_size_inches(8, 8)\n",
    "\n",
    "data = plotdata_1['coef_attrib']\n",
    "sns.distplot(data, hist=False, kde=True, color = 'darkblue', kde_kws= kws1)\n",
    "sns.distplot(data, hist=False, kde=True, color = 'darkblue', kde_kws= kws2, label = loc1)\n",
    "\n",
    "data = plotdata_2['coef_attrib']\n",
    "sns.distplot(data, hist=False, kde=True, color = 'red', kde_kws= kws1)\n",
    "sns.distplot(data, hist=False, kde=True, color = 'red', kde_kws= kws2, label = loc2)\n",
    "\n",
    "data = plotdata_3['coef_attrib']\n",
    "sns.distplot(data, hist=False, kde=True, color = 'green', kde_kws= kws1)\n",
    "sns.distplot(data, hist=False, kde=True, color = 'green', kde_kws= kws2, label = loc3)\n",
    "\n",
    "\n",
    "## Labels \n",
    "plt.xlabel('Coef of Attribtuion (Right is people, left heat) 1983 - 2016')\n",
    "plt.ylabel('Density')\n",
    "plt.title(loc+' Dist of PeopleDays Attribution Coef')\n",
    "\n",
    "## Legend\n",
    "#labels = ['1986 - 1995', '1996 - 2005', '2006 - 2015']\n",
    "plt.legend(loc=2, facecolor= 'white', edgecolor = 'white')"
   ]
  },
  {
   "cell_type": "markdown",
   "metadata": {},
   "source": [
    "# Old OLS TEST"
   ]
  },
  {
   "cell_type": "code",
   "execution_count": null,
   "metadata": {},
   "outputs": [],
   "source": [
    "#### Chunk SSA\n",
    "geog = 'CTR_MN_NM'\n",
    "loc = 'Iran'\n",
    "chunk = HI_STATS[HI_STATS[geog] == loc]\n"
   ]
  },
  {
   "cell_type": "code",
   "execution_count": null,
   "metadata": {},
   "outputs": [],
   "source": [
    "chunk.head()"
   ]
  },
  {
   "cell_type": "code",
   "execution_count": null,
   "metadata": {},
   "outputs": [],
   "source": [
    "alpha = 0.05\n",
    "test_ols = OLS_coef(chunk, geog = 'ID_HDC_G0', col = 'total_days', alpha = alpha)\n",
    "test_ols = test_ols[test_ols['p_value'] < 0.05]\n",
    "test_ols.head(1)"
   ]
  },
  {
   "cell_type": "code",
   "execution_count": null,
   "metadata": {},
   "outputs": [],
   "source": [
    "# Get Data\n",
    "df_geog =  HI_STATS[HI_STATS['ID_HDC_G0'] == 5368]\n",
    "col = 'total_days'\n",
    "\n",
    "X_year = np.array(df_geog.groupby('year')['ID_HDC_G0'].mean().index).reshape((-1, 1))\n",
    "Y_stats = np.array(df_geog.groupby('year')[col].sum()).reshape((-1, 1))\n",
    "\n",
    "# Add Intercept\n",
    "X_year_2 = sm.add_constant(X_year)\n",
    "\n",
    "# Regress\n",
    "model = sm.OLS(Y_stats, X_year_2).fit() "
   ]
  },
  {
   "cell_type": "code",
   "execution_count": null,
   "metadata": {},
   "outputs": [],
   "source": [
    "print(model.conf_int(alpha=alpha)[1][0])\n",
    "print(model.conf_int(alpha=alpha)[1][1])\n",
    "print(round(model.params[1], 7))\n",
    "print(model.rsquared_adj)"
   ]
  },
  {
   "cell_type": "code",
   "execution_count": null,
   "metadata": {
    "scrolled": true
   },
   "outputs": [],
   "source": [
    "model.summary()"
   ]
  }
 ],
 "metadata": {
  "kernelspec": {
   "display_name": "geo",
   "language": "python",
   "name": "geo"
  },
  "language_info": {
   "codemirror_mode": {
    "name": "ipython",
    "version": 3
   },
   "file_extension": ".py",
   "mimetype": "text/x-python",
   "name": "python",
   "nbconvert_exporter": "python",
   "pygments_lexer": "ipython3",
   "version": "3.6.7"
  }
 },
 "nbformat": 4,
 "nbformat_minor": 2
}
