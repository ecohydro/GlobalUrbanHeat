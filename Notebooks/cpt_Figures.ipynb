{
 "cells": [
  {
   "cell_type": "markdown",
   "metadata": {},
   "source": [
    "# Figures\n",
    "\n",
    "Notebook to start making figures for Tmax paper.\n",
    "\n",
    "Cascade Tuholske 2019-09-08\n",
    "\n",
    "#### NOTES\n",
    "There seems to be an error w/ ```CHIRTS-GHS-Events/``` whereby it is not capturing each heat event for each city or maybe not spliting them correctly."
   ]
  },
  {
   "cell_type": "markdown",
   "metadata": {},
   "source": [
    "#### Depdendencies"
   ]
  },
  {
   "cell_type": "code",
   "execution_count": 1,
   "metadata": {},
   "outputs": [],
   "source": [
    "import pandas as pd\n",
    "import geopandas as gpd\n",
    "import numpy as np\n",
    "import seaborn as sns\n",
    "import matplotlib.pyplot as plt"
   ]
  },
  {
   "cell_type": "markdown",
   "metadata": {},
   "source": [
    "#### Load and arrange data"
   ]
  },
  {
   "cell_type": "code",
   "execution_count": 2,
   "metadata": {},
   "outputs": [],
   "source": [
    "# file paths\n",
    "\n",
    "TDATA_IN = '/home/cascade/projects/data_out_urbanheat/'\n",
    "GHS_DATA_IN = '/home/CHIRTS/Tmax/cascade/GHS-UCDB/'"
   ]
  },
  {
   "cell_type": "markdown",
   "metadata": {},
   "source": [
    "## RGB Plots\n",
    "\n",
    "For each city:\n",
    "- Total number of days per Year \n",
    "- Total number of events per year\n",
    "- Avg duration of events per year\n",
    "- Avg intensity per event \n",
    "- Avg intensity per year\n",
    "- Severity of each event\n",
    "- Avg. Severity of each event per year\n",
    "\n",
    "To start:\n",
    "- Red = # days in a given year \n",
    "- Green = avg duration in a given year\n",
    "- Blue = avg intensity in a given year"
   ]
  },
  {
   "cell_type": "code",
   "execution_count": 3,
   "metadata": {},
   "outputs": [
    {
     "name": "stdout",
     "output_type": "stream",
     "text": [
      "(4483, 7)\n"
     ]
    }
   ],
   "source": [
    "# Open data\n",
    "events_dir = 'CHIRTS-GHS-Events/'\n",
    "events1983_fn = 'CHIRTS-GHS-Events1983.csv'\n",
    "\n",
    "events1983 = pd.read_csv(TDATA_IN+events_dir+events1983_fn)\n",
    "print(events1983.shape)"
   ]
  },
  {
   "cell_type": "code",
   "execution_count": 4,
   "metadata": {},
   "outputs": [
    {
     "data": {
      "text/html": [
       "<div>\n",
       "<style scoped>\n",
       "    .dataframe tbody tr th:only-of-type {\n",
       "        vertical-align: middle;\n",
       "    }\n",
       "\n",
       "    .dataframe tbody tr th {\n",
       "        vertical-align: top;\n",
       "    }\n",
       "\n",
       "    .dataframe thead th {\n",
       "        text-align: right;\n",
       "    }\n",
       "</style>\n",
       "<table border=\"1\" class=\"dataframe\">\n",
       "  <thead>\n",
       "    <tr style=\"text-align: right;\">\n",
       "      <th></th>\n",
       "      <th>Unnamed: 0</th>\n",
       "      <th>ID_HDC_G0</th>\n",
       "      <th>CTR_MN_NM</th>\n",
       "      <th>Event_Length</th>\n",
       "      <th>Event_Dates</th>\n",
       "      <th>Event_Temps</th>\n",
       "      <th>Event_Severity</th>\n",
       "    </tr>\n",
       "  </thead>\n",
       "  <tbody>\n",
       "    <tr>\n",
       "      <td>0</td>\n",
       "      <td>0</td>\n",
       "      <td>2784</td>\n",
       "      <td>Germany</td>\n",
       "      <td>1</td>\n",
       "      <td>['1983.07.27']</td>\n",
       "      <td>[44.45975]</td>\n",
       "      <td>[3.85975]</td>\n",
       "    </tr>\n",
       "    <tr>\n",
       "      <td>1</td>\n",
       "      <td>1</td>\n",
       "      <td>2372</td>\n",
       "      <td>France</td>\n",
       "      <td>1</td>\n",
       "      <td>['1983.07.31']</td>\n",
       "      <td>[43.331635]</td>\n",
       "      <td>[2.731635]</td>\n",
       "    </tr>\n",
       "    <tr>\n",
       "      <td>2</td>\n",
       "      <td>2</td>\n",
       "      <td>6156</td>\n",
       "      <td>Kazakhstan</td>\n",
       "      <td>1</td>\n",
       "      <td>['1983.07.31']</td>\n",
       "      <td>[41.336376]</td>\n",
       "      <td>[0.736376]</td>\n",
       "    </tr>\n",
       "    <tr>\n",
       "      <td>3</td>\n",
       "      <td>3</td>\n",
       "      <td>2833</td>\n",
       "      <td>Germany</td>\n",
       "      <td>1</td>\n",
       "      <td>['1983.07.27']</td>\n",
       "      <td>[47.49318]</td>\n",
       "      <td>[6.89318]</td>\n",
       "    </tr>\n",
       "    <tr>\n",
       "      <td>4</td>\n",
       "      <td>4</td>\n",
       "      <td>2885</td>\n",
       "      <td>Austria</td>\n",
       "      <td>1</td>\n",
       "      <td>['1983.07.27']</td>\n",
       "      <td>[44.01389]</td>\n",
       "      <td>[3.41389]</td>\n",
       "    </tr>\n",
       "  </tbody>\n",
       "</table>\n",
       "</div>"
      ],
      "text/plain": [
       "   Unnamed: 0  ID_HDC_G0   CTR_MN_NM  Event_Length     Event_Dates  \\\n",
       "0           0       2784     Germany             1  ['1983.07.27']   \n",
       "1           1       2372      France             1  ['1983.07.31']   \n",
       "2           2       6156  Kazakhstan             1  ['1983.07.31']   \n",
       "3           3       2833     Germany             1  ['1983.07.27']   \n",
       "4           4       2885     Austria             1  ['1983.07.27']   \n",
       "\n",
       "   Event_Temps Event_Severity  \n",
       "0   [44.45975]      [3.85975]  \n",
       "1  [43.331635]     [2.731635]  \n",
       "2  [41.336376]     [0.736376]  \n",
       "3   [47.49318]      [6.89318]  \n",
       "4   [44.01389]      [3.41389]  "
      ]
     },
     "execution_count": 4,
     "metadata": {},
     "output_type": "execute_result"
    }
   ],
   "source": [
    "events1983.head()"
   ]
  },
  {
   "cell_type": "code",
   "execution_count": 32,
   "metadata": {},
   "outputs": [],
   "source": [
    "country = events1983[events1983['CTR_MN_NM']=='Sudan']"
   ]
  },
  {
   "cell_type": "code",
   "execution_count": 37,
   "metadata": {},
   "outputs": [
    {
     "data": {
      "text/plain": [
       "\"['1983.04.01' '1983.04.02' '1983.05.03' '1983.05.04' '1983.05.05'\\n '1983.05.06' '1983.05.11' '1983.05.12' '1983.05.13' '1983.05.14'\\n '1983.05.24' '1983.05.25' '1983.05.26' '1983.05.27' '1983.05.28'\\n '1983.05.29' '1983.05.30' '1983.05.31' '1983.06.01' '1983.06.02'\\n '1983.06.03' '1983.06.04' '1983.06.07' '1983.06.08' '1983.06.09'\\n '1983.06.10' '1983.06.11' '1983.06.13' '1983.06.14' '1983.06.15'\\n '1983.06.16' '1983.06.17' '1983.06.18' '1983.06.19' '1983.06.20'\\n '1983.06.21' '1983.06.22' '1983.06.23' '1983.06.24' '1983.06.25'\\n '1983.06.26' '1983.06.27' '1983.06.28' '1983.06.29' '1983.06.30'\\n '1983.07.01' '1983.07.02' '1983.07.03' '1983.07.04' '1983.07.05'\\n '1983.07.06' '1983.07.07' '1983.07.09' '1983.07.10' '1983.07.11'\\n '1983.07.12' '1983.07.13' '1983.07.14' '1983.07.15' '1983.07.16'\\n '1983.07.17' '1983.07.18' '1983.07.19' '1983.07.20' '1983.07.21'\\n '1983.07.22' '1983.07.23' '1983.07.24' '1983.07.25' '1983.07.26'\\n '1983.07.27' '1983.07.28' '1983.07.29' '1983.07.30' '1983.07.31'\\n '1983.08.01' '1983.08.02' '1983.08.03' '1983.08.04' '1983.08.05'\\n '1983.08.06' '1983.08.07' '1983.08.08' '1983.08.09' '1983.08.10'\\n '1983.08.13' '1983.08.14' '1983.08.15' '1983.08.16' '1983.08.17'\\n '1983.08.18' '1983.08.19' '1983.08.20' '1983.08.21' '1983.08.22'\\n '1983.08.23' '1983.08.24' '1983.08.25' '1983.08.26' '1983.08.27'\\n '1983.08.28' '1983.08.29' '1983.08.30' '1983.09.01' '1983.09.02'\\n '1983.09.03' '1983.09.04' '1983.09.05' '1983.09.06' '1983.09.07'\\n '1983.09.08' '1983.09.09' '1983.09.11' '1983.09.12' '1983.09.13'\\n '1983.09.14' '1983.09.15' '1983.09.21' '1983.09.22' '1983.09.23'\\n '1983.09.24' '1983.09.27' '1983.09.28' '1983.09.29' '1983.09.30'\\n '1983.10.01' '1983.10.02' '1983.10.03' '1983.10.04' '1983.10.08'\\n '1983.10.09' '1983.10.10' '1983.10.11' '1983.10.12']\""
      ]
     },
     "execution_count": 37,
     "metadata": {},
     "output_type": "execute_result"
    }
   ],
   "source": [
    "country.iloc[0].Event_Dates"
   ]
  },
  {
   "cell_type": "code",
   "execution_count": 31,
   "metadata": {},
   "outputs": [
    {
     "data": {
      "text/plain": [
       "114"
      ]
     },
     "execution_count": 31,
     "metadata": {},
     "output_type": "execute_result"
    }
   ],
   "source": [
    "len(np.unique(country['ID_HDC_G0']))"
   ]
  },
  {
   "cell_type": "code",
   "execution_count": 12,
   "metadata": {},
   "outputs": [
    {
     "data": {
      "text/plain": [
       "CTR_MN_NM\n",
       "Afghanistan    841\n",
       "Algeria        834\n",
       "Argentina       22\n",
       "Australia        3\n",
       "Austria          2\n",
       "              ... \n",
       "Venezuela        1\n",
       "Vietnam         17\n",
       "Yemen          413\n",
       "Zambia          16\n",
       "Zimbabwe         3\n",
       "Name: Event_Length, Length: 87, dtype: int64"
      ]
     },
     "execution_count": 12,
     "metadata": {},
     "output_type": "execute_result"
    }
   ],
   "source": [
    "events1983.groupby('CTR_MN_NM')['Event_Length'].sum()"
   ]
  },
  {
   "cell_type": "code",
   "execution_count": null,
   "metadata": {},
   "outputs": [],
   "source": [
    "# Total Number of days in a Year\n",
    "events1983_totDays = pd.DataFrame(events1983.groupby('ID_HDC_G0')['Event_Length'].sum())\n",
    "print(events1983_totDays.shape)"
   ]
  },
  {
   "cell_type": "code",
   "execution_count": null,
   "metadata": {},
   "outputs": [],
   "source": [
    "# Total Number of Events per year\n",
    "events1983['Events'] = 1\n",
    "events1983_totEvents = pd.DataFrame(events1983.groupby('ID_HDC_G0')['Events'].sum())"
   ]
  },
  {
   "cell_type": "code",
   "execution_count": null,
   "metadata": {},
   "outputs": [],
   "source": [
    "events1983_totEvents[2000:2050]"
   ]
  },
  {
   "cell_type": "markdown",
   "metadata": {},
   "source": [
    "## Days and Population"
   ]
  },
  {
   "cell_type": "code",
   "execution_count": null,
   "metadata": {},
   "outputs": [],
   "source": [
    "# file names\n",
    "\n",
    "chirts_daily_fn = '20190831_TMax-GHS_TotEvents83-2016.csv'\n",
    "GHS_fn = 'GHS_STAT_UCDB2015MT_GLOBE_R2019A_V1_0.shp'"
   ]
  },
  {
   "cell_type": "code",
   "execution_count": null,
   "metadata": {},
   "outputs": [],
   "source": [
    "# Open daily and GHS_UCDB\n",
    "\n",
    "df_chirts = pd.read_csv(TDATA_IN+chirts_daily_fn)\n",
    "df_ghs = gpd.read_file(GHS_DATA_IN+GHS_fn)\n"
   ]
  },
  {
   "cell_type": "code",
   "execution_count": null,
   "metadata": {},
   "outputs": [],
   "source": [
    "# Map in city populations\n",
    "\n",
    "# Get Pop\n",
    "df_pop = pd.DataFrame()\n",
    "df_pop['ID_HDC_G0'] = df_ghs['ID_HDC_G0']\n",
    "df_pop['P75'] = df_ghs['P75']\n",
    "df_pop['P90'] = df_ghs['P90']\n",
    "df_pop['P00'] = df_ghs['P00']\n",
    "df_pop['P15'] = df_ghs['P15']\n",
    "\n",
    "df_pop.head()"
   ]
  },
  {
   "cell_type": "code",
   "execution_count": null,
   "metadata": {},
   "outputs": [],
   "source": [
    "# merge\n",
    "\n",
    "df_chirts_merge = pd.merge(df_pop, df_chirts, on='ID_HDC_G0', how = 'inner')\n"
   ]
  },
  {
   "cell_type": "code",
   "execution_count": null,
   "metadata": {},
   "outputs": [],
   "source": [
    "df_chirts_merge.head()"
   ]
  },
  {
   "cell_type": "code",
   "execution_count": null,
   "metadata": {},
   "outputs": [],
   "source": [
    "# Make people days\n",
    "\n",
    "df_Tpop = pd.DataFrame()\n",
    "df_Tpop['ID_HDC_G0'] = df_chirts_merge['ID_HDC_G0']\n",
    "df_Tpop['CTR_MN_NM'] = df_chirts_merge['CTR_MN_NM']\n",
    "df_Tpop['P75'] = df_chirts_merge['P75']\n",
    "df_Tpop['P90'] = df_chirts_merge['P90']\n",
    "df_Tpop['P00'] = df_chirts_merge['P00']\n",
    "df_Tpop['P15'] = df_chirts_merge['P15']\n",
    "df_Tpop['1983'] = df_chirts_merge['1983']\n",
    "df_Tpop['1990'] = df_chirts_merge['1990']\n",
    "df_Tpop['2000'] = df_chirts_merge['2000']\n",
    "df_Tpop['2015'] = df_chirts_merge['2015']"
   ]
  },
  {
   "cell_type": "code",
   "execution_count": null,
   "metadata": {},
   "outputs": [],
   "source": [
    "df_Tpop['PD_1983'] = df_Tpop['P75'] * df_Tpop['1983']\n",
    "df_Tpop['PD_1990'] = df_Tpop['P90'] * df_Tpop['1990']\n",
    "df_Tpop['PD_2000'] = df_Tpop['P00'] * df_Tpop['2000']\n",
    "df_Tpop['PD_2015'] = df_Tpop['P15'] * df_Tpop['2015']\n"
   ]
  },
  {
   "cell_type": "code",
   "execution_count": null,
   "metadata": {},
   "outputs": [],
   "source": [
    "df_Tpop[2500:2600]"
   ]
  },
  {
   "cell_type": "code",
   "execution_count": null,
   "metadata": {},
   "outputs": [],
   "source": [
    "# Write it out\n",
    "\n",
    "# df_Tpop.to_csv(TDATA_IN+'CHIRTS-GHS-PeopleDays.csv')"
   ]
  },
  {
   "cell_type": "markdown",
   "metadata": {},
   "source": [
    "#### Sum People Days and Plot it \n",
    "\n",
    "- Dude turn this into a function"
   ]
  },
  {
   "cell_type": "code",
   "execution_count": null,
   "metadata": {},
   "outputs": [],
   "source": [
    "year = '2015' # get Tmax events for a given year\n",
    "pop_year = 'P15' # get the pop for each city\n",
    "\n",
    "pop_tot = df_Tpop.groupby(year)[pop_year].sum() # group pop by tmax events and sum\n",
    "pop_range = (list(range(1,len(pop_tot)+1))) # make a list of range\n",
    "\n",
    "print(len(pop_tot))\n",
    "print(len(pop_range))\n",
    "\n",
    "test = pd.DataFrame()\n",
    "test['pop_tot'] = pop_tot / 10**6\n",
    "test['pop_range'] = pop_range\n",
    "\n",
    "tot = test.pop_tot.sum()\n",
    "print(tot)"
   ]
  },
  {
   "cell_type": "code",
   "execution_count": null,
   "metadata": {},
   "outputs": [],
   "source": [
    "# make plot\n",
    "\n",
    "sns.set(font_scale=1)\n",
    "# fig, ax = plt.subplots(nrows=1, ncols=1)\n",
    "fig = plt.subplots(figsize=[10,10])\n",
    "\n",
    "ax = sns.barplot(x='pop_range', y='pop_tot', data = test)\n",
    "\n",
    "# Colors\n",
    "ax.set_facecolor('White')\n",
    "\n",
    "# control x and y limits\n",
    "plt.ylim(0, 130)\n",
    "plt.xlim(-1, 200)\n",
    "\n",
    "# Labels\n",
    "plt.xlabel('Number of Days Per Year > 40.6C')\n",
    "plt.ylabel('Total Number of Urban Residents Exposed (millions)')\n",
    "plt.title('Number of Urban Residents Exposed to Days >40.6 in '+year)\n",
    "\n",
    "# ticks\n",
    "tick = list(range(0,200, 50))\n",
    "plt.xticks(tick, tick)\n",
    "\n"
   ]
  },
  {
   "cell_type": "markdown",
   "metadata": {},
   "source": [
    "#### Delta Pop vs Delta Temp\n",
    "\n",
    "- Dude turn this into a function"
   ]
  },
  {
   "cell_type": "code",
   "execution_count": null,
   "metadata": {},
   "outputs": [],
   "source": [
    "# get pop\n",
    "\n",
    "p75 = df_Tpop.P75\n",
    "p15 = df_Tpop.P15\n",
    "\n",
    "# delta pop\n",
    "delta_pop = p15 - p75\n",
    "\n",
    "# get Tmax\n",
    "tmax83 = df_Tpop['1983']\n",
    "tmax15 = df_Tpop['2015']\n",
    "\n",
    "delta_tmax = tmax15 - tmax83\n",
    "\n",
    "# get people days\n",
    "pd83 = df_Tpop['PD_1983']\n",
    "pd15 = df_Tpop['PD_2015']\n",
    "\n",
    "delta_pd = pd15 - pd83\n",
    "\n",
    "# make df\n",
    "df_delta = pd.DataFrame()\n",
    "df_delta['delta_pop'] = np.log10(delta_pop)\n",
    "df_delta['delta_tmax'] = delta_tmax\n",
    "df_delta['delta_pd'] = np.log10(delta_pd)"
   ]
  },
  {
   "cell_type": "code",
   "execution_count": null,
   "metadata": {},
   "outputs": [],
   "source": [
    "# make plot\n",
    "\n",
    "sns.set(font_scale=1)\n",
    "# fig, ax = plt.subplots(nrows=1, ncols=1)\n",
    "fig = plt.subplots(figsize=[10,10])\n",
    "\n",
    "ax = sns.scatterplot(x='delta_tmax', y='delta_pd', data = df_delta, alpha = 0.5)\n",
    "\n",
    "# Colors\n",
    "# ax.set_facecolor('White')\n",
    "\n",
    "# control x and y limits\n",
    "# plt.ylim(0, 8)\n",
    "# plt.xlim(-25, 70)\n",
    "\n",
    "# Labels\n",
    "plt.ylabel('Log10 Change 2015 - 1983 in PeopleDays (# of days per year >40.6C x population)')\n",
    "plt.xlabel('Change 2015 - 1983 in number of days >40.6C')\n",
    "plt.title('Global change in People Days vs change in number of days >40.6C 1983 - 2015')\n",
    "\n",
    "\n",
    "plt.axvline(x=0, color = 'black')\n",
    "# plt.axhline(y=2, color = 'black')\n",
    "\n",
    "# ticks\n",
    "# tick = list(range(0,200, 50))\n",
    "# plt.xticks(tick, tick)\n"
   ]
  },
  {
   "cell_type": "markdown",
   "metadata": {},
   "source": [
    "#### All events vs all Pop by year w/ size = to People Days\n",
    "\n",
    "- Dude turn this into a function"
   ]
  },
  {
   "cell_type": "code",
   "execution_count": null,
   "metadata": {},
   "outputs": [],
   "source": [
    "# Get tmax\n",
    "tmax83 = df_Tpop['1983']\n",
    "tmax90 = df_Tpop['1990']\n",
    "tmax00 = df_Tpop['2000']\n",
    "tmax15 = df_Tpop['2015']\n",
    "\n",
    "# Get People Days\n",
    "pd83 = df_Tpop['PD_1983']\n",
    "pd90 = df_Tpop['PD_1990']\n",
    "pd00 = df_Tpop['PD_2000']\n",
    "pd15 = df_Tpop['PD_2015']\n",
    "\n",
    "# Get Pop \n",
    "p75 = df_Tpop.P75\n",
    "p90 = df_Tpop.P90\n",
    "p00 = df_Tpop.P00\n",
    "p15 = df_Tpop.P15"
   ]
  },
  {
   "cell_type": "code",
   "execution_count": null,
   "metadata": {},
   "outputs": [],
   "source": [
    "np.unique(p15)"
   ]
  },
  {
   "cell_type": "code",
   "execution_count": null,
   "metadata": {},
   "outputs": [],
   "source": [
    "def make_df(tmax, pday, pop, year):\n",
    "    l = len(tmax)\n",
    "    year_list = [year] * l\n",
    "    \n",
    "    df = pd.DataFrame()\n",
    "    df['events'] = tmax\n",
    "    df['pop'] = np.log10(pop)\n",
    "    df['pday'] = pday\n",
    "    df['year'] = year_list\n",
    "    \n",
    "    return df"
   ]
  },
  {
   "cell_type": "code",
   "execution_count": null,
   "metadata": {},
   "outputs": [],
   "source": [
    "# make my data\n",
    "df83 = make_df(tmax83, pd83, p75, 'Year 1983')\n",
    "df90 = make_df(tmax90, pd90, p90, 'Year 1990')\n",
    "df00 = make_df(tmax00, pd00, p00, 'Year 2000')\n",
    "df15 = make_df(tmax15, pd15, p15, 'Year 2015')\n",
    "\n",
    "# concat it\n",
    "df_concat = pd.concat([df83, df90, df00, df15])\n",
    "df_concat.shape"
   ]
  },
  {
   "cell_type": "code",
   "execution_count": null,
   "metadata": {},
   "outputs": [],
   "source": [
    "# make plot\n",
    "\n",
    "sns.set(font_scale=1)\n",
    "# fig, ax = plt.subplots(nrows=1, ncols=1)\n",
    "fig = plt.subplots(figsize=[15,15])\n",
    "\n",
    "ax = sns.scatterplot(x='pop', y='events', hue = 'year', data = df_concat, alpha = 0.7)\n",
    "\n",
    "# Colors\n",
    "ax.set_facecolor('White')\n",
    "\n",
    "# control x and y limits\n",
    "plt.ylim(0, 200)\n",
    "plt.xlim(-2, 10)\n",
    "\n",
    "# Labels\n",
    "# plt.ylabel('Change in population, 1975 - 2015 (log 10)')\n",
    "# plt.xlabel('Change in number of days per year >40.6, 1983 - 2015')\n",
    "# plt.title('Change in number of days per year >40.6 vs. Change in Population 1983 - 2015')\n",
    "\n",
    "\n",
    "# plt.axvline(x=0, color = 'black')\n",
    "# # plt.axhline(y=2, color = 'black')\n",
    "\n",
    "# ticks\n",
    "# tick = list(range(0,200, 50))\n",
    "# plt.xticks(tick, tick)\n"
   ]
  }
 ],
 "metadata": {
  "kernelspec": {
   "display_name": "geo",
   "language": "python",
   "name": "geo"
  },
  "language_info": {
   "codemirror_mode": {
    "name": "ipython",
    "version": 3
   },
   "file_extension": ".py",
   "mimetype": "text/x-python",
   "name": "python",
   "nbconvert_exporter": "python",
   "pygments_lexer": "ipython3",
   "version": "3.6.7"
  }
 },
 "nbformat": 4,
 "nbformat_minor": 2
}
