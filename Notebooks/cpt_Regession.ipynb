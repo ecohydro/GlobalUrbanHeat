{
 "cells": [
  {
   "cell_type": "markdown",
   "metadata": {},
   "source": [
    "# Regession\n",
    "\n",
    "The goal of this notebook is to make a time series regression for annual total days, # events, intensity, duration, severity, etc. at the global scale, regional, country and city level"
   ]
  },
  {
   "cell_type": "markdown",
   "metadata": {},
   "source": [
    "#### Dependencie"
   ]
  },
  {
   "cell_type": "code",
   "execution_count": 4,
   "metadata": {},
   "outputs": [],
   "source": [
    "import pandas as pd\n",
    "import geopandas as gpd\n",
    "import numpy as np  \n",
    "import matplotlib.pyplot as plt  \n",
    "import seaborn as seabornInstance \n",
    "from sklearn.model_selection import train_test_split \n",
    "from sklearn.linear_model import LinearRegression\n",
    "from sklearn import metrics\n",
    "import statsmodels.api as sm"
   ]
  },
  {
   "cell_type": "markdown",
   "metadata": {},
   "source": [
    "#### Files"
   ]
  },
  {
   "cell_type": "code",
   "execution_count": 5,
   "metadata": {},
   "outputs": [],
   "source": [
    "DATA_IN = \"/home/cascade/projects/data_out_urbanheat/\"  # Note: Need ?dl=1 to make sure this file gets read correctly\n",
    "FN = 'All_data20191109_final.csv'\n",
    "df = pd.read_csv(DATA_IN+FN)\n",
    "FIG_OUT = '/home/cascade/projects/figures/'\n",
    "\n",
    "# open GHS-UCDB\n",
    "ghs = gpd.read_file('/home/cascade/tana-crunch-cascade/projects/UrbanHeat/data/raw/GHS_UCDB/GHS_STAT_UCDB2015MT_GLOBE_R2019A_V1_0.shp')\n"
   ]
  },
  {
   "cell_type": "code",
   "execution_count": null,
   "metadata": {
    "scrolled": true
   },
   "outputs": [],
   "source": [
    "df.head()"
   ]
  },
  {
   "cell_type": "code",
   "execution_count": 30,
   "metadata": {},
   "outputs": [],
   "source": [
    "# Add Severity\n",
    "df['severity'] = df['tot_intensity'] * df['duration']\n"
   ]
  },
  {
   "cell_type": "code",
   "execution_count": 9,
   "metadata": {},
   "outputs": [
    {
     "data": {
      "text/html": [
       "<div>\n",
       "<style scoped>\n",
       "    .dataframe tbody tr th:only-of-type {\n",
       "        vertical-align: middle;\n",
       "    }\n",
       "\n",
       "    .dataframe tbody tr th {\n",
       "        vertical-align: top;\n",
       "    }\n",
       "\n",
       "    .dataframe thead th {\n",
       "        text-align: right;\n",
       "    }\n",
       "</style>\n",
       "<table border=\"1\" class=\"dataframe\">\n",
       "  <thead>\n",
       "    <tr style=\"text-align: right;\">\n",
       "      <th></th>\n",
       "      <th>ID_HDC_G0</th>\n",
       "      <th>AREA</th>\n",
       "      <th>P75</th>\n",
       "      <th>P90</th>\n",
       "      <th>P00</th>\n",
       "      <th>P15</th>\n",
       "      <th>geometry</th>\n",
       "    </tr>\n",
       "  </thead>\n",
       "  <tbody>\n",
       "    <tr>\n",
       "      <td>0</td>\n",
       "      <td>5782</td>\n",
       "      <td>23</td>\n",
       "      <td>76680.40387</td>\n",
       "      <td>77349.278442</td>\n",
       "      <td>75261.170776</td>\n",
       "      <td>69023.903442</td>\n",
       "      <td>POLYGON ((88.1393063460871 69.36230222917577, ...</td>\n",
       "    </tr>\n",
       "  </tbody>\n",
       "</table>\n",
       "</div>"
      ],
      "text/plain": [
       "   ID_HDC_G0  AREA          P75           P90           P00           P15  \\\n",
       "0       5782    23  76680.40387  77349.278442  75261.170776  69023.903442   \n",
       "\n",
       "                                            geometry  \n",
       "0  POLYGON ((88.1393063460871 69.36230222917577, ...  "
      ]
     },
     "execution_count": 9,
     "metadata": {},
     "output_type": "execute_result"
    }
   ],
   "source": [
    "# Get populuations and area\n",
    "\n",
    "df_pop = pd.DataFrame()\n",
    "df_pop['ID_HDC_G0'] = ghs['ID_HDC_G0']\n",
    "df_pop['AREA'] = ghs['AREA']\n",
    "df_pop['P75'] = ghs['P75']\n",
    "df_pop['P90'] = ghs['P90']\n",
    "df_pop['P00'] = ghs['P00']\n",
    "df_pop['P15'] =  ghs['P15']\n",
    "df_pop['geometry'] = ghs['geometry']\n",
    "\n",
    "df_pop.head(1)"
   ]
  },
  {
   "cell_type": "code",
   "execution_count": 10,
   "metadata": {},
   "outputs": [],
   "source": [
    "df = df.merge(df_pop, on = 'ID_HDC_G0', how = 'inner')"
   ]
  },
  {
   "cell_type": "code",
   "execution_count": 11,
   "metadata": {},
   "outputs": [
    {
     "data": {
      "text/html": [
       "<div>\n",
       "<style scoped>\n",
       "    .dataframe tbody tr th:only-of-type {\n",
       "        vertical-align: middle;\n",
       "    }\n",
       "\n",
       "    .dataframe tbody tr th {\n",
       "        vertical-align: top;\n",
       "    }\n",
       "\n",
       "    .dataframe thead th {\n",
       "        text-align: right;\n",
       "    }\n",
       "</style>\n",
       "<table border=\"1\" class=\"dataframe\">\n",
       "  <thead>\n",
       "    <tr style=\"text-align: right;\">\n",
       "      <th></th>\n",
       "      <th>Unnamed: 0</th>\n",
       "      <th>CTR_MN_NM</th>\n",
       "      <th>Event_ID</th>\n",
       "      <th>GCPNT_LAT</th>\n",
       "      <th>GCPNT_LON</th>\n",
       "      <th>ID_HDC_G0</th>\n",
       "      <th>avg_intensity</th>\n",
       "      <th>avg_temp</th>\n",
       "      <th>duration</th>\n",
       "      <th>event_dates</th>\n",
       "      <th>...</th>\n",
       "      <th>tot_intensity</th>\n",
       "      <th>total_days</th>\n",
       "      <th>year</th>\n",
       "      <th>start_date</th>\n",
       "      <th>AREA</th>\n",
       "      <th>P75</th>\n",
       "      <th>P90</th>\n",
       "      <th>P00</th>\n",
       "      <th>P15</th>\n",
       "      <th>geometry</th>\n",
       "    </tr>\n",
       "  </thead>\n",
       "  <tbody>\n",
       "    <tr>\n",
       "      <td>0</td>\n",
       "      <td>0</td>\n",
       "      <td>Germany</td>\n",
       "      <td>1</td>\n",
       "      <td>48.138002</td>\n",
       "      <td>11.563435</td>\n",
       "      <td>2784</td>\n",
       "      <td>3.859750</td>\n",
       "      <td>44.459750</td>\n",
       "      <td>1</td>\n",
       "      <td>['1983.07.27']</td>\n",
       "      <td>...</td>\n",
       "      <td>3.859750</td>\n",
       "      <td>1</td>\n",
       "      <td>1983</td>\n",
       "      <td>1983.07.27</td>\n",
       "      <td>349</td>\n",
       "      <td>883145.629391</td>\n",
       "      <td>1.097815e+06</td>\n",
       "      <td>1.307097e+06</td>\n",
       "      <td>1.573652e+06</td>\n",
       "      <td>POLYGON ((11.46764478885785 48.24059688257268,...</td>\n",
       "    </tr>\n",
       "    <tr>\n",
       "      <td>1</td>\n",
       "      <td>1</td>\n",
       "      <td>Germany</td>\n",
       "      <td>763005</td>\n",
       "      <td>48.138002</td>\n",
       "      <td>11.563435</td>\n",
       "      <td>2784</td>\n",
       "      <td>0.058337</td>\n",
       "      <td>40.658337</td>\n",
       "      <td>1</td>\n",
       "      <td>['2013.08.06']</td>\n",
       "      <td>...</td>\n",
       "      <td>0.058337</td>\n",
       "      <td>1</td>\n",
       "      <td>2013</td>\n",
       "      <td>2013.08.06</td>\n",
       "      <td>349</td>\n",
       "      <td>883145.629391</td>\n",
       "      <td>1.097815e+06</td>\n",
       "      <td>1.307097e+06</td>\n",
       "      <td>1.573652e+06</td>\n",
       "      <td>POLYGON ((11.46764478885785 48.24059688257268,...</td>\n",
       "    </tr>\n",
       "    <tr>\n",
       "      <td>2</td>\n",
       "      <td>2</td>\n",
       "      <td>Germany</td>\n",
       "      <td>4</td>\n",
       "      <td>47.849642</td>\n",
       "      <td>12.102591</td>\n",
       "      <td>2833</td>\n",
       "      <td>6.893180</td>\n",
       "      <td>47.493180</td>\n",
       "      <td>1</td>\n",
       "      <td>['1983.07.27']</td>\n",
       "      <td>...</td>\n",
       "      <td>6.893180</td>\n",
       "      <td>1</td>\n",
       "      <td>1983</td>\n",
       "      <td>1983.07.27</td>\n",
       "      <td>25</td>\n",
       "      <td>58618.272278</td>\n",
       "      <td>6.147326e+04</td>\n",
       "      <td>6.477523e+04</td>\n",
       "      <td>6.497856e+04</td>\n",
       "      <td>POLYGON ((12.10738143594193 47.87351619009313,...</td>\n",
       "    </tr>\n",
       "    <tr>\n",
       "      <td>3</td>\n",
       "      <td>3</td>\n",
       "      <td>Germany</td>\n",
       "      <td>22703</td>\n",
       "      <td>47.849642</td>\n",
       "      <td>12.102591</td>\n",
       "      <td>2833</td>\n",
       "      <td>1.187350</td>\n",
       "      <td>41.787350</td>\n",
       "      <td>1</td>\n",
       "      <td>['1984.07.11']</td>\n",
       "      <td>...</td>\n",
       "      <td>1.187350</td>\n",
       "      <td>1</td>\n",
       "      <td>1984</td>\n",
       "      <td>1984.07.11</td>\n",
       "      <td>25</td>\n",
       "      <td>58618.272278</td>\n",
       "      <td>6.147326e+04</td>\n",
       "      <td>6.477523e+04</td>\n",
       "      <td>6.497856e+04</td>\n",
       "      <td>POLYGON ((12.10738143594193 47.87351619009313,...</td>\n",
       "    </tr>\n",
       "    <tr>\n",
       "      <td>4</td>\n",
       "      <td>4</td>\n",
       "      <td>Germany</td>\n",
       "      <td>349979</td>\n",
       "      <td>47.849642</td>\n",
       "      <td>12.102591</td>\n",
       "      <td>2833</td>\n",
       "      <td>0.793425</td>\n",
       "      <td>41.393425</td>\n",
       "      <td>1</td>\n",
       "      <td>['1998.08.11']</td>\n",
       "      <td>...</td>\n",
       "      <td>0.793425</td>\n",
       "      <td>1</td>\n",
       "      <td>1998</td>\n",
       "      <td>1998.08.11</td>\n",
       "      <td>25</td>\n",
       "      <td>58618.272278</td>\n",
       "      <td>6.147326e+04</td>\n",
       "      <td>6.477523e+04</td>\n",
       "      <td>6.497856e+04</td>\n",
       "      <td>POLYGON ((12.10738143594193 47.87351619009313,...</td>\n",
       "    </tr>\n",
       "  </tbody>\n",
       "</table>\n",
       "<p>5 rows × 25 columns</p>\n",
       "</div>"
      ],
      "text/plain": [
       "   Unnamed: 0 CTR_MN_NM  Event_ID  GCPNT_LAT  GCPNT_LON  ID_HDC_G0  \\\n",
       "0           0   Germany         1  48.138002  11.563435       2784   \n",
       "1           1   Germany    763005  48.138002  11.563435       2784   \n",
       "2           2   Germany         4  47.849642  12.102591       2833   \n",
       "3           3   Germany     22703  47.849642  12.102591       2833   \n",
       "4           4   Germany    349979  47.849642  12.102591       2833   \n",
       "\n",
       "   avg_intensity   avg_temp  duration     event_dates  ... tot_intensity  \\\n",
       "0       3.859750  44.459750         1  ['1983.07.27']  ...      3.859750   \n",
       "1       0.058337  40.658337         1  ['2013.08.06']  ...      0.058337   \n",
       "2       6.893180  47.493180         1  ['1983.07.27']  ...      6.893180   \n",
       "3       1.187350  41.787350         1  ['1984.07.11']  ...      1.187350   \n",
       "4       0.793425  41.393425         1  ['1998.08.11']  ...      0.793425   \n",
       "\n",
       "  total_days  year  start_date AREA            P75           P90  \\\n",
       "0          1  1983  1983.07.27  349  883145.629391  1.097815e+06   \n",
       "1          1  2013  2013.08.06  349  883145.629391  1.097815e+06   \n",
       "2          1  1983  1983.07.27   25   58618.272278  6.147326e+04   \n",
       "3          1  1984  1984.07.11   25   58618.272278  6.147326e+04   \n",
       "4          1  1998  1998.08.11   25   58618.272278  6.147326e+04   \n",
       "\n",
       "            P00           P15  \\\n",
       "0  1.307097e+06  1.573652e+06   \n",
       "1  1.307097e+06  1.573652e+06   \n",
       "2  6.477523e+04  6.497856e+04   \n",
       "3  6.477523e+04  6.497856e+04   \n",
       "4  6.477523e+04  6.497856e+04   \n",
       "\n",
       "                                            geometry  \n",
       "0  POLYGON ((11.46764478885785 48.24059688257268,...  \n",
       "1  POLYGON ((11.46764478885785 48.24059688257268,...  \n",
       "2  POLYGON ((12.10738143594193 47.87351619009313,...  \n",
       "3  POLYGON ((12.10738143594193 47.87351619009313,...  \n",
       "4  POLYGON ((12.10738143594193 47.87351619009313,...  \n",
       "\n",
       "[5 rows x 25 columns]"
      ]
     },
     "execution_count": 11,
     "metadata": {},
     "output_type": "execute_result"
    }
   ],
   "source": [
    "df.head()"
   ]
  },
  {
   "cell_type": "markdown",
   "metadata": {},
   "source": [
    "# What is the slope of the heat wave characteristics over time?"
   ]
  },
  {
   "cell_type": "code",
   "execution_count": null,
   "metadata": {
    "scrolled": true
   },
   "outputs": [],
   "source": [
    "data = df.groupby(['year'])['duration'].mean()\n",
    "plt.plot(data)\n",
    "plt.title('Global Duration')"
   ]
  },
  {
   "cell_type": "code",
   "execution_count": null,
   "metadata": {},
   "outputs": [],
   "source": [
    "data = df.groupby(['year'])['tot_intensity'].mean()\n",
    "plt.plot(data)\n",
    "plt.title('Global Intensity')"
   ]
  },
  {
   "cell_type": "code",
   "execution_count": null,
   "metadata": {},
   "outputs": [],
   "source": [
    "data = df.groupby(['year'])['severity'].mean()\n",
    "plt.plot(data)\n",
    "plt.title('Global Severity')"
   ]
  },
  {
   "cell_type": "code",
   "execution_count": 99,
   "metadata": {},
   "outputs": [
    {
     "data": {
      "text/plain": [
       "Text(0.5, 1.0, 'Global Frequency per Year')"
      ]
     },
     "execution_count": 99,
     "metadata": {},
     "output_type": "execute_result"
    },
    {
     "data": {
      "image/png": "[encoded data removed]",
      "text/plain": [
       "<Figure size 432x288 with 1 Axes>"
      ]
     },
     "metadata": {
      "needs_background": "light"
     },
     "output_type": "display_data"
    }
   ],
   "source": [
    "data = df.groupby(['year'])['tot_intensity'].count()\n",
    "plt.plot(data)\n",
    "plt.title('Global Frequency per Year')"
   ]
  },
  {
   "cell_type": "code",
   "execution_count": null,
   "metadata": {},
   "outputs": [],
   "source": [
    "data = df.drop_duplicates(['year', 'ID_HDC_G0'], keep = 'first')\n",
    "data = data.groupby('year')['total_days'].sum()\n",
    "plt.plot(data)\n",
    "plt.title('Global Total Days per year >40.6C')"
   ]
  },
  {
   "cell_type": "code",
   "execution_count": null,
   "metadata": {},
   "outputs": [],
   "source": [
    "#### All stacked\n",
    "\n",
    "fig, (ax1, ax2, ax3, ax4, ax5) = plt.subplots(5, figsize = (10,16), sharex=True)\n",
    "fig.suptitle('Characteristics of Urban Extreme Heat Events Globally 1983 - 2016')\n",
    "\n",
    "# Mean Duration\n",
    "data = df.groupby(['year'])['duration'].mean()\n",
    "ax1.plot(data)\n",
    "ax1.set_title('Mean Duration')\n",
    "ax1.set_ylabel('Consecutive Days')\n",
    "\n",
    "# Mean Intensity\n",
    "data = df.groupby(['year'])['tot_intensity'].mean()\n",
    "ax2.plot(data)\n",
    "ax2.set_title('Mean Intensity')\n",
    "ax2.set_ylabel('Degrees C > 40.6C')\n",
    "\n",
    "# Mean Severity \n",
    "data = df.groupby(['year'])['severity'].mean()\n",
    "ax3.plot(data)\n",
    "ax3.set_title('Mean Severity')\n",
    "ax3.set_ylabel('Duration x Intensity')\n",
    "\n",
    "# Total Number of Events \n",
    "data = df.groupby(['year'])['tot_intensity'].count()\n",
    "ax4.plot(data)\n",
    "ax4.set_title('Total Frequency per Year')\n",
    "ax4.set_ylabel('Number of Events')\n",
    "\n",
    "# Total Number of Days Per Year \n",
    "data = df.drop_duplicates(['year', 'ID_HDC_G0'], keep = 'first')\n",
    "data = data.groupby('year')['total_days'].sum()\n",
    "ax5.plot(data)\n",
    "ax5.set_title('Global Total Days per year >40.6C')\n",
    "ax5.set_ylabel('Days Per Year')\n",
    "ax5.set_xlabel('Year')\n",
    "\n",
    "# Set year axes\n",
    "for ax in fig.get_axes():\n",
    "    ax.label_outer()\n",
    "    \n",
    "# Fig save\n",
    "plt.savefig(FIG_OUT+'Fig1_v1')"
   ]
  },
  {
   "cell_type": "markdown",
   "metadata": {},
   "source": [
    "#### Frequency by region"
   ]
  },
  {
   "cell_type": "code",
   "execution_count": null,
   "metadata": {
    "scrolled": true
   },
   "outputs": [],
   "source": [
    "# plot by region \n",
    "ylabel = 'Frequency of heat waves per year'\n",
    "\n",
    "fig, ax = plt.subplots(figsize=(8,6))\n",
    "labels = []\n",
    "for label, df_c in df.groupby('sub-region'):\n",
    "    data = df_c.groupby('year')['ID_HDC_G0'].count()\n",
    "    labels.append(label)\n",
    "    plt.plot(data, alpha = 0.9)\n",
    "\n",
    "plt.legend(labels, bbox_to_anchor=(1.04,1), loc=\"upper left\", fontsize = 15)\n",
    "plt.title('Total of heat wave events of Heat Waves', fontsize = 15)\n",
    "plt.xlabel('Year', fontsize = 15)\n",
    "plt.ylabel(ylabel, fontsize = 15)\n",
    "#plt.ylabel('Number of Heat Waves', fontsize = 15)"
   ]
  },
  {
   "cell_type": "markdown",
   "metadata": {},
   "source": [
    "#### Duration by region"
   ]
  },
  {
   "cell_type": "code",
   "execution_count": null,
   "metadata": {
    "scrolled": false
   },
   "outputs": [],
   "source": [
    "# plot by region \n",
    "ylabel = 'Annual average duration of heat waves per year'\n",
    "\n",
    "fig, ax = plt.subplots(figsize=(8,6))\n",
    "labels = []\n",
    "for label, df_c in df.groupby('sub-region'):\n",
    "    data = df_c.groupby('year')['duration'].mean()\n",
    "    labels.append(label)\n",
    "    plt.plot(data, alpha = 0.9)\n",
    "\n",
    "plt.legend(labels, bbox_to_anchor=(1.04,1), loc=\"upper left\", fontsize = 15)\n",
    "plt.title('Total of heat wave events of Heat Waves', fontsize = 15)\n",
    "plt.xlabel('Year', fontsize = 15)\n",
    "plt.ylabel(ylabel, fontsize = 15)\n",
    "#plt.ylabel('Number of Heat Waves', fontsize = 15)"
   ]
  },
  {
   "cell_type": "markdown",
   "metadata": {},
   "source": [
    "#### Severity by region"
   ]
  },
  {
   "cell_type": "code",
   "execution_count": null,
   "metadata": {
    "scrolled": false
   },
   "outputs": [],
   "source": [
    "# plot by region \n",
    "ylabel = 'Annual average severity of heat waves per year'\n",
    "\n",
    "fig, ax = plt.subplots(figsize=(8,6))\n",
    "labels = []\n",
    "for label, df_c in df.groupby('sub-region'):\n",
    "    data = df_c.groupby('year')['severity'].mean()\n",
    "    labels.append(label)\n",
    "    plt.plot(data, alpha = 0.9)\n",
    "\n",
    "plt.legend(labels, bbox_to_anchor=(1.04,1), loc=\"upper left\", fontsize = 15)\n",
    "plt.title('Annual average severity of heat waves per year', fontsize = 15)\n",
    "plt.xlabel('Year', fontsize = 15)\n",
    "plt.ylabel(ylabel, fontsize = 15)\n",
    "#plt.ylabel('Number of Heat Waves', fontsize = 15)"
   ]
  },
  {
   "cell_type": "markdown",
   "metadata": {},
   "source": [
    "#### Intensity by region"
   ]
  },
  {
   "cell_type": "code",
   "execution_count": null,
   "metadata": {},
   "outputs": [],
   "source": [
    "# plot by region \n",
    "ylabel = 'Annual average total intensity of heat waves per year'\n",
    "\n",
    "fig, ax = plt.subplots(figsize=(8,6))\n",
    "labels = []\n",
    "for label, df_c in df.groupby('sub-region'):\n",
    "    data = df_c.groupby('year')['tot_intensity'].mean()\n",
    "    labels.append(label)\n",
    "    plt.plot(data, alpha = 0.9)\n",
    "\n",
    "plt.legend(labels, bbox_to_anchor=(1.04,1), loc=\"upper left\", fontsize = 15)\n",
    "plt.title('Annual average total intensity of heat waves per year', fontsize = 15)\n",
    "plt.xlabel('Year', fontsize = 15)\n",
    "plt.ylabel(ylabel, fontsize = 15)\n",
    "#plt.ylabel('Number of Heat Waves', fontsize = 15)"
   ]
  },
  {
   "cell_type": "markdown",
   "metadata": {},
   "source": [
    "#### Days per year by region"
   ]
  },
  {
   "cell_type": "code",
   "execution_count": null,
   "metadata": {
    "scrolled": false
   },
   "outputs": [],
   "source": [
    "# plot by region \n",
    "ylabel = 'Avg number of days per year'\n",
    "\n",
    "fig, ax = plt.subplots(figsize=(8,6))\n",
    "labels = []\n",
    "for label, df_c in df.groupby('sub-region'):\n",
    "    data = df_c.drop_duplicates(['year', 'ID_HDC_G0'], keep = 'first')\n",
    "    data = data.groupby('year')['total_days'].sum()\n",
    "    labels.append(label)\n",
    "    plt.plot(data, alpha = 0.9)\n",
    "\n",
    "plt.legend(labels, bbox_to_anchor=(1.04,1), loc=\"upper left\", fontsize = 15)\n",
    "plt.title('Avg total of days per year Tmax >40.6C by city', fontsize = 15)\n",
    "plt.xlabel('Year', fontsize = 15)\n",
    "plt.ylabel(ylabel, fontsize = 15)\n"
   ]
  },
  {
   "cell_type": "markdown",
   "metadata": {},
   "source": [
    "# Plots by each event start date"
   ]
  },
  {
   "cell_type": "code",
   "execution_count": null,
   "metadata": {},
   "outputs": [],
   "source": [
    "india = df[df['CTR_MN_NM'] == 'India']"
   ]
  },
  {
   "cell_type": "code",
   "execution_count": null,
   "metadata": {},
   "outputs": [],
   "source": [
    "y = india['duration']\n",
    "x = pd.to_datetime(india['start_date'])"
   ]
  },
  {
   "cell_type": "code",
   "execution_count": null,
   "metadata": {},
   "outputs": [],
   "source": [
    "plt.scatter(x,y, alpha = 0.1)"
   ]
  },
  {
   "cell_type": "markdown",
   "metadata": {},
   "source": [
    "# Regessions\n",
    "\n",
    "-- double check this"
   ]
  },
  {
   "cell_type": "code",
   "execution_count": null,
   "metadata": {
    "scrolled": true
   },
   "outputs": [],
   "source": [
    "from numpy.polynomial.polynomial import polyfit\n",
    "\n",
    "# make things easier for OLS\n",
    "regressor = LinearRegression()  \n",
    "\n",
    "# Geog \n",
    "geog = 'CTR_MN_NM'\n",
    "\n",
    "# Set stat\n",
    "stats = 'severity'\n",
    "\n",
    "# Get results\n",
    "\n",
    "labels = []\n",
    "r2_list = []\n",
    "coef_list = []\n",
    "p_list = []\n",
    "df_out = pd.DataFrame()\n",
    "\n",
    "for label, df_c in df.groupby(geog):\n",
    "    \n",
    "    # Get Data\n",
    "    X_year = np.array(df_c.groupby('year')['ID_HDC_G0'].mean().index).reshape((-1, 1))\n",
    "    Y_stats = np.array(df_c.groupby('year')[stats].count()).reshape((-1, 1))\n",
    "    \n",
    "    # Regress\n",
    "    model = sm.OLS(Y_stats, X_year).fit()\n",
    "    coef = model.params[0]\n",
    "    r2 = model.rsquared_adj\n",
    "    p = model.pvalues[0]\n",
    "    \n",
    "    # Make lists\n",
    "    labels.append(label)\n",
    "    r2_list.append(r2)\n",
    "    coef_list.append(coef)\n",
    "    p_list.append(p)\n",
    "#     print(label)\n",
    "#     print(model.summary())\n",
    "    \n",
    "# Make data frame\n",
    "df_out[geog] = labels\n",
    "df_out['r2'] = r2_list\n",
    "df_out['slope'] = coef_list\n",
    "df_out['p_value'] = [round(elem, 4) for elem in p_list]"
   ]
  },
  {
   "cell_type": "code",
   "execution_count": null,
   "metadata": {},
   "outputs": [],
   "source": [
    "print('Reg. results for average annual severity by year 1983 - 2016')\n",
    "df_out.head(50)"
   ]
  },
  {
   "cell_type": "code",
   "execution_count": null,
   "metadata": {},
   "outputs": [],
   "source": [
    "print(len(df_out))\n",
    "df_out_sub = df_out[df_out['r2'] > 0]\n",
    "print(len(df_out_sub))"
   ]
  },
  {
   "cell_type": "code",
   "execution_count": null,
   "metadata": {},
   "outputs": [],
   "source": [
    "plt.hist(df_out_sub['slope'])\n",
    "plt.title('City-level slope for total number of events increase 1982 - 2016')\n",
    "plt.xlabel('slope')\n",
    "plt.ylabel('Number of cities')"
   ]
  },
  {
   "cell_type": "code",
   "execution_count": null,
   "metadata": {},
   "outputs": [],
   "source": [
    "data = df[df[geog] == 'Iraq']\n",
    "year = np.array(data.groupby('year')['ID_HDC_G0'].mean().index).reshape((-1, 1))\n",
    "stats = np.array(data.groupby('year')['severity'].mean()).reshape((-1, 1))"
   ]
  },
  {
   "cell_type": "code",
   "execution_count": null,
   "metadata": {
    "scrolled": false
   },
   "outputs": [],
   "source": [
    "plt.plot(year, stats)"
   ]
  },
  {
   "cell_type": "markdown",
   "metadata": {},
   "source": [
    "# Population and Area Weighted Totals\n",
    "see: https://pbpython.com/weighted-average.html"
   ]
  },
  {
   "cell_type": "code",
   "execution_count": 22,
   "metadata": {
    "scrolled": true
   },
   "outputs": [
    {
     "data": {
      "text/plain": [
       "Text(0.5, 1.0, 'Global Duration')"
      ]
     },
     "execution_count": 22,
     "metadata": {},
     "output_type": "execute_result"
    },
    {
     "data": {
      "image/png": "[encoded data removed]",
      "text/plain": [
       "<Figure size 432x288 with 1 Axes>"
      ]
     },
     "metadata": {
      "needs_background": "light"
     },
     "output_type": "display_data"
    }
   ],
   "source": [
    "data = df.groupby(['year']).apply(lambda x: np.average(x['duration'], weights=x['P15']))\n",
    "plt.plot(data)\n",
    "plt.title('Global Duration')"
   ]
  },
  {
   "cell_type": "code",
   "execution_count": 45,
   "metadata": {},
   "outputs": [
    {
     "data": {
      "text/plain": [
       "Text(0.5, 1.0, 'Global Intensity')"
      ]
     },
     "execution_count": 45,
     "metadata": {},
     "output_type": "execute_result"
    },
    {
     "data": {
      "image/png": "[encoded data removed]",
      "text/plain": [
       "<Figure size 432x288 with 1 Axes>"
      ]
     },
     "metadata": {
      "needs_background": "light"
     },
     "output_type": "display_data"
    }
   ],
   "source": [
    "data = df.groupby(['year']).apply(lambda x: np.average(x['tot_intensity'], weights=x['P15']))\n",
    "plt.plot(data)\n",
    "plt.title('Global Intensity')"
   ]
  },
  {
   "cell_type": "code",
   "execution_count": 31,
   "metadata": {},
   "outputs": [
    {
     "data": {
      "text/plain": [
       "Text(0.5, 1.0, 'Global Severity')"
      ]
     },
     "execution_count": 31,
     "metadata": {},
     "output_type": "execute_result"
    },
    {
     "data": {
      "image/png": "[encoded data removed]",
      "text/plain": [
       "<Figure size 432x288 with 1 Axes>"
      ]
     },
     "metadata": {
      "needs_background": "light"
     },
     "output_type": "display_data"
    }
   ],
   "source": [
    "data = df.groupby(['year']).apply(lambda x: np.average(x['severity'], weights=x['P15']))\n",
    "plt.plot(data)\n",
    "plt.title('Global Severity')"
   ]
  },
  {
   "cell_type": "code",
   "execution_count": 32,
   "metadata": {},
   "outputs": [
    {
     "data": {
      "text/plain": [
       "Text(0.5, 1.0, 'Global Avg Temp')"
      ]
     },
     "execution_count": 32,
     "metadata": {},
     "output_type": "execute_result"
    },
    {
     "data": {
      "image/png": "[encoded data removed]",
      "text/plain": [
       "<Figure size 432x288 with 1 Axes>"
      ]
     },
     "metadata": {
      "needs_background": "light"
     },
     "output_type": "display_data"
    }
   ],
   "source": [
    "data = df.groupby(['year']).apply(lambda x: np.average(x['avg_temp'], weights=x['P15']))\n",
    "plt.plot(data)\n",
    "plt.title('Global Avg Temp')\n",
    "plt.ylabel('')"
   ]
  },
  {
   "cell_type": "code",
   "execution_count": 93,
   "metadata": {},
   "outputs": [
    {
     "data": {
      "text/html": [
       "<div>\n",
       "<style scoped>\n",
       "    .dataframe tbody tr th:only-of-type {\n",
       "        vertical-align: middle;\n",
       "    }\n",
       "\n",
       "    .dataframe tbody tr th {\n",
       "        vertical-align: top;\n",
       "    }\n",
       "\n",
       "    .dataframe thead th {\n",
       "        text-align: right;\n",
       "    }\n",
       "</style>\n",
       "<table border=\"1\" class=\"dataframe\">\n",
       "  <thead>\n",
       "    <tr style=\"text-align: right;\">\n",
       "      <th></th>\n",
       "      <th>Unnamed: 0</th>\n",
       "      <th>CTR_MN_NM</th>\n",
       "      <th>Event_ID</th>\n",
       "      <th>GCPNT_LAT</th>\n",
       "      <th>GCPNT_LON</th>\n",
       "      <th>ID_HDC_G0</th>\n",
       "      <th>avg_intensity</th>\n",
       "      <th>avg_temp</th>\n",
       "      <th>duration</th>\n",
       "      <th>event_dates</th>\n",
       "      <th>...</th>\n",
       "      <th>year</th>\n",
       "      <th>start_date</th>\n",
       "      <th>AREA</th>\n",
       "      <th>P75</th>\n",
       "      <th>P90</th>\n",
       "      <th>P00</th>\n",
       "      <th>P15</th>\n",
       "      <th>geometry</th>\n",
       "      <th>severity</th>\n",
       "      <th>pop_wgt</th>\n",
       "    </tr>\n",
       "  </thead>\n",
       "  <tbody>\n",
       "    <tr>\n",
       "      <td>0</td>\n",
       "      <td>0</td>\n",
       "      <td>Germany</td>\n",
       "      <td>1</td>\n",
       "      <td>48.138002</td>\n",
       "      <td>11.563435</td>\n",
       "      <td>2784</td>\n",
       "      <td>3.859750</td>\n",
       "      <td>44.459750</td>\n",
       "      <td>1</td>\n",
       "      <td>['1983.07.27']</td>\n",
       "      <td>...</td>\n",
       "      <td>1983</td>\n",
       "      <td>1983.07.27</td>\n",
       "      <td>349</td>\n",
       "      <td>883145.629391</td>\n",
       "      <td>1.097815e+06</td>\n",
       "      <td>1.307097e+06</td>\n",
       "      <td>1.573652e+06</td>\n",
       "      <td>POLYGON ((11.46764478885785 48.24059688257268,...</td>\n",
       "      <td>3.859750</td>\n",
       "      <td>8.254800e-06</td>\n",
       "    </tr>\n",
       "    <tr>\n",
       "      <td>1</td>\n",
       "      <td>1</td>\n",
       "      <td>Germany</td>\n",
       "      <td>763005</td>\n",
       "      <td>48.138002</td>\n",
       "      <td>11.563435</td>\n",
       "      <td>2784</td>\n",
       "      <td>0.058337</td>\n",
       "      <td>40.658337</td>\n",
       "      <td>1</td>\n",
       "      <td>['2013.08.06']</td>\n",
       "      <td>...</td>\n",
       "      <td>2013</td>\n",
       "      <td>2013.08.06</td>\n",
       "      <td>349</td>\n",
       "      <td>883145.629391</td>\n",
       "      <td>1.097815e+06</td>\n",
       "      <td>1.307097e+06</td>\n",
       "      <td>1.573652e+06</td>\n",
       "      <td>POLYGON ((11.46764478885785 48.24059688257268,...</td>\n",
       "      <td>0.058337</td>\n",
       "      <td>8.254800e-06</td>\n",
       "    </tr>\n",
       "    <tr>\n",
       "      <td>2</td>\n",
       "      <td>2</td>\n",
       "      <td>Germany</td>\n",
       "      <td>4</td>\n",
       "      <td>47.849642</td>\n",
       "      <td>12.102591</td>\n",
       "      <td>2833</td>\n",
       "      <td>6.893180</td>\n",
       "      <td>47.493180</td>\n",
       "      <td>1</td>\n",
       "      <td>['1983.07.27']</td>\n",
       "      <td>...</td>\n",
       "      <td>1983</td>\n",
       "      <td>1983.07.27</td>\n",
       "      <td>25</td>\n",
       "      <td>58618.272278</td>\n",
       "      <td>6.147326e+04</td>\n",
       "      <td>6.477523e+04</td>\n",
       "      <td>6.497856e+04</td>\n",
       "      <td>POLYGON ((12.10738143594193 47.87351619009313,...</td>\n",
       "      <td>6.893180</td>\n",
       "      <td>3.408535e-07</td>\n",
       "    </tr>\n",
       "    <tr>\n",
       "      <td>3</td>\n",
       "      <td>3</td>\n",
       "      <td>Germany</td>\n",
       "      <td>22703</td>\n",
       "      <td>47.849642</td>\n",
       "      <td>12.102591</td>\n",
       "      <td>2833</td>\n",
       "      <td>1.187350</td>\n",
       "      <td>41.787350</td>\n",
       "      <td>1</td>\n",
       "      <td>['1984.07.11']</td>\n",
       "      <td>...</td>\n",
       "      <td>1984</td>\n",
       "      <td>1984.07.11</td>\n",
       "      <td>25</td>\n",
       "      <td>58618.272278</td>\n",
       "      <td>6.147326e+04</td>\n",
       "      <td>6.477523e+04</td>\n",
       "      <td>6.497856e+04</td>\n",
       "      <td>POLYGON ((12.10738143594193 47.87351619009313,...</td>\n",
       "      <td>1.187350</td>\n",
       "      <td>3.408535e-07</td>\n",
       "    </tr>\n",
       "    <tr>\n",
       "      <td>4</td>\n",
       "      <td>4</td>\n",
       "      <td>Germany</td>\n",
       "      <td>349979</td>\n",
       "      <td>47.849642</td>\n",
       "      <td>12.102591</td>\n",
       "      <td>2833</td>\n",
       "      <td>0.793425</td>\n",
       "      <td>41.393425</td>\n",
       "      <td>1</td>\n",
       "      <td>['1998.08.11']</td>\n",
       "      <td>...</td>\n",
       "      <td>1998</td>\n",
       "      <td>1998.08.11</td>\n",
       "      <td>25</td>\n",
       "      <td>58618.272278</td>\n",
       "      <td>6.147326e+04</td>\n",
       "      <td>6.477523e+04</td>\n",
       "      <td>6.497856e+04</td>\n",
       "      <td>POLYGON ((12.10738143594193 47.87351619009313,...</td>\n",
       "      <td>0.793425</td>\n",
       "      <td>3.408535e-07</td>\n",
       "    </tr>\n",
       "  </tbody>\n",
       "</table>\n",
       "<p>5 rows × 27 columns</p>\n",
       "</div>"
      ],
      "text/plain": [
       "   Unnamed: 0 CTR_MN_NM  Event_ID  GCPNT_LAT  GCPNT_LON  ID_HDC_G0  \\\n",
       "0           0   Germany         1  48.138002  11.563435       2784   \n",
       "1           1   Germany    763005  48.138002  11.563435       2784   \n",
       "2           2   Germany         4  47.849642  12.102591       2833   \n",
       "3           3   Germany     22703  47.849642  12.102591       2833   \n",
       "4           4   Germany    349979  47.849642  12.102591       2833   \n",
       "\n",
       "   avg_intensity   avg_temp  duration     event_dates  ...  year  start_date  \\\n",
       "0       3.859750  44.459750         1  ['1983.07.27']  ...  1983  1983.07.27   \n",
       "1       0.058337  40.658337         1  ['2013.08.06']  ...  2013  2013.08.06   \n",
       "2       6.893180  47.493180         1  ['1983.07.27']  ...  1983  1983.07.27   \n",
       "3       1.187350  41.787350         1  ['1984.07.11']  ...  1984  1984.07.11   \n",
       "4       0.793425  41.393425         1  ['1998.08.11']  ...  1998  1998.08.11   \n",
       "\n",
       "  AREA            P75           P90           P00           P15  \\\n",
       "0  349  883145.629391  1.097815e+06  1.307097e+06  1.573652e+06   \n",
       "1  349  883145.629391  1.097815e+06  1.307097e+06  1.573652e+06   \n",
       "2   25   58618.272278  6.147326e+04  6.477523e+04  6.497856e+04   \n",
       "3   25   58618.272278  6.147326e+04  6.477523e+04  6.497856e+04   \n",
       "4   25   58618.272278  6.147326e+04  6.477523e+04  6.497856e+04   \n",
       "\n",
       "                                            geometry  severity       pop_wgt  \n",
       "0  POLYGON ((11.46764478885785 48.24059688257268,...  3.859750  8.254800e-06  \n",
       "1  POLYGON ((11.46764478885785 48.24059688257268,...  0.058337  8.254800e-06  \n",
       "2  POLYGON ((12.10738143594193 47.87351619009313,...  6.893180  3.408535e-07  \n",
       "3  POLYGON ((12.10738143594193 47.87351619009313,...  1.187350  3.408535e-07  \n",
       "4  POLYGON ((12.10738143594193 47.87351619009313,...  0.793425  3.408535e-07  \n",
       "\n",
       "[5 rows x 27 columns]"
      ]
     },
     "execution_count": 93,
     "metadata": {},
     "output_type": "execute_result"
    }
   ],
   "source": [
    "df.head()"
   ]
  },
  {
   "cell_type": "code",
   "execution_count": 111,
   "metadata": {},
   "outputs": [
    {
     "name": "stdout",
     "output_type": "stream",
     "text": [
      "34\n"
     ]
    },
    {
     "data": {
      "image/png": "[encoded data removed]",
      "text/plain": [
       "<Figure size 432x288 with 1 Axes>"
      ]
     },
     "metadata": {
      "needs_background": "light"
     },
     "output_type": "display_data"
    }
   ],
   "source": [
    "# Weights by pop\n",
    "\n",
    "df['pop_wgt'] = df['P15'] / df['P15'].sum()\n",
    "\n",
    "\n",
    "data = pd.DataFrame(df.groupby(['year', 'ID_HDC_G0'])['pop_wgt'].count())\n",
    "data = data.swaplevel()\n",
    "data.rename(columns={'pop_wgt':'counts'}, inplace=True)\n",
    "data.reset_index(level=['year', 'ID_HDC_G0'], inplace=True)\n",
    "data = data.merge(df[['ID_HDC_G0', 'pop_wgt']], on = 'ID_HDC_G0', how = 'inner')\n",
    "data['count_wgt'] = data['counts'] * data['pop_wgt']\n",
    "\n",
    "# plot it \n",
    "data = data.groupby('year')['count_wgt'].sum()\n",
    "plt.plot(data, marker = 'o')\n",
    "plt.title('Global Frequency per Year')\n"
   ]
  },
  {
   "cell_type": "code",
   "execution_count": 109,
   "metadata": {},
   "outputs": [
    {
     "data": {
      "text/html": [
       "<div>\n",
       "<style scoped>\n",
       "    .dataframe tbody tr th:only-of-type {\n",
       "        vertical-align: middle;\n",
       "    }\n",
       "\n",
       "    .dataframe tbody tr th {\n",
       "        vertical-align: top;\n",
       "    }\n",
       "\n",
       "    .dataframe thead th {\n",
       "        text-align: right;\n",
       "    }\n",
       "</style>\n",
       "<table border=\"1\" class=\"dataframe\">\n",
       "  <thead>\n",
       "    <tr style=\"text-align: right;\">\n",
       "      <th></th>\n",
       "      <th>Unnamed: 0</th>\n",
       "      <th>CTR_MN_NM</th>\n",
       "      <th>Event_ID</th>\n",
       "      <th>GCPNT_LAT</th>\n",
       "      <th>GCPNT_LON</th>\n",
       "      <th>ID_HDC_G0</th>\n",
       "      <th>avg_intensity</th>\n",
       "      <th>avg_temp</th>\n",
       "      <th>duration</th>\n",
       "      <th>event_dates</th>\n",
       "      <th>...</th>\n",
       "      <th>year</th>\n",
       "      <th>start_date</th>\n",
       "      <th>AREA</th>\n",
       "      <th>P75</th>\n",
       "      <th>P90</th>\n",
       "      <th>P00</th>\n",
       "      <th>P15</th>\n",
       "      <th>geometry</th>\n",
       "      <th>severity</th>\n",
       "      <th>pop_wgt</th>\n",
       "    </tr>\n",
       "  </thead>\n",
       "  <tbody>\n",
       "    <tr>\n",
       "      <td>0</td>\n",
       "      <td>0</td>\n",
       "      <td>Germany</td>\n",
       "      <td>1</td>\n",
       "      <td>48.138002</td>\n",
       "      <td>11.563435</td>\n",
       "      <td>2784</td>\n",
       "      <td>3.859750</td>\n",
       "      <td>44.459750</td>\n",
       "      <td>1</td>\n",
       "      <td>['1983.07.27']</td>\n",
       "      <td>...</td>\n",
       "      <td>1983</td>\n",
       "      <td>1983.07.27</td>\n",
       "      <td>349</td>\n",
       "      <td>883145.629391</td>\n",
       "      <td>1.097815e+06</td>\n",
       "      <td>1.307097e+06</td>\n",
       "      <td>1.573652e+06</td>\n",
       "      <td>POLYGON ((11.46764478885785 48.24059688257268,...</td>\n",
       "      <td>3.859750</td>\n",
       "      <td>8.254800e-06</td>\n",
       "    </tr>\n",
       "    <tr>\n",
       "      <td>1</td>\n",
       "      <td>1</td>\n",
       "      <td>Germany</td>\n",
       "      <td>763005</td>\n",
       "      <td>48.138002</td>\n",
       "      <td>11.563435</td>\n",
       "      <td>2784</td>\n",
       "      <td>0.058337</td>\n",
       "      <td>40.658337</td>\n",
       "      <td>1</td>\n",
       "      <td>['2013.08.06']</td>\n",
       "      <td>...</td>\n",
       "      <td>2013</td>\n",
       "      <td>2013.08.06</td>\n",
       "      <td>349</td>\n",
       "      <td>883145.629391</td>\n",
       "      <td>1.097815e+06</td>\n",
       "      <td>1.307097e+06</td>\n",
       "      <td>1.573652e+06</td>\n",
       "      <td>POLYGON ((11.46764478885785 48.24059688257268,...</td>\n",
       "      <td>0.058337</td>\n",
       "      <td>8.254800e-06</td>\n",
       "    </tr>\n",
       "    <tr>\n",
       "      <td>2</td>\n",
       "      <td>2</td>\n",
       "      <td>Germany</td>\n",
       "      <td>4</td>\n",
       "      <td>47.849642</td>\n",
       "      <td>12.102591</td>\n",
       "      <td>2833</td>\n",
       "      <td>6.893180</td>\n",
       "      <td>47.493180</td>\n",
       "      <td>1</td>\n",
       "      <td>['1983.07.27']</td>\n",
       "      <td>...</td>\n",
       "      <td>1983</td>\n",
       "      <td>1983.07.27</td>\n",
       "      <td>25</td>\n",
       "      <td>58618.272278</td>\n",
       "      <td>6.147326e+04</td>\n",
       "      <td>6.477523e+04</td>\n",
       "      <td>6.497856e+04</td>\n",
       "      <td>POLYGON ((12.10738143594193 47.87351619009313,...</td>\n",
       "      <td>6.893180</td>\n",
       "      <td>3.408535e-07</td>\n",
       "    </tr>\n",
       "    <tr>\n",
       "      <td>3</td>\n",
       "      <td>3</td>\n",
       "      <td>Germany</td>\n",
       "      <td>22703</td>\n",
       "      <td>47.849642</td>\n",
       "      <td>12.102591</td>\n",
       "      <td>2833</td>\n",
       "      <td>1.187350</td>\n",
       "      <td>41.787350</td>\n",
       "      <td>1</td>\n",
       "      <td>['1984.07.11']</td>\n",
       "      <td>...</td>\n",
       "      <td>1984</td>\n",
       "      <td>1984.07.11</td>\n",
       "      <td>25</td>\n",
       "      <td>58618.272278</td>\n",
       "      <td>6.147326e+04</td>\n",
       "      <td>6.477523e+04</td>\n",
       "      <td>6.497856e+04</td>\n",
       "      <td>POLYGON ((12.10738143594193 47.87351619009313,...</td>\n",
       "      <td>1.187350</td>\n",
       "      <td>3.408535e-07</td>\n",
       "    </tr>\n",
       "    <tr>\n",
       "      <td>4</td>\n",
       "      <td>4</td>\n",
       "      <td>Germany</td>\n",
       "      <td>349979</td>\n",
       "      <td>47.849642</td>\n",
       "      <td>12.102591</td>\n",
       "      <td>2833</td>\n",
       "      <td>0.793425</td>\n",
       "      <td>41.393425</td>\n",
       "      <td>1</td>\n",
       "      <td>['1998.08.11']</td>\n",
       "      <td>...</td>\n",
       "      <td>1998</td>\n",
       "      <td>1998.08.11</td>\n",
       "      <td>25</td>\n",
       "      <td>58618.272278</td>\n",
       "      <td>6.147326e+04</td>\n",
       "      <td>6.477523e+04</td>\n",
       "      <td>6.497856e+04</td>\n",
       "      <td>POLYGON ((12.10738143594193 47.87351619009313,...</td>\n",
       "      <td>0.793425</td>\n",
       "      <td>3.408535e-07</td>\n",
       "    </tr>\n",
       "    <tr>\n",
       "      <td>...</td>\n",
       "      <td>...</td>\n",
       "      <td>...</td>\n",
       "      <td>...</td>\n",
       "      <td>...</td>\n",
       "      <td>...</td>\n",
       "      <td>...</td>\n",
       "      <td>...</td>\n",
       "      <td>...</td>\n",
       "      <td>...</td>\n",
       "      <td>...</td>\n",
       "      <td>...</td>\n",
       "      <td>...</td>\n",
       "      <td>...</td>\n",
       "      <td>...</td>\n",
       "      <td>...</td>\n",
       "      <td>...</td>\n",
       "      <td>...</td>\n",
       "      <td>...</td>\n",
       "      <td>...</td>\n",
       "      <td>...</td>\n",
       "      <td>...</td>\n",
       "    </tr>\n",
       "    <tr>\n",
       "      <td>883005</td>\n",
       "      <td>883019</td>\n",
       "      <td>Belize</td>\n",
       "      <td>780003</td>\n",
       "      <td>17.501886</td>\n",
       "      <td>-88.204379</td>\n",
       "      <td>358</td>\n",
       "      <td>0.346198</td>\n",
       "      <td>40.946198</td>\n",
       "      <td>1</td>\n",
       "      <td>['2013.03.24']</td>\n",
       "      <td>...</td>\n",
       "      <td>2013</td>\n",
       "      <td>2013.03.24</td>\n",
       "      <td>17</td>\n",
       "      <td>23608.650234</td>\n",
       "      <td>3.573493e+04</td>\n",
       "      <td>4.801934e+04</td>\n",
       "      <td>7.210068e+04</td>\n",
       "      <td>POLYGON ((-88.23183187681393 17.52586652362516...</td>\n",
       "      <td>0.346198</td>\n",
       "      <td>3.782135e-07</td>\n",
       "    </tr>\n",
       "    <tr>\n",
       "      <td>883006</td>\n",
       "      <td>883020</td>\n",
       "      <td>Uganda</td>\n",
       "      <td>849470</td>\n",
       "      <td>3.450930</td>\n",
       "      <td>31.249527</td>\n",
       "      <td>4297</td>\n",
       "      <td>0.063970</td>\n",
       "      <td>40.663970</td>\n",
       "      <td>1</td>\n",
       "      <td>['2015.03.10']</td>\n",
       "      <td>...</td>\n",
       "      <td>2015</td>\n",
       "      <td>2015.03.10</td>\n",
       "      <td>11</td>\n",
       "      <td>7505.349446</td>\n",
       "      <td>1.884974e+04</td>\n",
       "      <td>3.311798e+04</td>\n",
       "      <td>7.380796e+04</td>\n",
       "      <td>POLYGON ((31.24600217283221 3.478520847599385,...</td>\n",
       "      <td>0.063970</td>\n",
       "      <td>3.871693e-07</td>\n",
       "    </tr>\n",
       "    <tr>\n",
       "      <td>883007</td>\n",
       "      <td>883021</td>\n",
       "      <td>Republic of Congo</td>\n",
       "      <td>882655</td>\n",
       "      <td>3.061745</td>\n",
       "      <td>18.516350</td>\n",
       "      <td>3364</td>\n",
       "      <td>1.438155</td>\n",
       "      <td>42.038155</td>\n",
       "      <td>1</td>\n",
       "      <td>['2016.03.01']</td>\n",
       "      <td>...</td>\n",
       "      <td>2016</td>\n",
       "      <td>2016.03.01</td>\n",
       "      <td>8</td>\n",
       "      <td>1.315968</td>\n",
       "      <td>2.035087e+02</td>\n",
       "      <td>3.229776e+03</td>\n",
       "      <td>7.934452e+04</td>\n",
       "      <td>POLYGON ((18.51531768291171 3.081975229776695,...</td>\n",
       "      <td>1.438155</td>\n",
       "      <td>4.162120e-07</td>\n",
       "    </tr>\n",
       "    <tr>\n",
       "      <td>883009</td>\n",
       "      <td>883023</td>\n",
       "      <td>Republic of Congo</td>\n",
       "      <td>882675</td>\n",
       "      <td>2.043653</td>\n",
       "      <td>18.055215</td>\n",
       "      <td>3347</td>\n",
       "      <td>0.815565</td>\n",
       "      <td>41.415565</td>\n",
       "      <td>1</td>\n",
       "      <td>['2016.03.01']</td>\n",
       "      <td>...</td>\n",
       "      <td>2016</td>\n",
       "      <td>2016.03.01</td>\n",
       "      <td>6</td>\n",
       "      <td>3.001908</td>\n",
       "      <td>3.232653e+02</td>\n",
       "      <td>6.700237e+03</td>\n",
       "      <td>1.108782e+05</td>\n",
       "      <td>POLYGON ((18.04702876683924 2.062528845999172,...</td>\n",
       "      <td>0.815565</td>\n",
       "      <td>5.816260e-07</td>\n",
       "    </tr>\n",
       "    <tr>\n",
       "      <td>883011</td>\n",
       "      <td>883025</td>\n",
       "      <td>Republic of Congo</td>\n",
       "      <td>882692</td>\n",
       "      <td>1.608374</td>\n",
       "      <td>18.059171</td>\n",
       "      <td>3348</td>\n",
       "      <td>0.482233</td>\n",
       "      <td>41.082233</td>\n",
       "      <td>1</td>\n",
       "      <td>['2016.03.01']</td>\n",
       "      <td>...</td>\n",
       "      <td>2016</td>\n",
       "      <td>2016.03.01</td>\n",
       "      <td>14</td>\n",
       "      <td>4.808370</td>\n",
       "      <td>1.422903e+03</td>\n",
       "      <td>1.813207e+04</td>\n",
       "      <td>3.040215e+05</td>\n",
       "      <td>POLYGON ((18.04434094607779 1.633796007968115,...</td>\n",
       "      <td>0.482233</td>\n",
       "      <td>1.594785e-06</td>\n",
       "    </tr>\n",
       "  </tbody>\n",
       "</table>\n",
       "<p>153517 rows × 27 columns</p>\n",
       "</div>"
      ],
      "text/plain": [
       "        Unnamed: 0          CTR_MN_NM  Event_ID  GCPNT_LAT  GCPNT_LON  \\\n",
       "0                0            Germany         1  48.138002  11.563435   \n",
       "1                1            Germany    763005  48.138002  11.563435   \n",
       "2                2            Germany         4  47.849642  12.102591   \n",
       "3                3            Germany     22703  47.849642  12.102591   \n",
       "4                4            Germany    349979  47.849642  12.102591   \n",
       "...            ...                ...       ...        ...        ...   \n",
       "883005      883019             Belize    780003  17.501886 -88.204379   \n",
       "883006      883020             Uganda    849470   3.450930  31.249527   \n",
       "883007      883021  Republic of Congo    882655   3.061745  18.516350   \n",
       "883009      883023  Republic of Congo    882675   2.043653  18.055215   \n",
       "883011      883025  Republic of Congo    882692   1.608374  18.059171   \n",
       "\n",
       "        ID_HDC_G0  avg_intensity   avg_temp  duration     event_dates  ...  \\\n",
       "0            2784       3.859750  44.459750         1  ['1983.07.27']  ...   \n",
       "1            2784       0.058337  40.658337         1  ['2013.08.06']  ...   \n",
       "2            2833       6.893180  47.493180         1  ['1983.07.27']  ...   \n",
       "3            2833       1.187350  41.787350         1  ['1984.07.11']  ...   \n",
       "4            2833       0.793425  41.393425         1  ['1998.08.11']  ...   \n",
       "...           ...            ...        ...       ...             ...  ...   \n",
       "883005        358       0.346198  40.946198         1  ['2013.03.24']  ...   \n",
       "883006       4297       0.063970  40.663970         1  ['2015.03.10']  ...   \n",
       "883007       3364       1.438155  42.038155         1  ['2016.03.01']  ...   \n",
       "883009       3347       0.815565  41.415565         1  ['2016.03.01']  ...   \n",
       "883011       3348       0.482233  41.082233         1  ['2016.03.01']  ...   \n",
       "\n",
       "        year  start_date AREA            P75           P90           P00  \\\n",
       "0       1983  1983.07.27  349  883145.629391  1.097815e+06  1.307097e+06   \n",
       "1       2013  2013.08.06  349  883145.629391  1.097815e+06  1.307097e+06   \n",
       "2       1983  1983.07.27   25   58618.272278  6.147326e+04  6.477523e+04   \n",
       "3       1984  1984.07.11   25   58618.272278  6.147326e+04  6.477523e+04   \n",
       "4       1998  1998.08.11   25   58618.272278  6.147326e+04  6.477523e+04   \n",
       "...      ...         ...  ...            ...           ...           ...   \n",
       "883005  2013  2013.03.24   17   23608.650234  3.573493e+04  4.801934e+04   \n",
       "883006  2015  2015.03.10   11    7505.349446  1.884974e+04  3.311798e+04   \n",
       "883007  2016  2016.03.01    8       1.315968  2.035087e+02  3.229776e+03   \n",
       "883009  2016  2016.03.01    6       3.001908  3.232653e+02  6.700237e+03   \n",
       "883011  2016  2016.03.01   14       4.808370  1.422903e+03  1.813207e+04   \n",
       "\n",
       "                 P15                                           geometry  \\\n",
       "0       1.573652e+06  POLYGON ((11.46764478885785 48.24059688257268,...   \n",
       "1       1.573652e+06  POLYGON ((11.46764478885785 48.24059688257268,...   \n",
       "2       6.497856e+04  POLYGON ((12.10738143594193 47.87351619009313,...   \n",
       "3       6.497856e+04  POLYGON ((12.10738143594193 47.87351619009313,...   \n",
       "4       6.497856e+04  POLYGON ((12.10738143594193 47.87351619009313,...   \n",
       "...              ...                                                ...   \n",
       "883005  7.210068e+04  POLYGON ((-88.23183187681393 17.52586652362516...   \n",
       "883006  7.380796e+04  POLYGON ((31.24600217283221 3.478520847599385,...   \n",
       "883007  7.934452e+04  POLYGON ((18.51531768291171 3.081975229776695,...   \n",
       "883009  1.108782e+05  POLYGON ((18.04702876683924 2.062528845999172,...   \n",
       "883011  3.040215e+05  POLYGON ((18.04434094607779 1.633796007968115,...   \n",
       "\n",
       "        severity       pop_wgt  \n",
       "0       3.859750  8.254800e-06  \n",
       "1       0.058337  8.254800e-06  \n",
       "2       6.893180  3.408535e-07  \n",
       "3       1.187350  3.408535e-07  \n",
       "4       0.793425  3.408535e-07  \n",
       "...          ...           ...  \n",
       "883005  0.346198  3.782135e-07  \n",
       "883006  0.063970  3.871693e-07  \n",
       "883007  1.438155  4.162120e-07  \n",
       "883009  0.815565  5.816260e-07  \n",
       "883011  0.482233  1.594785e-06  \n",
       "\n",
       "[153517 rows x 27 columns]"
      ]
     },
     "execution_count": 109,
     "metadata": {},
     "output_type": "execute_result"
    }
   ],
   "source": [
    "data = df.drop_duplicates(['year', 'ID_HDC_G0'], keep = 'first')\n",
    "data\n",
    "\n",
    "# df['pop_wgt'] = df['P15'] / df['P15'].sum()\n",
    "\n",
    "# data = data.merge(df[['ID_HDC_G0', 'pop_wgt']], on = 'ID_HDC_G0', how = 'inner')\n",
    "# # data['days_wgt'] = data['total_days'] * data['pop_wgt']\n",
    "# data = data.groupby('year')['days_wgt'].sum()\n",
    "# # plt.plot(data, marker = 'o')\n",
    "# plt.title('Global Frequency per Year'\n",
    "\n",
    "\n",
    "\n",
    "\n",
    "\n",
    "# data = data.groupby('year')['total_days'].sum()\n",
    "# plt.plot(data)\n",
    "# plt.title('Global Total Days per year >40.6C')"
   ]
  },
  {
   "cell_type": "code",
   "execution_count": 105,
   "metadata": {},
   "outputs": [
    {
     "data": {
      "text/html": [
       "<div>\n",
       "<style scoped>\n",
       "    .dataframe tbody tr th:only-of-type {\n",
       "        vertical-align: middle;\n",
       "    }\n",
       "\n",
       "    .dataframe tbody tr th {\n",
       "        vertical-align: top;\n",
       "    }\n",
       "\n",
       "    .dataframe thead th {\n",
       "        text-align: right;\n",
       "    }\n",
       "</style>\n",
       "<table border=\"1\" class=\"dataframe\">\n",
       "  <thead>\n",
       "    <tr style=\"text-align: right;\">\n",
       "      <th></th>\n",
       "      <th></th>\n",
       "      <th>total_days</th>\n",
       "    </tr>\n",
       "    <tr>\n",
       "      <th>ID_HDC_G0</th>\n",
       "      <th>year</th>\n",
       "      <th></th>\n",
       "    </tr>\n",
       "  </thead>\n",
       "  <tbody>\n",
       "    <tr>\n",
       "      <td>28</td>\n",
       "      <td>1983</td>\n",
       "      <td>1</td>\n",
       "    </tr>\n",
       "    <tr>\n",
       "      <td>29</td>\n",
       "      <td>1983</td>\n",
       "      <td>2</td>\n",
       "    </tr>\n",
       "    <tr>\n",
       "      <td>33</td>\n",
       "      <td>1983</td>\n",
       "      <td>1</td>\n",
       "    </tr>\n",
       "    <tr>\n",
       "      <td>34</td>\n",
       "      <td>1983</td>\n",
       "      <td>2</td>\n",
       "    </tr>\n",
       "    <tr>\n",
       "      <td>35</td>\n",
       "      <td>1983</td>\n",
       "      <td>2</td>\n",
       "    </tr>\n",
       "    <tr>\n",
       "      <td>...</td>\n",
       "      <td>...</td>\n",
       "      <td>...</td>\n",
       "    </tr>\n",
       "    <tr>\n",
       "      <td>13024</td>\n",
       "      <td>2016</td>\n",
       "      <td>1</td>\n",
       "    </tr>\n",
       "    <tr>\n",
       "      <td>13025</td>\n",
       "      <td>2016</td>\n",
       "      <td>1</td>\n",
       "    </tr>\n",
       "    <tr>\n",
       "      <td>13027</td>\n",
       "      <td>2016</td>\n",
       "      <td>1</td>\n",
       "    </tr>\n",
       "    <tr>\n",
       "      <td>13041</td>\n",
       "      <td>2016</td>\n",
       "      <td>2</td>\n",
       "    </tr>\n",
       "    <tr>\n",
       "      <td>13042</td>\n",
       "      <td>2016</td>\n",
       "      <td>6</td>\n",
       "    </tr>\n",
       "  </tbody>\n",
       "</table>\n",
       "<p>153517 rows × 1 columns</p>\n",
       "</div>"
      ],
      "text/plain": [
       "                total_days\n",
       "ID_HDC_G0 year            \n",
       "28        1983           1\n",
       "29        1983           2\n",
       "33        1983           1\n",
       "34        1983           2\n",
       "35        1983           2\n",
       "...                    ...\n",
       "13024     2016           1\n",
       "13025     2016           1\n",
       "13027     2016           1\n",
       "13041     2016           2\n",
       "13042     2016           6\n",
       "\n",
       "[153517 rows x 1 columns]"
      ]
     },
     "execution_count": 105,
     "metadata": {},
     "output_type": "execute_result"
    }
   ],
   "source": [
    "data"
   ]
  },
  {
   "cell_type": "code",
   "execution_count": null,
   "metadata": {},
   "outputs": [],
   "source": [
    "data = df.drop_duplicates(['year', 'ID_HDC_G0'], keep = 'first')\n",
    "data = data.groupby('year')['total_days'].sum()\n",
    "plt.plot(data)\n",
    "plt.title('Global Total Days per year >40.6C')\n",
    "\n",
    "df['pop_wgt'] = df['P15'] / df['P15'].sum()\n",
    "\n",
    "\n",
    "data = pd.DataFrame(df.groupby(['year', 'ID_HDC_G0'])['pop_wgt'].count())\n",
    "data = data.swaplevel()\n",
    "data.rename(columns={'pop_wgt':'counts'}, inplace=True)\n",
    "data.reset_index(level=['year', 'ID_HDC_G0'], inplace=True)\n",
    "data = data.merge(df[['ID_HDC_G0', 'pop_wgt']], on = 'ID_HDC_G0', how = 'inner')\n",
    "data['count_wgt'] = data['counts'] * data['pop_wgt']\n",
    "data = data.groupby('year')['count_wgt'].sum()\n",
    "plt.plot(data, marker = 'o')\n",
    "plt.title('Global Frequency per Year'"
   ]
  }
 ],
 "metadata": {
  "kernelspec": {
   "display_name": "geo",
   "language": "python",
   "name": "geo"
  },
  "language_info": {
   "codemirror_mode": {
    "name": "ipython",
    "version": 3
   },
   "file_extension": ".py",
   "mimetype": "text/x-python",
   "name": "python",
   "nbconvert_exporter": "python",
   "pygments_lexer": "ipython3",
   "version": "3.6.7"
  }
 },
 "nbformat": 4,
 "nbformat_minor": 2
}
