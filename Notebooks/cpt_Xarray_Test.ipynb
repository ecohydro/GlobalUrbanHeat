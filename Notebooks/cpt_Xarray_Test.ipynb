{
 "cells": [
  {
   "cell_type": "code",
   "execution_count": 1,
   "metadata": {},
   "outputs": [],
   "source": [
    "import pandas as pd\n",
    "import numpy as np\n",
    "import seaborn as sns\n",
    "import matplotlib.pyplot as plt\n",
    "from time import time\n",
    "import xarray as xr"
   ]
  },
  {
   "cell_type": "code",
   "execution_count": 2,
   "metadata": {},
   "outputs": [
    {
     "data": {
      "text/plain": [
       "Index(['Unnamed: 0', 'Event_ID', 'ID_HDC_G0', 'CTR_MN_NM', 'total_days',\n",
       "       'duration', 'avg_temp', 'avg_intensity', 'tot_intensity', 'event_dates',\n",
       "       'intensity', 'tmax', 'year'],\n",
       "      dtype='object')"
      ]
     },
     "execution_count": 2,
     "metadata": {},
     "output_type": "execute_result"
    }
   ],
   "source": [
    "fn = \"/home/cascade/projects/UrbanHeat/data/processed/All_data_HI406.csv\"  # Note: Need ?dl=1 to make sure this file gets read correctly\n",
    "df = pd.read_csv(fn)\n",
    "df.columns"
   ]
  },
  {
   "cell_type": "code",
   "execution_count": 4,
   "metadata": {},
   "outputs": [],
   "source": [
    "df = df.iloc[:,1:]"
   ]
  },
  {
   "cell_type": "code",
   "execution_count": 5,
   "metadata": {},
   "outputs": [
    {
     "data": {
      "text/html": [
       "<div>\n",
       "<style scoped>\n",
       "    .dataframe tbody tr th:only-of-type {\n",
       "        vertical-align: middle;\n",
       "    }\n",
       "\n",
       "    .dataframe tbody tr th {\n",
       "        vertical-align: top;\n",
       "    }\n",
       "\n",
       "    .dataframe thead th {\n",
       "        text-align: right;\n",
       "    }\n",
       "</style>\n",
       "<table border=\"1\" class=\"dataframe\">\n",
       "  <thead>\n",
       "    <tr style=\"text-align: right;\">\n",
       "      <th></th>\n",
       "      <th>Event_ID</th>\n",
       "      <th>ID_HDC_G0</th>\n",
       "      <th>CTR_MN_NM</th>\n",
       "      <th>total_days</th>\n",
       "      <th>duration</th>\n",
       "      <th>avg_temp</th>\n",
       "      <th>avg_intensity</th>\n",
       "      <th>tot_intensity</th>\n",
       "      <th>event_dates</th>\n",
       "      <th>intensity</th>\n",
       "      <th>tmax</th>\n",
       "      <th>year</th>\n",
       "    </tr>\n",
       "  </thead>\n",
       "  <tbody>\n",
       "    <tr>\n",
       "      <td>0</td>\n",
       "      <td>1</td>\n",
       "      <td>4362</td>\n",
       "      <td>Russia</td>\n",
       "      <td>4</td>\n",
       "      <td>1</td>\n",
       "      <td>41.216230</td>\n",
       "      <td>0.616230</td>\n",
       "      <td>0.616230</td>\n",
       "      <td>['1983.07.01']</td>\n",
       "      <td>[0.61622976]</td>\n",
       "      <td>[41.21622976]</td>\n",
       "      <td>1983</td>\n",
       "    </tr>\n",
       "    <tr>\n",
       "      <td>1</td>\n",
       "      <td>2</td>\n",
       "      <td>4362</td>\n",
       "      <td>Russia</td>\n",
       "      <td>4</td>\n",
       "      <td>3</td>\n",
       "      <td>41.744828</td>\n",
       "      <td>1.144828</td>\n",
       "      <td>3.434484</td>\n",
       "      <td>['1983.07.03' '1983.07.04' '1983.07.05']</td>\n",
       "      <td>[0.40430535 0.39696466 2.63321359]</td>\n",
       "      <td>[41.00430535 40.99696466 43.23321359]</td>\n",
       "      <td>1983</td>\n",
       "    </tr>\n",
       "    <tr>\n",
       "      <td>2</td>\n",
       "      <td>3</td>\n",
       "      <td>5380</td>\n",
       "      <td>Russia</td>\n",
       "      <td>1</td>\n",
       "      <td>1</td>\n",
       "      <td>47.953803</td>\n",
       "      <td>7.353803</td>\n",
       "      <td>7.353803</td>\n",
       "      <td>['1983.07.03']</td>\n",
       "      <td>[7.35380338]</td>\n",
       "      <td>[47.95380338]</td>\n",
       "      <td>1983</td>\n",
       "    </tr>\n",
       "    <tr>\n",
       "      <td>3</td>\n",
       "      <td>4</td>\n",
       "      <td>5872</td>\n",
       "      <td>Russia</td>\n",
       "      <td>3</td>\n",
       "      <td>1</td>\n",
       "      <td>40.744342</td>\n",
       "      <td>0.144342</td>\n",
       "      <td>0.144342</td>\n",
       "      <td>['1983.06.23']</td>\n",
       "      <td>[0.14434172]</td>\n",
       "      <td>[40.74434172]</td>\n",
       "      <td>1983</td>\n",
       "    </tr>\n",
       "    <tr>\n",
       "      <td>4</td>\n",
       "      <td>5</td>\n",
       "      <td>5872</td>\n",
       "      <td>Russia</td>\n",
       "      <td>3</td>\n",
       "      <td>1</td>\n",
       "      <td>41.277920</td>\n",
       "      <td>0.677920</td>\n",
       "      <td>0.677920</td>\n",
       "      <td>['1983.06.25']</td>\n",
       "      <td>[0.67792041]</td>\n",
       "      <td>[41.27792041]</td>\n",
       "      <td>1983</td>\n",
       "    </tr>\n",
       "  </tbody>\n",
       "</table>\n",
       "</div>"
      ],
      "text/plain": [
       "   Event_ID  ID_HDC_G0 CTR_MN_NM  total_days  duration   avg_temp  \\\n",
       "0         1       4362    Russia           4         1  41.216230   \n",
       "1         2       4362    Russia           4         3  41.744828   \n",
       "2         3       5380    Russia           1         1  47.953803   \n",
       "3         4       5872    Russia           3         1  40.744342   \n",
       "4         5       5872    Russia           3         1  41.277920   \n",
       "\n",
       "   avg_intensity  tot_intensity                               event_dates  \\\n",
       "0       0.616230       0.616230                            ['1983.07.01']   \n",
       "1       1.144828       3.434484  ['1983.07.03' '1983.07.04' '1983.07.05']   \n",
       "2       7.353803       7.353803                            ['1983.07.03']   \n",
       "3       0.144342       0.144342                            ['1983.06.23']   \n",
       "4       0.677920       0.677920                            ['1983.06.25']   \n",
       "\n",
       "                            intensity                                   tmax  \\\n",
       "0                        [0.61622976]                          [41.21622976]   \n",
       "1  [0.40430535 0.39696466 2.63321359]  [41.00430535 40.99696466 43.23321359]   \n",
       "2                        [7.35380338]                          [47.95380338]   \n",
       "3                        [0.14434172]                          [40.74434172]   \n",
       "4                        [0.67792041]                          [41.27792041]   \n",
       "\n",
       "   year  \n",
       "0  1983  \n",
       "1  1983  \n",
       "2  1983  \n",
       "3  1983  \n",
       "4  1983  "
      ]
     },
     "execution_count": 5,
     "metadata": {},
     "output_type": "execute_result"
    }
   ],
   "source": [
    "df.head()"
   ]
  },
  {
   "cell_type": "code",
   "execution_count": 6,
   "metadata": {},
   "outputs": [],
   "source": [
    "x_arr = df.to_xarray()"
   ]
  },
  {
   "cell_type": "code",
   "execution_count": 12,
   "metadata": {},
   "outputs": [
    {
     "data": {
      "text/plain": [
       "<xarray.Dataset>\n",
       "Dimensions:        (index: 5678214)\n",
       "Coordinates:\n",
       "  * index          (index) int64 0 1 2 3 4 ... 5678210 5678211 5678212 5678213\n",
       "Data variables:\n",
       "    Event_ID       (index) float64 nan nan nan nan nan ... nan nan nan nan nan\n",
       "    ID_HDC_G0      (index) float64 nan nan nan nan nan ... nan nan nan nan nan\n",
       "    CTR_MN_NM      (index) object nan nan nan nan nan ... nan nan nan nan nan\n",
       "    total_days     (index) float64 nan nan nan nan nan ... nan nan nan nan nan\n",
       "    duration       (index) float64 nan nan nan nan nan ... nan nan nan nan nan\n",
       "    avg_temp       (index) float64 nan nan nan nan nan ... nan nan nan nan nan\n",
       "    avg_intensity  (index) float64 nan nan nan nan nan ... nan nan nan nan nan\n",
       "    tot_intensity  (index) float64 nan nan nan nan nan ... nan nan nan nan nan\n",
       "    event_dates    (index) object nan nan nan nan nan ... nan nan nan nan nan\n",
       "    intensity      (index) object nan nan nan nan nan ... nan nan nan nan nan\n",
       "    tmax           (index) object nan nan nan nan nan ... nan nan nan nan nan\n",
       "    year           (index) float64 nan nan nan nan nan ... nan nan nan nan nan"
      ]
     },
     "execution_count": 12,
     "metadata": {},
     "output_type": "execute_result"
    }
   ],
   "source": [
    "x_arr.where('12.31' in 'event_dates')"
   ]
  }
 ],
 "metadata": {
  "kernelspec": {
   "display_name": "geo",
   "language": "python",
   "name": "geo"
  },
  "language_info": {
   "codemirror_mode": {
    "name": "ipython",
    "version": 3
   },
   "file_extension": ".py",
   "mimetype": "text/x-python",
   "name": "python",
   "nbconvert_exporter": "python",
   "pygments_lexer": "ipython3",
   "version": "3.6.7"
  }
 },
 "nbformat": 4,
 "nbformat_minor": 2
}
