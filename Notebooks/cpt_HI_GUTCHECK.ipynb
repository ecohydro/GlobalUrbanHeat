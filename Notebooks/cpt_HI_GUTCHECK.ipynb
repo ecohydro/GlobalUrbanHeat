{
 "cells": [
  {
   "cell_type": "code",
   "execution_count": 2,
   "metadata": {},
   "outputs": [],
   "source": [
    "import pandas as pd\n",
    "import geopandas as gpd\n",
    "import numpy as np"
   ]
  },
  {
   "cell_type": "code",
   "execution_count": 4,
   "metadata": {},
   "outputs": [],
   "source": [
    "DIR_HI = '~/projects/UrbanHeat/data/interim/CHIRTS-GHS-HI-Events-Stats/'\n",
    "HI83 = pd.read_csv(DIR_HI+'CHIRTS-GHS-HI-Events-Stats1983.csv')"
   ]
  },
  {
   "cell_type": "code",
   "execution_count": 5,
   "metadata": {},
   "outputs": [
    {
     "data": {
      "text/html": [
       "<div>\n",
       "<style scoped>\n",
       "    .dataframe tbody tr th:only-of-type {\n",
       "        vertical-align: middle;\n",
       "    }\n",
       "\n",
       "    .dataframe tbody tr th {\n",
       "        vertical-align: top;\n",
       "    }\n",
       "\n",
       "    .dataframe thead th {\n",
       "        text-align: right;\n",
       "    }\n",
       "</style>\n",
       "<table border=\"1\" class=\"dataframe\">\n",
       "  <thead>\n",
       "    <tr style=\"text-align: right;\">\n",
       "      <th></th>\n",
       "      <th>Unnamed: 0</th>\n",
       "      <th>ID_HDC_G0</th>\n",
       "      <th>CTR_MN_NM</th>\n",
       "      <th>total_days</th>\n",
       "      <th>duration</th>\n",
       "      <th>avg_temp</th>\n",
       "      <th>avg_intensity</th>\n",
       "      <th>tot_intensity</th>\n",
       "      <th>event_dates</th>\n",
       "      <th>intensity</th>\n",
       "      <th>tmax</th>\n",
       "    </tr>\n",
       "  </thead>\n",
       "  <tbody>\n",
       "    <tr>\n",
       "      <td>0</td>\n",
       "      <td>0</td>\n",
       "      <td>5782</td>\n",
       "      <td>Russia</td>\n",
       "      <td>143</td>\n",
       "      <td>3</td>\n",
       "      <td>42.504216</td>\n",
       "      <td>1.904216</td>\n",
       "      <td>5.712649</td>\n",
       "      <td>['1983.04.25' '1983.04.26' '1983.04.27']</td>\n",
       "      <td>[1.9844291  1.90373699 1.82448336]</td>\n",
       "      <td>[42.5844291  42.50373699 42.42448336]</td>\n",
       "    </tr>\n",
       "    <tr>\n",
       "      <td>1</td>\n",
       "      <td>1</td>\n",
       "      <td>5782</td>\n",
       "      <td>Russia</td>\n",
       "      <td>143</td>\n",
       "      <td>1</td>\n",
       "      <td>40.833569</td>\n",
       "      <td>0.233569</td>\n",
       "      <td>0.233569</td>\n",
       "      <td>['1983.05.04']</td>\n",
       "      <td>[0.2335687]</td>\n",
       "      <td>[40.8335687]</td>\n",
       "    </tr>\n",
       "    <tr>\n",
       "      <td>2</td>\n",
       "      <td>2</td>\n",
       "      <td>5782</td>\n",
       "      <td>Russia</td>\n",
       "      <td>143</td>\n",
       "      <td>5</td>\n",
       "      <td>41.447019</td>\n",
       "      <td>0.847019</td>\n",
       "      <td>4.235093</td>\n",
       "      <td>['1983.05.06' '1983.05.07' '1983.05.08' '1983....</td>\n",
       "      <td>[0.80313511 0.61880108 0.97113543 0.12905083 1...</td>\n",
       "      <td>[41.40313511 41.21880108 41.57113543 40.729050...</td>\n",
       "    </tr>\n",
       "    <tr>\n",
       "      <td>3</td>\n",
       "      <td>3</td>\n",
       "      <td>5782</td>\n",
       "      <td>Russia</td>\n",
       "      <td>143</td>\n",
       "      <td>5</td>\n",
       "      <td>42.145217</td>\n",
       "      <td>1.545217</td>\n",
       "      <td>7.726085</td>\n",
       "      <td>['1983.05.13' '1983.05.14' '1983.05.15' '1983....</td>\n",
       "      <td>[2.35577511 3.23440216 1.09797936 0.64795039 0...</td>\n",
       "      <td>[42.95577511 43.83440216 41.69797936 41.247950...</td>\n",
       "    </tr>\n",
       "    <tr>\n",
       "      <td>4</td>\n",
       "      <td>4</td>\n",
       "      <td>5782</td>\n",
       "      <td>Russia</td>\n",
       "      <td>143</td>\n",
       "      <td>5</td>\n",
       "      <td>42.675231</td>\n",
       "      <td>2.075231</td>\n",
       "      <td>10.376155</td>\n",
       "      <td>['1983.05.19' '1983.05.20' '1983.05.21' '1983....</td>\n",
       "      <td>[1.61752066 3.27806134 2.08385488 0.08578527 3...</td>\n",
       "      <td>[42.21752066 43.87806134 42.68385488 40.685785...</td>\n",
       "    </tr>\n",
       "  </tbody>\n",
       "</table>\n",
       "</div>"
      ],
      "text/plain": [
       "   Unnamed: 0  ID_HDC_G0 CTR_MN_NM  total_days  duration   avg_temp  \\\n",
       "0           0       5782    Russia         143         3  42.504216   \n",
       "1           1       5782    Russia         143         1  40.833569   \n",
       "2           2       5782    Russia         143         5  41.447019   \n",
       "3           3       5782    Russia         143         5  42.145217   \n",
       "4           4       5782    Russia         143         5  42.675231   \n",
       "\n",
       "   avg_intensity  tot_intensity  \\\n",
       "0       1.904216       5.712649   \n",
       "1       0.233569       0.233569   \n",
       "2       0.847019       4.235093   \n",
       "3       1.545217       7.726085   \n",
       "4       2.075231      10.376155   \n",
       "\n",
       "                                         event_dates  \\\n",
       "0           ['1983.04.25' '1983.04.26' '1983.04.27']   \n",
       "1                                     ['1983.05.04']   \n",
       "2  ['1983.05.06' '1983.05.07' '1983.05.08' '1983....   \n",
       "3  ['1983.05.13' '1983.05.14' '1983.05.15' '1983....   \n",
       "4  ['1983.05.19' '1983.05.20' '1983.05.21' '1983....   \n",
       "\n",
       "                                           intensity  \\\n",
       "0                 [1.9844291  1.90373699 1.82448336]   \n",
       "1                                        [0.2335687]   \n",
       "2  [0.80313511 0.61880108 0.97113543 0.12905083 1...   \n",
       "3  [2.35577511 3.23440216 1.09797936 0.64795039 0...   \n",
       "4  [1.61752066 3.27806134 2.08385488 0.08578527 3...   \n",
       "\n",
       "                                                tmax  \n",
       "0              [42.5844291  42.50373699 42.42448336]  \n",
       "1                                       [40.8335687]  \n",
       "2  [41.40313511 41.21880108 41.57113543 40.729050...  \n",
       "3  [42.95577511 43.83440216 41.69797936 41.247950...  \n",
       "4  [42.21752066 43.87806134 42.68385488 40.685785...  "
      ]
     },
     "execution_count": 5,
     "metadata": {},
     "output_type": "execute_result"
    }
   ],
   "source": [
    "HI83.head()"
   ]
  },
  {
   "cell_type": "code",
   "execution_count": 6,
   "metadata": {},
   "outputs": [],
   "source": [
    "country_nm = 'Russia'\n",
    "country = HI83[HI83['CTR_MN_NM'] == country_nm]"
   ]
  },
  {
   "cell_type": "code",
   "execution_count": 7,
   "metadata": {},
   "outputs": [],
   "source": [
    "country_cities = country.drop_duplicates('ID_HDC_G0')"
   ]
  },
  {
   "cell_type": "code",
   "execution_count": 8,
   "metadata": {},
   "outputs": [
    {
     "data": {
      "text/plain": [
       "191"
      ]
     },
     "execution_count": 8,
     "metadata": {},
     "output_type": "execute_result"
    }
   ],
   "source": [
    "len(country_cities)"
   ]
  },
  {
   "cell_type": "code",
   "execution_count": 9,
   "metadata": {},
   "outputs": [
    {
     "data": {
      "text/plain": [
       "92.59162303664921"
      ]
     },
     "execution_count": 9,
     "metadata": {},
     "output_type": "execute_result"
    }
   ],
   "source": [
    "country_cities['total_days'].mean()"
   ]
  },
  {
   "cell_type": "code",
   "execution_count": 10,
   "metadata": {},
   "outputs": [],
   "source": [
    "city5441 = HI83[HI83['ID_HDC_G0'] == 5782].drop_duplicates('ID_HDC_G0')"
   ]
  },
  {
   "cell_type": "code",
   "execution_count": 11,
   "metadata": {},
   "outputs": [
    {
     "data": {
      "text/plain": [
       "141.0"
      ]
     },
     "execution_count": 11,
     "metadata": {},
     "output_type": "execute_result"
    }
   ],
   "source": [
    "city5441['total_days'].mean()"
   ]
  },
  {
   "cell_type": "markdown",
   "metadata": {},
   "source": [
    "# Check a City and Data"
   ]
  },
  {
   "cell_type": "code",
   "execution_count": 22,
   "metadata": {},
   "outputs": [],
   "source": [
    "city = 5782 # Somewhere in russia \n",
    "date = '1983.04.25'"
   ]
  },
  {
   "cell_type": "code",
   "execution_count": 23,
   "metadata": {},
   "outputs": [
    {
     "data": {
      "text/html": [
       "<div>\n",
       "<style scoped>\n",
       "    .dataframe tbody tr th:only-of-type {\n",
       "        vertical-align: middle;\n",
       "    }\n",
       "\n",
       "    .dataframe tbody tr th {\n",
       "        vertical-align: top;\n",
       "    }\n",
       "\n",
       "    .dataframe thead th {\n",
       "        text-align: right;\n",
       "    }\n",
       "</style>\n",
       "<table border=\"1\" class=\"dataframe\">\n",
       "  <thead>\n",
       "    <tr style=\"text-align: right;\">\n",
       "      <th></th>\n",
       "      <th>Unnamed: 0</th>\n",
       "      <th>ID_HDC_G0</th>\n",
       "      <th>CTR_MN_NM</th>\n",
       "      <th>total_days</th>\n",
       "      <th>duration</th>\n",
       "      <th>avg_temp</th>\n",
       "      <th>avg_intensity</th>\n",
       "      <th>tot_intensity</th>\n",
       "      <th>event_dates</th>\n",
       "      <th>intensity</th>\n",
       "      <th>tmax</th>\n",
       "    </tr>\n",
       "  </thead>\n",
       "  <tbody>\n",
       "    <tr>\n",
       "      <td>0</td>\n",
       "      <td>0</td>\n",
       "      <td>5782</td>\n",
       "      <td>Russia</td>\n",
       "      <td>143</td>\n",
       "      <td>3</td>\n",
       "      <td>42.504216</td>\n",
       "      <td>1.904216</td>\n",
       "      <td>5.712649</td>\n",
       "      <td>['1983.04.25' '1983.04.26' '1983.04.27']</td>\n",
       "      <td>[1.9844291  1.90373699 1.82448336]</td>\n",
       "      <td>[42.5844291  42.50373699 42.42448336]</td>\n",
       "    </tr>\n",
       "  </tbody>\n",
       "</table>\n",
       "</div>"
      ],
      "text/plain": [
       "   Unnamed: 0  ID_HDC_G0 CTR_MN_NM  total_days  duration   avg_temp  \\\n",
       "0           0       5782    Russia         143         3  42.504216   \n",
       "\n",
       "   avg_intensity  tot_intensity                               event_dates  \\\n",
       "0       1.904216       5.712649  ['1983.04.25' '1983.04.26' '1983.04.27']   \n",
       "\n",
       "                            intensity                                   tmax  \n",
       "0  [1.9844291  1.90373699 1.82448336]  [42.5844291  42.50373699 42.42448336]  "
      ]
     },
     "execution_count": 23,
     "metadata": {},
     "output_type": "execute_result"
    }
   ],
   "source": [
    "# Heat Index\n",
    "DIR_HI = '~/projects/UrbanHeat/data/interim/CHIRTS-GHS-HI-Events-Stats/'\n",
    "HI83 = pd.read_csv(DIR_HI+'CHIRTS-GHS-HI-Events-Stats1983.csv')\n",
    "HI83[HI83['ID_HDC_G0'] == 5782].drop_duplicates('ID_HDC_G0')"
   ]
  },
  {
   "cell_type": "code",
   "execution_count": 31,
   "metadata": {},
   "outputs": [
    {
     "name": "stdout",
     "output_type": "stream",
     "text": [
      "Tmax in 5782 , which is in russia, on 1983.04.25 was -9.299653 C\n"
     ]
    }
   ],
   "source": [
    "# Tmax\n",
    "DIR_Tmax = '~/projects/UrbanHeat/data/interim/CHIRTS-GHS-DAILY-Tmax/'\n",
    "Tmax83 = pd.read_csv(DIR_Tmax+'GHS-Tmax-DAILY_1983.csv')\n",
    "cityTmax = Tmax83[Tmax83['ID_HDC_G0'] == city]\n",
    "Tmax = cityTmax[date][0]\n",
    "print('Tmax in', city, ', which is in russia, on', date, 'was', Tmax, 'C')\n"
   ]
  },
  {
   "cell_type": "code",
   "execution_count": 34,
   "metadata": {},
   "outputs": [
    {
     "name": "stdout",
     "output_type": "stream",
     "text": [
      "RH in 5782 , which is in russia, on 1983.04.25 was 97.30467%\n"
     ]
    }
   ],
   "source": [
    "# RH \n",
    "DIR_RH = '~/projects/UrbanHeat/data/interim/CHIRTS-GHS-DAILY-RH/'\n",
    "RH83 = pd.read_csv(DIR_RH+'GHS-Tmax-RH_1983.csv')\n",
    "cityRH = RH83[RH83['ID_HDC_G0'] == city]\n",
    "RH = cityRH[date][0]\n",
    "print('RH in', city, ', which is in russia, on', date, 'was', str(RH)+'%')\n"
   ]
  },
  {
   "cell_type": "code",
   "execution_count": 35,
   "metadata": {},
   "outputs": [
    {
     "name": "stdout",
     "output_type": "stream",
     "text": [
      "HI in 5782 , which is in russia, on 1983.04.25 was -11.633329694444445%\n"
     ]
    }
   ],
   "source": [
    "# HI \n",
    "DIR_HI = '~/projects/UrbanHeat/data/interim/CHIRTS-GHS-DAILY-HI/'\n",
    "HI83 = pd.read_csv(DIR_HI+'GHS-HI-DAILY_1983.csv')\n",
    "cityHI = HI83[HI83['ID_HDC_G0'] == city]\n",
    "HI = cityHI[date][0]\n",
    "print('HI in', city, ', which is in russia, on', date, 'was', str(HI)+'%')"
   ]
  },
  {
   "cell_type": "code",
   "execution_count": 36,
   "metadata": {},
   "outputs": [
    {
     "data": {
      "text/html": [
       "<div>\n",
       "<style scoped>\n",
       "    .dataframe tbody tr th:only-of-type {\n",
       "        vertical-align: middle;\n",
       "    }\n",
       "\n",
       "    .dataframe tbody tr th {\n",
       "        vertical-align: top;\n",
       "    }\n",
       "\n",
       "    .dataframe thead th {\n",
       "        text-align: right;\n",
       "    }\n",
       "</style>\n",
       "<table border=\"1\" class=\"dataframe\">\n",
       "  <thead>\n",
       "    <tr style=\"text-align: right;\">\n",
       "      <th></th>\n",
       "      <th>Unnamed: 0</th>\n",
       "      <th>ID_HDC_G0</th>\n",
       "      <th>CTR_MN_NM</th>\n",
       "      <th>1983.01.01</th>\n",
       "      <th>1983.01.02</th>\n",
       "      <th>1983.01.03</th>\n",
       "      <th>1983.01.04</th>\n",
       "      <th>1983.01.05</th>\n",
       "      <th>1983.01.06</th>\n",
       "      <th>1983.01.07</th>\n",
       "      <th>...</th>\n",
       "      <th>1983.12.22</th>\n",
       "      <th>1983.12.23</th>\n",
       "      <th>1983.12.24</th>\n",
       "      <th>1983.12.25</th>\n",
       "      <th>1983.12.26</th>\n",
       "      <th>1983.12.27</th>\n",
       "      <th>1983.12.28</th>\n",
       "      <th>1983.12.29</th>\n",
       "      <th>1983.12.30</th>\n",
       "      <th>1983.12.31</th>\n",
       "    </tr>\n",
       "  </thead>\n",
       "  <tbody>\n",
       "    <tr>\n",
       "      <td>0</td>\n",
       "      <td>0</td>\n",
       "      <td>5782</td>\n",
       "      <td>Russia</td>\n",
       "      <td>-50.290109</td>\n",
       "      <td>-38.741588</td>\n",
       "      <td>-38.527916</td>\n",
       "      <td>-29.775962</td>\n",
       "      <td>-27.355393</td>\n",
       "      <td>-25.563406</td>\n",
       "      <td>-23.869806</td>\n",
       "      <td>...</td>\n",
       "      <td>-28.779136</td>\n",
       "      <td>-40.398462</td>\n",
       "      <td>-30.339417</td>\n",
       "      <td>-20.395295</td>\n",
       "      <td>-15.319946</td>\n",
       "      <td>-15.414477</td>\n",
       "      <td>-18.033254</td>\n",
       "      <td>-14.991101</td>\n",
       "      <td>-15.963260</td>\n",
       "      <td>-18.583906</td>\n",
       "    </tr>\n",
       "    <tr>\n",
       "      <td>1</td>\n",
       "      <td>1</td>\n",
       "      <td>3316</td>\n",
       "      <td>Russia</td>\n",
       "      <td>-6.737854</td>\n",
       "      <td>-5.639201</td>\n",
       "      <td>-9.620732</td>\n",
       "      <td>-15.439825</td>\n",
       "      <td>-9.966626</td>\n",
       "      <td>-8.593357</td>\n",
       "      <td>-7.519376</td>\n",
       "      <td>...</td>\n",
       "      <td>-14.250156</td>\n",
       "      <td>-20.687157</td>\n",
       "      <td>-8.106323</td>\n",
       "      <td>-9.595132</td>\n",
       "      <td>-13.861566</td>\n",
       "      <td>-18.223596</td>\n",
       "      <td>-16.542586</td>\n",
       "      <td>-7.062472</td>\n",
       "      <td>-13.869323</td>\n",
       "      <td>-19.660082</td>\n",
       "    </tr>\n",
       "    <tr>\n",
       "      <td>2</td>\n",
       "      <td>2</td>\n",
       "      <td>5645</td>\n",
       "      <td>Russia</td>\n",
       "      <td>-28.483821</td>\n",
       "      <td>-21.293526</td>\n",
       "      <td>-16.567241</td>\n",
       "      <td>-17.570162</td>\n",
       "      <td>-18.721619</td>\n",
       "      <td>-21.200990</td>\n",
       "      <td>-25.610114</td>\n",
       "      <td>...</td>\n",
       "      <td>-23.420955</td>\n",
       "      <td>-26.181210</td>\n",
       "      <td>-15.323312</td>\n",
       "      <td>-5.394026</td>\n",
       "      <td>-8.077833</td>\n",
       "      <td>-11.663559</td>\n",
       "      <td>-13.886691</td>\n",
       "      <td>-16.108834</td>\n",
       "      <td>-14.447547</td>\n",
       "      <td>-13.034678</td>\n",
       "    </tr>\n",
       "    <tr>\n",
       "      <td>3</td>\n",
       "      <td>3</td>\n",
       "      <td>3185</td>\n",
       "      <td>Finland</td>\n",
       "      <td>-1.493348</td>\n",
       "      <td>-1.489085</td>\n",
       "      <td>-5.802576</td>\n",
       "      <td>-3.995879</td>\n",
       "      <td>-3.020417</td>\n",
       "      <td>-1.876911</td>\n",
       "      <td>-1.279008</td>\n",
       "      <td>...</td>\n",
       "      <td>-11.540405</td>\n",
       "      <td>-5.425336</td>\n",
       "      <td>-4.641525</td>\n",
       "      <td>-10.291178</td>\n",
       "      <td>-11.308963</td>\n",
       "      <td>-5.162991</td>\n",
       "      <td>-4.853079</td>\n",
       "      <td>-7.997720</td>\n",
       "      <td>-11.828115</td>\n",
       "      <td>-10.185535</td>\n",
       "    </tr>\n",
       "    <tr>\n",
       "      <td>4</td>\n",
       "      <td>4</td>\n",
       "      <td>3539</td>\n",
       "      <td>Russia</td>\n",
       "      <td>-8.240884</td>\n",
       "      <td>-8.182602</td>\n",
       "      <td>-19.021062</td>\n",
       "      <td>-16.765597</td>\n",
       "      <td>-12.458584</td>\n",
       "      <td>-5.322319</td>\n",
       "      <td>0.020468</td>\n",
       "      <td>...</td>\n",
       "      <td>-6.044796</td>\n",
       "      <td>-2.682858</td>\n",
       "      <td>-2.283302</td>\n",
       "      <td>-2.448591</td>\n",
       "      <td>-8.065710</td>\n",
       "      <td>-11.314625</td>\n",
       "      <td>-11.339490</td>\n",
       "      <td>-9.911966</td>\n",
       "      <td>-9.007221</td>\n",
       "      <td>-12.295425</td>\n",
       "    </tr>\n",
       "  </tbody>\n",
       "</table>\n",
       "<p>5 rows × 368 columns</p>\n",
       "</div>"
      ],
      "text/plain": [
       "   Unnamed: 0  ID_HDC_G0 CTR_MN_NM  1983.01.01  1983.01.02  1983.01.03  \\\n",
       "0           0       5782    Russia  -50.290109  -38.741588  -38.527916   \n",
       "1           1       3316    Russia   -6.737854   -5.639201   -9.620732   \n",
       "2           2       5645    Russia  -28.483821  -21.293526  -16.567241   \n",
       "3           3       3185   Finland   -1.493348   -1.489085   -5.802576   \n",
       "4           4       3539    Russia   -8.240884   -8.182602  -19.021062   \n",
       "\n",
       "   1983.01.04  1983.01.05  1983.01.06  1983.01.07  ...  1983.12.22  \\\n",
       "0  -29.775962  -27.355393  -25.563406  -23.869806  ...  -28.779136   \n",
       "1  -15.439825   -9.966626   -8.593357   -7.519376  ...  -14.250156   \n",
       "2  -17.570162  -18.721619  -21.200990  -25.610114  ...  -23.420955   \n",
       "3   -3.995879   -3.020417   -1.876911   -1.279008  ...  -11.540405   \n",
       "4  -16.765597  -12.458584   -5.322319    0.020468  ...   -6.044796   \n",
       "\n",
       "   1983.12.23  1983.12.24  1983.12.25  1983.12.26  1983.12.27  1983.12.28  \\\n",
       "0  -40.398462  -30.339417  -20.395295  -15.319946  -15.414477  -18.033254   \n",
       "1  -20.687157   -8.106323   -9.595132  -13.861566  -18.223596  -16.542586   \n",
       "2  -26.181210  -15.323312   -5.394026   -8.077833  -11.663559  -13.886691   \n",
       "3   -5.425336   -4.641525  -10.291178  -11.308963   -5.162991   -4.853079   \n",
       "4   -2.682858   -2.283302   -2.448591   -8.065710  -11.314625  -11.339490   \n",
       "\n",
       "   1983.12.29  1983.12.30  1983.12.31  \n",
       "0  -14.991101  -15.963260  -18.583906  \n",
       "1   -7.062472  -13.869323  -19.660082  \n",
       "2  -16.108834  -14.447547  -13.034678  \n",
       "3   -7.997720  -11.828115  -10.185535  \n",
       "4   -9.911966   -9.007221  -12.295425  \n",
       "\n",
       "[5 rows x 368 columns]"
      ]
     },
     "execution_count": 36,
     "metadata": {},
     "output_type": "execute_result"
    }
   ],
   "source": [
    "HI83.head()"
   ]
  },
  {
   "cell_type": "code",
   "execution_count": null,
   "metadata": {},
   "outputs": [],
   "source": []
  }
 ],
 "metadata": {
  "kernelspec": {
   "display_name": "geo",
   "language": "python",
   "name": "geo"
  },
  "language_info": {
   "codemirror_mode": {
    "name": "ipython",
    "version": 3
   },
   "file_extension": ".py",
   "mimetype": "text/x-python",
   "name": "python",
   "nbconvert_exporter": "python",
   "pygments_lexer": "ipython3",
   "version": "3.6.7"
  }
 },
 "nbformat": 4,
 "nbformat_minor": 2
}
