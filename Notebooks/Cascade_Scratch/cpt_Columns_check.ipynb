{
 "cells": [
  {
   "cell_type": "markdown",
   "metadata": {},
   "source": [
    "# Columns Check\n",
    "Cascade Tuholske Jan 2021\n",
    "\n",
    "Check columns and data for PNAS paper and make a README.txt for AP team."
   ]
  },
  {
   "cell_type": "code",
   "execution_count": 1,
   "metadata": {},
   "outputs": [],
   "source": [
    "import pandas as pd\n",
    "import numpy as np\n",
    "import geopandas as gpd\n",
    "import matplotlib.pyplot as plt\n",
    "from glob import glob"
   ]
  },
  {
   "cell_type": "code",
   "execution_count": 2,
   "metadata": {},
   "outputs": [],
   "source": [
    "# Path\n",
    "DATA_PATH = '/Users/cascade/Dropbox/URBANHEAT_ALLDATA/data20210128/'"
   ]
  },
  {
   "cell_type": "code",
   "execution_count": 3,
   "metadata": {},
   "outputs": [],
   "source": [
    "# get ghs data \n",
    "GHS_FN = '/Users/cascade/Github/cpt_UrbanHeat/data/raw/ghs-ucdb/GHS_STAT_UCDB2015MT_GLOBE_R2019A_V1_0.shp'\n",
    "GHS = gpd.read_file(GHS_FN)\n"
   ]
  },
  {
   "cell_type": "code",
   "execution_count": 4,
   "metadata": {},
   "outputs": [],
   "source": [
    "fns = sorted(glob(DATA_PATH+'*.csv'))"
   ]
  },
  {
   "cell_type": "code",
   "execution_count": 5,
   "metadata": {},
   "outputs": [],
   "source": [
    "# Open & Get file names\n",
    "nms = []\n",
    "dfs = []\n",
    "\n",
    "for fn in fns:\n",
    "    nm = fn.split('URBANHEAT_ALLDATA/')[1]\n",
    "    df = pd.read_csv(fn)\n",
    "    \n",
    "    nms.append(nm)\n",
    "    dfs.append(df)"
   ]
  },
  {
   "cell_type": "code",
   "execution_count": 6,
   "metadata": {
    "scrolled": true
   },
   "outputs": [
    {
     "data": {
      "text/plain": [
       "['/Users/cascade/Dropbox/URBANHEAT_ALLDATA/data20210128/AllDATA-GHS-ERA5-HI406-MAPDATA.csv',\n",
       " '/Users/cascade/Dropbox/URBANHEAT_ALLDATA/data20210128/AllDATA-GHS-ERA5-HI406-MAPDATA_PDAYS_P05.csv',\n",
       " '/Users/cascade/Dropbox/URBANHEAT_ALLDATA/data20210128/AllDATA-GHS-ERA5-HI406-MAPDATA_TOTDAYS_P05.csv',\n",
       " '/Users/cascade/Dropbox/URBANHEAT_ALLDATA/data20210128/AllDATA-GHS-ERA5-HI406-META.csv',\n",
       " '/Users/cascade/Dropbox/URBANHEAT_ALLDATA/data20210128/AllDATA-GHS-ERA5-HI406-PDAYS-COUNTRY.csv',\n",
       " '/Users/cascade/Dropbox/URBANHEAT_ALLDATA/data20210128/AllDATA-GHS-ERA5-HI406-PDAYS-REGION.csv',\n",
       " '/Users/cascade/Dropbox/URBANHEAT_ALLDATA/data20210128/AllDATA-GHS-ERA5-HI406-PDAYS-TOP50.csv',\n",
       " '/Users/cascade/Dropbox/URBANHEAT_ALLDATA/data20210128/AllDATA-GHS-ERA5-HI406-PDAYS.csv',\n",
       " '/Users/cascade/Dropbox/URBANHEAT_ALLDATA/data20210128/AllDATA-GHS-ERA5-HI406-ZSCORES.csv',\n",
       " '/Users/cascade/Dropbox/URBANHEAT_ALLDATA/data20210128/AllDATA-GHS-ERA5-HI406.csv']"
      ]
     },
     "execution_count": 6,
     "metadata": {},
     "output_type": "execute_result"
    }
   ],
   "source": [
    "fns"
   ]
  },
  {
   "cell_type": "markdown",
   "metadata": {},
   "source": [
    "## City-level person day increase rate"
   ]
  },
  {
   "cell_type": "code",
   "execution_count": 7,
   "metadata": {},
   "outputs": [
    {
     "name": "stdout",
     "output_type": "stream",
     "text": [
      "data20210128/AllDATA-GHS-ERA5-HI406-MAPDATA_PDAYS_P05.csv \n",
      "\n",
      "0 Unnamed: 0\n",
      "1 ID_HDC_G0\n",
      "2 coef_pdays\n",
      "3 p_value_pdays\n",
      "4 coef_heat\n",
      "5 p_value_heat\n",
      "6 coef_pop\n",
      "7 p_value_pop\n",
      "8 coef_totDays\n",
      "9 p_value_totDays\n",
      "10 coef_attrib\n",
      "11 coef_attrib_norm\n",
      "12 region\n",
      "13 intermediate-region\n",
      "14 sub-region\n",
      "15 CTR_MN_NM\n",
      "16 GCPNT_LAT\n",
      "17 GCPNT_LON\n",
      "18 P1983\n",
      "19 P2016\n"
     ]
    }
   ],
   "source": [
    "num = 1\n",
    "print(nms[num], '\\n')\n",
    "\n",
    "for i, col in enumerate(dfs[num].columns):\n",
    "    print(i, col)"
   ]
  },
  {
   "cell_type": "code",
   "execution_count": 8,
   "metadata": {},
   "outputs": [
    {
     "name": "stdout",
     "output_type": "stream",
     "text": [
      "data20210128/AllDATA-GHS-ERA5-HI406-MAPDATA_PDAYS_P05.csv\n"
     ]
    }
   ],
   "source": [
    "# merge files and what not\n",
    "print(nms[num])\n",
    "map_pdays = dfs[num]\n",
    "map_pdays_out = map_pdays.iloc[:,[1,2,12,13,14,15,16,17,18,19]]"
   ]
  },
  {
   "cell_type": "code",
   "execution_count": 9,
   "metadata": {},
   "outputs": [],
   "source": [
    "city_nms = GHS[['ID_HDC_G0', 'UC_NM_MN']]"
   ]
  },
  {
   "cell_type": "code",
   "execution_count": 10,
   "metadata": {},
   "outputs": [
    {
     "data": {
      "text/html": [
       "<div>\n",
       "<style scoped>\n",
       "    .dataframe tbody tr th:only-of-type {\n",
       "        vertical-align: middle;\n",
       "    }\n",
       "\n",
       "    .dataframe tbody tr th {\n",
       "        vertical-align: top;\n",
       "    }\n",
       "\n",
       "    .dataframe thead th {\n",
       "        text-align: right;\n",
       "    }\n",
       "</style>\n",
       "<table border=\"1\" class=\"dataframe\">\n",
       "  <thead>\n",
       "    <tr style=\"text-align: right;\">\n",
       "      <th></th>\n",
       "      <th>ID_HDC_G0</th>\n",
       "      <th>coef_pdays</th>\n",
       "      <th>region</th>\n",
       "      <th>intermediate-region</th>\n",
       "      <th>sub-region</th>\n",
       "      <th>CTR_MN_NM</th>\n",
       "      <th>GCPNT_LAT</th>\n",
       "      <th>GCPNT_LON</th>\n",
       "      <th>P1983</th>\n",
       "      <th>P2016</th>\n",
       "      <th>UC_NM_MN</th>\n",
       "    </tr>\n",
       "  </thead>\n",
       "  <tbody>\n",
       "    <tr>\n",
       "      <th>0</th>\n",
       "      <td>34</td>\n",
       "      <td>77198.968012</td>\n",
       "      <td>Americas</td>\n",
       "      <td>Northern America</td>\n",
       "      <td>Northern America</td>\n",
       "      <td>United States</td>\n",
       "      <td>37.973783</td>\n",
       "      <td>-121.295244</td>\n",
       "      <td>236515.041712</td>\n",
       "      <td>365617.969896</td>\n",
       "      <td>Stockton [USA]</td>\n",
       "    </tr>\n",
       "  </tbody>\n",
       "</table>\n",
       "</div>"
      ],
      "text/plain": [
       "   ID_HDC_G0    coef_pdays    region intermediate-region        sub-region  \\\n",
       "0         34  77198.968012  Americas    Northern America  Northern America   \n",
       "\n",
       "       CTR_MN_NM  GCPNT_LAT   GCPNT_LON          P1983          P2016  \\\n",
       "0  United States  37.973783 -121.295244  236515.041712  365617.969896   \n",
       "\n",
       "         UC_NM_MN  \n",
       "0  Stockton [USA]  "
      ]
     },
     "execution_count": 10,
     "metadata": {},
     "output_type": "execute_result"
    }
   ],
   "source": [
    "map_pdays_out = map_pdays_out.merge(city_nms, on = 'ID_HDC_G0', how = 'inner')\n",
    "map_pdays_out.head(1)"
   ]
  },
  {
   "cell_type": "code",
   "execution_count": 11,
   "metadata": {},
   "outputs": [],
   "source": [
    "fn_out = DATA_PATH+'Jan2021_AP_pdays.csv'\n",
    "map_pdays_out.to_csv(fn_out)"
   ]
  },
  {
   "cell_type": "markdown",
   "metadata": {},
   "source": [
    "## City-level >40.6 days / yr increase rate"
   ]
  },
  {
   "cell_type": "code",
   "execution_count": 12,
   "metadata": {},
   "outputs": [
    {
     "name": "stdout",
     "output_type": "stream",
     "text": [
      "data20210128/AllDATA-GHS-ERA5-HI406-MAPDATA_TOTDAYS_P05.csv \n",
      "\n",
      "0 Unnamed: 0\n",
      "1 ID_HDC_G0\n",
      "2 coef_pdays\n",
      "3 p_value_pdays\n",
      "4 coef_heat\n",
      "5 p_value_heat\n",
      "6 coef_pop\n",
      "7 p_value_pop\n",
      "8 coef_totDays\n",
      "9 p_value_totDays\n",
      "10 coef_attrib\n",
      "11 coef_attrib_norm\n",
      "12 region\n",
      "13 intermediate-region\n",
      "14 sub-region\n",
      "15 CTR_MN_NM\n",
      "16 GCPNT_LAT\n",
      "17 GCPNT_LON\n",
      "18 P1983\n",
      "19 P2016\n"
     ]
    }
   ],
   "source": [
    "num = 2\n",
    "print(nms[num], '\\n')\n",
    "\n",
    "for i, col in enumerate(dfs[num].columns):\n",
    "    print(i, col)"
   ]
  },
  {
   "cell_type": "code",
   "execution_count": 13,
   "metadata": {},
   "outputs": [
    {
     "name": "stdout",
     "output_type": "stream",
     "text": [
      "data20210128/AllDATA-GHS-ERA5-HI406-MAPDATA_TOTDAYS_P05.csv\n"
     ]
    }
   ],
   "source": [
    "# merge files and what not\n",
    "print(nms[num])\n",
    "map_pdays = dfs[num]\n",
    "map_pdays_out = map_pdays.iloc[:,[1,4,12,13,14,15,16,17,18,19]]"
   ]
  },
  {
   "cell_type": "code",
   "execution_count": 14,
   "metadata": {},
   "outputs": [],
   "source": [
    "city_nms = GHS[['ID_HDC_G0', 'UC_NM_MN']]"
   ]
  },
  {
   "cell_type": "code",
   "execution_count": 15,
   "metadata": {},
   "outputs": [
    {
     "data": {
      "text/html": [
       "<div>\n",
       "<style scoped>\n",
       "    .dataframe tbody tr th:only-of-type {\n",
       "        vertical-align: middle;\n",
       "    }\n",
       "\n",
       "    .dataframe tbody tr th {\n",
       "        vertical-align: top;\n",
       "    }\n",
       "\n",
       "    .dataframe thead th {\n",
       "        text-align: right;\n",
       "    }\n",
       "</style>\n",
       "<table border=\"1\" class=\"dataframe\">\n",
       "  <thead>\n",
       "    <tr style=\"text-align: right;\">\n",
       "      <th></th>\n",
       "      <th>ID_HDC_G0</th>\n",
       "      <th>coef_heat</th>\n",
       "      <th>region</th>\n",
       "      <th>intermediate-region</th>\n",
       "      <th>sub-region</th>\n",
       "      <th>CTR_MN_NM</th>\n",
       "      <th>GCPNT_LAT</th>\n",
       "      <th>GCPNT_LON</th>\n",
       "      <th>P1983</th>\n",
       "      <th>P2016</th>\n",
       "      <th>UC_NM_MN</th>\n",
       "    </tr>\n",
       "  </thead>\n",
       "  <tbody>\n",
       "    <tr>\n",
       "      <th>0</th>\n",
       "      <td>43</td>\n",
       "      <td>7840.964018</td>\n",
       "      <td>Americas</td>\n",
       "      <td>Central America</td>\n",
       "      <td>Latin America and the Caribbean</td>\n",
       "      <td>Mexico</td>\n",
       "      <td>22.907003</td>\n",
       "      <td>-109.932803</td>\n",
       "      <td>18950.926698</td>\n",
       "      <td>186269.319093</td>\n",
       "      <td>Cabo San Lucas [MEX]</td>\n",
       "    </tr>\n",
       "  </tbody>\n",
       "</table>\n",
       "</div>"
      ],
      "text/plain": [
       "   ID_HDC_G0    coef_heat    region intermediate-region  \\\n",
       "0         43  7840.964018  Americas     Central America   \n",
       "\n",
       "                        sub-region CTR_MN_NM  GCPNT_LAT   GCPNT_LON  \\\n",
       "0  Latin America and the Caribbean    Mexico  22.907003 -109.932803   \n",
       "\n",
       "          P1983          P2016              UC_NM_MN  \n",
       "0  18950.926698  186269.319093  Cabo San Lucas [MEX]  "
      ]
     },
     "execution_count": 15,
     "metadata": {},
     "output_type": "execute_result"
    }
   ],
   "source": [
    "map_pdays_out = map_pdays_out.merge(city_nms, on = 'ID_HDC_G0', how = 'inner')\n",
    "map_pdays_out.head(1)"
   ]
  },
  {
   "cell_type": "code",
   "execution_count": 16,
   "metadata": {},
   "outputs": [],
   "source": [
    "fn_out = DATA_PATH+'Jan2021_AP_heat.csv'\n",
    "map_pdays_out.to_csv(fn_out)"
   ]
  },
  {
   "cell_type": "markdown",
   "metadata": {},
   "source": [
    "## Get Columns for read me"
   ]
  },
  {
   "cell_type": "code",
   "execution_count": 17,
   "metadata": {},
   "outputs": [
    {
     "name": "stdout",
     "output_type": "stream",
     "text": [
      "ID_HDC_G0\n",
      "coef_heat\n",
      "region\n",
      "intermediate-region\n",
      "sub-region\n",
      "CTR_MN_NM\n",
      "GCPNT_LAT\n",
      "GCPNT_LON\n",
      "P1983\n",
      "P2016\n",
      "UC_NM_MN\n"
     ]
    }
   ],
   "source": [
    "for col in map_pdays_out.columns:\n",
    "    print(col)"
   ]
  }
 ],
 "metadata": {
  "kernelspec": {
   "display_name": "Python 3",
   "language": "python",
   "name": "python3"
  },
  "language_info": {
   "codemirror_mode": {
    "name": "ipython",
    "version": 3
   },
   "file_extension": ".py",
   "mimetype": "text/x-python",
   "name": "python",
   "nbconvert_exporter": "python",
   "pygments_lexer": "ipython3",
   "version": "3.8.6"
  }
 },
 "nbformat": 4,
 "nbformat_minor": 4
}
