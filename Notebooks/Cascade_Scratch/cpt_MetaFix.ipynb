{
 "cells": [
  {
   "cell_type": "markdown",
   "metadata": {},
   "source": [
    "Notebook to fix 09_MakeMeta.py, CPT Feb 2021"
   ]
  },
  {
   "cell_type": "code",
   "execution_count": 40,
   "metadata": {},
   "outputs": [],
   "source": [
    "# Dependencies\n",
    "import pandas as pd\n",
    "import numpy as np\n",
    "import geopandas as gpd\n",
    "\n",
    "# Load Files\n",
    "DATA_PATH= '/home/cascade/projects/UrbanHeat/data/'\n",
    "\n"
   ]
  },
  {
   "cell_type": "code",
   "execution_count": 22,
   "metadata": {},
   "outputs": [],
   "source": [
    "# check trends meta"
   ]
  },
  {
   "cell_type": "code",
   "execution_count": 41,
   "metadata": {},
   "outputs": [],
   "source": [
    "fn_in = DATA_PATH+'processed/PNAS-DATA-v2/HI406_2D_TREND_ALL.json'"
   ]
  },
  {
   "cell_type": "code",
   "execution_count": 42,
   "metadata": {},
   "outputs": [],
   "source": [
    "heat = pd.read_json(fn_in, orient = 'split')"
   ]
  },
  {
   "cell_type": "code",
   "execution_count": 43,
   "metadata": {},
   "outputs": [],
   "source": [
    "bad = ['Brunei',\n",
    "'Cape Verde', \n",
    "'Cabo Verde', \n",
    "'Moldova',\n",
    "'São Tomé and Príncipe',\n",
    "'United Kingdom',\n",
    "'Taiwan',\n",
    "'Czech Republic',]"
   ]
  },
  {
   "cell_type": "code",
   "execution_count": 44,
   "metadata": {},
   "outputs": [
    {
     "name": "stdout",
     "output_type": "stream",
     "text": [
      "8531    Asia\n",
      "Name: region, dtype: object\n",
      "Series([], Name: region, dtype: object)\n",
      "Series([], Name: region, dtype: object)\n",
      "2260    Europe\n",
      "2262    Europe\n",
      "Name: region, dtype: object\n",
      "1586    Africa\n",
      "Name: region, dtype: object\n",
      "1118    Europe\n",
      "1123    Europe\n",
      "1128    Europe\n",
      "1170    Europe\n",
      "1178    Europe\n",
      "1188    Europe\n",
      "1192    Europe\n",
      "1196    Europe\n",
      "1202    Europe\n",
      "1203    Europe\n",
      "1204    Europe\n",
      "1206    Europe\n",
      "1207    Europe\n",
      "1214    Europe\n",
      "1220    Europe\n",
      "Name: region, dtype: object\n",
      "8517    Asia\n",
      "8518    Asia\n",
      "8519    Asia\n",
      "8520    Asia\n",
      "8521    Asia\n",
      "8526    Asia\n",
      "Name: region, dtype: object\n",
      "1917    Europe\n",
      "1942    Europe\n",
      "2016    Europe\n",
      "Name: region, dtype: object\n"
     ]
    }
   ],
   "source": [
    "for nm in bad:\n",
    "    print(heat[heat['CTR_MN_NM'] == nm]['region'])"
   ]
  },
  {
   "cell_type": "code",
   "execution_count": 45,
   "metadata": {},
   "outputs": [
    {
     "data": {
      "text/html": [
       "<div>\n",
       "<style scoped>\n",
       "    .dataframe tbody tr th:only-of-type {\n",
       "        vertical-align: middle;\n",
       "    }\n",
       "\n",
       "    .dataframe tbody tr th {\n",
       "        vertical-align: top;\n",
       "    }\n",
       "\n",
       "    .dataframe thead th {\n",
       "        text-align: right;\n",
       "    }\n",
       "</style>\n",
       "<table border=\"1\" class=\"dataframe\">\n",
       "  <thead>\n",
       "    <tr style=\"text-align: right;\">\n",
       "      <th></th>\n",
       "      <th>ID_HDC_G0</th>\n",
       "      <th>coef_pdays</th>\n",
       "      <th>p_value_pdays</th>\n",
       "      <th>coef_heat</th>\n",
       "      <th>p_value_heat</th>\n",
       "      <th>coef_pop</th>\n",
       "      <th>p_value_pop</th>\n",
       "      <th>coef_totDays</th>\n",
       "      <th>p_value_totDays</th>\n",
       "      <th>coef_attrib</th>\n",
       "      <th>coef_attrib_norm</th>\n",
       "      <th>CTR_MN_NM</th>\n",
       "      <th>UC_NM_MN</th>\n",
       "      <th>GCPNT_LAT</th>\n",
       "      <th>GCPNT_LON</th>\n",
       "      <th>region</th>\n",
       "      <th>sub-region</th>\n",
       "      <th>intermediate-region</th>\n",
       "      <th>P1983</th>\n",
       "      <th>P2016</th>\n",
       "    </tr>\n",
       "  </thead>\n",
       "  <tbody>\n",
       "    <tr>\n",
       "      <td>8517</td>\n",
       "      <td>12691</td>\n",
       "      <td>2.650177e+05</td>\n",
       "      <td>0.0149</td>\n",
       "      <td>1.089844e+05</td>\n",
       "      <td>0.1383</td>\n",
       "      <td>1.560334e+05</td>\n",
       "      <td>0.0001</td>\n",
       "      <td>0.256684</td>\n",
       "      <td>0.1383</td>\n",
       "      <td>0.177532</td>\n",
       "      <td>0.588677</td>\n",
       "      <td>Taiwan</td>\n",
       "      <td>Xinzhu [TWN]</td>\n",
       "      <td>24.823329</td>\n",
       "      <td>120.992776</td>\n",
       "      <td>Asia</td>\n",
       "      <td>Eastern Asia</td>\n",
       "      <td>Eastern Asia</td>\n",
       "      <td>4.245849e+05</td>\n",
       "      <td>7.141547e+05</td>\n",
       "    </tr>\n",
       "    <tr>\n",
       "      <td>8518</td>\n",
       "      <td>12696</td>\n",
       "      <td>4.497583e+06</td>\n",
       "      <td>0.0110</td>\n",
       "      <td>2.031796e+06</td>\n",
       "      <td>0.1255</td>\n",
       "      <td>2.465787e+06</td>\n",
       "      <td>0.0000</td>\n",
       "      <td>0.334301</td>\n",
       "      <td>0.1255</td>\n",
       "      <td>0.096494</td>\n",
       "      <td>0.548150</td>\n",
       "      <td>Taiwan</td>\n",
       "      <td>Xinbei [TWN]</td>\n",
       "      <td>25.006841</td>\n",
       "      <td>121.412805</td>\n",
       "      <td>Asia</td>\n",
       "      <td>Eastern Asia</td>\n",
       "      <td>Eastern Asia</td>\n",
       "      <td>6.077743e+06</td>\n",
       "      <td>8.873427e+06</td>\n",
       "    </tr>\n",
       "    <tr>\n",
       "      <td>8519</td>\n",
       "      <td>12698</td>\n",
       "      <td>1.183861e+03</td>\n",
       "      <td>0.3488</td>\n",
       "      <td>4.359565e+02</td>\n",
       "      <td>0.6299</td>\n",
       "      <td>7.479046e+02</td>\n",
       "      <td>0.0618</td>\n",
       "      <td>0.014668</td>\n",
       "      <td>0.6299</td>\n",
       "      <td>0.263501</td>\n",
       "      <td>0.631671</td>\n",
       "      <td>Taiwan</td>\n",
       "      <td>Chutung [TWN]</td>\n",
       "      <td>24.732891</td>\n",
       "      <td>121.091722</td>\n",
       "      <td>Asia</td>\n",
       "      <td>Eastern Asia</td>\n",
       "      <td>Eastern Asia</td>\n",
       "      <td>2.972224e+04</td>\n",
       "      <td>5.248928e+04</td>\n",
       "    </tr>\n",
       "    <tr>\n",
       "      <td>8520</td>\n",
       "      <td>12701</td>\n",
       "      <td>1.083063e+05</td>\n",
       "      <td>0.0009</td>\n",
       "      <td>5.392138e+04</td>\n",
       "      <td>0.0287</td>\n",
       "      <td>5.438491e+04</td>\n",
       "      <td>0.0000</td>\n",
       "      <td>0.621696</td>\n",
       "      <td>0.0287</td>\n",
       "      <td>0.004280</td>\n",
       "      <td>0.502033</td>\n",
       "      <td>Taiwan</td>\n",
       "      <td>Tanshui [TWN]</td>\n",
       "      <td>25.184280</td>\n",
       "      <td>121.434446</td>\n",
       "      <td>Asia</td>\n",
       "      <td>Eastern Asia</td>\n",
       "      <td>Eastern Asia</td>\n",
       "      <td>8.673272e+04</td>\n",
       "      <td>1.228345e+05</td>\n",
       "    </tr>\n",
       "    <tr>\n",
       "      <td>8521</td>\n",
       "      <td>12703</td>\n",
       "      <td>7.128511e+05</td>\n",
       "      <td>0.0025</td>\n",
       "      <td>2.495288e+05</td>\n",
       "      <td>0.2809</td>\n",
       "      <td>4.633224e+05</td>\n",
       "      <td>0.0000</td>\n",
       "      <td>0.278228</td>\n",
       "      <td>0.2809</td>\n",
       "      <td>0.299913</td>\n",
       "      <td>0.649881</td>\n",
       "      <td>Taiwan</td>\n",
       "      <td>Tainan [TWN]</td>\n",
       "      <td>22.986858</td>\n",
       "      <td>120.230879</td>\n",
       "      <td>Asia</td>\n",
       "      <td>Eastern Asia</td>\n",
       "      <td>Eastern Asia</td>\n",
       "      <td>8.968510e+05</td>\n",
       "      <td>1.059817e+06</td>\n",
       "    </tr>\n",
       "    <tr>\n",
       "      <td>8526</td>\n",
       "      <td>12709</td>\n",
       "      <td>2.181745e+06</td>\n",
       "      <td>0.0001</td>\n",
       "      <td>9.467496e+05</td>\n",
       "      <td>0.0635</td>\n",
       "      <td>1.234995e+06</td>\n",
       "      <td>0.0000</td>\n",
       "      <td>0.462185</td>\n",
       "      <td>0.0635</td>\n",
       "      <td>0.132117</td>\n",
       "      <td>0.565965</td>\n",
       "      <td>Taiwan</td>\n",
       "      <td>Gaoxiong [TWN]</td>\n",
       "      <td>22.652644</td>\n",
       "      <td>120.333590</td>\n",
       "      <td>Asia</td>\n",
       "      <td>Eastern Asia</td>\n",
       "      <td>Eastern Asia</td>\n",
       "      <td>2.048422e+06</td>\n",
       "      <td>2.413648e+06</td>\n",
       "    </tr>\n",
       "  </tbody>\n",
       "</table>\n",
       "</div>"
      ],
      "text/plain": [
       "      ID_HDC_G0    coef_pdays  p_value_pdays     coef_heat  p_value_heat  \\\n",
       "8517      12691  2.650177e+05         0.0149  1.089844e+05        0.1383   \n",
       "8518      12696  4.497583e+06         0.0110  2.031796e+06        0.1255   \n",
       "8519      12698  1.183861e+03         0.3488  4.359565e+02        0.6299   \n",
       "8520      12701  1.083063e+05         0.0009  5.392138e+04        0.0287   \n",
       "8521      12703  7.128511e+05         0.0025  2.495288e+05        0.2809   \n",
       "8526      12709  2.181745e+06         0.0001  9.467496e+05        0.0635   \n",
       "\n",
       "          coef_pop  p_value_pop  coef_totDays  p_value_totDays  coef_attrib  \\\n",
       "8517  1.560334e+05       0.0001      0.256684           0.1383     0.177532   \n",
       "8518  2.465787e+06       0.0000      0.334301           0.1255     0.096494   \n",
       "8519  7.479046e+02       0.0618      0.014668           0.6299     0.263501   \n",
       "8520  5.438491e+04       0.0000      0.621696           0.0287     0.004280   \n",
       "8521  4.633224e+05       0.0000      0.278228           0.2809     0.299913   \n",
       "8526  1.234995e+06       0.0000      0.462185           0.0635     0.132117   \n",
       "\n",
       "      coef_attrib_norm CTR_MN_NM        UC_NM_MN  GCPNT_LAT   GCPNT_LON  \\\n",
       "8517          0.588677    Taiwan    Xinzhu [TWN]  24.823329  120.992776   \n",
       "8518          0.548150    Taiwan    Xinbei [TWN]  25.006841  121.412805   \n",
       "8519          0.631671    Taiwan   Chutung [TWN]  24.732891  121.091722   \n",
       "8520          0.502033    Taiwan   Tanshui [TWN]  25.184280  121.434446   \n",
       "8521          0.649881    Taiwan    Tainan [TWN]  22.986858  120.230879   \n",
       "8526          0.565965    Taiwan  Gaoxiong [TWN]  22.652644  120.333590   \n",
       "\n",
       "     region    sub-region intermediate-region         P1983         P2016  \n",
       "8517   Asia  Eastern Asia        Eastern Asia  4.245849e+05  7.141547e+05  \n",
       "8518   Asia  Eastern Asia        Eastern Asia  6.077743e+06  8.873427e+06  \n",
       "8519   Asia  Eastern Asia        Eastern Asia  2.972224e+04  5.248928e+04  \n",
       "8520   Asia  Eastern Asia        Eastern Asia  8.673272e+04  1.228345e+05  \n",
       "8521   Asia  Eastern Asia        Eastern Asia  8.968510e+05  1.059817e+06  \n",
       "8526   Asia  Eastern Asia        Eastern Asia  2.048422e+06  2.413648e+06  "
      ]
     },
     "execution_count": 45,
     "metadata": {},
     "output_type": "execute_result"
    }
   ],
   "source": [
    "heat[heat['CTR_MN_NM'] == 'Taiwan']"
   ]
  },
  {
   "cell_type": "code",
   "execution_count": 48,
   "metadata": {},
   "outputs": [
    {
     "data": {
      "text/plain": [
       "array(['Northern America', 'Latin America and the Caribbean',\n",
       "       'Western Europe', 'Sub-Saharan Africa', 'Northern Africa', None,\n",
       "       'Southern Europe', 'Northern Europe', 'Eastern Europe',\n",
       "       'Western Asia', 'Central Asia', 'Southern Asia', 'Eastern Asia',\n",
       "       'South-eastern Asia', 'Australia and New Zealand', 'Melanesia'],\n",
       "      dtype=object)"
      ]
     },
     "execution_count": 48,
     "metadata": {},
     "output_type": "execute_result"
    }
   ],
   "source": [
    "heat['sub-region'].unique()"
   ]
  },
  {
   "cell_type": "code",
   "execution_count": null,
   "metadata": {},
   "outputs": [],
   "source": [
    "heat[heat['CTR_MN_NM'].isnull()]"
   ]
  },
  {
   "cell_type": "code",
   "execution_count": null,
   "metadata": {},
   "outputs": [],
   "source": [
    "# Get UN regions\n",
    "countries_fn = DATA_PATH+'raw/countrylist.csv'\n",
    "countries = pd.read_csv(regions_fn)"
   ]
  },
  {
   "cell_type": "code",
   "execution_count": null,
   "metadata": {},
   "outputs": [],
   "source": [
    "# Get GHS-UCDB Columns we want to use \n",
    "ghs_fn = DATA_PATH+'raw/GHS_UCDB/GHS_STAT_UCDB2015MT_GLOBE_R2019A_V1_0.shp'\n",
    "ghs = gpd.read_file(ghs_fn)\n"
   ]
  },
  {
   "cell_type": "code",
   "execution_count": null,
   "metadata": {},
   "outputs": [],
   "source": [
    "# GHS columns we want \n",
    "cols = ['ID_HDC_G0','CTR_MN_NM', 'UC_NM_MN','GCPNT_LAT','GCPNT_LON']\n",
    "ghs_sub = ghs[cols]\n"
   ]
  },
  {
   "cell_type": "code",
   "execution_count": null,
   "metadata": {},
   "outputs": [],
   "source": [
    "regions.rename(columns={'name': 'CTR_MN_NM'}, inplace = True)"
   ]
  },
  {
   "cell_type": "code",
   "execution_count": null,
   "metadata": {},
   "outputs": [],
   "source": [
    "df_out = ghs_sub.merge(regions, on = 'CTR_MN_NM', how = 'left')"
   ]
  },
  {
   "cell_type": "code",
   "execution_count": null,
   "metadata": {
    "scrolled": false
   },
   "outputs": [],
   "source": [
    "for cnt in sorted(df_out.CTR_MN_NM.unique()):\n",
    "    print(cnt)"
   ]
  },
  {
   "cell_type": "code",
   "execution_count": null,
   "metadata": {},
   "outputs": [],
   "source": [
    "# Get UN regions\n",
    "regions_fn = DATA_PATH+'raw/countrylist.csv'\n",
    "regions = pd.read_csv(regions_fn)"
   ]
  },
  {
   "cell_type": "code",
   "execution_count": null,
   "metadata": {},
   "outputs": [],
   "source": [
    "regions[regions['name'] == 'Cabo Verde']"
   ]
  },
  {
   "cell_type": "code",
   "execution_count": null,
   "metadata": {},
   "outputs": [],
   "source": [
    "fn_in = DATA_PATH+'interim/GHS-UCDB-IDS.csv'"
   ]
  },
  {
   "cell_type": "code",
   "execution_count": null,
   "metadata": {},
   "outputs": [],
   "source": [
    "meta = pd.read_csv(fn_in)"
   ]
  },
  {
   "cell_type": "code",
   "execution_count": null,
   "metadata": {},
   "outputs": [],
   "source": [
    "meta[meta['CTR_MN_NM'] == 'Cape Verde']"
   ]
  },
  {
   "cell_type": "code",
   "execution_count": null,
   "metadata": {},
   "outputs": [],
   "source": [
    "meta[meta.CTR_MN_NM.isnull()]"
   ]
  },
  {
   "cell_type": "code",
   "execution_count": null,
   "metadata": {},
   "outputs": [],
   "source": [
    "len(meta)"
   ]
  },
  {
   "cell_type": "code",
   "execution_count": null,
   "metadata": {},
   "outputs": [],
   "source": []
  },
  {
   "cell_type": "code",
   "execution_count": null,
   "metadata": {},
   "outputs": [],
   "source": [
    "# Load Files\n",
    "DATA_PATH= '/home/cascade/projects/UrbanHeat/data/'\n",
    "\n",
    "# Get GHS-UCDB Columns we want to use \n",
    "ghs_fn = DATA_PATH+'raw/GHS_UCDB/GHS_STAT_UCDB2015MT_GLOBE_R2019A_V1_0.shp'\n",
    "ghs = gpd.read_file(ghs_fn)\n",
    "\n",
    "# GHS columns we want \n",
    "cols = ['ID_HDC_G0','CTR_MN_NM', 'UC_NM_MN','GCPNT_LAT','GCPNT_LON']\n",
    "df_out = ghs[cols]\n",
    "\n",
    "# Fix Ivory coast\n",
    "df_out.CTR_MN_NM = df_out.CTR_MN_NM.replace('CÃ´te d\\'Ivoire', 'Ivory Coast') \n",
    "\n",
    "# Get UN regions\n",
    "regions_fn = DATA_PATH+'raw/countrylist.csv'\n",
    "regions = pd.read_csv(regions_fn)\n",
    "\n",
    "cols = ['name','region','sub-region','intermediate-region']\n",
    "regions = regions[cols]\n",
    "regions.rename(columns={'name': 'CTR_MN_NM'}, inplace = True)\n",
    "\n",
    "# Merge\n",
    "df_out = df_out.merge(regions, on = 'CTR_MN_NM', how = 'left')\n",
    "\n",
    "# write out \n",
    "# fn_out = DATA_PATH+'interim/GHS-UCDB-IDS.csv'\n",
    "# df_out.to_csv(fn_out, index = False)"
   ]
  },
  {
   "cell_type": "code",
   "execution_count": null,
   "metadata": {},
   "outputs": [],
   "source": [
    "df_out"
   ]
  },
  {
   "cell_type": "code",
   "execution_count": null,
   "metadata": {},
   "outputs": [],
   "source": [
    "df_out[df_out['GCPNT_LAT'].isnull()]"
   ]
  },
  {
   "cell_type": "code",
   "execution_count": null,
   "metadata": {},
   "outputs": [],
   "source": [
    "df_out[df_out['ID_HDC_G0'] == 1450]"
   ]
  },
  {
   "cell_type": "code",
   "execution_count": null,
   "metadata": {},
   "outputs": [],
   "source": [
    "ids = [ 1450,  1451,  1549,  1562,  1563,  1567,  1583,  1585,  1586,\n",
    "        1587,  1589,  1590,  1591,  1601,  1603,  1606,  1610,  1611,\n",
    "        1615,  1617,  1625,  1628,  1633,  1637,  1639,  1642,  1666,\n",
    "        1672,  1675,  1683,  1684,  1689,  1693,  1704,  1706,  1707,\n",
    "        1713,  1715,  1718,  1725,  1728,  1729,  1741,  1746,  1751,\n",
    "        1752,  1753,  1759,  1760,  1761,  1764,  1767,  1770,  1771,\n",
    "        1772,  1773,  1775,  1776,  1777,  1778,  1780,  1781,  1782,\n",
    "        1786,  1790,  1792,  1793,  1794,  1795,  1796,  1800,  1803,\n",
    "        1805,  1806,  1810,  1811,  1813,  1815,  1816,  1819,  1828,\n",
    "        1831,  1833,  1834,  1835,  1836,  1837,  1838,  1839,  1840,\n",
    "        1841,  1845,  1847,  1848,  1851,  1857,  1858,  1859,  1860,\n",
    "        1861,  1862,  1864,  1867,  1869,  1874,  1877,  1880,  1887,\n",
    "        1889,  1891,  1892,  1893,  1895,  1896,  1899,  1900,  1905,\n",
    "        1906,  1912,  1914,  1915,  1919,  1920,  1923,  1924,  1929,\n",
    "        1930,  1936,  1939,  1945,  1946,  1948,  1960,  1965,  1971,\n",
    "        1973,  1978,  1979,  1980,  1981,  1983,  1984,  1993,  1995,\n",
    "        2003,  2004,  2005,  2485,  2886,  2911,  2921,  2927,  2939,\n",
    "        2951,  2989,  2992,  3036,  3063,  3120,  3132,  3468,  3498,\n",
    "        3501,  3534,  3537, 12687, 12689, 12691, 12692, 12693, 12694,\n",
    "       12695, 12696, 12697, 12698, 12699, 12700, 12701, 12702, 12703,\n",
    "       12709, 12714, 12715, 12717, 12718, 12721, 12724]"
   ]
  },
  {
   "cell_type": "code",
   "execution_count": null,
   "metadata": {},
   "outputs": [],
   "source": [
    "bad_data = df_out[df_out['ID_HDC_G0'].isin(ids)]"
   ]
  },
  {
   "cell_type": "code",
   "execution_count": null,
   "metadata": {
    "scrolled": false
   },
   "outputs": [],
   "source": [
    "bad_data"
   ]
  },
  {
   "cell_type": "code",
   "execution_count": null,
   "metadata": {},
   "outputs": [],
   "source": [
    "bad_countries = list(bad_data['CTR_MN_NM'].unique())"
   ]
  },
  {
   "cell_type": "code",
   "execution_count": null,
   "metadata": {},
   "outputs": [],
   "source": [
    "sorted(bad_countries)"
   ]
  },
  {
   "cell_type": "code",
   "execution_count": null,
   "metadata": {},
   "outputs": [],
   "source": [
    "# Get UN regions\n",
    "countries_fn = DATA_PATH+'raw/countrylist.csv'\n",
    "countries = pd.read_csv(regions_fn)"
   ]
  },
  {
   "cell_type": "code",
   "execution_count": null,
   "metadata": {
    "scrolled": true
   },
   "outputs": [],
   "source": [
    "countries"
   ]
  },
  {
   "cell_type": "code",
   "execution_count": null,
   "metadata": {},
   "outputs": [],
   "source": [
    "for name in countries['name']:\n",
    "    print(name)"
   ]
  }
 ],
 "metadata": {
  "kernelspec": {
   "display_name": "geo",
   "language": "python",
   "name": "geo"
  },
  "language_info": {
   "codemirror_mode": {
    "name": "ipython",
    "version": 3
   },
   "file_extension": ".py",
   "mimetype": "text/x-python",
   "name": "python",
   "nbconvert_exporter": "python",
   "pygments_lexer": "ipython3",
   "version": "3.6.7"
  }
 },
 "nbformat": 4,
 "nbformat_minor": 4
}
