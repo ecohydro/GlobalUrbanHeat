{
 "cells": [
  {
   "cell_type": "code",
   "execution_count": 1,
   "metadata": {},
   "outputs": [],
   "source": [
    "import pandas as pd\n",
    "import matplotlib.pyplot as plt\n",
    "import numpy as np"
   ]
  },
  {
   "cell_type": "code",
   "execution_count": 2,
   "metadata": {},
   "outputs": [],
   "source": [
    "#### Args\n",
    "DATA_IN = \"/home/cascade/projects/UrbanHeat/data/\" \n",
    "FN_STATS = 'processed/AllDATA-GHS-ERA5-HI406-META.csv'\n",
    "FN_POP = 'interim/GHS-UCDB-Interp.csv'\n",
    "FN_OUT = DATA_IN+'processed/AllDATA-GHS-ERA5-HI406-FIGDATA.csv'"
   ]
  },
  {
   "cell_type": "code",
   "execution_count": null,
   "metadata": {},
   "outputs": [],
   "source": [
    "STATS = pd.read_csv(DATA_IN+FN_STATS)"
   ]
  },
  {
   "cell_type": "code",
   "execution_count": null,
   "metadata": {},
   "outputs": [],
   "source": [
    "STATS.head()"
   ]
  },
  {
   "cell_type": "code",
   "execution_count": null,
   "metadata": {},
   "outputs": [],
   "source": [
    "STATS[(STATS['ID_HDC_G0'] == 5645) & (STATS['year'] == 1989)]"
   ]
  },
  {
   "cell_type": "code",
   "execution_count": null,
   "metadata": {},
   "outputs": [],
   "source": [
    "# Let's get a subset\n",
    "\n",
    "df = STATS[STATS['CTR_MN_NM'] == 'France']\n",
    "print(len(df))"
   ]
  },
  {
   "cell_type": "code",
   "execution_count": null,
   "metadata": {},
   "outputs": [],
   "source": [
    "def group_stats(df):\n",
    "    \"function groups event stats to calc total Tmax days per year for each city\"\n",
    "    \n",
    "    total_days = df.groupby(['year', 'ID_HDC_G0'])['duration'].sum() # group by city and year\n",
    "    total_days_df = pd.DataFrame(total_days).reset_index() # reset the index\n",
    "    total_days_df.rename({'duration': 'total_days'}, axis=1, inplace=True) # rename column \n",
    "\n",
    "    return total_days_df"
   ]
  },
  {
   "cell_type": "code",
   "execution_count": null,
   "metadata": {},
   "outputs": [],
   "source": [
    "total_days_df = group_stats(df)\n",
    "total_days_df.head()\n",
    "print(len(total_days_df))"
   ]
  },
  {
   "cell_type": "code",
   "execution_count": null,
   "metadata": {},
   "outputs": [],
   "source": [
    "# Match it and check\n",
    "match = df[['ID_HDC_G0', 'total_days', 'year']]\n",
    "match.head()"
   ]
  },
  {
   "cell_type": "code",
   "execution_count": null,
   "metadata": {},
   "outputs": [],
   "source": [
    "total_days_df = total_days_df.merge(match, how = 'inner', on = ['ID_HDC_G0', 'year'])"
   ]
  },
  {
   "cell_type": "code",
   "execution_count": null,
   "metadata": {},
   "outputs": [],
   "source": [
    "len(total_days_df)"
   ]
  },
  {
   "cell_type": "code",
   "execution_count": null,
   "metadata": {},
   "outputs": [],
   "source": [
    "# Why is there a difference?\n",
    "total_days_df['dif'] = total_days_df['total_days_x'] - total_days_df['total_days_y']"
   ]
  },
  {
   "cell_type": "code",
   "execution_count": null,
   "metadata": {},
   "outputs": [],
   "source": [
    "error = total_days_df[total_days_df['dif'] !=0]"
   ]
  },
  {
   "cell_type": "code",
   "execution_count": null,
   "metadata": {},
   "outputs": [],
   "source": [
    "len(error)"
   ]
  },
  {
   "cell_type": "code",
   "execution_count": null,
   "metadata": {},
   "outputs": [],
   "source": [
    "total_days_df"
   ]
  },
  {
   "cell_type": "code",
   "execution_count": null,
   "metadata": {},
   "outputs": [],
   "source": [
    "def df_drop(df, cols):\n",
    "    \"function takes data frame and drops duplicates based on a column, takes list of cols\"\n",
    "    df_out = pd.DataFrame()\n",
    "    df_out = df.drop_duplicates(cols)\n",
    "    \n",
    "    return df_out"
   ]
  },
  {
   "cell_type": "code",
   "execution_count": null,
   "metadata": {},
   "outputs": [],
   "source": [
    "len(total_days_df)\n",
    "out = df_drop(total_days_df, ('ID_HDC_G0', 'year'))"
   ]
  },
  {
   "cell_type": "code",
   "execution_count": null,
   "metadata": {},
   "outputs": [],
   "source": [
    "len(out)"
   ]
  },
  {
   "cell_type": "code",
   "execution_count": null,
   "metadata": {},
   "outputs": [],
   "source": [
    "len(df.drop_duplicates(('ID_HDC_G0', 'year')))"
   ]
  },
  {
   "cell_type": "markdown",
   "metadata": {},
   "source": [
    "# Find city IDS w/ 1 data point in 1983 and zeros everywhere else"
   ]
  },
  {
   "cell_type": "code",
   "execution_count": 3,
   "metadata": {},
   "outputs": [],
   "source": [
    "# Check\n",
    "FN_FIGDATA = 'processed/AllDATA-GHS-ERA5-HI406-FIGDATA.csv'\n",
    "FIGDATA = pd.read_csv(DATA_IN+FN_FIGDATA)"
   ]
  },
  {
   "cell_type": "code",
   "execution_count": 4,
   "metadata": {},
   "outputs": [
    {
     "data": {
      "text/html": [
       "<div>\n",
       "<style scoped>\n",
       "    .dataframe tbody tr th:only-of-type {\n",
       "        vertical-align: middle;\n",
       "    }\n",
       "\n",
       "    .dataframe tbody tr th {\n",
       "        vertical-align: top;\n",
       "    }\n",
       "\n",
       "    .dataframe thead th {\n",
       "        text-align: right;\n",
       "    }\n",
       "</style>\n",
       "<table border=\"1\" class=\"dataframe\">\n",
       "  <thead>\n",
       "    <tr style=\"text-align: right;\">\n",
       "      <th></th>\n",
       "      <th>Unnamed: 0</th>\n",
       "      <th>ID_HDC_G0</th>\n",
       "      <th>year</th>\n",
       "      <th>total_days</th>\n",
       "      <th>P</th>\n",
       "      <th>P1983</th>\n",
       "      <th>P2016</th>\n",
       "      <th>people_days</th>\n",
       "      <th>people_days_heat</th>\n",
       "      <th>people_days_pop</th>\n",
       "    </tr>\n",
       "  </thead>\n",
       "  <tbody>\n",
       "    <tr>\n",
       "      <td>0</td>\n",
       "      <td>0</td>\n",
       "      <td>5645</td>\n",
       "      <td>1983</td>\n",
       "      <td>1</td>\n",
       "      <td>80796.793810</td>\n",
       "      <td>80796.79381</td>\n",
       "      <td>96123.248169</td>\n",
       "      <td>80796.793810</td>\n",
       "      <td>80796.79381</td>\n",
       "      <td>0.000000</td>\n",
       "    </tr>\n",
       "    <tr>\n",
       "      <td>1</td>\n",
       "      <td>1</td>\n",
       "      <td>5645</td>\n",
       "      <td>1989</td>\n",
       "      <td>2</td>\n",
       "      <td>78918.494262</td>\n",
       "      <td>80796.79381</td>\n",
       "      <td>96123.248169</td>\n",
       "      <td>157836.988523</td>\n",
       "      <td>161593.58762</td>\n",
       "      <td>-3756.599097</td>\n",
       "    </tr>\n",
       "    <tr>\n",
       "      <td>2</td>\n",
       "      <td>2</td>\n",
       "      <td>5645</td>\n",
       "      <td>1990</td>\n",
       "      <td>3</td>\n",
       "      <td>78605.444337</td>\n",
       "      <td>80796.79381</td>\n",
       "      <td>96123.248169</td>\n",
       "      <td>235816.333011</td>\n",
       "      <td>242390.38143</td>\n",
       "      <td>-6574.048420</td>\n",
       "    </tr>\n",
       "    <tr>\n",
       "      <td>3</td>\n",
       "      <td>3</td>\n",
       "      <td>5645</td>\n",
       "      <td>1994</td>\n",
       "      <td>1</td>\n",
       "      <td>76481.266889</td>\n",
       "      <td>80796.79381</td>\n",
       "      <td>96123.248169</td>\n",
       "      <td>76481.266889</td>\n",
       "      <td>80796.79381</td>\n",
       "      <td>-4315.526921</td>\n",
       "    </tr>\n",
       "    <tr>\n",
       "      <td>4</td>\n",
       "      <td>4</td>\n",
       "      <td>5645</td>\n",
       "      <td>2005</td>\n",
       "      <td>1</td>\n",
       "      <td>80904.416534</td>\n",
       "      <td>80796.79381</td>\n",
       "      <td>96123.248169</td>\n",
       "      <td>80904.416534</td>\n",
       "      <td>80796.79381</td>\n",
       "      <td>107.622724</td>\n",
       "    </tr>\n",
       "  </tbody>\n",
       "</table>\n",
       "</div>"
      ],
      "text/plain": [
       "   Unnamed: 0  ID_HDC_G0  year  total_days             P        P1983  \\\n",
       "0           0       5645  1983           1  80796.793810  80796.79381   \n",
       "1           1       5645  1989           2  78918.494262  80796.79381   \n",
       "2           2       5645  1990           3  78605.444337  80796.79381   \n",
       "3           3       5645  1994           1  76481.266889  80796.79381   \n",
       "4           4       5645  2005           1  80904.416534  80796.79381   \n",
       "\n",
       "          P2016    people_days  people_days_heat  people_days_pop  \n",
       "0  96123.248169   80796.793810       80796.79381         0.000000  \n",
       "1  96123.248169  157836.988523      161593.58762     -3756.599097  \n",
       "2  96123.248169  235816.333011      242390.38143     -6574.048420  \n",
       "3  96123.248169   76481.266889       80796.79381     -4315.526921  \n",
       "4  96123.248169   80904.416534       80796.79381       107.622724  "
      ]
     },
     "execution_count": 4,
     "metadata": {},
     "output_type": "execute_result"
    }
   ],
   "source": [
    "FIGDATA.head()"
   ]
  },
  {
   "cell_type": "code",
   "execution_count": 26,
   "metadata": {},
   "outputs": [],
   "source": [
    "#### Make a Funtion to reduce\n",
    "def reduce(df, year, total_days):\n",
    "    reduce_df = df[(df['year'] == year) & (df['total_days'] == total_days)]\n",
    "    \n",
    "    return reduce_df"
   ]
  },
  {
   "cell_type": "code",
   "execution_count": 58,
   "metadata": {},
   "outputs": [],
   "source": [
    "# Copy all data\n",
    "df = FIGDATA.copy()\n",
    "\n",
    "# get years for loop\n",
    "years = list(range(1984, 2017)) \n",
    "\n",
    "for i, year in enumerate(years):\n",
    "    df_reduce = reduce(df, year, 0) # find 0 total days by year\n",
    "    ids = list(df_reduce['ID_HDC_G0']) # Get the city ids for total days == 0 for that year\n",
    "    df = df[df['ID_HDC_G0'].isin(ids)] # subset data by those city ids"
   ]
  },
  {
   "cell_type": "code",
   "execution_count": 60,
   "metadata": {},
   "outputs": [
    {
     "data": {
      "text/plain": [
       "array([ 832, 1732, 5521])"
      ]
     },
     "execution_count": 60,
     "metadata": {},
     "output_type": "execute_result"
    }
   ],
   "source": [
    "np.unique(df['ID_HDC_G0'])"
   ]
  }
 ],
 "metadata": {
  "kernelspec": {
   "display_name": "geo",
   "language": "python",
   "name": "geo"
  },
  "language_info": {
   "codemirror_mode": {
    "name": "ipython",
    "version": 3
   },
   "file_extension": ".py",
   "mimetype": "text/x-python",
   "name": "python",
   "nbconvert_exporter": "python",
   "pygments_lexer": "ipython3",
   "version": "3.6.7"
  }
 },
 "nbformat": 4,
 "nbformat_minor": 2
}
