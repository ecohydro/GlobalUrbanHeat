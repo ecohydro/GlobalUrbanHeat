{
 "cells": [
  {
   "cell_type": "markdown",
   "metadata": {},
   "source": [
    "# Notebook to search our data\n",
    "Cascade Tuholske 2021.02.15"
   ]
  },
  {
   "cell_type": "code",
   "execution_count": 286,
   "metadata": {},
   "outputs": [],
   "source": [
    "# Dependencies\n",
    "import pandas as pd\n",
    "import os\n",
    "from glob import glob\n",
    "import multiprocessing as mp \n",
    "from multiprocessing import Pool\n",
    "import time\n",
    "import matplotlib.pyplot as plt\n",
    "import numpy as np"
   ]
  },
  {
   "cell_type": "markdown",
   "metadata": {},
   "source": [
    "## Find Cities"
   ]
  },
  {
   "cell_type": "code",
   "execution_count": 4,
   "metadata": {},
   "outputs": [],
   "source": [
    "C40_cities = ['Addis Ababa',\n",
    "'Amman',\n",
    "'Amsterdam',\n",
    "'Athinai (Athens)',#'Athens',\n",
    "'Auckland',\n",
    "'Austin',\n",
    "'Basel',#'Basel-Stadt',\n",
    "'Bogota',#'Bogotá',\n",
    "'Boston',\n",
    "'Buenos Aires',\n",
    "'Cape Town',\n",
    "'Caracas',\n",
    "'Chicago',\n",
    "'Kbenhavn (Copenhagen)',#'Copenhagen',\n",
    "'Curitiba',\n",
    "'Washington, D.C.',#'District of Columbia',\n",
    "'Durban (Ethekwini)',#'Durban',\n",
    "'Hong Kong',\n",
    "'Houston',\n",
    "'Jakarta',\n",
    "'Johannesburg',\n",
    "'Lagos',\n",
    "'Lima',\n",
    "'London',\n",
    "'Los Angeles',\n",
    "'Madrid',\n",
    "'Melbourne',\n",
    "'Ciudad de Mexico (Mexico City)',#'Mexico City',\n",
    "'Milano (Milan)',#'Milano',\n",
    "'New Orleans',\n",
    "'New York-Newark',#'New York City',\n",
    "'Oslo',\n",
    "'Paris',\n",
    "'Philadelphia',\n",
    "'Portland',#'Portland, OR',\n",
    "'Pretoria', #'Pretoria - Tshwane',\n",
    "'Quito',\n",
    "'Rio de Janeiro',\n",
    "'Roma (Rome)',#'Roma',\n",
    "'Rotterdam',\n",
    "'Salvador',\n",
    "'San Francisco',\n",
    "'Santiago',\n",
    "'Seattle',\n",
    "'Seoul',\n",
    "'Heidelberg',#'Stadt Heidelberg',\n",
    "'Stockholm',\n",
    "'Sydney',\n",
    "'Tokyo',\n",
    "'Toronto',\n",
    "'Vancouver',\n",
    "'Venezia',\n",
    "'Warszawa (Warsaw)']#'Warsaw',\n",
    "#'Tokyo']#'Yokohama']"
   ]
  },
  {
   "cell_type": "code",
   "execution_count": 6,
   "metadata": {},
   "outputs": [],
   "source": [
    "DATA_PATH = '/home/cascade/projects/UrbanHeat/data/'\n",
    "ids_fn = DATA_PATH+'interim/GHS-UCDB-IDS.csv'\n",
    "ids = pd.read_csv(ids_fn)"
   ]
  },
  {
   "cell_type": "code",
   "execution_count": 7,
   "metadata": {},
   "outputs": [],
   "source": [
    "# Drop country from city name\n",
    "ids['city_nm'] = ids['UC_NM_MN'].map(lambda X: X.split(' [')[0]) # lambda x: x.split(' ['[0]))"
   ]
  },
  {
   "cell_type": "code",
   "execution_count": 9,
   "metadata": {},
   "outputs": [
    {
     "data": {
      "text/plain": [
       "0"
      ]
     },
     "execution_count": 9,
     "metadata": {},
     "output_type": "execute_result"
    }
   ],
   "source": [
    "#find intersection\n",
    "a = list(ids['city_nm'])\n",
    "b = C40_cities\n",
    "common_cities = list(set(a).intersection(set(b)))\n",
    "missing_cities = list(set(b).difference(set(a)))\n",
    "len(missing_cities)\n",
    "\n",
    "# let's manually find missing cities\n",
    "# country = 'Poland'\n",
    "# for city in cities[cities['CTR_MN_NM']== country]['city_nm']:\n",
    "#     print(city)"
   ]
  },
  {
   "cell_type": "code",
   "execution_count": 10,
   "metadata": {
    "scrolled": false
   },
   "outputs": [],
   "source": [
    "# merge them\n",
    "df_common = pd.DataFrame()\n",
    "df_common['city_nm'] = C40_cities\n",
    "df_common = df_common.merge(ids, on = 'city_nm', how = 'inner')"
   ]
  },
  {
   "cell_type": "code",
   "execution_count": 12,
   "metadata": {},
   "outputs": [],
   "source": [
    "df_common.to_csv(DATA_PATH+'interim/ghs-c40.csv')"
   ]
  },
  {
   "cell_type": "markdown",
   "metadata": {},
   "source": [
    "## City Search"
   ]
  },
  {
   "cell_type": "code",
   "execution_count": 13,
   "metadata": {},
   "outputs": [],
   "source": [
    "def search(fn): \n",
    "    \"\"\" Searches through HI max data for specific cities based on ID_HDC_G0 values\n",
    "    Args:\n",
    "        fn = file name\n",
    "    \"\"\"\n",
    "    \n",
    "    # Dirs and fns\n",
    "    DATA_PATH = '/home/cascade/projects/UrbanHeat/data/'\n",
    "    OUT_PATH = DATA_PATH+'interim/C40_HI/subset/'\n",
    "    \n",
    "    # year\n",
    "    year = fn.split('GHS-HI_')[1].split('.csv')[0]\n",
    "    \n",
    "    # open C40 cities\n",
    "    ids_fn = DATA_PATH+'interim/ghs-c40.csv'\n",
    "    ids_df = pd.read_csv(ids_fn)\n",
    "    \n",
    "    # ids\n",
    "    ids = list(ids_df['ID_HDC_G0'])\n",
    "    \n",
    "    # open df\n",
    "    df = pd.read_csv(fn)\n",
    "    \n",
    "    # match\n",
    "    df_out = df.loc[df['ID_HDC_G0'].isin(ids)]\n",
    "    \n",
    "    #print\n",
    "    print(year,ids_df.shape,df_out.shape)\n",
    "    \n",
    "    # write out\n",
    "    out_fn = OUT_PATH+'C40_HI_'+year+'.csv'\n",
    "    df_out.to_csv(out_fn, index = False)"
   ]
  },
  {
   "cell_type": "code",
   "execution_count": 14,
   "metadata": {},
   "outputs": [],
   "source": [
    "# start pools\n",
    "def parallel_loop(function, dir_list, cpu_num):\n",
    "    \"\"\"Run the temp-ghs routine in parallel\n",
    "    Args: \n",
    "        function = function to apply in parallel\n",
    "        dir_list = list of dir to loop through \n",
    "        cpu_num = numper of cpus to fire  \n",
    "    \"\"\" \n",
    "    start = time.time()\n",
    "    pool = Pool(processes = cpu_num)\n",
    "    pool.map(function, dir_list)\n",
    "    # pool.map_async(function, dir_list)\n",
    "    pool.close()\n",
    "\n",
    "    end = time.time()\n",
    "    print(end-start)"
   ]
  },
  {
   "cell_type": "code",
   "execution_count": 15,
   "metadata": {},
   "outputs": [
    {
     "name": "stdout",
     "output_type": "stream",
     "text": [
      "1998 (58, 10) (58, 368)\n",
      "1996 (58, 10) (58, 369)\n",
      "1984 (58, 10) (58, 369)\n",
      "1989 (58, 10) (58, 368)\n",
      "2001 (58, 10) (58, 368)\n",
      "1992 (58, 10) (58, 369)\n",
      "1999 (58, 10) (58, 368)\n",
      "2002 (58, 10) (58, 368)\n",
      "1988 (58, 10) (58, 369)\n",
      "1990 (58, 10) (58, 368)\n",
      "1997 (58, 10) (58, 368)\n",
      "1991 (58, 10) (58, 368)\n",
      "1987 (58, 10) (58, 368)\n",
      "1986 (58, 10) (58, 368)\n",
      "1985 (58, 10) (58, 368)\n",
      "1994 (58, 10) (58, 368)\n",
      "1993 (58, 10) (58, 368)\n",
      "1995 (58, 10) (58, 368)\n",
      "2000 (58, 10) (58, 369)\n",
      "1983 (58, 10) (58, 368)\n",
      "2003 (58, 10) (58, 368)\n",
      "2004 (58, 10) (58, 369)\n",
      "2005 (58, 10) (58, 368)\n",
      "2006 (58, 10) (58, 368)\n",
      "2007 (58, 10) (58, 368)\n",
      "2012 (58, 10) (58, 369)\n",
      "2008 (58, 10) (58, 369)\n",
      "2013 (58, 10) (58, 368)\n",
      "2010 (58, 10) (58, 368)\n",
      "2016 (58, 10) (58, 369)\n",
      "2009 (58, 10) (58, 368)\n",
      "2011 (58, 10) (58, 368)\n",
      "2015 (58, 10) (58, 368)\n",
      "2014 (58, 10) (58, 368)\n",
      "1.6536870002746582\n"
     ]
    }
   ],
   "source": [
    "a = search\n",
    "b = sorted(glob(DATA_PATH+'interim/CHIRTS_DAILY/HI/*.csv'))\n",
    "c = 20\n",
    "\n",
    "parallel_loop(function = a, dir_list = b, cpu_num = c)"
   ]
  },
  {
   "cell_type": "markdown",
   "metadata": {},
   "source": [
    "## Merge it all"
   ]
  },
  {
   "cell_type": "code",
   "execution_count": 16,
   "metadata": {},
   "outputs": [],
   "source": [
    "fn_list = glob(DATA_PATH+'interim/C40_HI/subset/*.csv')"
   ]
  },
  {
   "cell_type": "code",
   "execution_count": 137,
   "metadata": {
    "scrolled": true
   },
   "outputs": [
    {
     "data": {
      "text/html": [
       "<div>\n",
       "<style scoped>\n",
       "    .dataframe tbody tr th:only-of-type {\n",
       "        vertical-align: middle;\n",
       "    }\n",
       "\n",
       "    .dataframe tbody tr th {\n",
       "        vertical-align: top;\n",
       "    }\n",
       "\n",
       "    .dataframe thead th {\n",
       "        text-align: right;\n",
       "    }\n",
       "</style>\n",
       "<table border=\"1\" class=\"dataframe\">\n",
       "  <thead>\n",
       "    <tr style=\"text-align: right;\">\n",
       "      <th></th>\n",
       "      <th>Unnamed: 0</th>\n",
       "      <th>ID_HDC_G0</th>\n",
       "      <th>CTR_MN_NM</th>\n",
       "      <th>2010.01.01</th>\n",
       "      <th>2010.01.02</th>\n",
       "      <th>2010.01.03</th>\n",
       "      <th>2010.01.04</th>\n",
       "      <th>2010.01.05</th>\n",
       "      <th>2010.01.06</th>\n",
       "      <th>2010.01.07</th>\n",
       "      <th>...</th>\n",
       "      <th>2010.12.22</th>\n",
       "      <th>2010.12.23</th>\n",
       "      <th>2010.12.24</th>\n",
       "      <th>2010.12.25</th>\n",
       "      <th>2010.12.26</th>\n",
       "      <th>2010.12.27</th>\n",
       "      <th>2010.12.28</th>\n",
       "      <th>2010.12.29</th>\n",
       "      <th>2010.12.30</th>\n",
       "      <th>2010.12.31</th>\n",
       "    </tr>\n",
       "  </thead>\n",
       "  <tbody>\n",
       "    <tr>\n",
       "      <td>0</td>\n",
       "      <td>23</td>\n",
       "      <td>2493</td>\n",
       "      <td>Norway</td>\n",
       "      <td>-7.395024</td>\n",
       "      <td>-9.238755</td>\n",
       "      <td>-12.680681</td>\n",
       "      <td>-10.468003</td>\n",
       "      <td>-12.413922</td>\n",
       "      <td>-19.293702</td>\n",
       "      <td>-16.388572</td>\n",
       "      <td>...</td>\n",
       "      <td>-15.092358</td>\n",
       "      <td>-11.527999</td>\n",
       "      <td>-11.742256</td>\n",
       "      <td>-11.237653</td>\n",
       "      <td>-1.728042</td>\n",
       "      <td>-2.515468</td>\n",
       "      <td>-5.09265</td>\n",
       "      <td>-10.870645</td>\n",
       "      <td>-9.300386</td>\n",
       "      <td>4.336634</td>\n",
       "    </tr>\n",
       "  </tbody>\n",
       "</table>\n",
       "<p>1 rows × 368 columns</p>\n",
       "</div>"
      ],
      "text/plain": [
       "   Unnamed: 0  ID_HDC_G0 CTR_MN_NM  2010.01.01  2010.01.02  2010.01.03  \\\n",
       "0          23       2493    Norway   -7.395024   -9.238755  -12.680681   \n",
       "\n",
       "   2010.01.04  2010.01.05  2010.01.06  2010.01.07  ...  2010.12.22  \\\n",
       "0  -10.468003  -12.413922  -19.293702  -16.388572  ...  -15.092358   \n",
       "\n",
       "   2010.12.23  2010.12.24  2010.12.25  2010.12.26  2010.12.27  2010.12.28  \\\n",
       "0  -11.527999  -11.742256  -11.237653   -1.728042   -2.515468    -5.09265   \n",
       "\n",
       "   2010.12.29  2010.12.30  2010.12.31  \n",
       "0  -10.870645   -9.300386    4.336634  \n",
       "\n",
       "[1 rows x 368 columns]"
      ]
     },
     "execution_count": 137,
     "metadata": {},
     "output_type": "execute_result"
    }
   ],
   "source": [
    "pd.read_csv(fn_list[0]).head(1)"
   ]
  },
  {
   "cell_type": "code",
   "execution_count": 17,
   "metadata": {},
   "outputs": [],
   "source": [
    "dfs_list = []\n",
    "\n",
    "for fn in fn_list:\n",
    "    df = pd.read_csv(fn)\n",
    "    dfs_list.append(df.iloc[:,3:])"
   ]
  },
  {
   "cell_type": "code",
   "execution_count": 18,
   "metadata": {},
   "outputs": [],
   "source": [
    "df_all = pd.concat(dfs_list, axis = 1)"
   ]
  },
  {
   "cell_type": "markdown",
   "metadata": {},
   "source": [
    "## 95 pct"
   ]
  },
  {
   "cell_type": "code",
   "execution_count": 168,
   "metadata": {},
   "outputs": [],
   "source": [
    "q95 = df_all.quantile(q=0.95, axis=1, numeric_only=True, interpolation='linear')"
   ]
  },
  {
   "cell_type": "code",
   "execution_count": 169,
   "metadata": {},
   "outputs": [],
   "source": [
    "nms = pd.read_csv(fn_list[0])\n",
    "nms = nms[['ID_HDC_G0']]"
   ]
  },
  {
   "cell_type": "code",
   "execution_count": 170,
   "metadata": {},
   "outputs": [],
   "source": [
    "q95_df = pd.DataFrame()\n",
    "q95_df['ID_HDC_G0'] = pd.read_csv(fn_list[0])['ID_HDC_G0']\n",
    "q95_df['q95'] = q95"
   ]
  },
  {
   "cell_type": "code",
   "execution_count": 171,
   "metadata": {},
   "outputs": [],
   "source": [
    "# open C40 cities & Merge\n",
    "ids_fn = DATA_PATH+'interim/ghs-c40.csv'\n",
    "ids_df = pd.read_csv(ids_fn)#.drop('Unnamed: 0')\n",
    "\n",
    "q95_df = q95_df.merge(ids_df, on = 'ID_HDC_G0', how = 'inner')\n",
    "q95_df = q95_df.drop(columns = 'Unnamed: 0')"
   ]
  },
  {
   "cell_type": "markdown",
   "metadata": {},
   "source": [
    "## Days Per Year > 95%"
   ]
  },
  {
   "cell_type": "code",
   "execution_count": 189,
   "metadata": {},
   "outputs": [],
   "source": [
    "def q95_search(zip_id_list): \n",
    "    \"\"\" Searches through HI max data for specific cities based on ID_HDC_G0 values\n",
    "    Args:\n",
    "        zip_id_list = ID_HDC_G0 & q96 zipped into a list\n",
    "    \"\"\"\n",
    "    \n",
    "    year_list = []\n",
    "    q95_list = []\n",
    "    days_list = []\n",
    "    id_list =[]\n",
    "    \n",
    "    # Dirs and fns\n",
    "    DATA_PATH = '/home/cascade/projects/UrbanHeat/data/'\n",
    "    OUT_PATH = DATA_PATH+'interim/C40_HI/subset/'\n",
    "    \n",
    "    # Get files\n",
    "    fn_list = glob(DATA_PATH+'interim/C40_HI/subset/*.csv')\n",
    "\n",
    "    for zip_id in zip_id_list:\n",
    "        for fn in fn_list:\n",
    "\n",
    "            # get year\n",
    "            year = fn.split('C40_HI_')[1].split('.csv')[0]\n",
    "\n",
    "            # open & subset\n",
    "            df = pd.read_csv(fn)\n",
    "            df = df[df['ID_HDC_G0'] == zip_id[0]]\n",
    "\n",
    "            # number of days per year > q95\n",
    "            arr = df.iloc[:,3:].to_numpy();\n",
    "            days = len(arr[arr > zip_id[1]])\n",
    "           \n",
    "            # append lists\n",
    "            id_list.append(zip_id[0])\n",
    "            q95_list.append(zip_id[1])\n",
    "            year_list.append(year)\n",
    "            days_list.append(days)\n",
    "    \n",
    "    # create df for return \n",
    "    df_out = pd.DataFrame()\n",
    "    df_out['ID_HDC_G0'] = id_list\n",
    "    df_out['q95'] = q95_list\n",
    "    df_out['year'] = year_list\n",
    "    df_out['q95_days'] = days_list\n",
    "    \n",
    "    return df_out\n",
    "\n",
    "\n",
    "#     # open C40 cities\n",
    "#     ids_fn = DATA_PATH+'interim/ghs-c40.csv'\n",
    "#     ids_df = pd.read_csv(ids_fn)\n",
    "    \n",
    "#     # ids\n",
    "#     ids = list(ids_df['ID_HDC_G0'])\n",
    "    \n",
    "#     # open df\n",
    "#     df = pd.read_csv(fn)\n",
    "    \n",
    "#     # match\n",
    "#     df_out = df.loc[df['ID_HDC_G0'].isin(ids)]\n",
    "    \n",
    "#     #print\n",
    "#     print(year,ids_df.shape,df_out.shape)\n",
    "    \n",
    "#     # write out\n",
    "#     out_fn = OUT_PATH+'C40_HI_'+year+'.csv'\n",
    "#     df_out.to_csv(out_fn, index = False)"
   ]
  },
  {
   "cell_type": "code",
   "execution_count": 190,
   "metadata": {},
   "outputs": [],
   "source": [
    "q95_list = list(zip(list(q95_df['ID_HDC_G0']),list(q95_df['q95'])))"
   ]
  },
  {
   "cell_type": "code",
   "execution_count": 191,
   "metadata": {},
   "outputs": [],
   "source": [
    "df_days = q95_search(q95_list)"
   ]
  },
  {
   "cell_type": "code",
   "execution_count": 197,
   "metadata": {},
   "outputs": [
    {
     "data": {
      "image/png": "[encoded data removed]",
      "text/plain": [
       "<Figure size 432x288 with 1 Axes>"
      ]
     },
     "metadata": {
      "needs_background": "light"
     },
     "output_type": "display_data"
    }
   ],
   "source": [
    "ids_list = list(ids_df['ID_HDC_G0'])\n",
    "\n",
    "for ids in ids100:\n",
    "    data = df_days[df_days['ID_HDC_G0'] == ids]\n",
    "    \n",
    "    x = data['year']\n",
    "    y = data['q95_days']\n",
    "    plt.plot(x,y, alpha = 0.05, color = 'blue')"
   ]
  },
  {
   "cell_type": "code",
   "execution_count": 246,
   "metadata": {
    "scrolled": false
   },
   "outputs": [],
   "source": [
    "merge = ids_df.drop(columns = ['Unnamed: 0','UC_NM_MN'])\n",
    "df_days = df_days.merge(merge, on = 'ID_HDC_G0', how = 'left')"
   ]
  },
  {
   "cell_type": "code",
   "execution_count": 247,
   "metadata": {},
   "outputs": [],
   "source": [
    "df_days['year'] = df_days['year'].astype('int')"
   ]
  },
  {
   "cell_type": "code",
   "execution_count": 248,
   "metadata": {},
   "outputs": [
    {
     "data": {
      "text/html": [
       "<div>\n",
       "<style scoped>\n",
       "    .dataframe tbody tr th:only-of-type {\n",
       "        vertical-align: middle;\n",
       "    }\n",
       "\n",
       "    .dataframe tbody tr th {\n",
       "        vertical-align: top;\n",
       "    }\n",
       "\n",
       "    .dataframe thead th {\n",
       "        text-align: right;\n",
       "    }\n",
       "</style>\n",
       "<table border=\"1\" class=\"dataframe\">\n",
       "  <thead>\n",
       "    <tr style=\"text-align: right;\">\n",
       "      <th></th>\n",
       "      <th>ID_HDC_G0</th>\n",
       "      <th>q95</th>\n",
       "      <th>year</th>\n",
       "      <th>q95_days</th>\n",
       "      <th>city_nm</th>\n",
       "      <th>CTR_MN_NM</th>\n",
       "      <th>GCPNT_LAT</th>\n",
       "      <th>GCPNT_LON</th>\n",
       "      <th>region</th>\n",
       "      <th>sub-region</th>\n",
       "      <th>intermediate-region</th>\n",
       "    </tr>\n",
       "  </thead>\n",
       "  <tbody>\n",
       "    <tr>\n",
       "      <td>0</td>\n",
       "      <td>2493</td>\n",
       "      <td>23.741513</td>\n",
       "      <td>2010</td>\n",
       "      <td>6</td>\n",
       "      <td>Oslo</td>\n",
       "      <td>Norway</td>\n",
       "      <td>59.908232</td>\n",
       "      <td>10.743248</td>\n",
       "      <td>Europe</td>\n",
       "      <td>Northern Europe</td>\n",
       "      <td>Northern Europe</td>\n",
       "    </tr>\n",
       "    <tr>\n",
       "      <td>1</td>\n",
       "      <td>2493</td>\n",
       "      <td>23.741513</td>\n",
       "      <td>1989</td>\n",
       "      <td>21</td>\n",
       "      <td>Oslo</td>\n",
       "      <td>Norway</td>\n",
       "      <td>59.908232</td>\n",
       "      <td>10.743248</td>\n",
       "      <td>Europe</td>\n",
       "      <td>Northern Europe</td>\n",
       "      <td>Northern Europe</td>\n",
       "    </tr>\n",
       "    <tr>\n",
       "      <td>2</td>\n",
       "      <td>2493</td>\n",
       "      <td>23.741513</td>\n",
       "      <td>1987</td>\n",
       "      <td>5</td>\n",
       "      <td>Oslo</td>\n",
       "      <td>Norway</td>\n",
       "      <td>59.908232</td>\n",
       "      <td>10.743248</td>\n",
       "      <td>Europe</td>\n",
       "      <td>Northern Europe</td>\n",
       "      <td>Northern Europe</td>\n",
       "    </tr>\n",
       "    <tr>\n",
       "      <td>3</td>\n",
       "      <td>2493</td>\n",
       "      <td>23.741513</td>\n",
       "      <td>1991</td>\n",
       "      <td>17</td>\n",
       "      <td>Oslo</td>\n",
       "      <td>Norway</td>\n",
       "      <td>59.908232</td>\n",
       "      <td>10.743248</td>\n",
       "      <td>Europe</td>\n",
       "      <td>Northern Europe</td>\n",
       "      <td>Northern Europe</td>\n",
       "    </tr>\n",
       "    <tr>\n",
       "      <td>4</td>\n",
       "      <td>2493</td>\n",
       "      <td>23.741513</td>\n",
       "      <td>1996</td>\n",
       "      <td>19</td>\n",
       "      <td>Oslo</td>\n",
       "      <td>Norway</td>\n",
       "      <td>59.908232</td>\n",
       "      <td>10.743248</td>\n",
       "      <td>Europe</td>\n",
       "      <td>Northern Europe</td>\n",
       "      <td>Northern Europe</td>\n",
       "    </tr>\n",
       "    <tr>\n",
       "      <td>...</td>\n",
       "      <td>...</td>\n",
       "      <td>...</td>\n",
       "      <td>...</td>\n",
       "      <td>...</td>\n",
       "      <td>...</td>\n",
       "      <td>...</td>\n",
       "      <td>...</td>\n",
       "      <td>...</td>\n",
       "      <td>...</td>\n",
       "      <td>...</td>\n",
       "      <td>...</td>\n",
       "    </tr>\n",
       "    <tr>\n",
       "      <td>1967</td>\n",
       "      <td>13023</td>\n",
       "      <td>33.655288</td>\n",
       "      <td>2002</td>\n",
       "      <td>21</td>\n",
       "      <td>Melbourne</td>\n",
       "      <td>Australia</td>\n",
       "      <td>-37.855562</td>\n",
       "      <td>145.074705</td>\n",
       "      <td>Oceania</td>\n",
       "      <td>Australia and New Zealand</td>\n",
       "      <td>Australia and New Zealand</td>\n",
       "    </tr>\n",
       "    <tr>\n",
       "      <td>1968</td>\n",
       "      <td>13023</td>\n",
       "      <td>33.655288</td>\n",
       "      <td>2013</td>\n",
       "      <td>30</td>\n",
       "      <td>Melbourne</td>\n",
       "      <td>Australia</td>\n",
       "      <td>-37.855562</td>\n",
       "      <td>145.074705</td>\n",
       "      <td>Oceania</td>\n",
       "      <td>Australia and New Zealand</td>\n",
       "      <td>Australia and New Zealand</td>\n",
       "    </tr>\n",
       "    <tr>\n",
       "      <td>1969</td>\n",
       "      <td>13023</td>\n",
       "      <td>33.655288</td>\n",
       "      <td>2014</td>\n",
       "      <td>21</td>\n",
       "      <td>Melbourne</td>\n",
       "      <td>Australia</td>\n",
       "      <td>-37.855562</td>\n",
       "      <td>145.074705</td>\n",
       "      <td>Oceania</td>\n",
       "      <td>Australia and New Zealand</td>\n",
       "      <td>Australia and New Zealand</td>\n",
       "    </tr>\n",
       "    <tr>\n",
       "      <td>1970</td>\n",
       "      <td>13023</td>\n",
       "      <td>33.655288</td>\n",
       "      <td>1983</td>\n",
       "      <td>21</td>\n",
       "      <td>Melbourne</td>\n",
       "      <td>Australia</td>\n",
       "      <td>-37.855562</td>\n",
       "      <td>145.074705</td>\n",
       "      <td>Oceania</td>\n",
       "      <td>Australia and New Zealand</td>\n",
       "      <td>Australia and New Zealand</td>\n",
       "    </tr>\n",
       "    <tr>\n",
       "      <td>1971</td>\n",
       "      <td>13023</td>\n",
       "      <td>33.655288</td>\n",
       "      <td>1984</td>\n",
       "      <td>7</td>\n",
       "      <td>Melbourne</td>\n",
       "      <td>Australia</td>\n",
       "      <td>-37.855562</td>\n",
       "      <td>145.074705</td>\n",
       "      <td>Oceania</td>\n",
       "      <td>Australia and New Zealand</td>\n",
       "      <td>Australia and New Zealand</td>\n",
       "    </tr>\n",
       "  </tbody>\n",
       "</table>\n",
       "<p>1972 rows × 11 columns</p>\n",
       "</div>"
      ],
      "text/plain": [
       "      ID_HDC_G0        q95  year  q95_days    city_nm  CTR_MN_NM  GCPNT_LAT  \\\n",
       "0          2493  23.741513  2010         6       Oslo     Norway  59.908232   \n",
       "1          2493  23.741513  1989        21       Oslo     Norway  59.908232   \n",
       "2          2493  23.741513  1987         5       Oslo     Norway  59.908232   \n",
       "3          2493  23.741513  1991        17       Oslo     Norway  59.908232   \n",
       "4          2493  23.741513  1996        19       Oslo     Norway  59.908232   \n",
       "...         ...        ...   ...       ...        ...        ...        ...   \n",
       "1967      13023  33.655288  2002        21  Melbourne  Australia -37.855562   \n",
       "1968      13023  33.655288  2013        30  Melbourne  Australia -37.855562   \n",
       "1969      13023  33.655288  2014        21  Melbourne  Australia -37.855562   \n",
       "1970      13023  33.655288  1983        21  Melbourne  Australia -37.855562   \n",
       "1971      13023  33.655288  1984         7  Melbourne  Australia -37.855562   \n",
       "\n",
       "       GCPNT_LON   region                 sub-region  \\\n",
       "0      10.743248   Europe            Northern Europe   \n",
       "1      10.743248   Europe            Northern Europe   \n",
       "2      10.743248   Europe            Northern Europe   \n",
       "3      10.743248   Europe            Northern Europe   \n",
       "4      10.743248   Europe            Northern Europe   \n",
       "...          ...      ...                        ...   \n",
       "1967  145.074705  Oceania  Australia and New Zealand   \n",
       "1968  145.074705  Oceania  Australia and New Zealand   \n",
       "1969  145.074705  Oceania  Australia and New Zealand   \n",
       "1970  145.074705  Oceania  Australia and New Zealand   \n",
       "1971  145.074705  Oceania  Australia and New Zealand   \n",
       "\n",
       "            intermediate-region  \n",
       "0               Northern Europe  \n",
       "1               Northern Europe  \n",
       "2               Northern Europe  \n",
       "3               Northern Europe  \n",
       "4               Northern Europe  \n",
       "...                         ...  \n",
       "1967  Australia and New Zealand  \n",
       "1968  Australia and New Zealand  \n",
       "1969  Australia and New Zealand  \n",
       "1970  Australia and New Zealand  \n",
       "1971  Australia and New Zealand  \n",
       "\n",
       "[1972 rows x 11 columns]"
      ]
     },
     "execution_count": 248,
     "metadata": {},
     "output_type": "execute_result"
    }
   ],
   "source": [
    "df_days"
   ]
  },
  {
   "cell_type": "markdown",
   "metadata": {},
   "source": [
    "## Get population"
   ]
  },
  {
   "cell_type": "code",
   "execution_count": 224,
   "metadata": {},
   "outputs": [],
   "source": [
    "pop_fn = DATA_PATH+'interim/GHS-UCDB-Interp.csv'\n",
    "pop = pd.read_csv(pop_fn)"
   ]
  },
  {
   "cell_type": "code",
   "execution_count": 225,
   "metadata": {},
   "outputs": [],
   "source": [
    "ids_list = list(ids_df['ID_HDC_G0'])"
   ]
  },
  {
   "cell_type": "code",
   "execution_count": 226,
   "metadata": {},
   "outputs": [],
   "source": [
    "# match\n",
    "pop = pop.loc[pop['ID_HDC_G0'].isin(ids_list)]\n",
    "pop = pop.drop(columns = 'Unnamed: 0')"
   ]
  },
  {
   "cell_type": "code",
   "execution_count": 227,
   "metadata": {},
   "outputs": [],
   "source": [
    "# go from wide to long and fix columns\n",
    "pop = pd.wide_to_long(pop, [\"P\"], i=\"ID_HDC_G0\", j=\"year\")\n",
    "pop.rename({'P' : 'Pop'}, axis = 1, inplace = True)\n",
    "pop = pop.reset_index()"
   ]
  },
  {
   "cell_type": "code",
   "execution_count": 249,
   "metadata": {
    "scrolled": false
   },
   "outputs": [],
   "source": [
    "df_final = pd.merge(df_days, pop,  how='left', on=['ID_HDC_G0','year'])"
   ]
  },
  {
   "cell_type": "code",
   "execution_count": 251,
   "metadata": {
    "scrolled": false
   },
   "outputs": [],
   "source": [
    "fn_out = DATA_PATH+'interim/C40_HI/C40_q95_HeatExposure.csv'\n",
    "df_final.to_csv(fn_out)"
   ]
  },
  {
   "cell_type": "code",
   "execution_count": 252,
   "metadata": {},
   "outputs": [
    {
     "name": "stdout",
     "output_type": "stream",
     "text": [
      "ID_HDC_G0\n",
      "q95\n",
      "year\n",
      "q95_days\n",
      "city_nm\n",
      "CTR_MN_NM\n",
      "GCPNT_LAT\n",
      "GCPNT_LON\n",
      "region\n",
      "sub-region\n",
      "intermediate-region\n",
      "Pop\n"
     ]
    }
   ],
   "source": [
    "for col in df_final.columns:\n",
    "    print(col)"
   ]
  },
  {
   "cell_type": "markdown",
   "metadata": {},
   "source": [
    "## Plot"
   ]
  },
  {
   "cell_type": "code",
   "execution_count": 292,
   "metadata": {},
   "outputs": [
    {
     "data": {
      "text/plain": [
       "Text(0.5, 0, 'Year')"
      ]
     },
     "execution_count": 292,
     "metadata": {},
     "output_type": "execute_result"
    },
    {
     "data": {
      "image/png": "[encoded data removed]",
      "text/plain": [
       "<Figure size 360x936 with 2 Axes>"
      ]
     },
     "metadata": {
      "needs_background": "light"
     },
     "output_type": "display_data"
    }
   ],
   "source": [
    "#### Make Figure & Save it\n",
    "\n",
    "\n",
    "fig, axs = plt.subplots(2, 1, figsize = (5, 13), sharex=True)\n",
    "ws = 0.25\n",
    "fig.subplots_adjust(wspace=ws)\n",
    "\n",
    "# plot\n",
    "name = 'Jakarta'\n",
    "data = df_final[df_final['city_nm'] == name].sort_values('year')\n",
    "\n",
    "axs[0].plot(data['year'],data['q95_days'],  linestyle = ':')\n",
    "axs[0].scatter(data['year'],data['q95_days'],  linestyle = ':')\n",
    "axs[0].set_title(name+' Days/yr HI > 95th Pct', fontsize = 15);\n",
    "axs[0].set_ylabel('Days per year ', fontsize = 13)\n",
    "axs[0].set_xlabel('Year', fontsize = 13)\n",
    "\n",
    "axs[1].plot(data['year'],np.log10(data['q95_days']*data['Pop']),  linestyle = ':', color = 'red')\n",
    "axs[1].scatter(data['year'],np.log10(data['q95_days']*data['Pop']),  linestyle = ':', color = 'red')\n",
    "axs[1].set_title(name+' -  Days/yr HI > 95th Pct', fontsize = 15);\n",
    "axs[1].set_ylabel('Person-Days [log10] ', fontsize = 13)\n",
    "axs[1].set_xlabel('Year', fontsize = 13)"
   ]
  }
 ],
 "metadata": {
  "kernelspec": {
   "display_name": "geo",
   "language": "python",
   "name": "geo"
  },
  "language_info": {
   "codemirror_mode": {
    "name": "ipython",
    "version": 3
   },
   "file_extension": ".py",
   "mimetype": "text/x-python",
   "name": "python",
   "nbconvert_exporter": "python",
   "pygments_lexer": "ipython3",
   "version": "3.6.7"
  }
 },
 "nbformat": 4,
 "nbformat_minor": 4
}
