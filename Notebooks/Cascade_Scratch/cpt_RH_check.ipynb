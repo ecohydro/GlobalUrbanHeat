{
 "cells": [
  {
   "cell_type": "markdown",
   "metadata": {},
   "source": [
    "# RH Check\n",
    "Cascade Tuholske 2020.08.27 <br>\n",
    "Note book to get RH data for Chris from MERRA2 and ERA5"
   ]
  },
  {
   "cell_type": "code",
   "execution_count": 9,
   "metadata": {},
   "outputs": [],
   "source": [
    "import pandas as pd\n",
    "import numpy as np\n",
    "import geopandas as gpd"
   ]
  },
  {
   "cell_type": "code",
   "execution_count": 2,
   "metadata": {},
   "outputs": [],
   "source": [
    "DATA_IN = '/home/cascade/projects/UrbanHeat/data/'"
   ]
  },
  {
   "cell_type": "code",
   "execution_count": 11,
   "metadata": {},
   "outputs": [],
   "source": [
    "GHS = gpd.read_file('/home/cascade/tana-crunch-cascade/projects/UrbanHeat/data/raw/GHS_UCDB/GHS_STAT_UCDB2015MT_GLOBE_R2019A_V1_0.shp')"
   ]
  },
  {
   "cell_type": "code",
   "execution_count": 20,
   "metadata": {},
   "outputs": [],
   "source": [
    "RH_MERRA2_FN = 'interim/ERA5-MERRA2-RH/ERA5_RH/GHS-ERA5-RH_1983.csv'\n",
    "RH_MERRA2 = pd.read_csv(DATA_IN+RH_MERRA2_FN)\n",
    "\n",
    "RH_ERA5_FN = 'interim/ERA5_RH/GHS-ERA5-RH_1983.csv'\n",
    "RH_ERA5 = pd.read_csv(DATA_IN+RH_ERA5_FN)\n",
    "\n",
    "TMAX_FN = 'interim/ERA5_Tmax/GHS-ERA5-Tmax_1983.csv'\n",
    "TMAX_ERA5 = pd.read_csv(DATA_IN+TMAX_FN)\n",
    "\n"
   ]
  },
  {
   "cell_type": "code",
   "execution_count": 17,
   "metadata": {},
   "outputs": [],
   "source": []
  },
  {
   "cell_type": "code",
   "execution_count": 21,
   "metadata": {},
   "outputs": [],
   "source": [
    "city = 9691 #Kolkata\n",
    "\n",
    "M = RH_MERRA2[RH_MERRA2['ID_HDC_G0']== city] \n",
    "E = RH_ERA5[RH_ERA5['ID_HDC_G0']== city] \n",
    "T = TMAX_ERA5[TMAX_ERA5['ID_HDC_G0']== city] "
   ]
  },
  {
   "cell_type": "code",
   "execution_count": 23,
   "metadata": {},
   "outputs": [],
   "source": [
    "OUT = pd.concat([M,E,T],ignore_index=True)"
   ]
  },
  {
   "cell_type": "code",
   "execution_count": 26,
   "metadata": {
    "scrolled": true
   },
   "outputs": [],
   "source": [
    "OUT.rename(columns={'Unnamed: 0':'DATA'}, inplace=True)\n",
    "OUT['DATA'] = ['MERRA-2 RH', 'ERA-5 RH', 'CHIRTS TMAX']"
   ]
  },
  {
   "cell_type": "code",
   "execution_count": 32,
   "metadata": {},
   "outputs": [],
   "source": [
    "OUT.insert(2, column = 'city_nm', value = ['Kolkata', 'Kolkata','Kolkata'], allow_duplicates=False)"
   ]
  },
  {
   "cell_type": "code",
   "execution_count": 34,
   "metadata": {},
   "outputs": [],
   "source": [
    "OUT.to_csv('Kolkata1983.csv')"
   ]
  },
  {
   "cell_type": "code",
   "execution_count": 12,
   "metadata": {},
   "outputs": [
    {
     "name": "stdout",
     "output_type": "stream",
     "text": [
      "ID_HDC_G0\n",
      "QA2_1V\n",
      "AREA\n",
      "BBX_LATMN\n",
      "BBX_LONMN\n",
      "BBX_LATMX\n",
      "BBX_LONMX\n",
      "GCPNT_LAT\n",
      "GCPNT_LON\n",
      "CTR_MN_NM\n",
      "CTR_MN_ISO\n",
      "XBRDR\n",
      "XCTR_NBR\n",
      "XC_NM_LST\n",
      "XC_ISO_LST\n",
      "GRGN_L1\n",
      "GRGN_L2\n",
      "UC_NM_MN\n",
      "UC_NM_LST\n",
      "UC_NM_SRC\n",
      "H75_NBR\n",
      "H90_NBR\n",
      "H00_NBR\n",
      "H75_AREA\n",
      "H90_AREA\n",
      "H00_AREA\n",
      "E_BM_NM_LS\n",
      "E_SL_LST\n",
      "EL_AV_ALS\n",
      "E_KG_NM_LS\n",
      "E_RB_NM_LS\n",
      "E_WR_P_90\n",
      "E_WR_P_00\n",
      "E_WR_P_14\n",
      "E_WR_T_90\n",
      "E_WR_T_00\n",
      "E_WR_T_14\n",
      "B75\n",
      "B90\n",
      "B00\n",
      "B15\n",
      "P75\n",
      "P90\n",
      "P00\n",
      "P15\n",
      "BUCAP75\n",
      "BUCAP90\n",
      "BUCAP00\n",
      "BUCAP15\n",
      "NTL_AV\n",
      "GDP90_SM\n",
      "GDP00_SM\n",
      "GDP15_SM\n",
      "INCM_CMI\n",
      "DEV_CMI\n",
      "TT2CC\n",
      "E_GR_AV90\n",
      "E_GR_AV00\n",
      "E_GR_AV14\n",
      "E_GR_AH90\n",
      "E_GR_AM90\n",
      "E_GR_AL90\n",
      "E_GR_AT90\n",
      "E_GR_AH00\n",
      "E_GR_AM00\n",
      "E_GR_AL00\n",
      "E_GR_AT00\n",
      "E_GR_AH14\n",
      "E_GR_AM14\n",
      "E_GR_AL14\n",
      "E_GR_AT14\n",
      "E_EC2E_E75\n",
      "E_EC2E_E90\n",
      "E_EC2E_E00\n",
      "E_EC2E_E12\n",
      "E_EC2E_R75\n",
      "E_EC2E_R90\n",
      "E_EC2E_R00\n",
      "E_EC2E_R12\n",
      "E_EC2E_I75\n",
      "E_EC2E_I90\n",
      "E_EC2E_I00\n",
      "E_EC2E_I12\n",
      "E_EC2E_T75\n",
      "E_EC2E_T90\n",
      "E_EC2E_T00\n",
      "E_EC2E_T12\n",
      "E_EC2E_A75\n",
      "E_EC2E_A90\n",
      "E_EC2E_A00\n",
      "E_EC2E_A12\n",
      "E_EC2O_E75\n",
      "E_EC2O_E90\n",
      "E_EC2O_E00\n",
      "E_EC2O_E12\n",
      "E_EC2O_R75\n",
      "E_EC2O_R90\n",
      "E_EC2O_R00\n",
      "E_EC2O_R12\n",
      "E_EC2O_I75\n",
      "E_EC2O_I90\n",
      "E_EC2O_I00\n",
      "E_EC2O_I12\n",
      "E_EC2O_T75\n",
      "E_EC2O_T90\n",
      "E_EC2O_T00\n",
      "E_EC2O_T12\n",
      "E_EC2O_A75\n",
      "E_EC2O_A90\n",
      "E_EC2O_A00\n",
      "E_EC2O_A12\n",
      "E_EPM2_E75\n",
      "E_EPM2_E90\n",
      "E_EPM2_E00\n",
      "E_EPM2_E12\n",
      "E_EPM2_R75\n",
      "E_EPM2_R90\n",
      "E_EPM2_R00\n",
      "E_EPM2_R12\n",
      "E_EPM2_I75\n",
      "E_EPM2_I90\n",
      "E_EPM2_I00\n",
      "E_EPM2_I12\n",
      "E_EPM2_T75\n",
      "E_EPM2_T90\n",
      "E_EPM2_T00\n",
      "E_EPM2_T12\n",
      "E_EPM2_A75\n",
      "E_EPM2_A90\n",
      "E_EPM2_A00\n",
      "E_EPM2_A12\n",
      "E_CPM2_T00\n",
      "E_CPM2_T05\n",
      "E_CPM2_T10\n",
      "E_CPM2_T14\n",
      "EX_FD_AREA\n",
      "EX_FD_B75\n",
      "EX_FD_B90\n",
      "EX_FD_B00\n",
      "EX_FD_B15\n",
      "EX_FD_P75\n",
      "EX_FD_P90\n",
      "EX_FD_P00\n",
      "EX_FD_P15\n",
      "EX_SS_AREA\n",
      "EX_SS_B75\n",
      "EX_SS_B90\n",
      "EX_SS_B00\n",
      "EX_SS_B15\n",
      "EX_SS_P75\n",
      "EX_SS_P90\n",
      "EX_SS_P00\n",
      "EX_SS_P15\n",
      "EX_EQ19PGA\n",
      "EX_EQ19MMI\n",
      "EX_EQ19_Q\n",
      "EX_HW_IDX\n",
      "SDG_LUE901\n",
      "SDG_A2G14\n",
      "SDG_OS15MX\n",
      "geometry\n"
     ]
    }
   ],
   "source": [
    "for column in GHS.columns:\n",
    "    print(column)"
   ]
  }
 ],
 "metadata": {
  "kernelspec": {
   "display_name": "geo",
   "language": "python",
   "name": "geo"
  },
  "language_info": {
   "codemirror_mode": {
    "name": "ipython",
    "version": 3
   },
   "file_extension": ".py",
   "mimetype": "text/x-python",
   "name": "python",
   "nbconvert_exporter": "python",
   "pygments_lexer": "ipython3",
   "version": "3.6.7"
  }
 },
 "nbformat": 4,
 "nbformat_minor": 2
}
