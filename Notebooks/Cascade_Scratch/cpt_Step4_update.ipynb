{
 "cells": [
  {
   "cell_type": "markdown",
   "metadata": {},
   "source": [
    "# Step 4 update\n",
    "Notebook to update step 4 of the work flow so it's clearner and faster"
   ]
  },
  {
   "cell_type": "code",
   "execution_count": 29,
   "metadata": {},
   "outputs": [],
   "source": [
    "import pandas as pd\n",
    "import numpy as np\n",
    "import xarray as xr\n",
    "from random import random\n",
    "from itertools import groupby\n",
    "from operator import itemgetter\n",
    "import geopandas as gpd \n",
    "import glob\n",
    "from statistics import mean\n",
    "import julian\n",
    "import time \n",
    "import multiprocessing as mp \n",
    "from multiprocessing import Pool\n",
    "import os"
   ]
  },
  {
   "cell_type": "code",
   "execution_count": 7,
   "metadata": {},
   "outputs": [],
   "source": [
    "## Arges Needed \n",
    "DATA_IN = '/home/cascade/projects/UrbanHeat/data/interim/CHIRTS_DAILY/HI/' # output from avg temp\n",
    "DATA_OUT = '/home/cascade/projects/UrbanHeat/data/interim/CHIRTS_DAILY/STATS/'\n",
    "dir_path = DATA_IN \n",
    "space_dim = 'ID_HDC_G0'\n",
    "time_dim = 'date'\n",
    "Tthresh = 40.6\n",
    "fn_out = DATA_OUT+'STATS_1DAY406.json'"
   ]
  },
  {
   "cell_type": "markdown",
   "metadata": {},
   "source": [
    "## Step 1"
   ]
  },
  {
   "cell_type": "code",
   "execution_count": 8,
   "metadata": {},
   "outputs": [],
   "source": [
    "#### Step 1 - Function Loads all HImax Data as an X-array\n",
    "def read_data(dir_path, space_dim, time_dim):\n",
    "    \"\"\" Function reads in all HImax .csv files, joins them by date along the x-axis\n",
    "    and returns the whole record as a x-array data array\n",
    "    \n",
    "    Args:   \n",
    "        dir_path = path to .csv files \n",
    "        time_dim = name for time dim as a str ... use date :-)\n",
    "        space_dim = col name for GHS-UCDB IDs as an str (ID_HDC_G0)\n",
    "    \"\"\"\n",
    "    fn_list = sorted(glob.glob(dir_path+'*.csv'))\n",
    "    df_out = pd.DataFrame()\n",
    "    date_list = []\n",
    "\n",
    "    # Open all HImax files and concat into a df\n",
    "    for i, fn in enumerate(fn_list):    \n",
    "        # Open the CSV\n",
    "        df = pd.read_csv(fn)\n",
    "\n",
    "        # Get the city ids \n",
    "        if i == 1:\n",
    "            df_id = df[space_dim]\n",
    "\n",
    "        # get only the HImax columns and concate date list \n",
    "        df_temp = df.iloc[:,3:] # get only temp columns\n",
    "        date_list = date_list+list(df_temp.columns)\n",
    "\n",
    "        # Drop cities w/ no temp record \n",
    "        df_temp_drop = df_temp.dropna()\n",
    "\n",
    "        # Merge\n",
    "        df_out = pd.concat([df_out, df_temp_drop], axis=1)\n",
    "        print(df_out.shape)\n",
    "    \n",
    "    # make date into an array\n",
    "    HImax_arr = df_out.to_numpy()\n",
    "\n",
    "    # Make data into an xr.DataArray\n",
    "    HImax_xr_da = xr.DataArray(HImax_arr, coords=[df_id, date_list], \n",
    "                             dims=[space_dim, time_dim])\n",
    "    return HImax_xr_da"
   ]
  },
  {
   "cell_type": "code",
   "execution_count": 9,
   "metadata": {},
   "outputs": [
    {
     "name": "stdout",
     "output_type": "stream",
     "text": [
      "(13067, 365)\n",
      "(13067, 731)\n",
      "(13067, 1096)\n",
      "(13067, 1461)\n",
      "(13067, 1826)\n",
      "(13067, 2192)\n",
      "(13067, 2557)\n",
      "(13067, 2922)\n",
      "(13067, 3287)\n",
      "(13067, 3653)\n",
      "(13067, 4018)\n",
      "(13067, 4383)\n",
      "(13067, 4748)\n",
      "(13067, 5114)\n",
      "(13067, 5479)\n",
      "(13067, 5844)\n",
      "(13067, 6209)\n",
      "(13067, 6575)\n",
      "(13067, 6940)\n",
      "(13067, 7305)\n",
      "(13067, 7670)\n",
      "(13067, 8036)\n",
      "(13067, 8401)\n",
      "(13067, 8766)\n",
      "(13067, 9131)\n",
      "(13067, 9497)\n",
      "(13067, 9862)\n",
      "(13067, 10227)\n",
      "(13067, 10592)\n",
      "(13067, 10958)\n",
      "(13067, 11323)\n",
      "(13067, 11688)\n",
      "(13067, 12053)\n",
      "(13067, 12419)\n"
     ]
    }
   ],
   "source": [
    "HImax_xr_da = read_data(dir_path, space_dim, time_dim)"
   ]
  },
  {
   "cell_type": "code",
   "execution_count": 10,
   "metadata": {},
   "outputs": [
    {
     "data": {
      "text/plain": [
       "<xarray.DataArray (ID_HDC_G0: 13067, date: 12419)>\n",
       "array([[-49.590861, -38.042995, -36.750948, ..., -15.519086, -16.618087,\n",
       "        -31.55629 ],\n",
       "       [ -4.088565,  -2.252119,  -6.184317, ...,  -2.852921,  -2.796071,\n",
       "         -2.456939],\n",
       "       [-38.693309, -23.243517, -13.361891, ...,  -2.426149, -20.636527,\n",
       "        -33.891277],\n",
       "       ...,\n",
       "       [ 15.595635,  16.668566,  23.193257, ...,  13.770282,  13.633869,\n",
       "         16.228866],\n",
       "       [ 16.370013,  16.564513,  16.169268, ...,  12.788926,  14.696112,\n",
       "         12.831937],\n",
       "       [ 16.383207,  16.337978,  20.977421, ...,   9.744847,  12.727527,\n",
       "         13.662151]])\n",
       "Coordinates:\n",
       "  * ID_HDC_G0  (ID_HDC_G0) int64 5782 3316 5645 3185 ... 1116 1114 1161 1169\n",
       "  * date       (date) <U10 '1983.01.01' '1983.01.02' ... '2016.12.31'"
      ]
     },
     "execution_count": 10,
     "metadata": {},
     "output_type": "execute_result"
    }
   ],
   "source": [
    "HImax_xr_da"
   ]
  },
  {
   "cell_type": "markdown",
   "metadata": {},
   "source": [
    "## Step 2"
   ]
  },
  {
   "cell_type": "code",
   "execution_count": 11,
   "metadata": {},
   "outputs": [],
   "source": [
    "#### Step 2 Function finds all the Tmax Events and writes it to a dateframe w/ dates for each city\n",
    "def tmax_days(xarray, Tthresh):\n",
    "    \"\"\" Function finds all the tmax days in a year and sums total days per year \n",
    "    greater than a threshold within a year where Tmax > Tthresh for each city. Returns the total number of days,\n",
    "    the dates, the tempatures, and the intensity (daily Tmax - Tthresh)\n",
    "    \n",
    "    Args: \n",
    "        xarray = an xarray object with dims = (space, times)\n",
    "        Tthresh = int of temp threshold\n",
    "    \"\"\"\n",
    "    \n",
    "    # empty lists & df\n",
    "    id_list = []\n",
    "    date_list = []\n",
    "    tmax_list = []\n",
    "    intensity_list = []\n",
    "    df_out = pd.DataFrame()\n",
    "    \n",
    "    # subset xarray\n",
    "    out = xarray.where(xarray > Tthresh, drop = True)\n",
    "\n",
    "    # start loop \n",
    "    for index, loc in enumerate(out.ID_HDC_G0):\n",
    "        id_list.append(out.ID_HDC_G0.values[index]) # get IDS\n",
    "        date_list.append(out.sel(ID_HDC_G0 = loc).dropna(dim = 'date').date.values) # get event dates\n",
    "        \n",
    "        # #CPT 2020.02.23 \n",
    "        # dayTot_list.append(len(out.sel(ID_HDC_G0 = loc).dropna(dim = 'date').date.values)) # get event totals\n",
    "        \n",
    "        tmax_list.append(out.sel(ID_HDC_G0 = loc).dropna(dim = 'date').values) # get temp values\n",
    "        intensity_list.append(out.sel(ID_HDC_G0 = loc).dropna(dim = 'date').values - Tthresh) # get severity\n",
    "\n",
    "    # write to a data frame\n",
    "    df_out['ID_HDC_G0'] = id_list\n",
    "    # df_out['total_days'] = dayTot_list #CPT 2020.02.23\n",
    "    df_out['dates'] = date_list\n",
    "    df_out['tmax'] = tmax_list\n",
    "    df_out['tmax_tntensity'] = intensity_list\n",
    "\n",
    "    # return df_out\n",
    "    return df_out"
   ]
  },
  {
   "cell_type": "code",
   "execution_count": 12,
   "metadata": {},
   "outputs": [],
   "source": [
    "df_out = tmax_days(HImax_xr_da, Tthresh)"
   ]
  },
  {
   "cell_type": "code",
   "execution_count": 14,
   "metadata": {},
   "outputs": [
    {
     "data": {
      "text/html": [
       "<div>\n",
       "<style scoped>\n",
       "    .dataframe tbody tr th:only-of-type {\n",
       "        vertical-align: middle;\n",
       "    }\n",
       "\n",
       "    .dataframe tbody tr th {\n",
       "        vertical-align: top;\n",
       "    }\n",
       "\n",
       "    .dataframe thead th {\n",
       "        text-align: right;\n",
       "    }\n",
       "</style>\n",
       "<table border=\"1\" class=\"dataframe\">\n",
       "  <thead>\n",
       "    <tr style=\"text-align: right;\">\n",
       "      <th></th>\n",
       "      <th>ID_HDC_G0</th>\n",
       "      <th>dates</th>\n",
       "      <th>tmax</th>\n",
       "      <th>tmax_tntensity</th>\n",
       "    </tr>\n",
       "  </thead>\n",
       "  <tbody>\n",
       "    <tr>\n",
       "      <td>0</td>\n",
       "      <td>3554</td>\n",
       "      <td>[2010.07.29]</td>\n",
       "      <td>[42.91095336309989]</td>\n",
       "      <td>[2.310953363099891]</td>\n",
       "    </tr>\n",
       "    <tr>\n",
       "      <td>1</td>\n",
       "      <td>3295</td>\n",
       "      <td>[2010.07.29]</td>\n",
       "      <td>[42.365039604142964]</td>\n",
       "      <td>[1.765039604142963]</td>\n",
       "    </tr>\n",
       "    <tr>\n",
       "      <td>2</td>\n",
       "      <td>3242</td>\n",
       "      <td>[2010.07.29]</td>\n",
       "      <td>[40.941567828562654]</td>\n",
       "      <td>[0.34156782856265266]</td>\n",
       "    </tr>\n",
       "    <tr>\n",
       "      <td>3</td>\n",
       "      <td>9075</td>\n",
       "      <td>[1988.07.22, 1988.07.23, 1988.07.24, 1988.07.2...</td>\n",
       "      <td>[42.60064411402778, 44.46700911035864, 44.7843...</td>\n",
       "      <td>[2.0006441140277786, 3.8670091103586373, 4.184...</td>\n",
       "    </tr>\n",
       "    <tr>\n",
       "      <td>4</td>\n",
       "      <td>4362</td>\n",
       "      <td>[1989.07.19, 1990.07.10, 1996.07.13, 2001.07.2...</td>\n",
       "      <td>[40.77021376234568, 42.44143213521773, 41.0918...</td>\n",
       "      <td>[0.17021376234568208, 1.8414321352177296, 0.49...</td>\n",
       "    </tr>\n",
       "  </tbody>\n",
       "</table>\n",
       "</div>"
      ],
      "text/plain": [
       "   ID_HDC_G0                                              dates  \\\n",
       "0       3554                                       [2010.07.29]   \n",
       "1       3295                                       [2010.07.29]   \n",
       "2       3242                                       [2010.07.29]   \n",
       "3       9075  [1988.07.22, 1988.07.23, 1988.07.24, 1988.07.2...   \n",
       "4       4362  [1989.07.19, 1990.07.10, 1996.07.13, 2001.07.2...   \n",
       "\n",
       "                                                tmax  \\\n",
       "0                                [42.91095336309989]   \n",
       "1                               [42.365039604142964]   \n",
       "2                               [40.941567828562654]   \n",
       "3  [42.60064411402778, 44.46700911035864, 44.7843...   \n",
       "4  [40.77021376234568, 42.44143213521773, 41.0918...   \n",
       "\n",
       "                                      tmax_tntensity  \n",
       "0                                [2.310953363099891]  \n",
       "1                                [1.765039604142963]  \n",
       "2                              [0.34156782856265266]  \n",
       "3  [2.0006441140277786, 3.8670091103586373, 4.184...  \n",
       "4  [0.17021376234568208, 1.8414321352177296, 0.49...  "
      ]
     },
     "execution_count": 14,
     "metadata": {},
     "output_type": "execute_result"
    }
   ],
   "source": [
    "df_out.head()"
   ]
  },
  {
   "cell_type": "markdown",
   "metadata": {},
   "source": [
    "## New: try chunking the DF"
   ]
  },
  {
   "cell_type": "code",
   "execution_count": 20,
   "metadata": {},
   "outputs": [],
   "source": [
    "cpu = 4\n",
    "n = int(len(df_out) / cpu) # number of CPU cores\n"
   ]
  },
  {
   "cell_type": "code",
   "execution_count": 22,
   "metadata": {},
   "outputs": [],
   "source": [
    "list_df = [df_out[i:i+n] for i in range(0,df_out.shape[0],n)]"
   ]
  },
  {
   "cell_type": "markdown",
   "metadata": {},
   "source": [
    "# Step 3"
   ]
  },
  {
   "cell_type": "code",
   "execution_count": 30,
   "metadata": {},
   "outputs": [],
   "source": [
    "#### Step 3 Function splits the dataset into Tmax events (continuous days >Tmax) for each city\n",
    "def jul_convert(dates):\n",
    "    \"Function turn days into julian datetime\"\n",
    "    jul_days = pd.to_datetime(dates).to_julian_date()\n",
    "    \n",
    "    return jul_days\n",
    "\n",
    "def event_split(dates, ID_HDC_G0, intensity, tmax): #, total_days): #CPT 2020.02.23\n",
    "    \n",
    "    \"\"\" Searchs a list of dates and isolates sequential dates as a list, then calculates event stats.\n",
    "    See comments in code for more details. \n",
    "    \n",
    "    Args:\n",
    "        dates: pandas.core.index as julian dates\n",
    "        ID_HDC_G0: city ID as string\n",
    "        intensity: numpy.ndarray of intensities values\n",
    "        tmax: numpy.ndarray of intensities values of tmax values\n",
    "        total_days: total number of tmax days in a year for a given city\n",
    "    \"\"\"\n",
    "\n",
    "    # city id\n",
    "    city_id = ID_HDC_G0\n",
    "    # tot_days = total_days #CPT 2020.02.23\n",
    "    \n",
    "    # lists to fill\n",
    "    city_id_list = []\n",
    "    # tot_days_list = [] #CPT 2020.02.23\n",
    "    event_dates_list = []\n",
    "    dur_list = []\n",
    "    intensity_list = []\n",
    "    tmax_list = []\n",
    "    avg_temp_list = []\n",
    "    avg_int_list = []\n",
    "    tot_int_list = []\n",
    "    year_list = []\n",
    "    \n",
    "    # data frame out\n",
    "    df_out = pd.DataFrame()\n",
    "    \n",
    "    # turn days into julian days\n",
    "    jul_days = jul_convert(dates)\n",
    "    \n",
    "    # Counters to make sure we write the correct event dates to a list, don't want julian days in output\n",
    "    counter = 0\n",
    "    start = 0\n",
    "    end = 0\n",
    "    \n",
    "    # Loop through dur list and isolate seq days, temps, and intensities\n",
    "    for k, g in groupby(enumerate(jul_days.values), lambda x: x[1]-x[0]):\n",
    "        \n",
    "        seq = list(map(itemgetter(1), g)) # isolate seq. days\n",
    "        dur = len(seq) # duration of each event\n",
    "        \n",
    "        counter = counter + dur # add duration to counter\n",
    "        end = counter # end of current event\n",
    "        \n",
    "        event_dates = dates[start:end] # dates of tmax days during each event\n",
    "        intense = intensity[start:end] # intensity of each day during event\n",
    "        temp = tmax[start:end] # temp of each day during event\n",
    "        avg_temp = mean(temp) # avg. temp during event\n",
    "        avg_int = mean(intense) # avg. intensity during event\n",
    "        tot_int = intense.sum() # total intensity during event\n",
    "        \n",
    "        start = counter # reset start to current end (e.g. counter)\n",
    "        year = event_dates[0].split('.')[0]\n",
    "        \n",
    "        # fill lists\n",
    "        city_id_list.append(city_id)\n",
    "        year_list.append(year)\n",
    "        # tot_days_list.append(tot_days) #CPT 2020.02.23\n",
    "        dur_list.append(dur)\n",
    "        event_dates_list.append(event_dates)\n",
    "        intensity_list.append(intense)\n",
    "        tmax_list.append(temp)\n",
    "        avg_temp_list.append(avg_temp)\n",
    "        avg_int_list.append(avg_int)\n",
    "        tot_int_list.append(tot_int)\n",
    "\n",
    "    # write out as a dateframe\n",
    "    df_out['ID_HDC_G0'] = city_id_list\n",
    "    df_out['year'] = year_list\n",
    "    # df_out['total_days'] = tot_days_list #CPT 2020.02.23\n",
    "    df_out['duration'] = dur_list\n",
    "    df_out['avg_temp'] = avg_temp_list\n",
    "    df_out['avg_intensity'] = avg_int_list\n",
    "    df_out['tot_intensity'] = tot_int_list\n",
    "    df_out['event_dates'] = event_dates_list\n",
    "    df_out['duration'] = dur_list\n",
    "    df_out['intensity'] = intensity_list\n",
    "    df_out['tmax'] = tmax_list\n",
    "\n",
    "    return df_out\n",
    "\n",
    "#### Step 4 function feeds output from function 3 into function 4\n",
    "def tmax_stats(df_in):\n",
    "    \"\"\" runs event_split functionon a dataframe to produce desired tmax stats\n",
    "        NOTE - If you add arguments to event_split to make more states,\n",
    "        be sure to update this function\n",
    "        args:\n",
    "            df: input dataframe\n",
    "    \"\"\"\n",
    "    df_out = pd.DataFrame()\n",
    "\n",
    "    # NOTE - If you add arguments to event_split to make more stats,\n",
    "    # be sure to update this function\n",
    "\n",
    "    for index, row in df_in.iterrows():\n",
    "        dates = row['dates'] # Get event dates\n",
    "        intensity = row['tmax_tntensity'] # Get intensity for each day\n",
    "        tmax = row['tmax'] # Get tmax for each day\n",
    "        ID_HDC_G0 = row['ID_HDC_G0'] # get city id\n",
    "        # total_days = row['total_days'] # get total number of tmax days -- CPT 2020.02.23\n",
    "\n",
    "        df = event_split(dates, ID_HDC_G0, intensity, tmax)# , total_days) #CPT 2020.02.23\n",
    "\n",
    "        df_out = df_out.append(df)\n",
    "    \n",
    "    #write df_out\n",
    "    df_out = \n",
    "    \n",
    "    #return df_out"
   ]
  },
  {
   "cell_type": "code",
   "execution_count": 39,
   "metadata": {},
   "outputs": [],
   "source": [
    "def stats_parallel(df_in):\n",
    "\n",
    "    # print current process\n",
    "    print(str(mp.current_process()))\n",
    "\n",
    "#     # Open the GHS-ID List with GeoPANDAS read_file\n",
    "#     ghs_ids_fn = 'GHS-UCSB-IDS.csv'\n",
    "#     ghs_ids_df = pd.read_csv(DATA_INTERIM+ghs_ids_fn)\n",
    "\n",
    "#     # Get year for arg for temp_event function\n",
    "#     #year = fn.split('GHS-Tmax-DAILY_')[1].split('.csv')[0]\n",
    "#     year = fn.split(FN_IN)[1].split('.csv')[0] # Updated 2020.02.19 CPT\n",
    "#     print(year)\n",
    "\n",
    "#     # read csv as a data array\n",
    "#     temp_xr_da = csv_to_xr(fn, time_dim, space_dim)\n",
    "\n",
    "#     # data array to tmax events, out as df\n",
    "#     df_days = tmax_days(temp_xr_da, Tthresh)\n",
    "\n",
    "#     # tmax events stats, out as df\n",
    "#     df_out = tmax_stats(df_days)\n",
    "\n",
    "#     # merge to get countries\n",
    "#     ghs_ids_df_out = ghs_ids_df.merge(df_out, on='ID_HDC_G0', how = 'inner')\n",
    "#     # write it all out\n",
    "#     ghs_ids_df_out.to_csv(DIR_OUT+FN_OUT+year+'.csv')\n",
    "\n",
    "#     print(year, 'SAVED!')"
   ]
  },
  {
   "cell_type": "code",
   "execution_count": null,
   "metadata": {},
   "outputs": [],
   "source": [
    "# need to create a temp folder\n",
    "# get length of folder\n",
    "# have legnth be temp naem"
   ]
  },
  {
   "cell_type": "code",
   "execution_count": 40,
   "metadata": {},
   "outputs": [],
   "source": [
    "def parallel_loop(function, file_list, cpu_num):\n",
    "    \"\"\"  \n",
    "    \"\"\" \n",
    "    start = time.time()\n",
    "    pool = Pool(processes = cpu_num)\n",
    "    pool.map(function, file_list)\n",
    "    pool.close()\n",
    "\n",
    "    end = time.time()\n",
    "    print(end-start)"
   ]
  },
  {
   "cell_type": "code",
   "execution_count": 41,
   "metadata": {},
   "outputs": [
    {
     "name": "stdout",
     "output_type": "stream",
     "text": [
      "STARTING LOOP\n",
      "<ForkProcess(ForkPoolWorker-13, started daemon)>\n",
      "<ForkProcess(ForkPoolWorker-14, started daemon)>\n",
      "<ForkProcess(ForkPoolWorker-15, started daemon)>\n",
      "<ForkProcess(ForkPoolWorker-13, started daemon)>\n",
      "<ForkProcess(ForkPoolWorker-16, started daemon)>\n",
      "4.783663272857666\n",
      "40.6\n",
      "ENDING LOOP\n"
     ]
    }
   ],
   "source": [
    "# Execute code\n",
    "print('STARTING LOOP')\n",
    "parallel_loop(stats_parallel, list_df, 4)\n",
    "print(Tthresh)\n",
    "print('ENDING LOOP')"
   ]
  },
  {
   "cell_type": "code",
   "execution_count": 42,
   "metadata": {},
   "outputs": [],
   "source": [
    "import os"
   ]
  },
  {
   "cell_type": "code",
   "execution_count": 50,
   "metadata": {},
   "outputs": [
    {
     "name": "stdout",
     "output_type": "stream",
     "text": [
      "/home/cascade/projects/UrbanHeat/Notebooks/Cascade_Scratch\n",
      "/home/cascade/projects/UrbanHeat/Notebooks/Cascade_Scratch\n"
     ]
    }
   ],
   "source": [
    "print(os.getcwd())\n",
    "os.system(\"cd ../\") \n",
    "print(os.getcwd())"
   ]
  },
  {
   "cell_type": "code",
   "execution_count": 52,
   "metadata": {},
   "outputs": [
    {
     "data": {
      "text/plain": [
       "0"
      ]
     },
     "execution_count": 52,
     "metadata": {},
     "output_type": "execute_result"
    }
   ],
   "source": [
    "os.system('ls')"
   ]
  }
 ],
 "metadata": {
  "kernelspec": {
   "display_name": "geo",
   "language": "python",
   "name": "geo"
  },
  "language_info": {
   "codemirror_mode": {
    "name": "ipython",
    "version": 3
   },
   "file_extension": ".py",
   "mimetype": "text/x-python",
   "name": "python",
   "nbconvert_exporter": "python",
   "pygments_lexer": "ipython3",
   "version": "3.6.7"
  }
 },
 "nbformat": 4,
 "nbformat_minor": 2
}
