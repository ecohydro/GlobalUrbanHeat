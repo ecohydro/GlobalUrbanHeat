{
 "cells": [
  {
   "cell_type": "code",
   "execution_count": null,
   "metadata": {},
   "outputs": [],
   "source": [
    "DATA_IN = '/home/CHIRTS/Tmax/v1.0/daily_ERA5/'"
   ]
  },
  {
   "cell_type": "code",
   "execution_count": null,
   "metadata": {},
   "outputs": [],
   "source": [
    "import os\n",
    "from glob import glob"
   ]
  },
  {
   "cell_type": "code",
   "execution_count": null,
   "metadata": {},
   "outputs": [],
   "source": [
    "dir_list= sorted(glob(DATA_IN+'*/'))"
   ]
  },
  {
   "cell_type": "code",
   "execution_count": null,
   "metadata": {},
   "outputs": [],
   "source": [
    "dir_list = dir_list[:-1]"
   ]
  },
  {
   "cell_type": "code",
   "execution_count": null,
   "metadata": {},
   "outputs": [],
   "source": [
    "dir_nm = dir_list[0]\n",
    "dir_year = dir_nm.split(DATA_IN)[1].split('/')[0]"
   ]
  },
  {
   "cell_type": "code",
   "execution_count": null,
   "metadata": {},
   "outputs": [],
   "source": [
    "DATA = 'Tmax.'\n",
    "for fn in sorted(os.listdir(dir_nm)):\n",
    "    \n",
    "    if fn.startswith(DATA):        \n",
    "        dir_year = dir_nm.split(DATA_IN)[1].split('/')[0]\n",
    "        # Get the date of each chirt file\n",
    "        date = (fn.split(DATA)[1].split('.tif')[0]) \n",
    "        print(dir_year)\n",
    "        print(date)"
   ]
  },
  {
   "cell_type": "code",
   "execution_count": null,
   "metadata": {},
   "outputs": [],
   "source": [
    "import pandas as pd"
   ]
  },
  {
   "cell_type": "code",
   "execution_count": null,
   "metadata": {},
   "outputs": [],
   "source": [
    "DIR_Tmax = '/home/cascade/projects/UrbanHeat/data/interim/ERA5_Tmax/'\n",
    "DIR_RH = '/home/cascade/projects/UrbanHeat/data/interim/ERA5_RH/'"
   ]
  },
  {
   "cell_type": "code",
   "execution_count": null,
   "metadata": {},
   "outputs": [],
   "source": [
    "Tmax = pd.read_csv(DIR_Tmax+'GHS-ERA5-Tmax_1983.csv')"
   ]
  },
  {
   "cell_type": "code",
   "execution_count": null,
   "metadata": {},
   "outputs": [],
   "source": [
    "Tmax.iloc[:,3:].head(2)"
   ]
  },
  {
   "cell_type": "code",
   "execution_count": null,
   "metadata": {},
   "outputs": [],
   "source": [
    "RH = pd.read_csv(DIR_RH+'GHS-ERA5-RH_1983.csv')"
   ]
  },
  {
   "cell_type": "code",
   "execution_count": null,
   "metadata": {},
   "outputs": [],
   "source": [
    "RH.iloc[:,3:].head(2)"
   ]
  },
  {
   "cell_type": "code",
   "execution_count": null,
   "metadata": {},
   "outputs": [],
   "source": [
    "fn = 'GHS-ERA5-Tmax_1983.csv'\n",
    "data = 'GHS-ERA5-Tmax_'"
   ]
  },
  {
   "cell_type": "code",
   "execution_count": null,
   "metadata": {},
   "outputs": [],
   "source": [
    "fn.split(data)[1].split('.csv')[0]"
   ]
  },
  {
   "cell_type": "code",
   "execution_count": null,
   "metadata": {},
   "outputs": [],
   "source": [
    "DIR_Tmax = '/home/cascade/projects/UrbanHeat/data/interim/ERA5_Tmax/'\n",
    "DIR_RH = '/home/cascade/projects/UrbanHeat/data/interim/ERA5_RH/'"
   ]
  },
  {
   "cell_type": "code",
   "execution_count": null,
   "metadata": {},
   "outputs": [],
   "source": [
    "import glob\n",
    "Tmax_fn_list = glob.glob(DIR_Tmax+'*.csv')\n",
    "RH_fn_list = glob.glob(DIR_RH+'*.csv')"
   ]
  },
  {
   "cell_type": "code",
   "execution_count": null,
   "metadata": {
    "scrolled": true
   },
   "outputs": [],
   "source": [
    "Tmax_fn_list"
   ]
  },
  {
   "cell_type": "code",
   "execution_count": null,
   "metadata": {},
   "outputs": [],
   "source": [
    "fn = 'GHS-ERA5-HI_1983.csv'\n",
    "FN_IN = 'GHS-ERA5-HI_'\n",
    "year = fn.split(FN_IN)[1].split('.csv')[0] # for some reason it's 2...?\n",
    "print(year)"
   ]
  },
  {
   "cell_type": "code",
   "execution_count": null,
   "metadata": {},
   "outputs": [],
   "source": [
    "import pandas as pd\n",
    "# File Paths + FN\n",
    "DATA_INTERIM = '/home/cascade/projects/UrbanHeat/data/interim/' # interim data\n",
    "DATA_PROCESSED = '/home/cascade/projects/UrbanHeat/data/processed/'\n",
    "DATA_IN = DATA_INTERIM+'ERA5_HI/' # output from avg temp <<<<< UPDATE\n",
    "\n",
    "#FN_OUT = DATA_PROCESSED+'AllDATA-GHS-ERA5-HI406.csv' #<<< UPDATE"
   ]
  },
  {
   "cell_type": "code",
   "execution_count": null,
   "metadata": {},
   "outputs": [],
   "source": [
    "import pandas as pd\n",
    "import glob\n",
    "\n",
    "# File Paths + FN\n",
    "DATA_INTERIM = '/home/cascade/projects/UrbanHeat/data/interim/' # interim data\n",
    "DATA_PROCESSED = '/home/cascade/projects/UrbanHeat/data/processed/'\n",
    "DATA_IN = DATA_INTERIM+'ERA5_HI/' # output from avg temp <<<<< UPDATE\n",
    "\n",
    "FN_OUT = DATA_PROCESSED+'AllDATA-GHS-ERA5-HI406.csv' #<<< UPDATE\n",
    "FN_IN = 'GHS-ERA5-HI_'\n",
    "\n",
    "def event_stack_loop(dir_in):\n",
    "    \n",
    "    \"\"\" Loop through a dir with csvs of tmax events for each year and\n",
    "    stack them into one data frame. Current file name is CHIRTS-GHS-Events-StatsXXXX.csv\n",
    "    \n",
    "    Args:\n",
    "        dir_in = dir path to loop through\n",
    "\n",
    "    \"\"\"\n",
    "        \n",
    "    # Get File list\n",
    "    fn_list = glob.glob(dir_in+'*.csv')\n",
    "    \n",
    "    fn_list = fn_list[:2]\n",
    "    \n",
    "    # Data frame to fill\n",
    "    df_out = pd.DataFrame()\n",
    "    \n",
    "    for fn in sorted(fn_list):\n",
    "            \n",
    "        year = fn.split(FN_IN)[1].split('.csv')[0] # for some reason it's 2...?\n",
    "        print(year)\n",
    "        \n",
    "        # open csv \n",
    "        stats = pd.read_csv(fn)\n",
    "        \n",
    "        stats['year'] = year\n",
    "#        print('stats is ', stats.shape)\n",
    "        \n",
    "        print(len(df_out))\n",
    "        \n",
    "        df_out = df_out.append(stats, sort = False)\n",
    "    \n",
    "    return df_out\n",
    "\n",
    "# Run script\n",
    "event_stack = event_stack_loop(DATA_IN)\n",
    "print(len(event_stack))\n",
    "\n",
    "# Add 'Event_ID'\n",
    "event_stack = event_stack.rename(columns = {'Unnamed: 0' : 'Event_ID'})\n",
    "\n",
    "event_ids = range(1, len(event_stack)+1)\n",
    "len(event_ids)\n",
    "\n",
    "event_stack['Event_ID'] = event_ids\n",
    "\n",
    "#event_stack.to_csv(FN_OUT)"
   ]
  },
  {
   "cell_type": "code",
   "execution_count": null,
   "metadata": {},
   "outputs": [],
   "source": [
    "event_stack.head()"
   ]
  },
  {
   "cell_type": "code",
   "execution_count": 8,
   "metadata": {},
   "outputs": [
    {
     "ename": "IndexError",
     "evalue": "list index out of range",
     "output_type": "error",
     "traceback": [
      "\u001b[0;31m---------------------------------------------------------------------------\u001b[0m",
      "\u001b[0;31mIndexError\u001b[0m                                Traceback (most recent call last)",
      "\u001b[0;32m<ipython-input-8-4826833a649e>\u001b[0m in \u001b[0;36m<module>\u001b[0;34m\u001b[0m\n\u001b[1;32m     50\u001b[0m \u001b[0;34m\u001b[0m\u001b[0m\n\u001b[1;32m     51\u001b[0m \u001b[0;31m# Run script\u001b[0m\u001b[0;34m\u001b[0m\u001b[0;34m\u001b[0m\u001b[0;34m\u001b[0m\u001b[0m\n\u001b[0;32m---> 52\u001b[0;31m \u001b[0mevent_stack\u001b[0m \u001b[0;34m=\u001b[0m \u001b[0mevent_stack_loop\u001b[0m\u001b[0;34m(\u001b[0m\u001b[0mDATA_IN\u001b[0m\u001b[0;34m)\u001b[0m\u001b[0;34m\u001b[0m\u001b[0;34m\u001b[0m\u001b[0m\n\u001b[0m\u001b[1;32m     53\u001b[0m \u001b[0mprint\u001b[0m\u001b[0;34m(\u001b[0m\u001b[0mlen\u001b[0m\u001b[0;34m(\u001b[0m\u001b[0mevent_stack\u001b[0m\u001b[0;34m)\u001b[0m\u001b[0;34m)\u001b[0m\u001b[0;34m\u001b[0m\u001b[0;34m\u001b[0m\u001b[0m\n\u001b[1;32m     54\u001b[0m \u001b[0;34m\u001b[0m\u001b[0m\n",
      "\u001b[0;32m<ipython-input-8-4826833a649e>\u001b[0m in \u001b[0;36mevent_stack_loop\u001b[0;34m(dir_in)\u001b[0m\n\u001b[1;32m     32\u001b[0m     \u001b[0;32mfor\u001b[0m \u001b[0mfn\u001b[0m \u001b[0;32min\u001b[0m \u001b[0msorted\u001b[0m\u001b[0;34m(\u001b[0m\u001b[0mfn_list\u001b[0m\u001b[0;34m)\u001b[0m\u001b[0;34m:\u001b[0m\u001b[0;34m\u001b[0m\u001b[0;34m\u001b[0m\u001b[0m\n\u001b[1;32m     33\u001b[0m \u001b[0;34m\u001b[0m\u001b[0m\n\u001b[0;32m---> 34\u001b[0;31m         \u001b[0myear\u001b[0m \u001b[0;34m=\u001b[0m \u001b[0mfn\u001b[0m\u001b[0;34m.\u001b[0m\u001b[0msplit\u001b[0m\u001b[0;34m(\u001b[0m\u001b[0mFN_IN\u001b[0m\u001b[0;34m)\u001b[0m\u001b[0;34m[\u001b[0m\u001b[0;36m1\u001b[0m\u001b[0;34m]\u001b[0m\u001b[0;34m.\u001b[0m\u001b[0msplit\u001b[0m\u001b[0;34m(\u001b[0m\u001b[0;34m'.csv'\u001b[0m\u001b[0;34m)\u001b[0m\u001b[0;34m[\u001b[0m\u001b[0;36m0\u001b[0m\u001b[0;34m]\u001b[0m \u001b[0;31m# for some reason it's 2...?\u001b[0m\u001b[0;34m\u001b[0m\u001b[0;34m\u001b[0m\u001b[0m\n\u001b[0m\u001b[1;32m     35\u001b[0m         \u001b[0mprint\u001b[0m\u001b[0;34m(\u001b[0m\u001b[0myear\u001b[0m\u001b[0;34m)\u001b[0m\u001b[0;34m\u001b[0m\u001b[0;34m\u001b[0m\u001b[0m\n\u001b[1;32m     36\u001b[0m \u001b[0;34m\u001b[0m\u001b[0m\n",
      "\u001b[0;31mIndexError\u001b[0m: list index out of range"
     ]
    }
   ],
   "source": [
    "# GHS-ERA5-Stats_\n",
    "# Dependencies\n",
    "\n",
    "import pandas as pd\n",
    "import glob\n",
    "\n",
    "# File Paths + FN\n",
    "DATA_INTERIM = '/home/cascade/projects/UrbanHeat/data/interim/' # interim data\n",
    "DATA_PROCESSED = '/home/cascade/projects/UrbanHeat/data/processed/'\n",
    "DATA_IN = DATA_INTERIM+'ERA5_STATS/' # <<<<< UPDATE\n",
    "\n",
    "FN_OUT = DATA_PROCESSED+'AllDATA-GHS-ERA5-HI406.csv' #<<< UPDATE\n",
    "FN_IN = 'GHS-ERA5-STATS_' #<<< UPDATE\n",
    "\n",
    "def event_stack_loop(dir_in):\n",
    "    \n",
    "    \"\"\" Loop through a dir with csvs of tmax events for each year and\n",
    "    stack them into one data frame. Current file name is CHIRTS-GHS-Events-StatsXXXX.csv\n",
    "    \n",
    "    Args:\n",
    "        dir_in = dir path to loop through\n",
    "\n",
    "    \"\"\"\n",
    "        \n",
    "    # Get File list\n",
    "    fn_list = glob.glob(dir_in+'*.csv')\n",
    "    fn_list = fn_list[:3]\n",
    "    \n",
    "    # Data frame to fill\n",
    "    df_out = pd.DataFrame()\n",
    "    \n",
    "    for fn in sorted(fn_list):\n",
    "            \n",
    "        year = fn.split(FN_IN)[1].split('.csv')[0] # for some reason it's 2...?\n",
    "        print(year)\n",
    "        \n",
    "        # open csv \n",
    "        stats = pd.read_csv(fn)\n",
    "        \n",
    "        # drop index col\n",
    "        stats = stats.iloc[:,1:]\n",
    "        \n",
    "        stats['year'] = year\n",
    "        \n",
    "        print(len(df_out))\n",
    "        \n",
    "        df_out = df_out.append(stats)\n",
    "    \n",
    "    return df_out\n",
    "\n",
    "# Run script\n",
    "event_stack = event_stack_loop(DATA_IN)\n",
    "print(len(event_stack))\n",
    "\n",
    "# Add 'Event_ID'\n",
    "event_ids = range(1, len(event_stack)+1)\n",
    "len(event_ids)\n",
    "\n",
    "event_stack['Event_ID'] = event_ids\n",
    "\n",
    "print('Writing final df to disk')\n",
    "#event_stack.to_csv(FN_OUT)\n",
    "print('ALL DONE!')"
   ]
  },
  {
   "cell_type": "code",
   "execution_count": 9,
   "metadata": {},
   "outputs": [],
   "source": [
    "fn_list = glob.glob(DATA_IN+'*.csv')\n",
    "fn_list = fn_list[:3]\n",
    "\n",
    "df1 = pd.read_csv(fn_list[0])"
   ]
  },
  {
   "cell_type": "code",
   "execution_count": 11,
   "metadata": {},
   "outputs": [
    {
     "data": {
      "text/plain": [
       "['/home/cascade/projects/UrbanHeat/data/interim/ERA5_STATS/GHS-ERA5-Stats_2010.csv',\n",
       " '/home/cascade/projects/UrbanHeat/data/interim/ERA5_STATS/GHS-ERA5-Stats_1989.csv',\n",
       " '/home/cascade/projects/UrbanHeat/data/interim/ERA5_STATS/GHS-ERA5-Stats_1987.csv']"
      ]
     },
     "execution_count": 11,
     "metadata": {},
     "output_type": "execute_result"
    }
   ],
   "source": [
    "fn_list"
   ]
  },
  {
   "cell_type": "code",
   "execution_count": 15,
   "metadata": {},
   "outputs": [
    {
     "data": {
      "text/plain": [
       "'2010'"
      ]
     },
     "execution_count": 15,
     "metadata": {},
     "output_type": "execute_result"
    }
   ],
   "source": [
    "FN_IN = 'GHS-ERA5-Stats_'\n",
    "year = fn_list[0].split(FN_IN)[1].split('.csv')[0]\n",
    "year"
   ]
  }
 ],
 "metadata": {
  "kernelspec": {
   "display_name": "geo",
   "language": "python",
   "name": "geo"
  },
  "language_info": {
   "codemirror_mode": {
    "name": "ipython",
    "version": 3
   },
   "file_extension": ".py",
   "mimetype": "text/x-python",
   "name": "python",
   "nbconvert_exporter": "python",
   "pygments_lexer": "ipython3",
   "version": "3.6.7"
  }
 },
 "nbformat": 4,
 "nbformat_minor": 2
}
