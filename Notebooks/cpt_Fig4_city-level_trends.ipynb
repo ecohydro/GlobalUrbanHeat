{
 "cells": [
  {
   "cell_type": "markdown",
   "metadata": {},
   "source": [
    "# Figure 4 Final\n",
    "\n",
    "Notebook to make data for figure 4 for ms <br>\n",
    "by Cascade Tuholske 2020.02.23"
   ]
  },
  {
   "cell_type": "code",
   "execution_count": 2,
   "metadata": {},
   "outputs": [],
   "source": [
    "#### Depdencies \n",
    "import pandas as pd\n",
    "import numpy as np\n",
    "import geopandas as gpd\n",
    "import matplotlib.pyplot as plt\n",
    "import statsmodels.api as sm\n",
    "import seaborn as sns"
   ]
  },
  {
   "cell_type": "code",
   "execution_count": 3,
   "metadata": {},
   "outputs": [],
   "source": [
    "#### Load Data\n",
    "# file path\n",
    "DATA_IN = \"/home/cascade/projects/UrbanHeat/data/\"  # Note: Need ?dl=1 to make sure this file gets read correctly\n",
    "FIG_OUT = \"/home/cascade/projects/UrbanHeat/figures/\"\n",
    "\n",
    "# HI DATA\n",
    "FN_IN = 'processed/AllDATA-GHS-ERA5-HI406-FIGDATA.csv'\n",
    "HI_STATS = pd.read_csv(DATA_IN+FN_IN)\n",
    "\n",
    "FN_IN = 'processed/AllDATA-GHS-ERA5-HI406-MAPDATA.csv'\n",
    "MAP_DATA = pd.read_csv(DATA_IN+FN_IN)\n",
    "\n",
    "\n",
    "# scale the date in the plot \n",
    "scale = 10**9 "
   ]
  },
  {
   "cell_type": "code",
   "execution_count": 4,
   "metadata": {
    "scrolled": true
   },
   "outputs": [
    {
     "name": "stdout",
     "output_type": "stream",
     "text": [
      "386920\n",
      "385526\n",
      "385424\n"
     ]
    }
   ],
   "source": [
    "#### Drop cities where P1983 == 0\n",
    "print(len(HI_STATS))\n",
    "HI_STATS = HI_STATS[HI_STATS['P1983'] > 0]\n",
    "print(len(HI_STATS))\n",
    "\n",
    "#### Drop cities with only one Tmax Day in 1983 and none else because you cannot regress them\n",
    "#drop_list = [2543, 2560, 3667, 3669, 6122, 6156] # city ids for MERRA2 \n",
    "drop_list = [832, 1732, 5521] # city IDS for ERA5\n",
    "\n",
    "HI_STATS= HI_STATS[~HI_STATS['ID_HDC_G0'].isin(drop_list)]\n",
    "print(len(HI_STATS))"
   ]
  },
  {
   "cell_type": "code",
   "execution_count": 5,
   "metadata": {},
   "outputs": [
    {
     "data": {
      "text/html": [
       "<div>\n",
       "<style scoped>\n",
       "    .dataframe tbody tr th:only-of-type {\n",
       "        vertical-align: middle;\n",
       "    }\n",
       "\n",
       "    .dataframe tbody tr th {\n",
       "        vertical-align: top;\n",
       "    }\n",
       "\n",
       "    .dataframe thead th {\n",
       "        text-align: right;\n",
       "    }\n",
       "</style>\n",
       "<table border=\"1\" class=\"dataframe\">\n",
       "  <thead>\n",
       "    <tr style=\"text-align: right;\">\n",
       "      <th></th>\n",
       "      <th>Unnamed: 0</th>\n",
       "      <th>ID_HDC_G0</th>\n",
       "      <th>year</th>\n",
       "      <th>total_days</th>\n",
       "      <th>P</th>\n",
       "      <th>P1983</th>\n",
       "      <th>P2016</th>\n",
       "      <th>people_days</th>\n",
       "      <th>people_days_heat</th>\n",
       "      <th>people_days_pop</th>\n",
       "    </tr>\n",
       "  </thead>\n",
       "  <tbody>\n",
       "    <tr>\n",
       "      <td>0</td>\n",
       "      <td>0</td>\n",
       "      <td>5645</td>\n",
       "      <td>1983</td>\n",
       "      <td>1</td>\n",
       "      <td>80796.793810</td>\n",
       "      <td>80796.79381</td>\n",
       "      <td>96123.248169</td>\n",
       "      <td>80796.793810</td>\n",
       "      <td>80796.79381</td>\n",
       "      <td>0.000000</td>\n",
       "    </tr>\n",
       "    <tr>\n",
       "      <td>1</td>\n",
       "      <td>1</td>\n",
       "      <td>5645</td>\n",
       "      <td>1989</td>\n",
       "      <td>2</td>\n",
       "      <td>78918.494262</td>\n",
       "      <td>80796.79381</td>\n",
       "      <td>96123.248169</td>\n",
       "      <td>157836.988523</td>\n",
       "      <td>161593.58762</td>\n",
       "      <td>-3756.599097</td>\n",
       "    </tr>\n",
       "    <tr>\n",
       "      <td>2</td>\n",
       "      <td>2</td>\n",
       "      <td>5645</td>\n",
       "      <td>1990</td>\n",
       "      <td>3</td>\n",
       "      <td>78605.444337</td>\n",
       "      <td>80796.79381</td>\n",
       "      <td>96123.248169</td>\n",
       "      <td>235816.333011</td>\n",
       "      <td>242390.38143</td>\n",
       "      <td>-6574.048420</td>\n",
       "    </tr>\n",
       "    <tr>\n",
       "      <td>3</td>\n",
       "      <td>3</td>\n",
       "      <td>5645</td>\n",
       "      <td>1994</td>\n",
       "      <td>1</td>\n",
       "      <td>76481.266889</td>\n",
       "      <td>80796.79381</td>\n",
       "      <td>96123.248169</td>\n",
       "      <td>76481.266889</td>\n",
       "      <td>80796.79381</td>\n",
       "      <td>-4315.526921</td>\n",
       "    </tr>\n",
       "    <tr>\n",
       "      <td>4</td>\n",
       "      <td>4</td>\n",
       "      <td>5645</td>\n",
       "      <td>2005</td>\n",
       "      <td>1</td>\n",
       "      <td>80904.416534</td>\n",
       "      <td>80796.79381</td>\n",
       "      <td>96123.248169</td>\n",
       "      <td>80904.416534</td>\n",
       "      <td>80796.79381</td>\n",
       "      <td>107.622724</td>\n",
       "    </tr>\n",
       "  </tbody>\n",
       "</table>\n",
       "</div>"
      ],
      "text/plain": [
       "   Unnamed: 0  ID_HDC_G0  year  total_days             P        P1983  \\\n",
       "0           0       5645  1983           1  80796.793810  80796.79381   \n",
       "1           1       5645  1989           2  78918.494262  80796.79381   \n",
       "2           2       5645  1990           3  78605.444337  80796.79381   \n",
       "3           3       5645  1994           1  76481.266889  80796.79381   \n",
       "4           4       5645  2005           1  80904.416534  80796.79381   \n",
       "\n",
       "          P2016    people_days  people_days_heat  people_days_pop  \n",
       "0  96123.248169   80796.793810       80796.79381         0.000000  \n",
       "1  96123.248169  157836.988523      161593.58762     -3756.599097  \n",
       "2  96123.248169  235816.333011      242390.38143     -6574.048420  \n",
       "3  96123.248169   76481.266889       80796.79381     -4315.526921  \n",
       "4  96123.248169   80904.416534       80796.79381       107.622724  "
      ]
     },
     "execution_count": 5,
     "metadata": {},
     "output_type": "execute_result"
    }
   ],
   "source": [
    "HI_STATS.head()"
   ]
  },
  {
   "cell_type": "code",
   "execution_count": 6,
   "metadata": {},
   "outputs": [],
   "source": [
    "## Add In Meta Data\n",
    "geog = ['region', 'intermediate-region', 'sub-region','CTR_MN_NM', 'ID_HDC_G0', 'GCPNT_LAT', 'GCPNT_LON']\n",
    "meta_fn = 'processed/AllDATA-GHS-ERA5-HI406-META.csv'\n",
    "all_data = pd.read_csv(DATA_IN+meta_fn)\n",
    "meta = all_data[geog]\n",
    "meta = meta.drop_duplicates('ID_HDC_G0')\n",
    "\n",
    "## Merge in meta\n",
    "HI_STATS = HI_STATS.merge(meta, on = 'ID_HDC_G0', how = 'left')"
   ]
  },
  {
   "cell_type": "markdown",
   "metadata": {},
   "source": [
    "# Find Residuals for Total Days Trends"
   ]
  },
  {
   "cell_type": "code",
   "execution_count": 24,
   "metadata": {},
   "outputs": [],
   "source": [
    "#### calculate Z scores for each value\n",
    "def z_score(data):\n",
    "    \"mini function to make z scoares\"\n",
    "    mean = np.mean(data)\n",
    "    sd = np.std(data)\n",
    "    zscores = (data - mean) / sd\n",
    "    \n",
    "    return zscores"
   ]
  },
  {
   "cell_type": "code",
   "execution_count": 67,
   "metadata": {},
   "outputs": [],
   "source": [
    "#### Let's plot the zscores for each city in India\n",
    "location = 'Egypt'\n",
    "geog = 'CTR_MN_NM'\n",
    "#alpha = 0.05\n",
    "data = HI_STATS[HI_STATS[geog] == location]\n",
    "data = HI_STATS"
   ]
  },
  {
   "cell_type": "code",
   "execution_count": 68,
   "metadata": {},
   "outputs": [],
   "source": [
    "years = list(np.unique(data.sort_values('year')['year']))"
   ]
  },
  {
   "cell_type": "code",
   "execution_count": 69,
   "metadata": {},
   "outputs": [],
   "source": [
    "years_list = []\n",
    "zscores_list = []\n",
    "\n",
    "\n",
    "years = list(np.unique(data.sort_values('year')['year']))\n",
    "\n",
    "for i, city_df in enumerate(data.groupby('ID_HDC_G0')):\n",
    "    total_days = list(city_df[1].sort_values('year')['total_days'].values)\n",
    "    \n",
    "    # Get Data\n",
    "    X_year = years\n",
    "    Y_stats = total_days\n",
    "\n",
    "    # Add Intercept\n",
    "    X_year_2 = sm.add_constant(X_year)\n",
    "\n",
    "    # Regress\n",
    "    model = sm.OLS(Y_stats, X_year_2).fit()\n",
    "    \n",
    "    # residual Z scores \n",
    "    zscores = z_score(model.resid) \n",
    "    \n",
    "    zscores_list.append(zscores)\n",
    "    years_list.append(years)\n",
    "    "
   ]
  },
  {
   "cell_type": "code",
   "execution_count": 70,
   "metadata": {
    "scrolled": true
   },
   "outputs": [
    {
     "data": {
      "text/plain": [
       "Text(0, 0.5, 'z-score')"
      ]
     },
     "execution_count": 70,
     "metadata": {},
     "output_type": "execute_result"
    },
    {
     "data": {
      "image/png": "[encoded data removed]",
      "text/plain": [
       "<Figure size 432x288 with 1 Axes>"
      ]
     },
     "metadata": {
      "needs_background": "light"
     },
     "output_type": "display_data"
    }
   ],
   "source": [
    "alpha = 0.01\n",
    "plt.scatter(years_list, zscores_list, alpha = alpha)\n",
    "plt.title('Z-scores for total days for'+location)\n",
    "plt.xlabel('year')\n",
    "plt.ylabel('z-score')"
   ]
  },
  {
   "cell_type": "markdown",
   "metadata": {},
   "source": [
    "# Old Code"
   ]
  },
  {
   "cell_type": "code",
   "execution_count": null,
   "metadata": {},
   "outputs": [],
   "source": [
    "# Make an empty data frame\n",
    "years = list(np.unique(data.sort_values('year')['year']))\n",
    "#cols = ['ID_HDC_G0']+years\n",
    "cols = years\n",
    "zscores_df = pd.DataFrame(columns = cols)\n",
    "\n",
    "for i, city_df in enumerate(data.groupby('ID_HDC_G0')):\n",
    "    row = []\n",
    "#    city_id = city_df[0]\n",
    "#    row.append(city_id) # get the city ids\n",
    "    total_days = list(city_df[1].sort_values('year')['total_days'].values)\n",
    "    zscores = z_score(total_days) \n",
    "    row = row + list(zscores) # tag on the z-scores\n",
    "    row = pd.Series(row, index = zscores_df.columns)\n",
    "    \n",
    "    # append the df\n",
    "    zscores_df = zscores_df.append(row, ignore_index=True)"
   ]
  },
  {
   "cell_type": "code",
   "execution_count": null,
   "metadata": {},
   "outputs": [],
   "source": [
    "#### Select a Country\n",
    "\n",
    "country = 'India'\n",
    "data = HI_STATS[HI_STATS['CTR_MN_NM'] == country]\n",
    "#data = HI_STATS[HI_STATS['ID_HDC_G0'] == 6334]"
   ]
  },
  {
   "cell_type": "code",
   "execution_count": null,
   "metadata": {},
   "outputs": [],
   "source": [
    "X = data.sort_values('year')['year']\n",
    "Y = data.sort_values('year')['total_days']"
   ]
  },
  {
   "cell_type": "code",
   "execution_count": null,
   "metadata": {},
   "outputs": [],
   "source": [
    "data.head()"
   ]
  },
  {
   "cell_type": "code",
   "execution_count": null,
   "metadata": {},
   "outputs": [],
   "source": [
    "#### Select a Country\n",
    "country = 'China'\n",
    "data = HI_STATS[HI_STATS['CTR_MN_NM'] == country]\n",
    "\n",
    "fig, axs = plt.subplots(1, 1, figsize = (7, 5), sharex=True)\n",
    "line_kws = {'linestyle' : '-', 'linewidth' : 3, 'alpha' : 0.7}\n",
    "\n",
    "\n",
    "for label, city in data.groupby('ID_HDC_G0'):\n",
    "    X = city.sort_values('year')['year']\n",
    "    Y = city.sort_values('year')['total_days']\n",
    "    \n",
    "    # set alphas \n",
    "    \n",
    "    plt.plot(X,Y, alpha = 0.05, color = 'gray') #'lavender')\n",
    "\n",
    "X = data.sort_values('year')['year']\n",
    "Y = data.sort_values('year')['total_days']\n",
    "sns.regplot(X, Y, color = 'purple', scatter = False, truncate = True, line_kws = line_kws)\n",
    "\n",
    "#### Select a Country\n",
    "# country = 'Indonesia'\n",
    "# data = HI_STATS[HI_STATS['CTR_MN_NM'] == country]\n",
    "# X = data.sort_values('year')['year']\n",
    "# Y = data.sort_values('year')['total_days']\n",
    "\n",
    "# for label, city in data.groupby('ID_HDC_G0'):\n",
    "#     X = city.sort_values('year')['year']\n",
    "#     Y = city.sort_values('year')['total_days']\n",
    "    \n",
    "#     plt.plot(X,Y, alpha = 0.05, color = 'palegreen')\n",
    "    \n",
    "# X = data.sort_values('year')['year']\n",
    "# Y = data.sort_values('year')['total_days']\n",
    "# sns.regplot(X, Y, color = 'darkgreen', scatter = False, truncate = True, line_kws = line_kws, label = 'Egypt')\n",
    "    \n",
    "#plt.ylim([0,25])#### Select a Country\n",
    "plt.title(country+' Total Days per Year HI > 40.6 C')\n",
    "plt.ylabel('Days/yr HI > 40.6')"
   ]
  },
  {
   "cell_type": "code",
   "execution_count": null,
   "metadata": {
    "scrolled": false
   },
   "outputs": [],
   "source": [
    "#### Select a Country\n",
    "fig, axs = plt.subplots(1, 1, figsize = (7, 5), sharex=True)\n",
    "line_kws = {'linestyle' : ':'}\n",
    "\n",
    "country = 'India'\n",
    "data = HI_STATS[HI_STATS['CTR_MN_NM'] == country]\n",
    "X = data['year']\n",
    "Y = data['total_days']\n",
    "\n",
    "plt.scatter(X,Y, alpha = 0.002)#, s = 20, marker = '.')\n",
    "sns.regplot(X, Y, color = 'purple', scatter = False, truncate = True, line_kws = line_kws)\n",
    "#plt.ylim([0,1])"
   ]
  },
  {
   "cell_type": "code",
   "execution_count": null,
   "metadata": {
    "scrolled": true
   },
   "outputs": [],
   "source": [
    "len(np.unique(data['ID_HDC_G0']))"
   ]
  },
  {
   "cell_type": "markdown",
   "metadata": {},
   "source": [
    "# Check Total Days > 365"
   ]
  },
  {
   "cell_type": "code",
   "execution_count": null,
   "metadata": {},
   "outputs": [],
   "source": [
    "#### Select a Country\n",
    "country = 'Indonesia'\n",
    "data = HI_STATS[HI_STATS['CTR_MN_NM'] == country]"
   ]
  },
  {
   "cell_type": "code",
   "execution_count": null,
   "metadata": {},
   "outputs": [],
   "source": [
    "data[data['total_days']> 365]"
   ]
  },
  {
   "cell_type": "code",
   "execution_count": null,
   "metadata": {},
   "outputs": [],
   "source": [
    "alldata = pd.read_csv(DATA_IN+'processed/All_data_HI406_meta.csv')"
   ]
  },
  {
   "cell_type": "code",
   "execution_count": null,
   "metadata": {},
   "outputs": [],
   "source": [
    "alldata.head()"
   ]
  },
  {
   "cell_type": "code",
   "execution_count": null,
   "metadata": {
    "scrolled": true
   },
   "outputs": [],
   "source": [
    "list(alldata[(alldata['year'] == 1997) & (alldata['ID_HDC_G0'] == 11423)]['event_dates'])"
   ]
  },
  {
   "cell_type": "code",
   "execution_count": 7,
   "metadata": {},
   "outputs": [],
   "source": [
    "#### Select a city in India\n",
    "data = HI_STATS[HI_STATS['ID_HDC_G0'] == 6334]"
   ]
  },
  {
   "cell_type": "code",
   "execution_count": 8,
   "metadata": {},
   "outputs": [],
   "source": [
    "X = data.sort_values('year')['year']\n",
    "Y = data.sort_values('year')['total_days']"
   ]
  },
  {
   "cell_type": "code",
   "execution_count": 9,
   "metadata": {},
   "outputs": [
    {
     "data": {
      "text/plain": [
       "[<matplotlib.lines.Line2D at 0x7f456682e438>]"
      ]
     },
     "execution_count": 9,
     "metadata": {},
     "output_type": "execute_result"
    },
    {
     "data": {
      "image/png": "[encoded data removed]",
      "text/plain": [
       "<Figure size 432x288 with 1 Axes>"
      ]
     },
     "metadata": {
      "needs_background": "light"
     },
     "output_type": "display_data"
    }
   ],
   "source": [
    "plt.plot(X,Y)"
   ]
  },
  {
   "cell_type": "code",
   "execution_count": 10,
   "metadata": {
    "scrolled": true
   },
   "outputs": [
    {
     "data": {
      "text/plain": [
       "(array([3., 0., 4., 2., 8., 6., 4., 2., 4., 1.]),\n",
       " array([164. , 171.7, 179.4, 187.1, 194.8, 202.5, 210.2, 217.9, 225.6,\n",
       "        233.3, 241. ]),\n",
       " <a list of 10 Patch objects>)"
      ]
     },
     "execution_count": 10,
     "metadata": {},
     "output_type": "execute_result"
    },
    {
     "data": {
      "image/png": "[encoded data removed]",
      "text/plain": [
       "<Figure size 432x288 with 1 Axes>"
      ]
     },
     "metadata": {
      "needs_background": "light"
     },
     "output_type": "display_data"
    }
   ],
   "source": [
    "plt.hist(Y)"
   ]
  },
  {
   "cell_type": "code",
   "execution_count": 11,
   "metadata": {},
   "outputs": [],
   "source": [
    "mean = np.mean(Y)\n",
    "SD = np.std(Y)\n",
    "zscores = (Y - mean)/SD"
   ]
  },
  {
   "cell_type": "code",
   "execution_count": 12,
   "metadata": {},
   "outputs": [],
   "source": [
    "#### calculate Z scores for each value\n",
    "def z_score(data):\n",
    "    \"mini function to make z scoares\"\n",
    "    mean = np.mean(data)\n",
    "    sd = np.std(data)\n",
    "    zscores = (data - mean) / sd\n",
    "    \n",
    "    return zscores"
   ]
  },
  {
   "cell_type": "code",
   "execution_count": 13,
   "metadata": {},
   "outputs": [
    {
     "data": {
      "text/plain": [
       "<matplotlib.collections.PathCollection at 0x7f456676fcc0>"
      ]
     },
     "execution_count": 13,
     "metadata": {},
     "output_type": "execute_result"
    },
    {
     "data": {
      "image/png": "[encoded data removed]",
      "text/plain": [
       "<Figure size 432x288 with 1 Axes>"
      ]
     },
     "metadata": {
      "needs_background": "light"
     },
     "output_type": "display_data"
    }
   ],
   "source": [
    "plt.scatter(X, zscores)"
   ]
  },
  {
   "cell_type": "code",
   "execution_count": null,
   "metadata": {},
   "outputs": [],
   "source": [
    "#### Let's plot the zscores for each city in India\n",
    "country = 'Nigeria'\n",
    "data = HI_STATS[HI_STATS['CTR_MN_NM'] == country]"
   ]
  },
  {
   "cell_type": "code",
   "execution_count": null,
   "metadata": {},
   "outputs": [],
   "source": [
    "years = list(np.unique(data.sort_values('year')['year']))\n",
    "cols = ['ID_HDC_G0']+years\n",
    "zscores_df = pd.DataFrame(columns = cols)"
   ]
  },
  {
   "cell_type": "code",
   "execution_count": null,
   "metadata": {},
   "outputs": [],
   "source": [
    "years_list = []\n",
    "zscores_list = []\n",
    "\n",
    "years = list(np.unique(data.sort_values('year')['year']))\n",
    "\n",
    "for i, city_df in enumerate(data.groupby('ID_HDC_G0')):\n",
    "    total_days = list(city_df[1].sort_values('year')['total_days'].values)\n",
    "    zscores = z_score(total_days) \n",
    "    zscores_list.append(zscores)\n",
    "    years_list.append(years)\n"
   ]
  },
  {
   "cell_type": "code",
   "execution_count": null,
   "metadata": {},
   "outputs": [],
   "source": [
    "plt.scatter(years_list, zscores_list, alpha = 0.05)\n",
    "plt.title('Z-scores for total days for India')\n",
    "plt.xlabel('year')\n",
    "plt.ylabel('z-score')"
   ]
  },
  {
   "cell_type": "code",
   "execution_count": null,
   "metadata": {},
   "outputs": [],
   "source": [
    "coef_totdays = pd.read_csv(DATA_IN+'processed/AllDATA-GHS-ERA5-HI406-MAPDATA_TOTDAYS_P05.csv')\n",
    "coef_totdays.columns"
   ]
  },
  {
   "cell_type": "code",
   "execution_count": null,
   "metadata": {},
   "outputs": [],
   "source": [
    "data = coef_totdays[coef_totdays['CTR_MN_NM'] == 'India'][['ID_HDC_G0','coef_totDays']]"
   ]
  },
  {
   "cell_type": "code",
   "execution_count": null,
   "metadata": {
    "scrolled": true
   },
   "outputs": [],
   "source": [
    "data"
   ]
  },
  {
   "cell_type": "code",
   "execution_count": null,
   "metadata": {},
   "outputs": [],
   "source": [
    "#### Select a city in India\n",
    "city = HI_STATS[HI_STATS['ID_HDC_G0'] == 6334]\n",
    "slope = data[data['ID_HDC_G0'] == 6334]['coef_totDays'].values[0]"
   ]
  },
  {
   "cell_type": "code",
   "execution_count": null,
   "metadata": {},
   "outputs": [],
   "source": [
    "city = city[['year', 'total_days']]"
   ]
  },
  {
   "cell_type": "code",
   "execution_count": null,
   "metadata": {},
   "outputs": [],
   "source": [
    "#### Regressions, no intercept addition is needed because we're using SK LEARN HERE \n",
    "    \n",
    "\"simple linear model of a time series data, returns coef\"\n",
    "\n",
    "# Get Data\n",
    "X_year = city['year']\n",
    "Y_stats = city['total_days']\n",
    "\n",
    "# Add Intercept\n",
    "X_year_2 = sm.add_constant(X_year)\n",
    "\n",
    "# Regress\n",
    "model = sm.OLS(Y_stats, X_year_2).fit() \n",
    "\n",
    "# coef = int(model.params[1]*scale)\n",
    "# #coef = int(coef)\n",
    "\n",
    "# # R2 and P\n",
    "# r2 = model.rsquared_adj\n",
    "# p = model.pvalues[0]\n",
    "\n",
    "# return coef, round(r2, 2), round(p, 3)"
   ]
  },
  {
   "cell_type": "code",
   "execution_count": null,
   "metadata": {},
   "outputs": [],
   "source": [
    "city['res'] = model.resid"
   ]
  },
  {
   "cell_type": "code",
   "execution_count": null,
   "metadata": {},
   "outputs": [],
   "source": [
    "city['predict'] = city['total_days'] - city['res']"
   ]
  },
  {
   "cell_type": "code",
   "execution_count": null,
   "metadata": {},
   "outputs": [],
   "source": [
    "predict_model = model.predict()"
   ]
  },
  {
   "cell_type": "code",
   "execution_count": null,
   "metadata": {},
   "outputs": [],
   "source": [
    "len(city['year'])"
   ]
  },
  {
   "cell_type": "code",
   "execution_count": null,
   "metadata": {},
   "outputs": [],
   "source": [
    "plt.plot(city['year'], city['total_days'], color = 'red')\n",
    "plt.scatter(city['year'], city['predict'], color = 'blue')\n",
    "plt.scatter(city['year'], predict_model, color = 'green')"
   ]
  },
  {
   "cell_type": "code",
   "execution_count": null,
   "metadata": {},
   "outputs": [],
   "source": [
    "predict = model.predict()"
   ]
  },
  {
   "cell_type": "code",
   "execution_count": null,
   "metadata": {},
   "outputs": [],
   "source": [
    "city['model_predict'] = predict"
   ]
  },
  {
   "cell_type": "code",
   "execution_count": null,
   "metadata": {},
   "outputs": [],
   "source": [
    "city['zscores'] = z_score(city['res'])"
   ]
  },
  {
   "cell_type": "code",
   "execution_count": null,
   "metadata": {},
   "outputs": [],
   "source": [
    "plt.plot(city['year'], city['zscores'])\n",
    "plt.plot(city['year'], city['total_days'], color = 'red')\n",
    "\n"
   ]
  },
  {
   "cell_type": "code",
   "execution_count": null,
   "metadata": {
    "scrolled": true
   },
   "outputs": [],
   "source": [
    "fig, ax1 = plt.subplots()\n",
    "\n",
    "color = 'tab:red'\n",
    "ax1.set_xlabel('year')\n",
    "ax1.set_ylabel('days', color=color)\n",
    "ax1.plot(city['year'], city['total_days'], color=color)\n",
    "ax1.tick_params(axis='y', labelcolor=color)\n",
    "\n",
    "ax2 = ax1.twinx()  # instantiate a second axes that shares the same x-axis\n",
    "\n",
    "color = 'tab:blue'\n",
    "ax2.set_ylabel('z-score', color=color)  # we already handled the x-label with ax1\n",
    "ax2.plot(city['year'], city['zscores'], color=color)\n",
    "ax2.tick_params(axis='y', labelcolor=color)\n",
    "\n",
    "fig.tight_layout()  # otherwise the right y-label is slightly clipped\n",
    "plt.show()"
   ]
  }
 ],
 "metadata": {
  "kernelspec": {
   "display_name": "geo",
   "language": "python",
   "name": "geo"
  },
  "language_info": {
   "codemirror_mode": {
    "name": "ipython",
    "version": 3
   },
   "file_extension": ".py",
   "mimetype": "text/x-python",
   "name": "python",
   "nbconvert_exporter": "python",
   "pygments_lexer": "ipython3",
   "version": "3.6.7"
  }
 },
 "nbformat": 4,
 "nbformat_minor": 2
}
