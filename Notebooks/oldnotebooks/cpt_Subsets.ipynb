{
 "cells": [
  {
   "cell_type": "markdown",
   "metadata": {},
   "source": [
    "# Subsets\n",
    "\n",
    "Notebook to pull subsets of data from the UrbanHeat Project.\n",
    "\n",
    "By Cascade Tuholske, 2019-10-20"
   ]
  },
  {
   "cell_type": "markdown",
   "metadata": {},
   "source": [
    "#### Depdencies"
   ]
  },
  {
   "cell_type": "code",
   "execution_count": 1,
   "metadata": {},
   "outputs": [],
   "source": [
    "import pandas as pd\n",
    "import geopandas as gpd\n",
    "import numpy as np\n",
    "import seaborn as sns\n",
    "import matplotlib.pyplot as plt\n",
    "from mpl_toolkits import mplot3d\n",
    "import matplotlib as mpl"
   ]
  },
  {
   "cell_type": "markdown",
   "metadata": {},
   "source": [
    "#### File Paths"
   ]
  },
  {
   "cell_type": "code",
   "execution_count": 2,
   "metadata": {},
   "outputs": [],
   "source": [
    "# file paths\n",
    "\n",
    "DATA_IN = '/home/cascade/projects/data_out_urbanheat/'\n",
    "GHS_DATA_IN = '/home/CHIRTS/Tmax/cascade/GHS-UCDB/'\n",
    "STATS_DIR = 'CHIRTS-GHS-Events-Stats/'"
   ]
  },
  {
   "cell_type": "code",
   "execution_count": 3,
   "metadata": {},
   "outputs": [],
   "source": [
    "# Files\n",
    "GHS_fn = 'GHS_STAT_UCDB2015MT_GLOBE_R2019A_V1_0.shp'\n",
    "ALL_fn = 'All_data20191019.csv'"
   ]
  },
  {
   "cell_type": "markdown",
   "metadata": {},
   "source": [
    "#### Subsets"
   ]
  },
  {
   "cell_type": "code",
   "execution_count": 4,
   "metadata": {},
   "outputs": [
    {
     "data": {
      "text/html": [
       "<div>\n",
       "<style scoped>\n",
       "    .dataframe tbody tr th:only-of-type {\n",
       "        vertical-align: middle;\n",
       "    }\n",
       "\n",
       "    .dataframe tbody tr th {\n",
       "        vertical-align: top;\n",
       "    }\n",
       "\n",
       "    .dataframe thead th {\n",
       "        text-align: right;\n",
       "    }\n",
       "</style>\n",
       "<table border=\"1\" class=\"dataframe\">\n",
       "  <thead>\n",
       "    <tr style=\"text-align: right;\">\n",
       "      <th></th>\n",
       "      <th>ID_HDC_G0</th>\n",
       "      <th>P75</th>\n",
       "      <th>P90</th>\n",
       "      <th>P00</th>\n",
       "      <th>P15</th>\n",
       "      <th>geometry</th>\n",
       "    </tr>\n",
       "  </thead>\n",
       "  <tbody>\n",
       "    <tr>\n",
       "      <td>0</td>\n",
       "      <td>5782</td>\n",
       "      <td>76680.40387</td>\n",
       "      <td>77349.278442</td>\n",
       "      <td>75261.170776</td>\n",
       "      <td>69023.903442</td>\n",
       "      <td>POLYGON ((88.1393063460871 69.36230222917577, ...</td>\n",
       "    </tr>\n",
       "  </tbody>\n",
       "</table>\n",
       "</div>"
      ],
      "text/plain": [
       "   ID_HDC_G0          P75           P90           P00           P15  \\\n",
       "0       5782  76680.40387  77349.278442  75261.170776  69023.903442   \n",
       "\n",
       "                                            geometry  \n",
       "0  POLYGON ((88.1393063460871 69.36230222917577, ...  "
      ]
     },
     "execution_count": 4,
     "metadata": {},
     "output_type": "execute_result"
    }
   ],
   "source": [
    "# GHS Pop\n",
    "df_ghs = gpd.read_file(GHS_DATA_IN+GHS_fn)\n",
    "\n",
    "# Get Pop\n",
    "df_pop = pd.DataFrame()\n",
    "df_pop['ID_HDC_G0'] = df_ghs['ID_HDC_G0']\n",
    "df_pop['P75'] = df_ghs['P75']\n",
    "df_pop['P90'] = df_ghs['P90']\n",
    "df_pop['P00'] = df_ghs['P00']\n",
    "df_pop['P15'] = df_ghs['P15']\n",
    "df_pop['geometry'] = df_ghs['geometry']\n",
    "\n",
    "df_pop.head(1)"
   ]
  },
  {
   "cell_type": "code",
   "execution_count": 5,
   "metadata": {},
   "outputs": [
    {
     "data": {
      "text/html": [
       "<div>\n",
       "<style scoped>\n",
       "    .dataframe tbody tr th:only-of-type {\n",
       "        vertical-align: middle;\n",
       "    }\n",
       "\n",
       "    .dataframe tbody tr th {\n",
       "        vertical-align: top;\n",
       "    }\n",
       "\n",
       "    .dataframe thead th {\n",
       "        text-align: right;\n",
       "    }\n",
       "</style>\n",
       "<table border=\"1\" class=\"dataframe\">\n",
       "  <thead>\n",
       "    <tr style=\"text-align: right;\">\n",
       "      <th></th>\n",
       "      <th>Unnamed: 0</th>\n",
       "      <th>Event_ID</th>\n",
       "      <th>ID_HDC_G0</th>\n",
       "      <th>CTR_MN_NM</th>\n",
       "      <th>total_days</th>\n",
       "      <th>duration</th>\n",
       "      <th>avg_temp</th>\n",
       "      <th>avg_intensity</th>\n",
       "      <th>tot_intensity</th>\n",
       "      <th>event_dates</th>\n",
       "      <th>intensity</th>\n",
       "      <th>tmax</th>\n",
       "      <th>year</th>\n",
       "    </tr>\n",
       "  </thead>\n",
       "  <tbody>\n",
       "    <tr>\n",
       "      <td>1624</td>\n",
       "      <td>1624</td>\n",
       "      <td>1625</td>\n",
       "      <td>6503</td>\n",
       "      <td>India</td>\n",
       "      <td>4</td>\n",
       "      <td>2</td>\n",
       "      <td>42.31678</td>\n",
       "      <td>1.71678</td>\n",
       "      <td>3.43356</td>\n",
       "      <td>['1983.06.23' '1983.06.24']</td>\n",
       "      <td>[1.29506 2.1385 ]</td>\n",
       "      <td>[41.89506 42.7385 ]</td>\n",
       "      <td>1983</td>\n",
       "    </tr>\n",
       "  </tbody>\n",
       "</table>\n",
       "</div>"
      ],
      "text/plain": [
       "      Unnamed: 0  Event_ID  ID_HDC_G0 CTR_MN_NM  total_days  duration  \\\n",
       "1624        1624      1625       6503     India           4         2   \n",
       "\n",
       "      avg_temp  avg_intensity  tot_intensity                  event_dates  \\\n",
       "1624  42.31678        1.71678        3.43356  ['1983.06.23' '1983.06.24']   \n",
       "\n",
       "              intensity                 tmax  year  \n",
       "1624  [1.29506 2.1385 ]  [41.89506 42.7385 ]  1983  "
      ]
     },
     "execution_count": 5,
     "metadata": {},
     "output_type": "execute_result"
    }
   ],
   "source": [
    "# Open All data and subset\n",
    "\n",
    "all_df = pd.read_csv(DATA_IN+ALL_fn)\n",
    "country = 'India'\n",
    "\n",
    "# Select country\n",
    "country_df = all_df[all_df['CTR_MN_NM']==country]\n",
    "country_df.head(1)"
   ]
  },
  {
   "cell_type": "code",
   "execution_count": 8,
   "metadata": {},
   "outputs": [
    {
     "data": {
      "text/html": [
       "<div>\n",
       "<style scoped>\n",
       "    .dataframe tbody tr th:only-of-type {\n",
       "        vertical-align: middle;\n",
       "    }\n",
       "\n",
       "    .dataframe tbody tr th {\n",
       "        vertical-align: top;\n",
       "    }\n",
       "\n",
       "    .dataframe thead th {\n",
       "        text-align: right;\n",
       "    }\n",
       "</style>\n",
       "<table border=\"1\" class=\"dataframe\">\n",
       "  <thead>\n",
       "    <tr style=\"text-align: right;\">\n",
       "      <th></th>\n",
       "      <th>Unnamed: 0</th>\n",
       "      <th>Event_ID</th>\n",
       "      <th>ID_HDC_G0</th>\n",
       "      <th>CTR_MN_NM</th>\n",
       "      <th>total_days</th>\n",
       "      <th>duration</th>\n",
       "      <th>avg_temp</th>\n",
       "      <th>avg_intensity</th>\n",
       "      <th>tot_intensity</th>\n",
       "      <th>event_dates</th>\n",
       "      <th>intensity</th>\n",
       "      <th>tmax</th>\n",
       "      <th>year</th>\n",
       "      <th>P75</th>\n",
       "      <th>P90</th>\n",
       "      <th>P00</th>\n",
       "      <th>P15</th>\n",
       "      <th>geometry</th>\n",
       "    </tr>\n",
       "  </thead>\n",
       "  <tbody>\n",
       "    <tr>\n",
       "      <td>0</td>\n",
       "      <td>1624</td>\n",
       "      <td>1625</td>\n",
       "      <td>6503</td>\n",
       "      <td>India</td>\n",
       "      <td>4</td>\n",
       "      <td>2</td>\n",
       "      <td>42.31678</td>\n",
       "      <td>1.71678</td>\n",
       "      <td>3.43356</td>\n",
       "      <td>['1983.06.23' '1983.06.24']</td>\n",
       "      <td>[1.29506 2.1385 ]</td>\n",
       "      <td>[41.89506 42.7385 ]</td>\n",
       "      <td>1983</td>\n",
       "      <td>596039.793663</td>\n",
       "      <td>859575.302949</td>\n",
       "      <td>980601.763702</td>\n",
       "      <td>1.021219e+06</td>\n",
       "      <td>POLYGON ((74.82319034458011 32.79305967719036,...</td>\n",
       "    </tr>\n",
       "  </tbody>\n",
       "</table>\n",
       "</div>"
      ],
      "text/plain": [
       "   Unnamed: 0  Event_ID  ID_HDC_G0 CTR_MN_NM  total_days  duration  avg_temp  \\\n",
       "0        1624      1625       6503     India           4         2  42.31678   \n",
       "\n",
       "   avg_intensity  tot_intensity                  event_dates  \\\n",
       "0        1.71678        3.43356  ['1983.06.23' '1983.06.24']   \n",
       "\n",
       "           intensity                 tmax  year            P75            P90  \\\n",
       "0  [1.29506 2.1385 ]  [41.89506 42.7385 ]  1983  596039.793663  859575.302949   \n",
       "\n",
       "             P00           P15  \\\n",
       "0  980601.763702  1.021219e+06   \n",
       "\n",
       "                                            geometry  \n",
       "0  POLYGON ((74.82319034458011 32.79305967719036,...  "
      ]
     },
     "execution_count": 8,
     "metadata": {},
     "output_type": "execute_result"
    }
   ],
   "source": [
    "# Merge population data\n",
    "country_df = country_df.merge(df_pop, on='ID_HDC_G0', how = 'inner')\n",
    "country_df.head(1)\n"
   ]
  },
  {
   "cell_type": "code",
   "execution_count": 9,
   "metadata": {},
   "outputs": [],
   "source": [
    "# Write outsub set\n",
    "\n",
    "# shape file\n",
    "country_gdf = gpd.GeoDataFrame(country_df, geometry = 'geometry')\n",
    "country_gdf.to_file(country+'_TMax_EventsAll.shp')\n",
    "\n",
    "# csv\n",
    "country_df.to_csv(country+'_TMax_EventsAll.csv')"
   ]
  },
  {
   "cell_type": "code",
   "execution_count": 10,
   "metadata": {},
   "outputs": [
    {
     "data": {
      "text/plain": [
       "Index(['Unnamed: 0', 'Event_ID', 'ID_HDC_G0', 'CTR_MN_NM', 'total_days',\n",
       "       'duration', 'avg_temp', 'avg_intensity', 'tot_intensity', 'event_dates',\n",
       "       'intensity', 'tmax', 'year', 'P75', 'P90', 'P00', 'P15', 'geometry'],\n",
       "      dtype='object')"
      ]
     },
     "execution_count": 10,
     "metadata": {},
     "output_type": "execute_result"
    }
   ],
   "source": [
    "country_df.columns"
   ]
  }
 ],
 "metadata": {
  "kernelspec": {
   "display_name": "geo",
   "language": "python",
   "name": "geo"
  },
  "language_info": {
   "codemirror_mode": {
    "name": "ipython",
    "version": 3
   },
   "file_extension": ".py",
   "mimetype": "text/x-python",
   "name": "python",
   "nbconvert_exporter": "python",
   "pygments_lexer": "ipython3",
   "version": "3.6.7"
  }
 },
 "nbformat": 4,
 "nbformat_minor": 2
}
