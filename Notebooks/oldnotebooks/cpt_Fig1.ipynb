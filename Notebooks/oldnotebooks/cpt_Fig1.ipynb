{
 "cells": [
  {
   "cell_type": "markdown",
   "metadata": {},
   "source": [
    "# Figure 1\n",
    "\n",
    "- Notebook to make figure one\n",
    "- Moved from old on 2020.01.10\n",
    "- by Cascade Tuholske"
   ]
  },
  {
   "cell_type": "markdown",
   "metadata": {},
   "source": [
    "#### Dependencies"
   ]
  },
  {
   "cell_type": "code",
   "execution_count": 1,
   "metadata": {},
   "outputs": [],
   "source": [
    "import pandas as pd\n",
    "import geopandas as gpd\n",
    "import numpy as np  \n",
    "import matplotlib.pyplot as plt  \n",
    "import seaborn as seabornInstance \n",
    "from sklearn.model_selection import train_test_split \n",
    "from sklearn.linear_model import LinearRegression\n",
    "from sklearn import metrics\n",
    "import statsmodels.api as sm\n",
    "import seaborn as sns\n",
    "import glob"
   ]
  },
  {
   "cell_type": "markdown",
   "metadata": {},
   "source": [
    "#### Functions"
   ]
  },
  {
   "cell_type": "code",
   "execution_count": 2,
   "metadata": {},
   "outputs": [],
   "source": [
    "def make_pdays(df_stats, df_pop):\n",
    "    \n",
    "    \"Makes a dataframe with stats and population to calc people days\"\n",
    "    \n",
    "    # Make Population Long Format\n",
    "    pop_long = pd.wide_to_long(df_pop, stubnames = 'P', i = 'ID_HDC_G0', j = 'year')\n",
    "    pop_long.reset_index(level=0, inplace=True)\n",
    "    pop_long.reset_index(level=0, inplace=True)\n",
    "    pop_long = pop_long.drop('Unnamed: 0', axis = 1)\n",
    "    \n",
    "    # Get Total Days \n",
    "    data = df_stats.drop_duplicates(['year', 'ID_HDC_G0'], keep = 'first') # drop out duplicates\n",
    "    pdays = pd.DataFrame()\n",
    "    pdays['ID_HDC_G0'] = data['ID_HDC_G0']\n",
    "    pdays['year'] = data['year']\n",
    "    pdays['total_days'] = data['total_days']\n",
    "    pdays['CTR_MN_NM'] = data['CTR_MN_NM']\n",
    "    #pdays['sub-region'] = data['sub-region']\n",
    "    #pdays['region'] = data['region']\n",
    "    #pdays['intermediate-region'] = data['intermediate-region']\n",
    "    \n",
    "    # Merge\n",
    "    pdays_merge = pdays.merge(pop_long, on=['ID_HDC_G0', 'year'], how = 'left')\n",
    "\n",
    "    # Now get people days from 1983 and change\n",
    "    p = pd.DataFrame()\n",
    "    p['ID_HDC_G0'] = df_pop['ID_HDC_G0']\n",
    "    p['P1983'] = df_pop['P1983']\n",
    "    p['P2016'] = df_pop['P2016']\n",
    "#    p['p_delt'] = (df_pop['P2016'] - df_pop['P1983']) / df_pop['P1983'] * 100\n",
    "\n",
    "    pdays_merge = pdays_merge.merge(p ,on=['ID_HDC_G0'], how = 'left')\n",
    "    \n",
    "    # Calc p days = total days i * pop i \n",
    "    pdays_merge['people_days'] = pdays_merge['total_days'] * pdays_merge['P'] / 10**9 # total people days\n",
    "    \n",
    "    # Pdays due to heat increase = total days i - pop 83 - (total days 83 - pop 83) <<-- back out when graphing\n",
    "    pdays_merge['people_days_heat'] = pdays_merge['total_days'] * pdays_merge['P1983'] / 10**9 # people days w/ pop con\n",
    "    \n",
    "    # Pdays due to pop increase = total days i * (pop i - pop 83)\n",
    "    pdays_merge['people_days_pop'] = pdays_merge['total_days'] *(pdays_merge['P'] - pdays_merge['P1983']) /10**9 # dif\n",
    "\n",
    "    return pdays_merge"
   ]
  },
  {
   "cell_type": "code",
   "execution_count": 3,
   "metadata": {},
   "outputs": [],
   "source": [
    "def add_years(df):\n",
    "    \"\"\" Function adds zero to people days for all missing years for each city \n",
    "    so that regressions aren't screwed up\"\"\"\n",
    "    \n",
    "    row_list = []\n",
    "    counter = 0\n",
    "    \n",
    "    for city in list(np.unique(df['ID_HDC_G0'])):\n",
    "        city_id = city\n",
    "        city_df = df.loc[df['ID_HDC_G0'] == city]\n",
    "        city_years = list(np.unique(city_df['year']))\n",
    "        years = list(np.unique(df_data['year']))\n",
    "        \n",
    "        years_dif = list(set(years) - set(city_years))\n",
    "        \n",
    "        #print(len(years_dif))\n",
    "        if len(years_dif) > 0:\n",
    "            \n",
    "            counter = counter + len(years_dif)\n",
    "            \n",
    "            for year in years_dif:\n",
    "                row = []\n",
    "                row.append(city) # city id\n",
    "                row.append(year) # missing year\n",
    "                row.append(0) # total days\n",
    "                row.append(list(df[(df['ID_HDC_G0'] == city)]['CTR_MN_NM'])[0]) # country\n",
    "                #row.append(list(df[(df['ID_HDC_G0'] == city)]['sub-region'])[0]) # sub-region\n",
    "                #row.append(list(df[(df['ID_HDC_G0'] == city)]['region'])[0]) # region\n",
    "                #row.append(list(df[(df['ID_HDC_G0'] == city)]['intermediate-region'])[0]) #intermediate-region\n",
    "                row.append(float(df_pop[(df_pop['ID_HDC_G0'] == city)]['P'+str(year)])) # pop year\n",
    "                row.append(float(df_pop[(df_pop['ID_HDC_G0'] == city)]['P'+str(1983)])) # pop 83\n",
    "                row.append(float(df_pop[(df_pop['ID_HDC_G0'] == city)]['P'+str(2016)])) # pop 16\n",
    "                row.append(0) # days\n",
    "                row.append(0) # pdays 83\n",
    "                row.append(0) # pdays diff\n",
    "                \n",
    "                row_list.append(row)\n",
    "    \n",
    "    df_new = pd.DataFrame(row_list, columns= df.columns)\n",
    "    #print('new', len(df_new))\n",
    "    #print('df', len(df))\n",
    "    #print('sum', len(df)+len(df_new))\n",
    "    \n",
    "    df_new = df.append(df_new)\n",
    "    #print('final', len(df))\n",
    "    \n",
    "    return df_new, counter"
   ]
  },
  {
   "cell_type": "code",
   "execution_count": 4,
   "metadata": {},
   "outputs": [],
   "source": [
    "# Regressions, no intercept addition is needed because we're using SK LEARN HERE \n",
    "\n",
    "def lm_func(df, col, scale):\n",
    "    \n",
    "    \"simple linear model of a time series data, returns coef\"\n",
    "    \n",
    "    # Get Data\n",
    "    X_year = np.array(df.groupby('year')['ID_HDC_G0'].mean().index).reshape((-1, 1))\n",
    "    Y_stats = np.array(df.groupby('year')[col].sum()).reshape((-1, 1))\n",
    "\n",
    "    # Add Intercept\n",
    "    X_year_2 = sm.add_constant(X_year)\n",
    "\n",
    "    # Regress\n",
    "    model = sm.OLS(Y_stats, X_year_2).fit() \n",
    "        \n",
    "    coef = int(model.params[1]*scale)\n",
    "    #coef = int(coef)\n",
    "            \n",
    "    # R2 and P\n",
    "    r2 = model.rsquared_adj\n",
    "    p = model.pvalues[0]\n",
    "    \n",
    "    return coef, round(r2, 2), round(p, 3)\n"
   ]
  },
  {
   "cell_type": "markdown",
   "metadata": {},
   "source": [
    "# RAW HEAT PLOT"
   ]
  },
  {
   "cell_type": "markdown",
   "metadata": {},
   "source": [
    "#### Open Files"
   ]
  },
  {
   "cell_type": "code",
   "execution_count": 6,
   "metadata": {},
   "outputs": [],
   "source": [
    "# file paths\n",
    "DATA_IN = \"/home/cascade/projects/UrbanHeat/data/\"  # Note: Need ?dl=1 to make sure this file gets read correctly\n",
    "FIG_OUT = \"/home/cascade/projects/UrbanHeat/figures/\"\n",
    "\n",
    "# Raw Heat\n",
    "FN_raw = 'processed/oldworkflow/All_data_Raw406_es_final.csv'\n",
    "raw_stats = pd.read_csv(DATA_IN+FN_raw)\n",
    "\n",
    "# HI Heat\n",
    "# FN_hi = 'processed/All_data_HI406.csv'\n",
    "# hi_stats = pd.read_csv(DATA_IN+FN_hi)\n",
    "\n",
    "FN_pop = 'interim/GHS-UCDB-Interp.csv'\n",
    "df_pop = pd.read_csv(DATA_IN+FN_pop)"
   ]
  },
  {
   "cell_type": "code",
   "execution_count": 10,
   "metadata": {},
   "outputs": [
    {
     "data": {
      "text/plain": [
       "year  ID_HDC_G0\n",
       "1983  28           1\n",
       "      29           2\n",
       "      33           1\n",
       "      34           2\n",
       "      35           2\n",
       "                  ..\n",
       "2016  13024        1\n",
       "      13025        1\n",
       "      13027        1\n",
       "      13041        2\n",
       "      13042        3\n",
       "Name: duration, Length: 153517, dtype: int64"
      ]
     },
     "execution_count": 10,
     "metadata": {},
     "output_type": "execute_result"
    }
   ],
   "source": [
    "raw_stats.groupby(['year', 'ID_HDC_G0'])['duration'].sum()"
   ]
  },
  {
   "cell_type": "markdown",
   "metadata": {},
   "source": [
    "#### Make data"
   ]
  },
  {
   "cell_type": "code",
   "execution_count": null,
   "metadata": {},
   "outputs": [],
   "source": [
    "df_data = make_pdays(raw_stats, df_pop)"
   ]
  },
  {
   "cell_type": "code",
   "execution_count": null,
   "metadata": {
    "scrolled": true
   },
   "outputs": [],
   "source": [
    "df_data.shape"
   ]
  },
  {
   "cell_type": "code",
   "execution_count": null,
   "metadata": {},
   "outputs": [],
   "source": [
    "df_data, counter = add_years(df_data)"
   ]
  },
  {
   "cell_type": "code",
   "execution_count": null,
   "metadata": {},
   "outputs": [],
   "source": [
    "counter "
   ]
  },
  {
   "cell_type": "code",
   "execution_count": null,
   "metadata": {},
   "outputs": [],
   "source": [
    "85435+153517"
   ]
  },
  {
   "cell_type": "code",
   "execution_count": null,
   "metadata": {},
   "outputs": [],
   "source": [
    "df_data.shape"
   ]
  },
  {
   "cell_type": "code",
   "execution_count": null,
   "metadata": {},
   "outputs": [],
   "source": [
    "#df_data.to_csv(DATA_IN+'processed/All_data_Raw406_es_final_pdayadd.csv')"
   ]
  },
  {
   "cell_type": "code",
   "execution_count": null,
   "metadata": {
    "scrolled": false
   },
   "outputs": [],
   "source": [
    "fig, axs = plt.subplots(1, 3, figsize = (15, 5), sharex=True)\n",
    "\n",
    "## PLOT 1 - People Days\n",
    "data = df_data.groupby('year')['people_days'].sum() \n",
    "years = list(data.index)\n",
    "axs[0].plot(data, color = 'blue', linestyle = ':', alpha = 0.5)\n",
    "axs[0].fill_between(years, data, color = 'blue', alpha = 0.1, label='_nolegend_')\n",
    "sns.regplot(years, data, color = 'blue', ax = axs[0], scatter = False, truncate = True)\n",
    "axs[0].set_title('Increase in total people-days', size = 15 )\n",
    "axs[0].set_ylabel('People-days [billions]', fontsize = 13)\n",
    "\n",
    "# Add text\n",
    "coef, r2, p = lm_func(df_data, 'people_days', 10**3)\n",
    "text = str(coef)+'m increase in people-\\ndays per year ($R^2$=' + str(r2) + ')*'\n",
    "axs[0].text(0.07, .8, text, transform=axs[0].transAxes, size=12)\n",
    "\n",
    "#2 PLOT 2 - People Days delta pop x days\n",
    "data = df_data.groupby('year')['people_days_pop'].sum() \n",
    "axs[1].plot(data, color = 'red', linestyle = ':', alpha = 0.5)\n",
    "axs[1].fill_between(years, data, color = 'red', alpha = 0.1, label='_nolegend_')\n",
    "sns.regplot(years, data, color = 'red', ax = axs[1], scatter = False, truncate = True)\n",
    "axs[1].set_title('Increase due to population change', size = 14)\n",
    "axs[1].set_ylabel('')\n",
    "\n",
    "# Add text\n",
    "coef, r2, p = lm_func(df_data, 'people_days_pop', 10**3)\n",
    "text = str(coef)+'m increase in people-\\ndays per year ($R^2$=' + str(r2) + ')*'\n",
    "axs[1].text(1.25, .8, text, transform=axs[0].transAxes, size=12)\n",
    "\n",
    "## PLOT 3 - People Days due to heat\n",
    "data = df_data.groupby('year')['people_days_heat'].sum()\n",
    "# pdays83 = data.get(data.index[0])\n",
    "# data = data - pdays83\n",
    "years = list(data.index)\n",
    "axs[2].plot(data, color = 'green', linestyle = ':', alpha = 0.5)\n",
    "axs[2].fill_between(years, data, color = 'green', alpha = 0.1, label='_nolegend_')\n",
    "sns.regplot(years, data, color = 'green', ax = axs[2], scatter = False, truncate = True)\n",
    "axs[2].set_title('Increase due to change in urban climate', size = 14)\n",
    "axs[2].set_ylabel('')\n",
    "\n",
    "# Add text\n",
    "coef, r2, p = lm_func(df_data, 'people_days_heat', 10**3)\n",
    "text = str(coef)+'m increase in people-\\ndays per year ($R^2$=' + str(r2) + ')*'\n",
    "axs[2].text(1.25*2-0.04, .8, text, transform=axs[0].transAxes, size=12,)\n",
    "\n",
    "# Set y-axis\n",
    "# for ax in fig.get_axes():\n",
    "#     ax.label_outer()\n",
    "\n",
    "# Title\n",
    "# axs.set_title('Dayi * (Pi - P83)', fontsize = 20)\n",
    "# axs.set_ylabel('Person Days [Billions]', fontsize = 20)\n",
    "# axs.set_xlabel('Year', fontsize = 20)\n",
    "# axs.tick_params(labelsize = 15)\n",
    "\n",
    "#plt.savefig(FIG_OUT+'FIG1.png')"
   ]
  },
  {
   "cell_type": "code",
   "execution_count": null,
   "metadata": {},
   "outputs": [],
   "source": [
    "coef_pd, r2, p = lm_func(df_data, 'people_days', 10**9)\n",
    "coef_p, r2, p = lm_func(df_data, 'people_days_pop', 10**9)\n",
    "coef_h, r2, p = lm_func(df_data, 'people_days_heat', 10**9)"
   ]
  },
  {
   "cell_type": "code",
   "execution_count": null,
   "metadata": {
    "scrolled": true
   },
   "outputs": [],
   "source": [
    "print(coef_pd)\n",
    "print(coef_p + coef_h)"
   ]
  },
  {
   "cell_type": "markdown",
   "metadata": {},
   "source": [
    "# HI HEAT PLOT"
   ]
  },
  {
   "cell_type": "markdown",
   "metadata": {},
   "source": [
    "#### Open Files"
   ]
  },
  {
   "cell_type": "code",
   "execution_count": null,
   "metadata": {},
   "outputs": [],
   "source": [
    "# file paths\n",
    "DATA_IN = \"/home/cascade/projects/UrbanHeat/data/\"  # Note: Need ?dl=1 to make sure this file gets read correctly\n",
    "FIG_OUT = \"/home/cascade/projects/UrbanHeat/figures/\"\n",
    "\n",
    "# Raw Heat\n",
    "FN_HI = 'processed/All_data_HI406.csv'\n",
    "HI_stats = pd.read_csv(DATA_IN+FN_HI)\n",
    "\n",
    "# HI Heat\n",
    "# FN_hi = 'processed/All_data_HI406.csv'\n",
    "# hi_stats = pd.read_csv(DATA_IN+FN_hi)\n",
    "\n",
    "FN_pop = 'interim/GHS-UCDB-Interp.csv'\n",
    "df_pop = pd.read_csv(DATA_IN+FN_pop)"
   ]
  },
  {
   "cell_type": "markdown",
   "metadata": {},
   "source": [
    "#### Make data"
   ]
  },
  {
   "cell_type": "code",
   "execution_count": null,
   "metadata": {},
   "outputs": [],
   "source": [
    "df_data = make_pdays(HI_stats, df_pop)"
   ]
  },
  {
   "cell_type": "code",
   "execution_count": null,
   "metadata": {
    "scrolled": true
   },
   "outputs": [],
   "source": [
    "df_data.shape"
   ]
  },
  {
   "cell_type": "code",
   "execution_count": null,
   "metadata": {},
   "outputs": [],
   "source": [
    "df_data, counter = add_years(df_data)"
   ]
  },
  {
   "cell_type": "code",
   "execution_count": null,
   "metadata": {},
   "outputs": [],
   "source": [
    "df_data.shape"
   ]
  },
  {
   "cell_type": "code",
   "execution_count": null,
   "metadata": {},
   "outputs": [],
   "source": [
    "#df_data.to_csv(DATA_IN+'processed/All_data_Raw406_es_final_pdayadd.csv')"
   ]
  },
  {
   "cell_type": "code",
   "execution_count": null,
   "metadata": {
    "scrolled": false
   },
   "outputs": [],
   "source": [
    "fig, axs = plt.subplots(1, 3, figsize = (15, 5), sharex=True)\n",
    "\n",
    "## PLOT 1 - People Days\n",
    "data = df_data.groupby('year')['people_days'].sum() \n",
    "years = list(data.index)\n",
    "axs[0].plot(data, color = 'blue', linestyle = ':', alpha = 0.5)\n",
    "axs[0].fill_between(years, data, color = 'blue', alpha = 0.1, label='_nolegend_')\n",
    "sns.regplot(years, data, color = 'blue', ax = axs[0], scatter = False, truncate = True)\n",
    "axs[0].set_title('Total people-days', size = 15 )\n",
    "axs[0].set_ylabel('People-days [billions]', fontsize = 13)\n",
    "\n",
    "# Add text\n",
    "#coef, r2, p = lm_func(df_data, 'people_days', 10**3)\n",
    "#text = str(coef)+'m increase in people-\\ndays per year ($R^2$=' + str(r2) + ')*'\n",
    "#axs[0].text(0.07, .8, text, transform=axs[0].transAxes, size=12)\n",
    "\n",
    "#2 PLOT 2 - People Days delta pop x days\n",
    "data = df_data.groupby('year')['people_days_pop'].sum() \n",
    "axs[1].plot(data, color = 'red', linestyle = ':', alpha = 0.5)\n",
    "axs[1].fill_between(years, data, color = 'red', alpha = 0.1, label='_nolegend_')\n",
    "\n",
    "\n",
    "\n",
    "\n",
    "#sns.regplot(years, data, color = 'red', ax = axs[1], scatter = False, truncate = True)\n",
    "axs[1].set_title('Increase due to population change', size = 14)\n",
    "axs[1].set_ylabel('')\n",
    "\n",
    "# Add text\n",
    "#coef, r2, p = lm_func(df_data, 'people_days_pop', 10**3)\n",
    "#text = str(coef)+'m increase in people-\\ndays per year ($R^2$=' + str(r2) + ')*'\n",
    "#axs[1].text(1.25, .8, text, transform=axs[0].transAxes, size=12)\n",
    "\n",
    "## PLOT 3 - People Days due to heat\n",
    "data = df_data.groupby('year')['people_days_heat'].sum()\n",
    "pdays83 = data.get(data.index[0])\n",
    "data = data - pdays83\n",
    "\n",
    "## ploy fit\n",
    "x = np.array(years)-1983\n",
    "y = np.array(data)\n",
    "x = x[:,np.newaxis]\n",
    "a, _, _, _ = np.linalg.lstsq(x, y)\n",
    "axs[2].plot(x+1983, a*x, 'r-')\n",
    "\n",
    "years = list(data.index)\n",
    "axs[2].plot(data, color = 'green', linestyle = ':', alpha = 0.5)\n",
    "axs[2].fill_between(years, data, color = 'green', alpha = 0.1, label='_nolegend_')\n",
    "sns.regplot(years, data, color = 'green', ax = axs[2], scatter = False, truncate = True)\n",
    "axs[2].set_title('Increase due to change in urban climate', size = 14)\n",
    "axs[2].set_ylabel('')\n",
    "\n",
    "# Add text\n",
    "#coef, r2, p = lm_func(df_data, 'people_days_heat', 10**3)\n",
    "#text = str(coef)+'m increase in people-\\ndays per year ($R^2$=' + str(r2) + ')*'\n",
    "#axs[2].text(1.25*2-0.04, .8, text, transform=axs[0].transAxes, size=12,)\n",
    "\n",
    "# Set y-axis\n",
    "# for ax in fig.get_axes():\n",
    "#     ax.label_outer()\n",
    "\n",
    "# Title\n",
    "# axs.set_title('Dayi * (Pi - P83)', fontsize = 20)\n",
    "# axs.set_ylabel('Person Days [Billions]', fontsize = 20)\n",
    "# axs.set_xlabel('Year', fontsize = 20)\n",
    "# axs.tick_params(labelsize = 15)\n",
    "\n",
    "#plt.savefig(FIG_OUT+'FIG1.png')"
   ]
  },
  {
   "cell_type": "code",
   "execution_count": null,
   "metadata": {},
   "outputs": [],
   "source": [
    "coef_pd, r2, p = lm_func(df_data, 'people_days', 10**9)\n",
    "coef_p, r2, p = lm_func(df_data, 'people_days_pop', 10**9)\n",
    "coef_h, r2, p = lm_func(df_data, 'people_days_heat', 10**9)"
   ]
  },
  {
   "cell_type": "code",
   "execution_count": null,
   "metadata": {
    "scrolled": true
   },
   "outputs": [],
   "source": [
    "print(coef_pd)\n",
    "print(coef_p + coef_h)"
   ]
  }
 ],
 "metadata": {
  "kernelspec": {
   "display_name": "geo",
   "language": "python",
   "name": "geo"
  },
  "language_info": {
   "codemirror_mode": {
    "name": "ipython",
    "version": 3
   },
   "file_extension": ".py",
   "mimetype": "text/x-python",
   "name": "python",
   "nbconvert_exporter": "python",
   "pygments_lexer": "ipython3",
   "version": "3.6.7"
  }
 },
 "nbformat": 4,
 "nbformat_minor": 2
}
