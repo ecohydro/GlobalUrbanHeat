{
 "cells": [
  {
   "cell_type": "markdown",
   "metadata": {},
   "source": [
    "# Figure 2 Final\n",
    "\n",
    "Notebook to make figure 2 for ms <br>\n",
    "by Cascade Tuholske 2020.02.23"
   ]
  },
  {
   "cell_type": "code",
   "execution_count": null,
   "metadata": {},
   "outputs": [],
   "source": [
    "#### Depdencies \n",
    "import pandas as pd\n",
    "import numpy as np\n",
    "import geopandas as gpd\n",
    "import matplotlib.pyplot as plt\n",
    "import statsmodels.api as sm\n",
    "import seaborn as sns\n",
    "from scipy.optimize import fmin\n",
    "from scipy.stats import beta\n",
    "from scipy.special import gamma as gammaf\n",
    "import scipy\n"
   ]
  },
  {
   "cell_type": "code",
   "execution_count": 2,
   "metadata": {},
   "outputs": [],
   "source": [
    "#### Functions\n",
    "def OLS(df, geog, col, alpha):\n",
    "    \n",
    "    \"\"\"Finds linear coef for increase in stat by a given geography from 1983 - 2016, as well\n",
    "    as the pct change in population of the cities within the given geography\n",
    "    \n",
    "    \n",
    "    Args:\n",
    "        df = HI stats dataframe\n",
    "        geog = subset geography to calc people days regression\n",
    "        col = col to regress on \n",
    "        alpha = ci alpha for coef \n",
    "    \"\"\"\n",
    "\n",
    "    # Get results\n",
    "    labels = []\n",
    "    #delt_list = [] #CPT 2020.02.26\n",
    "    #r2_list = [] #CPT 2020.02.26\n",
    "    coef_list = []\n",
    "    leftci_list = []\n",
    "    rightci_list = []\n",
    "    p_list = []\n",
    "    df_out = pd.DataFrame()\n",
    "\n",
    "    for label, df_geog in df.groupby(geog):\n",
    "\n",
    "        # Get Data\n",
    "        X_year = np.array(df_geog.groupby('year')['ID_HDC_G0'].mean().index).reshape((-1, 1))\n",
    "        Y_stats = np.array(df_geog.groupby('year')[col].sum()).reshape((-1, 1))\n",
    "\n",
    "        # Add Intercept\n",
    "        X_year_2 = sm.add_constant(X_year)\n",
    "\n",
    "        # Regress\n",
    "        model = sm.OLS(Y_stats, X_year_2).fit() \n",
    "        \n",
    "        # Get slope\n",
    "        # first param in intercept coef, second is slope of line but if slope = 0, then intecept\n",
    "        if len(model.params) == 2:\n",
    "            coef = model.params[1]\n",
    "            \n",
    "        else:\n",
    "            coef = model.params[0]\n",
    "        \n",
    "        # R2 and P\n",
    "        #r2 = model.rsquared_adj #CPT 2020.02.26\n",
    "        p = model.pvalues[0]\n",
    "\n",
    "        # Pop change #CPT 2020.02.26\n",
    "#         delt = df_geog.drop_duplicates('ID_HDC_G0').copy()\n",
    "#         delt['delt_pop'] = delt['P2016'] - delt['P1983']\n",
    "#         delt = delt['delt_pop'].sum()\n",
    "\n",
    "        # GET Left and Right CI\n",
    "        left_ci = model.conf_int(alpha=alpha)[1][0]\n",
    "        right_ci = model.conf_int(alpha=alpha)[1][1]\n",
    "        \n",
    "        # Make lists\n",
    "        labels.append(label)\n",
    "        #r2_list.append(r2) #CPT 2020.02.26\n",
    "        coef_list.append(coef)\n",
    "        p_list.append(p)\n",
    "        leftci_list.append(left_ci)\n",
    "        rightci_list.append(right_ci)\n",
    "        #delt_list.append(delt) #CPT 2020.02.26\n",
    "\n",
    "    # Make data frame\n",
    "    df_out[geog] = labels\n",
    "    #df_out['p_delt'] = delt_list #CPT 2020.02.26\n",
    "    #df_out['r2'] = r2_list #CPT 2020.02.26\n",
    "    df_out['coef'] = coef_list\n",
    "    df_out['p_value'] = [round(elem, 4) for elem in p_list]\n",
    "    df_out['ci_left'] = leftci_list\n",
    "    df_out['ci_right'] = rightci_list \n",
    "\n",
    "    return df_out\n"
   ]
  },
  {
   "cell_type": "code",
   "execution_count": 3,
   "metadata": {},
   "outputs": [],
   "source": [
    "def run_OLS(stats, geog, alpha):\n",
    "    \"\"\" Function calculate OLS coef of people days due to pop and heat and the \n",
    "    attribution index for distribution plots\n",
    "    \n",
    "    Args:\n",
    "        stats = df to feed in\n",
    "        geog = geography level to conduct analysis (city-level is 'ID-HDC-G0')\n",
    "        alpha = alpha for CI coef \n",
    "    \n",
    "    \"\"\"\n",
    "    # Get coef for people days\n",
    "    out = OLS(stats, geog, 'people_days', alpha = alpha)\n",
    "    out.rename(columns={\"coef\": \"coef_pdays\"}, inplace = True)\n",
    "    out.rename(columns={\"p_value\": \"p_value_pdays\"}, inplace = True)\n",
    "    out.rename(columns={\"ci_left\": \"ci_left_pdays\"}, inplace = True)\n",
    "    out.rename(columns={\"ci_right\": \"ci_right_pdays\"}, inplace = True)\n",
    "    \n",
    "    # Get people days due to heat coef\n",
    "    heat = OLS(stats, geog, 'people_days_heat', alpha = alpha) # get stats \n",
    "    heat.rename(columns={\"coef\": \"coef_heat\"}, inplace = True)\n",
    "    heat.rename(columns={\"p_value\": \"p_value_heat\"}, inplace = True)\n",
    "    heat.rename(columns={\"ci_left\": \"ci_left_heat\"}, inplace = True)\n",
    "    heat.rename(columns={\"ci_right\": \"ci_right_heat\"}, inplace = True)\n",
    "    out = out.merge(heat, on = geog, how = 'left') # merge\n",
    "    \n",
    "    # Get people days due to pop\n",
    "    pop = OLS(stats, geog, 'people_days_pop', alpha = alpha) # get stats \n",
    "    pop.rename(columns={\"coef\": \"coef_pop\"}, inplace = True)\n",
    "    pop.rename(columns={\"p_value\": \"p_value_pop\"}, inplace = True)\n",
    "    pop.rename(columns={\"ci_left\": \"ci_left_pop\"}, inplace = True)\n",
    "    pop.rename(columns={\"ci_right\": \"ci_right_pop\"}, inplace = True)\n",
    "    out = out.merge(pop, on = geog, how = 'left') # merge\n",
    "    \n",
    "    # Get total days\n",
    "    totDays = OLS(stats, geog, 'total_days', alpha = alpha) # get stats \n",
    "    totDays.rename(columns={\"coef\": \"coef_totDays\"}, inplace = True)\n",
    "    totDays.rename(columns={\"p_value\": \"p_value_totDays\"}, inplace = True)\n",
    "    totDays.rename(columns={\"ci_left\": \"ci_left_totDays\"}, inplace = True)\n",
    "    totDays.rename(columns={\"ci_right\": \"ci_right_totDays\"}, inplace = True)\n",
    "    out = out.merge(totDays, on = geog, how = 'left') # merge\n",
    "    \n",
    "    # attrib coef --- creates range -1 to 1 index of heat vs. population as a driver of total pdays increase\n",
    "    out['coef_attrib'] = (out['coef_pop'] - out['coef_heat']) / (out['coef_pop'] + out['coef_heat']) # normalize dif\n",
    "    out['coef_attrib_left'] = (out['ci_left_pop'] - out['ci_left_heat']) / (out['ci_left_pop'] + out['ci_left_heat']) # normalize dif\n",
    "    out['coef_attrib_right'] = (out['ci_right_pop'] - out['ci_right_heat']) / (out['ci_right_pop'] + out['ci_left_heat']) # normalize dif\n",
    "    \n",
    "    # drop all neg or zero pday slopes\n",
    "    out = out[out['coef_pdays'] > 0]\n",
    "    out = out[out['coef_heat'] > 0]\n",
    "    out = out[out['coef_pop'] > 0]\n",
    "    \n",
    "    # normalize coef of attribution \n",
    "    norm = out['coef_attrib']\n",
    "    out['coef_attrib_norm'] = (norm-min(norm))/(max(norm)-min(norm))\n",
    "    norm = out['coef_attrib_left']\n",
    "    out['coef_attrib_norm_left'] = (norm-min(norm))/(max(norm)-min(norm))\n",
    "    norm = out['coef_attrib_right']\n",
    "    out['coef_attrib_norm_right'] = (norm-min(norm))/(max(norm)-min(norm))\n",
    "    \n",
    "    return out"
   ]
  },
  {
   "cell_type": "code",
   "execution_count": 4,
   "metadata": {},
   "outputs": [],
   "source": [
    "#### Load Data\n",
    "# file path\n",
    "DATA_IN = \"/home/cascade/projects/UrbanHeat/data/\"  # Note: Need ?dl=1 to make sure this file gets read correctly\n",
    "FIG_OUT = \"/home/cascade/projects/UrbanHeat/figures/\"\n",
    "\n",
    "# Raw Heat\n",
    "FN_IN = 'processed/All_data_HI406_figdata.csv'\n",
    "HI_STATS = pd.read_csv(DATA_IN+FN_IN)\n",
    "\n",
    "# scale the date in the plot \n",
    "scale = 10**9 "
   ]
  },
  {
   "cell_type": "code",
   "execution_count": 5,
   "metadata": {},
   "outputs": [
    {
     "data": {
      "text/html": [
       "<div>\n",
       "<style scoped>\n",
       "    .dataframe tbody tr th:only-of-type {\n",
       "        vertical-align: middle;\n",
       "    }\n",
       "\n",
       "    .dataframe tbody tr th {\n",
       "        vertical-align: top;\n",
       "    }\n",
       "\n",
       "    .dataframe thead th {\n",
       "        text-align: right;\n",
       "    }\n",
       "</style>\n",
       "<table border=\"1\" class=\"dataframe\">\n",
       "  <thead>\n",
       "    <tr style=\"text-align: right;\">\n",
       "      <th></th>\n",
       "      <th>Unnamed: 0</th>\n",
       "      <th>ID_HDC_G0</th>\n",
       "      <th>year</th>\n",
       "      <th>total_days</th>\n",
       "      <th>P</th>\n",
       "      <th>P1983</th>\n",
       "      <th>P2016</th>\n",
       "      <th>people_days</th>\n",
       "      <th>people_days_heat</th>\n",
       "      <th>people_days_pop</th>\n",
       "    </tr>\n",
       "  </thead>\n",
       "  <tbody>\n",
       "    <tr>\n",
       "      <td>0</td>\n",
       "      <td>0</td>\n",
       "      <td>22</td>\n",
       "      <td>1983</td>\n",
       "      <td>2</td>\n",
       "      <td>52064.452435</td>\n",
       "      <td>52064.452435</td>\n",
       "      <td>73006.671133</td>\n",
       "      <td>0.000104</td>\n",
       "      <td>0.000104</td>\n",
       "      <td>0.0</td>\n",
       "    </tr>\n",
       "    <tr>\n",
       "      <td>1</td>\n",
       "      <td>1</td>\n",
       "      <td>26</td>\n",
       "      <td>1983</td>\n",
       "      <td>1</td>\n",
       "      <td>194088.886834</td>\n",
       "      <td>194088.886834</td>\n",
       "      <td>268055.635628</td>\n",
       "      <td>0.000194</td>\n",
       "      <td>0.000194</td>\n",
       "      <td>0.0</td>\n",
       "    </tr>\n",
       "    <tr>\n",
       "      <td>2</td>\n",
       "      <td>2</td>\n",
       "      <td>27</td>\n",
       "      <td>1983</td>\n",
       "      <td>1</td>\n",
       "      <td>80540.779940</td>\n",
       "      <td>80540.779940</td>\n",
       "      <td>93335.494324</td>\n",
       "      <td>0.000081</td>\n",
       "      <td>0.000081</td>\n",
       "      <td>0.0</td>\n",
       "    </tr>\n",
       "    <tr>\n",
       "      <td>3</td>\n",
       "      <td>3</td>\n",
       "      <td>28</td>\n",
       "      <td>1983</td>\n",
       "      <td>9</td>\n",
       "      <td>59320.971209</td>\n",
       "      <td>59320.971209</td>\n",
       "      <td>91449.606255</td>\n",
       "      <td>0.000534</td>\n",
       "      <td>0.000534</td>\n",
       "      <td>0.0</td>\n",
       "    </tr>\n",
       "    <tr>\n",
       "      <td>4</td>\n",
       "      <td>4</td>\n",
       "      <td>29</td>\n",
       "      <td>1983</td>\n",
       "      <td>8</td>\n",
       "      <td>336518.836621</td>\n",
       "      <td>336518.836621</td>\n",
       "      <td>533318.453653</td>\n",
       "      <td>0.002692</td>\n",
       "      <td>0.002692</td>\n",
       "      <td>0.0</td>\n",
       "    </tr>\n",
       "  </tbody>\n",
       "</table>\n",
       "</div>"
      ],
      "text/plain": [
       "   Unnamed: 0  ID_HDC_G0  year  total_days              P          P1983  \\\n",
       "0           0         22  1983           2   52064.452435   52064.452435   \n",
       "1           1         26  1983           1  194088.886834  194088.886834   \n",
       "2           2         27  1983           1   80540.779940   80540.779940   \n",
       "3           3         28  1983           9   59320.971209   59320.971209   \n",
       "4           4         29  1983           8  336518.836621  336518.836621   \n",
       "\n",
       "           P2016  people_days  people_days_heat  people_days_pop  \n",
       "0   73006.671133     0.000104          0.000104              0.0  \n",
       "1  268055.635628     0.000194          0.000194              0.0  \n",
       "2   93335.494324     0.000081          0.000081              0.0  \n",
       "3   91449.606255     0.000534          0.000534              0.0  \n",
       "4  533318.453653     0.002692          0.002692              0.0  "
      ]
     },
     "execution_count": 5,
     "metadata": {},
     "output_type": "execute_result"
    }
   ],
   "source": [
    "HI_STATS.head()"
   ]
  },
  {
   "cell_type": "code",
   "execution_count": 6,
   "metadata": {},
   "outputs": [],
   "source": [
    "# cols we want to add to HI_STATS\n",
    "cols = ['region', 'intermediate-region', 'sub-region','CTR_MN_NM', 'ID_HDC_G0'] \n",
    "\n",
    "# open all the data\n",
    "meta_fn = 'processed/All_data_HI406_meta.csv' # open all the data\n",
    "all_data = pd.read_csv(DATA_IN+meta_fn)\n",
    "\n",
    "# drop ID duplicates\n",
    "meta = all_data.drop_duplicates('ID_HDC_G0')\n",
    "meta = meta[cols]"
   ]
  },
  {
   "cell_type": "code",
   "execution_count": 7,
   "metadata": {},
   "outputs": [
    {
     "name": "stdout",
     "output_type": "stream",
     "text": [
      "5616932\n",
      "11558\n",
      "392972\n",
      "11558\n"
     ]
    }
   ],
   "source": [
    "print(len(all_data))\n",
    "print(len(all_data.drop_duplicates('ID_HDC_G0')))\n",
    "print(len(HI_STATS))\n",
    "print(len(meta))"
   ]
  },
  {
   "cell_type": "code",
   "execution_count": 8,
   "metadata": {},
   "outputs": [
    {
     "data": {
      "text/html": [
       "<div>\n",
       "<style scoped>\n",
       "    .dataframe tbody tr th:only-of-type {\n",
       "        vertical-align: middle;\n",
       "    }\n",
       "\n",
       "    .dataframe tbody tr th {\n",
       "        vertical-align: top;\n",
       "    }\n",
       "\n",
       "    .dataframe thead th {\n",
       "        text-align: right;\n",
       "    }\n",
       "</style>\n",
       "<table border=\"1\" class=\"dataframe\">\n",
       "  <thead>\n",
       "    <tr style=\"text-align: right;\">\n",
       "      <th></th>\n",
       "      <th>Unnamed: 0</th>\n",
       "      <th>ID_HDC_G0</th>\n",
       "      <th>year</th>\n",
       "      <th>total_days</th>\n",
       "      <th>P</th>\n",
       "      <th>P1983</th>\n",
       "      <th>P2016</th>\n",
       "      <th>people_days</th>\n",
       "      <th>people_days_heat</th>\n",
       "      <th>people_days_pop</th>\n",
       "      <th>region</th>\n",
       "      <th>intermediate-region</th>\n",
       "      <th>sub-region</th>\n",
       "      <th>CTR_MN_NM</th>\n",
       "    </tr>\n",
       "  </thead>\n",
       "  <tbody>\n",
       "    <tr>\n",
       "      <td>0</td>\n",
       "      <td>0</td>\n",
       "      <td>22</td>\n",
       "      <td>1983</td>\n",
       "      <td>2</td>\n",
       "      <td>52064.452435</td>\n",
       "      <td>52064.452435</td>\n",
       "      <td>73006.671133</td>\n",
       "      <td>0.000104</td>\n",
       "      <td>0.000104</td>\n",
       "      <td>0.000000</td>\n",
       "      <td>Americas</td>\n",
       "      <td>Northern America</td>\n",
       "      <td>Northern America</td>\n",
       "      <td>United States</td>\n",
       "    </tr>\n",
       "    <tr>\n",
       "      <td>1</td>\n",
       "      <td>10112</td>\n",
       "      <td>22</td>\n",
       "      <td>1984</td>\n",
       "      <td>1</td>\n",
       "      <td>53373.163358</td>\n",
       "      <td>52064.452435</td>\n",
       "      <td>73006.671133</td>\n",
       "      <td>0.000053</td>\n",
       "      <td>0.000052</td>\n",
       "      <td>0.000001</td>\n",
       "      <td>Americas</td>\n",
       "      <td>Northern America</td>\n",
       "      <td>Northern America</td>\n",
       "      <td>United States</td>\n",
       "    </tr>\n",
       "    <tr>\n",
       "      <td>2</td>\n",
       "      <td>48718</td>\n",
       "      <td>22</td>\n",
       "      <td>1988</td>\n",
       "      <td>10</td>\n",
       "      <td>58608.007050</td>\n",
       "      <td>52064.452435</td>\n",
       "      <td>73006.671133</td>\n",
       "      <td>0.000586</td>\n",
       "      <td>0.000521</td>\n",
       "      <td>0.000065</td>\n",
       "      <td>Americas</td>\n",
       "      <td>Northern America</td>\n",
       "      <td>Northern America</td>\n",
       "      <td>United States</td>\n",
       "    </tr>\n",
       "    <tr>\n",
       "      <td>3</td>\n",
       "      <td>58884</td>\n",
       "      <td>22</td>\n",
       "      <td>1989</td>\n",
       "      <td>1</td>\n",
       "      <td>59916.717973</td>\n",
       "      <td>52064.452435</td>\n",
       "      <td>73006.671133</td>\n",
       "      <td>0.000060</td>\n",
       "      <td>0.000052</td>\n",
       "      <td>0.000008</td>\n",
       "      <td>Americas</td>\n",
       "      <td>Northern America</td>\n",
       "      <td>Northern America</td>\n",
       "      <td>United States</td>\n",
       "    </tr>\n",
       "    <tr>\n",
       "      <td>4</td>\n",
       "      <td>68579</td>\n",
       "      <td>22</td>\n",
       "      <td>1990</td>\n",
       "      <td>6</td>\n",
       "      <td>61225.428896</td>\n",
       "      <td>52064.452435</td>\n",
       "      <td>73006.671133</td>\n",
       "      <td>0.000367</td>\n",
       "      <td>0.000312</td>\n",
       "      <td>0.000055</td>\n",
       "      <td>Americas</td>\n",
       "      <td>Northern America</td>\n",
       "      <td>Northern America</td>\n",
       "      <td>United States</td>\n",
       "    </tr>\n",
       "  </tbody>\n",
       "</table>\n",
       "</div>"
      ],
      "text/plain": [
       "   Unnamed: 0  ID_HDC_G0  year  total_days             P         P1983  \\\n",
       "0           0         22  1983           2  52064.452435  52064.452435   \n",
       "1       10112         22  1984           1  53373.163358  52064.452435   \n",
       "2       48718         22  1988          10  58608.007050  52064.452435   \n",
       "3       58884         22  1989           1  59916.717973  52064.452435   \n",
       "4       68579         22  1990           6  61225.428896  52064.452435   \n",
       "\n",
       "          P2016  people_days  people_days_heat  people_days_pop    region  \\\n",
       "0  73006.671133     0.000104          0.000104         0.000000  Americas   \n",
       "1  73006.671133     0.000053          0.000052         0.000001  Americas   \n",
       "2  73006.671133     0.000586          0.000521         0.000065  Americas   \n",
       "3  73006.671133     0.000060          0.000052         0.000008  Americas   \n",
       "4  73006.671133     0.000367          0.000312         0.000055  Americas   \n",
       "\n",
       "  intermediate-region        sub-region      CTR_MN_NM  \n",
       "0    Northern America  Northern America  United States  \n",
       "1    Northern America  Northern America  United States  \n",
       "2    Northern America  Northern America  United States  \n",
       "3    Northern America  Northern America  United States  \n",
       "4    Northern America  Northern America  United States  "
      ]
     },
     "execution_count": 8,
     "metadata": {},
     "output_type": "execute_result"
    }
   ],
   "source": [
    "HI_STATS = HI_STATS.merge(meta, on = 'ID_HDC_G0', how = 'inner')\n",
    "HI_STATS.head()"
   ]
  },
  {
   "cell_type": "code",
   "execution_count": 9,
   "metadata": {},
   "outputs": [
    {
     "data": {
      "text/plain": [
       "392972"
      ]
     },
     "execution_count": 9,
     "metadata": {},
     "output_type": "execute_result"
    }
   ],
   "source": [
    "len(HI_STATS)"
   ]
  },
  {
   "cell_type": "markdown",
   "metadata": {},
   "source": [
    "# Beta Fits"
   ]
  },
  {
   "cell_type": "code",
   "execution_count": 39,
   "metadata": {},
   "outputs": [],
   "source": [
    "# https://stackoverflow.com/questions/23329331/how-to-properly-fit-a-beta-distribution-in-python\n",
    "# https://stats.stackexchange.com/questions/414277/fitting-beta-distributions-to-data\n",
    "\n",
    "#### Chunk 1\n",
    "geog1 = 'sub-region'\n",
    "loc1 = 'Sub-Saharan Africa'\n",
    "chunk1 = HI_STATS[HI_STATS[geog1] == loc1]\n",
    "plotdata1 = run_OLS(chunk1, 'ID_HDC_G0', alpha = 0.05)\n",
    "\n",
    "\n",
    "#### Chunk 2\n",
    "geog2 = 'sub-region'\n",
    "loc2 = 'Northern America'\n",
    "chunk2 = HI_STATS[HI_STATS[geog2] == loc2]\n",
    "plotdata2 = run_OLS(chunk2, 'ID_HDC_G0', alpha = 0.05)\n",
    "\n",
    "\n",
    "#### Chunk 3\n",
    "geog3 = 'region'\n",
    "loc3 = 'Europe'\n",
    "chunk3 = HI_STATS[HI_STATS[geog3] == loc3]\n",
    "plotdata3 = run_OLS(chunk3, 'ID_HDC_G0', alpha = 0.05)"
   ]
  },
  {
   "cell_type": "code",
   "execution_count": 33,
   "metadata": {},
   "outputs": [],
   "source": [
    "def beta_fit(data):\n",
    " \n",
    "    #### Fit Data\n",
    "    alpha3,beta3,xx,yy=beta.fit(data, loc = 0, scale = 1)\n",
    "    fitted=lambda x,a,b:gammaf(a+b)/gammaf(a)/gammaf(b)*x**(a-1)*(1-x)**(b-1) #pdf of beta\n",
    "\n",
    "    xx=np.linspace(0,max(data),len(data)) # line space of X\n",
    "    xx = xx[1:] # drop first value of zero because it makes plot look funky\n",
    "    yy = fitted(xx,alpha3,beta3) # fit values to beta pdf function\n",
    "    \n",
    "    return xx, yy"
   ]
  },
  {
   "cell_type": "code",
   "execution_count": 99,
   "metadata": {
    "scrolled": false
   },
   "outputs": [
    {
     "name": "stderr",
     "output_type": "stream",
     "text": [
      "/home/cascade/miniconda3/envs/geo/lib/python3.6/site-packages/ipykernel_launcher.py:5: RuntimeWarning: divide by zero encountered in power\n",
      "  \"\"\"\n"
     ]
    },
    {
     "data": {
      "text/plain": [
       "Text(0.5, 1.0, 'Dist of PeopleDays Attribution Coef, 1983 - 2016')"
      ]
     },
     "execution_count": 99,
     "metadata": {},
     "output_type": "execute_result"
    },
    {
     "data": {
      "image/png": "[encoded data removed]",
      "text/plain": [
       "<Figure size 576x576 with 1 Axes>"
      ]
     },
     "metadata": {
      "needs_background": "light"
     },
     "output_type": "display_data"
    }
   ],
   "source": [
    "#### Size\n",
    "fig = plt.gcf()\n",
    "fig.set_size_inches(8, 8)\n",
    "\n",
    "kwargs = {'lw': 3, 'alpha' : 0.5, 'linestyle' : '-'}\n",
    "\n",
    "#### Chunk 1\n",
    "data = plotdata1['coef_attrib_norm']\n",
    "X, Y = beta_fit(data)\n",
    "plt.hist(data, density = True, color = 'r', alpha = 0.1, bins = 50)\n",
    "plt.plot(X, Y, label = loc1, color = 'r', **kwargs)\n",
    "\n",
    "# #### Chunk 2\n",
    "data = plotdata2['coef_attrib_norm']\n",
    "X, Y = beta_fit(data)\n",
    "plt.hist(data, density = True, color = 'b', alpha = 0.1, bins = 50)\n",
    "plt.plot(X, Y, label = loc2, color = 'b', **kwargs)\n",
    "\n",
    "#### Chunk 3\n",
    "data = plotdata3['coef_attrib_norm']\n",
    "X, Y = beta_fit(data)\n",
    "plt.hist(data, density = True, color = 'g', alpha = 0.1, bins = 50)\n",
    "plt.plot(X, Y, label = loc3, color = 'g', **kwargs)\n",
    "\n",
    "\n",
    "#### Lims and Ticks\n",
    "plt.xlim([0,1])\n",
    "ticks = [x / 10 for x in list(range(0,11))]\n",
    "labels = [100, 80, 60, 40, 20, 0, 20, 40, 60, 80, 100]\n",
    "plt.xticks(ticks, labels, fontsize = 12)\n",
    "\n",
    "#### Legends\n",
    "labels = [loc1, loc2, loc3]\n",
    "plt.legend(labels, loc=2, facecolor= 'white', edgecolor = 'white', fontsize = 15)\n",
    "\n",
    "\n",
    "## Labels \n",
    "plt.xlabel('Coef of Attribtuion (Right is people, left heat)', fontsize = 15, labelpad = 10)\n",
    "plt.ylabel('PDF', fontsize = 15)\n",
    "plt.title('Dist of PeopleDays Attribution Coef, 1983 - 2016', fontsize = 15)\n"
   ]
  },
  {
   "cell_type": "code",
   "execution_count": 81,
   "metadata": {},
   "outputs": [
    {
     "data": {
      "text/plain": [
       "[0.0, 0.1, 0.2, 0.3, 0.4, 0.5, 0.6, 0.7, 0.8, 0.9]"
      ]
     },
     "execution_count": 81,
     "metadata": {},
     "output_type": "execute_result"
    }
   ],
   "source": [
    "[x / 10 for x in list(range(0,10))]"
   ]
  },
  {
   "cell_type": "code",
   "execution_count": 26,
   "metadata": {},
   "outputs": [
    {
     "name": "stderr",
     "output_type": "stream",
     "text": [
      "/home/cascade/miniconda3/envs/geo/lib/python3.6/site-packages/scipy/stats/_continuous_distns.py:515: RuntimeWarning: invalid value encountered in sqrt\n",
      "  sk = 2*(b-a)*np.sqrt(a + b + 1) / (a + b + 2) / np.sqrt(a*b)\n",
      "/home/cascade/miniconda3/envs/geo/lib/python3.6/site-packages/ipykernel_launcher.py:13: MatplotlibDeprecationWarning: \n",
      "The 'normed' kwarg was deprecated in Matplotlib 2.1 and will be removed in 3.1. Use 'density' instead.\n",
      "  del sys.path[0]\n",
      "/home/cascade/miniconda3/envs/geo/lib/python3.6/site-packages/ipykernel_launcher.py:14: RuntimeWarning: divide by zero encountered in power\n",
      "  \n"
     ]
    },
    {
     "data": {
      "text/plain": [
       "[<matplotlib.lines.Line2D at 0x7fbc8ce58c50>]"
      ]
     },
     "execution_count": 26,
     "metadata": {},
     "output_type": "execute_result"
    },
    {
     "data": {
      "image/png": "[encoded data removed]",
      "text/plain": [
       "<Figure size 576x576 with 1 Axes>"
      ]
     },
     "metadata": {
      "needs_background": "light"
     },
     "output_type": "display_data"
    }
   ],
   "source": [
    "#### Size\n",
    "fig = plt.gcf()\n",
    "fig.set_size_inches(8, 8)\n",
    "\n",
    "##################### MIDDLE #####################\n",
    "#### Get data to plot\n",
    "data = plotdata1['coef_attrib_norm'] \n",
    "\n",
    "#### Fit Data\n",
    "alpha3,beta3,xx,yy=beta.fit(data, loc = 0, scale = 1)\n",
    "\n",
    "#### Plot Data\n",
    "plt.hist(data,bins=50,normed=True, alpha = 0.1)\n",
    "fitted=lambda x,a,b:gammaf(a+b)/gammaf(a)/gammaf(b)*x**(a-1)*(1-x)**(b-1) #pdf of beta\n",
    "\n",
    "xx=np.linspace(0,max(data),len(data))\n",
    "xx = xx[1:] # drop zero\n",
    "plt.plot(xx,fitted(xx,alpha3,beta3),'r')"
   ]
  },
  {
   "cell_type": "code",
   "execution_count": null,
   "metadata": {},
   "outputs": [],
   "source": [
    "#### Size\n",
    "fig = plt.gcf()\n",
    "fig.set_size_inches(8, 8)\n",
    "\n",
    "##################### MIDDLE #####################\n",
    "#### Get data to plot\n",
    "data = plotdata['coef_attrib_norm'] \n",
    "\n",
    "#### Fit Data\n",
    "alpha3,beta3,xx,yy=beta.fit(data, loc = 0, scale = 1)\n",
    "\n",
    "#### Plot Data\n",
    "plt.hist(data,bins=50,normed=True, alpha = 0.1)\n",
    "fitted=lambda x,a,b:gammaf(a+b)/gammaf(a)/gammaf(b)*x**(a-1)*(1-x)**(b-1) #pdf of beta\n",
    "\n",
    "xx=np.linspace(0,max(data),len(data))\n",
    "xx = xx[1:] # drop zero\n",
    "plt.plot(xx,fitted(xx,alpha3,beta3),'r')\n",
    "\n",
    "##################### Left #####################\n",
    "#### Get data to plot\n",
    "data = plotdata['coef_attrib_norm_left'] \n",
    "\n",
    "#### Fit Data\n",
    "alpha3,beta3,xx,yy=beta.fit(data, loc = 0, scale = 1)\n",
    "\n",
    "#### Plot Data\n",
    "plt.hist(data,bins=50,normed=True, alpha = 0.1)\n",
    "fitted=lambda x,a,b:gammaf(a+b)/gammaf(a)/gammaf(b)*x**(a-1)*(1-x)**(b-1) #pdf of beta\n",
    "\n",
    "xx=np.linspace(0,max(data),len(data))\n",
    "xx = xx[1:] # drop zero\n",
    "plt.plot(xx,fitted(xx,alpha3,beta3),'b')\n",
    "\n",
    "##################### right #####################\n",
    "#### Get data to plot\n",
    "data = plotdata['coef_attrib_norm_right'] \n",
    "\n",
    "#### Fit Data\n",
    "alpha3,beta3,xx,yy=beta.fit(data, loc = 0, scale = 1)\n",
    "\n",
    "#### Plot Data\n",
    "plt.hist(data,bins=50,normed=True,  alpha = 0.1)\n",
    "fitted=lambda x,a,b:gammaf(a+b)/gammaf(a)/gammaf(b)*x**(a-1)*(1-x)**(b-1) #pdf of beta\n",
    "\n",
    "xx=np.linspace(0,max(data),len(data))\n",
    "xx = xx[1:] # drop zero\n",
    "plt.plot(xx,fitted(xx,alpha3,beta3),'g')\n",
    "\n",
    "\n",
    "plt.xlim([0,1])\n",
    "plt.ylim([0,10])\n",
    "\n",
    "plt.title('Beta Fit for '+loc)\n",
    "plt.show()"
   ]
  },
  {
   "cell_type": "code",
   "execution_count": 18,
   "metadata": {},
   "outputs": [
    {
     "data": {
      "text/plain": [
       "(array([1.000e+00, 1.000e+00, 0.000e+00, 1.000e+00, 1.443e+03, 1.000e+00,\n",
       "        1.000e+00, 2.000e+00, 0.000e+00, 1.000e+00]),\n",
       " array([-28.80462024, -22.55706412, -16.30950801, -10.06195189,\n",
       "         -3.81439577,   2.43316034,   8.68071646,  14.92827257,\n",
       "         21.17582869,  27.4233848 ,  33.67094092]),\n",
       " <a list of 10 Patch objects>)"
      ]
     },
     "execution_count": 18,
     "metadata": {},
     "output_type": "execute_result"
    },
    {
     "data": {
      "image/png": "[encoded data removed]",
      "text/plain": [
       "<Figure size 432x288 with 1 Axes>"
      ]
     },
     "metadata": {
      "needs_background": "light"
     },
     "output_type": "display_data"
    }
   ],
   "source": [
    "plt.hist(plotdata['coef_attrib_right'])"
   ]
  },
  {
   "cell_type": "code",
   "execution_count": null,
   "metadata": {},
   "outputs": [],
   "source": [
    "#### Fit Data\n",
    "alpha3,beta3,xx,yy=beta.fit(data, loc = 0, scale = 1)\n"
   ]
  },
  {
   "cell_type": "code",
   "execution_count": null,
   "metadata": {},
   "outputs": [],
   "source": [
    "#### Plot Data\n",
    "plt.hist(data,bins=50,normed=True)\n",
    "fitted=lambda x,a,b:gammaf(a+b)/gammaf(a)/gammaf(b)*x**(a-1)*(1-x)**(b-1) #pdf of beta\n",
    "\n",
    "xx=np.linspace(0,max(data),len(data))\n",
    "xx = xx[1:] # drop zero\n",
    "\n",
    "plt.plot(xx,fitted(xx,alpha3,beta3),'r')\n",
    "plt.xlim([0,1])\n",
    "plt.ylim([0,10])\n",
    "\n",
    "plt.title('Beta Fit for '+loc)\n",
    "plt.show()"
   ]
  },
  {
   "cell_type": "code",
   "execution_count": null,
   "metadata": {},
   "outputs": [],
   "source": [
    "plt.hist(data, weights=np.ones_like(data)/np.sum(data))"
   ]
  },
  {
   "cell_type": "code",
   "execution_count": null,
   "metadata": {},
   "outputs": [],
   "source": [
    "plt.hist(data, weights=np.ones_like(data)/np.sum(data))\n",
    "weights = np.ones_like(data)/np.sum(data)\n",
    "weights = weights[1:]\n",
    "yy = fitted(xx,alpha3,beta3) * 0.00131631\n",
    "plt.plot(xx,yy,'r')"
   ]
  },
  {
   "cell_type": "code",
   "execution_count": null,
   "metadata": {},
   "outputs": [],
   "source": [
    "plt.hist(data)"
   ]
  },
  {
   "cell_type": "code",
   "execution_count": null,
   "metadata": {},
   "outputs": [],
   "source": [
    "xx=numpy.linspace(0,max(data),len(data))\n",
    "xx"
   ]
  },
  {
   "cell_type": "code",
   "execution_count": null,
   "metadata": {},
   "outputs": [],
   "source": [
    "#### Plot Data\n",
    "weights = np.ones_like(data)/np.sum(data)\n",
    "plt.hist(data, weights=weights)\n",
    "fitted=lambda x,a,b:gammaf(a+b)/gammaf(a)/gammaf(b)*x**(a-1)*(1-x)**(b-1) #pdf of beta\n",
    "\n",
    "xx=numpy.linspace(0,max(data),len(data))\n",
    "xx = xx[1:] #* weights[1:] # drop zero \n",
    "\n",
    "plt.plot(xx,fitted(xx,alpha3,beta3),'r')\n",
    "plt.xlim([0,1])\n",
    "plt.ylim([0,5])\n",
    "\n",
    "plt.title('Beta Fit for '+loc)\n",
    "plt.show()"
   ]
  },
  {
   "cell_type": "markdown",
   "metadata": {},
   "source": [
    "# Fig 2 Scatter"
   ]
  },
  {
   "cell_type": "code",
   "execution_count": null,
   "metadata": {},
   "outputs": [],
   "source": [
    "#### Find Regions where the trend in people days is sig at 0.05\n",
    "\n",
    "# Args\n",
    "heat_stat = 'total_days'\n",
    "pdays_stat = 'people_days'\n",
    "geog = 'sub-region'\n",
    "\n",
    "# Find Sig Regions\n",
    "df_region = pop_stat(stats, geog, heat_stat)\n",
    "df_region = df_region[df_region['p_value'] < 0.05]\n",
    "\n",
    "# Get the regions in a list and re-order \n",
    "sig_regions = list(df_region[geog])\n",
    "sig_regions = [sig_regions[10], sig_regions[11],  sig_regions[4],\n",
    "               sig_regions[6], sig_regions[1], sig_regions[9],\n",
    "               sig_regions[7], sig_regions[8], sig_regions[5],\n",
    "               sig_regions[0], sig_regions[3], sig_regions[2]]\n",
    "len(sig_regions)"
   ]
  },
  {
   "cell_type": "code",
   "execution_count": null,
   "metadata": {},
   "outputs": [],
   "source": [
    "#### Or use All regions --- Reorder if needed\n",
    "sig_regions = ['Australia and New Zealand',\n",
    " 'Central Asia',\n",
    " 'Eastern Asia',\n",
    " 'Eastern Europe',\n",
    " 'Latin America and the Caribbean',\n",
    " 'Melanesia',\n",
    " 'Northern Africa',\n",
    " 'Northern America',\n",
    " 'Northern Europe',\n",
    " 'South-eastern Asia',\n",
    " 'Southern Asia',\n",
    " 'Southern Europe',\n",
    " 'Sub-Saharan Africa',\n",
    " 'Western Asia',\n",
    " 'Western Europe']"
   ]
  },
  {
   "cell_type": "code",
   "execution_count": null,
   "metadata": {},
   "outputs": [],
   "source": [
    "#### Plot and Save Figure \n",
    "#### Plot is people-days heat vs pop increase in log scale values\n",
    "fig, axs = plt.subplots(5, 3, figsize = (15, 15), sharex=True) # Change number of panels as needed\n",
    "axs = axs.ravel()\n",
    "counter = 0\n",
    "lim = 13\n",
    "\n",
    "for i, region in enumerate(sig_regions):\n",
    "    \n",
    "    df_region = stats[stats[geog] == region] # select region\n",
    "    \n",
    "    # Get people days dues to heat coef\n",
    "    heat = pop_stat(df_region, 'ID_HDC_G0', 'people_days_heat') # get stats \n",
    "    heat.rename(columns={\"coef\": \"coef_heat\"}, inplace = True)\n",
    "    \n",
    "    # Get people days total\n",
    "    pdays_all = pop_stat(df_region, 'ID_HDC_G0', 'people_days_pop') # get stats\n",
    "    pdays_all.rename(columns={\"coef\": \"coef_pop\"}, inplace = True)\n",
    "    \n",
    "    # Merge pdays_all and heat\n",
    "    heat = heat.merge(pdays_all[['ID_HDC_G0', 'coef_pop']], on = 'ID_HDC_G0', how = 'left')\n",
    "    \n",
    "    # drop negitive and zero slopes\n",
    "    heat = heat[heat['coef_heat'] > 0]\n",
    "    heat = heat[heat['coef_pop'] > 0]\n",
    "    \n",
    "    # get data for plot\n",
    "    X = np.log10(heat['coef_pop']*scale)\n",
    "    Y = np.log10(heat['coef_heat']*scale)\n",
    "    C = np.log10(heat['p_delt'])\n",
    "    \n",
    "    # drop all slopes below 10^0\n",
    "    X = X * (X > 0)\n",
    "    Y = Y * (Y > 0)\n",
    "    \n",
    "    # plots\n",
    "    a = i + counter\n",
    "    im  = axs[a].scatter(X, Y, alpha = 0.4, marker = 'h', c = C, cmap = 'rainbow')\n",
    "    axs[a].set_title(region, fontsize = 14)\n",
    "    \n",
    "    # Set limits\n",
    "    axs[a].set_xlim([-0.5, lim])\n",
    "    axs[a].set_ylim([-0.5, lim])\n",
    "    \n",
    "    # Make one-to-one-line\n",
    "    axs[a].plot([0, lim], [0, lim], ':', lw=3, alpha = 0.7, color = 'black')\n",
    "    \n",
    "    fig.colorbar(ax = axs[a], mappable = im)\n",
    "\n",
    "fig.text(0.5, 0.08, 'Annual increase in people-days [log10] due to population', ha='center', size = 16)\n",
    "fig.text(0.07, 0.5, 'Annual increase in people-days [log10] due to heat', va='center', rotation='vertical',\n",
    "        size = 16)\n",
    "\n",
    "#plt.savefig(FIG_OUT+'FIG2.png') "
   ]
  },
  {
   "cell_type": "markdown",
   "metadata": {},
   "source": [
    "# Fig 2 Dist"
   ]
  },
  {
   "cell_type": "code",
   "execution_count": null,
   "metadata": {},
   "outputs": [],
   "source": [
    "def plot_data(stats, geog):\n",
    "    \"\"\" Function calculate coef of people days due to pop and heat and the \n",
    "    attribution index\n",
    "    \n",
    "    Args:\n",
    "        stats = df to feed in\n",
    "        geog = geography level to conduct analysis (city-level is 'ID-HDC-G0')\n",
    "    \n",
    "    \"\"\"\n",
    "    # Get people days dues to heat coef\n",
    "    heat = pop_stat(stats, geog, 'people_days_heat') # get stats \n",
    "    heat.rename(columns={\"coef\": \"coef_heat\"}, inplace = True)\n",
    "    \n",
    "    # Get people days total\n",
    "    pdays_all = pop_stat(stats, geog, 'people_days_pop') # get stats\n",
    "    pdays_all.rename(columns={\"coef\": \"coef_pop\"}, inplace = True)\n",
    "    \n",
    "    # Merge pdays_all and heat\n",
    "    heat = heat.merge(pdays_all[[geog, 'coef_pop']], on = geog, how = 'left')\n",
    "    \n",
    "    # drop negitive and zero slopes\n",
    "    heat = heat[heat['coef_heat'] > 0]\n",
    "    heat = heat[heat['coef_pop'] > 0]\n",
    "    \n",
    "    # attrib coef\n",
    "    heat['coef_attrib'] = (heat['coef_pop'] - heat['coef_heat']) / (heat['coef_pop'] + heat['coef_heat']) # normalize dif\n",
    "    \n",
    "    return heat"
   ]
  },
  {
   "cell_type": "code",
   "execution_count": null,
   "metadata": {},
   "outputs": [],
   "source": [
    "#### Chunk Data\n",
    "geog = 'sub-region'\n",
    "loc = 'Northern America'\n",
    "chunk_stats = stats[stats[geog] == loc]\n",
    "\n",
    "Y95= chunk_stats[(chunk_stats['year'] >= 1986) & (chunk_stats['year'] <= 1995)]\n",
    "Y05 = chunk_stats[(chunk_stats['year'] >= 1996) & (chunk_stats['year'] <= 2005)]\n",
    "Y15 = chunk_stats[(chunk_stats['year'] >= 2006) & (chunk_stats['year'] <= 2015)]"
   ]
  },
  {
   "cell_type": "code",
   "execution_count": null,
   "metadata": {},
   "outputs": [],
   "source": [
    "#### Make distribution\n",
    "\n",
    "Y95_plotdata = plot_data(Y95, 'ID_HDC_G0')\n",
    "Y95_plotdata.head()\n",
    "\n",
    "Y05_plotdata = plot_data(Y05, 'ID_HDC_G0')\n",
    "Y95_plotdata.head()\n",
    "\n",
    "Y15_plotdata = plot_data(Y15, 'ID_HDC_G0')\n",
    "Y15_plotdata.head()"
   ]
  },
  {
   "cell_type": "code",
   "execution_count": null,
   "metadata": {},
   "outputs": [],
   "source": [
    "data = Y15_plotdata['coef_attrib']\n",
    "bins = 20\n",
    "#plt.hist(data, color = 'blue', alpha = 0.3, bins = bins)\n",
    "#sns.kdeplot(np.array(data), bw=0.15, color = 'blue', alpha = 0.4)\n",
    "\n",
    "data = Y05_plotdata['coef_attrib']\n",
    "#plt.hist(data, color = 'green', alpha = 0.3, bins = bins)\n",
    "#sns.kdeplot(np.array(data), bw=0.15, color = 'green', alpha = 0.4)\n",
    "\n",
    "data = Y95_plotdata['coef_attrib']\n",
    "plt.hist(data, color = 'red', alpha = 0.3, bins = bins)\n",
    "#sns.kdeplot(np.array(data), bw=0.15, color = 'red', alpha = 0.4)\n",
    "plt.xlabel('Coef of Attribtuion (Right is people, left heat)')\n",
    "plt.ylabel('N of Cites')\n",
    "plt.title(loc+' Dist of PeopleDays Attribution Coef')\n",
    "#sns.kdeplot(np.array(data), bw=0.5)\n",
    "\n",
    "labels = ['1986 - 1995', '1996 - 2005', '2006 - 2015']\n",
    "plt.legend(labels, loc=1, facecolor= 'white', edgecolor = 'white')\n"
   ]
  },
  {
   "cell_type": "markdown",
   "metadata": {},
   "source": [
    "# Desnity Plots\n"
   ]
  },
  {
   "cell_type": "markdown",
   "metadata": {},
   "source": [
    "### North America "
   ]
  },
  {
   "cell_type": "code",
   "execution_count": null,
   "metadata": {},
   "outputs": [],
   "source": [
    "#### Chunk Data\n",
    "geog = 'region'\n",
    "loc = 'Europe'\n",
    "chunk_stats = stats[stats[geog] == loc]\n",
    "\n",
    "Y95= chunk_stats[(chunk_stats['year'] >= 1986) & (chunk_stats['year'] <= 1995)]\n",
    "Y05 = chunk_stats[(chunk_stats['year'] >= 1996) & (chunk_stats['year'] <= 2005)]\n",
    "Y15 = chunk_stats[(chunk_stats['year'] >= 2006) & (chunk_stats['year'] <= 2015)]\n",
    "\n",
    "#### Make distribution\n",
    "all_plotdata = plot_data(chunk_stats, 'ID_HDC_G0')\n",
    "Y95_plotdata = plot_data(Y95, 'ID_HDC_G0')\n",
    "Y05_plotdata = plot_data(Y05, 'ID_HDC_G0')\n",
    "Y15_plotdata = plot_data(Y15, 'ID_HDC_G0')"
   ]
  },
  {
   "cell_type": "code",
   "execution_count": null,
   "metadata": {
    "scrolled": false
   },
   "outputs": [],
   "source": [
    "bw = 'scott'\n",
    "kws1 = {'bw': bw, 'linewidth': 0, 'shade': True, 'alpha' : 0.05}\n",
    "kws2 = {'bw': bw, 'linewidth': 2, 'shade': False, 'alpha' : 0.5}\n",
    "\n",
    "#### Size\n",
    "fig = plt.gcf()\n",
    "fig.set_size_inches(8, 8)\n",
    "\n",
    "data = all_plotdata['coef_attrib']\n",
    "sns.distplot(data, hist=False, kde=True, color = 'black', kde_kws= kws1)\n",
    "sns.distplot(data, hist=False, kde=True, color = 'black', kde_kws= kws2, label = '1983 - 2016')\n",
    "\n",
    "data = Y15_plotdata['coef_attrib']\n",
    "sns.distplot(data, hist=False, kde=True, color = 'darkblue', kde_kws= kws1)\n",
    "sns.distplot(data, hist=False, kde=True, color = 'darkblue', kde_kws= kws2, label = '2006 - 2015')\n",
    "\n",
    "\n",
    "data = Y05_plotdata['coef_attrib']\n",
    "sns.distplot(data, hist=False, kde=True, color = 'red', kde_kws= kws1)\n",
    "sns.distplot(data, hist=False, kde=True, color = 'red', kde_kws= kws2, label = '1996 - 2005')\n",
    "\n",
    "data = Y95_plotdata['coef_attrib']\n",
    "sns.distplot(data, hist=False, kde=True, color = 'green', kde_kws= kws1)\n",
    "sns.distplot(data, hist=False, kde=True, color = 'green', kde_kws= kws2, label = '1986 - 1995')\n",
    "\n",
    "\n",
    "## Labels \n",
    "plt.xlabel('Coef of Attribtuion (Right is people, left heat)')\n",
    "plt.ylabel('Density')\n",
    "plt.title(loc+' Dist of PeopleDays Attribution Coef')\n",
    "\n",
    "## Legend\n",
    "#labels = ['1986 - 1995', '1996 - 2005', '2006 - 2015']\n",
    "plt.legend(loc=2, facecolor= 'white', edgecolor = 'white')"
   ]
  },
  {
   "cell_type": "markdown",
   "metadata": {},
   "source": [
    "### SS Africa"
   ]
  },
  {
   "cell_type": "code",
   "execution_count": null,
   "metadata": {},
   "outputs": [],
   "source": [
    "#### Chunk Data\n",
    "geog = 'sub-region'\n",
    "loc = 'Sub-Saharan Africa'\n",
    "chunk_stats = stats[stats[geog] == loc]\n",
    "\n",
    "Y95= chunk_stats[(chunk_stats['year'] >= 1986) & (chunk_stats['year'] <= 1995)]\n",
    "Y05 = chunk_stats[(chunk_stats['year'] >= 1996) & (chunk_stats['year'] <= 2005)]\n",
    "Y15 = chunk_stats[(chunk_stats['year'] >= 2006) & (chunk_stats['year'] <= 2015)]\n",
    "\n",
    "#### Make distribution\n",
    "Y95_plotdata = plot_data(Y95, 'ID_HDC_G0')\n",
    "Y05_plotdata = plot_data(Y05, 'ID_HDC_G0')\n",
    "Y15_plotdata = plot_data(Y15, 'ID_HDC_G0')"
   ]
  },
  {
   "cell_type": "code",
   "execution_count": null,
   "metadata": {},
   "outputs": [],
   "source": [
    "bw = 'scott'\n",
    "kws = {'bw': bw, 'linewidth': 1, 'alpha' : 0.5}\n",
    "\n",
    "#### Size\n",
    "fig = plt.gcf()\n",
    "fig.set_size_inches(8, 8)\n",
    "\n",
    "data = Y15_plotdata['coef_attrib']\n",
    "sns.distplot(data, hist=False, kde=True, color = 'darkblue', kde_kws= kws, label = '2006 - 2015')\n",
    "\n",
    "data = Y05_plotdata['coef_attrib']\n",
    "sns.distplot(data, hist=False, kde=True, color = 'red', kde_kws= kws, label = '1996 - 2005')\n",
    "\n",
    "data = Y95_plotdata['coef_attrib']\n",
    "sns.distplot(data, hist=False, kde=True, color = 'green', kde_kws= kws, label = '1986 - 1995')\n",
    "\n",
    "## Labels \n",
    "plt.xlabel('Coef of Attribtuion (Right is people, left heat)')\n",
    "plt.ylabel('Density')\n",
    "plt.title(loc+' Dist of PeopleDays Attribution Coef')\n",
    "\n",
    "## Legend\n",
    "#labels = ['1986 - 1995', '1996 - 2005', '2006 - 2015']\n",
    "plt.legend(loc=2, facecolor= 'white', edgecolor = 'white')"
   ]
  },
  {
   "cell_type": "markdown",
   "metadata": {},
   "source": [
    "## Plots of Different Regions"
   ]
  },
  {
   "cell_type": "code",
   "execution_count": null,
   "metadata": {},
   "outputs": [],
   "source": [
    "#### Chunk SSA\n",
    "geog = 'sub-region'\n",
    "loc = 'Sub-Saharan Africa'\n",
    "chunk_SSA = stats[stats[geog] == loc]\n",
    "plotdata_SSA = plot_data(chunk_SSA, 'ID_HDC_G0')\n",
    "\n",
    "#### Chunk SSA\n",
    "geog = 'region'\n",
    "loc = 'Europe'\n",
    "chunk_EU = stats[stats[geog] == loc]\n",
    "plotdata_EU = plot_data(chunk_EU, 'ID_HDC_G0')\n",
    "\n",
    "#### Chunk North America\n",
    "geog = 'sub-region'\n",
    "loc = 'Northern America'\n",
    "chunk_NA = stats[stats[geog] == loc]\n",
    "plotdata_NA = plot_data(chunk_NA, 'ID_HDC_G0')"
   ]
  },
  {
   "cell_type": "code",
   "execution_count": null,
   "metadata": {},
   "outputs": [],
   "source": [
    "bw = 'scott'\n",
    "kws1 = {'bw': bw, 'linewidth': 0, 'shade': True, 'alpha' : 0.05}\n",
    "kws2 = {'bw': bw, 'linewidth': 2, 'shade': False, 'alpha' : 0.5}\n",
    "\n",
    "#### Size\n",
    "fig = plt.gcf()\n",
    "fig.set_size_inches(8, 8)\n",
    "\n",
    "data = plotdata_SSA['coef_attrib']\n",
    "sns.distplot(data, hist=False, kde=True, color = 'darkblue', kde_kws= kws1)\n",
    "sns.distplot(data, hist=False, kde=True, color = 'darkblue', kde_kws= kws2, label = 'Sub-Saharan Africa')\n",
    "\n",
    "data = plotdata_EU['coef_attrib']\n",
    "sns.distplot(data, hist=False, kde=True, color = 'red', kde_kws= kws1)\n",
    "sns.distplot(data, hist=False, kde=True, color = 'red', kde_kws= kws2, label = 'Europe')\n",
    "\n",
    "data = plotdata_NA['coef_attrib']\n",
    "sns.distplot(data, hist=False, kde=True, color = 'green', kde_kws= kws1)\n",
    "sns.distplot(data, hist=False, kde=True, color = 'green', kde_kws= kws2, label = 'Northern America')\n",
    "\n",
    "\n",
    "## Labels \n",
    "plt.xlabel('Coef of Attribtuion (Right is people, left heat) 1983 - 2016')\n",
    "plt.ylabel('Density')\n",
    "plt.title(loc+' Dist of PeopleDays Attribution Coef')\n",
    "\n",
    "## Legend\n",
    "#labels = ['1986 - 1995', '1996 - 2005', '2006 - 2015']\n",
    "plt.legend(loc=2, facecolor= 'white', edgecolor = 'white')"
   ]
  },
  {
   "cell_type": "code",
   "execution_count": null,
   "metadata": {},
   "outputs": [],
   "source": [
    "#### Size\n",
    "fig = plt.gcf()\n",
    "fig.set_size_inches(8, 8)\n",
    "\n",
    "data = plotdata_SSA['coef_attrib']\n",
    "plt.hist(data, color = 'r', alpha = 0.5)\n",
    "\n",
    "data = plotdata_EU['coef_attrib']\n",
    "plt.hist(data, color = 'b', alpha = 0.5)\n",
    "\n",
    "data = plotdata_NA['coef_attrib']\n",
    "plt.hist(data, color = 'g', alpha = 0.5)\n"
   ]
  },
  {
   "cell_type": "code",
   "execution_count": null,
   "metadata": {},
   "outputs": [],
   "source": [
    "#### Chunk SSA\n",
    "geog = 'CTR_MN_NM'\n",
    "loc1 = 'Saudi Arabia'\n",
    "chunk_1 = stats[stats[geog] == loc1]\n",
    "plotdata_1 = plot_data(chunk_1, 'ID_HDC_G0')\n",
    "\n",
    "#### Chunk SSA\n",
    "geog = 'CTR_MN_NM'\n",
    "loc2 = 'Mexico'\n",
    "chunk_2 = stats[stats[geog] == loc2]\n",
    "plotdata_2 = plot_data(chunk_2, 'ID_HDC_G0')\n",
    "\n",
    "#### Chunk North America\n",
    "geog = 'CTR_MN_NM'\n",
    "loc3 = 'China'\n",
    "chunk_3 = stats[stats[geog] == loc3]\n",
    "plotdata_3 = plot_data(chunk_3, 'ID_HDC_G0')"
   ]
  },
  {
   "cell_type": "code",
   "execution_count": null,
   "metadata": {
    "scrolled": true
   },
   "outputs": [],
   "source": [
    "bw = 'scott'\n",
    "kws1 = {'bw': bw, 'linewidth': 0, 'shade': True, 'alpha' : 0.05}\n",
    "kws2 = {'bw': bw, 'linewidth': 2, 'shade': False, 'alpha' : 0.5}\n",
    "\n",
    "#### Size\n",
    "fig = plt.gcf()\n",
    "fig.set_size_inches(8, 8)\n",
    "\n",
    "data = plotdata_1['coef_attrib']\n",
    "sns.distplot(data, hist=False, kde=True, color = 'darkblue', kde_kws= kws1)\n",
    "sns.distplot(data, hist=False, kde=True, color = 'darkblue', kde_kws= kws2, label = loc1)\n",
    "\n",
    "data = plotdata_2['coef_attrib']\n",
    "sns.distplot(data, hist=False, kde=True, color = 'red', kde_kws= kws1)\n",
    "sns.distplot(data, hist=False, kde=True, color = 'red', kde_kws= kws2, label = loc2)\n",
    "\n",
    "data = plotdata_3['coef_attrib']\n",
    "sns.distplot(data, hist=False, kde=True, color = 'green', kde_kws= kws1)\n",
    "sns.distplot(data, hist=False, kde=True, color = 'green', kde_kws= kws2, label = loc3)\n",
    "\n",
    "\n",
    "## Labels \n",
    "plt.xlabel('Coef of Attribtuion (Right is people, left heat) 1983 - 2016')\n",
    "plt.ylabel('Density')\n",
    "plt.title(loc+' Dist of PeopleDays Attribution Coef')\n",
    "\n",
    "## Legend\n",
    "#labels = ['1986 - 1995', '1996 - 2005', '2006 - 2015']\n",
    "plt.legend(loc=2, facecolor= 'white', edgecolor = 'white')"
   ]
  },
  {
   "cell_type": "markdown",
   "metadata": {},
   "source": [
    "# Old OLS TEST"
   ]
  },
  {
   "cell_type": "code",
   "execution_count": null,
   "metadata": {},
   "outputs": [],
   "source": [
    "#### Chunk SSA\n",
    "geog = 'CTR_MN_NM'\n",
    "loc = 'Iran'\n",
    "chunk = HI_STATS[HI_STATS[geog] == loc]\n"
   ]
  },
  {
   "cell_type": "code",
   "execution_count": null,
   "metadata": {},
   "outputs": [],
   "source": [
    "chunk.head()"
   ]
  },
  {
   "cell_type": "code",
   "execution_count": null,
   "metadata": {},
   "outputs": [],
   "source": [
    "alpha = 0.05\n",
    "test_ols = OLS_coef(chunk, geog = 'ID_HDC_G0', col = 'total_days', alpha = alpha)\n",
    "test_ols = test_ols[test_ols['p_value'] < 0.05]\n",
    "test_ols.head(1)"
   ]
  },
  {
   "cell_type": "code",
   "execution_count": null,
   "metadata": {},
   "outputs": [],
   "source": [
    "# Get Data\n",
    "df_geog =  HI_STATS[HI_STATS['ID_HDC_G0'] == 5368]\n",
    "col = 'total_days'\n",
    "\n",
    "X_year = np.array(df_geog.groupby('year')['ID_HDC_G0'].mean().index).reshape((-1, 1))\n",
    "Y_stats = np.array(df_geog.groupby('year')[col].sum()).reshape((-1, 1))\n",
    "\n",
    "# Add Intercept\n",
    "X_year_2 = sm.add_constant(X_year)\n",
    "\n",
    "# Regress\n",
    "model = sm.OLS(Y_stats, X_year_2).fit() "
   ]
  },
  {
   "cell_type": "code",
   "execution_count": null,
   "metadata": {},
   "outputs": [],
   "source": [
    "print(model.conf_int(alpha=alpha)[1][0])\n",
    "print(model.conf_int(alpha=alpha)[1][1])\n",
    "print(round(model.params[1], 7))\n",
    "print(model.rsquared_adj)"
   ]
  },
  {
   "cell_type": "code",
   "execution_count": null,
   "metadata": {
    "scrolled": true
   },
   "outputs": [],
   "source": [
    "model.summary()"
   ]
  }
 ],
 "metadata": {
  "kernelspec": {
   "display_name": "geo",
   "language": "python",
   "name": "geo"
  },
  "language_info": {
   "codemirror_mode": {
    "name": "ipython",
    "version": 3
   },
   "file_extension": ".py",
   "mimetype": "text/x-python",
   "name": "python",
   "nbconvert_exporter": "python",
   "pygments_lexer": "ipython3",
   "version": "3.6.7"
  }
 },
 "nbformat": 4,
 "nbformat_minor": 2
}
