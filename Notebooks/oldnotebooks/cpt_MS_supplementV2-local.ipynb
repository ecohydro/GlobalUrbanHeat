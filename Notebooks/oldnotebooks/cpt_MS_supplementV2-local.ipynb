{
 "cells": [
  {
   "cell_type": "markdown",
   "metadata": {},
   "source": [
    "# Supplements\n",
    "\n",
    "Notebook to make regional, national, and city-level exposure trends tables and supplement figures. <br>\n",
    "\n",
    "Note: Pct of Global Total Comes from cpt_MS_calulations_ERA5_RH.ipynb <br>\n",
    "\n",
    "By Cascade Tuholske Sep 2020 "
   ]
  },
  {
   "cell_type": "code",
   "execution_count": 1,
   "metadata": {},
   "outputs": [],
   "source": [
    "#### Depdencies \n",
    "import pandas as pd\n",
    "import numpy as np\n",
    "import geopandas as gpd\n",
    "import matplotlib.pyplot as plt\n",
    "import statsmodels.api as sm\n",
    "#import seaborn as sns\n",
    "from matplotlib import rcParams\n",
    "import fiona"
   ]
  },
  {
   "cell_type": "code",
   "execution_count": 2,
   "metadata": {},
   "outputs": [],
   "source": [
    "#### Global Total People Days in 10^9\n",
    "global_pdays = 5.593851065 * 10**9"
   ]
  },
  {
   "cell_type": "markdown",
   "metadata": {},
   "source": [
    "## GHCN Subset\n",
    "Subset CHIRTS-daily GHCN correlation data for only GHS-UCDB locations"
   ]
  },
  {
   "cell_type": "code",
   "execution_count": 3,
   "metadata": {},
   "outputs": [],
   "source": [
    "#### Load Data\n",
    "\n",
    "# validation data from chirts-daily paper\n",
    "cor_fn = \"/Users/cpt2136/Github/UrbanHeat/data/CHIRTS-daily/ValidationData/GHCN-and-GSOD-CHIRTSTmax_ERA5_meta-with-validation.shp\" \n",
    "cor = gpd.read_file(cor_fn)\n",
    "\n",
    "# ucdb\n",
    "ucdb_fn = '/Users/cpt2136/Github/UrbanHeat/data/GHS_STAT_UCDB2015MT_GLOBE_R2019A/GHS_STAT_UCDB2015MT_GLOBE_R2019A_V1_2.shp'\n",
    "ucdb = gpd.read_file(ucdb_fn, layer = 'GHS_STAT_UCDB2015MT_GLOBE_R2019A_V1_2') "
   ]
  },
  {
   "cell_type": "code",
   "execution_count": 4,
   "metadata": {},
   "outputs": [],
   "source": [
    "# Spatial Intersection\n",
    "ucdb_sub = ucdb[['ID_HDC_G0', 'geometry', 'CTR_MN_NM']]"
   ]
  },
  {
   "cell_type": "code",
   "execution_count": 5,
   "metadata": {},
   "outputs": [],
   "source": [
    "# intersect\n",
    "urban = gpd.sjoin(cor, ucdb_sub, how=\"inner\", op='within')"
   ]
  },
  {
   "cell_type": "code",
   "execution_count": 6,
   "metadata": {},
   "outputs": [
    {
     "data": {
      "text/plain": [
       "Text(0.5, 1.0, 'PGF Correlation w/ URBAN Stations Globally')"
      ]
     },
     "execution_count": 6,
     "metadata": {},
     "output_type": "execute_result"
    },
    {
     "data": {
      "image/png": "[encoded data removed]",
      "text/plain": [
       "<Figure size 432x288 with 1 Axes>"
      ]
     },
     "metadata": {
      "needs_background": "light"
     },
     "output_type": "display_data"
    }
   ],
   "source": [
    "plt.hist(urban['Princeton_'])\n",
    "plt.title('PGF Correlation w/ URBAN Stations Globally')"
   ]
  },
  {
   "cell_type": "code",
   "execution_count": 7,
   "metadata": {},
   "outputs": [
    {
     "data": {
      "text/plain": [
       "Text(0.5, 1.0, 'CHIRTS-daily Correlation w/ URBAN Stations Globally')"
      ]
     },
     "execution_count": 7,
     "metadata": {},
     "output_type": "execute_result"
    },
    {
     "data": {
      "image/png": "[encoded data removed]",
      "text/plain": [
       "<Figure size 432x288 with 1 Axes>"
      ]
     },
     "metadata": {
      "needs_background": "light"
     },
     "output_type": "display_data"
    }
   ],
   "source": [
    "plt.hist(urban['CHIRTS_cor'])\n",
    "plt.title('CHIRTS-daily Correlation w/ URBAN Stations Globally')"
   ]
  },
  {
   "cell_type": "code",
   "execution_count": 8,
   "metadata": {},
   "outputs": [
    {
     "data": {
      "text/html": [
       "<div>\n",
       "<style scoped>\n",
       "    .dataframe tbody tr th:only-of-type {\n",
       "        vertical-align: middle;\n",
       "    }\n",
       "\n",
       "    .dataframe tbody tr th {\n",
       "        vertical-align: top;\n",
       "    }\n",
       "\n",
       "    .dataframe thead th {\n",
       "        text-align: right;\n",
       "    }\n",
       "</style>\n",
       "<table border=\"1\" class=\"dataframe\">\n",
       "  <thead>\n",
       "    <tr style=\"text-align: right;\">\n",
       "      <th></th>\n",
       "      <th>field_1</th>\n",
       "      <th>latitudes</th>\n",
       "      <th>longitudes</th>\n",
       "      <th>elevations</th>\n",
       "      <th>country_se</th>\n",
       "      <th>station_se</th>\n",
       "      <th>cn_st_seqn</th>\n",
       "      <th>hottest3</th>\n",
       "      <th>CHIRTS_cor</th>\n",
       "      <th>CHIRTS_mae</th>\n",
       "      <th>CHIRTS_sig</th>\n",
       "      <th>Princeton_</th>\n",
       "      <th>Princeto_1</th>\n",
       "      <th>Princeto_2</th>\n",
       "      <th>source</th>\n",
       "      <th>geometry</th>\n",
       "      <th>index_right</th>\n",
       "      <th>ID_HDC_G0</th>\n",
       "      <th>CTR_MN_NM</th>\n",
       "    </tr>\n",
       "  </thead>\n",
       "  <tbody>\n",
       "    <tr>\n",
       "      <th>249</th>\n",
       "      <td>250</td>\n",
       "      <td>42.5006</td>\n",
       "      <td>-70.8642</td>\n",
       "      <td>25</td>\n",
       "      <td>133</td>\n",
       "      <td>103799</td>\n",
       "      <td>133103799</td>\n",
       "      <td>6</td>\n",
       "      <td>0.791175</td>\n",
       "      <td>1.947574</td>\n",
       "      <td>-1.056771</td>\n",
       "      <td>0.523291</td>\n",
       "      <td>3.031616</td>\n",
       "      <td>-0.889558</td>\n",
       "      <td>GHCN</td>\n",
       "      <td>POINT (-70.86420 42.50060)</td>\n",
       "      <td>1021</td>\n",
       "      <td>1022.0</td>\n",
       "      <td>United States</td>\n",
       "    </tr>\n",
       "    <tr>\n",
       "      <th>4898</th>\n",
       "      <td>4899</td>\n",
       "      <td>42.3606</td>\n",
       "      <td>-71.0106</td>\n",
       "      <td>3</td>\n",
       "      <td>133</td>\n",
       "      <td>61018</td>\n",
       "      <td>133061018</td>\n",
       "      <td>6</td>\n",
       "      <td>0.944072</td>\n",
       "      <td>1.396423</td>\n",
       "      <td>-1.075388</td>\n",
       "      <td>0.630418</td>\n",
       "      <td>2.961580</td>\n",
       "      <td>-1.313410</td>\n",
       "      <td>GHCN</td>\n",
       "      <td>POINT (-71.01060 42.36060)</td>\n",
       "      <td>1021</td>\n",
       "      <td>1022.0</td>\n",
       "      <td>United States</td>\n",
       "    </tr>\n",
       "    <tr>\n",
       "      <th>7113</th>\n",
       "      <td>7114</td>\n",
       "      <td>42.5242</td>\n",
       "      <td>-71.1264</td>\n",
       "      <td>27</td>\n",
       "      <td>133</td>\n",
       "      <td>76140</td>\n",
       "      <td>133076140</td>\n",
       "      <td>6</td>\n",
       "      <td>0.928268</td>\n",
       "      <td>1.163208</td>\n",
       "      <td>-0.397942</td>\n",
       "      <td>0.694037</td>\n",
       "      <td>2.492692</td>\n",
       "      <td>-0.801987</td>\n",
       "      <td>GHCN</td>\n",
       "      <td>POINT (-71.12640 42.52420)</td>\n",
       "      <td>1021</td>\n",
       "      <td>1022.0</td>\n",
       "      <td>United States</td>\n",
       "    </tr>\n",
       "    <tr>\n",
       "      <th>7134</th>\n",
       "      <td>7135</td>\n",
       "      <td>42.3031</td>\n",
       "      <td>-71.1239</td>\n",
       "      <td>29</td>\n",
       "      <td>133</td>\n",
       "      <td>76278</td>\n",
       "      <td>133076278</td>\n",
       "      <td>6</td>\n",
       "      <td>0.606425</td>\n",
       "      <td>2.918352</td>\n",
       "      <td>-0.609553</td>\n",
       "      <td>0.398380</td>\n",
       "      <td>3.535009</td>\n",
       "      <td>-1.088084</td>\n",
       "      <td>GHCN</td>\n",
       "      <td>POINT (-71.12390 42.30310)</td>\n",
       "      <td>1021</td>\n",
       "      <td>1022.0</td>\n",
       "      <td>United States</td>\n",
       "    </tr>\n",
       "    <tr>\n",
       "      <th>14157</th>\n",
       "      <td>14158</td>\n",
       "      <td>42.3610</td>\n",
       "      <td>-71.0110</td>\n",
       "      <td>9</td>\n",
       "      <td>133</td>\n",
       "      <td>172832</td>\n",
       "      <td>133172832</td>\n",
       "      <td>6</td>\n",
       "      <td>0.883561</td>\n",
       "      <td>1.616464</td>\n",
       "      <td>-0.890718</td>\n",
       "      <td>0.560010</td>\n",
       "      <td>3.058222</td>\n",
       "      <td>-1.128538</td>\n",
       "      <td>GSOD</td>\n",
       "      <td>POINT (-71.01100 42.36100)</td>\n",
       "      <td>1021</td>\n",
       "      <td>1022.0</td>\n",
       "      <td>United States</td>\n",
       "    </tr>\n",
       "  </tbody>\n",
       "</table>\n",
       "</div>"
      ],
      "text/plain": [
       "       field_1  latitudes  longitudes  elevations  country_se  station_se  \\\n",
       "249        250    42.5006    -70.8642          25         133      103799   \n",
       "4898      4899    42.3606    -71.0106           3         133       61018   \n",
       "7113      7114    42.5242    -71.1264          27         133       76140   \n",
       "7134      7135    42.3031    -71.1239          29         133       76278   \n",
       "14157    14158    42.3610    -71.0110           9         133      172832   \n",
       "\n",
       "       cn_st_seqn hottest3  CHIRTS_cor  CHIRTS_mae  CHIRTS_sig  Princeton_  \\\n",
       "249     133103799        6    0.791175    1.947574   -1.056771    0.523291   \n",
       "4898    133061018        6    0.944072    1.396423   -1.075388    0.630418   \n",
       "7113    133076140        6    0.928268    1.163208   -0.397942    0.694037   \n",
       "7134    133076278        6    0.606425    2.918352   -0.609553    0.398380   \n",
       "14157   133172832        6    0.883561    1.616464   -0.890718    0.560010   \n",
       "\n",
       "       Princeto_1  Princeto_2 source                    geometry  index_right  \\\n",
       "249      3.031616   -0.889558   GHCN  POINT (-70.86420 42.50060)         1021   \n",
       "4898     2.961580   -1.313410   GHCN  POINT (-71.01060 42.36060)         1021   \n",
       "7113     2.492692   -0.801987   GHCN  POINT (-71.12640 42.52420)         1021   \n",
       "7134     3.535009   -1.088084   GHCN  POINT (-71.12390 42.30310)         1021   \n",
       "14157    3.058222   -1.128538   GSOD  POINT (-71.01100 42.36100)         1021   \n",
       "\n",
       "       ID_HDC_G0      CTR_MN_NM  \n",
       "249       1022.0  United States  \n",
       "4898      1022.0  United States  \n",
       "7113      1022.0  United States  \n",
       "7134      1022.0  United States  \n",
       "14157     1022.0  United States  "
      ]
     },
     "execution_count": 8,
     "metadata": {},
     "output_type": "execute_result"
    }
   ],
   "source": [
    "country = 'United States'\n",
    "data = urban[urban['CTR_MN_NM'] == country]\n",
    "data.head()"
   ]
  },
  {
   "cell_type": "code",
   "execution_count": 9,
   "metadata": {},
   "outputs": [
    {
     "data": {
      "text/plain": [
       "(0.0, 1.0)"
      ]
     },
     "execution_count": 9,
     "metadata": {},
     "output_type": "execute_result"
    },
    {
     "data": {
      "image/png": "[encoded data removed]",
      "text/plain": [
       "<Figure size 432x288 with 1 Axes>"
      ]
     },
     "metadata": {
      "needs_background": "light"
     },
     "output_type": "display_data"
    }
   ],
   "source": [
    "plt.hist(data['Princeton_'])\n",
    "plt.title('PGF Correlation w/ URBAN Stations Globally')\n",
    "plt.xlim([0,1])"
   ]
  },
  {
   "cell_type": "code",
   "execution_count": 10,
   "metadata": {},
   "outputs": [
    {
     "data": {
      "text/plain": [
       "(0.0, 1.0)"
      ]
     },
     "execution_count": 10,
     "metadata": {},
     "output_type": "execute_result"
    },
    {
     "data": {
      "image/png": "[encoded data removed]",
      "text/plain": [
       "<Figure size 720x720 with 1 Axes>"
      ]
     },
     "metadata": {
      "needs_background": "light"
     },
     "output_type": "display_data"
    }
   ],
   "source": [
    "fig, axs = plt.subplots(1, figsize = (10, 10), sharex=True)\n",
    "plt.hist(data['CHIRTS_cor'])\n",
    "plt.title('CHIRTS-daily Correlation w/ URBAN Stations Globally', size = 20)\n",
    "plt.xlim([0,1])"
   ]
  },
  {
   "cell_type": "code",
   "execution_count": 11,
   "metadata": {},
   "outputs": [],
   "source": [
    "# Save Urban out\n",
    "fn_out = '/Users/cpt2136/Github/UrbanHeat/data/CHIRTS-daily/ValidationData/GHCN-and-GSOD-CHIRTSTmax_ERA5_meta-with-validation-ghs-ucdb.shp'\n",
    "urban.to_file(fn_out)"
   ]
  },
  {
   "cell_type": "markdown",
   "metadata": {},
   "source": [
    "## Tables"
   ]
  },
  {
   "cell_type": "code",
   "execution_count": null,
   "metadata": {},
   "outputs": [],
   "source": [
    "#### Load Data\n",
    "# file paths\n",
    "DATA_IN = \"/home/cascade/projects/UrbanHeat/data/\"  # Note: Need ?dl=1 to make sure this file gets read correctly\n",
    "FIG_OUT = \"/home/cascade/projects/UrbanHeat/figures/\"\n",
    "FN_IN = 'processed/AllDATA-GHS-ERA5-HI406-PDAYS.csv'\n",
    "HI_STATS = pd.read_csv(DATA_IN+FN_IN)"
   ]
  },
  {
   "cell_type": "code",
   "execution_count": null,
   "metadata": {
    "scrolled": true
   },
   "outputs": [],
   "source": [
    "# Drop IDs where days 1983 = 1 with none else. throws error in regressions \n",
    "\n",
    "print(len(HI_STATS))\n",
    "only83 = HI_STATS.groupby('ID_HDC_G0')['total_days'].sum() == 1 # sum up total days and find those with 1 day\n",
    "only83 = list(only83[only83 == True].index) # make a list of IDs\n",
    "sub = HI_STATS[HI_STATS['ID_HDC_G0'].isin(only83)] # subset those IDs\n",
    "bad_ids = sub[(sub['year'] == 1983) & (sub['total_days'] == 1)] # drop those from 1983 only\n",
    "drop_list = list(bad_ids['ID_HDC_G0']) # make a list\n",
    "HI_STATS= HI_STATS[~HI_STATS['ID_HDC_G0'].isin(drop_list)] # drop those from the list\n",
    "print(len(HI_STATS))"
   ]
  },
  {
   "cell_type": "code",
   "execution_count": null,
   "metadata": {},
   "outputs": [],
   "source": [
    "#### Add In Meta Data\n",
    "geog = ['region', 'intermediate-region', 'sub-region','CTR_MN_NM', 'ID_HDC_G0', 'GCPNT_LAT', 'GCPNT_LON']\n",
    "meta_fn = 'processed/AllDATA-GHS-ERA5-HI406-META.csv'\n",
    "all_data = pd.read_csv(DATA_IN+meta_fn)\n",
    "meta = all_data[geog]\n",
    "meta = meta.drop_duplicates('ID_HDC_G0')\n",
    "\n",
    "# Merge it\n",
    "HI_STATS = HI_STATS.merge(meta, on = 'ID_HDC_G0', how = 'inner')"
   ]
  },
  {
   "cell_type": "code",
   "execution_count": null,
   "metadata": {},
   "outputs": [],
   "source": [
    "#### Regressions, no intercept addition is needed because we're using SK LEARN HERE \n",
    "def lm_func(df, col):\n",
    "    \n",
    "    \"simple linear model of a time series data, returns coef\"\n",
    "    \n",
    "    # Get Data\n",
    "    X_year = np.array(df.groupby('year')['ID_HDC_G0'].mean().index).reshape((-1, 1))\n",
    "    Y_stats = np.array(df.groupby('year')[col].sum()).reshape((-1, 1))\n",
    "\n",
    "    # Add Intercept\n",
    "    X_year_2 = sm.add_constant(X_year)\n",
    "\n",
    "    # Regress\n",
    "    model = sm.OLS(Y_stats, X_year_2).fit() \n",
    "        \n",
    "    coef = int(model.params[1])\n",
    "    #coef = int(coef)\n",
    "            \n",
    "    # R2 and P\n",
    "    r2 = model.rsquared_adj\n",
    "    p = model.pvalues[0]\n",
    "    \n",
    "    return coef, round(r2, 2), round(p, 3)"
   ]
  },
  {
   "cell_type": "code",
   "execution_count": null,
   "metadata": {},
   "outputs": [],
   "source": [
    "geog = 'sub-region'\n",
    "loc_list = np.unique(HI_STATS[geog])"
   ]
  },
  {
   "cell_type": "code",
   "execution_count": null,
   "metadata": {},
   "outputs": [],
   "source": [
    "#### regional-level exposure trajectories \n",
    "fn_out = 'processed/AllDATA-GHS-ERA5-HI406-PDAYS-REGION.csv'\n",
    "geog = 'sub-region'\n",
    "loc_list = np.unique(HI_STATS[geog])\n",
    "\n",
    "pday_coef = []\n",
    "pday_p =[]\n",
    "heat_coef = []\n",
    "heat_p =[]\n",
    "pop_coef = []\n",
    "pop_p =[]\n",
    "for loc in loc_list:\n",
    "    \n",
    "    # Pdays OLS\n",
    "    loc_stats = HI_STATS[HI_STATS[geog] == loc]\n",
    "    coef, r2, p = lm_func(loc_stats, 'people_days')\n",
    "    pday_coef.append(coef)\n",
    "    pday_p.append(p)\n",
    "    \n",
    "    # People OLS\n",
    "    loc_stats = HI_STATS[HI_STATS[geog] == loc]\n",
    "    coef, r2, p = lm_func(loc_stats, 'people_days_heat')\n",
    "    heat_coef.append(coef)\n",
    "    heat_p.append(p)\n",
    "    \n",
    "    # People OLS\n",
    "    loc_stats = HI_STATS[HI_STATS[geog] == loc]\n",
    "    coef, r2, p = lm_func(loc_stats, 'people_days_pop')\n",
    "    pop_coef.append(coef)\n",
    "    pop_p.append(p)\n",
    "    \n",
    "df = pd.DataFrame()\n",
    "df['region'] = loc_list\n",
    "df['pdays_Coef'] = pday_coef\n",
    "df['pdays_pvalue'] = pday_p\n",
    "df['heat_Coef'] = heat_coef\n",
    "df['heat_pvalue'] = heat_p\n",
    "df['pop_Coef'] = pop_coef\n",
    "df['pop_pvalue'] = pop_p\n",
    "df['pct_globe'] = df['pdays_Coef'] / global_pdays * 100 \n",
    "df.to_csv(DATA_IN+fn_out)"
   ]
  },
  {
   "cell_type": "code",
   "execution_count": null,
   "metadata": {},
   "outputs": [],
   "source": [
    "#### National-level exposure trajectories \n",
    "fn_out = 'processed/AllDATA-GHS-ERA5-HI406-PDAYS-COUNTRY.csv'\n",
    "geog = 'CTR_MN_NM'\n",
    "loc_list = np.unique(HI_STATS[geog])\n",
    "\n",
    "pday_coef = []\n",
    "pday_p =[]\n",
    "heat_coef = []\n",
    "heat_p =[]\n",
    "pop_coef = []\n",
    "pop_p =[]\n",
    "for loc in loc_list:\n",
    "    \n",
    "    # Pdays OLS\n",
    "    loc_stats = HI_STATS[HI_STATS[geog] == loc]\n",
    "    coef, r2, p = lm_func(loc_stats, 'people_days')\n",
    "    pday_coef.append(coef)\n",
    "    pday_p.append(p)\n",
    "    \n",
    "    # People OLS\n",
    "    loc_stats = HI_STATS[HI_STATS[geog] == loc]\n",
    "    coef, r2, p = lm_func(loc_stats, 'people_days_heat')\n",
    "    heat_coef.append(coef)\n",
    "    heat_p.append(p)\n",
    "    \n",
    "    # People OLS\n",
    "    loc_stats = HI_STATS[HI_STATS[geog] == loc]\n",
    "    coef, r2, p = lm_func(loc_stats, 'people_days_pop')\n",
    "    pop_coef.append(coef)\n",
    "    pop_p.append(p)\n",
    "    \n",
    "df = pd.DataFrame()\n",
    "df[geog] = loc_list\n",
    "df['pdays_Coef'] = pday_coef\n",
    "df['pdays_pvalue'] = pday_p\n",
    "df['heat_Coef'] = heat_coef\n",
    "df['heat_pvalue'] = heat_p\n",
    "df['pop_Coef'] = pop_coef\n",
    "df['pop_pvalue'] = pop_p\n",
    "df['pct_globe'] = df['pdays_Coef'] / global_pdays * 100 \n",
    "df.to_csv(DATA_IN+fn_out)"
   ]
  },
  {
   "cell_type": "code",
   "execution_count": null,
   "metadata": {},
   "outputs": [],
   "source": [
    "#### Check USA\n",
    "# Pdays OLS\n",
    "col = 'people_days_heat'\n",
    "df= HI_STATS[HI_STATS['CTR_MN_NM'] == 'United States']\n",
    "X_year = np.array(df.groupby('year')['ID_HDC_G0'].mean().index).reshape((-1, 1))\n",
    "Y_stats = np.array(df.groupby('year')[col].sum()).reshape((-1, 1))"
   ]
  },
  {
   "cell_type": "code",
   "execution_count": null,
   "metadata": {},
   "outputs": [],
   "source": [
    "import matplotlib.pyplot as plt\n",
    "plt.plot(X_year, Y_stats)"
   ]
  },
  {
   "cell_type": "code",
   "execution_count": null,
   "metadata": {},
   "outputs": [],
   "source": [
    "# Add Intercept\n",
    "X_year_2 = sm.add_constant(X_year)\n",
    "\n",
    "# Regress\n",
    "model = sm.OLS(Y_stats, X_year_2).fit() \n",
    "\n",
    "coef = int(model.params[1])\n",
    "#coef = int(coef)\n",
    "\n",
    "# R2 and P\n",
    "r2 = model.rsquared_adj\n",
    "p = model.pvalues[0]\n",
    "\n",
    "print(\"USA:\", coef, round(r2, 2), round(p, 3))"
   ]
  },
  {
   "cell_type": "code",
   "execution_count": null,
   "metadata": {},
   "outputs": [],
   "source": [
    "#### Top fifty cities\n",
    "cities = pd.read_csv(DATA_IN+'/processed/AllDATA-GHS-ERA5-HI406-MAPDATA_PDAYS_P05.csv')\n",
    "ghs = gpd.read_file('/home/cascade/tana-crunch-cascade/projects/UrbanHeat/data/raw/GHS_UCDB/GHS_STAT_UCDB2015MT_GLOBE_R2019A_V1_0.shp')"
   ]
  },
  {
   "cell_type": "code",
   "execution_count": null,
   "metadata": {},
   "outputs": [],
   "source": [
    "nms = ghs[['ID_HDC_G0', 'UC_NM_MN']]\n",
    "top50 = cities.sort_values('coef_pdays', ascending = False).head(50)\n",
    "top50['pct_globe'] = top50['coef_pdays'] / global_pdays * 100 \n",
    "top50 = top50.merge(nms, on = 'ID_HDC_G0', how = 'inner')\n",
    "top50.to_csv(DATA_IN+'processed/AllDATA-GHS-ERA5-HI406-PDAYS-TOP50.csv')"
   ]
  },
  {
   "cell_type": "markdown",
   "metadata": {},
   "source": [
    "## Figures"
   ]
  },
  {
   "cell_type": "code",
   "execution_count": null,
   "metadata": {
    "scrolled": false
   },
   "outputs": [],
   "source": [
    "#### Make Supplement 2 \n",
    "FN_OUT = 'FIGS2-ERA5-Final.png'\n",
    "\n",
    "rcParams['mathtext.default'] = 'regular' # set text to reg, not italic \n",
    "\n",
    "fig, axs = plt.subplots(3, 3, figsize = (18, 16), sharex=True)\n",
    "ws = 0.25\n",
    "fig.subplots_adjust(wspace=ws)\n",
    "scale = 10**8\n",
    "\n",
    "#### Nigeria\n",
    "country = 'Nigeria'\n",
    "color = 'mediumorchid'\n",
    "col = 'people_days'\n",
    "df = HI_STATS[HI_STATS['CTR_MN_NM'] == country]\n",
    "X_year = list(df.groupby('year')['ID_HDC_G0'].mean().index)\n",
    "Y_stats = list(df.groupby('year')[col].sum() / scale)\n",
    "axs[0][0].plot(X_year, Y_stats, color = color, linestyle = '--')\n",
    "axs[0][0].legend(labels = [country])\n",
    "sns.regplot(X_year, Y_stats, color = color, ax = axs[0][0], scatter = False, truncate = True)\n",
    "#axs[0][0].set_ylabel('Person-days $yr^-1$  [billions] ', fontsize = 13)\n",
    "\n",
    "col = 'people_days_pop'\n",
    "df = HI_STATS[HI_STATS['CTR_MN_NM'] == country]\n",
    "X_year = list(df.groupby('year')['ID_HDC_G0'].mean().index)\n",
    "Y_stats = list(df.groupby('year')[col].sum() / scale)\n",
    "axs[0][1].plot(X_year, Y_stats, color = color, linestyle = '--')\n",
    "sns.regplot(X_year, Y_stats, color = color, ax = axs[0][1], scatter = False, truncate = True)\n",
    "\n",
    "col = 'people_days_heat'\n",
    "df = HI_STATS[HI_STATS['CTR_MN_NM'] == country]\n",
    "X_year = list(df.groupby('year')['ID_HDC_G0'].mean().index)\n",
    "Y_stats = list(df.groupby('year')[col].sum() / scale)\n",
    "axs[0][2].plot(X_year, Y_stats, color = color, linestyle = '--')\n",
    "sns.regplot(X_year, Y_stats, color = color, ax = axs[0][2], scatter = False, truncate = True)\n",
    "#axs[0][2].set_ylabel('Person-days $yr^-1$  [billions] ', fontsize = 13)\n",
    "\n",
    "#### China\n",
    "country = 'China'\n",
    "color = 'olivedrab'\n",
    "col = 'people_days'\n",
    "df = HI_STATS[HI_STATS['CTR_MN_NM'] == country]\n",
    "X_year = list(df.groupby('year')['ID_HDC_G0'].mean().index)\n",
    "Y_stats = list(df.groupby('year')[col].sum()/ scale)\n",
    "axs[1][0].plot(X_year, Y_stats, color = color, linestyle = '--')\n",
    "axs[1][0].legend(labels = [country])\n",
    "sns.regplot(X_year, Y_stats, color = color, ax = axs[1][0], scatter = False, truncate = True)\n",
    "\n",
    "col = 'people_days_pop'\n",
    "df = HI_STATS[HI_STATS['CTR_MN_NM'] == country]\n",
    "X_year = list(df.groupby('year')['ID_HDC_G0'].mean().index)\n",
    "Y_stats = list(df.groupby('year')[col].sum()/ scale)\n",
    "axs[1][1].plot(X_year, Y_stats, color = color, linestyle = '--')\n",
    "sns.regplot(X_year, Y_stats, color = color, ax = axs[1][1], scatter = False, truncate = True)\n",
    "\n",
    "col = 'people_days_heat'\n",
    "df = HI_STATS[HI_STATS['CTR_MN_NM'] == country]\n",
    "X_year = list(df.groupby('year')['ID_HDC_G0'].mean().index)\n",
    "Y_stats = list(df.groupby('year')[col].sum()/ scale)\n",
    "axs[1][2].plot(X_year, Y_stats, color = color, linestyle = '--')\n",
    "sns.regplot(X_year, Y_stats, color = color, ax = axs[1][2], scatter = False, truncate = True)\n",
    "\n",
    "#### Italy\n",
    "country = 'Italy'\n",
    "color = 'tomato'\n",
    "col = 'people_days'\n",
    "df = HI_STATS[HI_STATS['CTR_MN_NM'] == country]\n",
    "X_year = list(df.groupby('year')['ID_HDC_G0'].mean().index)\n",
    "Y_stats = list(df.groupby('year')[col].sum()/ scale)\n",
    "axs[2][0].plot(X_year, Y_stats, color = color, linestyle = '--')\n",
    "axs[2][0].legend(labels = [country])\n",
    "sns.regplot(X_year, Y_stats, color = color, ax = axs[2][0], scatter = False, truncate = True)\n",
    "\n",
    "col = 'people_days_pop'\n",
    "df = HI_STATS[HI_STATS['CTR_MN_NM'] == country]\n",
    "X_year = list(df.groupby('year')['ID_HDC_G0'].mean().index)\n",
    "Y_stats = list(df.groupby('year')[col].sum()/ scale)\n",
    "axs[2][1].plot(X_year, Y_stats, color = color, linestyle = '--')\n",
    "sns.regplot(X_year, Y_stats, color = color, ax = axs[2][1], scatter = False, truncate = True)\n",
    "\n",
    "col = 'people_days_heat'\n",
    "df = HI_STATS[HI_STATS['CTR_MN_NM'] == country]\n",
    "X_year = list(df.groupby('year')['ID_HDC_G0'].mean().index)\n",
    "Y_stats = list(df.groupby('year')[col].sum()/ scale)\n",
    "axs[2][2].plot(X_year, Y_stats, color = color, linestyle = '--')\n",
    "sns.regplot(X_year, Y_stats, color = color, ax = axs[2][2], scatter = False, truncate = True)\n",
    "\n",
    "# Axis labels & Titles\n",
    "axs[0][0].set_title('Total Exposure', size = 15 )\n",
    "axs[0][1].set_title('Trend due to population growth', size = 15)\n",
    "axs[0][2].set_title('Trend due to urban warming', size = 15)\n",
    "axs[2][1].set_xlabel('Year', fontsize = 15)\n",
    "axs[1][0].set_ylabel('Person-days $yr^-1$  [billions] ', fontsize = 15)\n",
    "\n",
    "# save it out\n",
    "plt.savefig(FIG_OUT+FN_OUT, dpi = 300, bbox_inches='tight')"
   ]
  },
  {
   "cell_type": "code",
   "execution_count": null,
   "metadata": {},
   "outputs": [],
   "source": [
    "#### Make Figure S3 and save it\n",
    "FN_OUT = 'FIGS3-ERA5-Final.png'\n",
    "\n",
    "rcParams['mathtext.default'] = 'regular' # set text to reg, not italic \n",
    "\n",
    "fig, axs = plt.subplots(3, 3, figsize = (18, 16), sharex=True)\n",
    "ws = 0.25\n",
    "fig.subplots_adjust(wspace=ws)\n",
    "scale = 10**8\n",
    "\n",
    "#### Lagos\n",
    "city = 2125 \n",
    "color = 'deepskyblue'\n",
    "col = 'people_days'\n",
    "df = HI_STATS[HI_STATS['ID_HDC_G0'] == city]\n",
    "X_year = list(df.groupby('year')['ID_HDC_G0'].mean().index)\n",
    "Y_stats = list(df.groupby('year')[col].sum() / scale)\n",
    "axs[0][0].plot(X_year, Y_stats, color = color, linestyle = '--')\n",
    "axs[0][0].legend(labels = ['Lagos'])\n",
    "sns.regplot(X_year, Y_stats, color = color, ax = axs[0][0], scatter = False, truncate = True)\n",
    "\n",
    "col = 'people_days_pop'\n",
    "df = HI_STATS[HI_STATS['ID_HDC_G0'] == city]\n",
    "X_year = list(df.groupby('year')['ID_HDC_G0'].mean().index)\n",
    "Y_stats = list(df.groupby('year')[col].sum() / scale)\n",
    "axs[0][1].plot(X_year, Y_stats, color = color, linestyle = '--')\n",
    "sns.regplot(X_year, Y_stats, color = color, ax = axs[0][1], scatter = False, truncate = True)\n",
    "\n",
    "col = 'people_days_heat'\n",
    "df = HI_STATS[HI_STATS['ID_HDC_G0'] == city]\n",
    "X_year = list(df.groupby('year')['ID_HDC_G0'].mean().index)\n",
    "Y_stats = list(df.groupby('year')[col].sum() / scale)\n",
    "axs[0][2].plot(X_year, Y_stats, color = color, linestyle = '--')\n",
    "sns.regplot(X_year, Y_stats, color = color, ax = axs[0][2], scatter = False, truncate = True)\n",
    "\n",
    "#### Abuja\n",
    "city = 2565 #10687\n",
    "color = 'darkgreen'\n",
    "col = 'people_days'\n",
    "df = HI_STATS[HI_STATS['ID_HDC_G0'] == city]\n",
    "X_year = list(df.groupby('year')['ID_HDC_G0'].mean().index)\n",
    "Y_stats = list(df.groupby('year')[col].sum()/ scale)\n",
    "axs[1][0].plot(X_year, Y_stats, color = color, linestyle = '--')\n",
    "axs[1][0].legend(labels = ['Abuja'])\n",
    "sns.regplot(X_year, Y_stats, color = color, ax = axs[1][0], scatter = False, truncate = True)\n",
    "\n",
    "col = 'people_days_pop'\n",
    "df = HI_STATS[HI_STATS['ID_HDC_G0'] == city]\n",
    "X_year = list(df.groupby('year')['ID_HDC_G0'].mean().index)\n",
    "Y_stats = list(df.groupby('year')[col].sum()/ scale)\n",
    "axs[1][1].plot(X_year, Y_stats, color = color, linestyle = '--')\n",
    "sns.regplot(X_year, Y_stats, color = color, ax = axs[1][1], scatter = False, truncate = True)\n",
    "\n",
    "col = 'people_days_heat'\n",
    "df = HI_STATS[HI_STATS['ID_HDC_G0'] == city]\n",
    "X_year = list(df.groupby('year')['ID_HDC_G0'].mean().index)\n",
    "Y_stats = list(df.groupby('year')[col].sum()/ scale)\n",
    "axs[1][2].plot(X_year, Y_stats, color = color, linestyle = '--')\n",
    "sns.regplot(X_year, Y_stats, color = color, ax = axs[1][2], scatter = False, truncate = True)\n",
    "\n",
    "#### Kano\n",
    "city = 2717\n",
    "color = 'plum'\n",
    "col = 'people_days'\n",
    "df = HI_STATS[HI_STATS['ID_HDC_G0'] == city]\n",
    "X_year = list(df.groupby('year')['ID_HDC_G0'].mean().index)\n",
    "Y_stats = list(df.groupby('year')[col].sum()/ scale)\n",
    "axs[2][0].plot(X_year, Y_stats, color = color, linestyle = '--')\n",
    "axs[2][0].legend(labels = ['Kano'])\n",
    "sns.regplot(X_year, Y_stats, color = color, ax = axs[2][0], scatter = False, truncate = True)\n",
    "\n",
    "col = 'people_days_pop'\n",
    "df = HI_STATS[HI_STATS['ID_HDC_G0'] == city]\n",
    "X_year = list(df.groupby('year')['ID_HDC_G0'].mean().index)\n",
    "Y_stats = list(df.groupby('year')[col].sum()/ scale)\n",
    "axs[2][1].plot(X_year, Y_stats, color = color, linestyle = '--')\n",
    "sns.regplot(X_year, Y_stats, color = color, ax = axs[2][1], scatter = False, truncate = True)\n",
    "\n",
    "col = 'people_days_heat'\n",
    "df = HI_STATS[HI_STATS['ID_HDC_G0'] == city]\n",
    "X_year = list(df.groupby('year')['ID_HDC_G0'].mean().index)\n",
    "Y_stats = list(df.groupby('year')[col].sum()/ scale)\n",
    "axs[2][2].plot(X_year, Y_stats, color = color, linestyle = '--')\n",
    "sns.regplot(X_year, Y_stats, color = color, ax = axs[2][2], scatter = False, truncate = True)\n",
    "\n",
    "# Axis labels & Titles\n",
    "axs[0][0].set_title('Total Exposure', size = 15 )\n",
    "axs[0][1].set_title('Trend due to population growth', size = 15)\n",
    "axs[0][2].set_title('Trend due to urban warming', size = 15)\n",
    "axs[2][1].set_xlabel('Year', fontsize = 15)\n",
    "axs[1][0].set_ylabel('Person-days $yr^-1$  [billions] ', fontsize = 15)\n",
    "\n",
    "# save it out\n",
    "plt.savefig(FIG_OUT+FN_OUT, dpi = 300, bbox_inches='tight')"
   ]
  },
  {
   "cell_type": "markdown",
   "metadata": {},
   "source": [
    "## Indian Cities"
   ]
  },
  {
   "cell_type": "code",
   "execution_count": null,
   "metadata": {
    "scrolled": true
   },
   "outputs": [],
   "source": [
    "top50[(top50['UC_NM_MN'] == 'Delhi [IND]') | (top50['UC_NM_MN'] == 'Mumbai (Bombay) [IND]')]"
   ]
  },
  {
   "cell_type": "code",
   "execution_count": null,
   "metadata": {},
   "outputs": [],
   "source": [
    "#### Make Figure S3 and save it\n",
    "FN_OUT = 'FIGS4-ERA5-Final.png'\n",
    "\n",
    "rcParams['mathtext.default'] = 'regular' # set text to reg, not italic \n",
    "\n",
    "fig, axs = plt.subplots(1, 3, figsize = (16, 5), sharex=True)\n",
    "ws = 0.25\n",
    "fig.subplots_adjust(wspace=ws)\n",
    "scale = 10**9\n",
    "\n",
    "#### Total\n",
    "city = 6955 # Delhi\n",
    "color = 'cornflowerblue'\n",
    "col = 'people_days'\n",
    "df = HI_STATS[HI_STATS['ID_HDC_G0'] == city]\n",
    "X_year = list(df.groupby('year')['ID_HDC_G0'].mean().index)\n",
    "Y_stats = list(df.groupby('year')[col].sum() / scale)\n",
    "axs[0].plot(X_year, Y_stats, color = color, linestyle = '-', linewidth = 3, alpha = 0.7)\n",
    "axs[0].legend(labels = ['Delhi', 'Mumbai'])\n",
    "\n",
    "city = 6845 # Mumbai \n",
    "color = 'chocolate'\n",
    "col = 'people_days'\n",
    "df = HI_STATS[HI_STATS['ID_HDC_G0'] == city]\n",
    "X_year = list(df.groupby('year')['ID_HDC_G0'].mean().index)\n",
    "Y_stats = list(df.groupby('year')[col].sum() / scale)\n",
    "axs[0].plot(X_year, Y_stats, color = color, linestyle = '-', linewidth = 3, alpha = 0.7)\n",
    "axs[0].legend(labels = ['Delhi', 'Mumbai'])\n",
    "\n",
    "#### Pop\n",
    "city = 6955 # Delhi\n",
    "color = 'cornflowerblue'\n",
    "col = 'people_days_pop'\n",
    "df = HI_STATS[HI_STATS['ID_HDC_G0'] == city]\n",
    "X_year = list(df.groupby('year')['ID_HDC_G0'].mean().index)\n",
    "Y_stats = list(df.groupby('year')[col].sum() / scale)\n",
    "axs[1].plot(X_year, Y_stats, color = color, linestyle = '-', linewidth = 3, alpha = 0.7)\n",
    "axs[1].legend(labels = ['Delhi', 'Mumbai'])\n",
    "\n",
    "city = 6845 # Mumbai \n",
    "color = 'chocolate'\n",
    "col = 'people_days_pop'\n",
    "df = HI_STATS[HI_STATS['ID_HDC_G0'] == city]\n",
    "X_year = list(df.groupby('year')['ID_HDC_G0'].mean().index)\n",
    "Y_stats = list(df.groupby('year')[col].sum() / scale)\n",
    "axs[1].plot(X_year, Y_stats, color = color, linestyle = '-', linewidth = 3, alpha = 0.7)\n",
    "axs[1].legend(labels = ['Delhi', 'Mumbai'])\n",
    "\n",
    "#### Heat\n",
    "city = 6955 # Delhi\n",
    "color = 'cornflowerblue'\n",
    "col = 'people_days_heat'\n",
    "df = HI_STATS[HI_STATS['ID_HDC_G0'] == city]\n",
    "X_year = list(df.groupby('year')['ID_HDC_G0'].mean().index)\n",
    "Y_stats = list(df.groupby('year')[col].sum() / scale)\n",
    "axs[2].plot(X_year, Y_stats, color = color, linestyle = '-', linewidth = 3, alpha = 0.7)\n",
    "axs[2].legend(labels = ['Delhi', 'Mumbai'])\n",
    "\n",
    "city = 6845 # Mumbai \n",
    "color = 'chocolate'\n",
    "col = 'people_days_heat'\n",
    "df = HI_STATS[HI_STATS['ID_HDC_G0'] == city]\n",
    "X_year = list(df.groupby('year')['ID_HDC_G0'].mean().index)\n",
    "Y_stats = list(df.groupby('year')[col].sum() / scale)\n",
    "axs[2].plot(X_year, Y_stats, color = color, linestyle = '-', linewidth = 3, alpha = 0.7)\n",
    "axs[2].legend(labels = ['Delhi', 'Mumbai'])\n",
    "\n",
    "# Add text\n",
    "axs[0].text(0.00, 1.1, '(A)', transform=axs[0].transAxes, size=15, fontweight='bold')\n",
    "axs[1].text(1.25, 1.1, '(B)', transform=axs[0].transAxes, size=15, fontweight='bold')\n",
    "axs[1].text(1.25*2, 1.1, '(C)', transform=axs[0].transAxes, size=15, fontweight='bold')\n",
    "axs[0].set_title('Total Exposure', size = 15 )\n",
    "axs[1].set_title('Trend due to population growth', size = 15)\n",
    "axs[2].set_title('Trend due to urban warming', size = 15)\n",
    "axs[1].set_xlabel('Year', fontsize = 15)\n",
    "axs[0].set_ylabel('Person-days $yr^-1$  [billions] ', fontsize = 15)\n",
    "\n",
    "# save it out\n",
    "plt.savefig(FIG_OUT+FN_OUT, dpi = 300, bbox_inches='tight')"
   ]
  }
 ],
 "metadata": {
  "kernelspec": {
   "display_name": "Python 3",
   "language": "python",
   "name": "python3"
  },
  "language_info": {
   "codemirror_mode": {
    "name": "ipython",
    "version": 3
   },
   "file_extension": ".py",
   "mimetype": "text/x-python",
   "name": "python",
   "nbconvert_exporter": "python",
   "pygments_lexer": "ipython3",
   "version": "3.6.10"
  }
 },
 "nbformat": 4,
 "nbformat_minor": 2
}
