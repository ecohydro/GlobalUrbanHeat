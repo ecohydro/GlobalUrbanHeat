{
 "cells": [
  {
   "cell_type": "markdown",
   "metadata": {},
   "source": [
    "# Figure 3\n",
    "\n",
    "- Notebook to make data for figure 3 (likely a map)\n",
    "- by Cascade Tuholske on 2020.10.01\n",
    "\n",
    "**NEED TO DROP THOSE WITH LESS THAN ZERO**"
   ]
  },
  {
   "cell_type": "markdown",
   "metadata": {},
   "source": [
    "#### Dependencies"
   ]
  },
  {
   "cell_type": "code",
   "execution_count": 1,
   "metadata": {},
   "outputs": [],
   "source": [
    "import pandas as pd\n",
    "import geopandas as gpd\n",
    "import numpy as np  \n",
    "import matplotlib.pyplot as plt  \n",
    "import seaborn as seabornInstance \n",
    "from sklearn.model_selection import train_test_split \n",
    "from sklearn.linear_model import LinearRegression\n",
    "from sklearn import metrics\n",
    "import statsmodels.api as sm\n",
    "import seaborn as sns\n",
    "import glob"
   ]
  },
  {
   "cell_type": "markdown",
   "metadata": {},
   "source": [
    "#### Functions"
   ]
  },
  {
   "cell_type": "code",
   "execution_count": 3,
   "metadata": {},
   "outputs": [],
   "source": [
    "def pop_stat(df, geog, stats):\n",
    "    \n",
    "    \"\"\"Finds linear coef for increase in stat by a given geography from 1983 - 2016, as well\n",
    "    as the pct change in population of the cities within the given geography\"\"\"\n",
    "\n",
    "    # Get results\n",
    "    labels = []\n",
    "    delt_list = []\n",
    "    r2_list = []\n",
    "    coef_list = []\n",
    "    p_list = []\n",
    "    df_out = pd.DataFrame()\n",
    "\n",
    "    for label, df_geog in df.groupby(geog):\n",
    "\n",
    "        # Get Data\n",
    "        X_year = np.array(df_geog.groupby('year')['ID_HDC_G0'].mean().index).reshape((-1, 1))\n",
    "        Y_stats = np.array(df_geog.groupby('year')[stats].sum()).reshape((-1, 1))\n",
    "\n",
    "        # Add Intercept\n",
    "        X_year_2 = sm.add_constant(X_year)\n",
    "\n",
    "        # Regress\n",
    "        model = sm.OLS(Y_stats, X_year_2).fit() \n",
    "        \n",
    "        # Get slope\n",
    "        # first param in intercept coef, second is slope of line but if slope = 0, then intecept\n",
    "        if len(model.params) == 2:\n",
    "            coef = model.params[1]\n",
    "            \n",
    "        else:\n",
    "            coef = model.params[0]\n",
    "        \n",
    "        # R2 and P\n",
    "        r2 = model.rsquared_adj\n",
    "        p = model.pvalues[0]\n",
    "\n",
    "        # Pop change\n",
    "        delt = df_geog.drop_duplicates('ID_HDC_G0').copy()\n",
    "        delt['delt_pop'] = delt['P2016'] - delt['P1983']\n",
    "        delt = delt['delt_pop'].sum()\n",
    "\n",
    "        # Make lists\n",
    "        labels.append(label)\n",
    "        r2_list.append(r2)\n",
    "        coef_list.append(coef)\n",
    "        p_list.append(p)\n",
    "        delt_list.append(delt)\n",
    "\n",
    "    # Make data frame\n",
    "    df_out[geog] = labels\n",
    "    df_out['p_delt'] = delt_list\n",
    "    df_out['r2'] = r2_list\n",
    "    df_out['coef'] = coef_list\n",
    "    df_out['p_value'] = [round(elem, 4) for elem in p_list]\n",
    "\n",
    "    return df_out"
   ]
  },
  {
   "cell_type": "markdown",
   "metadata": {},
   "source": [
    "#### Load and make data"
   ]
  },
  {
   "cell_type": "code",
   "execution_count": 4,
   "metadata": {},
   "outputs": [],
   "source": [
    "# file path\n",
    "DATA_IN = \"/home/cascade/projects/UrbanHeat/data/\"  # Note: Need ?dl=1 to make sure this file gets read correctly\n",
    "FIG_OUT = \"/home/cascade/projects/UrbanHeat/figures/\"\n",
    "\n",
    "# Raw Heat\n",
    "FN_raw = 'processed/All_data_Raw406_es_final_pdayadd.csv'\n",
    "raw_pdays = pd.read_csv(DATA_IN+FN_raw)\n"
   ]
  },
  {
   "cell_type": "code",
   "execution_count": 6,
   "metadata": {},
   "outputs": [
    {
     "data": {
      "text/html": [
       "<div>\n",
       "<style scoped>\n",
       "    .dataframe tbody tr th:only-of-type {\n",
       "        vertical-align: middle;\n",
       "    }\n",
       "\n",
       "    .dataframe tbody tr th {\n",
       "        vertical-align: top;\n",
       "    }\n",
       "\n",
       "    .dataframe thead th {\n",
       "        text-align: right;\n",
       "    }\n",
       "</style>\n",
       "<table border=\"1\" class=\"dataframe\">\n",
       "  <thead>\n",
       "    <tr style=\"text-align: right;\">\n",
       "      <th></th>\n",
       "      <th>Unnamed: 0</th>\n",
       "      <th>ID_HDC_G0</th>\n",
       "      <th>year</th>\n",
       "      <th>total_days</th>\n",
       "      <th>CTR_MN_NM</th>\n",
       "      <th>sub-region</th>\n",
       "      <th>region</th>\n",
       "      <th>intermediate-region</th>\n",
       "      <th>P</th>\n",
       "      <th>P1983</th>\n",
       "      <th>P2016</th>\n",
       "      <th>people_days</th>\n",
       "      <th>people_days_heat</th>\n",
       "      <th>people_days_pop</th>\n",
       "    </tr>\n",
       "  </thead>\n",
       "  <tbody>\n",
       "    <tr>\n",
       "      <td>0</td>\n",
       "      <td>0</td>\n",
       "      <td>2784</td>\n",
       "      <td>1983</td>\n",
       "      <td>1</td>\n",
       "      <td>Germany</td>\n",
       "      <td>Western Europe</td>\n",
       "      <td>Europe</td>\n",
       "      <td>Western Europe</td>\n",
       "      <td>9.976361e+05</td>\n",
       "      <td>997636.118717</td>\n",
       "      <td>1.573652e+06</td>\n",
       "      <td>0.000998</td>\n",
       "      <td>0.000998</td>\n",
       "      <td>0.000000e+00</td>\n",
       "    </tr>\n",
       "    <tr>\n",
       "      <td>1</td>\n",
       "      <td>1</td>\n",
       "      <td>2784</td>\n",
       "      <td>2013</td>\n",
       "      <td>1</td>\n",
       "      <td>Germany</td>\n",
       "      <td>Western Europe</td>\n",
       "      <td>Europe</td>\n",
       "      <td>Western Europe</td>\n",
       "      <td>1.538112e+06</td>\n",
       "      <td>997636.118717</td>\n",
       "      <td>1.573652e+06</td>\n",
       "      <td>0.001538</td>\n",
       "      <td>0.000998</td>\n",
       "      <td>5.404756e-04</td>\n",
       "    </tr>\n",
       "    <tr>\n",
       "      <td>2</td>\n",
       "      <td>2</td>\n",
       "      <td>2833</td>\n",
       "      <td>1983</td>\n",
       "      <td>1</td>\n",
       "      <td>Germany</td>\n",
       "      <td>Western Europe</td>\n",
       "      <td>Europe</td>\n",
       "      <td>Western Europe</td>\n",
       "      <td>6.014093e+04</td>\n",
       "      <td>60140.932532</td>\n",
       "      <td>6.497856e+04</td>\n",
       "      <td>0.000060</td>\n",
       "      <td>0.000060</td>\n",
       "      <td>0.000000e+00</td>\n",
       "    </tr>\n",
       "    <tr>\n",
       "      <td>3</td>\n",
       "      <td>3</td>\n",
       "      <td>2833</td>\n",
       "      <td>1984</td>\n",
       "      <td>1</td>\n",
       "      <td>Germany</td>\n",
       "      <td>Western Europe</td>\n",
       "      <td>Europe</td>\n",
       "      <td>Western Europe</td>\n",
       "      <td>6.033127e+04</td>\n",
       "      <td>60140.932532</td>\n",
       "      <td>6.497856e+04</td>\n",
       "      <td>0.000060</td>\n",
       "      <td>0.000060</td>\n",
       "      <td>1.903325e-07</td>\n",
       "    </tr>\n",
       "    <tr>\n",
       "      <td>4</td>\n",
       "      <td>4</td>\n",
       "      <td>2833</td>\n",
       "      <td>1998</td>\n",
       "      <td>1</td>\n",
       "      <td>Germany</td>\n",
       "      <td>Western Europe</td>\n",
       "      <td>Europe</td>\n",
       "      <td>Western Europe</td>\n",
       "      <td>6.411484e+04</td>\n",
       "      <td>60140.932532</td>\n",
       "      <td>6.497856e+04</td>\n",
       "      <td>0.000064</td>\n",
       "      <td>0.000060</td>\n",
       "      <td>3.973904e-06</td>\n",
       "    </tr>\n",
       "  </tbody>\n",
       "</table>\n",
       "</div>"
      ],
      "text/plain": [
       "   Unnamed: 0  ID_HDC_G0  year  total_days CTR_MN_NM      sub-region  region  \\\n",
       "0           0       2784  1983           1   Germany  Western Europe  Europe   \n",
       "1           1       2784  2013           1   Germany  Western Europe  Europe   \n",
       "2           2       2833  1983           1   Germany  Western Europe  Europe   \n",
       "3           3       2833  1984           1   Germany  Western Europe  Europe   \n",
       "4           4       2833  1998           1   Germany  Western Europe  Europe   \n",
       "\n",
       "  intermediate-region             P          P1983         P2016  people_days  \\\n",
       "0      Western Europe  9.976361e+05  997636.118717  1.573652e+06     0.000998   \n",
       "1      Western Europe  1.538112e+06  997636.118717  1.573652e+06     0.001538   \n",
       "2      Western Europe  6.014093e+04   60140.932532  6.497856e+04     0.000060   \n",
       "3      Western Europe  6.033127e+04   60140.932532  6.497856e+04     0.000060   \n",
       "4      Western Europe  6.411484e+04   60140.932532  6.497856e+04     0.000064   \n",
       "\n",
       "   people_days_heat  people_days_pop  \n",
       "0          0.000998     0.000000e+00  \n",
       "1          0.000998     5.404756e-04  \n",
       "2          0.000060     0.000000e+00  \n",
       "3          0.000060     1.903325e-07  \n",
       "4          0.000060     3.973904e-06  "
      ]
     },
     "execution_count": 6,
     "metadata": {},
     "output_type": "execute_result"
    }
   ],
   "source": [
    "raw_stats.head()"
   ]
  },
  {
   "cell_type": "markdown",
   "metadata": {},
   "source": [
    "# City-level change"
   ]
  },
  {
   "cell_type": "code",
   "execution_count": 7,
   "metadata": {},
   "outputs": [
    {
     "data": {
      "text/plain": [
       "8"
      ]
     },
     "execution_count": 7,
     "metadata": {},
     "output_type": "execute_result"
    }
   ],
   "source": [
    "# Find Regions where the trend in people days due to heat is sig at 0.05\n",
    "heat_stat = 'total_days'\n",
    "pdays_stat = 'people_days'\n",
    "geog = 'sub-region'\n",
    "df_region = pop_stat(raw_stats, geog, heat_stat)\n",
    "df_region = df_region[df_region['p_value'] < 0.05]\n",
    "sig_regions = list(df_region[geog])\n",
    "len(sig_regions)"
   ]
  },
  {
   "cell_type": "code",
   "execution_count": 25,
   "metadata": {},
   "outputs": [],
   "source": [
    "# Make an empty df\n",
    "df_out = pd.DataFrame(columns = ['ID_HDC_G0', 'p_delt', 'r2', 'coef_heat', 'p_value', 'coef_pday'])"
   ]
  },
  {
   "cell_type": "code",
   "execution_count": 27,
   "metadata": {},
   "outputs": [
    {
     "name": "stdout",
     "output_type": "stream",
     "text": [
      "2\n",
      "39\n",
      "64\n",
      "422\n",
      "440\n",
      "1366\n",
      "1870\n",
      "2094\n"
     ]
    }
   ],
   "source": [
    "# Get city-level data\n",
    "for i, region in enumerate(sig_regions):\n",
    "    \n",
    "    df_region = raw_stats[raw_stats[geog] == region] # select region\n",
    "    \n",
    "    # Get people days dues to heat coef\n",
    "    heat = pop_stat(df_region, 'ID_HDC_G0', heat_stat) # get stats \n",
    "    heat = heat[heat['p_value'] < 0.05] # subset by p value\n",
    "    heat.rename(columns={\"coef\": \"coef_heat\"}, inplace = True)\n",
    "    \n",
    "    # Get people days total\n",
    "    pdays_all = pop_stat(df_region, 'ID_HDC_G0', 'people_days') # get stats\n",
    "    pdays_all.rename(columns={\"coef\": \"coef_pday\"}, inplace = True)\n",
    "    \n",
    "    # try to merge them\n",
    "    heat = heat.merge(pdays_all[['ID_HDC_G0', 'coef_pday']], on = 'ID_HDC_G0', how = 'left')\n",
    "    \n",
    "    # add them on\n",
    "    df_out = df_out.append(heat)\n",
    "    print(len(df_out))"
   ]
  },
  {
   "cell_type": "markdown",
   "metadata": {},
   "source": [
    "#### Merge Back in Meta Data\n"
   ]
  },
  {
   "cell_type": "code",
   "execution_count": 45,
   "metadata": {},
   "outputs": [],
   "source": [
    "FN_raw = 'processed/All_data_Raw406_es_final.csv'\n",
    "raw_stats = pd.read_csv(DATA_IN+FN_raw)"
   ]
  },
  {
   "cell_type": "code",
   "execution_count": 46,
   "metadata": {},
   "outputs": [],
   "source": [
    "meta = raw_stats[['ID_HDC_G0', 'CTR_MN_NM','region', 'sub-region', 'intermediate-region', 'GCPNT_LAT', 'GCPNT_LON']]"
   ]
  },
  {
   "cell_type": "code",
   "execution_count": 47,
   "metadata": {},
   "outputs": [],
   "source": [
    "meta = meta.drop_duplicates('ID_HDC_G0')"
   ]
  },
  {
   "cell_type": "code",
   "execution_count": 48,
   "metadata": {},
   "outputs": [],
   "source": [
    "df_final = df_out.merge(meta, on = 'ID_HDC_G0', how = 'left')"
   ]
  },
  {
   "cell_type": "code",
   "execution_count": 49,
   "metadata": {},
   "outputs": [
    {
     "data": {
      "text/plain": [
       "2094"
      ]
     },
     "execution_count": 49,
     "metadata": {},
     "output_type": "execute_result"
    }
   ],
   "source": [
    "len(df_final)"
   ]
  },
  {
   "cell_type": "code",
   "execution_count": 50,
   "metadata": {},
   "outputs": [
    {
     "data": {
      "text/html": [
       "<div>\n",
       "<style scoped>\n",
       "    .dataframe tbody tr th:only-of-type {\n",
       "        vertical-align: middle;\n",
       "    }\n",
       "\n",
       "    .dataframe tbody tr th {\n",
       "        vertical-align: top;\n",
       "    }\n",
       "\n",
       "    .dataframe thead th {\n",
       "        text-align: right;\n",
       "    }\n",
       "</style>\n",
       "<table border=\"1\" class=\"dataframe\">\n",
       "  <thead>\n",
       "    <tr style=\"text-align: right;\">\n",
       "      <th></th>\n",
       "      <th>ID_HDC_G0</th>\n",
       "      <th>p_delt</th>\n",
       "      <th>r2</th>\n",
       "      <th>coef_heat</th>\n",
       "      <th>p_value</th>\n",
       "      <th>coef_pday</th>\n",
       "      <th>CTR_MN_NM</th>\n",
       "      <th>region</th>\n",
       "      <th>sub-region</th>\n",
       "      <th>intermediate-region</th>\n",
       "      <th>GCPNT_LAT</th>\n",
       "      <th>GCPNT_LON</th>\n",
       "    </tr>\n",
       "  </thead>\n",
       "  <tbody>\n",
       "    <tr>\n",
       "      <td>0</td>\n",
       "      <td>13041</td>\n",
       "      <td>37268.205086</td>\n",
       "      <td>0.174630</td>\n",
       "      <td>0.025974</td>\n",
       "      <td>0.0084</td>\n",
       "      <td>0.000003</td>\n",
       "      <td>Australia</td>\n",
       "      <td>Oceania</td>\n",
       "      <td>Australia and New Zealand</td>\n",
       "      <td>Australia and New Zealand</td>\n",
       "      <td>-34.058769</td>\n",
       "      <td>150.820711</td>\n",
       "    </tr>\n",
       "    <tr>\n",
       "      <td>1</td>\n",
       "      <td>13042</td>\n",
       "      <td>36929.203311</td>\n",
       "      <td>0.166724</td>\n",
       "      <td>0.063866</td>\n",
       "      <td>0.0101</td>\n",
       "      <td>0.000007</td>\n",
       "      <td>Australia</td>\n",
       "      <td>Oceania</td>\n",
       "      <td>Australia and New Zealand</td>\n",
       "      <td>Australia and New Zealand</td>\n",
       "      <td>-33.755903</td>\n",
       "      <td>150.697096</td>\n",
       "    </tr>\n",
       "    <tr>\n",
       "      <td>2</td>\n",
       "      <td>6628</td>\n",
       "      <td>47413.886787</td>\n",
       "      <td>0.120281</td>\n",
       "      <td>0.020168</td>\n",
       "      <td>0.0262</td>\n",
       "      <td>0.000001</td>\n",
       "      <td>China</td>\n",
       "      <td>Asia</td>\n",
       "      <td>Eastern Asia</td>\n",
       "      <td>Eastern Asia</td>\n",
       "      <td>44.422710</td>\n",
       "      <td>84.683331</td>\n",
       "    </tr>\n",
       "    <tr>\n",
       "      <td>3</td>\n",
       "      <td>6764</td>\n",
       "      <td>220955.714565</td>\n",
       "      <td>0.171578</td>\n",
       "      <td>0.067532</td>\n",
       "      <td>0.0090</td>\n",
       "      <td>0.000024</td>\n",
       "      <td>China</td>\n",
       "      <td>Asia</td>\n",
       "      <td>Eastern Asia</td>\n",
       "      <td>Eastern Asia</td>\n",
       "      <td>44.322059</td>\n",
       "      <td>86.041839</td>\n",
       "    </tr>\n",
       "    <tr>\n",
       "      <td>4</td>\n",
       "      <td>7010</td>\n",
       "      <td>30858.179137</td>\n",
       "      <td>0.320438</td>\n",
       "      <td>0.106952</td>\n",
       "      <td>0.0003</td>\n",
       "      <td>0.000006</td>\n",
       "      <td>China</td>\n",
       "      <td>Asia</td>\n",
       "      <td>Eastern Asia</td>\n",
       "      <td>Eastern Asia</td>\n",
       "      <td>44.159307</td>\n",
       "      <td>87.533838</td>\n",
       "    </tr>\n",
       "  </tbody>\n",
       "</table>\n",
       "</div>"
      ],
      "text/plain": [
       "  ID_HDC_G0         p_delt        r2  coef_heat  p_value  coef_pday  \\\n",
       "0     13041   37268.205086  0.174630   0.025974   0.0084   0.000003   \n",
       "1     13042   36929.203311  0.166724   0.063866   0.0101   0.000007   \n",
       "2      6628   47413.886787  0.120281   0.020168   0.0262   0.000001   \n",
       "3      6764  220955.714565  0.171578   0.067532   0.0090   0.000024   \n",
       "4      7010   30858.179137  0.320438   0.106952   0.0003   0.000006   \n",
       "\n",
       "   CTR_MN_NM   region                 sub-region        intermediate-region  \\\n",
       "0  Australia  Oceania  Australia and New Zealand  Australia and New Zealand   \n",
       "1  Australia  Oceania  Australia and New Zealand  Australia and New Zealand   \n",
       "2      China     Asia               Eastern Asia               Eastern Asia   \n",
       "3      China     Asia               Eastern Asia               Eastern Asia   \n",
       "4      China     Asia               Eastern Asia               Eastern Asia   \n",
       "\n",
       "   GCPNT_LAT   GCPNT_LON  \n",
       "0 -34.058769  150.820711  \n",
       "1 -33.755903  150.697096  \n",
       "2  44.422710   84.683331  \n",
       "3  44.322059   86.041839  \n",
       "4  44.159307   87.533838  "
      ]
     },
     "execution_count": 50,
     "metadata": {},
     "output_type": "execute_result"
    }
   ],
   "source": [
    "df_final.head()"
   ]
  },
  {
   "cell_type": "code",
   "execution_count": 51,
   "metadata": {},
   "outputs": [],
   "source": [
    "fn_out = 'processed/All_data_Raw406_es_final_pdayadd_fig3.csv'\n",
    "df_final.to_csv(DATA_IN+fn_out)"
   ]
  }
 ],
 "metadata": {
  "kernelspec": {
   "display_name": "geo",
   "language": "python",
   "name": "geo"
  },
  "language_info": {
   "codemirror_mode": {
    "name": "ipython",
    "version": 3
   },
   "file_extension": ".py",
   "mimetype": "text/x-python",
   "name": "python",
   "nbconvert_exporter": "python",
   "pygments_lexer": "ipython3",
   "version": "3.6.7"
  }
 },
 "nbformat": 4,
 "nbformat_minor": 2
}
