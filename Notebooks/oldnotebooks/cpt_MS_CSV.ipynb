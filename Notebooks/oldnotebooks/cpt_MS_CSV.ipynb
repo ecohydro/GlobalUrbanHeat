{
 "cells": [
  {
   "cell_type": "markdown",
   "metadata": {},
   "source": [
    "# CSV\n",
    "Notebook to make csv files for qgis figures <br>\n",
    "Cascade Tuholske Feb 2021"
   ]
  },
  {
   "cell_type": "code",
   "execution_count": 10,
   "metadata": {},
   "outputs": [],
   "source": [
    "import geopandas as gpd\n",
    "import glob\n",
    "import pandas"
   ]
  },
  {
   "cell_type": "code",
   "execution_count": 11,
   "metadata": {},
   "outputs": [],
   "source": [
    "DATA_PATH = '/Users/cascade/Github/UrbanHeat/data/PNAS-Finalv2/'"
   ]
  },
  {
   "cell_type": "code",
   "execution_count": 12,
   "metadata": {},
   "outputs": [],
   "source": [
    "fns = glob.glob(DATA_PATH+'*EXP05.json')"
   ]
  },
  {
   "cell_type": "code",
   "execution_count": 13,
   "metadata": {},
   "outputs": [
    {
     "data": {
      "text/plain": [
       "['/Users/cascade/Github/UrbanHeat/data/PNAS-Finalv2/WBGT32_1D_TREND_EXP05.json',\n",
       " '/Users/cascade/Github/UrbanHeat/data/PNAS-Finalv2/HI406_2D_TREND_EXP05.json',\n",
       " '/Users/cascade/Github/UrbanHeat/data/PNAS-Finalv2/WBGT28_1D_TREND_EXP05.json',\n",
       " '/Users/cascade/Github/UrbanHeat/data/PNAS-Finalv2/HI406_1D_TREND_EXP05.json',\n",
       " '/Users/cascade/Github/UrbanHeat/data/PNAS-Finalv2/HI461_1D_TREND_EXP05.json']"
      ]
     },
     "execution_count": 13,
     "metadata": {},
     "output_type": "execute_result"
    }
   ],
   "source": [
    "fns"
   ]
  },
  {
   "cell_type": "code",
   "execution_count": 14,
   "metadata": {},
   "outputs": [
    {
     "name": "stdout",
     "output_type": "stream",
     "text": [
      "/Users/cascade/Github/UrbanHeat/data/PNAS-Finalv2/WBGT32_1D_TREND_EXP05.csv\n",
      "/Users/cascade/Github/UrbanHeat/data/PNAS-Finalv2/HI406_2D_TREND_EXP05.csv\n",
      "/Users/cascade/Github/UrbanHeat/data/PNAS-Finalv2/WBGT28_1D_TREND_EXP05.csv\n",
      "/Users/cascade/Github/UrbanHeat/data/PNAS-Finalv2/HI406_1D_TREND_EXP05.csv\n",
      "/Users/cascade/Github/UrbanHeat/data/PNAS-Finalv2/HI461_1D_TREND_EXP05.csv\n"
     ]
    }
   ],
   "source": [
    "for fn in fns:\n",
    "    fn_out = fn.split('.json')[0]+'.csv'\n",
    "    \n",
    "    df = pandas.read_json(fn, orient = 'split')\n",
    "    df.to_csv(fn_out)\n",
    "    print(fn_out)"
   ]
  }
 ],
 "metadata": {
  "kernelspec": {
   "display_name": "Python 3",
   "language": "python",
   "name": "python3"
  },
  "language_info": {
   "codemirror_mode": {
    "name": "ipython",
    "version": 3
   },
   "file_extension": ".py",
   "mimetype": "text/x-python",
   "name": "python",
   "nbconvert_exporter": "python",
   "pygments_lexer": "ipython3",
   "version": "3.8.6"
  }
 },
 "nbformat": 4,
 "nbformat_minor": 4
}
