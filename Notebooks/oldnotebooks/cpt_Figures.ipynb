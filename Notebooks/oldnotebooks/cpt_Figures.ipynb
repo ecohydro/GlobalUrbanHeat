{
 "cells": [
  {
   "cell_type": "markdown",
   "metadata": {},
   "source": [
    "# Figures \n",
    "\n",
    "Notebook to start making figures for Tmax paper.\n",
    "\n",
    "Cascade Tuholske 2019-09-08\n",
    "\n",
    "#### NOTES\n",
    "There seems to be an error w/ ```CHIRTS-GHS-Events/``` whereby it is not capturing each heat event for each city or maybe not spliting them correctly.\n",
    "\n",
    "Updated 2019-09-24 Now use ```/home/cascade/projects/data_out_urbanheat/CHIRTS-GHS-Events-Stats```"
   ]
  },
  {
   "cell_type": "markdown",
   "metadata": {},
   "source": [
    "## RGB Plots\n",
    "\n",
    "For each city:\n",
    "- Total number of days per Year \n",
    "- Total number of events per year\n",
    "- Avg duration of events per year\n",
    "- Avg intensity per event \n",
    "- Avg intensity per year\n",
    "- Severity of each event\n",
    "- Avg. Severity of each event per year\n",
    "\n",
    "To start:\n",
    "- Red = # days in a given year \n",
    "- Green = avg duration in a given year\n",
    "- Blue = avg intensity in a given year"
   ]
  },
  {
   "cell_type": "markdown",
   "metadata": {},
   "source": [
    "#### Depdendencies"
   ]
  },
  {
   "cell_type": "code",
   "execution_count": 3,
   "metadata": {},
   "outputs": [],
   "source": [
    "import pandas as pd\n",
    "import geopandas as gpd\n",
    "import numpy as np\n",
    "import seaborn as sns\n",
    "import matplotlib.pyplot as plt\n",
    "from mpl_toolkits import mplot3d\n",
    "import matplotlib as mpl"
   ]
  },
  {
   "cell_type": "markdown",
   "metadata": {},
   "source": [
    "#### Load and arrange data"
   ]
  },
  {
   "cell_type": "code",
   "execution_count": 1,
   "metadata": {},
   "outputs": [],
   "source": [
    "# file paths\n",
    "\n",
    "DATA_IN = '/home/cascade/projects/data_out_urbanheat/CHIRTS-GHS-Events-Stats/'\n",
    "GHS_DATA_IN = '/home/CHIRTS/Tmax/cascade/GHS-UCDB/'"
   ]
  },
  {
   "cell_type": "code",
   "execution_count": 4,
   "metadata": {},
   "outputs": [],
   "source": [
    "# GHS Data\n",
    "GHS_fn = 'GHS_STAT_UCDB2015MT_GLOBE_R2019A_V1_0.shp'\n",
    "df_ghs = gpd.read_file(GHS_DATA_IN+GHS_fn)"
   ]
  },
  {
   "cell_type": "code",
   "execution_count": 5,
   "metadata": {
    "scrolled": true
   },
   "outputs": [
    {
     "data": {
      "text/plain": [
       "(3248, 161)"
      ]
     },
     "execution_count": 5,
     "metadata": {},
     "output_type": "execute_result"
    }
   ],
   "source": [
    "df_ghs[df_ghs['CTR_MN_NM'] == 'India'].shape"
   ]
  },
  {
   "cell_type": "code",
   "execution_count": 6,
   "metadata": {
    "scrolled": false
   },
   "outputs": [
    {
     "data": {
      "text/html": [
       "<div>\n",
       "<style scoped>\n",
       "    .dataframe tbody tr th:only-of-type {\n",
       "        vertical-align: middle;\n",
       "    }\n",
       "\n",
       "    .dataframe tbody tr th {\n",
       "        vertical-align: top;\n",
       "    }\n",
       "\n",
       "    .dataframe thead th {\n",
       "        text-align: right;\n",
       "    }\n",
       "</style>\n",
       "<table border=\"1\" class=\"dataframe\">\n",
       "  <thead>\n",
       "    <tr style=\"text-align: right;\">\n",
       "      <th></th>\n",
       "      <th>ID_HDC_G0</th>\n",
       "      <th>P75</th>\n",
       "      <th>P90</th>\n",
       "      <th>P00</th>\n",
       "      <th>P15</th>\n",
       "    </tr>\n",
       "  </thead>\n",
       "  <tbody>\n",
       "    <tr>\n",
       "      <td>0</td>\n",
       "      <td>5782</td>\n",
       "      <td>76680.403870</td>\n",
       "      <td>77349.278442</td>\n",
       "      <td>75261.170776</td>\n",
       "      <td>69023.903442</td>\n",
       "    </tr>\n",
       "    <tr>\n",
       "      <td>1</td>\n",
       "      <td>3316</td>\n",
       "      <td>432518.760010</td>\n",
       "      <td>399369.630417</td>\n",
       "      <td>350416.157928</td>\n",
       "      <td>281927.639362</td>\n",
       "    </tr>\n",
       "    <tr>\n",
       "      <td>2</td>\n",
       "      <td>5645</td>\n",
       "      <td>83301.193208</td>\n",
       "      <td>78605.444337</td>\n",
       "      <td>73295.000717</td>\n",
       "      <td>96123.248169</td>\n",
       "    </tr>\n",
       "    <tr>\n",
       "      <td>3</td>\n",
       "      <td>3185</td>\n",
       "      <td>59961.838394</td>\n",
       "      <td>67281.163544</td>\n",
       "      <td>73833.521271</td>\n",
       "      <td>83504.834900</td>\n",
       "    </tr>\n",
       "    <tr>\n",
       "      <td>4</td>\n",
       "      <td>3539</td>\n",
       "      <td>216241.069946</td>\n",
       "      <td>203083.534027</td>\n",
       "      <td>181690.372681</td>\n",
       "      <td>155063.227570</td>\n",
       "    </tr>\n",
       "  </tbody>\n",
       "</table>\n",
       "</div>"
      ],
      "text/plain": [
       "   ID_HDC_G0            P75            P90            P00            P15\n",
       "0       5782   76680.403870   77349.278442   75261.170776   69023.903442\n",
       "1       3316  432518.760010  399369.630417  350416.157928  281927.639362\n",
       "2       5645   83301.193208   78605.444337   73295.000717   96123.248169\n",
       "3       3185   59961.838394   67281.163544   73833.521271   83504.834900\n",
       "4       3539  216241.069946  203083.534027  181690.372681  155063.227570"
      ]
     },
     "execution_count": 6,
     "metadata": {},
     "output_type": "execute_result"
    }
   ],
   "source": [
    "# Map in city populations\n",
    "\n",
    "# Get Pop\n",
    "df_pop = pd.DataFrame()\n",
    "df_pop['ID_HDC_G0'] = df_ghs['ID_HDC_G0']\n",
    "df_pop['P75'] = df_ghs['P75']\n",
    "df_pop['P90'] = df_ghs['P90']\n",
    "df_pop['P00'] = df_ghs['P00']\n",
    "df_pop['P15'] = df_ghs['P15']\n",
    "\n",
    "df_pop.head()"
   ]
  },
  {
   "cell_type": "markdown",
   "metadata": {},
   "source": [
    "#### India Subset"
   ]
  },
  {
   "cell_type": "code",
   "execution_count": null,
   "metadata": {
    "scrolled": true
   },
   "outputs": [],
   "source": [
    "# Open \n",
    "\n",
    "year = '2015'\n",
    "stats_fn = 'CHIRTS-GHS-Events-Stats'+year+'.csv'\n",
    "stats = pd.read_csv(DATA_IN+stats_fn)\n",
    "stats.head()"
   ]
  },
  {
   "cell_type": "code",
   "execution_count": null,
   "metadata": {},
   "outputs": [],
   "source": [
    "# Select India\n",
    "india = stats[stats['CTR_MN_NM']=='India']\n",
    "\n",
    "sub_df = pd.DataFrame()\n",
    "sub_df['ID_HDC_G0'] = df_ghs['ID_HDC_G0']\n",
    "sub_df['P15'] = df_ghs['P15']\n",
    "sub_df['geometry'] = df_ghs['geometry']\n",
    "\n",
    "# merge population data\n",
    "india = india.merge(sub_df, on='ID_HDC_G0', how = 'inner')\n",
    "\n",
    "# to shape file\n",
    "india_gdf = gpd.GeoDataFrame(india, geometry = 'geometry')\n",
    "\n",
    "india_gdf.to_file('IndiaTemp2015.csv')"
   ]
  },
  {
   "cell_type": "code",
   "execution_count": null,
   "metadata": {},
   "outputs": [],
   "source": [
    "# to shape file\n",
    "#india.to_csv('IndiaTemp2015.csv')\n",
    "#india_gdf.to_file('IndiaTemp2015')"
   ]
  },
  {
   "cell_type": "code",
   "execution_count": 24,
   "metadata": {},
   "outputs": [],
   "source": [
    "# 2015 all temp for india\n",
    "\n",
    "DAILY_IN = '/home/cascade/projects/data_out_urbanheat/CHIRTS-GHS-DAILY/'\n",
    "\n",
    "# Get 2015 daily avg temp\n",
    "daily_2015 = pd.read_csv(DAILY_IN+'GHS-Tmax-DAILY_2015.csv')\n",
    "\n",
    "# Select India\n",
    "india = daily_2015[daily_2015['CTR_MN_NM']=='India']\n",
    "\n",
    "sub_df = pd.DataFrame()\n",
    "sub_df['ID_HDC_G0'] = df_ghs['ID_HDC_G0']\n",
    "sub_df['P15'] = df_ghs['P15']\n",
    "sub_df['geometry'] = df_ghs['geometry']\n",
    "\n",
    "sub_df.head()\n",
    "\n",
    "# merge population data\n",
    "sub_df = sub_df.merge(india, on='ID_HDC_G0', how = 'inner')\n",
    "\n",
    "sub_df.head()\n",
    "\n",
    "# # to shape file\n",
    "india_gdf = gpd.GeoDataFrame(sub_df, geometry = 'geometry')\n",
    "\n",
    "#india_gdf.to_file('IndiaTemp_daily2015.shp')\n",
    "\n",
    "#sub_df.to_csv('IndiaTemp_daily2015.csv')\n",
    "\n",
    "\n",
    "\n",
    "\n"
   ]
  },
  {
   "cell_type": "code",
   "execution_count": 22,
   "metadata": {
    "scrolled": true
   },
   "outputs": [
    {
     "data": {
      "text/html": [
       "<div>\n",
       "<style scoped>\n",
       "    .dataframe tbody tr th:only-of-type {\n",
       "        vertical-align: middle;\n",
       "    }\n",
       "\n",
       "    .dataframe tbody tr th {\n",
       "        vertical-align: top;\n",
       "    }\n",
       "\n",
       "    .dataframe thead th {\n",
       "        text-align: right;\n",
       "    }\n",
       "</style>\n",
       "<table border=\"1\" class=\"dataframe\">\n",
       "  <thead>\n",
       "    <tr style=\"text-align: right;\">\n",
       "      <th></th>\n",
       "      <th>ID_HDC_G0</th>\n",
       "      <th>P15</th>\n",
       "      <th>geometry</th>\n",
       "      <th>Unnamed: 0</th>\n",
       "      <th>CTR_MN_NM</th>\n",
       "      <th>2015.01.01</th>\n",
       "      <th>2015.01.02</th>\n",
       "      <th>2015.01.03</th>\n",
       "      <th>2015.01.04</th>\n",
       "      <th>2015.01.05</th>\n",
       "      <th>...</th>\n",
       "      <th>2015.12.22</th>\n",
       "      <th>2015.12.23</th>\n",
       "      <th>2015.12.24</th>\n",
       "      <th>2015.12.25</th>\n",
       "      <th>2015.12.26</th>\n",
       "      <th>2015.12.27</th>\n",
       "      <th>2015.12.28</th>\n",
       "      <th>2015.12.29</th>\n",
       "      <th>2015.12.30</th>\n",
       "      <th>2015.12.31</th>\n",
       "    </tr>\n",
       "  </thead>\n",
       "  <tbody>\n",
       "    <tr>\n",
       "      <td>0</td>\n",
       "      <td>6377</td>\n",
       "      <td>175516.100342</td>\n",
       "      <td>POLYGON ((74.24837242178884 34.5448745072262, ...</td>\n",
       "      <td>2818</td>\n",
       "      <td>India</td>\n",
       "      <td>11.298597</td>\n",
       "      <td>11.801771</td>\n",
       "      <td>9.942030</td>\n",
       "      <td>6.903456</td>\n",
       "      <td>9.057173</td>\n",
       "      <td>...</td>\n",
       "      <td>2.173816</td>\n",
       "      <td>2.514087</td>\n",
       "      <td>7.903125</td>\n",
       "      <td>8.535815</td>\n",
       "      <td>7.782947</td>\n",
       "      <td>10.915393</td>\n",
       "      <td>11.215777</td>\n",
       "      <td>12.110766</td>\n",
       "      <td>11.272388</td>\n",
       "      <td>12.288043</td>\n",
       "    </tr>\n",
       "    <tr>\n",
       "      <td>1</td>\n",
       "      <td>6365</td>\n",
       "      <td>145998.342850</td>\n",
       "      <td>POLYGON ((74.16635124000636 34.5187577769607, ...</td>\n",
       "      <td>2837</td>\n",
       "      <td>India</td>\n",
       "      <td>11.217757</td>\n",
       "      <td>11.720931</td>\n",
       "      <td>9.861190</td>\n",
       "      <td>6.822616</td>\n",
       "      <td>8.976333</td>\n",
       "      <td>...</td>\n",
       "      <td>2.375951</td>\n",
       "      <td>2.716222</td>\n",
       "      <td>8.105260</td>\n",
       "      <td>8.737950</td>\n",
       "      <td>7.985082</td>\n",
       "      <td>11.117528</td>\n",
       "      <td>11.417912</td>\n",
       "      <td>12.312902</td>\n",
       "      <td>11.474523</td>\n",
       "      <td>12.490178</td>\n",
       "    </tr>\n",
       "    <tr>\n",
       "      <td>2</td>\n",
       "      <td>6412</td>\n",
       "      <td>105459.208618</td>\n",
       "      <td>POLYGON ((74.64349934013318 34.46653356313358,...</td>\n",
       "      <td>2858</td>\n",
       "      <td>India</td>\n",
       "      <td>9.774817</td>\n",
       "      <td>10.592933</td>\n",
       "      <td>8.744880</td>\n",
       "      <td>6.112098</td>\n",
       "      <td>8.494330</td>\n",
       "      <td>...</td>\n",
       "      <td>1.610515</td>\n",
       "      <td>1.489849</td>\n",
       "      <td>5.386700</td>\n",
       "      <td>7.684978</td>\n",
       "      <td>7.473552</td>\n",
       "      <td>9.186076</td>\n",
       "      <td>9.839976</td>\n",
       "      <td>10.729106</td>\n",
       "      <td>9.726665</td>\n",
       "      <td>10.908336</td>\n",
       "    </tr>\n",
       "    <tr>\n",
       "      <td>3</td>\n",
       "      <td>6382</td>\n",
       "      <td>62692.136108</td>\n",
       "      <td>POLYGON ((74.28198205703076 34.42302278553506,...</td>\n",
       "      <td>2866</td>\n",
       "      <td>India</td>\n",
       "      <td>12.045166</td>\n",
       "      <td>12.548340</td>\n",
       "      <td>10.688599</td>\n",
       "      <td>7.650024</td>\n",
       "      <td>9.803741</td>\n",
       "      <td>...</td>\n",
       "      <td>2.783269</td>\n",
       "      <td>3.123540</td>\n",
       "      <td>8.512579</td>\n",
       "      <td>9.145269</td>\n",
       "      <td>8.392401</td>\n",
       "      <td>11.524846</td>\n",
       "      <td>11.825231</td>\n",
       "      <td>12.720220</td>\n",
       "      <td>11.881841</td>\n",
       "      <td>12.897496</td>\n",
       "    </tr>\n",
       "    <tr>\n",
       "      <td>4</td>\n",
       "      <td>6393</td>\n",
       "      <td>57140.376221</td>\n",
       "      <td>POLYGON ((74.37996234242176 34.33602679750986,...</td>\n",
       "      <td>2893</td>\n",
       "      <td>India</td>\n",
       "      <td>12.094355</td>\n",
       "      <td>12.754999</td>\n",
       "      <td>10.901102</td>\n",
       "      <td>8.065424</td>\n",
       "      <td>10.333399</td>\n",
       "      <td>...</td>\n",
       "      <td>3.308534</td>\n",
       "      <td>3.418336</td>\n",
       "      <td>8.061280</td>\n",
       "      <td>9.526765</td>\n",
       "      <td>9.044618</td>\n",
       "      <td>11.467103</td>\n",
       "      <td>11.944245</td>\n",
       "      <td>12.836305</td>\n",
       "      <td>11.915895</td>\n",
       "      <td>13.014558</td>\n",
       "    </tr>\n",
       "  </tbody>\n",
       "</table>\n",
       "<p>5 rows × 370 columns</p>\n",
       "</div>"
      ],
      "text/plain": [
       "   ID_HDC_G0            P15  \\\n",
       "0       6377  175516.100342   \n",
       "1       6365  145998.342850   \n",
       "2       6412  105459.208618   \n",
       "3       6382   62692.136108   \n",
       "4       6393   57140.376221   \n",
       "\n",
       "                                            geometry  Unnamed: 0 CTR_MN_NM  \\\n",
       "0  POLYGON ((74.24837242178884 34.5448745072262, ...        2818     India   \n",
       "1  POLYGON ((74.16635124000636 34.5187577769607, ...        2837     India   \n",
       "2  POLYGON ((74.64349934013318 34.46653356313358,...        2858     India   \n",
       "3  POLYGON ((74.28198205703076 34.42302278553506,...        2866     India   \n",
       "4  POLYGON ((74.37996234242176 34.33602679750986,...        2893     India   \n",
       "\n",
       "   2015.01.01  2015.01.02  2015.01.03  2015.01.04  2015.01.05  ...  \\\n",
       "0   11.298597   11.801771    9.942030    6.903456    9.057173  ...   \n",
       "1   11.217757   11.720931    9.861190    6.822616    8.976333  ...   \n",
       "2    9.774817   10.592933    8.744880    6.112098    8.494330  ...   \n",
       "3   12.045166   12.548340   10.688599    7.650024    9.803741  ...   \n",
       "4   12.094355   12.754999   10.901102    8.065424   10.333399  ...   \n",
       "\n",
       "   2015.12.22  2015.12.23  2015.12.24  2015.12.25  2015.12.26  2015.12.27  \\\n",
       "0    2.173816    2.514087    7.903125    8.535815    7.782947   10.915393   \n",
       "1    2.375951    2.716222    8.105260    8.737950    7.985082   11.117528   \n",
       "2    1.610515    1.489849    5.386700    7.684978    7.473552    9.186076   \n",
       "3    2.783269    3.123540    8.512579    9.145269    8.392401   11.524846   \n",
       "4    3.308534    3.418336    8.061280    9.526765    9.044618   11.467103   \n",
       "\n",
       "   2015.12.28  2015.12.29  2015.12.30  2015.12.31  \n",
       "0   11.215777   12.110766   11.272388   12.288043  \n",
       "1   11.417912   12.312902   11.474523   12.490178  \n",
       "2    9.839976   10.729106    9.726665   10.908336  \n",
       "3   11.825231   12.720220   11.881841   12.897496  \n",
       "4   11.944245   12.836305   11.915895   13.014558  \n",
       "\n",
       "[5 rows x 370 columns]"
      ]
     },
     "execution_count": 22,
     "metadata": {},
     "output_type": "execute_result"
    }
   ],
   "source": [
    "india_gdf.head()"
   ]
  },
  {
   "cell_type": "markdown",
   "metadata": {},
   "source": [
    "#### Functions"
   ]
  },
  {
   "cell_type": "code",
   "execution_count": null,
   "metadata": {},
   "outputs": [],
   "source": [
    "def make_stats(year, country):\n",
    "    \n",
    "    \"\"\" Function makes stats for plots ... ADD DETIALS LATER CPT\"\"\"\n",
    "    stats_fn = 'CHIRTS-GHS-Events-Stats'+year+'.csv'\n",
    "    stats = pd.read_csv(DATA_IN+stats_fn)\n",
    "    print(stats.shape)\n",
    "    \n",
    "    # Pick a country to subset for ease\n",
    "    country = stats[stats['CTR_MN_NM']==country]\n",
    "    print(country.shape)\n",
    "    \n",
    "    # Avg intensity and duration for each city for the whole year\n",
    "    avg_int = country.groupby('ID_HDC_G0')['avg_intensity'].mean()\n",
    "    avg_dur = country.groupby('ID_HDC_G0')['duration'].mean()\n",
    "\n",
    "    # Select cities and total days\n",
    "    cities = pd.DataFrame()\n",
    "    cities['ID_HDC_G0'] = country['ID_HDC_G0']\n",
    "    cities['total_days'] = country['total_days']\n",
    "    \n",
    "    print(cities.shape)\n",
    "\n",
    "    # Drop duplicates --- Removeed \n",
    "    cities = cities.drop_duplicates('ID_HDC_G0', keep = 'first')\n",
    "\n",
    "    # Merge \n",
    "    cities = cities.merge(avg_int, on='ID_HDC_G0', how = 'inner')\n",
    "    print(cities.shape)\n",
    "    cities = cities.merge(avg_dur, on='ID_HDC_G0', how = 'inner')\n",
    "    print(cities.shape)\n",
    "    cities = cities.merge(df_pop, on = 'ID_HDC_G0', how = 'inner')\n",
    "    \n",
    "    print(cities.shape)\n",
    "    \n",
    "    return cities"
   ]
  },
  {
   "cell_type": "markdown",
   "metadata": {},
   "source": [
    "### 3-D Plots"
   ]
  },
  {
   "cell_type": "code",
   "execution_count": null,
   "metadata": {},
   "outputs": [],
   "source": [
    "# Set location and year\n",
    "country_nm = 'India'\n",
    "year = '2015'\n",
    "pop = 'P15'\n",
    "\n",
    "# select data for plot\n",
    "cities = make_stats(year, country_nm)\n",
    "\n",
    "# Drop cities if needed\n",
    "cities = cities[cities[pop]>5*10**4]\n",
    "cities.shape"
   ]
  },
  {
   "cell_type": "code",
   "execution_count": null,
   "metadata": {},
   "outputs": [],
   "source": [
    "cities.head()"
   ]
  },
  {
   "cell_type": "code",
   "execution_count": null,
   "metadata": {
    "scrolled": false
   },
   "outputs": [],
   "source": [
    "# 3d plots\n",
    "\n",
    "import matplotlib\n",
    "\n",
    "# make color map\n",
    "mymap = plt.get_cmap(\"magma_r\")\n",
    "\n",
    "# make plot\n",
    "fig = plt.figure(figsize=[20,15])\n",
    "ax = plt.axes(projection='3d')\n",
    "\n",
    "# Pop X Axis 1983\n",
    "# p = ax.scatter3D(np.log10(cities1983['P75']), cities1983['avg_intensity'], cities1983['duration'], \n",
    "#              c = cities1983['total_days'], cmap = mymap)\n",
    "\n",
    "# Pop X Axis 2015\n",
    "# p = ax.scatter3D(cities['avg_intensity'], cities['duration'], c = cities['total_days'],\n",
    "#              c = np.log10(cities[pop]), cmap = mymap)\n",
    "\n",
    "# # Pop as color\n",
    "p = ax.scatter3D(cities['avg_intensity'], cities['duration'], cities['total_days'], \n",
    "                 c =np.log10(cities[pop]), cmap = mymap)\n",
    "\n",
    "# make labels\n",
    "#ax.set_xlabel('Population, log10', fontsize = 18)\n",
    "ax.set_xlabel('Days per year', fontsize = 18)\n",
    "ax.set_ylabel('Average intensity per event, Tmax - 40.6 C', fontsize = 18)\n",
    "ax.set_zlabel('Average duration of events in days', fontsize = 18)\n",
    "\n",
    "# ax.set_xlabel('Average intensity per event, Tmax - 40.6 C')\n",
    "# ax.set_ylabel('Average duration of events in days')\n",
    "# ax.set_zlabel('Total numbers of days per year > 40.6 C')\n",
    "\n",
    "# Limits\n",
    "# ax.set_xlim3d(4, 7.5)\n",
    "# ax.set_ylim3d(0, 10)\n",
    "# ax.set_zlim3d(0, 20)\n",
    "\n",
    "# Title\n",
    "plt.title('Urban Heat Exposure for '+country_nm+' '+year, fontsize=25)\n",
    "\n",
    "# color bar\n",
    "fig.colorbar(p, ax = ax, shrink = 0.5, cmap = mymap)\n",
    "\n",
    "#plt.savefig('/home/cascade/projects/'+country_nm+year+'.png')"
   ]
  },
  {
   "cell_type": "markdown",
   "metadata": {},
   "source": [
    "## Days and Population"
   ]
  },
  {
   "cell_type": "code",
   "execution_count": null,
   "metadata": {},
   "outputs": [],
   "source": [
    "# file names\n",
    "\n",
    "DATA_IN = '/home/cascade/projects/data_out_urbanheat/'\n",
    "chirts_daily_fn = '20190831_TMax-GHS_TotEvents83-2016.csv'\n",
    "GHS_fn = 'GHS_STAT_UCDB2015MT_GLOBE_R2019A_V1_0.shp'"
   ]
  },
  {
   "cell_type": "code",
   "execution_count": null,
   "metadata": {},
   "outputs": [],
   "source": [
    "# Open daily and GHS_UCDB\n",
    "\n",
    "df_chirts = pd.read_csv(DATA_IN+chirts_daily_fn)\n",
    "df_ghs = gpd.read_file(GHS_DATA_IN+GHS_fn)\n"
   ]
  },
  {
   "cell_type": "code",
   "execution_count": null,
   "metadata": {},
   "outputs": [],
   "source": [
    "# Map in city populations\n",
    "\n",
    "# Get Pop\n",
    "df_pop = pd.DataFrame()\n",
    "df_pop['ID_HDC_G0'] = df_ghs['ID_HDC_G0']\n",
    "df_pop['P75'] = df_ghs['P75']\n",
    "df_pop['P90'] = df_ghs['P90']\n",
    "df_pop['P00'] = df_ghs['P00']\n",
    "df_pop['P15'] = df_ghs['P15']\n",
    "\n",
    "df_pop.head()"
   ]
  },
  {
   "cell_type": "code",
   "execution_count": null,
   "metadata": {},
   "outputs": [],
   "source": [
    "# merge\n",
    "\n",
    "df_chirts_merge = pd.merge(df_pop, df_chirts, on='ID_HDC_G0', how = 'inner')\n"
   ]
  },
  {
   "cell_type": "code",
   "execution_count": null,
   "metadata": {},
   "outputs": [],
   "source": [
    "df_chirts_merge.head()"
   ]
  },
  {
   "cell_type": "code",
   "execution_count": null,
   "metadata": {},
   "outputs": [],
   "source": [
    "# Make people days\n",
    "\n",
    "df_Tpop = pd.DataFrame()\n",
    "df_Tpop['ID_HDC_G0'] = df_chirts_merge['ID_HDC_G0']\n",
    "df_Tpop['CTR_MN_NM'] = df_chirts_merge['CTR_MN_NM']\n",
    "df_Tpop['P75'] = df_chirts_merge['P75']\n",
    "df_Tpop['P90'] = df_chirts_merge['P90']\n",
    "df_Tpop['P00'] = df_chirts_merge['P00']\n",
    "df_Tpop['P15'] = df_chirts_merge['P15']\n",
    "df_Tpop['1983'] = df_chirts_merge['1983']\n",
    "df_Tpop['1990'] = df_chirts_merge['1990']\n",
    "df_Tpop['2000'] = df_chirts_merge['2000']\n",
    "df_Tpop['2015'] = df_chirts_merge['2015']"
   ]
  },
  {
   "cell_type": "code",
   "execution_count": null,
   "metadata": {},
   "outputs": [],
   "source": [
    "df_Tpop['PD_1983'] = df_Tpop['P75'] * df_Tpop['1983']\n",
    "df_Tpop['PD_1990'] = df_Tpop['P90'] * df_Tpop['1990']\n",
    "df_Tpop['PD_2000'] = df_Tpop['P00'] * df_Tpop['2000']\n",
    "df_Tpop[\n",
    "    'PD_2015'] = df_Tpop['P15'] * df_Tpop['2015']\n"
   ]
  },
  {
   "cell_type": "code",
   "execution_count": null,
   "metadata": {},
   "outputs": [],
   "source": [
    "df_Tpop[2500:2600]"
   ]
  },
  {
   "cell_type": "code",
   "execution_count": null,
   "metadata": {},
   "outputs": [],
   "source": [
    "# Write it out\n",
    "\n",
    "# df_Tpop.to_csv(TDATA_IN+'CHIRTS-GHS-PeopleDays.csv')"
   ]
  },
  {
   "cell_type": "markdown",
   "metadata": {},
   "source": [
    "#### Sum People Days and Plot it \n",
    "\n",
    "- Dude turn this into a function"
   ]
  },
  {
   "cell_type": "code",
   "execution_count": null,
   "metadata": {},
   "outputs": [],
   "source": [
    "year = '2015' # get Tmax events for a given year\n",
    "pop_year = 'P15' # get the pop for each city\n",
    "country = 'Indonesia' # pick a country\n",
    "\n",
    "country = df_Tpop[df_Tpop['CTR_MN_NM'] == country]\n",
    "\n",
    "pop_tot = country.groupby(year)[pop_year].sum() # group pop by tmax events and sum\n",
    "pop_range = (list(range(1,len(pop_tot)+1))) # make a list of range\n",
    "\n",
    "print(len(pop_tot))\n",
    "print(len(pop_range))\n",
    "\n",
    "test = pd.DataFrame()\n",
    "test['pop_tot'] = pop_tot / 10**6\n",
    "test['pop_range'] = pop_range\n",
    "\n",
    "tot = test.pop_tot.sum()\n",
    "print(tot)"
   ]
  },
  {
   "cell_type": "code",
   "execution_count": null,
   "metadata": {},
   "outputs": [],
   "source": [
    "country()"
   ]
  },
  {
   "cell_type": "code",
   "execution_count": null,
   "metadata": {},
   "outputs": [],
   "source": [
    "# make plot\n",
    "\n",
    "sns.set(font_scale=1)\n",
    "# fig, ax = plt.subplots(nrows=1, ncols=1)\n",
    "fig = plt.subplots(figsize=[10,10])\n",
    "\n",
    "ax = sns.barplot(x='pop_range', y='pop_tot', data = test, palette=\"autumn_r\")\n",
    "\n",
    "# Colors\n",
    "ax.set_facecolor('white')\n",
    "\n",
    "# Sent font color\n",
    "\n",
    "# control x and y limits\n",
    "plt.ylim(0, 5)\n",
    "plt.xlim(-1, 75)\n",
    "\n",
    "# Labels\n",
    "plt.xlabel('Number of Days Per Year > 40.6C, ', fontsize = 20, c = 'black')\n",
    "plt.ylabel('Total Number of Urban Residents Exposed (millions)', fontsize = 20, c = 'black')\n",
    "plt.title('Urban Population Exposed to Days >40.6C, Nigeria '+ year, fontsize =20, c = 'black')\n",
    "\n",
    "# ticks\n",
    "tick = list(range(0,100, 50))\n",
    "plt.xticks(tick, tick)\n",
    "ax.tick_params(axis='x', colors='black')\n",
    "ax.tick_params(axis='y', colors='black')\n",
    "\n",
    "plt.savefig('/home/cascade/projects/'+'peopledays Nigeria ' +year+'.png')\n",
    "\n",
    "#transparent=True\n"
   ]
  },
  {
   "cell_type": "raw",
   "metadata": {},
   "source": [
    "#### Delta Pop vs Delta Temp\n",
    "\n",
    "- Dude turn this into a function"
   ]
  },
  {
   "cell_type": "code",
   "execution_count": null,
   "metadata": {},
   "outputs": [],
   "source": [
    "# get pop\n",
    "\n",
    "p75 = df_Tpop.P75\n",
    "p15 = df_Tpop.P15\n",
    "\n",
    "# delta pop\n",
    "delta_pop = p15 - p75\n",
    "\n",
    "# get Tmax\n",
    "tmax83 = df_Tpop['1983']\n",
    "tmax15 = df_Tpop['2015']\n",
    "\n",
    "delta_tmax = tmax15 - tmax83\n",
    "\n",
    "# get people days\n",
    "pd83 = df_Tpop['PD_1983']\n",
    "pd15 = df_Tpop['PD_2015']\n",
    "\n",
    "delta_pd = pd15 - pd83\n",
    "\n",
    "# make df\n",
    "df_delta = pd.DataFrame()\n",
    "df_delta['delta_pop'] = np.log10(delta_pop)\n",
    "df_delta['delta_tmax'] = delta_tmax\n",
    "df_delta['delta_pd'] = np.log10(delta_pd)"
   ]
  },
  {
   "cell_type": "code",
   "execution_count": null,
   "metadata": {},
   "outputs": [],
   "source": [
    "# make plot\n",
    "\n",
    "sns.set(font_scale=1)\n",
    "# fig, ax = plt.subplots(nrows=1, ncols=1)\n",
    "fig = plt.subplots(figsize=[10,10])\n",
    "\n",
    "ax = sns.scatterplot(x='delta_tmax', y='delta_pd', data = df_delta, alpha = 0.5)\n",
    "\n",
    "# Colors\n",
    "# ax.set_facecolor('White')\n",
    "\n",
    "# control x and y limits\n",
    "# plt.ylim(0, 8)\n",
    "# plt.xlim(-25, 70)\n",
    "\n",
    "# Labels\n",
    "plt.ylabel('Log10 Change 2015 - 1983 in PeopleDays (# of days per year >40.6C x population)')\n",
    "plt.xlabel('Change 2015 - 1983 in number of days >40.6C')\n",
    "plt.title('Global change in People Days vs change in number of days >40.6C 1983 - 2015')\n",
    "\n",
    "\n",
    "plt.axvline(x=0, color = 'black')\n",
    "# plt.axhline(y=2, color = 'black')\n",
    "\n",
    "# ticks\n",
    "# tick = list(range(0,200, 50))\n",
    "# plt.xticks(tick, tick)\n"
   ]
  },
  {
   "cell_type": "markdown",
   "metadata": {},
   "source": [
    "#### All events vs all Pop by year w/ size = to People Days\n",
    "\n",
    "- Dude turn this into a function"
   ]
  },
  {
   "cell_type": "code",
   "execution_count": null,
   "metadata": {},
   "outputs": [],
   "source": [
    "# Get tmax\n",
    "tmax83 = df_Tpop['1983']\n",
    "tmax90 = df_Tpop['1990']\n",
    "tmax00 = df_Tpop['2000']\n",
    "tmax15 = df_Tpop['2015']\n",
    "\n",
    "# Get People Days\n",
    "pd83 = df_Tpop['PD_1983']\n",
    "pd90 = df_Tpop['PD_1990']\n",
    "pd00 = df_Tpop['PD_2000']\n",
    "pd15 = df_Tpop['PD_2015']\n",
    "\n",
    "# Get Pop \n",
    "p75 = df_Tpop.P75\n",
    "p90 = df_Tpop.P90\n",
    "p00 = df_Tpop.P00\n",
    "p15 = df_Tpop.P15"
   ]
  },
  {
   "cell_type": "code",
   "execution_count": null,
   "metadata": {},
   "outputs": [],
   "source": [
    "np.unique(p15)"
   ]
  },
  {
   "cell_type": "code",
   "execution_count": null,
   "metadata": {},
   "outputs": [],
   "source": [
    "def make_df(tmax, pday, pop, year):\n",
    "    l = len(tmax)\n",
    "    year_list = [year] * l\n",
    "    \n",
    "    df = pd.DataFrame()\n",
    "    df['events'] = tmax\n",
    "    df['pop'] = np.log10(pop)\n",
    "    df['pday'] = pday\n",
    "    df['year'] = year_list\n",
    "    \n",
    "    return df"
   ]
  },
  {
   "cell_type": "code",
   "execution_count": null,
   "metadata": {},
   "outputs": [],
   "source": [
    "# make my data\n",
    "df83 = make_df(tmax83, pd83, p75, 'Year 1983')\n",
    "df90 = make_df(tmax90, pd90, p90, 'Year 1990')\n",
    "df00 = make_df(tmax00, pd00, p00, 'Year 2000')\n",
    "df15 = make_df(tmax15, pd15, p15, 'Year 2015')\n",
    "\n",
    "# concat it\n",
    "df_concat = pd.concat([df83, df90, df00, df15])\n",
    "df_concat.shape"
   ]
  },
  {
   "cell_type": "code",
   "execution_count": null,
   "metadata": {},
   "outputs": [],
   "source": [
    "# make plot\n",
    "\n",
    "sns.set(font_scale=1)\n",
    "# fig, ax = plt.subplots(nrows=1, ncols=1)\n",
    "fig = plt.subplots(figsize=[15,15])\n",
    "\n",
    "ax = sns.scatterplot(x='pop', y='events', hue = 'year', data = df_concat, alpha = 0.7)\n",
    "\n",
    "# Colors\n",
    "ax.set_facecolor('White')\n",
    "\n",
    "# control x and y limits\n",
    "plt.ylim(0, 200)\n",
    "plt.xlim(-2, 10)\n",
    "\n",
    "# Labels\n",
    "# plt.ylabel('Change in population, 1975 - 2015 (log 10)')\n",
    "# plt.xlabel('Change in number of days per year >40.6, 1983 - 2015')\n",
    "# plt.title('Change in number of days per year >40.6 vs. Change in Population 1983 - 2015')\n",
    "\n",
    "\n",
    "# plt.axvline(x=0, color = 'black')\n",
    "# # plt.axhline(y=2, color = 'black')\n",
    "\n",
    "# ticks\n",
    "# tick = list(range(0,200, 50))\n",
    "# plt.xticks(tick, tick)\n"
   ]
  },
  {
   "cell_type": "markdown",
   "metadata": {},
   "source": [
    "# Old Code"
   ]
  },
  {
   "cell_type": "code",
   "execution_count": null,
   "metadata": {},
   "outputs": [],
   "source": [
    "# Open data\n",
    "\n",
    "# CHIRTS-GHS Temp\n",
    "year = '2015'\n",
    "pop = 'P15'\n",
    "stats_fn = 'CHIRTS-GHS-Events-Stats'+year+'.csv'\n",
    "stats = pd.read_csv(DATA_IN+stats_fn)\n",
    "print(stats.shape)\n",
    "\n",
    "# GHS Data\n",
    "GHS_fn = 'GHS_STAT_UCDB2015MT_GLOBE_R2019A_V1_0.shp'\n",
    "df_ghs = gpd.read_file(GHS_DATA_IN+GHS_fn)"
   ]
  },
  {
   "cell_type": "code",
   "execution_count": null,
   "metadata": {},
   "outputs": [],
   "source": [
    "# # Load 1983\n",
    "# cities1983 = make_stats(year, country_nm)\n",
    "# cities1983['year'] = '1983'\n",
    "\n",
    "# # Load 2015\n",
    "# cities2015 = make_stats('2015', country_nm)\n",
    "# cities2015['year'] = '2015'\n",
    "\n",
    "# Merge\n",
    "# cities = pd.DataFrame()\n",
    "# cities = cities.append(cities1983)\n",
    "# print(cities.shape)\n",
    "# cities = cities.append(cities2015)\n",
    "# print(cities.shape)"
   ]
  }
 ],
 "metadata": {
  "kernelspec": {
   "display_name": "geo",
   "language": "python",
   "name": "geo"
  },
  "language_info": {
   "codemirror_mode": {
    "name": "ipython",
    "version": 3
   },
   "file_extension": ".py",
   "mimetype": "text/x-python",
   "name": "python",
   "nbconvert_exporter": "python",
   "pygments_lexer": "ipython3",
   "version": "3.6.7"
  }
 },
 "nbformat": 4,
 "nbformat_minor": 2
}
