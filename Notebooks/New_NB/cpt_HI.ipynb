{
 "cells": [
  {
   "cell_type": "markdown",
   "metadata": {},
   "source": [
    "Notebook to check heat index values with RH-avg and RH-tmax"
   ]
  },
  {
   "cell_type": "code",
   "execution_count": 1,
   "metadata": {},
   "outputs": [],
   "source": [
    "#### Functions \n",
    "def C_to_F(Tmax_C):\n",
    "    \"Function converts temp in C to F\"\n",
    "    Tmax_F = (Tmax_C * (9/5)) + 32\n",
    "    \n",
    "    return Tmax_F\n",
    "\n",
    "def F_to_C(Tmax_F):\n",
    "    \"Function converts temp in F to C\"\n",
    "    Tmax_C = (Tmax_F - 32) * (5/9)\n",
    "    \n",
    "    return Tmax_C\n",
    "\n",
    "def heatindex(Tmax, RH, unit_in, unit_out):\n",
    "    \n",
    "    \"\"\"Make Heat Index from 2m air and relative humidity following NOAA's guidelines: \n",
    "    https://www.wpc.ncep.noaa.gov/html/heatindex_equation.shtml. It is assumed that the\n",
    "    tempatures and RH are geographically and temporally aligned in the x-arrays and can be stacked\n",
    "    to the funciton.\n",
    "    \n",
    "    --- update as needed cpt 2020.02.17\n",
    "    \n",
    "    Args:\n",
    "        Tmax = x-array of tempatures\n",
    "        RH = x-array of realtive humitity\n",
    "        unit_in = F or C, will convert C to F to apply heat index\n",
    "        unit_out = If C is desired, will convert data to C\n",
    "        \n",
    "    Returns HI\n",
    "    \"\"\"\n",
    "    \n",
    "    # Make all data as float \n",
    "#     Tmax = Tmax.astype('float')\n",
    "#     RH = RH.astype('float')\n",
    "    \n",
    "    # 1 convert C to F if needed\n",
    "    if unit_in == 'C':\n",
    "        Tmax = C_to_F(Tmax)\n",
    "        \n",
    "    # 2 Apply Steadman's and average with Tmax\n",
    "    USE_STEADMAN = (0.5 * (Tmax + 61.0 + ((Tmax-68.0)*1.2) + (RH*0.094)) + Tmax) / 2 < 80\n",
    "    STEADMAN = USE_STEADMAN * (0.5 * (Tmax + 61.0 + ((Tmax-68.0)*1.2) + (RH*0.094))) #.astype(int)\n",
    "    \n",
    "    # 3 Use Rothfusz if (STEADMAN + Tmax) / 2 > 80\n",
    "    USE_ROTH = (0.5 * (Tmax + 61.0 + ((Tmax-68.0)*1.2) + (RH*0.094)) + Tmax) / 2 > 80\n",
    "    ROTH = USE_ROTH * (-42.379 + 2.04901523*Tmax + 10.14333127*RH - .22475541*Tmax *RH - .00683783*Tmax*Tmax - .05481717*RH*RH + .00122874*Tmax*Tmax*RH + .00085282*Tmax*RH*RH - .00000199*Tmax*Tmax*RH*RH)\n",
    "\n",
    "    # 3 Adjust Roth 1\n",
    "    USE_ADJ1 = (RH < 13) & (Tmax > 80) & (Tmax < 112)\n",
    "    ADJ1_RH = USE_ADJ1 * RH #.astype(int)\n",
    "    ADJ1_RH = ADJ1_RH.where(ADJ1_RH != 0) #ADJ1_RH[ADJ1_RH == 0] = np.nan\n",
    "    ADJ1_Tmax = USE_ADJ1 * Tmax # .astype(int)\n",
    "    ADJ1_Tmax = ADJ1_Tmax.where(ADJ1_Tmax != 0) #ADJ1_Tmax[ADJ1_Tmax == 0] = np.nan\n",
    "    ADJ1 = ((13-ADJ1_RH)/4)*np.sqrt((17-abs(ADJ1_Tmax-95.))/17)\n",
    "    ADJ1 = np.nan_to_num(ADJ1, 0)\n",
    "    \n",
    "    ADJ1_ROTH = ROTH * USE_ADJ1\n",
    "    ADJ1_ROTH = ADJ1_ROTH - ADJ1\n",
    "    \n",
    "    # 4 Adjust Roth 2\n",
    "    USE_ADJ2 = (RH > 85) & (Tmax > 80) & (Tmax < 87)\n",
    "    ADJ2_RH = USE_ADJ2 * RH #.astype(int)\n",
    "    ADJ2_RH = ADJ2_RH.where(ADJ2_RH != 0) #ADJ2_RH[ADJ2_RH == 0] = np.nan\n",
    "    ADJ2_Tmax = USE_ADJ2.astype(int) * Tmax\n",
    "    ADJ2_Tmax = ADJ2_Tmax.where(ADJ2_Tmax != 0) #ADJ2_Tmax[ADJ2_Tmax == 0] = np.nan\n",
    "    ADJ2 = ((ADJ2_RH-85)/10) * ((87-ADJ2_Tmax)/5)\n",
    "    ADJ2 = np.nan_to_num(ADJ2, 0)\n",
    "    \n",
    "    ADJ2_ROTH = ROTH * USE_ADJ2\n",
    "    ADJ2_ROTH = ADJ2_ROTH + ADJ2\n",
    "    \n",
    "    # Roth w/o adjustments\n",
    "    ROTH = ROTH * ~USE_ADJ1 * ~USE_ADJ2\n",
    "    \n",
    "    # sum the stacked arrays\n",
    "    HI = ROTH + STEADMAN + ADJ1_ROTH +  ADJ2_ROTH \n",
    "    \n",
    "    # Convert HI to C if desired\n",
    "    if unit_out == 'C':\n",
    "        HI = F_to_C(HI)\n",
    "    \n",
    "    # return for test\n",
    "    # return STEADMAN, ADJ1_ROTH, ADJ2_ROTH, ROTH, HI\n",
    "    \n",
    "    return HI"
   ]
  },
  {
   "cell_type": "code",
   "execution_count": 26,
   "metadata": {},
   "outputs": [],
   "source": [
    "def make_hi(zipped):\n",
    "    \n",
    "    # get data date\n",
    "    date =zipped[0].split('RH.')[1].split('.tif')[0]\n",
    "    \n",
    "    # get meta data\n",
    "    meta = rasterio.open(zipped[0]).meta\n",
    "    meta['dtype'] = 'float64'\n",
    "    \n",
    "    # make hi\n",
    "    tmax_fn = zipped[0]\n",
    "    rh_fn = zipped[1]\n",
    "    tmax = xarray.open_rasterio(tmax_fn)\n",
    "    rh = xarray.open_rasterio(rh_fn)\n",
    "    hi = heatindex(Tmax = tmax, RH = rh, unit_in = 'C', unit_out = 'C')\n",
    "    \n",
    "    # get array\n",
    "    arr = hi[0]\n",
    "    \n",
    "    # write it out\n",
    "    fn_out = os.path.join(himax_path_out,data_out+'.'+date+'.tif')\n",
    "    \n",
    "    with rasterio.open(fn_out, 'w', **meta) as out:\n",
    "        out.write_band(1, arr)"
   ]
  },
  {
   "cell_type": "code",
   "execution_count": null,
   "metadata": {},
   "outputs": [],
   "source": [
    "def parallel_loop(function, dir_list, cpu_num):\n",
    "    \"\"\"Run the temp-ghs routine in parallel\n",
    "    Args: \n",
    "        function = function to apply in parallel\n",
    "        dir_list = list of dir to loop through \n",
    "        cpu_num = numper of cpus to fire  \n",
    "    \"\"\" \n",
    "    start = time.time()\n",
    "    pool = Pool(processes = cpu_num)\n",
    "    pool.map(function, dir_list)\n",
    "    # pool.map_async(function, dir_list)\n",
    "    pool.close()\n",
    "\n",
    "    end = time.time()\n",
    "    print(end-start)"
   ]
  },
  {
   "cell_type": "markdown",
   "metadata": {},
   "source": [
    "### Set up"
   ]
  },
  {
   "cell_type": "code",
   "execution_count": 3,
   "metadata": {},
   "outputs": [],
   "source": [
    "import numpy as np\n",
    "import pandas as pd\n",
    "import xarray \n",
    "import os\n",
    "import glob\n",
    "import rasterio\n",
    "import matplotlib.pyplot as plt\n",
    "import time\n",
    "import multiprocessing as mp \n",
    "from multiprocessing import Pool"
   ]
  },
  {
   "cell_type": "code",
   "execution_count": 4,
   "metadata": {},
   "outputs": [],
   "source": [
    "# Set up file paths\n",
    "rh_path = os.path.join('/home/CHIRTS/daily_ERA5/w-ERA5_Td.eq2-2-spechum-Tmax/') # RH min made with CHIRTS-daily Tmax\n",
    "tmax_path = os.path.join('/home/chc-data-out/products/CHIRTSdaily/v1.0/global_tifs_p05/Tmax/') # CHIRTS-daily Tmax\n",
    "himax_path = os.path.join('/scratch/cascade/UEH-daily/himax/') # path to write out HImax daily tifs"
   ]
  },
  {
   "cell_type": "markdown",
   "metadata": {},
   "source": [
    "## Run It"
   ]
  },
  {
   "cell_type": "code",
   "execution_count": 29,
   "metadata": {},
   "outputs": [],
   "source": [
    "# set up list of dirs for parallel loop\n",
    "year_list = sorted(os.listdir(rh_path)) # years\n",
    "rh_dirs = [os.path.join(rh_path, str(year)) for year in year_list] # rh years dirs\n",
    "tmax_dirs = [os.path.join(tmax_path, str(year)) for year in year_list] # rh years dirs\n",
    "zipped_dir_list = list(zip(rh_dirs,tmax_dirs)) # zip dirs \n",
    "\n",
    "# global variables\n",
    "data_out = 'himax'"
   ]
  },
  {
   "cell_type": "code",
   "execution_count": 7,
   "metadata": {},
   "outputs": [
    {
     "data": {
      "text/plain": [
       "('/home/CHIRTS/daily_ERA5/w-ERA5_Td.eq2-2-spechum-Tmax/1983',\n",
       " '/home/chc-data-out/products/CHIRTSdaily/v1.0/global_tifs_p05/Tmax/1983')"
      ]
     },
     "execution_count": 7,
     "metadata": {},
     "output_type": "execute_result"
    }
   ],
   "source": [
    "zipped_dir_list[0] # test "
   ]
  },
  {
   "cell_type": "code",
   "execution_count": 8,
   "metadata": {},
   "outputs": [],
   "source": [
    "rh_fns = sorted(glob.glob(zipped_dir_list[0][0]+'/*.tif')) # get RH min files\n",
    "tmax_fns = sorted(glob.glob(zipped_dir_list[0][1]+'/*.tif')) # get Tmax files\n",
    "zipped_fn_list = list(zip(rh_fns, tmax_fns))"
   ]
  },
  {
   "cell_type": "code",
   "execution_count": 13,
   "metadata": {
    "scrolled": false
   },
   "outputs": [
    {
     "name": "stdout",
     "output_type": "stream",
     "text": [
      "1983\n",
      "mkdir /scratch/cascade/UEH-daily/himax/1983 made\n"
     ]
    }
   ],
   "source": [
    "year = zipped_dir_list[0][0].split('Tmax/')[1] # get year\n",
    "print(year)\n",
    "\n",
    "# make dir to write files \n",
    "himax_path_out = os.path.join(himax_path, year) \n",
    "cmd = 'mkdir '+himax_path_out\n",
    "os.system(cmd)\n",
    "print(cmd, 'made')\n",
    "    "
   ]
  },
  {
   "cell_type": "code",
   "execution_count": 18,
   "metadata": {},
   "outputs": [],
   "source": [
    "test = zipped_fn_list[0:5]"
   ]
  },
  {
   "cell_type": "code",
   "execution_count": 27,
   "metadata": {},
   "outputs": [
    {
     "data": {
      "text/plain": [
       "[('/home/CHIRTS/daily_ERA5/w-ERA5_Td.eq2-2-spechum-Tmax/1983/RH.1983.01.01.tif',\n",
       "  '/home/chc-data-out/products/CHIRTSdaily/v1.0/global_tifs_p05/Tmax/1983/Tmax.1983.01.01.tif'),\n",
       " ('/home/CHIRTS/daily_ERA5/w-ERA5_Td.eq2-2-spechum-Tmax/1983/RH.1983.01.02.tif',\n",
       "  '/home/chc-data-out/products/CHIRTSdaily/v1.0/global_tifs_p05/Tmax/1983/Tmax.1983.01.02.tif'),\n",
       " ('/home/CHIRTS/daily_ERA5/w-ERA5_Td.eq2-2-spechum-Tmax/1983/RH.1983.01.03.tif',\n",
       "  '/home/chc-data-out/products/CHIRTSdaily/v1.0/global_tifs_p05/Tmax/1983/Tmax.1983.01.03.tif'),\n",
       " ('/home/CHIRTS/daily_ERA5/w-ERA5_Td.eq2-2-spechum-Tmax/1983/RH.1983.01.04.tif',\n",
       "  '/home/chc-data-out/products/CHIRTSdaily/v1.0/global_tifs_p05/Tmax/1983/Tmax.1983.01.04.tif'),\n",
       " ('/home/CHIRTS/daily_ERA5/w-ERA5_Td.eq2-2-spechum-Tmax/1983/RH.1983.01.05.tif',\n",
       "  '/home/chc-data-out/products/CHIRTSdaily/v1.0/global_tifs_p05/Tmax/1983/Tmax.1983.01.05.tif')]"
      ]
     },
     "execution_count": 27,
     "metadata": {},
     "output_type": "execute_result"
    }
   ],
   "source": [
    "test"
   ]
  },
  {
   "cell_type": "code",
   "execution_count": 30,
   "metadata": {},
   "outputs": [],
   "source": [
    "for zipped in test:\n",
    "    make_hi(zipped)"
   ]
  }
 ],
 "metadata": {
  "kernelspec": {
   "display_name": "Python 3",
   "language": "python",
   "name": "python3"
  },
  "language_info": {
   "codemirror_mode": {
    "name": "ipython",
    "version": 3
   },
   "file_extension": ".py",
   "mimetype": "text/x-python",
   "name": "python",
   "nbconvert_exporter": "python",
   "pygments_lexer": "ipython3",
   "version": "3.9.5"
  }
 },
 "nbformat": 4,
 "nbformat_minor": 4
}
