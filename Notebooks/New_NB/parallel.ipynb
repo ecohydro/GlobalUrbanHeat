{
 "cells": [
  {
   "cell_type": "code",
   "execution_count": 5,
   "metadata": {},
   "outputs": [],
   "source": [
    "#### Dependencies\n",
    "#import numpy as np\n",
    "import pandas as pd\n",
    "import xarray \n",
    "import os\n",
    "import glob\n",
    "import rasterio\n",
    "import matplotlib.pyplot as plt\n",
    "import time\n",
    "import multiprocessing as mp \n",
    "from multiprocessing import Pool\n",
    "import multiprocessing"
   ]
  },
  {
   "cell_type": "code",
   "execution_count": 6,
   "metadata": {},
   "outputs": [],
   "source": [
    "def parallel_loop(function, dir_list, cpu_num):\n",
    "    \"\"\"Run a routine in parallel\n",
    "    Args: \n",
    "        function = function to apply in parallel\n",
    "        dir_list = list of dir to loop through \n",
    "        cpu_num = numper of cpus to fire  \n",
    "    \"\"\" \n",
    "    start = time.time()\n",
    "    pool = Pool(processes = cpu_num)\n",
    "    pool.map(function, dir_list)\n",
    "    # pool.map_async(function, dir_list)\n",
    "    pool.close()\n",
    "\n",
    "    end = time.time()\n",
    "    print(end-start)\n",
    "\n",
    "def write_rst(rst):\n",
    "    \n",
    "    print(multiprocessing.current_process())\n",
    "    fn_out = '/scratch/cascade/UEH-daily/test/'+rst.split('1983/')[1]\n",
    "    print(fn_out)\n",
    "    \n",
    "    arr = rasterio.open(rst).read(1)\n",
    "    meta = rasterio.open(rst).meta\n",
    "    \n",
    "    with rasterio.open(fn_out, 'w', **meta) as out:\n",
    "        out.write_band(1, arr)"
   ]
  },
  {
   "cell_type": "code",
   "execution_count": 7,
   "metadata": {},
   "outputs": [],
   "source": [
    "rh_path = os.path.join('/home/CHIRTS/daily_ERA5/w-ERA5_Td.eq2-2-spechum-Tmax/1983/')\n",
    "rst_list = glob.glob(rh_path+'*.tif')[:10]"
   ]
  },
  {
   "cell_type": "code",
   "execution_count": 8,
   "metadata": {},
   "outputs": [
    {
     "name": "stdout",
     "output_type": "stream",
     "text": [
      "/scratch/cascade/UEH-daily/test/RH.1983.01.15.tif\n",
      "/scratch/cascade/UEH-daily/test/RH.1983.11.02.tif\n",
      "/scratch/cascade/UEH-daily/test/RH.1983.10.10.tif\n",
      "/scratch/cascade/UEH-daily/test/RH.1983.02.24.tif\n",
      "/scratch/cascade/UEH-daily/test/RH.1983.08.26.tif\n",
      "/scratch/cascade/UEH-daily/test/RH.1983.11.05.tif\n",
      "/scratch/cascade/UEH-daily/test/RH.1983.02.23.tif\n",
      "/scratch/cascade/UEH-daily/test/RH.1983.05.28.tif\n",
      "/scratch/cascade/UEH-daily/test/RH.1983.08.21.tif\n",
      "/scratch/cascade/UEH-daily/test/RH.1983.06.19.tif\n",
      "2.7079946994781494\n"
     ]
    }
   ],
   "source": [
    "parallel_loop(write_rst, rst_list, cpu_num = 4)"
   ]
  }
 ],
 "metadata": {
  "kernelspec": {
   "display_name": "geo",
   "language": "python",
   "name": "geo"
  },
  "language_info": {
   "codemirror_mode": {
    "name": "ipython",
    "version": 3
   },
   "file_extension": ".py",
   "mimetype": "text/x-python",
   "name": "python",
   "nbconvert_exporter": "python",
   "pygments_lexer": "ipython3",
   "version": "3.6.7"
  }
 },
 "nbformat": 4,
 "nbformat_minor": 4
}
