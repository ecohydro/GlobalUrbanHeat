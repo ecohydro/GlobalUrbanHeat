{
 "cells": [
  {
   "cell_type": "markdown",
   "metadata": {},
   "source": [
    "# Edge Search\n",
    "\n",
    "Notebook to search for extreme heat events that overlap years.\n",
    "Fix to resolve problem TBD.\n",
    "\n",
    "By Cascade Tuholske, 2019-10-19\n",
    "\n",
    "\n",
    "### Preliminary Findings\n",
    "\n",
    "- In the entire record, there are 97 events that start on Jan 1.\n",
    "- In the entire record, there are 94 events that end of Dec 31.\n",
    "\n",
    "Of these, it looks like 5 were from the same city and bridged two years"
   ]
  },
  {
   "cell_type": "markdown",
   "metadata": {},
   "source": [
    "#### Depdencies"
   ]
  },
  {
   "cell_type": "code",
   "execution_count": 1,
   "metadata": {},
   "outputs": [],
   "source": [
    "import pandas as pd\n",
    "import numpy as np\n",
    "import seaborn as sns\n",
    "import matplotlib.pyplot as plt"
   ]
  },
  {
   "cell_type": "code",
   "execution_count": 4,
   "metadata": {},
   "outputs": [
    {
     "data": {
      "text/plain": [
       "Index(['Unnamed: 0', 'Unnamed: 0.1', 'Event_ID', 'ID_HDC_G0', 'CTR_MN_NM',\n",
       "       'total_days', 'duration', 'avg_temp', 'avg_intensity', 'tot_intensity',\n",
       "       'event_dates', 'intensity', 'tmax', 'year', 'region', 'sub-region',\n",
       "       'intermediate-region', 'GCPNT_LAT', 'GCPNT_LON'],\n",
       "      dtype='object')"
      ]
     },
     "execution_count": 4,
     "metadata": {},
     "output_type": "execute_result"
    }
   ],
   "source": [
    "fn = \"/home/cascade/projects/data_out_urbanheat/All_data20191107.csv\"  # Note: Need ?dl=1 to make sure this file gets read correctly\n",
    "df = pd.read_csv(fn)\n",
    "df.columns"
   ]
  },
  {
   "cell_type": "markdown",
   "metadata": {},
   "source": [
    "#### Find Edges\n",
    "\n",
    "Build query to find dates XXXX.12.31 and XXXX.01.01 \n",
    "Events col are strings"
   ]
  },
  {
   "cell_type": "code",
   "execution_count": 5,
   "metadata": {},
   "outputs": [
    {
     "data": {
      "text/plain": [
       "Unnamed: 0               int64\n",
       "Unnamed: 0.1             int64\n",
       "Event_ID                 int64\n",
       "ID_HDC_G0                int64\n",
       "CTR_MN_NM               object\n",
       "total_days               int64\n",
       "duration                 int64\n",
       "avg_temp               float64\n",
       "avg_intensity          float64\n",
       "tot_intensity          float64\n",
       "event_dates             object\n",
       "intensity               object\n",
       "tmax                    object\n",
       "year                     int64\n",
       "region                  object\n",
       "sub-region              object\n",
       "intermediate-region     object\n",
       "GCPNT_LAT              float64\n",
       "GCPNT_LON              float64\n",
       "dtype: object"
      ]
     },
     "execution_count": 5,
     "metadata": {},
     "output_type": "execute_result"
    }
   ],
   "source": [
    "df.dtypes"
   ]
  },
  {
   "cell_type": "code",
   "execution_count": 24,
   "metadata": {},
   "outputs": [],
   "source": [
    "def date_search(df, date):\n",
    "\n",
    "    event_id_list = []\n",
    "    event_dates_list = []\n",
    "    city_id_list = []\n",
    "    event_year_list = []\n",
    "    \n",
    "    for index, row in df.iterrows():\n",
    "        if date in row['event_dates']:\n",
    "            \n",
    "            event_id = row['Event_ID']\n",
    "            event_dates = row['event_dates']\n",
    "            city_id = row['ID_HDC_G0']\n",
    "            event_year = row['year']\n",
    "            \n",
    "            event_id_list.append(event_id)\n",
    "            event_dates_list.append(event_dates)\n",
    "            city_id_list.append(city_id)\n",
    "            event_year_list.append(event_year)\n",
    "    \n",
    "    df_out = pd.DataFrame()\n",
    "    df_out['ID_HDC_G0'] = city_id_list\n",
    "    df_out['Event_ID'] = event_id_list\n",
    "    df_out['event_dates'] = event_dates_list\n",
    "    df_out['year'] = event_year_list\n",
    "    \n",
    "    return df_out"
   ]
  },
  {
   "cell_type": "code",
   "execution_count": 25,
   "metadata": {},
   "outputs": [],
   "source": [
    "# Dec 31 Events\n",
    "\n",
    "df_1231 = date_search(df, '12.31')"
   ]
  },
  {
   "cell_type": "code",
   "execution_count": 26,
   "metadata": {},
   "outputs": [],
   "source": [
    "# Jan 1 Events\n",
    "\n",
    "df_0101 = date_search(df, '01.01')"
   ]
  },
  {
   "cell_type": "code",
   "execution_count": 27,
   "metadata": {
    "scrolled": true
   },
   "outputs": [
    {
     "data": {
      "text/html": [
       "<div>\n",
       "<style scoped>\n",
       "    .dataframe tbody tr th:only-of-type {\n",
       "        vertical-align: middle;\n",
       "    }\n",
       "\n",
       "    .dataframe tbody tr th {\n",
       "        vertical-align: top;\n",
       "    }\n",
       "\n",
       "    .dataframe thead th {\n",
       "        text-align: right;\n",
       "    }\n",
       "</style>\n",
       "<table border=\"1\" class=\"dataframe\">\n",
       "  <thead>\n",
       "    <tr style=\"text-align: right;\">\n",
       "      <th></th>\n",
       "      <th>ID_HDC_G0</th>\n",
       "      <th>Event_ID</th>\n",
       "      <th>event_dates</th>\n",
       "      <th>year</th>\n",
       "    </tr>\n",
       "  </thead>\n",
       "  <tbody>\n",
       "    <tr>\n",
       "      <td>0</td>\n",
       "      <td>1506</td>\n",
       "      <td>633720</td>\n",
       "      <td>['2008.12.31']</td>\n",
       "      <td>2008</td>\n",
       "    </tr>\n",
       "    <tr>\n",
       "      <td>1</td>\n",
       "      <td>5519</td>\n",
       "      <td>117936</td>\n",
       "      <td>['1987.12.29' '1987.12.30' '1987.12.31']</td>\n",
       "      <td>1987</td>\n",
       "    </tr>\n",
       "    <tr>\n",
       "      <td>2</td>\n",
       "      <td>5519</td>\n",
       "      <td>849342</td>\n",
       "      <td>['2015.12.31']</td>\n",
       "      <td>2015</td>\n",
       "    </tr>\n",
       "    <tr>\n",
       "      <td>3</td>\n",
       "      <td>5551</td>\n",
       "      <td>117949</td>\n",
       "      <td>['1987.12.30' '1987.12.31']</td>\n",
       "      <td>1987</td>\n",
       "    </tr>\n",
       "    <tr>\n",
       "      <td>4</td>\n",
       "      <td>5551</td>\n",
       "      <td>849363</td>\n",
       "      <td>['2015.12.31']</td>\n",
       "      <td>2015</td>\n",
       "    </tr>\n",
       "  </tbody>\n",
       "</table>\n",
       "</div>"
      ],
      "text/plain": [
       "   ID_HDC_G0  Event_ID                               event_dates  year\n",
       "0       1506    633720                            ['2008.12.31']  2008\n",
       "1       5519    117936  ['1987.12.29' '1987.12.30' '1987.12.31']  1987\n",
       "2       5519    849342                            ['2015.12.31']  2015\n",
       "3       5551    117949               ['1987.12.30' '1987.12.31']  1987\n",
       "4       5551    849363                            ['2015.12.31']  2015"
      ]
     },
     "execution_count": 27,
     "metadata": {},
     "output_type": "execute_result"
    }
   ],
   "source": [
    "df_1231.head()"
   ]
  },
  {
   "cell_type": "code",
   "execution_count": 37,
   "metadata": {},
   "outputs": [
    {
     "name": "stdout",
     "output_type": "stream",
     "text": [
      "94\n",
      "97\n"
     ]
    }
   ],
   "source": [
    "print(len(df_0101))\n",
    "print(len(df_1231))"
   ]
  },
  {
   "cell_type": "code",
   "execution_count": 33,
   "metadata": {},
   "outputs": [],
   "source": [
    "# Merge based on cities\n",
    "\n",
    "merge = df_0101.merge(df_1231, on = 'ID_HDC_G0', how = 'inner')"
   ]
  },
  {
   "cell_type": "code",
   "execution_count": 45,
   "metadata": {
    "scrolled": true
   },
   "outputs": [
    {
     "data": {
      "text/html": [
       "<div>\n",
       "<style scoped>\n",
       "    .dataframe tbody tr th:only-of-type {\n",
       "        vertical-align: middle;\n",
       "    }\n",
       "\n",
       "    .dataframe tbody tr th {\n",
       "        vertical-align: top;\n",
       "    }\n",
       "\n",
       "    .dataframe thead th {\n",
       "        text-align: right;\n",
       "    }\n",
       "</style>\n",
       "<table border=\"1\" class=\"dataframe\">\n",
       "  <thead>\n",
       "    <tr style=\"text-align: right;\">\n",
       "      <th></th>\n",
       "      <th>ID_HDC_G0</th>\n",
       "      <th>Event_ID_x</th>\n",
       "      <th>event_dates_x</th>\n",
       "      <th>year_x</th>\n",
       "      <th>Event_ID_y</th>\n",
       "      <th>event_dates_y</th>\n",
       "      <th>year_y</th>\n",
       "    </tr>\n",
       "  </thead>\n",
       "  <tbody>\n",
       "    <tr>\n",
       "      <td>0</td>\n",
       "      <td>5519</td>\n",
       "      <td>451678</td>\n",
       "      <td>['2001.01.20']</td>\n",
       "      <td>2001</td>\n",
       "      <td>117936</td>\n",
       "      <td>['1987.12.29' '1987.12.30' '1987.12.31']</td>\n",
       "      <td>1987</td>\n",
       "    </tr>\n",
       "    <tr>\n",
       "      <td>1</td>\n",
       "      <td>5519</td>\n",
       "      <td>451678</td>\n",
       "      <td>['2001.01.20']</td>\n",
       "      <td>2001</td>\n",
       "      <td>849342</td>\n",
       "      <td>['2015.12.31']</td>\n",
       "      <td>2015</td>\n",
       "    </tr>\n",
       "    <tr>\n",
       "      <td>2</td>\n",
       "      <td>5534</td>\n",
       "      <td>45819</td>\n",
       "      <td>['1984.01.01' '1984.01.02']</td>\n",
       "      <td>1984</td>\n",
       "      <td>90648</td>\n",
       "      <td>['1986.12.31']</td>\n",
       "      <td>1986</td>\n",
       "    </tr>\n",
       "    <tr>\n",
       "      <td>3</td>\n",
       "      <td>5534</td>\n",
       "      <td>45819</td>\n",
       "      <td>['1984.01.01' '1984.01.02']</td>\n",
       "      <td>1984</td>\n",
       "      <td>117974</td>\n",
       "      <td>['1987.12.28' '1987.12.29' '1987.12.30' '1987....</td>\n",
       "      <td>1987</td>\n",
       "    </tr>\n",
       "    <tr>\n",
       "      <td>4</td>\n",
       "      <td>5534</td>\n",
       "      <td>45819</td>\n",
       "      <td>['1984.01.01' '1984.01.02']</td>\n",
       "      <td>1984</td>\n",
       "      <td>327405</td>\n",
       "      <td>['1996.12.30' '1996.12.31']</td>\n",
       "      <td>1996</td>\n",
       "    </tr>\n",
       "  </tbody>\n",
       "</table>\n",
       "</div>"
      ],
      "text/plain": [
       "   ID_HDC_G0  Event_ID_x                event_dates_x  year_x  Event_ID_y  \\\n",
       "0       5519      451678               ['2001.01.20']    2001      117936   \n",
       "1       5519      451678               ['2001.01.20']    2001      849342   \n",
       "2       5534       45819  ['1984.01.01' '1984.01.02']    1984       90648   \n",
       "3       5534       45819  ['1984.01.01' '1984.01.02']    1984      117974   \n",
       "4       5534       45819  ['1984.01.01' '1984.01.02']    1984      327405   \n",
       "\n",
       "                                       event_dates_y  year_y  \n",
       "0           ['1987.12.29' '1987.12.30' '1987.12.31']    1987  \n",
       "1                                     ['2015.12.31']    2015  \n",
       "2                                     ['1986.12.31']    1986  \n",
       "3  ['1987.12.28' '1987.12.29' '1987.12.30' '1987....    1987  \n",
       "4                        ['1996.12.30' '1996.12.31']    1996  "
      ]
     },
     "execution_count": 45,
     "metadata": {},
     "output_type": "execute_result"
    }
   ],
   "source": [
    "merge.head()"
   ]
  },
  {
   "cell_type": "code",
   "execution_count": 47,
   "metadata": {},
   "outputs": [
    {
     "data": {
      "text/plain": [
       "ID_HDC_G0         int64\n",
       "Event_ID_x        int64\n",
       "event_dates_x    object\n",
       "year_x            int64\n",
       "Event_ID_y        int64\n",
       "event_dates_y    object\n",
       "year_y            int64\n",
       "dtype: object"
      ]
     },
     "execution_count": 47,
     "metadata": {},
     "output_type": "execute_result"
    }
   ],
   "source": [
    "merge.dtypes"
   ]
  },
  {
   "cell_type": "code",
   "execution_count": 40,
   "metadata": {},
   "outputs": [],
   "source": [
    "#merge.to_csv('/home/cascade/projects/data_out_urbanheat/jandecoverlap.csv')"
   ]
  },
  {
   "cell_type": "code",
   "execution_count": 66,
   "metadata": {},
   "outputs": [],
   "source": [
    "out = []\n",
    "\n",
    "for i, year in merge.iterrows():\n",
    "        if year['year_x'] - year['year_y'] == 1:\n",
    "            out.append(i)\n"
   ]
  },
  {
   "cell_type": "code",
   "execution_count": 76,
   "metadata": {},
   "outputs": [
    {
     "data": {
      "text/html": [
       "<div>\n",
       "<style scoped>\n",
       "    .dataframe tbody tr th:only-of-type {\n",
       "        vertical-align: middle;\n",
       "    }\n",
       "\n",
       "    .dataframe tbody tr th {\n",
       "        vertical-align: top;\n",
       "    }\n",
       "\n",
       "    .dataframe thead th {\n",
       "        text-align: right;\n",
       "    }\n",
       "</style>\n",
       "<table border=\"1\" class=\"dataframe\">\n",
       "  <thead>\n",
       "    <tr style=\"text-align: right;\">\n",
       "      <th></th>\n",
       "      <th>ID_HDC_G0</th>\n",
       "      <th>Event_ID_x</th>\n",
       "      <th>event_dates_x</th>\n",
       "      <th>year_x</th>\n",
       "      <th>Event_ID_y</th>\n",
       "      <th>event_dates_y</th>\n",
       "      <th>year_y</th>\n",
       "    </tr>\n",
       "  </thead>\n",
       "  <tbody>\n",
       "    <tr>\n",
       "      <td>15</td>\n",
       "      <td>5534</td>\n",
       "      <td>141081</td>\n",
       "      <td>['1988.01.01' '1988.01.02']</td>\n",
       "      <td>1988</td>\n",
       "      <td>117974</td>\n",
       "      <td>['1987.12.28' '1987.12.29' '1987.12.30' '1987....</td>\n",
       "      <td>1987</td>\n",
       "    </tr>\n",
       "    <tr>\n",
       "      <td>29</td>\n",
       "      <td>5534</td>\n",
       "      <td>404842</td>\n",
       "      <td>['1999.01.01' '1999.01.02' '1999.01.03' '1999....</td>\n",
       "      <td>1999</td>\n",
       "      <td>376959</td>\n",
       "      <td>['1998.12.31']</td>\n",
       "      <td>1998</td>\n",
       "    </tr>\n",
       "    <tr>\n",
       "      <td>120</td>\n",
       "      <td>5534</td>\n",
       "      <td>882573</td>\n",
       "      <td>['2016.01.01' '2016.01.02' '2016.01.03']</td>\n",
       "      <td>2016</td>\n",
       "      <td>849422</td>\n",
       "      <td>['2015.12.31']</td>\n",
       "      <td>2015</td>\n",
       "    </tr>\n",
       "    <tr>\n",
       "      <td>129</td>\n",
       "      <td>5541</td>\n",
       "      <td>141093</td>\n",
       "      <td>['1988.01.01' '1988.01.02']</td>\n",
       "      <td>1988</td>\n",
       "      <td>117989</td>\n",
       "      <td>['1987.12.28' '1987.12.29' '1987.12.30' '1987....</td>\n",
       "      <td>1987</td>\n",
       "    </tr>\n",
       "    <tr>\n",
       "      <td>138</td>\n",
       "      <td>5541</td>\n",
       "      <td>404854</td>\n",
       "      <td>['1999.01.01' '1999.01.02' '1999.01.03' '1999....</td>\n",
       "      <td>1999</td>\n",
       "      <td>376974</td>\n",
       "      <td>['1998.12.31']</td>\n",
       "      <td>1998</td>\n",
       "    </tr>\n",
       "    <tr>\n",
       "      <td>183</td>\n",
       "      <td>5541</td>\n",
       "      <td>882595</td>\n",
       "      <td>['2016.01.01' '2016.01.02' '2016.01.03']</td>\n",
       "      <td>2016</td>\n",
       "      <td>849443</td>\n",
       "      <td>['2015.12.31']</td>\n",
       "      <td>2015</td>\n",
       "    </tr>\n",
       "    <tr>\n",
       "      <td>205</td>\n",
       "      <td>5520</td>\n",
       "      <td>141104</td>\n",
       "      <td>['1988.01.01' '1988.01.02']</td>\n",
       "      <td>1988</td>\n",
       "      <td>118003</td>\n",
       "      <td>['1987.12.28' '1987.12.29' '1987.12.30' '1987....</td>\n",
       "      <td>1987</td>\n",
       "    </tr>\n",
       "    <tr>\n",
       "      <td>236</td>\n",
       "      <td>5520</td>\n",
       "      <td>882617</td>\n",
       "      <td>['2016.01.01' '2016.01.02' '2016.01.03']</td>\n",
       "      <td>2016</td>\n",
       "      <td>849463</td>\n",
       "      <td>['2015.12.31']</td>\n",
       "      <td>2015</td>\n",
       "    </tr>\n",
       "    <tr>\n",
       "      <td>248</td>\n",
       "      <td>5390</td>\n",
       "      <td>404896</td>\n",
       "      <td>['1999.01.01']</td>\n",
       "      <td>1999</td>\n",
       "      <td>377007</td>\n",
       "      <td>['1998.12.31']</td>\n",
       "      <td>1998</td>\n",
       "    </tr>\n",
       "    <tr>\n",
       "      <td>273</td>\n",
       "      <td>5390</td>\n",
       "      <td>882679</td>\n",
       "      <td>['2016.01.01' '2016.01.02']</td>\n",
       "      <td>2016</td>\n",
       "      <td>849508</td>\n",
       "      <td>['2015.12.31']</td>\n",
       "      <td>2015</td>\n",
       "    </tr>\n",
       "    <tr>\n",
       "      <td>284</td>\n",
       "      <td>1010</td>\n",
       "      <td>302663</td>\n",
       "      <td>['1995.01.01' '1995.01.02']</td>\n",
       "      <td>1995</td>\n",
       "      <td>277141</td>\n",
       "      <td>['1994.12.30' '1994.12.31']</td>\n",
       "      <td>1994</td>\n",
       "    </tr>\n",
       "    <tr>\n",
       "      <td>305</td>\n",
       "      <td>1010</td>\n",
       "      <td>819554</td>\n",
       "      <td>['2014.01.01' '2014.01.02']</td>\n",
       "      <td>2014</td>\n",
       "      <td>789406</td>\n",
       "      <td>['2013.12.22' '2013.12.23' '2013.12.24' '2013....</td>\n",
       "      <td>2013</td>\n",
       "    </tr>\n",
       "    <tr>\n",
       "      <td>309</td>\n",
       "      <td>3398</td>\n",
       "      <td>68044</td>\n",
       "      <td>['1985.01.01' '1985.01.02']</td>\n",
       "      <td>1985</td>\n",
       "      <td>45972</td>\n",
       "      <td>['1984.12.30' '1984.12.31']</td>\n",
       "      <td>1984</td>\n",
       "    </tr>\n",
       "    <tr>\n",
       "      <td>312</td>\n",
       "      <td>3398</td>\n",
       "      <td>141242</td>\n",
       "      <td>['1988.01.01' '1988.01.02']</td>\n",
       "      <td>1988</td>\n",
       "      <td>118141</td>\n",
       "      <td>['1987.12.31']</td>\n",
       "      <td>1987</td>\n",
       "    </tr>\n",
       "  </tbody>\n",
       "</table>\n",
       "</div>"
      ],
      "text/plain": [
       "     ID_HDC_G0  Event_ID_x                                      event_dates_x  \\\n",
       "15        5534      141081                        ['1988.01.01' '1988.01.02']   \n",
       "29        5534      404842  ['1999.01.01' '1999.01.02' '1999.01.03' '1999....   \n",
       "120       5534      882573           ['2016.01.01' '2016.01.02' '2016.01.03']   \n",
       "129       5541      141093                        ['1988.01.01' '1988.01.02']   \n",
       "138       5541      404854  ['1999.01.01' '1999.01.02' '1999.01.03' '1999....   \n",
       "183       5541      882595           ['2016.01.01' '2016.01.02' '2016.01.03']   \n",
       "205       5520      141104                        ['1988.01.01' '1988.01.02']   \n",
       "236       5520      882617           ['2016.01.01' '2016.01.02' '2016.01.03']   \n",
       "248       5390      404896                                     ['1999.01.01']   \n",
       "273       5390      882679                        ['2016.01.01' '2016.01.02']   \n",
       "284       1010      302663                        ['1995.01.01' '1995.01.02']   \n",
       "305       1010      819554                        ['2014.01.01' '2014.01.02']   \n",
       "309       3398       68044                        ['1985.01.01' '1985.01.02']   \n",
       "312       3398      141242                        ['1988.01.01' '1988.01.02']   \n",
       "\n",
       "     year_x  Event_ID_y                                      event_dates_y  \\\n",
       "15     1988      117974  ['1987.12.28' '1987.12.29' '1987.12.30' '1987....   \n",
       "29     1999      376959                                     ['1998.12.31']   \n",
       "120    2016      849422                                     ['2015.12.31']   \n",
       "129    1988      117989  ['1987.12.28' '1987.12.29' '1987.12.30' '1987....   \n",
       "138    1999      376974                                     ['1998.12.31']   \n",
       "183    2016      849443                                     ['2015.12.31']   \n",
       "205    1988      118003  ['1987.12.28' '1987.12.29' '1987.12.30' '1987....   \n",
       "236    2016      849463                                     ['2015.12.31']   \n",
       "248    1999      377007                                     ['1998.12.31']   \n",
       "273    2016      849508                                     ['2015.12.31']   \n",
       "284    1995      277141                        ['1994.12.30' '1994.12.31']   \n",
       "305    2014      789406  ['2013.12.22' '2013.12.23' '2013.12.24' '2013....   \n",
       "309    1985       45972                        ['1984.12.30' '1984.12.31']   \n",
       "312    1988      118141                                     ['1987.12.31']   \n",
       "\n",
       "     year_y  \n",
       "15     1987  \n",
       "29     1998  \n",
       "120    2015  \n",
       "129    1987  \n",
       "138    1998  \n",
       "183    2015  \n",
       "205    1987  \n",
       "236    2015  \n",
       "248    1998  \n",
       "273    2015  \n",
       "284    1994  \n",
       "305    2013  \n",
       "309    1984  \n",
       "312    1987  "
      ]
     },
     "execution_count": 76,
     "metadata": {},
     "output_type": "execute_result"
    }
   ],
   "source": [
    "merge.loc[out]"
   ]
  },
  {
   "cell_type": "code",
   "execution_count": null,
   "metadata": {},
   "outputs": [],
   "source": [
    "dec31 = np.sort(df_1231['year'])\n",
    "dec3"
   ]
  },
  {
   "cell_type": "markdown",
   "metadata": {},
   "source": [
    "## NEXT:\n",
    "\n",
    "I need to write a function that compares years with the resulting subset of Dec 31 and Jan 1 and then I think we will just drop all these from the record and then add them on as heat waves that overlap years later. There should be about 100 of them"
   ]
  }
 ],
 "metadata": {
  "kernelspec": {
   "display_name": "geo",
   "language": "python",
   "name": "geo"
  },
  "language_info": {
   "codemirror_mode": {
    "name": "ipython",
    "version": 3
   },
   "file_extension": ".py",
   "mimetype": "text/x-python",
   "name": "python",
   "nbconvert_exporter": "python",
   "pygments_lexer": "ipython3",
   "version": "3.6.7"
  }
 },
 "nbformat": 4,
 "nbformat_minor": 2
}
