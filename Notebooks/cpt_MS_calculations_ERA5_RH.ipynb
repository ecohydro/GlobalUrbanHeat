{
 "cells": [
  {
   "cell_type": "markdown",
   "metadata": {},
   "source": [
    "# MS Calculations\n",
    "\n",
    "Notebook to crunch numbers for the MS.\n",
    "\n",
    "by Cascade Tuholske 2020.02.23 \n",
    "\n",
    "Updated 2020.08.27 - CPT\n",
    "Was run on ERA5 RH with CHIRTS-Daily Tmax from ERA5"
   ]
  },
  {
   "cell_type": "code",
   "execution_count": 2,
   "metadata": {},
   "outputs": [],
   "source": [
    "#### Depdencies \n",
    "import pandas as pd\n",
    "import numpy as np\n",
    "import geopandas as gpd\n",
    "import matplotlib.pyplot as plt\n",
    "import statsmodels.api as sm\n",
    "import seaborn as sns"
   ]
  },
  {
   "cell_type": "code",
   "execution_count": 2,
   "metadata": {},
   "outputs": [],
   "source": [
    "#### Regressions, no intercept addition is needed because we're using SK LEARN HERE \n",
    "\n",
    "def lm_func(df, col):\n",
    "    \n",
    "    \"simple linear model of a time series data, returns coef\"\n",
    "    \n",
    "    # Get Data\n",
    "    X_year = np.array(df.groupby('year')['ID_HDC_G0'].mean().index).reshape((-1, 1))\n",
    "    Y_stats = np.array(df.groupby('year')[col].sum()).reshape((-1, 1))\n",
    "\n",
    "    # Add Intercept\n",
    "    X_year_2 = sm.add_constant(X_year)\n",
    "\n",
    "    # Regress\n",
    "    model = sm.OLS(Y_stats, X_year_2).fit() \n",
    "        \n",
    "    coef = int(model.params[1])\n",
    "    #coef = int(coef)\n",
    "            \n",
    "    # R2 and P\n",
    "    r2 = model.rsquared_adj\n",
    "    p = model.pvalues[0]\n",
    "    \n",
    "    return coef, round(r2, 2), round(p, 3)"
   ]
  },
  {
   "cell_type": "code",
   "execution_count": 3,
   "metadata": {},
   "outputs": [
    {
     "name": "stdout",
     "output_type": "stream",
     "text": [
      "Len of GHS-UCDB (all cities) is 13135\n"
     ]
    },
    {
     "data": {
      "text/html": [
       "<div>\n",
       "<style scoped>\n",
       "    .dataframe tbody tr th:only-of-type {\n",
       "        vertical-align: middle;\n",
       "    }\n",
       "\n",
       "    .dataframe tbody tr th {\n",
       "        vertical-align: top;\n",
       "    }\n",
       "\n",
       "    .dataframe thead th {\n",
       "        text-align: right;\n",
       "    }\n",
       "</style>\n",
       "<table border=\"1\" class=\"dataframe\">\n",
       "  <thead>\n",
       "    <tr style=\"text-align: right;\">\n",
       "      <th></th>\n",
       "      <th>Unnamed: 0</th>\n",
       "      <th>ID_HDC_G0</th>\n",
       "      <th>year</th>\n",
       "      <th>total_days</th>\n",
       "      <th>P</th>\n",
       "      <th>P1983</th>\n",
       "      <th>P2016</th>\n",
       "      <th>people_days</th>\n",
       "      <th>people_days_heat</th>\n",
       "      <th>people_days_pop</th>\n",
       "    </tr>\n",
       "  </thead>\n",
       "  <tbody>\n",
       "    <tr>\n",
       "      <td>0</td>\n",
       "      <td>0</td>\n",
       "      <td>3091</td>\n",
       "      <td>1983</td>\n",
       "      <td>1</td>\n",
       "      <td>53715.040735</td>\n",
       "      <td>53715.040735</td>\n",
       "      <td>58301.880371</td>\n",
       "      <td>53715.040735</td>\n",
       "      <td>53715.040735</td>\n",
       "      <td>0.000000</td>\n",
       "    </tr>\n",
       "    <tr>\n",
       "      <td>1</td>\n",
       "      <td>1</td>\n",
       "      <td>3091</td>\n",
       "      <td>1984</td>\n",
       "      <td>2</td>\n",
       "      <td>54204.006604</td>\n",
       "      <td>53715.040735</td>\n",
       "      <td>58301.880371</td>\n",
       "      <td>108408.013208</td>\n",
       "      <td>107430.081470</td>\n",
       "      <td>977.931738</td>\n",
       "    </tr>\n",
       "    <tr>\n",
       "      <td>2</td>\n",
       "      <td>2</td>\n",
       "      <td>3091</td>\n",
       "      <td>1985</td>\n",
       "      <td>2</td>\n",
       "      <td>54692.972473</td>\n",
       "      <td>53715.040735</td>\n",
       "      <td>58301.880371</td>\n",
       "      <td>109385.944946</td>\n",
       "      <td>107430.081470</td>\n",
       "      <td>1955.863477</td>\n",
       "    </tr>\n",
       "    <tr>\n",
       "      <td>3</td>\n",
       "      <td>3</td>\n",
       "      <td>3091</td>\n",
       "      <td>1986</td>\n",
       "      <td>2</td>\n",
       "      <td>55181.938342</td>\n",
       "      <td>53715.040735</td>\n",
       "      <td>58301.880371</td>\n",
       "      <td>110363.876685</td>\n",
       "      <td>107430.081470</td>\n",
       "      <td>2933.795215</td>\n",
       "    </tr>\n",
       "    <tr>\n",
       "      <td>4</td>\n",
       "      <td>4</td>\n",
       "      <td>3091</td>\n",
       "      <td>1988</td>\n",
       "      <td>1</td>\n",
       "      <td>56159.870081</td>\n",
       "      <td>53715.040735</td>\n",
       "      <td>58301.880371</td>\n",
       "      <td>56159.870081</td>\n",
       "      <td>53715.040735</td>\n",
       "      <td>2444.829346</td>\n",
       "    </tr>\n",
       "  </tbody>\n",
       "</table>\n",
       "</div>"
      ],
      "text/plain": [
       "   Unnamed: 0  ID_HDC_G0  year  total_days             P         P1983  \\\n",
       "0           0       3091  1983           1  53715.040735  53715.040735   \n",
       "1           1       3091  1984           2  54204.006604  53715.040735   \n",
       "2           2       3091  1985           2  54692.972473  53715.040735   \n",
       "3           3       3091  1986           2  55181.938342  53715.040735   \n",
       "4           4       3091  1988           1  56159.870081  53715.040735   \n",
       "\n",
       "          P2016    people_days  people_days_heat  people_days_pop  \n",
       "0  58301.880371   53715.040735      53715.040735         0.000000  \n",
       "1  58301.880371  108408.013208     107430.081470       977.931738  \n",
       "2  58301.880371  109385.944946     107430.081470      1955.863477  \n",
       "3  58301.880371  110363.876685     107430.081470      2933.795215  \n",
       "4  58301.880371   56159.870081      53715.040735      2444.829346  "
      ]
     },
     "execution_count": 3,
     "metadata": {},
     "output_type": "execute_result"
    }
   ],
   "source": [
    "#### Load Data\n",
    "\n",
    "# file paths\n",
    "DATA_IN = \"/home/cascade/projects/UrbanHeat/data/\"  # Note: Need ?dl=1 to make sure this file gets read correctly\n",
    "FIG_OUT = \"/home/cascade/projects/UrbanHeat/figures/\"\n",
    "FN_IN = 'processed/AllDATA-GHS-ERA5-HI406-FIGDATA.csv'\n",
    "HI_STATS = pd.read_csv(DATA_IN+FN_IN)\n",
    "\n",
    "# Set scale\n",
    "scale = 10**9\n",
    "\n",
    "# STATS IN\n",
    "HI_STATS = pd.read_csv(DATA_IN+FN_IN)\n",
    "\n",
    "# GHS-UCDB IN\n",
    "GHS_FN = 'raw/GHS_UCDB/GHS_STAT_UCDB2015MT_GLOBE_R2019A_V1_0.shp'\n",
    "GHS = gpd.read_file(DATA_IN+GHS_FN)\n",
    "print('Len of GHS-UCDB (all cities) is', len(GHS))\n",
    "\n",
    "# Check it\n",
    "HI_STATS.head()"
   ]
  },
  {
   "cell_type": "code",
   "execution_count": 4,
   "metadata": {
    "scrolled": false
   },
   "outputs": [
    {
     "name": "stdout",
     "output_type": "stream",
     "text": [
      "391816\n",
      "390524\n",
      "390422\n"
     ]
    }
   ],
   "source": [
    "# Drop cites where 1983 had 1 day and none elsewhere\n",
    "\n",
    "print(len(HI_STATS))\n",
    "only83 = HI_STATS.groupby('ID_HDC_G0')['total_days'].sum() == 1 # sum up total days and find those with 1 day\n",
    "only83 = list(only83[only83 == True].index) # make a list of IDs\n",
    "sub = HI_STATS[HI_STATS['ID_HDC_G0'].isin(only83)] # subset those IDs\n",
    "bad_ids = sub[(sub['year'] == 1983) & (sub['total_days'] == 1)] # drop those from 1983 only\n",
    "drop_list = list(bad_ids['ID_HDC_G0']) # make a list\n",
    "HI_STATS= HI_STATS[~HI_STATS['ID_HDC_G0'].isin(drop_list)] # drop those from the list\n",
    "print(len(HI_STATS))"
   ]
  },
  {
   "cell_type": "code",
   "execution_count": 5,
   "metadata": {},
   "outputs": [
    {
     "data": {
      "text/html": [
       "<div>\n",
       "<style scoped>\n",
       "    .dataframe tbody tr th:only-of-type {\n",
       "        vertical-align: middle;\n",
       "    }\n",
       "\n",
       "    .dataframe tbody tr th {\n",
       "        vertical-align: top;\n",
       "    }\n",
       "\n",
       "    .dataframe thead th {\n",
       "        text-align: right;\n",
       "    }\n",
       "</style>\n",
       "<table border=\"1\" class=\"dataframe\">\n",
       "  <thead>\n",
       "    <tr style=\"text-align: right;\">\n",
       "      <th></th>\n",
       "      <th>Unnamed: 0</th>\n",
       "      <th>ID_HDC_G0</th>\n",
       "      <th>year</th>\n",
       "      <th>total_days</th>\n",
       "      <th>P</th>\n",
       "      <th>P1983</th>\n",
       "      <th>P2016</th>\n",
       "      <th>people_days</th>\n",
       "      <th>people_days_heat</th>\n",
       "      <th>people_days_pop</th>\n",
       "      <th>region</th>\n",
       "      <th>intermediate-region</th>\n",
       "      <th>sub-region</th>\n",
       "      <th>CTR_MN_NM</th>\n",
       "      <th>GCPNT_LAT</th>\n",
       "      <th>GCPNT_LON</th>\n",
       "    </tr>\n",
       "  </thead>\n",
       "  <tbody>\n",
       "    <tr>\n",
       "      <td>0</td>\n",
       "      <td>0</td>\n",
       "      <td>3091</td>\n",
       "      <td>1983</td>\n",
       "      <td>1</td>\n",
       "      <td>53715.040735</td>\n",
       "      <td>53715.040735</td>\n",
       "      <td>58301.880371</td>\n",
       "      <td>53715.040735</td>\n",
       "      <td>53715.040735</td>\n",
       "      <td>0.000000</td>\n",
       "      <td>Europe</td>\n",
       "      <td>Eastern Europe</td>\n",
       "      <td>Eastern Europe</td>\n",
       "      <td>Poland</td>\n",
       "      <td>54.088065</td>\n",
       "      <td>18.783016</td>\n",
       "    </tr>\n",
       "    <tr>\n",
       "      <td>1</td>\n",
       "      <td>1</td>\n",
       "      <td>3091</td>\n",
       "      <td>1984</td>\n",
       "      <td>2</td>\n",
       "      <td>54204.006604</td>\n",
       "      <td>53715.040735</td>\n",
       "      <td>58301.880371</td>\n",
       "      <td>108408.013208</td>\n",
       "      <td>107430.081470</td>\n",
       "      <td>977.931738</td>\n",
       "      <td>Europe</td>\n",
       "      <td>Eastern Europe</td>\n",
       "      <td>Eastern Europe</td>\n",
       "      <td>Poland</td>\n",
       "      <td>54.088065</td>\n",
       "      <td>18.783016</td>\n",
       "    </tr>\n",
       "    <tr>\n",
       "      <td>2</td>\n",
       "      <td>2</td>\n",
       "      <td>3091</td>\n",
       "      <td>1985</td>\n",
       "      <td>2</td>\n",
       "      <td>54692.972473</td>\n",
       "      <td>53715.040735</td>\n",
       "      <td>58301.880371</td>\n",
       "      <td>109385.944946</td>\n",
       "      <td>107430.081470</td>\n",
       "      <td>1955.863477</td>\n",
       "      <td>Europe</td>\n",
       "      <td>Eastern Europe</td>\n",
       "      <td>Eastern Europe</td>\n",
       "      <td>Poland</td>\n",
       "      <td>54.088065</td>\n",
       "      <td>18.783016</td>\n",
       "    </tr>\n",
       "    <tr>\n",
       "      <td>3</td>\n",
       "      <td>3</td>\n",
       "      <td>3091</td>\n",
       "      <td>1986</td>\n",
       "      <td>2</td>\n",
       "      <td>55181.938342</td>\n",
       "      <td>53715.040735</td>\n",
       "      <td>58301.880371</td>\n",
       "      <td>110363.876685</td>\n",
       "      <td>107430.081470</td>\n",
       "      <td>2933.795215</td>\n",
       "      <td>Europe</td>\n",
       "      <td>Eastern Europe</td>\n",
       "      <td>Eastern Europe</td>\n",
       "      <td>Poland</td>\n",
       "      <td>54.088065</td>\n",
       "      <td>18.783016</td>\n",
       "    </tr>\n",
       "    <tr>\n",
       "      <td>4</td>\n",
       "      <td>4</td>\n",
       "      <td>3091</td>\n",
       "      <td>1988</td>\n",
       "      <td>1</td>\n",
       "      <td>56159.870081</td>\n",
       "      <td>53715.040735</td>\n",
       "      <td>58301.880371</td>\n",
       "      <td>56159.870081</td>\n",
       "      <td>53715.040735</td>\n",
       "      <td>2444.829346</td>\n",
       "      <td>Europe</td>\n",
       "      <td>Eastern Europe</td>\n",
       "      <td>Eastern Europe</td>\n",
       "      <td>Poland</td>\n",
       "      <td>54.088065</td>\n",
       "      <td>18.783016</td>\n",
       "    </tr>\n",
       "  </tbody>\n",
       "</table>\n",
       "</div>"
      ],
      "text/plain": [
       "   Unnamed: 0  ID_HDC_G0  year  total_days             P         P1983  \\\n",
       "0           0       3091  1983           1  53715.040735  53715.040735   \n",
       "1           1       3091  1984           2  54204.006604  53715.040735   \n",
       "2           2       3091  1985           2  54692.972473  53715.040735   \n",
       "3           3       3091  1986           2  55181.938342  53715.040735   \n",
       "4           4       3091  1988           1  56159.870081  53715.040735   \n",
       "\n",
       "          P2016    people_days  people_days_heat  people_days_pop  region  \\\n",
       "0  58301.880371   53715.040735      53715.040735         0.000000  Europe   \n",
       "1  58301.880371  108408.013208     107430.081470       977.931738  Europe   \n",
       "2  58301.880371  109385.944946     107430.081470      1955.863477  Europe   \n",
       "3  58301.880371  110363.876685     107430.081470      2933.795215  Europe   \n",
       "4  58301.880371   56159.870081      53715.040735      2444.829346  Europe   \n",
       "\n",
       "  intermediate-region      sub-region CTR_MN_NM  GCPNT_LAT  GCPNT_LON  \n",
       "0      Eastern Europe  Eastern Europe    Poland  54.088065  18.783016  \n",
       "1      Eastern Europe  Eastern Europe    Poland  54.088065  18.783016  \n",
       "2      Eastern Europe  Eastern Europe    Poland  54.088065  18.783016  \n",
       "3      Eastern Europe  Eastern Europe    Poland  54.088065  18.783016  \n",
       "4      Eastern Europe  Eastern Europe    Poland  54.088065  18.783016  "
      ]
     },
     "execution_count": 5,
     "metadata": {},
     "output_type": "execute_result"
    }
   ],
   "source": [
    "## Add In Meta Data\n",
    "geog = ['region', 'intermediate-region', 'sub-region','CTR_MN_NM', 'ID_HDC_G0', 'GCPNT_LAT', 'GCPNT_LON']\n",
    "meta_fn = 'processed/AllDATA-GHS-ERA5-HI406-META.csv'\n",
    "ALL_DATA = pd.read_csv(DATA_IN+meta_fn)\n",
    "META = ALL_DATA[geog]\n",
    "META = META.drop_duplicates('ID_HDC_G0')\n",
    "\n",
    "## Merge in meta\n",
    "HI_STATS= HI_STATS.merge(META, on = 'ID_HDC_G0', how = 'left')\n",
    "HI_STATS.head()\n"
   ]
  },
  {
   "cell_type": "markdown",
   "metadata": {},
   "source": [
    "# Global Trends"
   ]
  },
  {
   "cell_type": "code",
   "execution_count": 39,
   "metadata": {
    "scrolled": true
   },
   "outputs": [
    {
     "name": "stdout",
     "output_type": "stream",
     "text": [
      "person days in 2016 was 341.57487509305133 billion\n",
      "person days in 1983 was 148.15391211226938 billion\n",
      "pct increase in people days 83 - 16 is  130.5540705764217\n"
     ]
    }
   ],
   "source": [
    "#### Total Change in people Days\n",
    "data = HI_STATS.groupby('year')['people_days'].sum()\n",
    "year = str(data.index[33])\n",
    "value = str(data.values[33]/10**9)\n",
    "print('person days in 2016 was '+value+' billion')\n",
    "\n",
    "year = str(data.index[0])\n",
    "value = str(data.values[0]/10**9)\n",
    "print('person days in 1983 was '+value+' billion')\n",
    "\n",
    "#### Pct Change in Poeple Days 1983 - 2016\n",
    "pdays16 = data.iloc[len(data) -1]\n",
    "pdays83 = data.iloc[0]\n",
    "out = (data.iloc[len(data) -1] - data.iloc[0]) / data.iloc[0] * 100\n",
    "print('pct increase in people days 83 - 16 is ', out)\n"
   ]
  },
  {
   "cell_type": "code",
   "execution_count": 45,
   "metadata": {},
   "outputs": [
    {
     "name": "stdout",
     "output_type": "stream",
     "text": [
      "annual increase in people days  was 5.593848435  p= 0.0\n",
      "annual increase in people days heat  was 1.137149775  p= 0.0\n",
      "annual increase in people days pop  was 4.456698659  p= 0.0\n",
      "attrib heat  was 20.32857679670043  p= 0.0 \n",
      "\n"
     ]
    }
   ],
   "source": [
    "#### Rate of change\n",
    "data = HI_STATS\n",
    "coef, r2, p = lm_func(data, 'people_days')\n",
    "print('annual increase in people days ', 'was', coef/10**9, ' p=', p)\n",
    "coef1, r21, p1 = lm_func(data, 'people_days_heat')\n",
    "print('annual increase in people days heat ', 'was', coef1/10**9, ' p=', p)\n",
    "coef2, r22, p2 = lm_func(data, 'people_days_pop')\n",
    "print('annual increase in people days pop ', 'was', coef2/10**9, ' p=', p)\n",
    "print('attrib heat ', 'was', coef1 / coef *100, ' p=', p, '\\n')"
   ]
  },
  {
   "cell_type": "code",
   "execution_count": 7,
   "metadata": {
    "scrolled": true
   },
   "outputs": [
    {
     "name": "stdout",
     "output_type": "stream",
     "text": [
      "warming is what pct of total? 20.32857679670043\n"
     ]
    }
   ],
   "source": [
    "#### Pct Pday Annual Increase from Heat\n",
    "coef_pdays, r2_pdays, p_pdays = lm_func(HI_STATS, 'people_days') # regress pdays\n",
    "coef_heat, r2_heat, p_heat = lm_func(HI_STATS, 'people_days_heat') # regreas heat\n",
    "\n",
    "print('warming is what pct of total?', coef_heat/coef_pdays *100)"
   ]
  },
  {
   "cell_type": "markdown",
   "metadata": {},
   "source": [
    "# City-level"
   ]
  },
  {
   "cell_type": "markdown",
   "metadata": {},
   "source": [
    "#### Pdays"
   ]
  },
  {
   "cell_type": "code",
   "execution_count": 50,
   "metadata": {},
   "outputs": [],
   "source": [
    "city_coefs = pd.read_csv(DATA_IN+'processed/AllDATA-GHS-ERA5-HI406-MAPDATA_PDAYS_P05.csv')"
   ]
  },
  {
   "cell_type": "code",
   "execution_count": 9,
   "metadata": {},
   "outputs": [
    {
     "data": {
      "text/plain": [
       "7931"
      ]
     },
     "execution_count": 9,
     "metadata": {},
     "output_type": "execute_result"
    }
   ],
   "source": [
    "len(city_coefs)"
   ]
  },
  {
   "cell_type": "code",
   "execution_count": 51,
   "metadata": {},
   "outputs": [
    {
     "name": "stdout",
     "output_type": "stream",
     "text": [
      "The pct of cities w/ increases in exposure:  60.38066235249334\n"
     ]
    }
   ],
   "source": [
    "#### Number of cities w/ sig increase in exposure?\n",
    "print('The pct of cities w/ increases in exposure: ', len(city_coefs)/len(GHS)*100)\n"
   ]
  },
  {
   "cell_type": "code",
   "execution_count": 142,
   "metadata": {},
   "outputs": [
    {
     "data": {
      "text/plain": [
       "Index(['Unnamed: 0', 'ID_HDC_G0', 'coef_pdays', 'p_value_pdays', 'coef_heat',\n",
       "       'p_value_heat', 'coef_pop', 'p_value_pop', 'coef_totDays',\n",
       "       'p_value_totDays', 'coef_attrib', 'coef_attrib_norm', 'region',\n",
       "       'intermediate-region', 'sub-region', 'CTR_MN_NM', 'GCPNT_LAT',\n",
       "       'GCPNT_LON', 'P1983', 'P2016'],\n",
       "      dtype='object')"
      ]
     },
     "execution_count": 142,
     "metadata": {},
     "output_type": "execute_result"
    }
   ],
   "source": [
    "city_coefs.columns"
   ]
  },
  {
   "cell_type": "code",
   "execution_count": 147,
   "metadata": {},
   "outputs": [
    {
     "data": {
      "text/plain": [
       "7931"
      ]
     },
     "execution_count": 147,
     "metadata": {},
     "output_type": "execute_result"
    }
   ],
   "source": [
    "len(city_coefs)"
   ]
  },
  {
   "cell_type": "code",
   "execution_count": 150,
   "metadata": {},
   "outputs": [
    {
     "name": "stdout",
     "output_type": "stream",
     "text": [
      "what pct of pday cities are low lat? 52.96936073635102\n"
     ]
    }
   ],
   "source": [
    "ans = len(city_coefs[(city_coefs['GCPNT_LAT'] < 23.5) & (city_coefs['GCPNT_LAT'] > -23.5)]) / len(city_coefs)\n",
    "print('what pct of pday cities are low lat?', ans*100)"
   ]
  },
  {
   "cell_type": "code",
   "execution_count": 64,
   "metadata": {},
   "outputs": [],
   "source": [
    "def country_search(country, data_set):\n",
    "    \"what pct of cities had a p-day increase?\"\n",
    "    print('Num of Cities in '+country+' ', len(data_set[data_set['CTR_MN_NM'] == country]) / len(GHS[GHS['CTR_MN_NM'] == country]) *100)"
   ]
  },
  {
   "cell_type": "code",
   "execution_count": 65,
   "metadata": {},
   "outputs": [],
   "source": [
    "data_set = city_coefs"
   ]
  },
  {
   "cell_type": "code",
   "execution_count": 66,
   "metadata": {},
   "outputs": [
    {
     "name": "stdout",
     "output_type": "stream",
     "text": [
      "Num of Cities in Senegal  96.96969696969697\n"
     ]
    }
   ],
   "source": [
    "country_search('Senegal', data_set)"
   ]
  },
  {
   "cell_type": "code",
   "execution_count": 67,
   "metadata": {},
   "outputs": [
    {
     "name": "stdout",
     "output_type": "stream",
     "text": [
      "Num of Cities in Nigeria  97.9296066252588\n"
     ]
    }
   ],
   "source": [
    "country_search('Nigeria', data_set)"
   ]
  },
  {
   "cell_type": "code",
   "execution_count": 68,
   "metadata": {},
   "outputs": [
    {
     "name": "stdout",
     "output_type": "stream",
     "text": [
      "Num of Cities in India  89.28571428571429\n"
     ]
    }
   ],
   "source": [
    "country_search('India', data_set)"
   ]
  },
  {
   "cell_type": "markdown",
   "metadata": {},
   "source": [
    "#### Total Heat Days "
   ]
  },
  {
   "cell_type": "code",
   "execution_count": 69,
   "metadata": {},
   "outputs": [],
   "source": [
    "city_totdays = pd.read_csv(DATA_IN+'processed/AllDATA-GHS-ERA5-HI406-MAPDATA_TOTDAYS_P05.csv')"
   ]
  },
  {
   "cell_type": "code",
   "execution_count": 73,
   "metadata": {},
   "outputs": [
    {
     "name": "stdout",
     "output_type": "stream",
     "text": [
      "What pct of all cities had sig increase in days/yr > 40.6 C Hi?\n",
      "0.503083365055196\n",
      "6608\n"
     ]
    }
   ],
   "source": [
    "print('What pct of all cities had sig increase in days/yr > 40.6 C Hi?')\n",
    "print(len(city_totdays)/len(GHS))\n",
    "print(len(city_totdays))"
   ]
  },
  {
   "cell_type": "code",
   "execution_count": 82,
   "metadata": {},
   "outputs": [
    {
     "name": "stdout",
     "output_type": "stream",
     "text": [
      "What pct of all cities >1 day / yr in days/yr > 40.6 C Hi?\n",
      "0.2879330034259612\n",
      "3782\n"
     ]
    }
   ],
   "source": [
    "print('What pct of all cities >1 day / yr in days/yr > 40.6 C Hi?')\n",
    "print(len(city_totdays[city_totdays['coef_totDays'] >= 1])/len(GHS))\n",
    "print(len(city_totdays[city_totdays['coef_totDays'] >= 1]))"
   ]
  },
  {
   "cell_type": "code",
   "execution_count": 80,
   "metadata": {},
   "outputs": [],
   "source": [
    "## How many cities day increase per year ... 1, 3\n",
    "top = len(city_totdays)\n",
    "bottom = len(city_totdays[city_totdays['coef_totDays'] >= 2])"
   ]
  },
  {
   "cell_type": "code",
   "execution_count": 81,
   "metadata": {
    "scrolled": true
   },
   "outputs": [
    {
     "name": "stdout",
     "output_type": "stream",
     "text": [
      "6608\n",
      "336\n"
     ]
    }
   ],
   "source": [
    "print(top)\n",
    "print(bottom)"
   ]
  },
  {
   "cell_type": "code",
   "execution_count": 83,
   "metadata": {},
   "outputs": [
    {
     "name": "stdout",
     "output_type": "stream",
     "text": [
      "Conakry tot days: [3.28006112]\n",
      "columbo tot days: [2.69793736]\n",
      "San Sal tot days: [1.44125286]\n"
     ]
    }
   ],
   "source": [
    "#### Columbo & San Salvador & Conakry\n",
    "print('Conakry tot days:', city_totdays[city_totdays['ID_HDC_G0'] == 1502]['coef_totDays'].values)\n",
    "print('columbo tot days:', city_totdays[city_totdays['ID_HDC_G0'] == 8835]['coef_totDays'].values)\n",
    "print('San Sal tot days:', city_totdays[city_totdays['ID_HDC_G0'] == 321]['coef_totDays'].values)"
   ]
  },
  {
   "cell_type": "markdown",
   "metadata": {},
   "source": [
    "# Regional Trends"
   ]
  },
  {
   "cell_type": "code",
   "execution_count": 26,
   "metadata": {},
   "outputs": [
    {
     "name": "stdout",
     "output_type": "stream",
     "text": [
      "annual increase in people days Australia and New Zealand was 1.688044  p= 0.0\n",
      "annual increase in people days heat Australia and New Zealand was 0.719555  p= 0.0\n",
      "annual increase in people days pop Australia and New Zealand was 0.968488  p= 0.0\n",
      "attrib heat Australia and New Zealand was 42.626554758051334  p= 0.0 \n",
      "\n",
      "annual increase in people days Central Asia was 3.478678  p= 0.001\n",
      "annual increase in people days heat Central Asia was 0.450853  p= 0.001\n",
      "annual increase in people days pop Central Asia was 3.027825  p= 0.001\n",
      "attrib heat Central Asia was 12.960469465699326  p= 0.001 \n",
      "\n",
      "annual increase in people days Eastern Asia was 352.915916  p= 0.0\n",
      "annual increase in people days heat Eastern Asia was 53.17979  p= 0.0\n",
      "annual increase in people days pop Eastern Asia was 299.736125  p= 0.0\n",
      "attrib heat Eastern Asia was 15.068685652590402  p= 0.0 \n",
      "\n",
      "annual increase in people days Eastern Europe was 7.342326  p= 0.013\n",
      "annual increase in people days heat Eastern Europe was 7.118085  p= 0.013\n",
      "annual increase in people days pop Eastern Europe was 0.224241  p= 0.013\n",
      "attrib heat Eastern Europe was 96.94591332501444  p= 0.013 \n",
      "\n",
      "annual increase in people days Latin America and the Caribbean was 351.47745  p= 0.0\n",
      "annual increase in people days heat Latin America and the Caribbean was 100.845831  p= 0.0\n",
      "annual increase in people days pop Latin America and the Caribbean was 250.631618  p= 0.0\n",
      "attrib heat Latin America and the Caribbean was 28.69197753653897  p= 0.0 \n",
      "\n",
      "annual increase in people days Melanesia was 4.39938  p= 0.0\n",
      "annual increase in people days heat Melanesia was 0.985833  p= 0.0\n",
      "annual increase in people days pop Melanesia was 3.413547  p= 0.0\n",
      "attrib heat Melanesia was 22.408453009287673  p= 0.0 \n",
      "\n",
      "annual increase in people days Northern Africa was 211.201393  p= 0.0\n",
      "annual increase in people days heat Northern Africa was 46.848739  p= 0.0\n",
      "annual increase in people days pop Northern Africa was 164.352654  p= 0.0\n",
      "attrib heat Northern Africa was 22.18202178240368  p= 0.0 \n",
      "\n",
      "annual increase in people days Northern America was 44.512868  p= 0.0\n",
      "annual increase in people days heat Northern America was -0.696463  p= 0.0\n",
      "annual increase in people days pop Northern America was 45.209331  p= 0.0\n",
      "attrib heat Northern America was -1.5646329506335113  p= 0.0 \n",
      "\n",
      "annual increase in people days Northern Europe was 0.014602  p= 0.1\n",
      "annual increase in people days heat Northern Europe was 0.020283  p= 0.1\n",
      "annual increase in people days pop Northern Europe was -0.00568  p= 0.1\n",
      "attrib heat Northern Europe was 138.9056293658403  p= 0.1 \n",
      "\n",
      "annual increase in people days South-eastern Asia was 957.807846  p= 0.0\n",
      "annual increase in people days heat South-eastern Asia was 198.045253  p= 0.0\n",
      "annual increase in people days pop South-eastern Asia was 759.762593  p= 0.0\n",
      "attrib heat South-eastern Asia was 20.676929493434116  p= 0.0 \n",
      "\n",
      "annual increase in people days Southern Asia was 2179.316567  p= 0.0\n",
      "annual increase in people days heat Southern Asia was 502.349558  p= 0.0\n",
      "annual increase in people days pop Southern Asia was 1676.967008  p= 0.0\n",
      "attrib heat Southern Asia was 23.05078415897712  p= 0.0 \n",
      "\n",
      "annual increase in people days Southern Europe was 5.93309  p= 0.004\n",
      "annual increase in people days heat Southern Europe was 5.011387  p= 0.004\n",
      "annual increase in people days pop Southern Europe was 0.921702  p= 0.004\n",
      "attrib heat Southern Europe was 84.46504266748019  p= 0.004 \n",
      "\n",
      "annual increase in people days Sub-Saharan Africa was 931.620333  p= 0.0\n",
      "annual increase in people days heat Sub-Saharan Africa was 129.057747  p= 0.0\n",
      "annual increase in people days pop Sub-Saharan Africa was 802.562586  p= 0.0\n",
      "attrib heat Sub-Saharan Africa was 13.853041032757279  p= 0.0 \n",
      "\n",
      "annual increase in people days Western Asia was 539.312998  p= 0.0\n",
      "annual increase in people days heat Western Asia was 90.843165  p= 0.0\n",
      "annual increase in people days pop Western Asia was 448.469833  p= 0.0\n",
      "attrib heat Western Asia was 16.844238009631653  p= 0.0 \n",
      "\n",
      "annual increase in people days Western Europe was 2.826938  p= 0.005\n",
      "annual increase in people days heat Western Europe was 2.370155  p= 0.005\n",
      "annual increase in people days pop Western Europe was 0.456783  p= 0.005\n",
      "attrib heat Western Europe was 83.84177509375868  p= 0.005 \n",
      "\n"
     ]
    }
   ],
   "source": [
    "#### Annual Rates\n",
    "\n",
    "scale = 10**6\n",
    "geog = 'sub-region'\n",
    "\n",
    "for label in np.unique(HI_STATS[geog]):\n",
    "    label = label\n",
    "    data = HI_STATS[HI_STATS[geog] == label]\n",
    "    \n",
    "    #### Rate of change\n",
    "    coef, r2, p = lm_func(data, 'people_days')\n",
    "    print('annual increase in people days '+label, 'was', coef/scale, ' p=', p)\n",
    "    coef1, r21, p1 = lm_func(data, 'people_days_heat')\n",
    "    print('annual increase in people days heat '+label, 'was', coef1/scale, ' p=', p)\n",
    "    coef2, r22, p2 = lm_func(data, 'people_days_pop')\n",
    "    print('annual increase in people days pop '+label, 'was', coef2/scale, ' p=', p)\n",
    "    print('attrib heat '+label, 'was', coef1 / coef *100, ' p=', p, '\\n')\n",
    "  "
   ]
  },
  {
   "cell_type": "code",
   "execution_count": 27,
   "metadata": {},
   "outputs": [
    {
     "name": "stdout",
     "output_type": "stream",
     "text": [
      "Africa\n",
      "person days in 2016 was 56.29063764754387 billion\n",
      "person days in 1983 was 17.243777343461907 billion\n",
      "pct increase in people days 83 - 16 is  226.44029510672635\n"
     ]
    }
   ],
   "source": [
    "#### Trends for Africa, N & SS\n",
    "geog = 'region'\n",
    "location = 'Africa'\n",
    "data = HI_STATS[HI_STATS[geog] == location]\n",
    "print(location)\n",
    "\n",
    "#### Total Change in people Days\n",
    "data = data.groupby('year')['people_days'].sum()\n",
    "year = str(data.index[33])\n",
    "value = str(data.values[33]/10**9)\n",
    "print('person days in 2016 was '+value+' billion')\n",
    "\n",
    "year = str(data.index[0])\n",
    "value = str(data.values[0]/10**9)\n",
    "print('person days in 1983 was '+value+' billion')\n",
    "\n",
    "#### Pct Change in Poeple Days 1983 - 2016\n",
    "pdays16 = data.iloc[len(data) -1]\n",
    "pdays83 = data.iloc[0]\n",
    "out = (data.iloc[len(data) -1] - data.iloc[0]) / data.iloc[0] * 100\n",
    "print('pct increase in people days 83 - 16 is ', out)\n",
    "\n"
   ]
  },
  {
   "cell_type": "code",
   "execution_count": 28,
   "metadata": {},
   "outputs": [
    {
     "name": "stdout",
     "output_type": "stream",
     "text": [
      "pct of total pdays from S Asia is  36.218392240142734\n"
     ]
    }
   ],
   "source": [
    "#### S Asia as pct of total  global = 5.245146271 B \n",
    "\n",
    "print('pct of total pdays from S Asia is ', 1899.70765 / 10**3 / 5.245146271 * 100)"
   ]
  },
  {
   "cell_type": "code",
   "execution_count": 29,
   "metadata": {},
   "outputs": [
    {
     "name": "stdout",
     "output_type": "stream",
     "text": [
      "Europe coef_heat is  11.300829250493686\n"
     ]
    }
   ],
   "source": [
    "#### Median Slope\n",
    "region = 'Europe'\n",
    "col = 'coef_heat'\n",
    "geog = 'region'\n",
    "scale = 10**3\n",
    "result = city_coefs[city_coefs[geog]== region][col].median()\n",
    "print(region, col, 'is ', result/scale)"
   ]
  },
  {
   "cell_type": "markdown",
   "metadata": {},
   "source": [
    "# Trend First vs. Second Half of Data"
   ]
  },
  {
   "cell_type": "code",
   "execution_count": 30,
   "metadata": {},
   "outputs": [
    {
     "data": {
      "text/plain": [
       "year\n",
       "1983    1.724378e+10\n",
       "1984    1.783957e+10\n",
       "1985    1.720283e+10\n",
       "1986    1.918034e+10\n",
       "1987    2.332944e+10\n",
       "Name: people_days, dtype: float64"
      ]
     },
     "execution_count": 30,
     "metadata": {},
     "output_type": "execute_result"
    }
   ],
   "source": [
    "data.head()"
   ]
  },
  {
   "cell_type": "code",
   "execution_count": 31,
   "metadata": {},
   "outputs": [
    {
     "data": {
      "text/plain": [
       "<matplotlib.axes._subplots.AxesSubplot at 0x7f7fc4b00ba8>"
      ]
     },
     "execution_count": 31,
     "metadata": {},
     "output_type": "execute_result"
    },
    {
     "data": {
      "image/png": "[encoded data removed]",
      "text/plain": [
       "<Figure size 432x288 with 1 Axes>"
      ]
     },
     "metadata": {
      "needs_background": "light"
     },
     "output_type": "display_data"
    }
   ],
   "source": [
    "#### Share of exposure due to heat by 17 year split\n",
    "\n",
    "## 1983 - 1999\n",
    "data1 = HI_STATS[(HI_STATS['year'] >= 1983) & (HI_STATS['year'] < 2000)]\n",
    "coef1pop , r21pop, p1pop  = lm_func(data1 , 'people_days_pop')\n",
    "coef1heat , r21heat, p1heat = lm_func(data1 , 'people_days_heat')\n",
    "\n",
    "years = list(np.unique(data1['year']))\n",
    "plt.plot(years, data1.groupby('year')['people_days_heat'].sum())\n",
    "sns.regplot(years, data1.groupby('year')['people_days_heat'].sum(), \n",
    "            color = 'blue', scatter = False, truncate = True)\n",
    "\n",
    "## 2000 - 2016\n",
    "data2 = HI_STATS[(HI_STATS['year'] >= 2000) & (HI_STATS['year'] <= 2016)]\n",
    "coef2heat , r22heat, p2heat = lm_func(data2 , 'people_days_heat')\n",
    "coef2pop , r22pop, p1pop  = lm_func(data2 , 'people_days_pop')\n",
    "\n",
    "years = list(np.unique(data1['year']))\n",
    "plt.plot(years, data2.groupby('year')['people_days_heat'].sum())\n",
    "sns.regplot(years, data2.groupby('year')['people_days_heat'].sum(), \n",
    "            color = 'orange', scatter = False, truncate = True)"
   ]
  },
  {
   "cell_type": "code",
   "execution_count": 32,
   "metadata": {},
   "outputs": [],
   "source": [
    "## 2000 - 2016\n",
    "data2pop = HI_STATS[(HI_STATS['year'] >= 1983) & (HI_STATS['year'] < 2000)]\n",
    "coef2pop , r22pop, p1pop  = lm_func(data2pop , 'people_days_pop')\n",
    "\n",
    "data2heat = HI_STATS[(HI_STATS['year'] >= 2000) & (HI_STATS['year'] <= 2016)]\n",
    "coef2heat , r22heat, p2heat = lm_func(data2heat , 'people_days_heat')\n"
   ]
  },
  {
   "cell_type": "code",
   "execution_count": 33,
   "metadata": {
    "scrolled": true
   },
   "outputs": [
    {
     "name": "stdout",
     "output_type": "stream",
     "text": [
      "From 83 - 99, contribution from heat was 0.22974344669325134\n",
      "From 00 - 16, contribution from heat was 0.2597042523722036\n",
      "From 83 - 00, heat was 1.228103981 0.021\n",
      "From 00 - 16, heat was 1.444445682\n",
      "From 83 - 00, pop was 4.117441229\n",
      "From 00 - 16, pop was 4.117441229\n"
     ]
    }
   ],
   "source": [
    "## Estimates\n",
    "print('From 83 - 99, contribution from heat was', coef1heat/(coef1pop+coef1heat))\n",
    "print('From 00 - 16, contribution from heat was', coef2heat/(coef2pop+coef2heat))\n",
    "print('From 83 - 00, heat was', coef1heat/10**9, round(p1heat, 3))\n",
    "print('From 00 - 16, heat was', coef2heat/10**9)\n",
    "print('From 83 - 00, pop was', coef1pop/10**9)\n",
    "print('From 00 - 16, pop was', coef2pop/10**9)"
   ]
  },
  {
   "cell_type": "markdown",
   "metadata": {},
   "source": [
    "# Heat Waves\n",
    "\n",
    "- 9691 Kolkata 1998\n",
    "- 2046 Paris 2003\n",
    "- 4417, Aleppo 2010"
   ]
  },
  {
   "cell_type": "code",
   "execution_count": null,
   "metadata": {},
   "outputs": [],
   "source": [
    "# Find Heat Wave From All DATA\n",
    "def select_city_year(df, city_id, year):\n",
    "    \"Quick search to find city and years within HI_STATS\"\n",
    "    df_out = df[(df['ID_HDC_G0'] == city_id) & (df['year'] == year)]\n",
    "    \n",
    "    return df_out\n",
    "\n",
    "meta_fn = '/home/cascade/projects/UrbanHeat/data/processed/AllDATA-GHS-ERA5-HI406-META.csv'\n",
    "ALL_DATA = pd.read_csv(meta_fn)\n",
    "\n",
    "# [4417, 'Aleppo'] [2046, 'Paris'] [9691, 'Kolkata'] \n",
    "city = select_city_year(ALL_DATA, 4417, 2010)\n",
    "city"
   ]
  },
  {
   "cell_type": "code",
   "execution_count": null,
   "metadata": {},
   "outputs": [],
   "source": [
    "# Make a def\n",
    "df = pd.DataFrame()\n",
    "df = df.append(means, ignore_index=True)\n",
    "df = df.append(hi_year, ignore_index=True)\n",
    "df.columns = cols\n",
    "df"
   ]
  },
  {
   "cell_type": "code",
   "execution_count": 13,
   "metadata": {
    "scrolled": true
   },
   "outputs": [
    {
     "ename": "NameError",
     "evalue": "name 'df' is not defined",
     "output_type": "error",
     "traceback": [
      "\u001b[0;31m---------------------------------------------------------------------------\u001b[0m",
      "\u001b[0;31mNameError\u001b[0m                                 Traceback (most recent call last)",
      "\u001b[0;32m<ipython-input-13-d8a9d034b38e>\u001b[0m in \u001b[0;36m<module>\u001b[0;34m\u001b[0m\n\u001b[1;32m      3\u001b[0m \u001b[0;31m# Paris df.iloc[:,125:125+9]\u001b[0m\u001b[0;34m\u001b[0m\u001b[0;34m\u001b[0m\u001b[0;34m\u001b[0m\u001b[0m\n\u001b[1;32m      4\u001b[0m \u001b[0;31m# Aleppo df.iloc[:,92 :145]\u001b[0m\u001b[0;34m\u001b[0m\u001b[0;34m\u001b[0m\u001b[0;34m\u001b[0m\u001b[0m\n\u001b[0;32m----> 5\u001b[0;31m \u001b[0mwave\u001b[0m \u001b[0;34m=\u001b[0m \u001b[0mdf\u001b[0m\u001b[0;34m.\u001b[0m\u001b[0miloc\u001b[0m\u001b[0;34m[\u001b[0m\u001b[0;34m:\u001b[0m\u001b[0;34m,\u001b[0m\u001b[0;36m92\u001b[0m \u001b[0;34m:\u001b[0m\u001b[0;36m145\u001b[0m\u001b[0;34m]\u001b[0m\u001b[0;34m\u001b[0m\u001b[0;34m\u001b[0m\u001b[0m\n\u001b[0m\u001b[1;32m      6\u001b[0m \u001b[0mwave\u001b[0m \u001b[0;34m=\u001b[0m \u001b[0mwave\u001b[0m\u001b[0;34m.\u001b[0m\u001b[0mtranspose\u001b[0m\u001b[0;34m(\u001b[0m\u001b[0;34m)\u001b[0m\u001b[0;34m\u001b[0m\u001b[0;34m\u001b[0m\u001b[0m\n\u001b[1;32m      7\u001b[0m \u001b[0mwave\u001b[0m\u001b[0;34m.\u001b[0m\u001b[0mcolumns\u001b[0m \u001b[0;34m=\u001b[0m \u001b[0;34m[\u001b[0m\u001b[0;34m'mean'\u001b[0m\u001b[0;34m,\u001b[0m \u001b[0;34m'HI'\u001b[0m\u001b[0;34m]\u001b[0m\u001b[0;34m\u001b[0m\u001b[0;34m\u001b[0m\u001b[0m\n",
      "\u001b[0;31mNameError\u001b[0m: name 'df' is not defined"
     ]
    }
   ],
   "source": [
    "# Isloate daily HI vs averages \n",
    "# Kolkata df.iloc[:,54:72]\n",
    "# Paris df.iloc[:,125:125+9] \n",
    "# Aleppo df.iloc[:,92 :145]\n",
    "wave = df.iloc[:,92 :145]\n",
    "wave = wave.transpose()\n",
    "wave.columns = ['mean', 'HI']\n",
    "wave['hi_dif'] = wave['HI'] - wave['mean'] \n",
    "# wave['>50'] = wave['HI'] - 50\n",
    "print(wave['hi_dif'].mean())\n",
    "wave"
   ]
  },
  {
   "cell_type": "markdown",
   "metadata": {},
   "source": [
    "# Check out cities"
   ]
  },
  {
   "cell_type": "code",
   "execution_count": 34,
   "metadata": {},
   "outputs": [],
   "source": [
    "def select_city_year(df, city_id, year):\n",
    "    \"Quick search to find city and years within HI_STATS\"\n",
    "    df_out = df[(df['ID_HDC_G0'] == city_id) & (df['year'] == year)]\n",
    "    \n",
    "    return df_out\n"
   ]
  },
  {
   "cell_type": "code",
   "execution_count": 35,
   "metadata": {},
   "outputs": [],
   "source": [
    "city = select_city_year(ALL_DATA, 4417, 2010)\n",
    "city"
   ]
  },
  {
   "cell_type": "markdown",
   "metadata": {},
   "source": [
    "# LA"
   ]
  },
  {
   "cell_type": "code",
   "execution_count": 92,
   "metadata": {},
   "outputs": [],
   "source": [
    "from glob import glob \n",
    "import os"
   ]
  },
  {
   "cell_type": "code",
   "execution_count": 97,
   "metadata": {},
   "outputs": [],
   "source": [
    "dir_list = '/home/cascade/projects/UrbanHeat/data/interim/ERA5_HI/'\n"
   ]
  },
  {
   "cell_type": "code",
   "execution_count": 107,
   "metadata": {},
   "outputs": [],
   "source": [
    "fn = 'GHS-ERA5-HI_2009.csv'\n",
    "data = pd.read_csv(dir_list+fn)\n",
    "city = data[data['ID_HDC_G0'] == 14]"
   ]
  },
  {
   "cell_type": "code",
   "execution_count": 135,
   "metadata": {},
   "outputs": [],
   "source": [
    "temps_list = []\n",
    "dates_list = []\n",
    "for fn in sorted(os.listdir(dir_list)):\n",
    "    data = pd.read_csv(dir_list+fn)\n",
    "    city = data[data['ID_HDC_G0'] == 14]\n",
    "    dates = list(city.iloc[:,3:])\n",
    "    temps = list(city.iloc[:,3:].values[0])\n",
    "    dates_list.extend(dates)\n",
    "    temps_list.extend(temps)"
   ]
  },
  {
   "cell_type": "code",
   "execution_count": 137,
   "metadata": {
    "scrolled": true
   },
   "outputs": [
    {
     "data": {
      "text/plain": [
       "12419"
      ]
     },
     "execution_count": 137,
     "metadata": {},
     "output_type": "execute_result"
    }
   ],
   "source": [
    "len(dates_list)"
   ]
  }
 ],
 "metadata": {
  "kernelspec": {
   "display_name": "geo",
   "language": "python",
   "name": "geo"
  },
  "language_info": {
   "codemirror_mode": {
    "name": "ipython",
    "version": 3
   },
   "file_extension": ".py",
   "mimetype": "text/x-python",
   "name": "python",
   "nbconvert_exporter": "python",
   "pygments_lexer": "ipython3",
   "version": "3.6.7"
  }
 },
 "nbformat": 4,
 "nbformat_minor": 2
}
