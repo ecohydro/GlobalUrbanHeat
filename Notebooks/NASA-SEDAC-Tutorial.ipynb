{
 "cells": [
  {
   "cell_type": "markdown",
   "metadata": {},
   "source": [
    "# Global High Resolution Daily Extreme Urban Heat Exposure (UHE-Daily), v1 (1983 – 2016) Overview for NASA SEDAC \n",
    "A tutorial for UHE-Daily. <br> \n",
    "Cascade Tuholske, Dec 8 2021 (cascade@ciesin.columbia.edu) <br>\n",
    "\n",
    "Download the dataset from NASA SEDAC [here](https://doi.org/10.7927/fq7g-ny13). The dataset was developed for [Tuholske et al. 2021](https://doi.org/10.1073/pnas.2024792118), which measured global urban extreme heat exposure from from 1983 - 2016.  \n"
   ]
  },
  {
   "cell_type": "markdown",
   "metadata": {},
   "source": [
    "## Dependencies"
   ]
  },
  {
   "cell_type": "code",
   "execution_count": null,
   "metadata": {},
   "outputs": [],
   "source": [
    "import pandas as pd \n",
    "import geopandas as gpd\n",
    "import numpy as np\n",
    "import os\n",
    "import matplotlib.pyplot as plt\n",
    "import seaborn as sns"
   ]
  },
  {
   "cell_type": "markdown",
   "metadata": {},
   "source": [
    "## Set file paths "
   ]
  },
  {
   "cell_type": "code",
   "execution_count": null,
   "metadata": {},
   "outputs": [],
   "source": [
    "dataset = 'wbgtmax30'\n",
    "path = os.path.join('/Users/cpt2136/Github/UrbanHeat/data/SEDAC/tabular/', dataset+'-tabular/')"
   ]
  },
  {
   "cell_type": "markdown",
   "metadata": {},
   "source": [
    "# Annual exposure data\n",
    "The EXP suffix shows for each city, for a given year, the number of days per year(tot_days) where a hot-humid threshold was exceeded multiplied the population (P) to measure exposure (people_days). This can be expressed as:\n",
    "> people_days = tot_days X P\n"
   ]
  },
  {
   "cell_type": "code",
   "execution_count": null,
   "metadata": {
    "scrolled": true
   },
   "outputs": [],
   "source": [
    "# Load annual exposure data\n",
    "wbgt30_exp_fn = os.path.join(path, dataset+'_EXP.json')\n",
    "wbgt30_exp = pd.read_json(wbgt30_exp_fn, orient = 'split')\n",
    "wbgt30_exp.head(4)"
   ]
  },
  {
   "cell_type": "markdown",
   "metadata": {},
   "source": [
    "## What does exposure look like in Kolkata in 1983?\n",
    "For example in 1983, for Kolkata (ID_HDC_G0 == 9691), the total days where WBGT > 30°C was 85 and the populations was 15,504,160 people, so the exposure in person-days was 1,317,854,000\n",
    "<br>\n",
    "<br>"
   ]
  },
  {
   "cell_type": "code",
   "execution_count": null,
   "metadata": {
    "scrolled": false
   },
   "outputs": [],
   "source": [
    "# Subset Kolkata\n",
    "kolkata_exp = wbgt30_exp[wbgt30_exp['ID_HDC_G0'] == 9691]\n",
    "kolkata_exp.head(1)"
   ]
  },
  {
   "cell_type": "markdown",
   "metadata": {},
   "source": [
    "## How has exposure changed over time?\n",
    "\n",
    "**Plot person-days exposure from 1983 - 2016**  \n",
    "To look at how annual exposure for WBGT > 30°C in Kolkata from 1983 - 2016 in Kolkata, you can use the the \"year\" and \"people_days\" columns.\n",
    "<br>\n",
    "<br>"
   ]
  },
  {
   "cell_type": "code",
   "execution_count": null,
   "metadata": {},
   "outputs": [],
   "source": [
    "# Set up the figure\n",
    "fig, axs = plt.subplots(1, 1, figsize = (8, 8), sharex=False, sharey = False)\n",
    "\n",
    "# make a bar plot\n",
    "data = kolkata_exp \n",
    "axs.bar(data['year'], data['people_days'] / 10**9, alpha = .5, color = 'darkred')\n",
    "\n",
    "# add labels, title, and data range\n",
    "axs.set_ylabel('Person-days, billions [WBGTmax > 30°C]', fontsize = 15)\n",
    "axs.set_xlabel('Year', fontsize = 15)\n",
    "axs.set_ylim([0, 4])\n",
    "plt.title('Expousre increase in Kolkata', fontsize = 18);"
   ]
  },
  {
   "cell_type": "code",
   "execution_count": null,
   "metadata": {},
   "outputs": [],
   "source": [
    "# Set up the figure\n",
    "fig, axs = plt.subplots(1, 1, figsize = (8, 8), sharex=False, sharey = False)\n",
    "\n",
    "# make a bar plot\n",
    "data = kolkata_exp \n",
    "axs.bar(data['year'], data['people_days'] / 10**9, alpha = .07, color = 'darkred')\n",
    "axs.bar(data['year'], data['people_days_heat'] / 10**9, alpha = .5, color = 'green')\n",
    "axs.bar(data['year'], data['people_days_pop'] / 10**9, alpha = .5, color = 'blue')\n",
    "\n",
    "\n",
    "# add labels, title, and data range\n",
    "axs.set_ylabel('Person-days, billions [WBGTmax > 30°C]', fontsize = 15)\n",
    "axs.set_xlabel('Year', fontsize = 15)\n",
    "axs.set_ylim([0, 4])\n",
    "plt.title('Expousre increase due to heat vs population growth in Kolkata', fontsize = 16);\n",
    "plt.legend(['Total','Heat', 'Population'], fontsize = 15)"
   ]
  },
  {
   "cell_type": "markdown",
   "metadata": {},
   "source": [
    "# Total Urban Warming Trend?\n",
    "The \"_TREND_HEATP05\" suffix lists each city with a statistically significant (p < 0.05) increase in the number of days per year a hot-humid heat threshold is exceeded. In other words, this allows you to look at the overall total warming trend from 1983 - 2016."
   ]
  },
  {
   "cell_type": "code",
   "execution_count": null,
   "metadata": {},
   "outputs": [],
   "source": [
    "fn = os.path.join(\"/Users/cpt2136/Github/UrbanHeat/data/PNAS-Finalv4/wbgtmax30_TREND_HEATP05.json\")"
   ]
  },
  {
   "cell_type": "code",
   "execution_count": null,
   "metadata": {
    "scrolled": false
   },
   "outputs": [],
   "source": [
    "# Load heating trend data\n",
    "dataset = 'wbgtmax30'\n",
    "wbgt30_heat_fn = os.path.join(path, dataset+'_TREND_HEATP05.json')\n",
    "wbgt30_heat = pd.read_json(wbgt30_heat_fn, orient = 'split')\n",
    "wbgt30_heat.head(1)"
   ]
  },
  {
   "cell_type": "code",
   "execution_count": null,
   "metadata": {},
   "outputs": [],
   "source": [
    "# Set up the figure\n",
    "fig, axs = plt.subplots(1, 1, figsize = (8, 8), sharex=False, sharey = False)\n",
    "\n",
    "# make a bar plot\n",
    "data = kolkata_exp \n",
    "axs.bar(data['year'], data['tot_days'], alpha = .5, color = 'darkred')\n",
    "\n",
    "# add labels, title, and data range\n",
    "axs.set_ylabel('Days per year WBGTmax > 30°C', fontsize = 15)\n",
    "axs.set_xlabel('Year', fontsize = 15)\n",
    "axs.set_ylim([0,150])\n",
    "plt.title('Days per-year WBGT>30°C Kolkata', fontsize = 18)"
   ]
  },
  {
   "cell_type": "markdown",
   "metadata": {},
   "source": [
    "## In Kolkata, on average, how many days per year did WBGT > 30°C increase from 1983 - 2016?\n",
    "The coef_totDays columns shows the annual rate of change in the number of days per year WBGT > 30°C increased from 1983 - 2016. So Kolkata added 1.762108 days per year from 1983 - 2016 where WBGT > 30°C."
   ]
  },
  {
   "cell_type": "code",
   "execution_count": null,
   "metadata": {
    "scrolled": true
   },
   "outputs": [],
   "source": [
    "# Subset Kolkata\n",
    "kolkata_heat = wbgt30_heat[wbgt30_heat['ID_HDC_G0'] == 9691]\n",
    "kolkata_heat.head(1)"
   ]
  },
  {
   "cell_type": "code",
   "execution_count": null,
   "metadata": {
    "scrolled": true
   },
   "outputs": [],
   "source": [
    "ans = np.round(kolkata_heat['coef_totDays'].values[0],1)\n",
    "print(\"How quickly is Kolkata warming?\", ans, 'days per year')"
   ]
  },
  {
   "cell_type": "code",
   "execution_count": null,
   "metadata": {},
   "outputs": [],
   "source": [
    "# Subset Kolkata\n",
    "kolkata_heat = wbgt30_heat[wbgt30_heat['ID_HDC_G0'] == 9691]\n",
    "kolkata_heat.head(1)"
   ]
  },
  {
   "cell_type": "code",
   "execution_count": null,
   "metadata": {},
   "outputs": [],
   "source": [
    "# Set up the figure\n",
    "fig, axs = plt.subplots(1, 1, figsize = (8, 8), sharex=False, sharey = False)\n",
    "\n",
    "# make a bar plot\n",
    "data = kolkata_exp \n",
    "axs.bar(data['year'], data['tot_days'], alpha = .2, color = 'darkred')\n",
    "\n",
    "# add labels, title, and data range\n",
    "axs.set_ylabel('Days per year WBGTmax > 30°C', fontsize = 15)\n",
    "axs.set_xlabel('Year', fontsize = 15)\n",
    "axs.set_ylim([0,150])\n",
    "plt.title('Days per-year WBGT>30°C Kolkata', fontsize = 18);\n",
    "\n",
    "# plot the trendline\n",
    "sns.regplot(x = data['year'], y =data['tot_days'], scatter=False)\n",
    "\n",
    "# add text\n",
    "text = 'Kolkata warmed by ' + str(ans)+' days\\nper year WBGT > 30°C'\n",
    "plt.text(1982, 136, text, size=15)"
   ]
  },
  {
   "cell_type": "markdown",
   "metadata": {},
   "source": [
    "## What do individual heatwaves look like for Kolkata?\n",
    "The \"_STATS\" suffix contains the duration, dates, intensities, tempatures, and averages for every heat wave to hit an urban settlement from 1983 - 2016\n"
   ]
  },
  {
   "cell_type": "code",
   "execution_count": null,
   "metadata": {
    "scrolled": true
   },
   "outputs": [],
   "source": [
    "# Load heat wave stats data\n",
    "dataset = 'wbgtmax30'\n",
    "wbgt30_stats_fn = os.path.join(path, dataset+'_STATS.json')\n",
    "wbgt30_stats = pd.read_json(wbgt30_stats_fn, orient = 'split')\n",
    "wbgt30_stats.head(1)"
   ]
  },
  {
   "cell_type": "code",
   "execution_count": null,
   "metadata": {},
   "outputs": [],
   "source": [
    "# Subset Kolkata\n",
    "kolkata_stats = wbgt30_stats[wbgt30_stats['ID_HDC_G0'] == 9691]\n",
    "kolkata_stats.head(1)"
   ]
  },
  {
   "cell_type": "markdown",
   "metadata": {},
   "source": [
    "## Let's look at heat waves where WBGT > 30° lasted at least 30 days in Kolkata"
   ]
  },
  {
   "cell_type": "code",
   "execution_count": null,
   "metadata": {},
   "outputs": [],
   "source": [
    "kolkata_50days = kolkata_stats[kolkata_stats['duration'] > 30]"
   ]
  },
  {
   "cell_type": "code",
   "execution_count": null,
   "metadata": {},
   "outputs": [],
   "source": [
    "print('From 1983 - 2016, how many heatwaves lasted more than 30 days?', len(kolkata_50days))"
   ]
  },
  {
   "cell_type": "code",
   "execution_count": null,
   "metadata": {},
   "outputs": [],
   "source": [
    "print(\"What years did these happen?\", kolkata_50days['year'].values)"
   ]
  },
  {
   "cell_type": "code",
   "execution_count": null,
   "metadata": {},
   "outputs": [],
   "source": [
    "ans = kolkata_50days[(kolkata_50days['year'] == 2016) & (kolkata_50days['duration'] > 30)]['UID'].values[0]\n",
    "print('What is the event ID of 2016 30+ day event?', ans)"
   ]
  },
  {
   "cell_type": "code",
   "execution_count": null,
   "metadata": {},
   "outputs": [],
   "source": [
    "kolkata_50days[(kolkata_50days['year'] == 2016) & (kolkata_50days['duration'] > 30)]"
   ]
  },
  {
   "cell_type": "code",
   "execution_count": null,
   "metadata": {
    "scrolled": true
   },
   "outputs": [],
   "source": [
    "ans = kolkata_50days[kolkata_50days['UID'] == 'UID-1578971']['event_dates']\n",
    "print(\"On what dates did the >30-day heat occure in 2016 in Kolkata?\")\n",
    "for event in ans: print(event)"
   ]
  },
  {
   "cell_type": "markdown",
   "metadata": {},
   "source": [
    "## Let's make a data frame of the 2016 30+ day event in Kolkata"
   ]
  },
  {
   "cell_type": "code",
   "execution_count": null,
   "metadata": {},
   "outputs": [],
   "source": [
    "# make a dataframe and get the dates\n",
    "df = pd.DataFrame()\n",
    "df['dates'] = ans.to_list()[0]\n",
    "\n",
    "# get the WBGT values\n",
    "df['WBGTmax'] = kolkata_50days[kolkata_50days['UID'] == 'UID-1578971']['tmax'].values[0]"
   ]
  },
  {
   "cell_type": "code",
   "execution_count": null,
   "metadata": {},
   "outputs": [],
   "source": [
    "df"
   ]
  },
  {
   "cell_type": "markdown",
   "metadata": {},
   "source": [
    "# What are the top 50 cities in terms of increasing exposure trend?\n",
    "The \"_TREND_PDAYSP05\" suffix lists each city with a statistically significant (p < 0.05) increase in the annual rate of exposure (person-days per year) using a given hot-humid heat threshold is exceeded. In other words, this allows you to look at the overall exposure trend from 1983 - 2016. This is the primary dataset used in Tuholske et al 2021 referenced at the beginning. "
   ]
  },
  {
   "cell_type": "code",
   "execution_count": null,
   "metadata": {},
   "outputs": [],
   "source": [
    "# Load exposure trend data\n",
    "dataset = 'wbgtmax30'\n",
    "wbgt30_pdays_fn = os.path.join(path, dataset+'_TREND_PDAYS05.json')\n",
    "wbgt30_pdays = pd.read_json(wbgt30_pdays_fn, orient = 'split')\n",
    "wbgt30_pdays.head(1)"
   ]
  },
  {
   "cell_type": "code",
   "execution_count": null,
   "metadata": {},
   "outputs": [],
   "source": [
    "# Subset top 50 \n",
    "top50 = wbgt30_pdays.sort_values('coef_pdays', ascending = False).head(50)\n"
   ]
  },
  {
   "cell_type": "code",
   "execution_count": null,
   "metadata": {
    "scrolled": true
   },
   "outputs": [],
   "source": [
    "# rename columns\n",
    "out = top50 [['ID_HDC_G0','coef_pdays', 'coef_totDays', 'UC_NM_MN', 'CTR_MN_NM', 'GCPNT_LAT','GCPNT_LON','P1983', 'P2016']]\n",
    "out.rename(columns={\"coef_pdays\": \"Exposure Trend (person-days per year)\", \n",
    "                    \"coef_totDays\": \"Days WBGT30 per year increase\", \"UC_NM_MN\" : \"City\", \"CTR_MN_NM\" : \n",
    "                    \"Country\", \"GCPNT_LAT\" : \"Latitude\", \"GCPNT_LON\" : \"Longitude\", \"P1983\" : \"Pop. 1983\", \"P2016\" : \"Pop 2016\"}, inplace = True)"
   ]
  },
  {
   "cell_type": "code",
   "execution_count": null,
   "metadata": {},
   "outputs": [],
   "source": [
    "# What are the top 10 cities in terms of increase in person-days per year?\n",
    "out.head(10)"
   ]
  },
  {
   "cell_type": "code",
   "execution_count": null,
   "metadata": {},
   "outputs": [],
   "source": [
    "# Save \n",
    "out.to_csv(\"/Users/cpt2136/Desktop/UrbanExtremeHeat-Top50.csv\", index = False)"
   ]
  }
 ],
 "metadata": {
  "kernelspec": {
   "display_name": "Python 3",
   "language": "python",
   "name": "python3"
  },
  "language_info": {
   "codemirror_mode": {
    "name": "ipython",
    "version": 3
   },
   "file_extension": ".py",
   "mimetype": "text/x-python",
   "name": "python",
   "nbconvert_exporter": "python",
   "pygments_lexer": "ipython3",
   "version": "3.8.6"
  }
 },
 "nbformat": 4,
 "nbformat_minor": 4
}
