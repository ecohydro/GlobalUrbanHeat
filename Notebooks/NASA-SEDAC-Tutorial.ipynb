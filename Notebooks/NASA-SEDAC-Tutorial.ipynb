{
 "cells": [
  {
   "cell_type": "markdown",
   "metadata": {},
   "source": [
    "# Global High Resolution Daily Extreme Urban Heat Exposure (UHE-Daily), v1 (1983 – 2016) Overview for NASA SEDAC \n",
    "A tutorial for UHE-Daily. <br> \n",
    "Cascade Tuholske, Dec 8 2021 (cascade@ciesin.columbia.edu) <br>\n",
    "\n",
    "Download the dataset from NASA SEDAC [here](https://doi.org/10.7927/fq7g-ny13). The dataset was developed for [Tuholske et al. 2021](https://doi.org/10.1073/pnas.2024792118), which measured global urban extreme heat exposure from from 1983 - 2016.  \n"
   ]
  },
  {
   "cell_type": "markdown",
   "metadata": {},
   "source": [
    "## Dependencies"
   ]
  },
  {
   "cell_type": "code",
   "execution_count": 1,
   "metadata": {},
   "outputs": [
    {
     "name": "stderr",
     "output_type": "stream",
     "text": [
      "\n",
      "Bad key \"text.kerning_factor\" on line 4 in\n",
      "/Users/cpt2136/miniconda3/envs/geo38/lib/python3.8/site-packages/matplotlib/mpl-data/stylelib/_classic_test_patch.mplstyle.\n",
      "You probably need to get an updated matplotlibrc file from\n",
      "https://github.com/matplotlib/matplotlib/blob/v3.1.2/matplotlibrc.template\n",
      "or from the matplotlib source distribution\n"
     ]
    }
   ],
   "source": [
    "import pandas as pd \n",
    "import geopandas as gpd\n",
    "import numpy as np\n",
    "import os\n",
    "import matplotlib.pyplot as plt\n",
    "import seaborn as sns"
   ]
  },
  {
   "cell_type": "markdown",
   "metadata": {},
   "source": [
    "## Set file paths "
   ]
  },
  {
   "cell_type": "code",
   "execution_count": 2,
   "metadata": {},
   "outputs": [],
   "source": [
    "dataset = 'wbgtmax30'\n",
    "path = os.path.join('/Users/cpt2136/Github/UrbanHeat/data/SEDAC/tabular/', dataset+'-tabular/')"
   ]
  },
  {
   "cell_type": "markdown",
   "metadata": {},
   "source": [
    "# Annual exposure data\n",
    "The EXP suffix shows for each city, for a given year, the number of days per year(tot_days) where a hot-humid threshold was exceeded multiplied the population (P) to measure exposure (people_days). This can be expressed as:\n",
    "> people_days = tot_days X P\n"
   ]
  },
  {
   "cell_type": "code",
   "execution_count": 3,
   "metadata": {
    "scrolled": true
   },
   "outputs": [
    {
     "data": {
      "text/html": [
       "<div>\n",
       "<style scoped>\n",
       "    .dataframe tbody tr th:only-of-type {\n",
       "        vertical-align: middle;\n",
       "    }\n",
       "\n",
       "    .dataframe tbody tr th {\n",
       "        vertical-align: top;\n",
       "    }\n",
       "\n",
       "    .dataframe thead th {\n",
       "        text-align: right;\n",
       "    }\n",
       "</style>\n",
       "<table border=\"1\" class=\"dataframe\">\n",
       "  <thead>\n",
       "    <tr style=\"text-align: right;\">\n",
       "      <th></th>\n",
       "      <th>ID_HDC_G0</th>\n",
       "      <th>year</th>\n",
       "      <th>tot_days</th>\n",
       "      <th>P</th>\n",
       "      <th>P1983</th>\n",
       "      <th>P2016</th>\n",
       "      <th>people_days</th>\n",
       "      <th>people_days_heat</th>\n",
       "      <th>people_days_pop</th>\n",
       "      <th>CTR_MN_NM</th>\n",
       "      <th>UC_NM_MN</th>\n",
       "      <th>GCPNT_LAT</th>\n",
       "      <th>GCPNT_LON</th>\n",
       "      <th>region</th>\n",
       "      <th>sub-region</th>\n",
       "      <th>intermediate-region</th>\n",
       "    </tr>\n",
       "  </thead>\n",
       "  <tbody>\n",
       "    <tr>\n",
       "      <th>0</th>\n",
       "      <td>18</td>\n",
       "      <td>2006</td>\n",
       "      <td>2</td>\n",
       "      <td>622283.428656</td>\n",
       "      <td>494664.495616</td>\n",
       "      <td>661553.577433</td>\n",
       "      <td>1.244567e+06</td>\n",
       "      <td>989328.991233</td>\n",
       "      <td>255237.866079</td>\n",
       "      <td>United States</td>\n",
       "      <td>Concord [USA]</td>\n",
       "      <td>37.913946</td>\n",
       "      <td>-122.048318</td>\n",
       "      <td>Americas</td>\n",
       "      <td>Northern America</td>\n",
       "      <td>Northern America</td>\n",
       "    </tr>\n",
       "    <tr>\n",
       "      <th>1</th>\n",
       "      <td>18</td>\n",
       "      <td>1983</td>\n",
       "      <td>0</td>\n",
       "      <td>NaN</td>\n",
       "      <td>494664.495616</td>\n",
       "      <td>661553.577433</td>\n",
       "      <td>0.000000e+00</td>\n",
       "      <td>0.000000</td>\n",
       "      <td>0.000000</td>\n",
       "      <td>United States</td>\n",
       "      <td>Concord [USA]</td>\n",
       "      <td>37.913946</td>\n",
       "      <td>-122.048318</td>\n",
       "      <td>Americas</td>\n",
       "      <td>Northern America</td>\n",
       "      <td>Northern America</td>\n",
       "    </tr>\n",
       "    <tr>\n",
       "      <th>2</th>\n",
       "      <td>18</td>\n",
       "      <td>1984</td>\n",
       "      <td>0</td>\n",
       "      <td>NaN</td>\n",
       "      <td>494664.495616</td>\n",
       "      <td>661553.577433</td>\n",
       "      <td>0.000000e+00</td>\n",
       "      <td>0.000000</td>\n",
       "      <td>0.000000</td>\n",
       "      <td>United States</td>\n",
       "      <td>Concord [USA]</td>\n",
       "      <td>37.913946</td>\n",
       "      <td>-122.048318</td>\n",
       "      <td>Americas</td>\n",
       "      <td>Northern America</td>\n",
       "      <td>Northern America</td>\n",
       "    </tr>\n",
       "    <tr>\n",
       "      <th>3</th>\n",
       "      <td>18</td>\n",
       "      <td>1985</td>\n",
       "      <td>0</td>\n",
       "      <td>NaN</td>\n",
       "      <td>494664.495616</td>\n",
       "      <td>661553.577433</td>\n",
       "      <td>0.000000e+00</td>\n",
       "      <td>0.000000</td>\n",
       "      <td>0.000000</td>\n",
       "      <td>United States</td>\n",
       "      <td>Concord [USA]</td>\n",
       "      <td>37.913946</td>\n",
       "      <td>-122.048318</td>\n",
       "      <td>Americas</td>\n",
       "      <td>Northern America</td>\n",
       "      <td>Northern America</td>\n",
       "    </tr>\n",
       "  </tbody>\n",
       "</table>\n",
       "</div>"
      ],
      "text/plain": [
       "   ID_HDC_G0  year  tot_days              P          P1983          P2016  \\\n",
       "0         18  2006         2  622283.428656  494664.495616  661553.577433   \n",
       "1         18  1983         0            NaN  494664.495616  661553.577433   \n",
       "2         18  1984         0            NaN  494664.495616  661553.577433   \n",
       "3         18  1985         0            NaN  494664.495616  661553.577433   \n",
       "\n",
       "    people_days  people_days_heat  people_days_pop      CTR_MN_NM  \\\n",
       "0  1.244567e+06     989328.991233    255237.866079  United States   \n",
       "1  0.000000e+00          0.000000         0.000000  United States   \n",
       "2  0.000000e+00          0.000000         0.000000  United States   \n",
       "3  0.000000e+00          0.000000         0.000000  United States   \n",
       "\n",
       "        UC_NM_MN  GCPNT_LAT   GCPNT_LON    region        sub-region  \\\n",
       "0  Concord [USA]  37.913946 -122.048318  Americas  Northern America   \n",
       "1  Concord [USA]  37.913946 -122.048318  Americas  Northern America   \n",
       "2  Concord [USA]  37.913946 -122.048318  Americas  Northern America   \n",
       "3  Concord [USA]  37.913946 -122.048318  Americas  Northern America   \n",
       "\n",
       "  intermediate-region  \n",
       "0    Northern America  \n",
       "1    Northern America  \n",
       "2    Northern America  \n",
       "3    Northern America  "
      ]
     },
     "execution_count": 3,
     "metadata": {},
     "output_type": "execute_result"
    }
   ],
   "source": [
    "# Load annual exposure data\n",
    "wbgt30_exp_fn = os.path.join(path, dataset+'_EXP.json')\n",
    "wbgt30_exp = pd.read_json(wbgt30_exp_fn, orient = 'split')\n",
    "wbgt30_exp.head(4)"
   ]
  },
  {
   "cell_type": "markdown",
   "metadata": {},
   "source": [
    "## What does exposure look like in Kolkata in 1983?\n",
    "For example in 1983, for Kolkata (ID_HDC_G0 == 9691), the total days where WBGT > 30°C was 85 and the populations was 15,504,160 people, so the exposure in person-days was 1,317,854,000\n",
    "<br>\n",
    "<br>"
   ]
  },
  {
   "cell_type": "code",
   "execution_count": 4,
   "metadata": {
    "scrolled": false
   },
   "outputs": [
    {
     "data": {
      "text/html": [
       "<div>\n",
       "<style scoped>\n",
       "    .dataframe tbody tr th:only-of-type {\n",
       "        vertical-align: middle;\n",
       "    }\n",
       "\n",
       "    .dataframe tbody tr th {\n",
       "        vertical-align: top;\n",
       "    }\n",
       "\n",
       "    .dataframe thead th {\n",
       "        text-align: right;\n",
       "    }\n",
       "</style>\n",
       "<table border=\"1\" class=\"dataframe\">\n",
       "  <thead>\n",
       "    <tr style=\"text-align: right;\">\n",
       "      <th></th>\n",
       "      <th>ID_HDC_G0</th>\n",
       "      <th>year</th>\n",
       "      <th>tot_days</th>\n",
       "      <th>P</th>\n",
       "      <th>P1983</th>\n",
       "      <th>P2016</th>\n",
       "      <th>people_days</th>\n",
       "      <th>people_days_heat</th>\n",
       "      <th>people_days_pop</th>\n",
       "      <th>CTR_MN_NM</th>\n",
       "      <th>UC_NM_MN</th>\n",
       "      <th>GCPNT_LAT</th>\n",
       "      <th>GCPNT_LON</th>\n",
       "      <th>region</th>\n",
       "      <th>sub-region</th>\n",
       "      <th>intermediate-region</th>\n",
       "    </tr>\n",
       "  </thead>\n",
       "  <tbody>\n",
       "    <tr>\n",
       "      <th>211514</th>\n",
       "      <td>9691</td>\n",
       "      <td>1983</td>\n",
       "      <td>85</td>\n",
       "      <td>1.550416e+07</td>\n",
       "      <td>1.550416e+07</td>\n",
       "      <td>2.162029e+07</td>\n",
       "      <td>1.317854e+09</td>\n",
       "      <td>1.317854e+09</td>\n",
       "      <td>0.0</td>\n",
       "      <td>India</td>\n",
       "      <td>Kolkata (Calcutta) [IND]</td>\n",
       "      <td>22.524884</td>\n",
       "      <td>88.292496</td>\n",
       "      <td>Asia</td>\n",
       "      <td>Southern Asia</td>\n",
       "      <td>Southern Asia</td>\n",
       "    </tr>\n",
       "  </tbody>\n",
       "</table>\n",
       "</div>"
      ],
      "text/plain": [
       "        ID_HDC_G0  year  tot_days             P         P1983         P2016  \\\n",
       "211514       9691  1983        85  1.550416e+07  1.550416e+07  2.162029e+07   \n",
       "\n",
       "         people_days  people_days_heat  people_days_pop CTR_MN_NM  \\\n",
       "211514  1.317854e+09      1.317854e+09              0.0     India   \n",
       "\n",
       "                        UC_NM_MN  GCPNT_LAT  GCPNT_LON region     sub-region  \\\n",
       "211514  Kolkata (Calcutta) [IND]  22.524884  88.292496   Asia  Southern Asia   \n",
       "\n",
       "       intermediate-region  \n",
       "211514       Southern Asia  "
      ]
     },
     "execution_count": 4,
     "metadata": {},
     "output_type": "execute_result"
    }
   ],
   "source": [
    "# Subset Kolkata\n",
    "kolkata_exp = wbgt30_exp[wbgt30_exp['ID_HDC_G0'] == 9691]\n",
    "kolkata_exp.head(1)"
   ]
  },
  {
   "cell_type": "markdown",
   "metadata": {},
   "source": [
    "## How has exposure changed over time?\n",
    "\n",
    "**Plot person-days exposure from 1983 - 2016**  \n",
    "To look at how annual exposure for WBGT > 30°C in Kolkata from 1983 - 2016 in Kolkata, you can use the the \"year\" and \"people_days\" columns.\n",
    "<br>\n",
    "<br>"
   ]
  },
  {
   "cell_type": "code",
   "execution_count": 5,
   "metadata": {},
   "outputs": [
    {
     "data": {
      "image/png": "[encoded data removed]",
      "text/plain": [
       "<Figure size 576x576 with 1 Axes>"
      ]
     },
     "metadata": {
      "needs_background": "light"
     },
     "output_type": "display_data"
    }
   ],
   "source": [
    "# Set up the figure\n",
    "fig, axs = plt.subplots(1, 1, figsize = (8, 8), sharex=False, sharey = False)\n",
    "\n",
    "# make a bar plot\n",
    "data = kolkata_exp \n",
    "axs.bar(data['year'], data['people_days'] / 10**9, alpha = .5, color = 'darkred')\n",
    "\n",
    "# add labels, title, and data range\n",
    "axs.set_ylabel('Person-days, billions [WBGTmax > 30°C]', fontsize = 15)\n",
    "axs.set_xlabel('Year', fontsize = 15)\n",
    "axs.set_ylim([0, 4])\n",
    "plt.title('Expousre increase in Kolkata', fontsize = 18);"
   ]
  },
  {
   "cell_type": "code",
   "execution_count": 6,
   "metadata": {},
   "outputs": [
    {
     "data": {
      "text/plain": [
       "<matplotlib.legend.Legend at 0x7fc8b82d0730>"
      ]
     },
     "execution_count": 6,
     "metadata": {},
     "output_type": "execute_result"
    },
    {
     "data": {
      "image/png": "[encoded data removed]",
      "text/plain": [
       "<Figure size 576x576 with 1 Axes>"
      ]
     },
     "metadata": {
      "needs_background": "light"
     },
     "output_type": "display_data"
    }
   ],
   "source": [
    "# Set up the figure\n",
    "fig, axs = plt.subplots(1, 1, figsize = (8, 8), sharex=False, sharey = False)\n",
    "\n",
    "# make a bar plot\n",
    "data = kolkata_exp \n",
    "axs.bar(data['year'], data['people_days'] / 10**9, alpha = .07, color = 'darkred')\n",
    "axs.bar(data['year'], data['people_days_heat'] / 10**9, alpha = .5, color = 'green')\n",
    "axs.bar(data['year'], data['people_days_pop'] / 10**9, alpha = .5, color = 'blue')\n",
    "\n",
    "\n",
    "# add labels, title, and data range\n",
    "axs.set_ylabel('Person-days, billions [WBGTmax > 30°C]', fontsize = 15)\n",
    "axs.set_xlabel('Year', fontsize = 15)\n",
    "axs.set_ylim([0, 4])\n",
    "plt.title('Expousre increase due to heat vs population growth in Kolkata', fontsize = 16);\n",
    "plt.legend(['Total','Heat', 'Population'], fontsize = 15)"
   ]
  },
  {
   "cell_type": "markdown",
   "metadata": {},
   "source": [
    "# Total Urban Warming Trend?\n",
    "The \"_TREND_HEATP05\" suffix lists each city with a statistically significant (p < 0.05) increase in the number of days per year a hot-humid heat threshold is exceeded. In other words, this allows you to look at the overall total warming trend from 1983 - 2016."
   ]
  },
  {
   "cell_type": "code",
   "execution_count": 7,
   "metadata": {},
   "outputs": [],
   "source": [
    "fn = os.path.join(\"/Users/cpt2136/Github/UrbanHeat/data/PNAS-Finalv4/wbgtmax30_TREND_HEATP05.json\")"
   ]
  },
  {
   "cell_type": "code",
   "execution_count": 8,
   "metadata": {
    "scrolled": false
   },
   "outputs": [
    {
     "data": {
      "text/html": [
       "<div>\n",
       "<style scoped>\n",
       "    .dataframe tbody tr th:only-of-type {\n",
       "        vertical-align: middle;\n",
       "    }\n",
       "\n",
       "    .dataframe tbody tr th {\n",
       "        vertical-align: top;\n",
       "    }\n",
       "\n",
       "    .dataframe thead th {\n",
       "        text-align: right;\n",
       "    }\n",
       "</style>\n",
       "<table border=\"1\" class=\"dataframe\">\n",
       "  <thead>\n",
       "    <tr style=\"text-align: right;\">\n",
       "      <th></th>\n",
       "      <th>ID_HDC_G0</th>\n",
       "      <th>coef_pdays</th>\n",
       "      <th>p_value_pdays</th>\n",
       "      <th>coef_heat</th>\n",
       "      <th>p_value_heat</th>\n",
       "      <th>coef_pop</th>\n",
       "      <th>p_value_pop</th>\n",
       "      <th>coef_totDays</th>\n",
       "      <th>p_value_totDays</th>\n",
       "      <th>coef_attrib</th>\n",
       "      <th>coef_attrib_norm</th>\n",
       "      <th>CTR_MN_NM</th>\n",
       "      <th>UC_NM_MN</th>\n",
       "      <th>GCPNT_LAT</th>\n",
       "      <th>GCPNT_LON</th>\n",
       "      <th>region</th>\n",
       "      <th>sub-region</th>\n",
       "      <th>intermediate-region</th>\n",
       "      <th>P1983</th>\n",
       "      <th>P2016</th>\n",
       "    </tr>\n",
       "  </thead>\n",
       "  <tbody>\n",
       "    <tr>\n",
       "      <th>16</th>\n",
       "      <td>61</td>\n",
       "      <td>124447.852339</td>\n",
       "      <td>0.0</td>\n",
       "      <td>6867.884309</td>\n",
       "      <td>0.0169</td>\n",
       "      <td>117579.968031</td>\n",
       "      <td>0.0</td>\n",
       "      <td>0.487701</td>\n",
       "      <td>0.0169</td>\n",
       "      <td>0.889626</td>\n",
       "      <td>0.944768</td>\n",
       "      <td>Mexico</td>\n",
       "      <td>Puerto Penasco [MEX]</td>\n",
       "      <td>31.325557</td>\n",
       "      <td>-113.529039</td>\n",
       "      <td>Americas</td>\n",
       "      <td>Latin America and the Caribbean</td>\n",
       "      <td>Central America</td>\n",
       "      <td>14082.175062</td>\n",
       "      <td>66491.710266</td>\n",
       "    </tr>\n",
       "  </tbody>\n",
       "</table>\n",
       "</div>"
      ],
      "text/plain": [
       "    ID_HDC_G0     coef_pdays  p_value_pdays    coef_heat  p_value_heat  \\\n",
       "16         61  124447.852339            0.0  6867.884309        0.0169   \n",
       "\n",
       "         coef_pop  p_value_pop  coef_totDays  p_value_totDays  coef_attrib  \\\n",
       "16  117579.968031          0.0      0.487701           0.0169     0.889626   \n",
       "\n",
       "    coef_attrib_norm CTR_MN_NM              UC_NM_MN  GCPNT_LAT   GCPNT_LON  \\\n",
       "16          0.944768    Mexico  Puerto Penasco [MEX]  31.325557 -113.529039   \n",
       "\n",
       "      region                       sub-region intermediate-region  \\\n",
       "16  Americas  Latin America and the Caribbean     Central America   \n",
       "\n",
       "           P1983         P2016  \n",
       "16  14082.175062  66491.710266  "
      ]
     },
     "execution_count": 8,
     "metadata": {},
     "output_type": "execute_result"
    }
   ],
   "source": [
    "# Load heating trend data\n",
    "dataset = 'wbgtmax30'\n",
    "wbgt30_heat_fn = os.path.join(path, dataset+'_TREND_HEATP05.json')\n",
    "wbgt30_heat = pd.read_json(wbgt30_heat_fn, orient = 'split')\n",
    "wbgt30_heat.head(1)"
   ]
  },
  {
   "cell_type": "code",
   "execution_count": 9,
   "metadata": {},
   "outputs": [
    {
     "data": {
      "text/plain": [
       "Text(0.5, 1.0, 'Days per-year WBGT>30°C Kolkata')"
      ]
     },
     "execution_count": 9,
     "metadata": {},
     "output_type": "execute_result"
    },
    {
     "data": {
      "image/png": "[encoded data removed]",
      "text/plain": [
       "<Figure size 576x576 with 1 Axes>"
      ]
     },
     "metadata": {
      "needs_background": "light"
     },
     "output_type": "display_data"
    }
   ],
   "source": [
    "# Set up the figure\n",
    "fig, axs = plt.subplots(1, 1, figsize = (8, 8), sharex=False, sharey = False)\n",
    "\n",
    "# make a bar plot\n",
    "data = kolkata_exp \n",
    "axs.bar(data['year'], data['tot_days'], alpha = .5, color = 'darkred')\n",
    "\n",
    "# add labels, title, and data range\n",
    "axs.set_ylabel('Days per year WBGTmax > 30°C', fontsize = 15)\n",
    "axs.set_xlabel('Year', fontsize = 15)\n",
    "axs.set_ylim([0,150])\n",
    "plt.title('Days per-year WBGT>30°C Kolkata', fontsize = 18)"
   ]
  },
  {
   "cell_type": "markdown",
   "metadata": {},
   "source": [
    "## In Kolkata, on average, how many days per year did WBGT > 30°C increase from 1983 - 2016?\n",
    "The coef_totDays columns shows the annual rate of change in the number of days per year WBGT > 30°C increased from 1983 - 2016. So Kolkata added 1.762108 days per year from 1983 - 2016 where WBGT > 30°C."
   ]
  },
  {
   "cell_type": "code",
   "execution_count": 10,
   "metadata": {
    "scrolled": true
   },
   "outputs": [
    {
     "data": {
      "text/html": [
       "<div>\n",
       "<style scoped>\n",
       "    .dataframe tbody tr th:only-of-type {\n",
       "        vertical-align: middle;\n",
       "    }\n",
       "\n",
       "    .dataframe tbody tr th {\n",
       "        vertical-align: top;\n",
       "    }\n",
       "\n",
       "    .dataframe thead th {\n",
       "        text-align: right;\n",
       "    }\n",
       "</style>\n",
       "<table border=\"1\" class=\"dataframe\">\n",
       "  <thead>\n",
       "    <tr style=\"text-align: right;\">\n",
       "      <th></th>\n",
       "      <th>ID_HDC_G0</th>\n",
       "      <th>coef_pdays</th>\n",
       "      <th>p_value_pdays</th>\n",
       "      <th>coef_heat</th>\n",
       "      <th>p_value_heat</th>\n",
       "      <th>coef_pop</th>\n",
       "      <th>p_value_pop</th>\n",
       "      <th>coef_totDays</th>\n",
       "      <th>p_value_totDays</th>\n",
       "      <th>coef_attrib</th>\n",
       "      <th>coef_attrib_norm</th>\n",
       "      <th>CTR_MN_NM</th>\n",
       "      <th>UC_NM_MN</th>\n",
       "      <th>GCPNT_LAT</th>\n",
       "      <th>GCPNT_LON</th>\n",
       "      <th>region</th>\n",
       "      <th>sub-region</th>\n",
       "      <th>intermediate-region</th>\n",
       "      <th>P1983</th>\n",
       "      <th>P2016</th>\n",
       "    </tr>\n",
       "  </thead>\n",
       "  <tbody>\n",
       "    <tr>\n",
       "      <th>5434</th>\n",
       "      <td>9691</td>\n",
       "      <td>5.223038e+07</td>\n",
       "      <td>0.0</td>\n",
       "      <td>2.732002e+07</td>\n",
       "      <td>0.0</td>\n",
       "      <td>2.491036e+07</td>\n",
       "      <td>0.0</td>\n",
       "      <td>1.762108</td>\n",
       "      <td>0.0</td>\n",
       "      <td>-0.046135</td>\n",
       "      <td>0.476507</td>\n",
       "      <td>India</td>\n",
       "      <td>Kolkata (Calcutta) [IND]</td>\n",
       "      <td>22.524884</td>\n",
       "      <td>88.292496</td>\n",
       "      <td>Asia</td>\n",
       "      <td>Southern Asia</td>\n",
       "      <td>Southern Asia</td>\n",
       "      <td>1.550416e+07</td>\n",
       "      <td>2.162029e+07</td>\n",
       "    </tr>\n",
       "  </tbody>\n",
       "</table>\n",
       "</div>"
      ],
      "text/plain": [
       "      ID_HDC_G0    coef_pdays  p_value_pdays     coef_heat  p_value_heat  \\\n",
       "5434       9691  5.223038e+07            0.0  2.732002e+07           0.0   \n",
       "\n",
       "          coef_pop  p_value_pop  coef_totDays  p_value_totDays  coef_attrib  \\\n",
       "5434  2.491036e+07          0.0      1.762108              0.0    -0.046135   \n",
       "\n",
       "      coef_attrib_norm CTR_MN_NM                  UC_NM_MN  GCPNT_LAT  \\\n",
       "5434          0.476507     India  Kolkata (Calcutta) [IND]  22.524884   \n",
       "\n",
       "      GCPNT_LON region     sub-region intermediate-region         P1983  \\\n",
       "5434  88.292496   Asia  Southern Asia       Southern Asia  1.550416e+07   \n",
       "\n",
       "             P2016  \n",
       "5434  2.162029e+07  "
      ]
     },
     "execution_count": 10,
     "metadata": {},
     "output_type": "execute_result"
    }
   ],
   "source": [
    "# Subset Kolkata\n",
    "kolkata_heat = wbgt30_heat[wbgt30_heat['ID_HDC_G0'] == 9691]\n",
    "kolkata_heat.head(1)"
   ]
  },
  {
   "cell_type": "code",
   "execution_count": 11,
   "metadata": {
    "scrolled": true
   },
   "outputs": [
    {
     "name": "stdout",
     "output_type": "stream",
     "text": [
      "How quickly is Kolkata warming? 1.8 days per year\n"
     ]
    }
   ],
   "source": [
    "ans = np.round(kolkata_heat['coef_totDays'].values[0],1)\n",
    "print(\"How quickly is Kolkata warming?\", ans, 'days per year')"
   ]
  },
  {
   "cell_type": "code",
   "execution_count": 12,
   "metadata": {},
   "outputs": [
    {
     "data": {
      "text/html": [
       "<div>\n",
       "<style scoped>\n",
       "    .dataframe tbody tr th:only-of-type {\n",
       "        vertical-align: middle;\n",
       "    }\n",
       "\n",
       "    .dataframe tbody tr th {\n",
       "        vertical-align: top;\n",
       "    }\n",
       "\n",
       "    .dataframe thead th {\n",
       "        text-align: right;\n",
       "    }\n",
       "</style>\n",
       "<table border=\"1\" class=\"dataframe\">\n",
       "  <thead>\n",
       "    <tr style=\"text-align: right;\">\n",
       "      <th></th>\n",
       "      <th>ID_HDC_G0</th>\n",
       "      <th>coef_pdays</th>\n",
       "      <th>p_value_pdays</th>\n",
       "      <th>coef_heat</th>\n",
       "      <th>p_value_heat</th>\n",
       "      <th>coef_pop</th>\n",
       "      <th>p_value_pop</th>\n",
       "      <th>coef_totDays</th>\n",
       "      <th>p_value_totDays</th>\n",
       "      <th>coef_attrib</th>\n",
       "      <th>coef_attrib_norm</th>\n",
       "      <th>CTR_MN_NM</th>\n",
       "      <th>UC_NM_MN</th>\n",
       "      <th>GCPNT_LAT</th>\n",
       "      <th>GCPNT_LON</th>\n",
       "      <th>region</th>\n",
       "      <th>sub-region</th>\n",
       "      <th>intermediate-region</th>\n",
       "      <th>P1983</th>\n",
       "      <th>P2016</th>\n",
       "    </tr>\n",
       "  </thead>\n",
       "  <tbody>\n",
       "    <tr>\n",
       "      <th>5434</th>\n",
       "      <td>9691</td>\n",
       "      <td>5.223038e+07</td>\n",
       "      <td>0.0</td>\n",
       "      <td>2.732002e+07</td>\n",
       "      <td>0.0</td>\n",
       "      <td>2.491036e+07</td>\n",
       "      <td>0.0</td>\n",
       "      <td>1.762108</td>\n",
       "      <td>0.0</td>\n",
       "      <td>-0.046135</td>\n",
       "      <td>0.476507</td>\n",
       "      <td>India</td>\n",
       "      <td>Kolkata (Calcutta) [IND]</td>\n",
       "      <td>22.524884</td>\n",
       "      <td>88.292496</td>\n",
       "      <td>Asia</td>\n",
       "      <td>Southern Asia</td>\n",
       "      <td>Southern Asia</td>\n",
       "      <td>1.550416e+07</td>\n",
       "      <td>2.162029e+07</td>\n",
       "    </tr>\n",
       "  </tbody>\n",
       "</table>\n",
       "</div>"
      ],
      "text/plain": [
       "      ID_HDC_G0    coef_pdays  p_value_pdays     coef_heat  p_value_heat  \\\n",
       "5434       9691  5.223038e+07            0.0  2.732002e+07           0.0   \n",
       "\n",
       "          coef_pop  p_value_pop  coef_totDays  p_value_totDays  coef_attrib  \\\n",
       "5434  2.491036e+07          0.0      1.762108              0.0    -0.046135   \n",
       "\n",
       "      coef_attrib_norm CTR_MN_NM                  UC_NM_MN  GCPNT_LAT  \\\n",
       "5434          0.476507     India  Kolkata (Calcutta) [IND]  22.524884   \n",
       "\n",
       "      GCPNT_LON region     sub-region intermediate-region         P1983  \\\n",
       "5434  88.292496   Asia  Southern Asia       Southern Asia  1.550416e+07   \n",
       "\n",
       "             P2016  \n",
       "5434  2.162029e+07  "
      ]
     },
     "execution_count": 12,
     "metadata": {},
     "output_type": "execute_result"
    }
   ],
   "source": [
    "# Subset Kolkata\n",
    "kolkata_heat = wbgt30_heat[wbgt30_heat['ID_HDC_G0'] == 9691]\n",
    "kolkata_heat.head(1)"
   ]
  },
  {
   "cell_type": "code",
   "execution_count": 13,
   "metadata": {},
   "outputs": [
    {
     "data": {
      "text/plain": [
       "Text(1982, 136, 'Kolkata warmed by 1.8 days\\nper year WBGT > 30°C')"
      ]
     },
     "execution_count": 13,
     "metadata": {},
     "output_type": "execute_result"
    },
    {
     "data": {
      "image/png": "[encoded data removed]",
      "text/plain": [
       "<Figure size 576x576 with 1 Axes>"
      ]
     },
     "metadata": {
      "needs_background": "light"
     },
     "output_type": "display_data"
    }
   ],
   "source": [
    "# Set up the figure\n",
    "fig, axs = plt.subplots(1, 1, figsize = (8, 8), sharex=False, sharey = False)\n",
    "\n",
    "# make a bar plot\n",
    "data = kolkata_exp \n",
    "axs.bar(data['year'], data['tot_days'], alpha = .2, color = 'darkred')\n",
    "\n",
    "# add labels, title, and data range\n",
    "axs.set_ylabel('Days per year WBGTmax > 30°C', fontsize = 15)\n",
    "axs.set_xlabel('Year', fontsize = 15)\n",
    "axs.set_ylim([0,150])\n",
    "plt.title('Days per-year WBGT>30°C Kolkata', fontsize = 18);\n",
    "\n",
    "# plot the trendline\n",
    "sns.regplot(x = data['year'], y =data['tot_days'], scatter=False)\n",
    "\n",
    "# add text\n",
    "text = 'Kolkata warmed by ' + str(ans)+' days\\nper year WBGT > 30°C'\n",
    "plt.text(1982, 136, text, size=15)"
   ]
  },
  {
   "cell_type": "markdown",
   "metadata": {},
   "source": [
    "## What do individual heatwaves look like for Kolkata?\n",
    "The \"_STATS\" suffix contains the duration, dates, intensities, tempatures, and averages for every heat wave to hit an urban settlement from 1983 - 2016\n"
   ]
  },
  {
   "cell_type": "code",
   "execution_count": 14,
   "metadata": {
    "scrolled": true
   },
   "outputs": [
    {
     "data": {
      "text/html": [
       "<div>\n",
       "<style scoped>\n",
       "    .dataframe tbody tr th:only-of-type {\n",
       "        vertical-align: middle;\n",
       "    }\n",
       "\n",
       "    .dataframe tbody tr th {\n",
       "        vertical-align: top;\n",
       "    }\n",
       "\n",
       "    .dataframe thead th {\n",
       "        text-align: right;\n",
       "    }\n",
       "</style>\n",
       "<table border=\"1\" class=\"dataframe\">\n",
       "  <thead>\n",
       "    <tr style=\"text-align: right;\">\n",
       "      <th></th>\n",
       "      <th>ID_HDC_G0</th>\n",
       "      <th>year</th>\n",
       "      <th>duration</th>\n",
       "      <th>avg_temp</th>\n",
       "      <th>avg_intensity</th>\n",
       "      <th>tot_intensity</th>\n",
       "      <th>event_dates</th>\n",
       "      <th>intensity</th>\n",
       "      <th>tmax</th>\n",
       "      <th>UID</th>\n",
       "      <th>CTR_MN_NM</th>\n",
       "      <th>UC_NM_MN</th>\n",
       "      <th>GCPNT_LAT</th>\n",
       "      <th>GCPNT_LON</th>\n",
       "      <th>region</th>\n",
       "      <th>sub-region</th>\n",
       "      <th>intermediate-region</th>\n",
       "    </tr>\n",
       "  </thead>\n",
       "  <tbody>\n",
       "    <tr>\n",
       "      <th>0</th>\n",
       "      <td>10796</td>\n",
       "      <td>1983</td>\n",
       "      <td>2</td>\n",
       "      <td>30.449124</td>\n",
       "      <td>0.449124</td>\n",
       "      <td>0.898249</td>\n",
       "      <td>[1983.07.22, 1983.07.23]</td>\n",
       "      <td>[0.283854, 0.614395]</td>\n",
       "      <td>[30.283854, 30.614395000000002]</td>\n",
       "      <td>UID-0</td>\n",
       "      <td>China</td>\n",
       "      <td>Gu'An [CHN]</td>\n",
       "      <td>39.43408</td>\n",
       "      <td>116.312194</td>\n",
       "      <td>Asia</td>\n",
       "      <td>Eastern Asia</td>\n",
       "      <td>Eastern Asia</td>\n",
       "    </tr>\n",
       "  </tbody>\n",
       "</table>\n",
       "</div>"
      ],
      "text/plain": [
       "   ID_HDC_G0  year  duration   avg_temp  avg_intensity  tot_intensity  \\\n",
       "0      10796  1983         2  30.449124       0.449124       0.898249   \n",
       "\n",
       "                event_dates             intensity  \\\n",
       "0  [1983.07.22, 1983.07.23]  [0.283854, 0.614395]   \n",
       "\n",
       "                              tmax    UID CTR_MN_NM     UC_NM_MN  GCPNT_LAT  \\\n",
       "0  [30.283854, 30.614395000000002]  UID-0     China  Gu'An [CHN]   39.43408   \n",
       "\n",
       "    GCPNT_LON region    sub-region intermediate-region  \n",
       "0  116.312194   Asia  Eastern Asia        Eastern Asia  "
      ]
     },
     "execution_count": 14,
     "metadata": {},
     "output_type": "execute_result"
    }
   ],
   "source": [
    "# Load heat wave stats data\n",
    "dataset = 'wbgtmax30'\n",
    "wbgt30_stats_fn = os.path.join(path, dataset+'_STATS.json')\n",
    "wbgt30_stats = pd.read_json(wbgt30_stats_fn, orient = 'split')\n",
    "wbgt30_stats.head(1)"
   ]
  },
  {
   "cell_type": "code",
   "execution_count": 16,
   "metadata": {},
   "outputs": [
    {
     "data": {
      "text/html": [
       "<div>\n",
       "<style scoped>\n",
       "    .dataframe tbody tr th:only-of-type {\n",
       "        vertical-align: middle;\n",
       "    }\n",
       "\n",
       "    .dataframe tbody tr th {\n",
       "        vertical-align: top;\n",
       "    }\n",
       "\n",
       "    .dataframe thead th {\n",
       "        text-align: right;\n",
       "    }\n",
       "</style>\n",
       "<table border=\"1\" class=\"dataframe\">\n",
       "  <thead>\n",
       "    <tr style=\"text-align: right;\">\n",
       "      <th></th>\n",
       "      <th>ID_HDC_G0</th>\n",
       "      <th>year</th>\n",
       "      <th>duration</th>\n",
       "      <th>avg_temp</th>\n",
       "      <th>avg_intensity</th>\n",
       "      <th>tot_intensity</th>\n",
       "      <th>event_dates</th>\n",
       "      <th>intensity</th>\n",
       "      <th>tmax</th>\n",
       "      <th>UID</th>\n",
       "      <th>CTR_MN_NM</th>\n",
       "      <th>UC_NM_MN</th>\n",
       "      <th>GCPNT_LAT</th>\n",
       "      <th>GCPNT_LON</th>\n",
       "      <th>region</th>\n",
       "      <th>sub-region</th>\n",
       "      <th>intermediate-region</th>\n",
       "    </tr>\n",
       "  </thead>\n",
       "  <tbody>\n",
       "    <tr>\n",
       "      <th>1578216</th>\n",
       "      <td>9691</td>\n",
       "      <td>1983</td>\n",
       "      <td>2</td>\n",
       "      <td>30.220539</td>\n",
       "      <td>0.220539</td>\n",
       "      <td>0.441078</td>\n",
       "      <td>[1983.03.28, 1983.03.29]</td>\n",
       "      <td>[0.367855, 0.073223]</td>\n",
       "      <td>[30.367855, 30.073223]</td>\n",
       "      <td>UID-1578216</td>\n",
       "      <td>India</td>\n",
       "      <td>Kolkata (Calcutta) [IND]</td>\n",
       "      <td>22.524884</td>\n",
       "      <td>88.292496</td>\n",
       "      <td>Asia</td>\n",
       "      <td>Southern Asia</td>\n",
       "      <td>Southern Asia</td>\n",
       "    </tr>\n",
       "  </tbody>\n",
       "</table>\n",
       "</div>"
      ],
      "text/plain": [
       "         ID_HDC_G0  year  duration   avg_temp  avg_intensity  tot_intensity  \\\n",
       "1578216       9691  1983         2  30.220539       0.220539       0.441078   \n",
       "\n",
       "                      event_dates             intensity  \\\n",
       "1578216  [1983.03.28, 1983.03.29]  [0.367855, 0.073223]   \n",
       "\n",
       "                           tmax          UID CTR_MN_NM  \\\n",
       "1578216  [30.367855, 30.073223]  UID-1578216     India   \n",
       "\n",
       "                         UC_NM_MN  GCPNT_LAT  GCPNT_LON region     sub-region  \\\n",
       "1578216  Kolkata (Calcutta) [IND]  22.524884  88.292496   Asia  Southern Asia   \n",
       "\n",
       "        intermediate-region  \n",
       "1578216       Southern Asia  "
      ]
     },
     "execution_count": 16,
     "metadata": {},
     "output_type": "execute_result"
    }
   ],
   "source": [
    "# Subset Kolkata\n",
    "kolkata_stats = wbgt30_stats[wbgt30_stats['ID_HDC_G0'] == 9691]\n",
    "kolkata_stats.head(1)"
   ]
  },
  {
   "cell_type": "markdown",
   "metadata": {},
   "source": [
    "## Let's look at heat waves where WBGT > 30° lasted at least 30 days in Kolkata"
   ]
  },
  {
   "cell_type": "code",
   "execution_count": 17,
   "metadata": {},
   "outputs": [],
   "source": [
    "kolkata_50days = kolkata_stats[kolkata_stats['duration'] > 30]"
   ]
  },
  {
   "cell_type": "code",
   "execution_count": 18,
   "metadata": {},
   "outputs": [
    {
     "name": "stdout",
     "output_type": "stream",
     "text": [
      "From 1983 - 2016, how many heatwaves lasted more than 30 days? 10\n"
     ]
    }
   ],
   "source": [
    "print('From 1983 - 2016, how many heatwaves lasted more than 30 days?', len(kolkata_50days))"
   ]
  },
  {
   "cell_type": "code",
   "execution_count": 19,
   "metadata": {},
   "outputs": [
    {
     "name": "stdout",
     "output_type": "stream",
     "text": [
      "What years did these happen? [1989 1996 1999 2003 2005 2008 2010 2012 2015 2016]\n"
     ]
    }
   ],
   "source": [
    "print(\"What years did these happen?\", kolkata_50days['year'].values)"
   ]
  },
  {
   "cell_type": "code",
   "execution_count": 20,
   "metadata": {},
   "outputs": [
    {
     "name": "stdout",
     "output_type": "stream",
     "text": [
      "What is the event ID of 2016 30+ day event? UID-1578971\n"
     ]
    }
   ],
   "source": [
    "ans = kolkata_50days[(kolkata_50days['year'] == 2016) & (kolkata_50days['duration'] > 30)]['UID'].values[0]\n",
    "print('What is the event ID of 2016 30+ day event?', ans)"
   ]
  },
  {
   "cell_type": "code",
   "execution_count": 21,
   "metadata": {},
   "outputs": [
    {
     "data": {
      "text/html": [
       "<div>\n",
       "<style scoped>\n",
       "    .dataframe tbody tr th:only-of-type {\n",
       "        vertical-align: middle;\n",
       "    }\n",
       "\n",
       "    .dataframe tbody tr th {\n",
       "        vertical-align: top;\n",
       "    }\n",
       "\n",
       "    .dataframe thead th {\n",
       "        text-align: right;\n",
       "    }\n",
       "</style>\n",
       "<table border=\"1\" class=\"dataframe\">\n",
       "  <thead>\n",
       "    <tr style=\"text-align: right;\">\n",
       "      <th></th>\n",
       "      <th>ID_HDC_G0</th>\n",
       "      <th>year</th>\n",
       "      <th>duration</th>\n",
       "      <th>avg_temp</th>\n",
       "      <th>avg_intensity</th>\n",
       "      <th>tot_intensity</th>\n",
       "      <th>event_dates</th>\n",
       "      <th>intensity</th>\n",
       "      <th>tmax</th>\n",
       "      <th>UID</th>\n",
       "      <th>CTR_MN_NM</th>\n",
       "      <th>UC_NM_MN</th>\n",
       "      <th>GCPNT_LAT</th>\n",
       "      <th>GCPNT_LON</th>\n",
       "      <th>region</th>\n",
       "      <th>sub-region</th>\n",
       "      <th>intermediate-region</th>\n",
       "    </tr>\n",
       "  </thead>\n",
       "  <tbody>\n",
       "    <tr>\n",
       "      <th>1578971</th>\n",
       "      <td>9691</td>\n",
       "      <td>2016</td>\n",
       "      <td>31</td>\n",
       "      <td>31.925295</td>\n",
       "      <td>1.925295</td>\n",
       "      <td>59.684143</td>\n",
       "      <td>[2016.04.03, 2016.04.04, 2016.04.05, 2016.04.0...</td>\n",
       "      <td>[0.797443, 1.8152789999999999, 0.758385, 0.485...</td>\n",
       "      <td>[30.797443, 31.815279, 30.758385, 30.48561, 31...</td>\n",
       "      <td>UID-1578971</td>\n",
       "      <td>India</td>\n",
       "      <td>Kolkata (Calcutta) [IND]</td>\n",
       "      <td>22.524884</td>\n",
       "      <td>88.292496</td>\n",
       "      <td>Asia</td>\n",
       "      <td>Southern Asia</td>\n",
       "      <td>Southern Asia</td>\n",
       "    </tr>\n",
       "  </tbody>\n",
       "</table>\n",
       "</div>"
      ],
      "text/plain": [
       "         ID_HDC_G0  year  duration   avg_temp  avg_intensity  tot_intensity  \\\n",
       "1578971       9691  2016        31  31.925295       1.925295      59.684143   \n",
       "\n",
       "                                               event_dates  \\\n",
       "1578971  [2016.04.03, 2016.04.04, 2016.04.05, 2016.04.0...   \n",
       "\n",
       "                                                 intensity  \\\n",
       "1578971  [0.797443, 1.8152789999999999, 0.758385, 0.485...   \n",
       "\n",
       "                                                      tmax          UID  \\\n",
       "1578971  [30.797443, 31.815279, 30.758385, 30.48561, 31...  UID-1578971   \n",
       "\n",
       "        CTR_MN_NM                  UC_NM_MN  GCPNT_LAT  GCPNT_LON region  \\\n",
       "1578971     India  Kolkata (Calcutta) [IND]  22.524884  88.292496   Asia   \n",
       "\n",
       "            sub-region intermediate-region  \n",
       "1578971  Southern Asia       Southern Asia  "
      ]
     },
     "execution_count": 21,
     "metadata": {},
     "output_type": "execute_result"
    }
   ],
   "source": [
    "kolkata_50days[(kolkata_50days['year'] == 2016) & (kolkata_50days['duration'] > 30)]"
   ]
  },
  {
   "cell_type": "code",
   "execution_count": 22,
   "metadata": {
    "scrolled": true
   },
   "outputs": [
    {
     "name": "stdout",
     "output_type": "stream",
     "text": [
      "On what dates did the >30-day heat occure in 2016 in Kolkata?\n",
      "['2016.04.03', '2016.04.04', '2016.04.05', '2016.04.06', '2016.04.07', '2016.04.08', '2016.04.09', '2016.04.10', '2016.04.11', '2016.04.12', '2016.04.13', '2016.04.14', '2016.04.15', '2016.04.16', '2016.04.17', '2016.04.18', '2016.04.19', '2016.04.20', '2016.04.21', '2016.04.22', '2016.04.23', '2016.04.24', '2016.04.25', '2016.04.26', '2016.04.27', '2016.04.28', '2016.04.29', '2016.04.30', '2016.05.01', '2016.05.02', '2016.05.03']\n"
     ]
    }
   ],
   "source": [
    "ans = kolkata_50days[kolkata_50days['UID'] == 'UID-1578971']['event_dates']\n",
    "print(\"On what dates did the >30-day heat occure in 2016 in Kolkata?\")\n",
    "for event in ans: print(event)"
   ]
  },
  {
   "cell_type": "markdown",
   "metadata": {},
   "source": [
    "## Let's make a data frame of the 2016 30+ day event in Kolkata"
   ]
  },
  {
   "cell_type": "code",
   "execution_count": 23,
   "metadata": {},
   "outputs": [],
   "source": [
    "# make a dataframe and get the dates\n",
    "df = pd.DataFrame()\n",
    "df['dates'] = ans.to_list()[0]\n",
    "\n",
    "# get the WBGT values\n",
    "df['WBGTmax'] = kolkata_50days[kolkata_50days['UID'] == 'UID-1578971']['tmax'].values[0]"
   ]
  },
  {
   "cell_type": "code",
   "execution_count": 24,
   "metadata": {},
   "outputs": [
    {
     "data": {
      "text/html": [
       "<div>\n",
       "<style scoped>\n",
       "    .dataframe tbody tr th:only-of-type {\n",
       "        vertical-align: middle;\n",
       "    }\n",
       "\n",
       "    .dataframe tbody tr th {\n",
       "        vertical-align: top;\n",
       "    }\n",
       "\n",
       "    .dataframe thead th {\n",
       "        text-align: right;\n",
       "    }\n",
       "</style>\n",
       "<table border=\"1\" class=\"dataframe\">\n",
       "  <thead>\n",
       "    <tr style=\"text-align: right;\">\n",
       "      <th></th>\n",
       "      <th>dates</th>\n",
       "      <th>WBGTmax</th>\n",
       "    </tr>\n",
       "  </thead>\n",
       "  <tbody>\n",
       "    <tr>\n",
       "      <th>0</th>\n",
       "      <td>2016.04.03</td>\n",
       "      <td>30.797443</td>\n",
       "    </tr>\n",
       "    <tr>\n",
       "      <th>1</th>\n",
       "      <td>2016.04.04</td>\n",
       "      <td>31.815279</td>\n",
       "    </tr>\n",
       "    <tr>\n",
       "      <th>2</th>\n",
       "      <td>2016.04.05</td>\n",
       "      <td>30.758385</td>\n",
       "    </tr>\n",
       "    <tr>\n",
       "      <th>3</th>\n",
       "      <td>2016.04.06</td>\n",
       "      <td>30.485610</td>\n",
       "    </tr>\n",
       "    <tr>\n",
       "      <th>4</th>\n",
       "      <td>2016.04.07</td>\n",
       "      <td>31.501516</td>\n",
       "    </tr>\n",
       "    <tr>\n",
       "      <th>5</th>\n",
       "      <td>2016.04.08</td>\n",
       "      <td>31.843285</td>\n",
       "    </tr>\n",
       "    <tr>\n",
       "      <th>6</th>\n",
       "      <td>2016.04.09</td>\n",
       "      <td>32.012665</td>\n",
       "    </tr>\n",
       "    <tr>\n",
       "      <th>7</th>\n",
       "      <td>2016.04.10</td>\n",
       "      <td>31.909977</td>\n",
       "    </tr>\n",
       "    <tr>\n",
       "      <th>8</th>\n",
       "      <td>2016.04.11</td>\n",
       "      <td>31.934590</td>\n",
       "    </tr>\n",
       "    <tr>\n",
       "      <th>9</th>\n",
       "      <td>2016.04.12</td>\n",
       "      <td>31.437635</td>\n",
       "    </tr>\n",
       "    <tr>\n",
       "      <th>10</th>\n",
       "      <td>2016.04.13</td>\n",
       "      <td>30.813627</td>\n",
       "    </tr>\n",
       "    <tr>\n",
       "      <th>11</th>\n",
       "      <td>2016.04.14</td>\n",
       "      <td>32.171135</td>\n",
       "    </tr>\n",
       "    <tr>\n",
       "      <th>12</th>\n",
       "      <td>2016.04.15</td>\n",
       "      <td>32.330090</td>\n",
       "    </tr>\n",
       "    <tr>\n",
       "      <th>13</th>\n",
       "      <td>2016.04.16</td>\n",
       "      <td>32.509533</td>\n",
       "    </tr>\n",
       "    <tr>\n",
       "      <th>14</th>\n",
       "      <td>2016.04.17</td>\n",
       "      <td>32.846397</td>\n",
       "    </tr>\n",
       "    <tr>\n",
       "      <th>15</th>\n",
       "      <td>2016.04.18</td>\n",
       "      <td>31.650795</td>\n",
       "    </tr>\n",
       "    <tr>\n",
       "      <th>16</th>\n",
       "      <td>2016.04.19</td>\n",
       "      <td>32.228382</td>\n",
       "    </tr>\n",
       "    <tr>\n",
       "      <th>17</th>\n",
       "      <td>2016.04.20</td>\n",
       "      <td>32.133373</td>\n",
       "    </tr>\n",
       "    <tr>\n",
       "      <th>18</th>\n",
       "      <td>2016.04.21</td>\n",
       "      <td>32.549675</td>\n",
       "    </tr>\n",
       "    <tr>\n",
       "      <th>19</th>\n",
       "      <td>2016.04.22</td>\n",
       "      <td>32.639070</td>\n",
       "    </tr>\n",
       "    <tr>\n",
       "      <th>20</th>\n",
       "      <td>2016.04.23</td>\n",
       "      <td>32.480804</td>\n",
       "    </tr>\n",
       "    <tr>\n",
       "      <th>21</th>\n",
       "      <td>2016.04.24</td>\n",
       "      <td>31.479660</td>\n",
       "    </tr>\n",
       "    <tr>\n",
       "      <th>22</th>\n",
       "      <td>2016.04.25</td>\n",
       "      <td>32.166840</td>\n",
       "    </tr>\n",
       "    <tr>\n",
       "      <th>23</th>\n",
       "      <td>2016.04.26</td>\n",
       "      <td>32.085900</td>\n",
       "    </tr>\n",
       "    <tr>\n",
       "      <th>24</th>\n",
       "      <td>2016.04.27</td>\n",
       "      <td>32.680090</td>\n",
       "    </tr>\n",
       "    <tr>\n",
       "      <th>25</th>\n",
       "      <td>2016.04.28</td>\n",
       "      <td>32.538567</td>\n",
       "    </tr>\n",
       "    <tr>\n",
       "      <th>26</th>\n",
       "      <td>2016.04.29</td>\n",
       "      <td>32.671825</td>\n",
       "    </tr>\n",
       "    <tr>\n",
       "      <th>27</th>\n",
       "      <td>2016.04.30</td>\n",
       "      <td>31.242714</td>\n",
       "    </tr>\n",
       "    <tr>\n",
       "      <th>28</th>\n",
       "      <td>2016.05.01</td>\n",
       "      <td>32.623440</td>\n",
       "    </tr>\n",
       "    <tr>\n",
       "      <th>29</th>\n",
       "      <td>2016.05.02</td>\n",
       "      <td>31.858221</td>\n",
       "    </tr>\n",
       "    <tr>\n",
       "      <th>30</th>\n",
       "      <td>2016.05.03</td>\n",
       "      <td>31.487620</td>\n",
       "    </tr>\n",
       "  </tbody>\n",
       "</table>\n",
       "</div>"
      ],
      "text/plain": [
       "         dates    WBGTmax\n",
       "0   2016.04.03  30.797443\n",
       "1   2016.04.04  31.815279\n",
       "2   2016.04.05  30.758385\n",
       "3   2016.04.06  30.485610\n",
       "4   2016.04.07  31.501516\n",
       "5   2016.04.08  31.843285\n",
       "6   2016.04.09  32.012665\n",
       "7   2016.04.10  31.909977\n",
       "8   2016.04.11  31.934590\n",
       "9   2016.04.12  31.437635\n",
       "10  2016.04.13  30.813627\n",
       "11  2016.04.14  32.171135\n",
       "12  2016.04.15  32.330090\n",
       "13  2016.04.16  32.509533\n",
       "14  2016.04.17  32.846397\n",
       "15  2016.04.18  31.650795\n",
       "16  2016.04.19  32.228382\n",
       "17  2016.04.20  32.133373\n",
       "18  2016.04.21  32.549675\n",
       "19  2016.04.22  32.639070\n",
       "20  2016.04.23  32.480804\n",
       "21  2016.04.24  31.479660\n",
       "22  2016.04.25  32.166840\n",
       "23  2016.04.26  32.085900\n",
       "24  2016.04.27  32.680090\n",
       "25  2016.04.28  32.538567\n",
       "26  2016.04.29  32.671825\n",
       "27  2016.04.30  31.242714\n",
       "28  2016.05.01  32.623440\n",
       "29  2016.05.02  31.858221\n",
       "30  2016.05.03  31.487620"
      ]
     },
     "execution_count": 24,
     "metadata": {},
     "output_type": "execute_result"
    }
   ],
   "source": [
    "df"
   ]
  },
  {
   "cell_type": "markdown",
   "metadata": {},
   "source": [
    "# What are the top 50 cities in terms of increasing exposure trend?\n",
    "The \"_TREND_PDAYSP05\" suffix lists each city with a statistically significant (p < 0.05) increase in the annual rate of exposure (person-days per year) using a given hot-humid heat threshold is exceeded. In other words, this allows you to look at the overall exposure trend from 1983 - 2016. This is the primary dataset used in Tuholske et al 2021 referenced at the beginning. "
   ]
  },
  {
   "cell_type": "code",
   "execution_count": null,
   "metadata": {},
   "outputs": [],
   "source": [
    "# Load exposure trend data\n",
    "dataset = 'wbgtmax30'\n",
    "wbgt30_pdays_fn = os.path.join(path, dataset+'_TREND_PDAYS05.json')\n",
    "wbgt30_pdays = pd.read_json(wbgt30_pdays_fn, orient = 'split')\n",
    "wbgt30_pdays.head(1)"
   ]
  },
  {
   "cell_type": "code",
   "execution_count": null,
   "metadata": {},
   "outputs": [],
   "source": [
    "# Subset top 50 \n",
    "top50 = wbgt30_pdays.sort_values('coef_pdays', ascending = False).head(50)\n"
   ]
  },
  {
   "cell_type": "code",
   "execution_count": null,
   "metadata": {
    "scrolled": true
   },
   "outputs": [],
   "source": [
    "# rename columns\n",
    "out = top50 [['ID_HDC_G0','coef_pdays', 'coef_totDays', 'UC_NM_MN', 'CTR_MN_NM', 'GCPNT_LAT','GCPNT_LON','P1983', 'P2016']]\n",
    "out.rename(columns={\"coef_pdays\": \"Exposure Trend (person-days per year)\", \n",
    "                    \"coef_totDays\": \"Days WBGT30 per year increase\", \"UC_NM_MN\" : \"City\", \"CTR_MN_NM\" : \n",
    "                    \"Country\", \"GCPNT_LAT\" : \"Latitude\", \"GCPNT_LON\" : \"Longitude\", \"P1983\" : \"Pop. 1983\", \"P2016\" : \"Pop 2016\"}, inplace = True)"
   ]
  },
  {
   "cell_type": "code",
   "execution_count": null,
   "metadata": {},
   "outputs": [],
   "source": [
    "# What are the top 10 cities in terms of increase in person-days per year?\n",
    "out.head(10)"
   ]
  },
  {
   "cell_type": "code",
   "execution_count": null,
   "metadata": {},
   "outputs": [],
   "source": [
    "# Save \n",
    "out.to_csv(\"/Users/cpt2136/Desktop/UrbanExtremeHeat-Top50.csv\", index = False)"
   ]
  }
 ],
 "metadata": {
  "kernelspec": {
   "display_name": "Python 3",
   "language": "python",
   "name": "python3"
  },
  "language_info": {
   "codemirror_mode": {
    "name": "ipython",
    "version": 3
   },
   "file_extension": ".py",
   "mimetype": "text/x-python",
   "name": "python",
   "nbconvert_exporter": "python",
   "pygments_lexer": "ipython3",
   "version": "3.8.6"
  }
 },
 "nbformat": 4,
 "nbformat_minor": 4
}
