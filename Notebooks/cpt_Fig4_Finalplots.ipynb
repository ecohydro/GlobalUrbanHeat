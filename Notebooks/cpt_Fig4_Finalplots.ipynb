{
 "cells": [
  {
   "cell_type": "markdown",
   "metadata": {},
   "source": [
    "# Notebook to make plots for figure 4\n",
    "\n",
    "by Cascade Tuholske 2020.04.06\n",
    "\n",
    "**Pick a city of geography & Year ... 1987-1988 W Africa, 1998 India & 2003 Europe** <br>\n",
    "Cities : 12080 Hongcong, 9691 Kolkata, 8050 Bangalore, 1910 Accra, 2125 Lagos, 2046 Paris, 2987 Rome,\n",
    "2559 Milan, 1887 bordeaux, 2135 Brussels <br>\n",
    "\n",
    "Helpful for julian days: https://landweb.modaps.eosdis.nasa.gov/browse/calendar.html"
   ]
  },
  {
   "cell_type": "code",
   "execution_count": 1,
   "metadata": {},
   "outputs": [],
   "source": [
    "#### Dependencies\n",
    "import glob\n",
    "import numpy as np\n",
    "import pandas as pd\n",
    "from matplotlib import pyplot as plt\n",
    "from matplotlib import rcParams\n",
    "import matplotlib.dates as mdates\n"
   ]
  },
  {
   "cell_type": "code",
   "execution_count": 2,
   "metadata": {},
   "outputs": [],
   "source": [
    "#### Heat Index Data \n",
    "DATA_IN = '/home/cascade/projects/UrbanHeat/data/interim/ERA5_HI/' # output from avg temp\n",
    "FIG_OUT = '/home/cascade/projects/UrbanHeat/figures/'\n",
    "DS = u\"\\N{DEGREE SIGN}\""
   ]
  },
  {
   "cell_type": "code",
   "execution_count": 3,
   "metadata": {},
   "outputs": [],
   "source": [
    "def make_data(dir_in, geog, location):\n",
    "    \"\"\"Function makes data to plot daily city-level HI Max and average\n",
    "    Args:\n",
    "        dir_in = directory to get data\n",
    "        geog = column for geography, city-level = 'ID_HDC_G0'\n",
    "        location = usually a city id\n",
    "    \"\"\"\n",
    "    \n",
    "    fn_list = sorted(glob.glob(dir_in+'*.csv')) # get data\n",
    "    df_out = pd.DataFrame() # to write dataframe\n",
    "    \n",
    "     # get leap year cols from 2016\n",
    "    hi16 = pd.read_csv(fn_list[33]) \n",
    "    cols = list(hi16.iloc[:,3:].columns)\n",
    "    cols = [year[5:] for year in cols] # cols for data frame\n",
    "    \n",
    "    temp_list = [] # empty list for temps\n",
    "    \n",
    "    # loop through dir and get data\n",
    "    for i, fn in enumerate(fn_list):\n",
    "        df = pd.read_csv(fn) # open data frame\n",
    "        year_label = [(df.columns[3]).split('.')[0]] # get year\n",
    "        row = df[df[geog] == location]\n",
    "        temp = row.iloc[:,3:] # get only temp columns\n",
    "        \n",
    "        # add in col for leap years\n",
    "        if temp.shape[1] == 365:\n",
    "            temp.insert(loc = 59, column = year_label[0]+'.02.29', value = np.nan, allow_duplicates=False)\n",
    "\n",
    "        # Set Index & Columns\n",
    "        temp.index = year_label\n",
    "        temp.columns = cols # revalue to m.d\n",
    "    \n",
    "        # add to list\n",
    "        temp_list.append(temp)\n",
    "    \n",
    "    df_out = pd.concat(temp_list) # make one big dataframe\n",
    "    \n",
    "    return df_out\n",
    "    "
   ]
  },
  {
   "cell_type": "code",
   "execution_count": 4,
   "metadata": {},
   "outputs": [],
   "source": [
    "def plot_data(df, year, start, end):#, start, end):\n",
    "    \"\"\" Make the data for a plot\n",
    "    Args: \n",
    "        df = df w/ daily HI max for a given city\n",
    "        year = year you want to plot against average\n",
    "        start = start of plot in julian days (e.g 1 - 365/366)\n",
    "        end = end of plot in julian days\n",
    "    \"\"\"\n",
    "\n",
    "    # Deal with leap year\n",
    "    if year % 4 !=0:\n",
    "        df.drop(columns ='02.29', inplace = True)\n",
    "    \n",
    "    # Subset data\n",
    "    start = start - 1 # zero indexing \n",
    "    subset = df.iloc[:,start:end]\n",
    "    \n",
    "    # HI Max for year\n",
    "    hi_year = subset.loc[str(year)]\n",
    "    \n",
    "    # make 34-avg daily hi\n",
    "    means = subset.mean(axis = 0)\n",
    "    \n",
    "    # make colums to date time\n",
    "    cols = pd.to_datetime([str(year)+'.'+date for date in hi_year.index])\n",
    "    \n",
    "    return hi_year, means, cols\n"
   ]
  },
  {
   "cell_type": "markdown",
   "metadata": {},
   "source": [
    "# One panel"
   ]
  },
  {
   "cell_type": "code",
   "execution_count": 35,
   "metadata": {},
   "outputs": [],
   "source": [
    "# Args\n",
    "city_list = [4417, 'Aleppo'] # [4337, 'Beruit'] #[3342, 'Cairo'] #[1910, 'Accra'] 3268, Cape Town\n",
    "year = 2010\n",
    "font_size = 9\n",
    "\n",
    "# April 1 to Sep 30 (Use Julian Days), or 1 - 182 lagos\n",
    "start = 91 \n",
    "end = 273\n",
    "\n",
    "# Labels\n",
    "hi_label = str(year)+' HI'\n",
    "labels =  ['avg. HI', hi_label, '40.6 '+DS+'C']\n",
    "\n",
    "# Make Data \n",
    "data = make_data(DATA_IN, 'ID_HDC_G0', city_list[0])\n",
    "hi_year, means,cols = plot_data(data, year, start, end)\n",
    "\n",
    "# FN OUT\n",
    "FN_OUT = 'FIG4-Aleppo10.png'"
   ]
  },
  {
   "cell_type": "code",
   "execution_count": 39,
   "metadata": {},
   "outputs": [
    {
     "data": {
      "image/png": "[encoded data removed]",
      "text/plain": [
       "<Figure size 216x161.784 with 1 Axes>"
      ]
     },
     "metadata": {
      "needs_background": "light"
     },
     "output_type": "display_data"
    }
   ],
   "source": [
    "#### Make Figure & Save it\n",
    "\n",
    "# Set up\n",
    "rcParams['mathtext.default'] = 'regular' # set text to reg, not italic \n",
    "fig, axs = plt.subplots(1, 1, figsize = (3, 2.247), sharex=True) #(3, 2.247)\n",
    "ws = 0.5\n",
    "fig.subplots_adjust(hspace=ws)\n",
    "\n",
    "#plot\n",
    "axs.plot(cols, means, color = 'slategray', alpha = 0.5, linestyle = '-', lw = 0.7) # Long term daily avg\n",
    "axs.plot(cols, hi_year, color = 'red', alpha = 0.8, lw = 0.7) # Daily HI Max\n",
    "axs.hlines(y = 40.6, xmin = min(cols), xmax = max(cols), alpha = 0.5, linestyle = ':', color = 'blue')\n",
    "axs.set_title(city_list[1]+' '+str(year), fontsize = font_size)\n",
    "axs.tick_params(axis='both', labelsize = 6)\n",
    "\n",
    "# ticks\n",
    "# Make ticks on occurrences of each month:\n",
    "axs.xaxis.set_major_locator(mdates.MonthLocator())\n",
    "axs.xaxis.set_major_formatter(mdates.DateFormatter('%b'))\n",
    "axs.tick_params(axis='both', labelsize = 6)\n",
    "#axs.xaxis.set_major_locator(plt.MaxNLocator(3))\n",
    "\n",
    "# Labels\n",
    "#fig.text(0,0.5, 'Heat Index '+DS+'C', ha=\"center\", va=\"center\", rotation=90, fontsize = 8)\n",
    "plt.ylabel('Heat Index '+DS+'C', fontsize = 8)\n",
    "plt.xlabel('Date', fontsize = 8)\n",
    "\n",
    "\n",
    "# Legend\n",
    "plt.legend(labels, loc=4, prop={'size': 6})\n",
    "\n",
    "# Save it out\n",
    "plt.savefig(FIG_OUT+FN_OUT, dpi = 300, bbox_inches='tight')"
   ]
  },
  {
   "cell_type": "code",
   "execution_count": null,
   "metadata": {},
   "outputs": [],
   "source": [
    "#### Always double check dates are correct\n",
    "cols"
   ]
  },
  {
   "cell_type": "markdown",
   "metadata": {},
   "source": [
    "# Two panel"
   ]
  },
  {
   "cell_type": "code",
   "execution_count": null,
   "metadata": {},
   "outputs": [],
   "source": [
    "#### Make Figure & Save it\n",
    "\n",
    "#### Args\n",
    "city_list = [tuple((2045, 'Paris')), tuple((2145, 'Brussels'))]\n",
    "year = 2003\n",
    "font_size = 9\n",
    "\n",
    "# April 1 to Sep 30 Use Julian Days\n",
    "\n",
    "start = 93 \n",
    "end = 274\n",
    "\n",
    "# Labels\n",
    "hi_label = str(year)+' max HI'\n",
    "labels = [hi_label, 'mean max HI', '40.6 C']\n",
    "\n",
    "# Set up\n",
    "rcParams['mathtext.default'] = 'regular' # set text to reg, not italic \n",
    "fig, axs = plt.subplots(2, 1, figsize = (3, 2), sharex=True)\n",
    "ws = 0.5\n",
    "fig.subplots_adjust(hspace=ws)\n",
    "\n",
    "## Plot 1 \n",
    "data = make_data(DATA_IN, 'ID_HDC_G0', city_list[0][0])\n",
    "hi_year, means,cols = plot_data(data, year, start, end) \n",
    "axs[0].plot(cols, hi_year, color = 'red', alpha = 0.7) # Daily HI Max\n",
    "axs[0].plot(cols, means, color = 'black', alpha = 0.5, linestyle = 'solid') # Long term daily avg\n",
    "axs[0].hlines(y = 40.6, xmin = min(cols), xmax = max(cols), alpha = 0.5, linestyle = ':', color = 'blue')\n",
    "axs[0].set_title(city_list[0][1]+' '+str(year), fontsize = font_size)\n",
    "axs[0].tick_params(axis='both', labelsize = 6)\n",
    "\n",
    "## Plot 2 \n",
    "data = make_data(DATA_IN, 'ID_HDC_G0', city_list[1][0])\n",
    "hi_year, means, cols = plot_data(data, year, start, end) \n",
    "axs[1].plot(cols, hi_year, color = 'red', alpha = 0.7) # Daily HI Max\n",
    "axs[1].plot(cols, means, color = 'black', alpha = 0.5, linestyle = 'solid') # Long term daily avg\n",
    "axs[1].hlines(y = 40.6, xmin = min(cols), xmax = max(cols), alpha = 0.5, linestyle = ':', color = 'blue')\n",
    "axs[1].set_title(city_list[1][1]+' '+str(year), fontsize = font_size)\n",
    "\n",
    "# ticks\n",
    "# Make ticks on occurrences of each month:\n",
    "axs[1].xaxis.set_major_locator(mdates.MonthLocator())\n",
    "axs[1].xaxis.set_major_formatter(mdates.DateFormatter('%b'))\n",
    "axs[1].tick_params(axis='both', labelsize = 6)\n",
    "#axs[1].xaxis.set_major_locator(plt.MaxNLocator(3))\n",
    "\n",
    "# Labels\n",
    "fig.text(0,0.5, \"Heat Index C\", ha=\"center\", va=\"center\", rotation=90, fontsize = 8)\n",
    "plt.xlabel('Date', fontsize = 8)\n",
    "\n",
    "\n",
    "# Legend\n",
    "plt.legend(labels, loc=2, prop={'size': 4})\n",
    "\n",
    "# Save it out\n",
    "plt.savefig(FIG_OUT+'TEST.png', dpi = 300, bbox_inches='tight')\n"
   ]
  }
 ],
 "metadata": {
  "kernelspec": {
   "display_name": "geo",
   "language": "python",
   "name": "geo"
  },
  "language_info": {
   "codemirror_mode": {
    "name": "ipython",
    "version": 3
   },
   "file_extension": ".py",
   "mimetype": "text/x-python",
   "name": "python",
   "nbconvert_exporter": "python",
   "pygments_lexer": "ipython3",
   "version": "3.6.7"
  }
 },
 "nbformat": 4,
 "nbformat_minor": 2
}
