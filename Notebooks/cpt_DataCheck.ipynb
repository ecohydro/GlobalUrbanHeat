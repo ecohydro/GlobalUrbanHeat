{
 "cells": [
  {
   "cell_type": "markdown",
   "metadata": {},
   "source": [
    "# Data Check\n",
    "\n",
    "This notebook was created in July/August 2020 to double check the data for the MS before I submit it.\n",
    "I also want to check if the GHS-UCDB files have place names that we can use to update the figures in the MS and build out more supplement results."
   ]
  },
  {
   "cell_type": "code",
   "execution_count": 1,
   "metadata": {},
   "outputs": [],
   "source": [
    "#### Dependencies\n",
    "import rasterio \n",
    "import numpy as np\n",
    "import pandas as pd\n",
    "import geopandas as gpd\n",
    "from rasterstats import zonal_stats\n",
    "from rasterio import features\n",
    "import os\n",
    "import xarray as xr\n",
    "import fnmatch\n",
    "import time\n",
    "import multiprocessing as mp \n",
    "from glob import glob\n",
    "from multiprocessing import Pool"
   ]
  },
  {
   "cell_type": "markdown",
   "metadata": {},
   "source": [
    "## Check RH is ERA5 "
   ]
  },
  {
   "cell_type": "code",
   "execution_count": 2,
   "metadata": {},
   "outputs": [],
   "source": [
    "# Dirs\n",
    "DATA_OUT = '/home/cascade/projects/UrbanHeat/data/interim/ERA5_RH/' \n",
    "DATA_INTERIM = '/home/cascade/projects/UrbanHeat/data/interim/'\n",
    "\n",
    "# FN \n",
    "ERA5_RH_FN = '/home/chc-ftp_out/products/CHIRTSdaily/global_tifs_p05/RHum/1983/RH.1983.01.01.tif'\n",
    "tempRst = rasterio.open(ERA5_RH_FN)\n",
    "\n",
    "# Open the file with GeoPANDAS read_file\n",
    "ghs_ids_fn = 'GHS-UCSB-IDS.csv'\n",
    "ghs_ids_df = pd.read_csv(DATA_INTERIM+ghs_ids_fn)\n",
    "\n",
    "# Open Polygon Raster\n",
    "polyRst_fn = 'GHS_UCDB_Raster_touched.tif'\n",
    "polyRst = rasterio.open(DATA_INTERIM+polyRst_fn)"
   ]
  },
  {
   "cell_type": "code",
   "execution_count": 5,
   "metadata": {},
   "outputs": [
    {
     "name": "stdout",
     "output_type": "stream",
     "text": [
      "13072\n",
      "13072\n"
     ]
    }
   ],
   "source": [
    "#### Calc Area Avg. ERA5 RH for '1983.01.01' for GHS-UCDB\n",
    "\n",
    "date = '1983.01.01'\n",
    "\n",
    "# Turn polyRst data as Xarray, \n",
    "polyRst_da = xr.DataArray(polyRst.read(1), dims = ['y', 'x'])\n",
    "\n",
    "# Make arrays into x array DataArray\n",
    "tempRst_da = xr.DataArray(tempRst.read(1), dims = ['y', 'x']) # y and x are our 2-d labels\n",
    "\n",
    "# Make xarray dataset\n",
    "ds = xr.Dataset(data_vars = \n",
    "        {'ghs' : (['y', 'x'], polyRst_da),\n",
    "        'temp' : (['y', 'x'], tempRst_da),})\n",
    "\n",
    "# UPDATED 2019-08-19 Mask the CHIRTS PIXELS FIRST, THEN GHS\n",
    "# Mask values from chirt that are ocean in ghs and chirt in our ds \n",
    "ds_mask = ds.where(ds.temp != -9999, drop = False) #<<<<------ need to double check this\n",
    "\n",
    "# Mask pixels for both ghs and chirts where ghs cities are not present\n",
    "ds_mask = ds_mask.where(ds_mask.ghs > 0, drop = False)\n",
    "\n",
    "# Group poly_IDs find temp\n",
    "avg = ds_mask.groupby('ghs').mean(xr.ALL_DIMS)\n",
    "\n",
    "# turn GHS IDS and avg. CHIRTMax values into 1-D numpy arrays of equal length\n",
    "avg_ID = np.array(avg.ghs)\n",
    "avg_temp = np.array(avg.temp)\n",
    "\n",
    "print(len(avg_ID))\n",
    "print(len(avg_temp))\n",
    "\n",
    "# turn chirt max and IDS into a DF\n",
    "df_avg = pd.DataFrame()\n",
    "df_avg[date] = avg_temp\n",
    "df_avg['ID_HDC_G0'] = avg_ID\n",
    "\n",
    "# merge the df\n",
    "ghs_ids_df = ghs_ids_df.merge(df_avg, on='ID_HDC_G0', how = 'outer')"
   ]
  },
  {
   "cell_type": "code",
   "execution_count": 6,
   "metadata": {},
   "outputs": [
    {
     "data": {
      "text/html": [
       "<div>\n",
       "<style scoped>\n",
       "    .dataframe tbody tr th:only-of-type {\n",
       "        vertical-align: middle;\n",
       "    }\n",
       "\n",
       "    .dataframe tbody tr th {\n",
       "        vertical-align: top;\n",
       "    }\n",
       "\n",
       "    .dataframe thead th {\n",
       "        text-align: right;\n",
       "    }\n",
       "</style>\n",
       "<table border=\"1\" class=\"dataframe\">\n",
       "  <thead>\n",
       "    <tr style=\"text-align: right;\">\n",
       "      <th></th>\n",
       "      <th>ID_HDC_G0</th>\n",
       "      <th>CTR_MN_NM</th>\n",
       "      <th>1983.01.01</th>\n",
       "    </tr>\n",
       "  </thead>\n",
       "  <tbody>\n",
       "    <tr>\n",
       "      <td>0</td>\n",
       "      <td>5782</td>\n",
       "      <td>Russia</td>\n",
       "      <td>94.164597</td>\n",
       "    </tr>\n",
       "    <tr>\n",
       "      <td>1</td>\n",
       "      <td>3316</td>\n",
       "      <td>Russia</td>\n",
       "      <td>96.823662</td>\n",
       "    </tr>\n",
       "    <tr>\n",
       "      <td>2</td>\n",
       "      <td>5645</td>\n",
       "      <td>Russia</td>\n",
       "      <td>95.182632</td>\n",
       "    </tr>\n",
       "    <tr>\n",
       "      <td>3</td>\n",
       "      <td>3185</td>\n",
       "      <td>Finland</td>\n",
       "      <td>98.555817</td>\n",
       "    </tr>\n",
       "    <tr>\n",
       "      <td>4</td>\n",
       "      <td>3539</td>\n",
       "      <td>Russia</td>\n",
       "      <td>94.960381</td>\n",
       "    </tr>\n",
       "  </tbody>\n",
       "</table>\n",
       "</div>"
      ],
      "text/plain": [
       "   ID_HDC_G0 CTR_MN_NM  1983.01.01\n",
       "0       5782    Russia   94.164597\n",
       "1       3316    Russia   96.823662\n",
       "2       5645    Russia   95.182632\n",
       "3       3185   Finland   98.555817\n",
       "4       3539    Russia   94.960381"
      ]
     },
     "execution_count": 6,
     "metadata": {},
     "output_type": "execute_result"
    }
   ],
   "source": [
    "ghs_ids_df.head()"
   ]
  },
  {
   "cell_type": "code",
   "execution_count": 7,
   "metadata": {},
   "outputs": [],
   "source": [
    "# Open current ERA5 RH Data for 1983.01.01 ... or what I think is ERA5\n",
    "current_RH_FN = '/home/cascade/projects/UrbanHeat/data/interim/ERA5_RH/GHS-ERA5-RH_1983.csv'\n",
    "current_RH = "
   ]
  }
 ],
 "metadata": {
  "kernelspec": {
   "display_name": "geo",
   "language": "python",
   "name": "geo"
  },
  "language_info": {
   "codemirror_mode": {
    "name": "ipython",
    "version": 3
   },
   "file_extension": ".py",
   "mimetype": "text/x-python",
   "name": "python",
   "nbconvert_exporter": "python",
   "pygments_lexer": "ipython3",
   "version": "3.6.7"
  }
 },
 "nbformat": 4,
 "nbformat_minor": 2
}
