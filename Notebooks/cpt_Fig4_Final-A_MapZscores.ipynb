{
 "cells": [
  {
   "cell_type": "markdown",
   "metadata": {},
   "source": [
    "# Figure 4 Final\n",
    "\n",
    "Notebook to make data for figure 4 for ms <br>\n",
    "by Cascade Tuholske 2020.02.23"
   ]
  },
  {
   "cell_type": "code",
   "execution_count": 1,
   "metadata": {},
   "outputs": [],
   "source": [
    "#### Depdencies \n",
    "import pandas as pd\n",
    "import numpy as np\n",
    "import geopandas as gpd\n",
    "import matplotlib.pyplot as plt\n",
    "import statsmodels.api as sm\n",
    "import seaborn as sns"
   ]
  },
  {
   "cell_type": "code",
   "execution_count": 2,
   "metadata": {},
   "outputs": [],
   "source": [
    "#### Load Data\n",
    "# file path\n",
    "DATA_IN = \"/home/cascade/projects/UrbanHeat/data/\"  # Note: Need ?dl=1 to make sure this file gets read correctly\n",
    "FIG_OUT = \"/home/cascade/projects/UrbanHeat/figures/\"\n",
    "\n",
    "# HI DATA\n",
    "FN_IN = 'processed/AllDATA-GHS-ERA5-HI406-FIGDATA.csv'\n",
    "HI_STATS = pd.read_csv(DATA_IN+FN_IN)\n",
    "\n",
    "# File out\n",
    "FN_OUT = 'processed/AllDATA-GHS-ERA5-HI406-ZSCORES.csv'\n",
    "\n",
    "# scale the date in the plot \n",
    "scale = 10**9 "
   ]
  },
  {
   "cell_type": "code",
   "execution_count": 3,
   "metadata": {},
   "outputs": [
    {
     "name": "stdout",
     "output_type": "stream",
     "text": [
      "386920\n",
      "385526\n",
      "385424\n"
     ]
    }
   ],
   "source": [
    "#### Drop cities where P1983 == 0\n",
    "print(len(HI_STATS))\n",
    "HI_STATS = HI_STATS[HI_STATS['P1983'] > 0]\n",
    "print(len(HI_STATS))\n",
    "\n",
    "#### Drop cities with only one Tmax Day in 1983 and none else because you cannot regress them\n",
    "#drop_list = [2543, 2560, 3667, 3669, 6122, 6156] # city ids for MERRA2 \n",
    "drop_list = [832, 1732, 5521] # city IDS for ERA5\n",
    "\n",
    "HI_STATS= HI_STATS[~HI_STATS['ID_HDC_G0'].isin(drop_list)]\n",
    "print(len(HI_STATS))"
   ]
  },
  {
   "cell_type": "code",
   "execution_count": 4,
   "metadata": {},
   "outputs": [],
   "source": [
    "#### Add In Meta Data\n",
    "geog = ['region', 'intermediate-region', 'sub-region','CTR_MN_NM', 'ID_HDC_G0', 'GCPNT_LAT', 'GCPNT_LON']\n",
    "meta_fn = 'processed/AllDATA-GHS-ERA5-HI406-META.csv'\n",
    "all_data = pd.read_csv(DATA_IN+meta_fn)\n",
    "meta = all_data[geog]\n",
    "meta = meta.drop_duplicates('ID_HDC_G0')\n",
    "\n",
    "## Merge in meta\n",
    "HI_STATS = HI_STATS.merge(meta, on = 'ID_HDC_G0', how = 'left')"
   ]
  },
  {
   "cell_type": "code",
   "execution_count": 5,
   "metadata": {},
   "outputs": [],
   "source": [
    "def z_score(data):\n",
    "    \"mini function to make z scoares\"\n",
    "    mean = np.mean(data)\n",
    "    sd = np.std(data)\n",
    "    zscores = (data - mean) / sd\n",
    "    \n",
    "    return zscores"
   ]
  },
  {
   "cell_type": "code",
   "execution_count": 6,
   "metadata": {},
   "outputs": [],
   "source": [
    "def z_residuals(data, col):\n",
    "    \n",
    "    \"\"\" function finds the z_scores of the residuals from a linear regession.\n",
    "    Currently set up for city-leve z-scores of the total days per year\n",
    "    >40.6C. Returns two lists, z-scores for each city and the years for ease\n",
    "    of plotting.\n",
    "    \n",
    "    Args: \n",
    "        data = all data\n",
    "        col = column to regress and fine z-score of residuals of, using 'total_days'\n",
    "    \"\"\"\n",
    "    \n",
    "    years_list = []\n",
    "    zscores_list = []\n",
    "    \n",
    "    years = list(np.unique(data.sort_values('year')['year']))\n",
    "\n",
    "    for i, city_df in enumerate(data.groupby('ID_HDC_G0')):\n",
    "        total_days = list(city_df[1].sort_values('year')[col].values)\n",
    "    \n",
    "        # Get Data\n",
    "        X_year = years\n",
    "        Y_stats = total_days\n",
    "\n",
    "        # Add Intercept\n",
    "        X_year_2 = sm.add_constant(X_year)\n",
    "\n",
    "        # Regress\n",
    "        model = sm.OLS(Y_stats, X_year_2).fit()\n",
    "\n",
    "        # residual Z scores \n",
    "        zscores = z_score(model.resid) \n",
    "\n",
    "        zscores_list.append(zscores)\n",
    "        years_list.append(years)\n",
    "        \n",
    "    return years_list, zscores_list"
   ]
  },
  {
   "cell_type": "code",
   "execution_count": null,
   "metadata": {
    "scrolled": true
   },
   "outputs": [],
   "source": [
    "#### Write Out All Data -- Can subset later\n",
    "data = HI_STATS\n",
    "years = list(np.unique(data.sort_values('year')['year']))\n",
    "cols = ['ID_HDC_G0']+years\n",
    "zscores_df = pd.DataFrame(columns = cols)"
   ]
  },
  {
   "cell_type": "code",
   "execution_count": null,
   "metadata": {},
   "outputs": [],
   "source": [
    "#### Write a loop to get scores\n",
    "row = [] # empty list for rows\n",
    "years = list(np.unique(data.sort_values('year')['year'])) # get years\n",
    "\n",
    "for i, city_df in enumerate(data.groupby('ID_HDC_G0')):\n",
    "    total_days = list(city_df[1].sort_values('year')['total_days'].values)\n",
    "\n",
    "    # Get Data\n",
    "    city_id = [city_df[0]]\n",
    "    X_year = years\n",
    "    Y_stats = total_days\n",
    "\n",
    "    # Add Intercept\n",
    "    X_year_2 = sm.add_constant(X_year)\n",
    "\n",
    "    # Regress\n",
    "    model = sm.OLS(Y_stats, X_year_2).fit()\n",
    "\n",
    "    # residual Z scores \n",
    "    zscores = z_score(model.resid) \n",
    "    \n",
    "    # Add to data frame\n",
    "    row = city_id + list(zscores) # tag on the z-scores\n",
    "    row = pd.Series(row, index = zscores_df.columns)\n",
    "    \n",
    "    # append the df\n",
    "    zscores_df = zscores_df.append(row, ignore_index=True)"
   ]
  },
  {
   "cell_type": "code",
   "execution_count": null,
   "metadata": {},
   "outputs": [],
   "source": [
    "#### Add in Meta Data\n",
    "df_out = zscores_df.merge(meta, on = 'ID_HDC_G0', how = 'left')"
   ]
  },
  {
   "cell_type": "code",
   "execution_count": null,
   "metadata": {},
   "outputs": [],
   "source": [
    "#### Save Out\n",
    "# FN_OUT = 'processed/AllDATA-GHS-ERA5-HI406-ZSCORES.csv'\n",
    "# df_out.to_csv(DATA_IN+FN_OUT)"
   ]
  },
  {
   "cell_type": "markdown",
   "metadata": {},
   "source": [
    "## Find hot years"
   ]
  },
  {
   "cell_type": "code",
   "execution_count": 15,
   "metadata": {},
   "outputs": [],
   "source": [
    "#### Make Function to scatter plot all z-scores\n",
    "def z_scatter(years_list, zscores_list, year, alpha1, alpha2):\n",
    "    \"scatter plot of z-scores across years, with select year highlighted\"\n",
    "    \n",
    "    index = 34 - (2016 - year) - 1 # finds index for a given year in the z-score list\n",
    "    \n",
    "    # Get year to highlight \n",
    "    yr = []\n",
    "    for year in years_list:\n",
    "        yr.append(year[index])\n",
    "\n",
    "    zs = []\n",
    "    for z in zscores_list:\n",
    "        zs.append(z[index])\n",
    "            \n",
    "    #### Plot All z-scores\n",
    "    plt.scatter(years_list, zscores_list, alpha = alpha1, marker = \"o\")\n",
    "    plt.scatter(yr, zs, color = 'red', alpha = alpha2, marker = \"o\")\n",
    "    plt.hlines(0, 1983, 2016, linewidths = 3)\n",
    "    plt.title('Z-scores for total days for '+location)\n",
    "    plt.xlabel('year')\n",
    "    plt.ylabel('z-score')"
   ]
  },
  {
   "cell_type": "code",
   "execution_count": 8,
   "metadata": {},
   "outputs": [],
   "source": [
    "#### Make Function to hist z-scores for a given year\n",
    "def z_year_hist(z_list, year, alpha, color):\n",
    "    \"plots the distribution of z scores for a given year\"\n",
    "    index = 34 - (2016 - year) - 1 # finds index for a given year in the z-score list\n",
    "    z_year = []\n",
    "    for z in zscores_list:\n",
    "        score = z[index]\n",
    "        z_year.append(score)\n",
    "    \n",
    "    plt.hist(z_year, alpha = alpha, color = color, density=True)\n"
   ]
  },
  {
   "cell_type": "code",
   "execution_count": 51,
   "metadata": {},
   "outputs": [],
   "source": [
    "#### Select Geography\n",
    "location = 'France'\n",
    "geog = 'CTR_MN_NM'\n",
    "year = 2003\n",
    "data = HI_STATS[HI_STATS[geog] == location]"
   ]
  },
  {
   "cell_type": "code",
   "execution_count": 52,
   "metadata": {},
   "outputs": [],
   "source": [
    "#### Find Z-scores\n",
    "years_list, zscores_list = z_residuals(data, 'total_days')"
   ]
  },
  {
   "cell_type": "code",
   "execution_count": 54,
   "metadata": {},
   "outputs": [
    {
     "data": {
      "image/png": "[encoded data removed]",
      "text/plain": [
       "<Figure size 432x288 with 1 Axes>"
      ]
     },
     "metadata": {
      "needs_background": "light"
     },
     "output_type": "display_data"
    }
   ],
   "source": [
    "z_scatter(years_list, zscores_list, year, 0.2, 0.2)\n",
    "plt.savefig(FIG_OUT+\"Z-scores_all_\"+location, dpi = 300, bbox_inches='tight')"
   ]
  },
  {
   "cell_type": "code",
   "execution_count": 55,
   "metadata": {},
   "outputs": [
    {
     "data": {
      "image/png": "[encoded data removed]",
      "text/plain": [
       "<Figure size 432x288 with 1 Axes>"
      ]
     },
     "metadata": {
      "needs_background": "light"
     },
     "output_type": "display_data"
    }
   ],
   "source": [
    "z_year_hist(zscores_list, year, .7, color = 'red');\n",
    "\n",
    "flat_list = []\n",
    "for sublist in zscores_list:\n",
    "    for item in sublist:\n",
    "        flat_list.append(item)\n",
    "plt.hist(flat_list, alpha = 0.3, color = 'blue', density=True)\n",
    "plt.title('Distribution of Z-scores '+location)\n",
    "plt.xlabel('z-score')\n",
    "plt.ylabel('pdf')\n",
    "\n",
    "# Legend\n",
    "labels = [year, '1983 - 2016']\n",
    "plt.legend(labels)\n",
    "plt.savefig(FIG_OUT+\"Z-scores_dist_\"+location, dpi = 300, bbox_inches='tight')"
   ]
  }
 ],
 "metadata": {
  "kernelspec": {
   "display_name": "geo",
   "language": "python",
   "name": "geo"
  },
  "language_info": {
   "codemirror_mode": {
    "name": "ipython",
    "version": 3
   },
   "file_extension": ".py",
   "mimetype": "text/x-python",
   "name": "python",
   "nbconvert_exporter": "python",
   "pygments_lexer": "ipython3",
   "version": "3.6.7"
  }
 },
 "nbformat": 4,
 "nbformat_minor": 2
}
