{
 "cells": [
  {
   "cell_type": "markdown",
   "metadata": {},
   "source": [
    "# Figure 2 Final\n",
    "\n",
    "Notebook to make figure 2 for ms <br>\n",
    "by Cascade Tuholske 2020.02.23"
   ]
  },
  {
   "cell_type": "code",
   "execution_count": null,
   "metadata": {},
   "outputs": [],
   "source": [
    "#### Depdencies \n",
    "import pandas as pd\n",
    "import numpy as np\n",
    "import geopandas as gpd\n",
    "import matplotlib.pyplot as plt\n",
    "import statsmodels.api as sm\n",
    "import seaborn as sns\n",
    "from scipy.optimize import fmin\n",
    "from scipy.stats import beta\n",
    "from scipy.special import gamma as gammaf\n",
    "import scipy\n"
   ]
  },
  {
   "cell_type": "code",
   "execution_count": null,
   "metadata": {},
   "outputs": [],
   "source": [
    "#### Functions\n",
    "def pop_stat(df, geog, stats):\n",
    "    \n",
    "    \"\"\"Finds linear coef for increase in stat by a given geography from 1983 - 2016, as well\n",
    "    as the pct change in population of the cities within the given geography\"\"\"\n",
    "\n",
    "    # Get results\n",
    "    labels = []\n",
    "    #delt_list = [] #CPT 2020.02.26\n",
    "    #r2_list = [] #CPT 2020.02.26\n",
    "    coef_list = []\n",
    "    p_list = []\n",
    "    df_out = pd.DataFrame()\n",
    "\n",
    "    for label, df_geog in df.groupby(geog):\n",
    "\n",
    "        # Get Data\n",
    "        X_year = np.array(df_geog.groupby('year')['ID_HDC_G0'].mean().index).reshape((-1, 1))\n",
    "        Y_stats = np.array(df_geog.groupby('year')[stats].sum()).reshape((-1, 1))\n",
    "\n",
    "        # Add Intercept\n",
    "        X_year_2 = sm.add_constant(X_year)\n",
    "\n",
    "        # Regress\n",
    "        model = sm.OLS(Y_stats, X_year_2).fit() \n",
    "        \n",
    "        # Get slope\n",
    "        # first param in intercept coef, second is slope of line but if slope = 0, then intecept\n",
    "        if len(model.params) == 2:\n",
    "            coef = model.params[1]\n",
    "            \n",
    "        else:\n",
    "            coef = model.params[0]\n",
    "        \n",
    "        # R2 and P\n",
    "        #r2 = model.rsquared_adj #CPT 2020.02.26\n",
    "        p = model.pvalues[0]\n",
    "\n",
    "        # Pop change #CPT 2020.02.26\n",
    "#         delt = df_geog.drop_duplicates('ID_HDC_G0').copy()\n",
    "#         delt['delt_pop'] = delt['P2016'] - delt['P1983']\n",
    "#         delt = delt['delt_pop'].sum()\n",
    "\n",
    "\n",
    "        # Make lists\n",
    "        labels.append(label)\n",
    "        #r2_list.append(r2) #CPT 2020.02.26\n",
    "        coef_list.append(coef)\n",
    "        p_list.append(p)\n",
    "        #delt_list.append(delt) #CPT 2020.02.26\n",
    "\n",
    "    # Make data frame\n",
    "    df_out[geog] = labels\n",
    "    #df_out['p_delt'] = delt_list #CPT 2020.02.26\n",
    "    #df_out['r2'] = r2_list #CPT 2020.02.26\n",
    "    df_out['coef'] = coef_list\n",
    "    df_out['p_value'] = [round(elem, 4) for elem in p_list]\n",
    "\n",
    "    return df_out\n",
    "\n",
    "def plot_data(stats, geog):\n",
    "    \"\"\" Function calculate coef of people days due to pop and heat and the \n",
    "    attribution index for distribution plots\n",
    "    \n",
    "    Args:\n",
    "        stats = df to feed in\n",
    "        geog = geography level to conduct analysis (city-level is 'ID-HDC-G0')\n",
    "    \n",
    "    \"\"\"\n",
    "    # Get coef for people days\n",
    "    out = pop_stat(stats, geog, 'people_days')\n",
    "    out.rename(columns={\"coef\": \"coef_pdays\"}, inplace = True)\n",
    "    out.rename(columns={\"p_value\": \"p_value_pdays\"}, inplace = True)\n",
    "    \n",
    "    # Get people days due to heat coef\n",
    "    heat = pop_stat(stats, geog, 'people_days_heat') # get stats \n",
    "    heat.rename(columns={\"coef\": \"coef_heat\"}, inplace = True)\n",
    "    heat.rename(columns={\"p_value\": \"p_value_heat\"}, inplace = True)\n",
    "    out = out.merge(heat, on = geog, how = 'left') # merge\n",
    "    \n",
    "    # Get people days due to pop\n",
    "    pop = pop_stat(stats, geog, 'people_days_pop') # get stats \n",
    "    pop.rename(columns={\"coef\": \"coef_pop\"}, inplace = True)\n",
    "    pop.rename(columns={\"p_value\": \"p_value_pop\"}, inplace = True)\n",
    "    out = out.merge(pop, on = geog, how = 'left') # merge\n",
    "    \n",
    "    # Get total days\n",
    "    totDays = pop_stat(stats, geog, 'total_days') # get stats \n",
    "    totDays.rename(columns={\"coef\": \"coef_totDays\"}, inplace = True)\n",
    "    totDays.rename(columns={\"p_value\": \"p_value_totDays\"}, inplace = True)\n",
    "    out = out.merge(totDays, on = geog, how = 'left') # merge\n",
    "    \n",
    "\n",
    "    # attrib coef --- creates range -1 to 1 index of heat vs. population as a driver of total pdays increase\n",
    "    out['coef_attrib'] = (out['coef_pop'] - out['coef_heat']) / (out['coef_pop'] + out['coef_heat']) # normalize dif\n",
    "    \n",
    "    # drop all neg or zero pday slopes\n",
    "    out = out[out['coef_pdays'] > 0]\n",
    "    out = out[out['coef_heat'] > 0]\n",
    "    out = out[out['coef_pop'] > 0]\n",
    "    \n",
    "    norm = out['coef_attrib']\n",
    "    out['coef_attrib_norm'] = (norm-min(norm))/(max(norm)-min(norm))\n",
    "    \n",
    "    return out"
   ]
  },
  {
   "cell_type": "code",
   "execution_count": null,
   "metadata": {},
   "outputs": [],
   "source": [
    "#### Load Data\n",
    "# file path\n",
    "DATA_IN = \"/home/cascade/projects/UrbanHeat/data/\"  # Note: Need ?dl=1 to make sure this file gets read correctly\n",
    "FIG_OUT = \"/home/cascade/projects/UrbanHeat/figures/\"\n",
    "\n",
    "# Raw Heat\n",
    "FN_IN = 'processed/All_data_HI406_figdata.csv'\n",
    "stats = pd.read_csv(DATA_IN+FN_IN)\n",
    "\n",
    "# scale the date in the plot \n",
    "scale = 10**9 "
   ]
  },
  {
   "cell_type": "code",
   "execution_count": null,
   "metadata": {},
   "outputs": [],
   "source": [
    "#### Get Regions\n",
    "geog = ['region', 'intermediate-region', 'sub-region','CTR_MN_NM', 'ID_HDC_G0']\n",
    "meta_fn = 'processed/All_data_HI406_meta.csv'\n",
    "all_data = pd.read_csv(DATA_IN+meta_fn)\n",
    "meta = all_data[geog]\n",
    "stats = stats.merge(meta, on = 'ID_HDC_G0', how = 'inner')"
   ]
  },
  {
   "cell_type": "code",
   "execution_count": null,
   "metadata": {
    "scrolled": true
   },
   "outputs": [],
   "source": [
    "stats.head()"
   ]
  },
  {
   "cell_type": "markdown",
   "metadata": {},
   "source": [
    "# Fig 2 Scatter"
   ]
  },
  {
   "cell_type": "code",
   "execution_count": null,
   "metadata": {},
   "outputs": [],
   "source": [
    "#### Find Regions where the trend in people days is sig at 0.05\n",
    "\n",
    "# Args\n",
    "heat_stat = 'total_days'\n",
    "pdays_stat = 'people_days'\n",
    "geog = 'sub-region'\n",
    "\n",
    "# Find Sig Regions\n",
    "df_region = pop_stat(stats, geog, heat_stat)\n",
    "df_region = df_region[df_region['p_value'] < 0.05]\n",
    "\n",
    "# Get the regions in a list and re-order \n",
    "sig_regions = list(df_region[geog])\n",
    "sig_regions = [sig_regions[10], sig_regions[11],  sig_regions[4],\n",
    "               sig_regions[6], sig_regions[1], sig_regions[9],\n",
    "               sig_regions[7], sig_regions[8], sig_regions[5],\n",
    "               sig_regions[0], sig_regions[3], sig_regions[2]]\n",
    "len(sig_regions)"
   ]
  },
  {
   "cell_type": "code",
   "execution_count": null,
   "metadata": {},
   "outputs": [],
   "source": [
    "#### Or use All regions --- Reorder if needed\n",
    "sig_regions = ['Australia and New Zealand',\n",
    " 'Central Asia',\n",
    " 'Eastern Asia',\n",
    " 'Eastern Europe',\n",
    " 'Latin America and the Caribbean',\n",
    " 'Melanesia',\n",
    " 'Northern Africa',\n",
    " 'Northern America',\n",
    " 'Northern Europe',\n",
    " 'South-eastern Asia',\n",
    " 'Southern Asia',\n",
    " 'Southern Europe',\n",
    " 'Sub-Saharan Africa',\n",
    " 'Western Asia',\n",
    " 'Western Europe']"
   ]
  },
  {
   "cell_type": "code",
   "execution_count": null,
   "metadata": {},
   "outputs": [],
   "source": [
    "#### Plot and Save Figure \n",
    "#### Plot is people-days heat vs pop increase in log scale values\n",
    "fig, axs = plt.subplots(5, 3, figsize = (15, 15), sharex=True) # Change number of panels as needed\n",
    "axs = axs.ravel()\n",
    "counter = 0\n",
    "lim = 13\n",
    "\n",
    "for i, region in enumerate(sig_regions):\n",
    "    \n",
    "    df_region = stats[stats[geog] == region] # select region\n",
    "    \n",
    "    # Get people days dues to heat coef\n",
    "    heat = pop_stat(df_region, 'ID_HDC_G0', 'people_days_heat') # get stats \n",
    "    heat.rename(columns={\"coef\": \"coef_heat\"}, inplace = True)\n",
    "    \n",
    "    # Get people days total\n",
    "    pdays_all = pop_stat(df_region, 'ID_HDC_G0', 'people_days_pop') # get stats\n",
    "    pdays_all.rename(columns={\"coef\": \"coef_pop\"}, inplace = True)\n",
    "    \n",
    "    # Merge pdays_all and heat\n",
    "    heat = heat.merge(pdays_all[['ID_HDC_G0', 'coef_pop']], on = 'ID_HDC_G0', how = 'left')\n",
    "    \n",
    "    # drop negitive and zero slopes\n",
    "    heat = heat[heat['coef_heat'] > 0]\n",
    "    heat = heat[heat['coef_pop'] > 0]\n",
    "    \n",
    "    # get data for plot\n",
    "    X = np.log10(heat['coef_pop']*scale)\n",
    "    Y = np.log10(heat['coef_heat']*scale)\n",
    "    C = np.log10(heat['p_delt'])\n",
    "    \n",
    "    # drop all slopes below 10^0\n",
    "    X = X * (X > 0)\n",
    "    Y = Y * (Y > 0)\n",
    "    \n",
    "    # plots\n",
    "    a = i + counter\n",
    "    im  = axs[a].scatter(X, Y, alpha = 0.4, marker = 'h', c = C, cmap = 'rainbow')\n",
    "    axs[a].set_title(region, fontsize = 14)\n",
    "    \n",
    "    # Set limits\n",
    "    axs[a].set_xlim([-0.5, lim])\n",
    "    axs[a].set_ylim([-0.5, lim])\n",
    "    \n",
    "    # Make one-to-one-line\n",
    "    axs[a].plot([0, lim], [0, lim], ':', lw=3, alpha = 0.7, color = 'black')\n",
    "    \n",
    "    fig.colorbar(ax = axs[a], mappable = im)\n",
    "\n",
    "fig.text(0.5, 0.08, 'Annual increase in people-days [log10] due to population', ha='center', size = 16)\n",
    "fig.text(0.07, 0.5, 'Annual increase in people-days [log10] due to heat', va='center', rotation='vertical',\n",
    "        size = 16)\n",
    "\n",
    "#plt.savefig(FIG_OUT+'FIG2.png') "
   ]
  },
  {
   "cell_type": "markdown",
   "metadata": {},
   "source": [
    "# Fig 2 Dist"
   ]
  },
  {
   "cell_type": "code",
   "execution_count": null,
   "metadata": {},
   "outputs": [],
   "source": [
    "def plot_data(stats, geog):\n",
    "    \"\"\" Function calculate coef of people days due to pop and heat and the \n",
    "    attribution index\n",
    "    \n",
    "    Args:\n",
    "        stats = df to feed in\n",
    "        geog = geography level to conduct analysis (city-level is 'ID-HDC-G0')\n",
    "    \n",
    "    \"\"\"\n",
    "    # Get people days dues to heat coef\n",
    "    heat = pop_stat(stats, geog, 'people_days_heat') # get stats \n",
    "    heat.rename(columns={\"coef\": \"coef_heat\"}, inplace = True)\n",
    "    \n",
    "    # Get people days total\n",
    "    pdays_all = pop_stat(stats, geog, 'people_days_pop') # get stats\n",
    "    pdays_all.rename(columns={\"coef\": \"coef_pop\"}, inplace = True)\n",
    "    \n",
    "    # Merge pdays_all and heat\n",
    "    heat = heat.merge(pdays_all[[geog, 'coef_pop']], on = geog, how = 'left')\n",
    "    \n",
    "    # drop negitive and zero slopes\n",
    "    heat = heat[heat['coef_heat'] > 0]\n",
    "    heat = heat[heat['coef_pop'] > 0]\n",
    "    \n",
    "    # attrib coef\n",
    "    heat['coef_attrib'] = (heat['coef_pop'] - heat['coef_heat']) / (heat['coef_pop'] + heat['coef_heat']) # normalize dif\n",
    "    \n",
    "    return heat"
   ]
  },
  {
   "cell_type": "code",
   "execution_count": null,
   "metadata": {},
   "outputs": [],
   "source": [
    "#### Chunk Data\n",
    "geog = 'sub-region'\n",
    "loc = 'Northern America'\n",
    "chunk_stats = stats[stats[geog] == loc]\n",
    "\n",
    "Y95= chunk_stats[(chunk_stats['year'] >= 1986) & (chunk_stats['year'] <= 1995)]\n",
    "Y05 = chunk_stats[(chunk_stats['year'] >= 1996) & (chunk_stats['year'] <= 2005)]\n",
    "Y15 = chunk_stats[(chunk_stats['year'] >= 2006) & (chunk_stats['year'] <= 2015)]"
   ]
  },
  {
   "cell_type": "code",
   "execution_count": null,
   "metadata": {},
   "outputs": [],
   "source": [
    "#### Make distribution\n",
    "\n",
    "Y95_plotdata = plot_data(Y95, 'ID_HDC_G0')\n",
    "Y95_plotdata.head()\n",
    "\n",
    "Y05_plotdata = plot_data(Y05, 'ID_HDC_G0')\n",
    "Y95_plotdata.head()\n",
    "\n",
    "Y15_plotdata = plot_data(Y15, 'ID_HDC_G0')\n",
    "Y15_plotdata.head()"
   ]
  },
  {
   "cell_type": "code",
   "execution_count": null,
   "metadata": {},
   "outputs": [],
   "source": [
    "data = Y15_plotdata['coef_attrib']\n",
    "bins = 20\n",
    "#plt.hist(data, color = 'blue', alpha = 0.3, bins = bins)\n",
    "#sns.kdeplot(np.array(data), bw=0.15, color = 'blue', alpha = 0.4)\n",
    "\n",
    "data = Y05_plotdata['coef_attrib']\n",
    "#plt.hist(data, color = 'green', alpha = 0.3, bins = bins)\n",
    "#sns.kdeplot(np.array(data), bw=0.15, color = 'green', alpha = 0.4)\n",
    "\n",
    "data = Y95_plotdata['coef_attrib']\n",
    "plt.hist(data, color = 'red', alpha = 0.3, bins = bins)\n",
    "#sns.kdeplot(np.array(data), bw=0.15, color = 'red', alpha = 0.4)\n",
    "plt.xlabel('Coef of Attribtuion (Right is people, left heat)')\n",
    "plt.ylabel('N of Cites')\n",
    "plt.title(loc+' Dist of PeopleDays Attribution Coef')\n",
    "#sns.kdeplot(np.array(data), bw=0.5)\n",
    "\n",
    "labels = ['1986 - 1995', '1996 - 2005', '2006 - 2015']\n",
    "plt.legend(labels, loc=1, facecolor= 'white', edgecolor = 'white')\n"
   ]
  },
  {
   "cell_type": "markdown",
   "metadata": {},
   "source": [
    "# Desnity Plots\n"
   ]
  },
  {
   "cell_type": "markdown",
   "metadata": {},
   "source": [
    "### North America "
   ]
  },
  {
   "cell_type": "code",
   "execution_count": null,
   "metadata": {},
   "outputs": [],
   "source": [
    "#### Chunk Data\n",
    "geog = 'region'\n",
    "loc = 'Europe'\n",
    "chunk_stats = stats[stats[geog] == loc]\n",
    "\n",
    "Y95= chunk_stats[(chunk_stats['year'] >= 1986) & (chunk_stats['year'] <= 1995)]\n",
    "Y05 = chunk_stats[(chunk_stats['year'] >= 1996) & (chunk_stats['year'] <= 2005)]\n",
    "Y15 = chunk_stats[(chunk_stats['year'] >= 2006) & (chunk_stats['year'] <= 2015)]\n",
    "\n",
    "#### Make distribution\n",
    "all_plotdata = plot_data(chunk_stats, 'ID_HDC_G0')\n",
    "Y95_plotdata = plot_data(Y95, 'ID_HDC_G0')\n",
    "Y05_plotdata = plot_data(Y05, 'ID_HDC_G0')\n",
    "Y15_plotdata = plot_data(Y15, 'ID_HDC_G0')"
   ]
  },
  {
   "cell_type": "code",
   "execution_count": null,
   "metadata": {
    "scrolled": false
   },
   "outputs": [],
   "source": [
    "bw = 'scott'\n",
    "kws1 = {'bw': bw, 'linewidth': 0, 'shade': True, 'alpha' : 0.05}\n",
    "kws2 = {'bw': bw, 'linewidth': 2, 'shade': False, 'alpha' : 0.5}\n",
    "\n",
    "#### Size\n",
    "fig = plt.gcf()\n",
    "fig.set_size_inches(8, 8)\n",
    "\n",
    "data = all_plotdata['coef_attrib']\n",
    "sns.distplot(data, hist=False, kde=True, color = 'black', kde_kws= kws1)\n",
    "sns.distplot(data, hist=False, kde=True, color = 'black', kde_kws= kws2, label = '1983 - 2016')\n",
    "\n",
    "data = Y15_plotdata['coef_attrib']\n",
    "sns.distplot(data, hist=False, kde=True, color = 'darkblue', kde_kws= kws1)\n",
    "sns.distplot(data, hist=False, kde=True, color = 'darkblue', kde_kws= kws2, label = '2006 - 2015')\n",
    "\n",
    "\n",
    "data = Y05_plotdata['coef_attrib']\n",
    "sns.distplot(data, hist=False, kde=True, color = 'red', kde_kws= kws1)\n",
    "sns.distplot(data, hist=False, kde=True, color = 'red', kde_kws= kws2, label = '1996 - 2005')\n",
    "\n",
    "data = Y95_plotdata['coef_attrib']\n",
    "sns.distplot(data, hist=False, kde=True, color = 'green', kde_kws= kws1)\n",
    "sns.distplot(data, hist=False, kde=True, color = 'green', kde_kws= kws2, label = '1986 - 1995')\n",
    "\n",
    "\n",
    "## Labels \n",
    "plt.xlabel('Coef of Attribtuion (Right is people, left heat)')\n",
    "plt.ylabel('Density')\n",
    "plt.title(loc+' Dist of PeopleDays Attribution Coef')\n",
    "\n",
    "## Legend\n",
    "#labels = ['1986 - 1995', '1996 - 2005', '2006 - 2015']\n",
    "plt.legend(loc=2, facecolor= 'white', edgecolor = 'white')"
   ]
  },
  {
   "cell_type": "markdown",
   "metadata": {},
   "source": [
    "### SS Africa"
   ]
  },
  {
   "cell_type": "code",
   "execution_count": null,
   "metadata": {},
   "outputs": [],
   "source": [
    "#### Chunk Data\n",
    "geog = 'sub-region'\n",
    "loc = 'Sub-Saharan Africa'\n",
    "chunk_stats = stats[stats[geog] == loc]\n",
    "\n",
    "Y95= chunk_stats[(chunk_stats['year'] >= 1986) & (chunk_stats['year'] <= 1995)]\n",
    "Y05 = chunk_stats[(chunk_stats['year'] >= 1996) & (chunk_stats['year'] <= 2005)]\n",
    "Y15 = chunk_stats[(chunk_stats['year'] >= 2006) & (chunk_stats['year'] <= 2015)]\n",
    "\n",
    "#### Make distribution\n",
    "Y95_plotdata = plot_data(Y95, 'ID_HDC_G0')\n",
    "Y05_plotdata = plot_data(Y05, 'ID_HDC_G0')\n",
    "Y15_plotdata = plot_data(Y15, 'ID_HDC_G0')"
   ]
  },
  {
   "cell_type": "code",
   "execution_count": null,
   "metadata": {},
   "outputs": [],
   "source": [
    "bw = 'scott'\n",
    "kws = {'bw': bw, 'linewidth': 1, 'alpha' : 0.5}\n",
    "\n",
    "#### Size\n",
    "fig = plt.gcf()\n",
    "fig.set_size_inches(8, 8)\n",
    "\n",
    "data = Y15_plotdata['coef_attrib']\n",
    "sns.distplot(data, hist=False, kde=True, color = 'darkblue', kde_kws= kws, label = '2006 - 2015')\n",
    "\n",
    "data = Y05_plotdata['coef_attrib']\n",
    "sns.distplot(data, hist=False, kde=True, color = 'red', kde_kws= kws, label = '1996 - 2005')\n",
    "\n",
    "data = Y95_plotdata['coef_attrib']\n",
    "sns.distplot(data, hist=False, kde=True, color = 'green', kde_kws= kws, label = '1986 - 1995')\n",
    "\n",
    "## Labels \n",
    "plt.xlabel('Coef of Attribtuion (Right is people, left heat)')\n",
    "plt.ylabel('Density')\n",
    "plt.title(loc+' Dist of PeopleDays Attribution Coef')\n",
    "\n",
    "## Legend\n",
    "#labels = ['1986 - 1995', '1996 - 2005', '2006 - 2015']\n",
    "plt.legend(loc=2, facecolor= 'white', edgecolor = 'white')"
   ]
  },
  {
   "cell_type": "markdown",
   "metadata": {},
   "source": [
    "## Plots of Different Regions"
   ]
  },
  {
   "cell_type": "code",
   "execution_count": null,
   "metadata": {},
   "outputs": [],
   "source": [
    "#### Chunk SSA\n",
    "geog = 'sub-region'\n",
    "loc = 'Sub-Saharan Africa'\n",
    "chunk_SSA = stats[stats[geog] == loc]\n",
    "plotdata_SSA = plot_data(chunk_SSA, 'ID_HDC_G0')\n",
    "\n",
    "#### Chunk SSA\n",
    "geog = 'region'\n",
    "loc = 'Europe'\n",
    "chunk_EU = stats[stats[geog] == loc]\n",
    "plotdata_EU = plot_data(chunk_EU, 'ID_HDC_G0')\n",
    "\n",
    "#### Chunk North America\n",
    "geog = 'sub-region'\n",
    "loc = 'Northern America'\n",
    "chunk_NA = stats[stats[geog] == loc]\n",
    "plotdata_NA = plot_data(chunk_NA, 'ID_HDC_G0')"
   ]
  },
  {
   "cell_type": "code",
   "execution_count": null,
   "metadata": {},
   "outputs": [],
   "source": [
    "bw = 'scott'\n",
    "kws1 = {'bw': bw, 'linewidth': 0, 'shade': True, 'alpha' : 0.05}\n",
    "kws2 = {'bw': bw, 'linewidth': 2, 'shade': False, 'alpha' : 0.5}\n",
    "\n",
    "#### Size\n",
    "fig = plt.gcf()\n",
    "fig.set_size_inches(8, 8)\n",
    "\n",
    "data = plotdata_SSA['coef_attrib']\n",
    "sns.distplot(data, hist=False, kde=True, color = 'darkblue', kde_kws= kws1)\n",
    "sns.distplot(data, hist=False, kde=True, color = 'darkblue', kde_kws= kws2, label = 'Sub-Saharan Africa')\n",
    "\n",
    "data = plotdata_EU['coef_attrib']\n",
    "sns.distplot(data, hist=False, kde=True, color = 'red', kde_kws= kws1)\n",
    "sns.distplot(data, hist=False, kde=True, color = 'red', kde_kws= kws2, label = 'Europe')\n",
    "\n",
    "data = plotdata_NA['coef_attrib']\n",
    "sns.distplot(data, hist=False, kde=True, color = 'green', kde_kws= kws1)\n",
    "sns.distplot(data, hist=False, kde=True, color = 'green', kde_kws= kws2, label = 'Northern America')\n",
    "\n",
    "\n",
    "## Labels \n",
    "plt.xlabel('Coef of Attribtuion (Right is people, left heat) 1983 - 2016')\n",
    "plt.ylabel('Density')\n",
    "plt.title(loc+' Dist of PeopleDays Attribution Coef')\n",
    "\n",
    "## Legend\n",
    "#labels = ['1986 - 1995', '1996 - 2005', '2006 - 2015']\n",
    "plt.legend(loc=2, facecolor= 'white', edgecolor = 'white')"
   ]
  },
  {
   "cell_type": "code",
   "execution_count": null,
   "metadata": {},
   "outputs": [],
   "source": [
    "#### Size\n",
    "fig = plt.gcf()\n",
    "fig.set_size_inches(8, 8)\n",
    "\n",
    "data = plotdata_SSA['coef_attrib']\n",
    "plt.hist(data, color = 'r', alpha = 0.5)\n",
    "\n",
    "data = plotdata_EU['coef_attrib']\n",
    "plt.hist(data, color = 'b', alpha = 0.5)\n",
    "\n",
    "data = plotdata_NA['coef_attrib']\n",
    "plt.hist(data, color = 'g', alpha = 0.5)\n"
   ]
  },
  {
   "cell_type": "code",
   "execution_count": null,
   "metadata": {},
   "outputs": [],
   "source": [
    "#### Chunk SSA\n",
    "geog = 'CTR_MN_NM'\n",
    "loc1 = 'Saudi Arabia'\n",
    "chunk_1 = stats[stats[geog] == loc1]\n",
    "plotdata_1 = plot_data(chunk_1, 'ID_HDC_G0')\n",
    "\n",
    "#### Chunk SSA\n",
    "geog = 'CTR_MN_NM'\n",
    "loc2 = 'Mexico'\n",
    "chunk_2 = stats[stats[geog] == loc2]\n",
    "plotdata_2 = plot_data(chunk_2, 'ID_HDC_G0')\n",
    "\n",
    "#### Chunk North America\n",
    "geog = 'CTR_MN_NM'\n",
    "loc3 = 'China'\n",
    "chunk_3 = stats[stats[geog] == loc3]\n",
    "plotdata_3 = plot_data(chunk_3, 'ID_HDC_G0')"
   ]
  },
  {
   "cell_type": "code",
   "execution_count": null,
   "metadata": {
    "scrolled": true
   },
   "outputs": [],
   "source": [
    "bw = 'scott'\n",
    "kws1 = {'bw': bw, 'linewidth': 0, 'shade': True, 'alpha' : 0.05}\n",
    "kws2 = {'bw': bw, 'linewidth': 2, 'shade': False, 'alpha' : 0.5}\n",
    "\n",
    "#### Size\n",
    "fig = plt.gcf()\n",
    "fig.set_size_inches(8, 8)\n",
    "\n",
    "data = plotdata_1['coef_attrib']\n",
    "sns.distplot(data, hist=False, kde=True, color = 'darkblue', kde_kws= kws1)\n",
    "sns.distplot(data, hist=False, kde=True, color = 'darkblue', kde_kws= kws2, label = loc1)\n",
    "\n",
    "data = plotdata_2['coef_attrib']\n",
    "sns.distplot(data, hist=False, kde=True, color = 'red', kde_kws= kws1)\n",
    "sns.distplot(data, hist=False, kde=True, color = 'red', kde_kws= kws2, label = loc2)\n",
    "\n",
    "data = plotdata_3['coef_attrib']\n",
    "sns.distplot(data, hist=False, kde=True, color = 'green', kde_kws= kws1)\n",
    "sns.distplot(data, hist=False, kde=True, color = 'green', kde_kws= kws2, label = loc3)\n",
    "\n",
    "\n",
    "## Labels \n",
    "plt.xlabel('Coef of Attribtuion (Right is people, left heat) 1983 - 2016')\n",
    "plt.ylabel('Density')\n",
    "plt.title(loc+' Dist of PeopleDays Attribution Coef')\n",
    "\n",
    "## Legend\n",
    "#labels = ['1986 - 1995', '1996 - 2005', '2006 - 2015']\n",
    "plt.legend(loc=2, facecolor= 'white', edgecolor = 'white')"
   ]
  },
  {
   "cell_type": "markdown",
   "metadata": {},
   "source": [
    "# Beta Fits"
   ]
  },
  {
   "cell_type": "code",
   "execution_count": null,
   "metadata": {},
   "outputs": [],
   "source": [
    "# https://stackoverflow.com/questions/23329331/how-to-properly-fit-a-beta-distribution-in-python\n",
    "# https://stats.stackexchange.com/questions/414277/fitting-beta-distributions-to-data\n",
    "\n",
    "#### Chunk SSA\n",
    "geog = 'sub-region'\n",
    "loc = 'Sub-Saharan Africa'\n",
    "chunk = stats[stats[geog] == loc]\n",
    "plotdata = plot_data(chunk, 'ID_HDC_G0')\n",
    "\n",
    "#### Get data to plot\n",
    "data = plotdata['coef_attrib_norm'] \n"
   ]
  },
  {
   "cell_type": "code",
   "execution_count": null,
   "metadata": {},
   "outputs": [],
   "source": [
    "#### Fit Data\n",
    "alpha3,beta3,xx,yy=beta.fit(data, loc = 0, scale = 1)\n",
    "\n",
    "#### Plot Data\n",
    "# plt.hist(data,bins=50,normed=True)\n",
    "# fitted=lambda x,a,b:gammaf(a+b)/gammaf(a)/gammaf(b)*x**(a-1)*(1-x)**(b-1) #pdf of beta\n",
    "\n",
    "# xx=numpy.linspace(0,max(data),len(data))\n",
    "\n",
    "# plt.plot(xx,fitted(xx,alpha3,beta3),'r')\n",
    "# plt.xlim([0,1])\n",
    "# plt.ylim([0,10])\n",
    "\n",
    "# plt.title('Beta Fit for '+loc)\n",
    "# plt.show()"
   ]
  },
  {
   "cell_type": "code",
   "execution_count": null,
   "metadata": {},
   "outputs": [],
   "source": [
    "#### Plot Data\n",
    "plt.hist(data,bins=50,normed=True)\n",
    "fitted=lambda x,a,b:gammaf(a+b)/gammaf(a)/gammaf(b)*x**(a-1)*(1-x)**(b-1) #pdf of beta\n",
    "\n",
    "xx=numpy.linspace(0,max(data),len(data))\n",
    "xx = xx[1:] # drop zero\n",
    "\n",
    "plt.plot(xx,fitted(xx,alpha3,beta3),'r')\n",
    "plt.xlim([0,1])\n",
    "plt.ylim([0,10])\n",
    "\n",
    "plt.title('Beta Fit for '+loc)\n",
    "plt.show()"
   ]
  },
  {
   "cell_type": "code",
   "execution_count": null,
   "metadata": {},
   "outputs": [],
   "source": [
    "plt.hist(data, weights=np.ones_like(data)/np.sum(data))"
   ]
  },
  {
   "cell_type": "code",
   "execution_count": null,
   "metadata": {},
   "outputs": [],
   "source": [
    "plt.hist(data, weights=np.ones_like(data)/np.sum(data))\n",
    "weights = np.ones_like(data)/np.sum(data)\n",
    "weights = weights[1:]\n",
    "yy = fitted(xx,alpha3,beta3) * 0.00131631\n",
    "plt.plot(xx,yy,'r')"
   ]
  },
  {
   "cell_type": "code",
   "execution_count": null,
   "metadata": {},
   "outputs": [],
   "source": [
    "plt.hist(data)"
   ]
  },
  {
   "cell_type": "code",
   "execution_count": null,
   "metadata": {},
   "outputs": [],
   "source": [
    "xx=numpy.linspace(0,max(data),len(data))\n",
    "xx"
   ]
  },
  {
   "cell_type": "code",
   "execution_count": null,
   "metadata": {},
   "outputs": [],
   "source": [
    "#### Plot Data\n",
    "weights = np.ones_like(data)/np.sum(data)\n",
    "plt.hist(data, weights=weights)\n",
    "fitted=lambda x,a,b:gammaf(a+b)/gammaf(a)/gammaf(b)*x**(a-1)*(1-x)**(b-1) #pdf of beta\n",
    "\n",
    "xx=numpy.linspace(0,max(data),len(data))\n",
    "xx = xx[1:] #* weights[1:] # drop zero \n",
    "\n",
    "plt.plot(xx,fitted(xx,alpha3,beta3),'r')\n",
    "plt.xlim([0,1])\n",
    "plt.ylim([0,5])\n",
    "\n",
    "plt.title('Beta Fit for '+loc)\n",
    "plt.show()"
   ]
  },
  {
   "cell_type": "code",
   "execution_count": null,
   "metadata": {},
   "outputs": [],
   "source": [
    "# Get Data\n",
    "df_geog = stats[stats['sub-region'] == 'Sub-Saharan Africa']\n",
    "X_year = np.array(df_geog.groupby('year')['ID_HDC_G0'].mean().index).reshape((-1, 1))\n",
    "Y_stats = np.array(df_geog.groupby('year')['people_days'].sum()).reshape((-1, 1))\n",
    "\n",
    "# Add Intercept\n",
    "X_year_2 = sm.add_constant(X_year)\n",
    "\n",
    "# Regress\n",
    "model = sm.OLS(Y_stats, X_year_2).fit() \n",
    "        "
   ]
  },
  {
   "cell_type": "code",
   "execution_count": null,
   "metadata": {},
   "outputs": [],
   "source": [
    "model.conf_int(alpha=0.025)"
   ]
  },
  {
   "cell_type": "code",
   "execution_count": null,
   "metadata": {},
   "outputs": [],
   "source": [
    "model.summary()"
   ]
  }
 ],
 "metadata": {
  "kernelspec": {
   "display_name": "geo",
   "language": "python",
   "name": "geo"
  },
  "language_info": {
   "codemirror_mode": {
    "name": "ipython",
    "version": 3
   },
   "file_extension": ".py",
   "mimetype": "text/x-python",
   "name": "python",
   "nbconvert_exporter": "python",
   "pygments_lexer": "ipython3",
   "version": "3.6.7"
  }
 },
 "nbformat": 4,
 "nbformat_minor": 2
}
