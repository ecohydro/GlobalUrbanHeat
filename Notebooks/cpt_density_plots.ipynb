{
 "cells": [
  {
   "cell_type": "markdown",
   "metadata": {},
   "source": [
    "# Density Plots\n",
    "\n",
    "Notebook to make probability density plots of tmax events\n",
    "\n",
    "Cascade Tuholske 2019-10-04"
   ]
  },
  {
   "cell_type": "code",
   "execution_count": 1,
   "metadata": {},
   "outputs": [],
   "source": [
    "# Dependencies\n",
    "\n",
    "import pandas as pd\n",
    "import geopandas as gpd\n",
    "import numpy as np\n",
    "import seaborn as sns\n",
    "import matplotlib.pyplot as plt\n",
    "from mpl_toolkits import mplot3d\n",
    "import matplotlib as mpl\n",
    "import glob"
   ]
  },
  {
   "cell_type": "code",
   "execution_count": 2,
   "metadata": {},
   "outputs": [],
   "source": [
    "# Open Files and Isolate India for Density\n",
    "\n",
    "def event_stack_loop(dir_in):\n",
    "    \n",
    "    \"\"\" Loop through a dir with csvs of tmax events for each year and\n",
    "    stack them into one data frame. Current file name is CHIRTS-GHS-Events-StatsXXXX.csv\n",
    "    \n",
    "    Args:\n",
    "        dir_in = dir path to loop through\n",
    "\n",
    "    \"\"\"\n",
    "        \n",
    "    # Get File list\n",
    "    fn_list = glob.glob(dir_in+'*.csv')\n",
    "    \n",
    "    # Data frame to fill\n",
    "    df_out = pd.DataFrame()\n",
    "    \n",
    "    for fn in sorted(fn_list):\n",
    "    \n",
    "        # Likely need to change year to int ... df['purchase'].astype(str).astype(int) <<<<---- FIX \n",
    "        year = fn.split('CHIRTS-GHS-Events-Stats')[2].split('.csv')[0] # for some reason it's 2...?\n",
    "        print(year)\n",
    "        \n",
    "        # open csv \n",
    "        stats = pd.read_csv(fn)\n",
    "        \n",
    "        stats['year'] = year\n",
    "        \n",
    "        print(len(df_out))\n",
    "        \n",
    "        df_out = df_out.append(stats)\n",
    "    \n",
    "    return df_out\n"
   ]
  },
  {
   "cell_type": "code",
   "execution_count": 3,
   "metadata": {},
   "outputs": [],
   "source": [
    "# File Paths\n",
    "\n",
    "DATA_IN = '/home/cascade/projects/data_out_urbanheat/CHIRTS-GHS-Events-Stats/'"
   ]
  },
  {
   "cell_type": "code",
   "execution_count": 4,
   "metadata": {
    "scrolled": false
   },
   "outputs": [
    {
     "name": "stdout",
     "output_type": "stream",
     "text": [
      "1983\n",
      "0\n",
      "1984\n",
      "22697\n",
      "1985\n",
      "45973\n",
      "1986\n",
      "68052\n",
      "1987\n",
      "90782\n",
      "1988\n",
      "118152\n",
      "1989\n",
      "141253\n",
      "1990\n",
      "165683\n",
      "1991\n",
      "188246\n",
      "1992\n",
      "210758\n",
      "1993\n",
      "233690\n",
      "1994\n",
      "256043\n",
      "1995\n",
      "277151\n",
      "1996\n",
      "302703\n",
      "1997\n",
      "327548\n",
      "1998\n",
      "349972\n",
      "1999\n",
      "377141\n",
      "2000\n",
      "405013\n",
      "2001\n",
      "429536\n",
      "2002\n",
      "451902\n",
      "2003\n",
      "479397\n",
      "2004\n",
      "505665\n",
      "2005\n",
      "532560\n",
      "2006\n",
      "561806\n",
      "2007\n",
      "587661\n",
      "2008\n",
      "612509\n",
      "2009\n",
      "638375\n",
      "2010\n",
      "671454\n",
      "2011\n",
      "707812\n",
      "2012\n",
      "733383\n",
      "2013\n",
      "763002\n",
      "2014\n",
      "789451\n",
      "2015\n",
      "819600\n",
      "2016\n",
      "849829\n"
     ]
    }
   ],
   "source": [
    "# Run script\n",
    "event_stack = event_stack_loop(DATA_IN)"
   ]
  },
  {
   "cell_type": "markdown",
   "metadata": {},
   "source": [
    "### Save out"
   ]
  },
  {
   "cell_type": "code",
   "execution_count": 42,
   "metadata": {
    "scrolled": true
   },
   "outputs": [
    {
     "data": {
      "text/html": [
       "<div>\n",
       "<style scoped>\n",
       "    .dataframe tbody tr th:only-of-type {\n",
       "        vertical-align: middle;\n",
       "    }\n",
       "\n",
       "    .dataframe tbody tr th {\n",
       "        vertical-align: top;\n",
       "    }\n",
       "\n",
       "    .dataframe thead th {\n",
       "        text-align: right;\n",
       "    }\n",
       "</style>\n",
       "<table border=\"1\" class=\"dataframe\">\n",
       "  <thead>\n",
       "    <tr style=\"text-align: right;\">\n",
       "      <th></th>\n",
       "      <th>Event_ID</th>\n",
       "      <th>ID_HDC_G0</th>\n",
       "      <th>CTR_MN_NM</th>\n",
       "      <th>total_days</th>\n",
       "      <th>duration</th>\n",
       "      <th>avg_temp</th>\n",
       "      <th>avg_intensity</th>\n",
       "      <th>tot_intensity</th>\n",
       "      <th>event_dates</th>\n",
       "      <th>intensity</th>\n",
       "      <th>tmax</th>\n",
       "      <th>year</th>\n",
       "    </tr>\n",
       "  </thead>\n",
       "  <tbody>\n",
       "    <tr>\n",
       "      <td>0</td>\n",
       "      <td>0</td>\n",
       "      <td>2784</td>\n",
       "      <td>Germany</td>\n",
       "      <td>1</td>\n",
       "      <td>1</td>\n",
       "      <td>44.459750</td>\n",
       "      <td>3.859750</td>\n",
       "      <td>3.859750</td>\n",
       "      <td>['1983.07.27']</td>\n",
       "      <td>[3.85975]</td>\n",
       "      <td>[44.45975]</td>\n",
       "      <td>1983</td>\n",
       "    </tr>\n",
       "    <tr>\n",
       "      <td>1</td>\n",
       "      <td>1</td>\n",
       "      <td>2372</td>\n",
       "      <td>France</td>\n",
       "      <td>1</td>\n",
       "      <td>1</td>\n",
       "      <td>43.331635</td>\n",
       "      <td>2.731635</td>\n",
       "      <td>2.731635</td>\n",
       "      <td>['1983.07.31']</td>\n",
       "      <td>[2.731635]</td>\n",
       "      <td>[43.331635]</td>\n",
       "      <td>1983</td>\n",
       "    </tr>\n",
       "    <tr>\n",
       "      <td>2</td>\n",
       "      <td>2</td>\n",
       "      <td>6156</td>\n",
       "      <td>Kazakhstan</td>\n",
       "      <td>1</td>\n",
       "      <td>1</td>\n",
       "      <td>41.336376</td>\n",
       "      <td>0.736376</td>\n",
       "      <td>0.736376</td>\n",
       "      <td>['1983.07.31']</td>\n",
       "      <td>[0.736376]</td>\n",
       "      <td>[41.336376]</td>\n",
       "      <td>1983</td>\n",
       "    </tr>\n",
       "    <tr>\n",
       "      <td>3</td>\n",
       "      <td>3</td>\n",
       "      <td>2833</td>\n",
       "      <td>Germany</td>\n",
       "      <td>1</td>\n",
       "      <td>1</td>\n",
       "      <td>47.493180</td>\n",
       "      <td>6.893180</td>\n",
       "      <td>6.893180</td>\n",
       "      <td>['1983.07.27']</td>\n",
       "      <td>[6.89318]</td>\n",
       "      <td>[47.49318]</td>\n",
       "      <td>1983</td>\n",
       "    </tr>\n",
       "    <tr>\n",
       "      <td>4</td>\n",
       "      <td>4</td>\n",
       "      <td>2885</td>\n",
       "      <td>Austria</td>\n",
       "      <td>1</td>\n",
       "      <td>1</td>\n",
       "      <td>44.013890</td>\n",
       "      <td>3.413890</td>\n",
       "      <td>3.413890</td>\n",
       "      <td>['1983.07.27']</td>\n",
       "      <td>[3.41389]</td>\n",
       "      <td>[44.01389]</td>\n",
       "      <td>1983</td>\n",
       "    </tr>\n",
       "  </tbody>\n",
       "</table>\n",
       "</div>"
      ],
      "text/plain": [
       "   Event_ID  ID_HDC_G0   CTR_MN_NM  total_days  duration   avg_temp  \\\n",
       "0         0       2784     Germany           1         1  44.459750   \n",
       "1         1       2372      France           1         1  43.331635   \n",
       "2         2       6156  Kazakhstan           1         1  41.336376   \n",
       "3         3       2833     Germany           1         1  47.493180   \n",
       "4         4       2885     Austria           1         1  44.013890   \n",
       "\n",
       "   avg_intensity  tot_intensity     event_dates   intensity         tmax  year  \n",
       "0       3.859750       3.859750  ['1983.07.27']   [3.85975]   [44.45975]  1983  \n",
       "1       2.731635       2.731635  ['1983.07.31']  [2.731635]  [43.331635]  1983  \n",
       "2       0.736376       0.736376  ['1983.07.31']  [0.736376]  [41.336376]  1983  \n",
       "3       6.893180       6.893180  ['1983.07.27']   [6.89318]   [47.49318]  1983  \n",
       "4       3.413890       3.413890  ['1983.07.27']   [3.41389]   [44.01389]  1983  "
      ]
     },
     "execution_count": 42,
     "metadata": {},
     "output_type": "execute_result"
    }
   ],
   "source": [
    "event_stack.head()"
   ]
  },
  {
   "cell_type": "code",
   "execution_count": 36,
   "metadata": {},
   "outputs": [
    {
     "data": {
      "text/plain": [
       "883026"
      ]
     },
     "execution_count": 36,
     "metadata": {},
     "output_type": "execute_result"
    }
   ],
   "source": [
    "len(event_stack)"
   ]
  },
  {
   "cell_type": "code",
   "execution_count": 47,
   "metadata": {},
   "outputs": [],
   "source": [
    "# Add 'Event_ID'\n",
    "event_stack = event_stack.rename(columns = {'Unnamed: 0' : 'Event_ID'})\n",
    "\n",
    "event_ids = range(1, len(event_stack)+1)\n",
    "len(event_ids)\n",
    "\n",
    "event_stack['Event_ID'] = event_ids"
   ]
  },
  {
   "cell_type": "code",
   "execution_count": 53,
   "metadata": {},
   "outputs": [],
   "source": [
    "#event_stack.to_csv('/home/cascade/projects/data_out_urbanheat/All_data20191019.csv')"
   ]
  },
  {
   "cell_type": "code",
   "execution_count": 61,
   "metadata": {},
   "outputs": [],
   "source": [
    "event_stack = event_stack[event_stack['ID_HDC_G0'] == 5534]"
   ]
  },
  {
   "cell_type": "code",
   "execution_count": 62,
   "metadata": {},
   "outputs": [
    {
     "data": {
      "text/html": [
       "<div>\n",
       "<style scoped>\n",
       "    .dataframe tbody tr th:only-of-type {\n",
       "        vertical-align: middle;\n",
       "    }\n",
       "\n",
       "    .dataframe tbody tr th {\n",
       "        vertical-align: top;\n",
       "    }\n",
       "\n",
       "    .dataframe thead th {\n",
       "        text-align: right;\n",
       "    }\n",
       "</style>\n",
       "<table border=\"1\" class=\"dataframe\">\n",
       "  <thead>\n",
       "    <tr style=\"text-align: right;\">\n",
       "      <th></th>\n",
       "      <th>Event_ID</th>\n",
       "      <th>ID_HDC_G0</th>\n",
       "      <th>CTR_MN_NM</th>\n",
       "      <th>total_days</th>\n",
       "      <th>duration</th>\n",
       "      <th>avg_temp</th>\n",
       "      <th>avg_intensity</th>\n",
       "      <th>tot_intensity</th>\n",
       "      <th>event_dates</th>\n",
       "      <th>intensity</th>\n",
       "      <th>tmax</th>\n",
       "      <th>year</th>\n",
       "    </tr>\n",
       "  </thead>\n",
       "  <tbody>\n",
       "    <tr>\n",
       "      <td>22525</td>\n",
       "      <td>22526</td>\n",
       "      <td>5534</td>\n",
       "      <td>Ethiopia</td>\n",
       "      <td>84</td>\n",
       "      <td>1</td>\n",
       "      <td>40.736885</td>\n",
       "      <td>0.136885</td>\n",
       "      <td>0.136885</td>\n",
       "      <td>['1983.01.05']</td>\n",
       "      <td>[0.136885]</td>\n",
       "      <td>[40.736885]</td>\n",
       "      <td>1983</td>\n",
       "    </tr>\n",
       "    <tr>\n",
       "      <td>22526</td>\n",
       "      <td>22527</td>\n",
       "      <td>5534</td>\n",
       "      <td>Ethiopia</td>\n",
       "      <td>84</td>\n",
       "      <td>13</td>\n",
       "      <td>41.737855</td>\n",
       "      <td>1.137855</td>\n",
       "      <td>14.792109</td>\n",
       "      <td>['1983.01.19' '1983.01.20' '1983.01.21' '1983....</td>\n",
       "      <td>[0.846815 2.002577 1.19209  0.916884 0.81514  ...</td>\n",
       "      <td>[41.446815 42.602577 41.79209  41.516884 41.41...</td>\n",
       "      <td>1983</td>\n",
       "    </tr>\n",
       "    <tr>\n",
       "      <td>22527</td>\n",
       "      <td>22528</td>\n",
       "      <td>5534</td>\n",
       "      <td>Ethiopia</td>\n",
       "      <td>84</td>\n",
       "      <td>9</td>\n",
       "      <td>41.062670</td>\n",
       "      <td>0.462670</td>\n",
       "      <td>4.164027</td>\n",
       "      <td>['1983.02.05' '1983.02.06' '1983.02.07' '1983....</td>\n",
       "      <td>[0.137976 0.035193 0.511267 0.594824 1.123145 ...</td>\n",
       "      <td>[40.737976 40.635193 41.111267 41.194824 41.72...</td>\n",
       "      <td>1983</td>\n",
       "    </tr>\n",
       "    <tr>\n",
       "      <td>22528</td>\n",
       "      <td>22529</td>\n",
       "      <td>5534</td>\n",
       "      <td>Ethiopia</td>\n",
       "      <td>84</td>\n",
       "      <td>8</td>\n",
       "      <td>41.553627</td>\n",
       "      <td>0.953627</td>\n",
       "      <td>7.629014</td>\n",
       "      <td>['1983.02.16' '1983.02.17' '1983.02.18' '1983....</td>\n",
       "      <td>[0.600165 1.43894  1.109015 1.421606 1.34052  ...</td>\n",
       "      <td>[41.200165 42.03894  41.709015 42.021606 41.94...</td>\n",
       "      <td>1983</td>\n",
       "    </tr>\n",
       "    <tr>\n",
       "      <td>22529</td>\n",
       "      <td>22530</td>\n",
       "      <td>5534</td>\n",
       "      <td>Ethiopia</td>\n",
       "      <td>84</td>\n",
       "      <td>43</td>\n",
       "      <td>42.115429</td>\n",
       "      <td>1.515429</td>\n",
       "      <td>65.163434</td>\n",
       "      <td>['1983.02.26' '1983.02.27' '1983.02.28' '1983....</td>\n",
       "      <td>[0.33683  1.354803 1.337897 1.908553 0.734724 ...</td>\n",
       "      <td>[40.93683  41.954803 41.937897 42.508553 41.33...</td>\n",
       "      <td>1983</td>\n",
       "    </tr>\n",
       "    <tr>\n",
       "      <td>...</td>\n",
       "      <td>...</td>\n",
       "      <td>...</td>\n",
       "      <td>...</td>\n",
       "      <td>...</td>\n",
       "      <td>...</td>\n",
       "      <td>...</td>\n",
       "      <td>...</td>\n",
       "      <td>...</td>\n",
       "      <td>...</td>\n",
       "      <td>...</td>\n",
       "      <td>...</td>\n",
       "      <td>...</td>\n",
       "    </tr>\n",
       "    <tr>\n",
       "      <td>32760</td>\n",
       "      <td>882590</td>\n",
       "      <td>5534</td>\n",
       "      <td>Ethiopia</td>\n",
       "      <td>141</td>\n",
       "      <td>1</td>\n",
       "      <td>42.062527</td>\n",
       "      <td>1.462527</td>\n",
       "      <td>1.462527</td>\n",
       "      <td>['2016.10.29']</td>\n",
       "      <td>[1.462527]</td>\n",
       "      <td>[42.062527]</td>\n",
       "      <td>2016</td>\n",
       "    </tr>\n",
       "    <tr>\n",
       "      <td>32761</td>\n",
       "      <td>882591</td>\n",
       "      <td>5534</td>\n",
       "      <td>Ethiopia</td>\n",
       "      <td>141</td>\n",
       "      <td>1</td>\n",
       "      <td>41.200800</td>\n",
       "      <td>0.600800</td>\n",
       "      <td>0.600800</td>\n",
       "      <td>['2016.10.31']</td>\n",
       "      <td>[0.6008]</td>\n",
       "      <td>[41.2008]</td>\n",
       "      <td>2016</td>\n",
       "    </tr>\n",
       "    <tr>\n",
       "      <td>32762</td>\n",
       "      <td>882592</td>\n",
       "      <td>5534</td>\n",
       "      <td>Ethiopia</td>\n",
       "      <td>141</td>\n",
       "      <td>2</td>\n",
       "      <td>40.961380</td>\n",
       "      <td>0.361380</td>\n",
       "      <td>0.722760</td>\n",
       "      <td>['2016.12.15' '2016.12.16']</td>\n",
       "      <td>[0.27712 0.44564]</td>\n",
       "      <td>[40.87712 41.04564]</td>\n",
       "      <td>2016</td>\n",
       "    </tr>\n",
       "    <tr>\n",
       "      <td>32763</td>\n",
       "      <td>882593</td>\n",
       "      <td>5534</td>\n",
       "      <td>Ethiopia</td>\n",
       "      <td>141</td>\n",
       "      <td>4</td>\n",
       "      <td>41.267685</td>\n",
       "      <td>0.667685</td>\n",
       "      <td>2.670741</td>\n",
       "      <td>['2016.12.22' '2016.12.23' '2016.12.24' '2016....</td>\n",
       "      <td>[0.72872  0.582724 0.4916   0.867697]</td>\n",
       "      <td>[41.32872  41.182724 41.0916   41.467697]</td>\n",
       "      <td>2016</td>\n",
       "    </tr>\n",
       "    <tr>\n",
       "      <td>32764</td>\n",
       "      <td>882594</td>\n",
       "      <td>5534</td>\n",
       "      <td>Ethiopia</td>\n",
       "      <td>141</td>\n",
       "      <td>5</td>\n",
       "      <td>41.373770</td>\n",
       "      <td>0.773770</td>\n",
       "      <td>3.868849</td>\n",
       "      <td>['2016.12.27' '2016.12.28' '2016.12.29' '2016....</td>\n",
       "      <td>[0.37856  1.09142  1.113852 1.009787 0.27523 ]</td>\n",
       "      <td>[40.97856  41.69142  41.713852 41.609787 40.87...</td>\n",
       "      <td>2016</td>\n",
       "    </tr>\n",
       "  </tbody>\n",
       "</table>\n",
       "<p>517 rows × 12 columns</p>\n",
       "</div>"
      ],
      "text/plain": [
       "       Event_ID  ID_HDC_G0 CTR_MN_NM  total_days  duration   avg_temp  \\\n",
       "22525     22526       5534  Ethiopia          84         1  40.736885   \n",
       "22526     22527       5534  Ethiopia          84        13  41.737855   \n",
       "22527     22528       5534  Ethiopia          84         9  41.062670   \n",
       "22528     22529       5534  Ethiopia          84         8  41.553627   \n",
       "22529     22530       5534  Ethiopia          84        43  42.115429   \n",
       "...         ...        ...       ...         ...       ...        ...   \n",
       "32760    882590       5534  Ethiopia         141         1  42.062527   \n",
       "32761    882591       5534  Ethiopia         141         1  41.200800   \n",
       "32762    882592       5534  Ethiopia         141         2  40.961380   \n",
       "32763    882593       5534  Ethiopia         141         4  41.267685   \n",
       "32764    882594       5534  Ethiopia         141         5  41.373770   \n",
       "\n",
       "       avg_intensity  tot_intensity  \\\n",
       "22525       0.136885       0.136885   \n",
       "22526       1.137855      14.792109   \n",
       "22527       0.462670       4.164027   \n",
       "22528       0.953627       7.629014   \n",
       "22529       1.515429      65.163434   \n",
       "...              ...            ...   \n",
       "32760       1.462527       1.462527   \n",
       "32761       0.600800       0.600800   \n",
       "32762       0.361380       0.722760   \n",
       "32763       0.667685       2.670741   \n",
       "32764       0.773770       3.868849   \n",
       "\n",
       "                                             event_dates  \\\n",
       "22525                                     ['1983.01.05']   \n",
       "22526  ['1983.01.19' '1983.01.20' '1983.01.21' '1983....   \n",
       "22527  ['1983.02.05' '1983.02.06' '1983.02.07' '1983....   \n",
       "22528  ['1983.02.16' '1983.02.17' '1983.02.18' '1983....   \n",
       "22529  ['1983.02.26' '1983.02.27' '1983.02.28' '1983....   \n",
       "...                                                  ...   \n",
       "32760                                     ['2016.10.29']   \n",
       "32761                                     ['2016.10.31']   \n",
       "32762                        ['2016.12.15' '2016.12.16']   \n",
       "32763  ['2016.12.22' '2016.12.23' '2016.12.24' '2016....   \n",
       "32764  ['2016.12.27' '2016.12.28' '2016.12.29' '2016....   \n",
       "\n",
       "                                               intensity  \\\n",
       "22525                                         [0.136885]   \n",
       "22526  [0.846815 2.002577 1.19209  0.916884 0.81514  ...   \n",
       "22527  [0.137976 0.035193 0.511267 0.594824 1.123145 ...   \n",
       "22528  [0.600165 1.43894  1.109015 1.421606 1.34052  ...   \n",
       "22529  [0.33683  1.354803 1.337897 1.908553 0.734724 ...   \n",
       "...                                                  ...   \n",
       "32760                                         [1.462527]   \n",
       "32761                                           [0.6008]   \n",
       "32762                                  [0.27712 0.44564]   \n",
       "32763              [0.72872  0.582724 0.4916   0.867697]   \n",
       "32764     [0.37856  1.09142  1.113852 1.009787 0.27523 ]   \n",
       "\n",
       "                                                    tmax  year  \n",
       "22525                                        [40.736885]  1983  \n",
       "22526  [41.446815 42.602577 41.79209  41.516884 41.41...  1983  \n",
       "22527  [40.737976 40.635193 41.111267 41.194824 41.72...  1983  \n",
       "22528  [41.200165 42.03894  41.709015 42.021606 41.94...  1983  \n",
       "22529  [40.93683  41.954803 41.937897 42.508553 41.33...  1983  \n",
       "...                                                  ...   ...  \n",
       "32760                                        [42.062527]  2016  \n",
       "32761                                          [41.2008]  2016  \n",
       "32762                                [40.87712 41.04564]  2016  \n",
       "32763          [41.32872  41.182724 41.0916   41.467697]  2016  \n",
       "32764  [40.97856  41.69142  41.713852 41.609787 40.87...  2016  \n",
       "\n",
       "[517 rows x 12 columns]"
      ]
     },
     "execution_count": 62,
     "metadata": {},
     "output_type": "execute_result"
    }
   ],
   "source": [
    "event_stack"
   ]
  },
  {
   "cell_type": "markdown",
   "metadata": {},
   "source": [
    "### Subsets and plots"
   ]
  },
  {
   "cell_type": "code",
   "execution_count": 6,
   "metadata": {},
   "outputs": [],
   "source": [
    "# Change data type\n",
    "\n",
    "event_stack['year'] = event_stack['year'].astype(str).astype(int)"
   ]
  },
  {
   "cell_type": "code",
   "execution_count": 7,
   "metadata": {},
   "outputs": [],
   "source": [
    "# Function Select years and country\n",
    "\n",
    "def event_subset(df, country, start, end):\n",
    "    \"\"\" ADD THIS\"\"\"\n",
    "    \n",
    "    country_df = event_stack[event_stack['CTR_MN_NM'] == country].copy()\n",
    "    range_df = country_df[(country_df['year'] >= start) & (country_df['year'] <= end)]\n",
    "    \n",
    "    return range_df\n"
   ]
  },
  {
   "cell_type": "code",
   "execution_count": 30,
   "metadata": {},
   "outputs": [],
   "source": [
    "# Select years and country\n",
    "\n",
    "country = 'India'\n",
    "\n",
    "stat86_95 = event_subset(event_stack, country, start = 1986, end = 1995)\n",
    "stat96_05 = event_subset(event_stack, country, start = 1996, end = 2005)\n",
    "stat06_15 = event_subset(event_stack, country, start = 2006, end = 2015)"
   ]
  },
  {
   "cell_type": "code",
   "execution_count": 9,
   "metadata": {},
   "outputs": [],
   "source": [
    "# Void this later\n",
    "\n",
    "# country = 'Globally'\n",
    "\n",
    "# stat86_95  = event_stack[(event_stack['year'] >= 1986) & (event_stack['year'] <= 1995)]\n",
    "# stat96_05  = event_stack[(event_stack['year'] >= 1996) & (event_stack['year'] <= 2005)]\n",
    "# stat06_15  = event_stack[(event_stack['year'] >= 2006) & (event_stack['year'] <= 2015)]\n"
   ]
  },
  {
   "cell_type": "markdown",
   "metadata": {},
   "source": [
    "### Culm Dist Plots"
   ]
  },
  {
   "cell_type": "code",
   "execution_count": 55,
   "metadata": {},
   "outputs": [],
   "source": [
    "# Culm dist ordering\n",
    "# prob event duration is larger than each duration in rank order \n",
    "\n",
    "def p_X_gt_x(data, X=None):\n",
    "    \n",
    "    \"\"\"Makes probabiliy distribution of data, data must be sorted first\"\"\"\n",
    "    n_data = len(data)\n",
    "    if X is None:\n",
    "        X = data.unique()\n",
    "    return X, pd.Series([sum(data>=x)/n_data for x in X ])"
   ]
  },
  {
   "cell_type": "code",
   "execution_count": 60,
   "metadata": {},
   "outputs": [],
   "source": [
    "# sort values & make dist\n",
    "\n",
    "stat = 'avg_temp' #<<---- note working for avg temp ... ? 2019.10.19\n",
    "\n",
    "data8695 = stat86_95[stat].sort_values()\n",
    "X8695, Y8605 = p_X_gt_x(data8695)\n",
    "\n",
    "data9605 = stat96_05[stat].sort_values()\n",
    "X9605, Y9605 = p_X_gt_x(data9605)\n",
    "\n",
    "data0615 = stat06_15[stat].sort_values()\n",
    "X0615, Y0615 = p_X_gt_x(data0615)"
   ]
  },
  {
   "cell_type": "code",
   "execution_count": 24,
   "metadata": {
    "scrolled": false
   },
   "outputs": [
    {
     "data": {
      "text/plain": [
       "<matplotlib.legend.Legend at 0x7f3ca27b7780>"
      ]
     },
     "execution_count": 24,
     "metadata": {},
     "output_type": "execute_result"
    },
    {
     "data": {
      "image/png": "[encoded data removed]",
      "text/plain": [
       "<Figure size 720x576 with 1 Axes>"
      ]
     },
     "metadata": {},
     "output_type": "display_data"
    }
   ],
   "source": [
    "# Plot\n",
    "\n",
    "%matplotlib inline\n",
    "import matplotlib.pyplot as plt\n",
    "\n",
    "# style and size\n",
    "plt.style.use('seaborn-whitegrid')\n",
    "fig = plt.figure(figsize=[10,8])\n",
    "ax = plt.subplot(111)\n",
    "\n",
    "# plots\n",
    "plt.plot(X8695, Y8605, 'o', color='red', alpha = 0.5)\n",
    "plt.plot(X9605, Y9605, '*', color='blue', alpha = 0.5)\n",
    "plt.plot(X0615, Y0615, '.', color='green', alpha = 0.5)\n",
    "\n",
    "# titles\n",
    "plt.title('Inverse cumulative distribution of heat wave duration', fontsize = 20)\n",
    "plt.xlabel('Event Duration, Days', fontsize = 15)\n",
    "plt.ylabel('P(Event duration)', fontsize = 15)\n",
    "\n",
    "# legend\n",
    "leg_labels = ['86-95', '95-06', '06 - 15']\n",
    "plt.legend(leg_labels, fontsize = 15)\n"
   ]
  },
  {
   "cell_type": "code",
   "execution_count": 34,
   "metadata": {},
   "outputs": [
    {
     "data": {
      "image/png": "[encoded data removed]",
      "text/plain": [
       "<Figure size 1080x504 with 1 Axes>"
      ]
     },
     "metadata": {},
     "output_type": "display_data"
    }
   ],
   "source": [
    "import numpy as np\n",
    "import matplotlib.pyplot as plt\n",
    "\n",
    "# np.random.seed(19680801)\n",
    "\n",
    "# mu = 200\n",
    "# sigma = 25\n",
    "n_bins = 50\n",
    "# x = np.random.normal(mu, sigma, size=100)\n",
    "\n",
    "fig, ax = plt.subplots(figsize=(15, 7))\n",
    "\n",
    "# plot the cumulative histogram\n",
    "n, bins, patches = ax.hist(india86_95['avg_temp'], n_bins, density=True, histtype='step',\n",
    "                           cumulative=True, label='Empirical')\n",
    "\n",
    "n, bins, patches = ax.hist(india96_05['avg_temp'], n_bins, density=True, histtype='step',\n",
    "                           cumulative=True, label='Empirical')\n",
    "\n",
    "n, bins, patches = ax.hist(india06_15['avg_temp'], n_bins, density=True, histtype='step',\n",
    "                           cumulative=True, label='Empirical')\n",
    "\n",
    "# Add a line showing the expected distribution.\n",
    "# y = ((1 / (np.sqrt(2 * np.pi) * sigma)) *\n",
    "#      np.exp(-0.5 * (1 / sigma * (bins - mu))**2))\n",
    "# y = y.cumsum()\n",
    "# y /= y[-1]\n",
    "\n",
    "# ax.plot(bins, y, 'k--', linewidth=1.5, label='Theoretical')\n",
    "\n",
    "# Overlay a reversed cumulative histogram.\n",
    "# ax.hist(india06_15['duration'], bins=bins, density=True, histtype='step', cumulative=-1,\n",
    "#         label='Reversed emp.')\n",
    "\n",
    "# tidy up the figure\n",
    "ax.grid(True)\n",
    "ax.legend(loc='lower center', labels = ['86-95', '96-05', '06-15'], fontsize = 15)\n",
    "ax.set_title('Cumulative step histograms, ' + country, fontsize = 15)\n",
    "ax.set_xlabel('Avg. temp of heat event(Tmax >40.6C)', fontsize = 15)\n",
    "#ax.set_xlabel('Duration of Tmax event (Tmax >40.6C)', fontsize = 15)\n",
    "ax.set_ylabel('Likelihood of occurrence', fontsize = 15)\n",
    "\n",
    "plt.show()"
   ]
  },
  {
   "cell_type": "markdown",
   "metadata": {},
   "source": [
    "### Curve Fitting"
   ]
  },
  {
   "cell_type": "code",
   "execution_count": null,
   "metadata": {},
   "outputs": [],
   "source": [
    "import scipy.stats as st"
   ]
  },
  {
   "cell_type": "code",
   "execution_count": null,
   "metadata": {},
   "outputs": [],
   "source": [
    "# see if it is a pareto dist\n",
    "\n",
    "dist = st.pareto\n",
    "params = dist.fit(data) # , 1)\n",
    "print(params)"
   ]
  },
  {
   "cell_type": "code",
   "execution_count": null,
   "metadata": {},
   "outputs": [],
   "source": [
    "# Make a hist\n",
    "\n",
    "y, x = np.histogram(data, bins = 30, density = True) # check bins\n",
    "\n",
    "# ASK KELLY <<<<<-----\n",
    "x = (x+np.roll(x, -1))[:-1] / 2.0 # center x in middle of bins \n",
    "\n",
    "# exp\n",
    "#pdf = dist.pdf(x, loc = params[-2], scale = params[-1])\n",
    "\n",
    "# pareto \n",
    "pdf = dist.pdf(x, 1, loc = params[-2], scale = params[-1])"
   ]
  },
  {
   "cell_type": "code",
   "execution_count": null,
   "metadata": {},
   "outputs": [],
   "source": [
    "# Get errors\n",
    "\n",
    "ss_error = np.sum(np.power(y - pdf, 2.0))\n",
    "ss_yy = np.sum(np.power(y - y.mean(), 2.0))"
   ]
  },
  {
   "cell_type": "code",
   "execution_count": null,
   "metadata": {},
   "outputs": [],
   "source": [
    "# Goodness of fit\n",
    "\n",
    "r_2 = 1 - (ss_error / ss_yy)\n",
    "print(r_2)\n",
    "\n",
    "# https://stackoverflow.com/questions/42260519/defining-pareto-distribution-in-python-scipy"
   ]
  },
  {
   "cell_type": "code",
   "execution_count": null,
   "metadata": {},
   "outputs": [],
   "source": [
    "# KELLY MAKE A PLOT ??? "
   ]
  },
  {
   "cell_type": "markdown",
   "metadata": {},
   "source": [
    "# Old code"
   ]
  },
  {
   "cell_type": "code",
   "execution_count": null,
   "metadata": {},
   "outputs": [],
   "source": [
    "# Open Files and Isolate India for Density\n",
    "\n",
    "def event_stack_loop(dir_in, country):\n",
    "    \n",
    "    \"\"\" Loop through a dir with csvs of tmax events for each year and\n",
    "    stack them into one data frame. Current file name is CHIRTS-GHS-Events-StatsXXXX.csv\n",
    "    \n",
    "    Args:\n",
    "        dir_in = dir path to loop through\n",
    "        country = country to subset\n",
    "\n",
    "    \"\"\"\n",
    "        \n",
    "    # Get File list\n",
    "    fn_list = glob.glob(dir_in+'*.csv')\n",
    "    \n",
    "    # Data frame to fill\n",
    "    df_out = pd.DataFrame()\n",
    "    \n",
    "    for fn in sorted(fn_list):\n",
    "        \n",
    "        #print(fn)\n",
    "    \n",
    "        # Likely need to change year to int ... df['purchase'].astype(str).astype(int) <<<<---- FIX \n",
    "        year = fn.split('CHIRTS-GHS-Events-Stats')[2].split('.csv')[0] # for some reason it's 2...?\n",
    "        print(year)\n",
    "        \n",
    "        # open csv \n",
    "        stats = pd.read_csv(fn)\n",
    "        \n",
    "        # isloate country \n",
    "        country = stats[stats['CTR_MN_NM']==country].copy()\n",
    "        print(country.shape)\n",
    "        \n",
    "        # add year column \n",
    "        country['year'] = year\n",
    "        \n",
    "        df_out = df_out.append(country)\n",
    "    \n",
    "    df_out['year'] = df_out['year'].astype(str).astype(int)\n",
    "    \n",
    "    return df_out\n"
   ]
  },
  {
   "cell_type": "code",
   "execution_count": null,
   "metadata": {},
   "outputs": [],
   "source": [
    "# open csv \n",
    "stats1 = pd.read_csv(DATA_IN+'CHIRTS-GHS-Events-Stats1985.csv')\n",
    "stats2 = pd.read_csv(DATA_IN+'CHIRTS-GHS-Events-Stats1986.csv')\n",
    "\n",
    "df_out = pd.DataFrame()\n",
    "\n",
    "country1 = stats1[stats1['CTR_MN_NM'] == 'India']\n",
    "country1['year'] = 1985\n",
    "country2 = stats2[stats2['CTR_MN_NM'] == 'India']\n",
    "country2['year'] = 1986\n",
    "\n",
    "\n",
    "df_out = df_out.append(country1)\n",
    "print(len(df_out))\n",
    "df_out = df_out.append(country2)\n",
    "print(len(df_out))"
   ]
  },
  {
   "cell_type": "code",
   "execution_count": null,
   "metadata": {},
   "outputs": [],
   "source": [
    "# Subset \n",
    "# https://stackoverflow.com/questions/38884466/how-to-select-a-range-of-values-in-a-pandas-dataframe-column\n",
    "\n",
    "def year_subset(df, start, end):\n",
    "    \n",
    "\n",
    "india_stack[(india_stack['year'] >= 1986) & (india_stack['year'] >= 1995)]\n",
    "india_stack[(india_stack['year'] >= 1986) & (india_stack['year'] >= 1995)]"
   ]
  },
  {
   "cell_type": "code",
   "execution_count": null,
   "metadata": {},
   "outputs": [],
   "source": [
    "india86_95"
   ]
  },
  {
   "cell_type": "code",
   "execution_count": null,
   "metadata": {},
   "outputs": [],
   "source": [
    "np.unique(india86_95['year'])"
   ]
  },
  {
   "cell_type": "code",
   "execution_count": null,
   "metadata": {},
   "outputs": [],
   "source": [
    "df_out.tail(1)"
   ]
  },
  {
   "cell_type": "code",
   "execution_count": null,
   "metadata": {},
   "outputs": [],
   "source": [
    "# open csv \n",
    "stats1 = pd.read_csv(DATA_IN+'CHIRTS-GHS-Events-Stats1985.csv')\n",
    "stats2 = pd.read_csv(DATA_IN+'CHIRTS-GHS-Events-Stats1986.csv')\n",
    "\n",
    "df_out = pd.DataFrame()\n",
    "\n",
    "country1 = stats1[stats1['CTR_MN_NM'] == 'India']\n",
    "country1['year'] = 1985\n",
    "country2 = stats2[stats2['CTR_MN_NM'] == 'India']\n",
    "country2['year'] = 1986\n",
    "\n",
    "\n",
    "df_out = df_out.append(country1)\n",
    "print(len(df_out))\n",
    "df_out = df_out.append(country2)\n",
    "print(len(df_out))"
   ]
  },
  {
   "cell_type": "code",
   "execution_count": null,
   "metadata": {},
   "outputs": [],
   "source": [
    "country = event_stack[event_stack['CTR_MN_NM'] == 'Vietnam'].copy()\n",
    "country['year'] = country['year'].astype(str).astype(int)\n",
    "country83 = country[country['year']== 1983]\n",
    "country15 = country[country['year']== 2015]\n",
    "# country86_95 = country[(country['year'] >= 1986) & (country['year'] <= 1995)]"
   ]
  },
  {
   "cell_type": "code",
   "execution_count": null,
   "metadata": {},
   "outputs": [],
   "source": [
    "print(country83.duration.max())\n",
    "print(country15.duration.max())"
   ]
  },
  {
   "cell_type": "code",
   "execution_count": null,
   "metadata": {},
   "outputs": [],
   "source": [
    "# Get data\n",
    "\n",
    "india = event_stack[event_stack['CTR_MN_NM'] == 'India'].copy()\n",
    "india['year'] = india['year'].astype(str).astype(int)\n",
    "india83 = india[india['year']== 1983]\n",
    "india15 = india[india['year']== 1990]\n",
    "# india86_95 = india[(india['year'] >= 1986) & (india['year'] <= 1995)]"
   ]
  },
  {
   "cell_type": "code",
   "execution_count": null,
   "metadata": {},
   "outputs": [],
   "source": [
    "india = event_stack[event_stack['CTR_MN_NM'] == 'India'].copy()\n",
    "india['year'] = india['year'].astype(str).astype(int)\n",
    "india86_95 = india[(india['year'] >= 1986) & (india['year'] <= 1995)]"
   ]
  },
  {
   "cell_type": "code",
   "execution_count": null,
   "metadata": {
    "scrolled": true
   },
   "outputs": [],
   "source": [
    "india86_95.tail()"
   ]
  },
  {
   "cell_type": "code",
   "execution_count": null,
   "metadata": {},
   "outputs": [],
   "source": [
    "india = event_stack[event_stack['CTR_MN_NM'] == 'India'].copy()\n",
    "india['year'] = india['year'].astype(str).astype(int)\n",
    "india96_05 = india[(india['year'] >= 1996) & (india['year'] <= 2005)]"
   ]
  },
  {
   "cell_type": "code",
   "execution_count": null,
   "metadata": {},
   "outputs": [],
   "source": [
    "india = event_stack[event_stack['CTR_MN_NM'] == 'India'].copy()\n",
    "india['year'] = india['year'].astype(str).astype(int)\n",
    "india06_15 = india[(india['year'] >= 2006) & (india['year'] <= 2015)]"
   ]
  },
  {
   "cell_type": "code",
   "execution_count": null,
   "metadata": {},
   "outputs": [],
   "source": [
    "import seaborn as sns\n",
    "\n",
    "fig = plt.subplots(figsize=[10,10])\n",
    "\n",
    "sns.distplot(india86_95['duration'], hist=False, kde=True, \n",
    "             bins=int(180/5), color = 'darkblue', \n",
    "             hist_kws={'edgecolor':'black'},\n",
    "             kde_kws={'linewidth': 2})\n",
    "\n",
    "sns.distplot(india96_05['duration'], hist=False, kde=True, \n",
    "             bins=int(180/5), color = 'orange', \n",
    "             hist_kws={'edgecolor':'black'},\n",
    "             kde_kws={'linewidth': 2})\n",
    "\n",
    "sns.distplot(india06_15['duration'], hist=False, kde=True, \n",
    "             bins=int(180/5), color = 'green', \n",
    "             hist_kws={'edgecolor':'black'},\n",
    "             kde_kws={'linewidth': 2})\n",
    "\n",
    "# Look for events L = 0 ... "
   ]
  }
 ],
 "metadata": {
  "kernelspec": {
   "display_name": "geo",
   "language": "python",
   "name": "geo"
  },
  "language_info": {
   "codemirror_mode": {
    "name": "ipython",
    "version": 3
   },
   "file_extension": ".py",
   "mimetype": "text/x-python",
   "name": "python",
   "nbconvert_exporter": "python",
   "pygments_lexer": "ipython3",
   "version": "3.6.7"
  }
 },
 "nbformat": 4,
 "nbformat_minor": 2
}
