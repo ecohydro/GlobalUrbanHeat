{
 "cells": [
  {
   "cell_type": "markdown",
   "metadata": {},
   "source": [
    "# Figure 2\n",
    "\n",
    "- Notebook to make data for figure 2 (likely a map)\n",
    "- by Cascade Tuholske on 2020.10.01"
   ]
  },
  {
   "cell_type": "markdown",
   "metadata": {},
   "source": [
    "#### Depdencies"
   ]
  },
  {
   "cell_type": "code",
   "execution_count": 2,
   "metadata": {},
   "outputs": [],
   "source": [
    "import pandas as pd\n",
    "import geopandas as gpd\n",
    "import numpy as np  \n",
    "import matplotlib.pyplot as plt  \n",
    "import seaborn as seabornInstance \n",
    "from sklearn.model_selection import train_test_split \n",
    "from sklearn.linear_model import LinearRegression\n",
    "from sklearn import metrics\n",
    "import statsmodels.api as sm\n",
    "import seaborn as sns\n",
    "import glob\n",
    "from matplotlib.colorbar import Colorbar"
   ]
  },
  {
   "cell_type": "markdown",
   "metadata": {},
   "source": [
    "#### Functions"
   ]
  },
  {
   "cell_type": "code",
   "execution_count": 3,
   "metadata": {},
   "outputs": [],
   "source": [
    "def pop_stat(df, geog, stats):\n",
    "    \n",
    "    \"\"\"Finds linear coef for increase in stat by a given geography from 1983 - 2016, as well\n",
    "    as the pct change in population of the cities within the given geography\"\"\"\n",
    "\n",
    "    # Get results\n",
    "    labels = []\n",
    "    delt_list = []\n",
    "    r2_list = []\n",
    "    coef_list = []\n",
    "    p_list = []\n",
    "    df_out = pd.DataFrame()\n",
    "\n",
    "    for label, df_geog in df.groupby(geog):\n",
    "\n",
    "        # Get Data\n",
    "        X_year = np.array(df_geog.groupby('year')['ID_HDC_G0'].mean().index).reshape((-1, 1))\n",
    "        Y_stats = np.array(df_geog.groupby('year')[stats].sum()).reshape((-1, 1))\n",
    "\n",
    "        # Add Intercept\n",
    "        X_year_2 = sm.add_constant(X_year)\n",
    "\n",
    "        # Regress\n",
    "        model = sm.OLS(Y_stats, X_year_2).fit() \n",
    "        \n",
    "        # Get slope\n",
    "        # first param in intercept coef, second is slope of line but if slope = 0, then intecept\n",
    "        if len(model.params) == 2:\n",
    "            coef = model.params[1]\n",
    "            \n",
    "        else:\n",
    "            coef = model.params[0]\n",
    "        \n",
    "        # R2 and P\n",
    "        r2 = model.rsquared_adj\n",
    "        p = model.pvalues[0]\n",
    "\n",
    "        # Pop change\n",
    "        delt = df_geog.drop_duplicates('ID_HDC_G0').copy()\n",
    "        delt['delt_pop'] = delt['P2016'] - delt['P1983']\n",
    "        delt = delt['delt_pop'].sum()\n",
    "\n",
    "\n",
    "        # Make lists\n",
    "        labels.append(label)\n",
    "        r2_list.append(r2)\n",
    "        coef_list.append(coef)\n",
    "        p_list.append(p)\n",
    "        delt_list.append(delt)\n",
    "\n",
    "    # Make data frame\n",
    "    df_out[geog] = labels\n",
    "    df_out['p_delt'] = delt_list\n",
    "    df_out['r2'] = r2_list\n",
    "    df_out['coef'] = coef_list\n",
    "    df_out['p_value'] = [round(elem, 4) for elem in p_list]\n",
    "\n",
    "    return df_out"
   ]
  },
  {
   "cell_type": "markdown",
   "metadata": {},
   "source": [
    "#### Load and Make Data"
   ]
  },
  {
   "cell_type": "code",
   "execution_count": 4,
   "metadata": {},
   "outputs": [],
   "source": [
    "# file path\n",
    "DATA_IN = \"/home/cascade/projects/UrbanHeat/data/\"  # Note: Need ?dl=1 to make sure this file gets read correctly\n",
    "FIG_OUT = \"/home/cascade/projects/UrbanHeat/figures/\"\n",
    "\n",
    "# Raw Heat\n",
    "FN_raw = 'processed/All_data_Raw406_es_final_pdayadd.csv'\n",
    "raw_stats = pd.read_csv(DATA_IN+FN_raw)"
   ]
  },
  {
   "cell_type": "markdown",
   "metadata": {},
   "source": [
    "# Sub-Region Tmax Days increase scatter with color as total people days regression line\n",
    "\n",
    "Here we want find the regions with the greatest increase in the total numbers of exposure days in a given year and then make graphs at the country level with a sig. trend line"
   ]
  },
  {
   "cell_type": "code",
   "execution_count": null,
   "metadata": {
    "scrolled": false
   },
   "outputs": [],
   "source": [
    "# Find Regions where the trend in people days due to heat is sig at 0.05\n",
    "heat_stat = 'total_days'\n",
    "pdays_stat = 'people_days'\n",
    "geog = 'sub-region'\n",
    "df_region = pop_stat(raw_stats, geog, heat_stat)\n",
    "df_region = df_region[df_region['p_value'] < 0.05]\n",
    "sig_regions = list(df_region[geog])\n",
    "len(sig_regions)"
   ]
  },
  {
   "cell_type": "markdown",
   "metadata": {},
   "source": [
    "#### Single Col"
   ]
  },
  {
   "cell_type": "code",
   "execution_count": null,
   "metadata": {
    "scrolled": false
   },
   "outputs": [],
   "source": [
    "fig, axs = plt.subplots(4, 2, figsize = (15, 15), sharex=True)\n",
    "axs = axs.ravel()\n",
    "counter = 0\n",
    "\n",
    "for i, region in enumerate(sig_regions):\n",
    "    \n",
    "    df_region = raw_stats[raw_stats[geog] == region] # select region\n",
    "    \n",
    "    # Get people days dues to heat coef\n",
    "    heat = pop_stat(df_region, 'ID_HDC_G0', heat_stat) # get stats \n",
    "    heat = heat[heat['p_value'] < 0.05] # subset by p value\n",
    "    heat.rename(columns={\"coef\": \"coef_heat\"}, inplace = True)\n",
    "    \n",
    "    # Get people days total\n",
    "    pdays_all = pop_stat(df_region, 'ID_HDC_G0', 'people_days') # get stats\n",
    "    pdays_all.rename(columns={\"coef\": \"coef_pday\"}, inplace = True)\n",
    "    \n",
    "    # try to merge them\n",
    "    heat = heat.merge(pdays_all[['ID_HDC_G0', 'coef_pday']], on = 'ID_HDC_G0', how = 'left')\n",
    "    \n",
    "    # plots\n",
    "    a = i + counter\n",
    "    im  = axs[a].scatter((heat['coef_pday']), heat['coef_heat'], alpha = 0.99, \n",
    "                  c = heat['coef_pday']*10**6, cmap = 'copper_r')\n",
    "    axs[a].set_title(region, fontsize = 14)\n",
    "    \n",
    "    fig.colorbar(ax = axs[a], mappable = im)\n",
    "\n",
    "fig.text(0.5, 0.08, 'Urban Settlement Population Change 1983 - 2016 [log10]', ha='center', size = 16)\n",
    "fig.text(0.07, 0.5, 'Increase in days per year >40.6c 1983 - 2016 (p < 0.05)', va='center', rotation='vertical',\n",
    "        size = 16)\n",
    "plt.savefig(FIG_OUT+'FIG2.png') "
   ]
  },
  {
   "cell_type": "markdown",
   "metadata": {},
   "source": [
    "#### Double Col"
   ]
  },
  {
   "cell_type": "code",
   "execution_count": null,
   "metadata": {
    "scrolled": false
   },
   "outputs": [],
   "source": [
    "from matplotlib import gridspec\n",
    "\n",
    "fig = plt.figure(figsize = (12, 18))\n",
    "gs = gridspec.GridSpec(ncols = 2, nrows= 8, width_ratios=[1, 2], hspace = .5, wspace = .3)\n",
    "\n",
    "a = 0\n",
    "b = 0\n",
    "j = 0\n",
    "\n",
    "for i, region in enumerate(sig_regions):\n",
    "    \n",
    "    df_region = raw_stats[raw_stats[geog] == region] # select region\n",
    "    \n",
    "    # Plot % change pop vs. slope of people days\n",
    "    axs[j] = plt.subplot(gs[i,0])\n",
    "\n",
    "    # Get people days dues to heat coef\n",
    "    heat = pop_stat(df_region, 'ID_HDC_G0', heat_stat) # get stats \n",
    "    heat = heat[heat['p_value'] < 0.05] # subset by p value\n",
    "    heat.rename(columns={\"coef\": \"coef_heat\"}, inplace = True)\n",
    "    \n",
    "    # Get people days total\n",
    "    pdays_all = pop_stat(df_region, 'ID_HDC_G0', 'people_days') # get stats\n",
    "    pdays_all.rename(columns={\"coef\": \"coef_pday\"}, inplace = True)\n",
    "    \n",
    "    # try to merge them\n",
    "    heat = heat.merge(pdays_all[['ID_HDC_G0', 'coef_pday']], on = 'ID_HDC_G0', how = 'left')\n",
    "\n",
    "    # plot it --->>>> 10**6 slopes are in thousands of peopl days\n",
    "    im = axs[j].scatter(np.log10(heat['p_delt']), heat['coef_heat']*10**6, alpha = 0.7, \n",
    "                  c = heat['coef_pday']*10**3, cmap = 'autumn_r') #color = 'darkmagenta') \n",
    "    \n",
    "    fig.colorbar(ax = axs[j], mappable = im)\n",
    "    \n",
    "    # Plot attributes\n",
    "    #ax1.set_xlim([0, 5])\n",
    "    axs[j].set_title(region, fontsize = 13)\n",
    "    \n",
    "    b = a + 1\n",
    "    \n",
    "    # Left Axis labels \n",
    "    if b == 7:\n",
    "        axs[j].set_ylabel('People-days [thousands]', fontsize = 15, labelpad = 10)\n",
    "    if b == 13:\n",
    "        axs[j].set_xlabel('Population Change [log10]', fontsize = 15, labelpad = 10)\n",
    "    \n",
    "    # Plot time series\n",
    "    axs[j] = plt.subplot(gs[i, 1])\n",
    "    data = raw_stats[raw_stats[geog] == region].groupby('year')['people_days'].sum() *10**3\n",
    "    years = list(data.index)\n",
    "    axs[j].plot(data, color = 'red', linestyle = '-', alpha = 0.5)\n",
    "    #axs[i].fill_between(years, data, color = 'red', alpha = 0.05, label='_nolegend_')\n",
    "    sns.regplot(years, data, color = 'red', ax = axs[j], scatter = False, truncate = True)\n",
    "    \n",
    "    # people days 83 plot\n",
    "    data = raw_stats[raw_stats[geog] == region].groupby('year')['people_days_heat'].sum() *10**3\n",
    "    years = list(data.index)\n",
    "    axs[j].plot(data, color = 'purple', linestyle = '-', alpha = 0.5)\n",
    "    #axs[i].fill_between(years, data, color = 'purple', alpha = 0.1, label='_nolegend_')\n",
    "    sns.regplot(years, data, color = 'purple', ax = axs[j], scatter = False, truncate = True)\n",
    "    axs[j].set_ylabel('')\n",
    "    axs[j].set_title(region, fontsize = 13)\n",
    "\n",
    "    if b == 7:\n",
    "        axs[j].set_ylabel('People-days [millions]', fontsize = 15)\n",
    "    \n",
    "    if b == 13:\n",
    "        axs[j].set_xlabel('year', fontsize = 15)\n",
    "    \n",
    "    a = b + 1\n",
    "#plt.savefig(FIG_OUT+'FIG2.png')  "
   ]
  },
  {
   "cell_type": "markdown",
   "metadata": {},
   "source": [
    "# Kelly's crazy Idea"
   ]
  },
  {
   "cell_type": "code",
   "execution_count": 25,
   "metadata": {},
   "outputs": [],
   "source": [
    "# Population Days\n",
    "city_pdays = pop_stat(raw_stats, 'ID_HDC_G0', 'people_days')\n",
    "city_pdays.rename(columns={\"coef\": \"coef_pday\"}, inplace = True)\n",
    "city_pdays.rename(columns={\"p_value\": \"p_value_pday\"}, inplace = True)"
   ]
  },
  {
   "cell_type": "code",
   "execution_count": 26,
   "metadata": {},
   "outputs": [],
   "source": [
    "# Heat\n",
    "city_heat = pop_stat(raw_stats, 'ID_HDC_G0', 'people_days_heat')\n",
    "city_heat.rename(columns={\"coef\": \"coef_heat\"}, inplace = True)\n",
    "city_heat.rename(columns={\"p_value\": \"p_heat\"}, inplace = True)\n"
   ]
  },
  {
   "cell_type": "code",
   "execution_count": 27,
   "metadata": {},
   "outputs": [],
   "source": [
    "# Population\n",
    "city_pop = pop_stat(raw_stats, 'ID_HDC_G0', 'people_days_pop')\n",
    "city_pop.rename(columns={\"coef\": \"coef_pop\"}, inplace = True)\n",
    "city_pop.rename(columns={\"p_value\": \"p_pop\"}, inplace = True)"
   ]
  },
  {
   "cell_type": "code",
   "execution_count": 34,
   "metadata": {},
   "outputs": [],
   "source": [
    "# Merge the data\n",
    "city_all = city_pdays.merge(city_heat[['ID_HDC_G0', 'coef_heat', 'p_heat']], on = 'ID_HDC_G0', how = 'left')\n",
    "city_all = city_all.merge(city_pop[['ID_HDC_G0', 'coef_pop', 'p_pop']], on = 'ID_HDC_G0', how = 'left')\n",
    "city_all.head()"
   ]
  },
  {
   "cell_type": "code",
   "execution_count": 40,
   "metadata": {},
   "outputs": [],
   "source": [
    "# attrib to heat\n",
    "city_all['heat_att'] = city_all['coef_heat'] / city_all['coef_pday'] *100"
   ]
  },
  {
   "cell_type": "code",
   "execution_count": 42,
   "metadata": {},
   "outputs": [],
   "source": [
    "city_all['pop_att'] = city_all['coef_pop'] / city_all['coef_pday'] *100"
   ]
  },
  {
   "cell_type": "code",
   "execution_count": 150,
   "metadata": {
    "scrolled": true
   },
   "outputs": [
    {
     "name": "stdout",
     "output_type": "stream",
     "text": [
      "3978\n",
      "4804\n",
      "2107\n"
     ]
    }
   ],
   "source": [
    "# Check len of pvalues\n",
    "\n",
    "print(len(city_all[city_all['p_value_pday'] < 0.05]))\n",
    "print(len(city_all[city_all['p_pop'] < 0.05]))\n",
    "print(len(city_all[city_all['p_heat'] < 0.05]))"
   ]
  },
  {
   "cell_type": "code",
   "execution_count": 156,
   "metadata": {},
   "outputs": [
    {
     "data": {
      "text/plain": [
       "521"
      ]
     },
     "execution_count": 156,
     "metadata": {},
     "output_type": "execute_result"
    }
   ],
   "source": [
    "## PLOT People Attrib vs Heat Attrib\n",
    "data = city_all[city_all['p_heat'] < 0.001]\n",
    "len(data)"
   ]
  },
  {
   "cell_type": "markdown",
   "metadata": {},
   "source": [
    "#### PLOT IT"
   ]
  },
  {
   "cell_type": "code",
   "execution_count": 94,
   "metadata": {
    "scrolled": false
   },
   "outputs": [
    {
     "data": {
      "text/plain": [
       "(-0.1, 8)"
      ]
     },
     "execution_count": 94,
     "metadata": {},
     "output_type": "execute_result"
    },
    {
     "data": {
      "image/png": "[encoded data removed]",
      "text/plain": [
       "<Figure size 576x576 with 1 Axes>"
      ]
     },
     "metadata": {
      "needs_background": "light"
     },
     "output_type": "display_data"
    }
   ],
   "source": [
    "\n",
    "fig, ax = plt.subplots(1, figsize = (8, 8), sharex=True)\n",
    "\n",
    "## PLOT People Attrib vs Heat Attrib\n",
    "data = city_all[city_all['p_value_pday'] < 0.001]\n",
    "X = data[data['p_value_pday'] < 0.001]['coef_pop']*10**9 #/ data['coef_pday'] *100\n",
    "Y = data[data['p_value_pday'] < 0.001]['coef_heat']*10**9 #/data['coef_pday'] *100\n",
    "\n",
    "\n",
    "ax.scatter(np.log10(X), np.log10(Y), color = 'blue', alpha = 0.5)\n",
    "#plt.imshow(np.log10(X), np.log10(Y), cmap='hot', interpolation='nearest')\n",
    "\n",
    "ax.set_title('Attribution in People Days due to Climate\\nvs. Population Growth', size = 15 )\n",
    "ax.set_ylabel('[coef_heat]', fontsize = 20)\n",
    "ax.set_xlabel('[coef_pop]', fontsize = 20)\n",
    "\n",
    "ax.set_ylim([-0.1, 8])\n",
    "ax.set_xlim([-0.1, 8])\n",
    "# ax.set_yscale('log')\n",
    "# ax.set_xscale('log')"
   ]
  },
  {
   "cell_type": "code",
   "execution_count": 106,
   "metadata": {
    "scrolled": true
   },
   "outputs": [
    {
     "data": {
      "image/png": "[encoded data removed]",
      "text/plain": [
       "<Figure size 432x288 with 1 Axes>"
      ]
     },
     "metadata": {
      "needs_background": "light"
     },
     "output_type": "display_data"
    }
   ],
   "source": [
    "# Generate some test data\n",
    "X = data[data['p_value_pday'] < 0.001]['coef_pop']*10**9 #/ data['coef_pday'] *100\n",
    "Y = data[data['p_value_pday'] < 0.001]['coef_heat']*10**9 #/data['coef_pday'] *100\n",
    "\n",
    "heatmap, xedges, yedges = np.histogram2d(X, Y, bins=50)\n",
    "#eb\n",
    "xtent = [xedges[0], xedges[-1], yedges[0], yedges[-1]]\n",
    "\n",
    "plt.clf()\n",
    "plt.imshow(heatmap.T, origin='lower')\n",
    "X = data[data['p_value_pday'] < 0.001]['coef_pop']*10**9 #/ data['coef_pday'] *100\n",
    "Y = data[data['p_value_pday'] < 0.001]['coef_heat']*10**9 #/data['coef_pday'] *100plt.show()"
   ]
  },
  {
   "cell_type": "code",
   "execution_count": 142,
   "metadata": {},
   "outputs": [],
   "source": [
    "X = data[data['p_pop'] < 0.01]['coef_pop']*10**9 #/ data['coef_pday'] *100\n",
    "Y = data[data['p_heat'] < 0.01]['coef_heat']*10**9 #/data['coef_pday'] *100\n",
    "\n",
    "X = np.log10(X)\n",
    "Y = np.log10(Y)"
   ]
  },
  {
   "cell_type": "code",
   "execution_count": 144,
   "metadata": {},
   "outputs": [
    {
     "data": {
      "text/plain": [
       "909"
      ]
     },
     "execution_count": 144,
     "metadata": {},
     "output_type": "execute_result"
    }
   ],
   "source": [
    "len(Y)"
   ]
  },
  {
   "cell_type": "code",
   "execution_count": 120,
   "metadata": {},
   "outputs": [
    {
     "name": "stderr",
     "output_type": "stream",
     "text": [
      "/home/cascade/miniconda3/envs/geo/lib/python3.6/site-packages/ipykernel_launcher.py:15: MatplotlibDeprecationWarning: The 'normed' parameter of hist2d() has been renamed 'density' since Matplotlib 3.1; support for the old name will be dropped in 3.3.\n",
      "  from ipykernel import kernelapp as app\n"
     ]
    },
    {
     "ename": "ValueError",
     "evalue": "autodetected range of [nan, nan] is not finite",
     "output_type": "error",
     "traceback": [
      "\u001b[0;31m---------------------------------------------------------------------------\u001b[0m",
      "\u001b[0;31mValueError\u001b[0m                                Traceback (most recent call last)",
      "\u001b[0;32m<ipython-input-120-e9b3a32afb2a>\u001b[0m in \u001b[0;36m<module>\u001b[0;34m\u001b[0m\n\u001b[1;32m     13\u001b[0m \u001b[0;34m\u001b[0m\u001b[0m\n\u001b[1;32m     14\u001b[0m \u001b[0;31m# Construct 2D histogram from data using the 'plasma' colormap\u001b[0m\u001b[0;34m\u001b[0m\u001b[0;34m\u001b[0m\u001b[0;34m\u001b[0m\u001b[0m\n\u001b[0;32m---> 15\u001b[0;31m \u001b[0mplt\u001b[0m\u001b[0;34m.\u001b[0m\u001b[0mhist2d\u001b[0m\u001b[0;34m(\u001b[0m\u001b[0mX\u001b[0m\u001b[0;34m,\u001b[0m \u001b[0mY\u001b[0m\u001b[0;34m,\u001b[0m \u001b[0mbins\u001b[0m\u001b[0;34m=\u001b[0m\u001b[0mN_bins\u001b[0m\u001b[0;34m,\u001b[0m \u001b[0mnormed\u001b[0m\u001b[0;34m=\u001b[0m\u001b[0;32mFalse\u001b[0m\u001b[0;34m,\u001b[0m \u001b[0mcmap\u001b[0m\u001b[0;34m=\u001b[0m\u001b[0;34m'plasma'\u001b[0m\u001b[0;34m)\u001b[0m\u001b[0;34m\u001b[0m\u001b[0;34m\u001b[0m\u001b[0m\n\u001b[0m\u001b[1;32m     16\u001b[0m \u001b[0;34m\u001b[0m\u001b[0m\n\u001b[1;32m     17\u001b[0m \u001b[0;31m# Plot a colorbar with label.\u001b[0m\u001b[0;34m\u001b[0m\u001b[0;34m\u001b[0m\u001b[0;34m\u001b[0m\u001b[0m\n",
      "\u001b[0;32m~/miniconda3/envs/geo/lib/python3.6/site-packages/matplotlib/pyplot.py\u001b[0m in \u001b[0;36mhist2d\u001b[0;34m(x, y, bins, range, density, weights, cmin, cmax, data, **kwargs)\u001b[0m\n\u001b[1;32m   2651\u001b[0m         \u001b[0mx\u001b[0m\u001b[0;34m,\u001b[0m \u001b[0my\u001b[0m\u001b[0;34m,\u001b[0m \u001b[0mbins\u001b[0m\u001b[0;34m=\u001b[0m\u001b[0mbins\u001b[0m\u001b[0;34m,\u001b[0m \u001b[0mrange\u001b[0m\u001b[0;34m=\u001b[0m\u001b[0mrange\u001b[0m\u001b[0;34m,\u001b[0m \u001b[0mdensity\u001b[0m\u001b[0;34m=\u001b[0m\u001b[0mdensity\u001b[0m\u001b[0;34m,\u001b[0m\u001b[0;34m\u001b[0m\u001b[0;34m\u001b[0m\u001b[0m\n\u001b[1;32m   2652\u001b[0m         weights=weights, cmin=cmin, cmax=cmax, **({\"data\": data} if\n\u001b[0;32m-> 2653\u001b[0;31m         data is not None else {}), **kwargs)\n\u001b[0m\u001b[1;32m   2654\u001b[0m     \u001b[0msci\u001b[0m\u001b[0;34m(\u001b[0m\u001b[0m__ret\u001b[0m\u001b[0;34m[\u001b[0m\u001b[0;34m-\u001b[0m\u001b[0;36m1\u001b[0m\u001b[0;34m]\u001b[0m\u001b[0;34m)\u001b[0m\u001b[0;34m\u001b[0m\u001b[0;34m\u001b[0m\u001b[0m\n\u001b[1;32m   2655\u001b[0m     \u001b[0;32mreturn\u001b[0m \u001b[0m__ret\u001b[0m\u001b[0;34m\u001b[0m\u001b[0;34m\u001b[0m\u001b[0m\n",
      "\u001b[0;32m~/miniconda3/envs/geo/lib/python3.6/site-packages/matplotlib/__init__.py\u001b[0m in \u001b[0;36minner\u001b[0;34m(ax, data, *args, **kwargs)\u001b[0m\n\u001b[1;32m   1599\u001b[0m     \u001b[0;32mdef\u001b[0m \u001b[0minner\u001b[0m\u001b[0;34m(\u001b[0m\u001b[0max\u001b[0m\u001b[0;34m,\u001b[0m \u001b[0;34m*\u001b[0m\u001b[0margs\u001b[0m\u001b[0;34m,\u001b[0m \u001b[0mdata\u001b[0m\u001b[0;34m=\u001b[0m\u001b[0;32mNone\u001b[0m\u001b[0;34m,\u001b[0m \u001b[0;34m**\u001b[0m\u001b[0mkwargs\u001b[0m\u001b[0;34m)\u001b[0m\u001b[0;34m:\u001b[0m\u001b[0;34m\u001b[0m\u001b[0;34m\u001b[0m\u001b[0m\n\u001b[1;32m   1600\u001b[0m         \u001b[0;32mif\u001b[0m \u001b[0mdata\u001b[0m \u001b[0;32mis\u001b[0m \u001b[0;32mNone\u001b[0m\u001b[0;34m:\u001b[0m\u001b[0;34m\u001b[0m\u001b[0;34m\u001b[0m\u001b[0m\n\u001b[0;32m-> 1601\u001b[0;31m             \u001b[0;32mreturn\u001b[0m \u001b[0mfunc\u001b[0m\u001b[0;34m(\u001b[0m\u001b[0max\u001b[0m\u001b[0;34m,\u001b[0m \u001b[0;34m*\u001b[0m\u001b[0mmap\u001b[0m\u001b[0;34m(\u001b[0m\u001b[0msanitize_sequence\u001b[0m\u001b[0;34m,\u001b[0m \u001b[0margs\u001b[0m\u001b[0;34m)\u001b[0m\u001b[0;34m,\u001b[0m \u001b[0;34m**\u001b[0m\u001b[0mkwargs\u001b[0m\u001b[0;34m)\u001b[0m\u001b[0;34m\u001b[0m\u001b[0;34m\u001b[0m\u001b[0m\n\u001b[0m\u001b[1;32m   1602\u001b[0m \u001b[0;34m\u001b[0m\u001b[0m\n\u001b[1;32m   1603\u001b[0m         \u001b[0mbound\u001b[0m \u001b[0;34m=\u001b[0m \u001b[0mnew_sig\u001b[0m\u001b[0;34m.\u001b[0m\u001b[0mbind\u001b[0m\u001b[0;34m(\u001b[0m\u001b[0max\u001b[0m\u001b[0;34m,\u001b[0m \u001b[0;34m*\u001b[0m\u001b[0margs\u001b[0m\u001b[0;34m,\u001b[0m \u001b[0;34m**\u001b[0m\u001b[0mkwargs\u001b[0m\u001b[0;34m)\u001b[0m\u001b[0;34m\u001b[0m\u001b[0;34m\u001b[0m\u001b[0m\n",
      "\u001b[0;32m~/miniconda3/envs/geo/lib/python3.6/site-packages/matplotlib/cbook/deprecation.py\u001b[0m in \u001b[0;36mwrapper\u001b[0;34m(*args, **kwargs)\u001b[0m\n\u001b[1;32m    305\u001b[0m                 f\"for the old name will be dropped %(removal)s.\")\n\u001b[1;32m    306\u001b[0m             \u001b[0mkwargs\u001b[0m\u001b[0;34m[\u001b[0m\u001b[0mnew\u001b[0m\u001b[0;34m]\u001b[0m \u001b[0;34m=\u001b[0m \u001b[0mkwargs\u001b[0m\u001b[0;34m.\u001b[0m\u001b[0mpop\u001b[0m\u001b[0;34m(\u001b[0m\u001b[0mold\u001b[0m\u001b[0;34m)\u001b[0m\u001b[0;34m\u001b[0m\u001b[0;34m\u001b[0m\u001b[0m\n\u001b[0;32m--> 307\u001b[0;31m         \u001b[0;32mreturn\u001b[0m \u001b[0mfunc\u001b[0m\u001b[0;34m(\u001b[0m\u001b[0;34m*\u001b[0m\u001b[0margs\u001b[0m\u001b[0;34m,\u001b[0m \u001b[0;34m**\u001b[0m\u001b[0mkwargs\u001b[0m\u001b[0;34m)\u001b[0m\u001b[0;34m\u001b[0m\u001b[0;34m\u001b[0m\u001b[0m\n\u001b[0m\u001b[1;32m    308\u001b[0m \u001b[0;34m\u001b[0m\u001b[0m\n\u001b[1;32m    309\u001b[0m     \u001b[0;31m# wrapper() must keep the same documented signature as func(): if we\u001b[0m\u001b[0;34m\u001b[0m\u001b[0;34m\u001b[0m\u001b[0;34m\u001b[0m\u001b[0m\n",
      "\u001b[0;32m~/miniconda3/envs/geo/lib/python3.6/site-packages/matplotlib/axes/_axes.py\u001b[0m in \u001b[0;36mhist2d\u001b[0;34m(self, x, y, bins, range, density, weights, cmin, cmax, **kwargs)\u001b[0m\n\u001b[1;32m   7065\u001b[0m \u001b[0;34m\u001b[0m\u001b[0m\n\u001b[1;32m   7066\u001b[0m         h, xedges, yedges = np.histogram2d(x, y, bins=bins, range=range,\n\u001b[0;32m-> 7067\u001b[0;31m                                            normed=density, weights=weights)\n\u001b[0m\u001b[1;32m   7068\u001b[0m \u001b[0;34m\u001b[0m\u001b[0m\n\u001b[1;32m   7069\u001b[0m         \u001b[0;32mif\u001b[0m \u001b[0mcmin\u001b[0m \u001b[0;32mis\u001b[0m \u001b[0;32mnot\u001b[0m \u001b[0;32mNone\u001b[0m\u001b[0;34m:\u001b[0m\u001b[0;34m\u001b[0m\u001b[0;34m\u001b[0m\u001b[0m\n",
      "\u001b[0;32m~/miniconda3/envs/geo/lib/python3.6/site-packages/numpy/lib/twodim_base.py\u001b[0m in \u001b[0;36mhistogram2d\u001b[0;34m(x, y, bins, range, normed, weights, density)\u001b[0m\n\u001b[1;32m    659\u001b[0m         \u001b[0mxedges\u001b[0m \u001b[0;34m=\u001b[0m \u001b[0myedges\u001b[0m \u001b[0;34m=\u001b[0m \u001b[0masarray\u001b[0m\u001b[0;34m(\u001b[0m\u001b[0mbins\u001b[0m\u001b[0;34m)\u001b[0m\u001b[0;34m\u001b[0m\u001b[0;34m\u001b[0m\u001b[0m\n\u001b[1;32m    660\u001b[0m         \u001b[0mbins\u001b[0m \u001b[0;34m=\u001b[0m \u001b[0;34m[\u001b[0m\u001b[0mxedges\u001b[0m\u001b[0;34m,\u001b[0m \u001b[0myedges\u001b[0m\u001b[0;34m]\u001b[0m\u001b[0;34m\u001b[0m\u001b[0;34m\u001b[0m\u001b[0m\n\u001b[0;32m--> 661\u001b[0;31m     \u001b[0mhist\u001b[0m\u001b[0;34m,\u001b[0m \u001b[0medges\u001b[0m \u001b[0;34m=\u001b[0m \u001b[0mhistogramdd\u001b[0m\u001b[0;34m(\u001b[0m\u001b[0;34m[\u001b[0m\u001b[0mx\u001b[0m\u001b[0;34m,\u001b[0m \u001b[0my\u001b[0m\u001b[0;34m]\u001b[0m\u001b[0;34m,\u001b[0m \u001b[0mbins\u001b[0m\u001b[0;34m,\u001b[0m \u001b[0mrange\u001b[0m\u001b[0;34m,\u001b[0m \u001b[0mnormed\u001b[0m\u001b[0;34m,\u001b[0m \u001b[0mweights\u001b[0m\u001b[0;34m,\u001b[0m \u001b[0mdensity\u001b[0m\u001b[0;34m)\u001b[0m\u001b[0;34m\u001b[0m\u001b[0;34m\u001b[0m\u001b[0m\n\u001b[0m\u001b[1;32m    662\u001b[0m     \u001b[0;32mreturn\u001b[0m \u001b[0mhist\u001b[0m\u001b[0;34m,\u001b[0m \u001b[0medges\u001b[0m\u001b[0;34m[\u001b[0m\u001b[0;36m0\u001b[0m\u001b[0;34m]\u001b[0m\u001b[0;34m,\u001b[0m \u001b[0medges\u001b[0m\u001b[0;34m[\u001b[0m\u001b[0;36m1\u001b[0m\u001b[0;34m]\u001b[0m\u001b[0;34m\u001b[0m\u001b[0;34m\u001b[0m\u001b[0m\n\u001b[1;32m    663\u001b[0m \u001b[0;34m\u001b[0m\u001b[0m\n",
      "\u001b[0;32m~/miniconda3/envs/geo/lib/python3.6/site-packages/numpy/lib/histograms.py\u001b[0m in \u001b[0;36mhistogramdd\u001b[0;34m(sample, bins, range, normed, weights, density)\u001b[0m\n\u001b[1;32m    918\u001b[0m                 raise ValueError(\n\u001b[1;32m    919\u001b[0m                     '`bins[{}]` must be positive, when an integer'.format(i))\n\u001b[0;32m--> 920\u001b[0;31m             \u001b[0msmin\u001b[0m\u001b[0;34m,\u001b[0m \u001b[0msmax\u001b[0m \u001b[0;34m=\u001b[0m \u001b[0m_get_outer_edges\u001b[0m\u001b[0;34m(\u001b[0m\u001b[0msample\u001b[0m\u001b[0;34m[\u001b[0m\u001b[0;34m:\u001b[0m\u001b[0;34m,\u001b[0m\u001b[0mi\u001b[0m\u001b[0;34m]\u001b[0m\u001b[0;34m,\u001b[0m \u001b[0mrange\u001b[0m\u001b[0;34m[\u001b[0m\u001b[0mi\u001b[0m\u001b[0;34m]\u001b[0m\u001b[0;34m)\u001b[0m\u001b[0;34m\u001b[0m\u001b[0;34m\u001b[0m\u001b[0m\n\u001b[0m\u001b[1;32m    921\u001b[0m             \u001b[0medges\u001b[0m\u001b[0;34m[\u001b[0m\u001b[0mi\u001b[0m\u001b[0;34m]\u001b[0m \u001b[0;34m=\u001b[0m \u001b[0mnp\u001b[0m\u001b[0;34m.\u001b[0m\u001b[0mlinspace\u001b[0m\u001b[0;34m(\u001b[0m\u001b[0msmin\u001b[0m\u001b[0;34m,\u001b[0m \u001b[0msmax\u001b[0m\u001b[0;34m,\u001b[0m \u001b[0mbins\u001b[0m\u001b[0;34m[\u001b[0m\u001b[0mi\u001b[0m\u001b[0;34m]\u001b[0m \u001b[0;34m+\u001b[0m \u001b[0;36m1\u001b[0m\u001b[0;34m)\u001b[0m\u001b[0;34m\u001b[0m\u001b[0;34m\u001b[0m\u001b[0m\n\u001b[1;32m    922\u001b[0m         \u001b[0;32melif\u001b[0m \u001b[0mnp\u001b[0m\u001b[0;34m.\u001b[0m\u001b[0mndim\u001b[0m\u001b[0;34m(\u001b[0m\u001b[0mbins\u001b[0m\u001b[0;34m[\u001b[0m\u001b[0mi\u001b[0m\u001b[0;34m]\u001b[0m\u001b[0;34m)\u001b[0m \u001b[0;34m==\u001b[0m \u001b[0;36m1\u001b[0m\u001b[0;34m:\u001b[0m\u001b[0;34m\u001b[0m\u001b[0;34m\u001b[0m\u001b[0m\n",
      "\u001b[0;32m~/miniconda3/envs/geo/lib/python3.6/site-packages/numpy/lib/histograms.py\u001b[0m in \u001b[0;36m_get_outer_edges\u001b[0;34m(a, range)\u001b[0m\n\u001b[1;32m    251\u001b[0m         \u001b[0;32mif\u001b[0m \u001b[0;32mnot\u001b[0m \u001b[0;34m(\u001b[0m\u001b[0mnp\u001b[0m\u001b[0;34m.\u001b[0m\u001b[0misfinite\u001b[0m\u001b[0;34m(\u001b[0m\u001b[0mfirst_edge\u001b[0m\u001b[0;34m)\u001b[0m \u001b[0;32mand\u001b[0m \u001b[0mnp\u001b[0m\u001b[0;34m.\u001b[0m\u001b[0misfinite\u001b[0m\u001b[0;34m(\u001b[0m\u001b[0mlast_edge\u001b[0m\u001b[0;34m)\u001b[0m\u001b[0;34m)\u001b[0m\u001b[0;34m:\u001b[0m\u001b[0;34m\u001b[0m\u001b[0;34m\u001b[0m\u001b[0m\n\u001b[1;32m    252\u001b[0m             raise ValueError(\n\u001b[0;32m--> 253\u001b[0;31m                 \"autodetected range of [{}, {}] is not finite\".format(first_edge, last_edge))\n\u001b[0m\u001b[1;32m    254\u001b[0m \u001b[0;34m\u001b[0m\u001b[0m\n\u001b[1;32m    255\u001b[0m     \u001b[0;31m# expand empty range to avoid divide by zero\u001b[0m\u001b[0;34m\u001b[0m\u001b[0;34m\u001b[0m\u001b[0;34m\u001b[0m\u001b[0m\n",
      "\u001b[0;31mValueError\u001b[0m: autodetected range of [nan, nan] is not finite"
     ]
    },
    {
     "data": {
      "image/png": "[encoded data removed]",
      "text/plain": [
       "<Figure size 432x288 with 1 Axes>"
      ]
     },
     "metadata": {
      "needs_background": "light"
     },
     "output_type": "display_data"
    }
   ],
   "source": [
    "import numpy as np\n",
    "import matplotlib\n",
    "import matplotlib.pyplot as plt\n",
    "\n",
    "# Define numbers of generated data points and bins per axis.\n",
    "N_numbers = 1000\n",
    "N_bins = 1000\n",
    "\n",
    "# set random seed \n",
    "np.random.seed(0)\n",
    "\n",
    "X = np.log(X)\n",
    "\n",
    "# Construct 2D histogram from data using the 'plasma' colormap\n",
    "plt.hist2d(X, Y, bins=N_bins, normed=False, cmap='plasma')\n",
    "\n",
    "# Plot a colorbar with label.\n",
    "cb = plt.colorbar()\n",
    "cb.set_label('Number of entries')\n",
    "\n",
    "# Add title and labels to plot.\n",
    "plt.title('Heatmap of 2D normally distributed data points')\n",
    "plt.xlabel('x axis')\n",
    "plt.ylabel('y axis')\n",
    "plt.ylim([-0.1, 100000])\n",
    "plt.xlim([-0.1, 100000])\n",
    "# Show the plot.\n",
    "plt.show()"
   ]
  }
 ],
 "metadata": {
  "kernelspec": {
   "display_name": "geo",
   "language": "python",
   "name": "geo"
  },
  "language_info": {
   "codemirror_mode": {
    "name": "ipython",
    "version": 3
   },
   "file_extension": ".py",
   "mimetype": "text/x-python",
   "name": "python",
   "nbconvert_exporter": "python",
   "pygments_lexer": "ipython3",
   "version": "3.6.7"
  }
 },
 "nbformat": 4,
 "nbformat_minor": 2
}
