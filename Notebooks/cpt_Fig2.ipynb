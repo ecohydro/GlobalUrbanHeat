{
 "cells": [
  {
   "cell_type": "markdown",
   "metadata": {},
   "source": [
    "# Figure 2\n",
    "\n",
    "- Notebook to make data for figure 2 (likely a map)\n",
    "- by Cascade Tuholske on 2020.10.01"
   ]
  },
  {
   "cell_type": "markdown",
   "metadata": {},
   "source": [
    "#### Depdencies"
   ]
  },
  {
   "cell_type": "code",
   "execution_count": 1,
   "metadata": {},
   "outputs": [],
   "source": [
    "import pandas as pd\n",
    "import geopandas as gpd\n",
    "import numpy as np  \n",
    "import matplotlib.pyplot as plt  \n",
    "import seaborn as seabornInstance \n",
    "from sklearn.model_selection import train_test_split \n",
    "from sklearn.linear_model import LinearRegression\n",
    "from sklearn import metrics\n",
    "import statsmodels.api as sm\n",
    "import seaborn as sns\n",
    "import glob"
   ]
  },
  {
   "cell_type": "markdown",
   "metadata": {},
   "source": [
    "#### Functions"
   ]
  },
  {
   "cell_type": "code",
   "execution_count": 99,
   "metadata": {},
   "outputs": [],
   "source": [
    "def make_pdays(df_stats, df_pop):\n",
    "    \n",
    "    \"Makes a dataframe with stats and population to calc people days\"\n",
    "    \n",
    "    # Make Population Long Format\n",
    "    pop_long = pd.wide_to_long(df_pop, stubnames = 'P', i = 'ID_HDC_G0', j = 'year')\n",
    "    pop_long.reset_index(level=0, inplace=True)\n",
    "    pop_long.reset_index(level=0, inplace=True)\n",
    "    pop_long = pop_long.drop('Unnamed: 0', axis = 1)\n",
    "    \n",
    "    # Get Total Days \n",
    "    data = df_stats.drop_duplicates(['year', 'ID_HDC_G0'], keep = 'first') # drop out duplicates\n",
    "    pdays = pd.DataFrame()\n",
    "    pdays['ID_HDC_G0'] = data['ID_HDC_G0']\n",
    "    pdays['year'] = data['year']\n",
    "    pdays['total_days'] = data['total_days']\n",
    "    pdays['CTR_MN_NM'] = data['CTR_MN_NM']\n",
    "    pdays['sub-region'] = data['sub-region']\n",
    "    pdays['region'] = data['region']\n",
    "    pdays['intermediate-region'] = data['intermediate-region']\n",
    "    \n",
    "    # Merge\n",
    "    pdays_merge = pdays.merge(pop_long, on=['ID_HDC_G0', 'year'], how = 'left')\n",
    "\n",
    "    # Now get people days from 1983 and change\n",
    "    p = pd.DataFrame()\n",
    "    p['ID_HDC_G0'] = df_pop['ID_HDC_G0']\n",
    "    p['P1983'] = df_pop['P1983']\n",
    "    p['P2016'] = df_pop['P2016']\n",
    "#    p['p_delt'] = (df_pop['P2016'] - df_pop['P1983']) / df_pop['P1983'] * 100\n",
    "\n",
    "    pdays_merge = pdays_merge.merge(p ,on=['ID_HDC_G0'], how = 'left')\n",
    "    \n",
    "    # Calc p days\n",
    "    pdays_merge['people_days'] = pdays_merge['total_days'] * pdays_merge['P'] / 10**6 # total people days\n",
    "    pdays_merge['people_days_83'] = pdays_merge['total_days'] * pdays_merge['P1983'] / 10**6 # people days w/ pop con\n",
    "    pdays_merge['people_days_attr'] = pdays_merge['people_days'] - pdays_merge['people_days_83']  # dif\n",
    "    \n",
    "    return pdays_merge"
   ]
  },
  {
   "cell_type": "code",
   "execution_count": 90,
   "metadata": {},
   "outputs": [],
   "source": [
    "def pop_stat(df, geog, stats):\n",
    "    \n",
    "    \"\"\"Finds linear coef for increase in stat by a given geography from 1983 - 2016, as well\n",
    "    as the pct change in population of the cities within the given geography\"\"\"\n",
    "\n",
    "    # Get results\n",
    "    labels = []\n",
    "    delt_list = []\n",
    "    r2_list = []\n",
    "    coef_list = []\n",
    "    p_list = []\n",
    "    df_out = pd.DataFrame()\n",
    "\n",
    "    for label, df_geog in df.groupby(geog):\n",
    "\n",
    "        # Get Data\n",
    "        X_year = np.array(df_geog.groupby('year')['ID_HDC_G0'].mean().index).reshape((-1, 1))\n",
    "        Y_stats = np.array(df_geog.groupby('year')[stats].sum()).reshape((-1, 1))\n",
    "\n",
    "        # Add Intercept\n",
    "        X_year_2 = sm.add_constant(X_year)\n",
    "\n",
    "        # Regress\n",
    "        model = sm.OLS(Y_stats, X_year_2).fit() \n",
    "        \n",
    "        # Get slope\n",
    "        # first param in intercept coef, second is slope of line but if slope = 0, then intecept\n",
    "        if len(model.params) == 2:\n",
    "            coef = model.params[1]\n",
    "            \n",
    "        else:\n",
    "            coef = model.params[0]\n",
    "        \n",
    "        # R2 and P\n",
    "        r2 = model.rsquared_adj\n",
    "        p = model.pvalues[0]\n",
    "\n",
    "        # Pop change\n",
    "        delt = (df_geog['P2016'].sum() - df_geog['P1983'].sum())/df_geog['P1983'].sum() * 100\n",
    "\n",
    "        # Make lists\n",
    "        labels.append(label)\n",
    "        r2_list.append(r2)\n",
    "        coef_list.append(coef)\n",
    "        p_list.append(p)\n",
    "        delt_list.append(delt)\n",
    "\n",
    "    # Make data frame\n",
    "    df_out[geog] = labels\n",
    "    df_out['p_delt'] = delt_list\n",
    "    df_out['r2'] = r2_list\n",
    "    df_out['coef'] = coef_list\n",
    "    df_out['p_value'] = [round(elem, 4) for elem in p_list]\n",
    "\n",
    "    return df_out"
   ]
  },
  {
   "cell_type": "markdown",
   "metadata": {},
   "source": [
    "# Load and Make Data"
   ]
  },
  {
   "cell_type": "code",
   "execution_count": 91,
   "metadata": {},
   "outputs": [],
   "source": [
    "# file paths\n",
    "DATA_IN = \"/home/cascade/projects/data_out_urbanheat/\"  # Note: Need ?dl=1 to make sure this file gets read correctly\n",
    "FN_stats = 'heatrange/All_data20200109_406C_es_final.csv'\n",
    "df_stats = pd.read_csv(DATA_IN+FN_stats)\n",
    "# FIG_OUT = '/home/cascade/projects/figures/'\n",
    "\n",
    "FN_pop = 'GHS-UCDB-Interp.csv'\n",
    "df_pop = pd.read_csv(DATA_IN+FN_pop)"
   ]
  },
  {
   "cell_type": "code",
   "execution_count": 100,
   "metadata": {},
   "outputs": [],
   "source": [
    "df_data = make_pdays(df_stats, df_pop)"
   ]
  },
  {
   "cell_type": "code",
   "execution_count": 101,
   "metadata": {
    "scrolled": true
   },
   "outputs": [
    {
     "data": {
      "text/html": [
       "<div>\n",
       "<style scoped>\n",
       "    .dataframe tbody tr th:only-of-type {\n",
       "        vertical-align: middle;\n",
       "    }\n",
       "\n",
       "    .dataframe tbody tr th {\n",
       "        vertical-align: top;\n",
       "    }\n",
       "\n",
       "    .dataframe thead th {\n",
       "        text-align: right;\n",
       "    }\n",
       "</style>\n",
       "<table border=\"1\" class=\"dataframe\">\n",
       "  <thead>\n",
       "    <tr style=\"text-align: right;\">\n",
       "      <th></th>\n",
       "      <th>ID_HDC_G0</th>\n",
       "      <th>year</th>\n",
       "      <th>total_days</th>\n",
       "      <th>CTR_MN_NM</th>\n",
       "      <th>sub-region</th>\n",
       "      <th>region</th>\n",
       "      <th>intermediate-region</th>\n",
       "      <th>P</th>\n",
       "      <th>P1983</th>\n",
       "      <th>P2016</th>\n",
       "      <th>people_days</th>\n",
       "      <th>people_days_83</th>\n",
       "      <th>people_days_attr</th>\n",
       "    </tr>\n",
       "  </thead>\n",
       "  <tbody>\n",
       "    <tr>\n",
       "      <td>0</td>\n",
       "      <td>2784</td>\n",
       "      <td>1983</td>\n",
       "      <td>1</td>\n",
       "      <td>Germany</td>\n",
       "      <td>Western Europe</td>\n",
       "      <td>Europe</td>\n",
       "      <td>Western Europe</td>\n",
       "      <td>9.976361e+05</td>\n",
       "      <td>997636.118717</td>\n",
       "      <td>1.573652e+06</td>\n",
       "      <td>0.997636</td>\n",
       "      <td>0.997636</td>\n",
       "      <td>0.000000</td>\n",
       "    </tr>\n",
       "    <tr>\n",
       "      <td>1</td>\n",
       "      <td>2784</td>\n",
       "      <td>2013</td>\n",
       "      <td>1</td>\n",
       "      <td>Germany</td>\n",
       "      <td>Western Europe</td>\n",
       "      <td>Europe</td>\n",
       "      <td>Western Europe</td>\n",
       "      <td>1.538112e+06</td>\n",
       "      <td>997636.118717</td>\n",
       "      <td>1.573652e+06</td>\n",
       "      <td>1.538112</td>\n",
       "      <td>0.997636</td>\n",
       "      <td>0.540476</td>\n",
       "    </tr>\n",
       "    <tr>\n",
       "      <td>2</td>\n",
       "      <td>2833</td>\n",
       "      <td>1983</td>\n",
       "      <td>1</td>\n",
       "      <td>Germany</td>\n",
       "      <td>Western Europe</td>\n",
       "      <td>Europe</td>\n",
       "      <td>Western Europe</td>\n",
       "      <td>6.014093e+04</td>\n",
       "      <td>60140.932532</td>\n",
       "      <td>6.497856e+04</td>\n",
       "      <td>0.060141</td>\n",
       "      <td>0.060141</td>\n",
       "      <td>0.000000</td>\n",
       "    </tr>\n",
       "    <tr>\n",
       "      <td>3</td>\n",
       "      <td>2833</td>\n",
       "      <td>1984</td>\n",
       "      <td>1</td>\n",
       "      <td>Germany</td>\n",
       "      <td>Western Europe</td>\n",
       "      <td>Europe</td>\n",
       "      <td>Western Europe</td>\n",
       "      <td>6.033127e+04</td>\n",
       "      <td>60140.932532</td>\n",
       "      <td>6.497856e+04</td>\n",
       "      <td>0.060331</td>\n",
       "      <td>0.060141</td>\n",
       "      <td>0.000190</td>\n",
       "    </tr>\n",
       "    <tr>\n",
       "      <td>4</td>\n",
       "      <td>2833</td>\n",
       "      <td>1998</td>\n",
       "      <td>1</td>\n",
       "      <td>Germany</td>\n",
       "      <td>Western Europe</td>\n",
       "      <td>Europe</td>\n",
       "      <td>Western Europe</td>\n",
       "      <td>6.411484e+04</td>\n",
       "      <td>60140.932532</td>\n",
       "      <td>6.497856e+04</td>\n",
       "      <td>0.064115</td>\n",
       "      <td>0.060141</td>\n",
       "      <td>0.003974</td>\n",
       "    </tr>\n",
       "  </tbody>\n",
       "</table>\n",
       "</div>"
      ],
      "text/plain": [
       "   ID_HDC_G0  year  total_days CTR_MN_NM      sub-region  region  \\\n",
       "0       2784  1983           1   Germany  Western Europe  Europe   \n",
       "1       2784  2013           1   Germany  Western Europe  Europe   \n",
       "2       2833  1983           1   Germany  Western Europe  Europe   \n",
       "3       2833  1984           1   Germany  Western Europe  Europe   \n",
       "4       2833  1998           1   Germany  Western Europe  Europe   \n",
       "\n",
       "  intermediate-region             P          P1983         P2016  people_days  \\\n",
       "0      Western Europe  9.976361e+05  997636.118717  1.573652e+06     0.997636   \n",
       "1      Western Europe  1.538112e+06  997636.118717  1.573652e+06     1.538112   \n",
       "2      Western Europe  6.014093e+04   60140.932532  6.497856e+04     0.060141   \n",
       "3      Western Europe  6.033127e+04   60140.932532  6.497856e+04     0.060331   \n",
       "4      Western Europe  6.411484e+04   60140.932532  6.497856e+04     0.064115   \n",
       "\n",
       "   people_days_83  people_days_attr  \n",
       "0        0.997636          0.000000  \n",
       "1        0.997636          0.540476  \n",
       "2        0.060141          0.000000  \n",
       "3        0.060141          0.000190  \n",
       "4        0.060141          0.003974  "
      ]
     },
     "execution_count": 101,
     "metadata": {},
     "output_type": "execute_result"
    }
   ],
   "source": [
    "df_data.head()"
   ]
  },
  {
   "cell_type": "markdown",
   "metadata": {},
   "source": [
    "# Sub-Region Level Change\n",
    "\n",
    "Here we want find the regions with the greatest increase in the total numbers of exposure days in a given year and then make graphs at the country level with a sig. trend line"
   ]
  },
  {
   "cell_type": "code",
   "execution_count": 142,
   "metadata": {},
   "outputs": [
    {
     "data": {
      "text/plain": [
       "7"
      ]
     },
     "execution_count": 142,
     "metadata": {},
     "output_type": "execute_result"
    }
   ],
   "source": [
    "stat = 'people_days_83'\n",
    "geog = 'sub-region'\n",
    "df_region = pop_stat(df_data, geog, stat)\n",
    "df_region = df_region[df_region['p_value'] < 0.05]\n",
    "sig_regions = list(df_region[geog])\n",
    "len(sig_regions)"
   ]
  },
  {
   "cell_type": "code",
   "execution_count": 143,
   "metadata": {
    "scrolled": true
   },
   "outputs": [],
   "source": [
    "stat = 'people_days'\n",
    "\n",
    "df_region_ = pop_stat(df_data, geog, stat)\n",
    "df_region_ = df_region[df_region['p_value'] < 0.05]\n",
    "sig_regions_ = list(df_region[geog])\n",
    "\n",
    "df_region = df_region.merge(df_region_, on = geog, how = 'inner')"
   ]
  },
  {
   "cell_type": "code",
   "execution_count": 144,
   "metadata": {},
   "outputs": [
    {
     "data": {
      "text/html": [
       "<div>\n",
       "<style scoped>\n",
       "    .dataframe tbody tr th:only-of-type {\n",
       "        vertical-align: middle;\n",
       "    }\n",
       "\n",
       "    .dataframe tbody tr th {\n",
       "        vertical-align: top;\n",
       "    }\n",
       "\n",
       "    .dataframe thead th {\n",
       "        text-align: right;\n",
       "    }\n",
       "</style>\n",
       "<table border=\"1\" class=\"dataframe\">\n",
       "  <thead>\n",
       "    <tr style=\"text-align: right;\">\n",
       "      <th></th>\n",
       "      <th>sub-region</th>\n",
       "      <th>p_delt_x</th>\n",
       "      <th>r2_x</th>\n",
       "      <th>coef_x</th>\n",
       "      <th>p_value_x</th>\n",
       "      <th>p_delt_y</th>\n",
       "      <th>r2_y</th>\n",
       "      <th>coef_y</th>\n",
       "      <th>p_value_y</th>\n",
       "    </tr>\n",
       "  </thead>\n",
       "  <tbody>\n",
       "    <tr>\n",
       "      <td>0</td>\n",
       "      <td>Eastern Asia</td>\n",
       "      <td>47.940489</td>\n",
       "      <td>0.217783</td>\n",
       "      <td>1.122733</td>\n",
       "      <td>0.0035</td>\n",
       "      <td>47.940489</td>\n",
       "      <td>0.217783</td>\n",
       "      <td>1.122733</td>\n",
       "      <td>0.0035</td>\n",
       "    </tr>\n",
       "    <tr>\n",
       "      <td>1</td>\n",
       "      <td>Latin America and the Caribbean</td>\n",
       "      <td>68.548835</td>\n",
       "      <td>0.165070</td>\n",
       "      <td>0.968131</td>\n",
       "      <td>0.0134</td>\n",
       "      <td>68.548835</td>\n",
       "      <td>0.165070</td>\n",
       "      <td>0.968131</td>\n",
       "      <td>0.0134</td>\n",
       "    </tr>\n",
       "    <tr>\n",
       "      <td>2</td>\n",
       "      <td>Northern Africa</td>\n",
       "      <td>100.808201</td>\n",
       "      <td>0.560317</td>\n",
       "      <td>16.416801</td>\n",
       "      <td>0.0000</td>\n",
       "      <td>100.808201</td>\n",
       "      <td>0.560317</td>\n",
       "      <td>16.416801</td>\n",
       "      <td>0.0000</td>\n",
       "    </tr>\n",
       "    <tr>\n",
       "      <td>3</td>\n",
       "      <td>Northern America</td>\n",
       "      <td>70.600328</td>\n",
       "      <td>0.307311</td>\n",
       "      <td>2.147691</td>\n",
       "      <td>0.0006</td>\n",
       "      <td>70.600328</td>\n",
       "      <td>0.307311</td>\n",
       "      <td>2.147691</td>\n",
       "      <td>0.0006</td>\n",
       "    </tr>\n",
       "    <tr>\n",
       "      <td>4</td>\n",
       "      <td>Southern Asia</td>\n",
       "      <td>76.254393</td>\n",
       "      <td>0.134325</td>\n",
       "      <td>78.364496</td>\n",
       "      <td>0.0266</td>\n",
       "      <td>76.254393</td>\n",
       "      <td>0.134325</td>\n",
       "      <td>78.364496</td>\n",
       "      <td>0.0266</td>\n",
       "    </tr>\n",
       "    <tr>\n",
       "      <td>5</td>\n",
       "      <td>Sub-Saharan Africa</td>\n",
       "      <td>142.361007</td>\n",
       "      <td>0.606347</td>\n",
       "      <td>16.959254</td>\n",
       "      <td>0.0000</td>\n",
       "      <td>142.361007</td>\n",
       "      <td>0.606347</td>\n",
       "      <td>16.959254</td>\n",
       "      <td>0.0000</td>\n",
       "    </tr>\n",
       "    <tr>\n",
       "      <td>6</td>\n",
       "      <td>Western Asia</td>\n",
       "      <td>140.520096</td>\n",
       "      <td>0.558585</td>\n",
       "      <td>22.843988</td>\n",
       "      <td>0.0000</td>\n",
       "      <td>140.520096</td>\n",
       "      <td>0.558585</td>\n",
       "      <td>22.843988</td>\n",
       "      <td>0.0000</td>\n",
       "    </tr>\n",
       "  </tbody>\n",
       "</table>\n",
       "</div>"
      ],
      "text/plain": [
       "                        sub-region    p_delt_x      r2_x     coef_x  \\\n",
       "0                     Eastern Asia   47.940489  0.217783   1.122733   \n",
       "1  Latin America and the Caribbean   68.548835  0.165070   0.968131   \n",
       "2                  Northern Africa  100.808201  0.560317  16.416801   \n",
       "3                 Northern America   70.600328  0.307311   2.147691   \n",
       "4                    Southern Asia   76.254393  0.134325  78.364496   \n",
       "5               Sub-Saharan Africa  142.361007  0.606347  16.959254   \n",
       "6                     Western Asia  140.520096  0.558585  22.843988   \n",
       "\n",
       "   p_value_x    p_delt_y      r2_y     coef_y  p_value_y  \n",
       "0     0.0035   47.940489  0.217783   1.122733     0.0035  \n",
       "1     0.0134   68.548835  0.165070   0.968131     0.0134  \n",
       "2     0.0000  100.808201  0.560317  16.416801     0.0000  \n",
       "3     0.0006   70.600328  0.307311   2.147691     0.0006  \n",
       "4     0.0266   76.254393  0.134325  78.364496     0.0266  \n",
       "5     0.0000  142.361007  0.606347  16.959254     0.0000  \n",
       "6     0.0000  140.520096  0.558585  22.843988     0.0000  "
      ]
     },
     "execution_count": 144,
     "metadata": {},
     "output_type": "execute_result"
    }
   ],
   "source": [
    "df_region"
   ]
  },
  {
   "cell_type": "code",
   "execution_count": 170,
   "metadata": {},
   "outputs": [
    {
     "name": "stdout",
     "output_type": "stream",
     "text": [
      "Eastern Asia\n",
      "Latin America and the Caribbean\n",
      "Northern Africa\n",
      "Northern America\n",
      "Southern Asia\n",
      "Sub-Saharan Africa\n",
      "Western Asia\n"
     ]
    },
    {
     "data": {
      "image/png": "[encoded data removed]",
      "text/plain": [
       "<Figure size 720x720 with 1 Axes>"
      ]
     },
     "metadata": {
      "needs_background": "light"
     },
     "output_type": "display_data"
    }
   ],
   "source": [
    "fig, axs = plt.subplots(1, figsize = (10, 10), sharex=True)\n",
    "axs.scatter(df_region['p_delt_x'], df_region['coef_x'], s = df_region['coef_y']*50,\n",
    "           c = df_region['coef_y']*50, cmap = 'spring') #df_region['coef'] /10**6)\n",
    "# plt.yscale('log')\n",
    "# plt.ylim(bottom = 0)\n",
    "\n",
    "for i, row in df_region.iterrows():\n",
    "    print(row['sub-region'])\n",
    "    plt.annotate(row['sub-region'], (row['p_delt_x'], row['coef_x']),\n",
    "                fontsize = 16) #row['coef']/10**6))\n",
    "\n",
    "# Title\n",
    "axs.set_title('Population Increase verse Exposure Increase \\n due to Extreme Heat', fontsize = 20)\n",
    "axs.set_ylabel('Person days [Millions/ Year] \\nincrease due to extreme heat', fontsize = 20)\n",
    "axs.set_xlabel('Urban Population Change 1983 - 2016 (%)', fontsize = 20)\n",
    "axs.tick_params(labelsize = 10)"
   ]
  },
  {
   "cell_type": "code",
   "execution_count": 120,
   "metadata": {},
   "outputs": [
    {
     "ename": "IndexError",
     "evalue": "index 4 is out of bounds for axis 0 with size 4",
     "output_type": "error",
     "traceback": [
      "\u001b[0;31m---------------------------------------------------------------------------\u001b[0m",
      "\u001b[0;31mIndexError\u001b[0m                                Traceback (most recent call last)",
      "\u001b[0;32m<ipython-input-120-58e44b551bcd>\u001b[0m in \u001b[0;36m<module>\u001b[0;34m\u001b[0m\n\u001b[1;32m     10\u001b[0m \u001b[0;34m\u001b[0m\u001b[0m\n\u001b[1;32m     11\u001b[0m     \u001b[0;31m# plot it\u001b[0m\u001b[0;34m\u001b[0m\u001b[0;34m\u001b[0m\u001b[0;34m\u001b[0m\u001b[0m\n\u001b[0;32m---> 12\u001b[0;31m     \u001b[0maxs\u001b[0m\u001b[0;34m[\u001b[0m\u001b[0mi\u001b[0m\u001b[0;34m]\u001b[0m\u001b[0;34m.\u001b[0m\u001b[0mscatter\u001b[0m\u001b[0;34m(\u001b[0m\u001b[0mcountries\u001b[0m\u001b[0;34m[\u001b[0m\u001b[0;34m'p_delt'\u001b[0m\u001b[0;34m]\u001b[0m\u001b[0;34m,\u001b[0m \u001b[0mcountries\u001b[0m\u001b[0;34m[\u001b[0m\u001b[0;34m'coef'\u001b[0m\u001b[0;34m]\u001b[0m\u001b[0;34m)\u001b[0m\u001b[0;34m\u001b[0m\u001b[0;34m\u001b[0m\u001b[0m\n\u001b[0m\u001b[1;32m     13\u001b[0m     \u001b[0maxs\u001b[0m\u001b[0;34m[\u001b[0m\u001b[0mi\u001b[0m\u001b[0;34m]\u001b[0m\u001b[0;34m.\u001b[0m\u001b[0mset_title\u001b[0m\u001b[0;34m(\u001b[0m\u001b[0mregion\u001b[0m\u001b[0;34m)\u001b[0m\u001b[0;34m\u001b[0m\u001b[0;34m\u001b[0m\u001b[0m\n\u001b[1;32m     14\u001b[0m \u001b[0;34m\u001b[0m\u001b[0m\n",
      "\u001b[0;31mIndexError\u001b[0m: index 4 is out of bounds for axis 0 with size 4"
     ]
    },
    {
     "data": {
      "image/png": "[encoded data removed]",
      "text/plain": [
       "<Figure size 1080x576 with 4 Axes>"
      ]
     },
     "metadata": {
      "needs_background": "light"
     },
     "output_type": "display_data"
    }
   ],
   "source": [
    "fig, axs = plt.subplots(4, figsize = (15, 8), sharex=True)\n",
    "axs = axs.ravel()\n",
    "plt.ylim(0, .02)\n",
    "\n",
    "for i, region in enumerate(sig_regions):\n",
    "    \n",
    "    df_region = df_data[df_data['region'] == region] # select region\n",
    "    countries = pop_stat(df_region, 'CTR_MN_NM', stat) # get stats\n",
    "    countries = countries[countries['p_value'] < 0.05] # subset\n",
    "    \n",
    "    # plot it\n",
    "    axs[i].scatter(countries['p_delt'], countries['coef'])\n",
    "    axs[i].set_title(region)\n",
    "    \n",
    "    # Set lims\n",
    "#     axs[i].set_ylim(bottom = 0)\n",
    "#     #axs[i].set_xlim([0, 800])\n",
    "\n",
    "\n",
    "    \n",
    "    #print(countries['CTR_MN_NM'])\n",
    "    \n",
    "    for j, row in countries.iterrows():\n",
    "        axs[i].annotate(row['CTR_MN_NM'], (row['p_delt'], row['coef']))\n"
   ]
  },
  {
   "cell_type": "code",
   "execution_count": null,
   "metadata": {},
   "outputs": [],
   "source": [
    "stat = 'total_days'\n",
    "df_region = pop_stat(df_data, 'CTR_MN_NM', stat)\n",
    "df_region = df_region[df_region['p_value'] < 0.05]"
   ]
  },
  {
   "cell_type": "code",
   "execution_count": null,
   "metadata": {},
   "outputs": [],
   "source": [
    "fig, axs = plt.subplots(1, figsize = (10, 10), sharex=True)\n",
    "axs.scatter(df_region['p_delt'], df_region['coef'])\n",
    "# plt.yscale('log')\n",
    "plt.ylim(top=100)\n",
    "\n",
    "for j, row in df_region.iterrows():\n",
    "    axs.annotate(row['CTR_MN_NM'], (row['p_delt'], row['coef']))"
   ]
  },
  {
   "cell_type": "markdown",
   "metadata": {},
   "source": [
    "# Old Code"
   ]
  },
  {
   "cell_type": "code",
   "execution_count": null,
   "metadata": {},
   "outputs": [],
   "source": [
    "for label, df_geog in df.groupby('ID_HDC_G0'):\n",
    "\n",
    "    # Get Data\n",
    "    X_year = np.array(df_geog.groupby('year')['ID_HDC_G0'].mean().index).reshape((-1, 1))\n",
    "    Y_stats = np.array(df_geog.groupby('year')['total_days'].sum()).reshape((-1, 1))\n",
    "\n",
    "    # Add Intercept\n",
    "    X_year_2 = sm.add_constant(X_year)\n",
    "\n",
    "    # Regress\n",
    "    model = sm.OLS(Y_stats, X_year_2).fit()\n",
    "    print(label, model.params)\n",
    "    print(len(model.params))\n",
    "    print('P Value is', model.pvalues[0])\n",
    "#     coef = model.params[1] # first param in intercept coef, second is slope of line\n",
    "#     r2 = model.rsquared_adj\n",
    "#     p = model.pvalues[0]"
   ]
  },
  {
   "cell_type": "code",
   "execution_count": null,
   "metadata": {
    "scrolled": true
   },
   "outputs": [],
   "source": [
    "test = df_data[df_data['CTR_MN_NM'] == 'Nigeria']\n",
    "test[test['year'] == 1983]['total_days'].sum()"
   ]
  },
  {
   "cell_type": "code",
   "execution_count": null,
   "metadata": {},
   "outputs": [],
   "source": [
    "test = test[test['ID_HDC_G0'] == 3101]\n",
    "test"
   ]
  },
  {
   "cell_type": "code",
   "execution_count": null,
   "metadata": {},
   "outputs": [],
   "source": [
    "X_year = np.array(test.groupby('year')['ID_HDC_G0'].mean().index).reshape((-1, 1))\n",
    "Y_stats = np.array(test.groupby('year')['total_days'].sum()).reshape((-1, 1))"
   ]
  },
  {
   "cell_type": "code",
   "execution_count": null,
   "metadata": {},
   "outputs": [],
   "source": [
    "# Add Intercept\n",
    "X_year_2 = sm.add_constant(X_year)\n",
    "\n",
    "# Regress\n",
    "model = sm.OLS(Y_stats, X_year_2).fit()"
   ]
  },
  {
   "cell_type": "code",
   "execution_count": null,
   "metadata": {},
   "outputs": [],
   "source": [
    "plt.scatter(X_year, Y_stats)\n",
    "plt.scatter(X_year, model.predict(X_year_2), color = 'red')"
   ]
  },
  {
   "cell_type": "code",
   "execution_count": null,
   "metadata": {},
   "outputs": [],
   "source": [
    "model.summary()"
   ]
  },
  {
   "cell_type": "code",
   "execution_count": null,
   "metadata": {},
   "outputs": [],
   "source": [
    "# test reg and plot\n",
    "test = df_data[df_data['CTR_MN_NM'] == 'India']\n",
    "stats = 'people_days'\n",
    "\n",
    "# X & Y \n",
    "X_year = np.array(test.groupby('year')['ID_HDC_G0'].mean().index).reshape((-1, 1))\n",
    "Y_stats = np.array(test.groupby('year')[stats].sum()).reshape((-1, 1))"
   ]
  },
  {
   "cell_type": "code",
   "execution_count": null,
   "metadata": {
    "scrolled": true
   },
   "outputs": [],
   "source": [
    "plt.scatter(X_year, Y_stats)"
   ]
  },
  {
   "cell_type": "code",
   "execution_count": null,
   "metadata": {
    "scrolled": true
   },
   "outputs": [],
   "source": [
    "X_year_2 = sm.add_constant(X_year)\n",
    "model_int = sm.OLS(Y_stats, X_year_2).fit()\n",
    "pred_int = model_int.predict(X_year_2)\n",
    "plt.scatter(X_year, pred_int, color = 'red')\n",
    "plt.title('W/ Intercept')"
   ]
  },
  {
   "cell_type": "code",
   "execution_count": null,
   "metadata": {},
   "outputs": [],
   "source": [
    "model_int.summary()"
   ]
  },
  {
   "cell_type": "code",
   "execution_count": null,
   "metadata": {},
   "outputs": [],
   "source": [
    "model = sm.OLS(Y_stats, X_year).fit()\n",
    "model.summary()"
   ]
  },
  {
   "cell_type": "code",
   "execution_count": null,
   "metadata": {
    "scrolled": true
   },
   "outputs": [],
   "source": [
    "plt.scatter(X_year, pred_int, color = 'red')\n",
    "plt.scatter(X_year, Y_stats, color = 'blue')"
   ]
  },
  {
   "cell_type": "code",
   "execution_count": null,
   "metadata": {},
   "outputs": [],
   "source": [
    "df = df_data[df_data['CTR_MN_NM'] == 'Nigeria']"
   ]
  },
  {
   "cell_type": "code",
   "execution_count": null,
   "metadata": {},
   "outputs": [],
   "source": [
    "test = pop_stat(df_data, 'sub-region', 'total_days')"
   ]
  },
  {
   "cell_type": "code",
   "execution_count": null,
   "metadata": {},
   "outputs": [],
   "source": [
    "df = test[test['p_value'] < 0.01]"
   ]
  },
  {
   "cell_type": "code",
   "execution_count": null,
   "metadata": {},
   "outputs": [],
   "source": [
    "df_out"
   ]
  },
  {
   "cell_type": "code",
   "execution_count": null,
   "metadata": {},
   "outputs": [],
   "source": [
    "fig, ax1 = plt.subplots(1, figsize = (10,10), sharex=True)\n",
    "\n",
    "ax1.scatter(df_out['p_delt'], df_out['coef'])\n",
    "#plt.xscale('log')\n",
    "#plt.yscale('log')\n",
    "# plt.xlim(100, 700)\n",
    "# plt.ylim(0, 100)\n",
    "\n",
    "for i, row in df_out.iterrows():\n",
    "    plt.annotate(row['sub-region'], (row['p_delt'], row['coef']))\n",
    "\n",
    "\n",
    "# Label Points\n",
    "    #loop through data points and plot each point \n",
    "#     for l, row in data.loc[data['label']==label,:].iterrows():\n",
    "    \n",
    "#         #add the data point as text\n",
    "#         plt.annotate(row['label'], \n",
    "#                      (row['x'], row['y']),\n",
    "#                      horizontalalignment='center',\n",
    "#                      verticalalignment='center',\n",
    "#                      size=11,\n",
    "#                      color=customPalette[i]) \n",
    "\n",
    "\n",
    "# # Title\n",
    "# ax1.set_title('Change in Population vs Change in Extreme Heat', fontsize = 20)\n",
    "# ax1.set_ylabel('Avg. Additional Days Per Year > 40.6C ', fontsize = 20)\n",
    "# ax1.set_xlabel('Change in Population (%) 1983 - 2016', fontsize = 20)\n",
    "# ax1.tick_params(labelsize = 15)"
   ]
  },
  {
   "cell_type": "code",
   "execution_count": null,
   "metadata": {},
   "outputs": [],
   "source": [
    "ct = df_data[df_data['sub-region'] == 'Sub-Saharan Africa']\n",
    "df_out = pop_stat(ct, 'ID_HDC_G0', 'total_days')\n",
    "df_out = df_out[df_out['p_value'] < 0.01]\n",
    "df_out"
   ]
  },
  {
   "cell_type": "code",
   "execution_count": null,
   "metadata": {},
   "outputs": [],
   "source": [
    "fig, ax1 = plt.subplots(1, figsize = (10,10), sharex=True)\n",
    "\n",
    "ax1.scatter(df_out['p_delt'], df_out['coef'])\n",
    "plt.xscale('log')\n",
    "plt.xlim(0,10000)\n",
    "\n",
    "# for i, row in df_out.iterrows():\n",
    "#     plt.annotate(row['ID_HDC_G0'], (row['p_delt'], row['coef']))\n"
   ]
  }
 ],
 "metadata": {
  "kernelspec": {
   "display_name": "geo",
   "language": "python",
   "name": "geo"
  },
  "language_info": {
   "codemirror_mode": {
    "name": "ipython",
    "version": 3
   },
   "file_extension": ".py",
   "mimetype": "text/x-python",
   "name": "python",
   "nbconvert_exporter": "python",
   "pygments_lexer": "ipython3",
   "version": "3.6.7"
  }
 },
 "nbformat": 4,
 "nbformat_minor": 2
}
