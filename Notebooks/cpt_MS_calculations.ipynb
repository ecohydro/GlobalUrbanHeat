{
 "cells": [
  {
   "cell_type": "markdown",
   "metadata": {},
   "source": [
    "# MS Calculations\n",
    "\n",
    "Notebook to crunch numbers for the MS.\n",
    "\n",
    "by Cascade Tuholske 2020.02.23"
   ]
  },
  {
   "cell_type": "code",
   "execution_count": 1,
   "metadata": {},
   "outputs": [],
   "source": [
    "#### Depdencies \n",
    "import pandas as pd\n",
    "import numpy as np\n",
    "import geopandas as gpd\n",
    "import matplotlib.pyplot as plt\n",
    "import statsmodels.api as sm\n",
    "import seaborn as sns"
   ]
  },
  {
   "cell_type": "code",
   "execution_count": 2,
   "metadata": {},
   "outputs": [],
   "source": [
    "#### Regressions, no intercept addition is needed because we're using SK LEARN HERE \n",
    "\n",
    "def lm_func(df, col):\n",
    "    \n",
    "    \"simple linear model of a time series data, returns coef\"\n",
    "    \n",
    "    # Get Data\n",
    "    X_year = np.array(df.groupby('year')['ID_HDC_G0'].mean().index).reshape((-1, 1))\n",
    "    Y_stats = np.array(df.groupby('year')[col].sum()).reshape((-1, 1))\n",
    "\n",
    "    # Add Intercept\n",
    "    X_year_2 = sm.add_constant(X_year)\n",
    "\n",
    "    # Regress\n",
    "    model = sm.OLS(Y_stats, X_year_2).fit() \n",
    "        \n",
    "    coef = int(model.params[1])\n",
    "    #coef = int(coef)\n",
    "            \n",
    "    # R2 and P\n",
    "    r2 = model.rsquared_adj\n",
    "    p = model.pvalues[0]\n",
    "    \n",
    "    return coef, round(r2, 2), round(p, 3)"
   ]
  },
  {
   "cell_type": "code",
   "execution_count": 3,
   "metadata": {},
   "outputs": [
    {
     "name": "stdout",
     "output_type": "stream",
     "text": [
      "Len of GHS-UCDB (all cities) is 13135\n"
     ]
    },
    {
     "data": {
      "text/html": [
       "<div>\n",
       "<style scoped>\n",
       "    .dataframe tbody tr th:only-of-type {\n",
       "        vertical-align: middle;\n",
       "    }\n",
       "\n",
       "    .dataframe tbody tr th {\n",
       "        vertical-align: top;\n",
       "    }\n",
       "\n",
       "    .dataframe thead th {\n",
       "        text-align: right;\n",
       "    }\n",
       "</style>\n",
       "<table border=\"1\" class=\"dataframe\">\n",
       "  <thead>\n",
       "    <tr style=\"text-align: right;\">\n",
       "      <th></th>\n",
       "      <th>Unnamed: 0</th>\n",
       "      <th>ID_HDC_G0</th>\n",
       "      <th>year</th>\n",
       "      <th>total_days</th>\n",
       "      <th>P</th>\n",
       "      <th>P1983</th>\n",
       "      <th>P2016</th>\n",
       "      <th>people_days</th>\n",
       "      <th>people_days_heat</th>\n",
       "      <th>people_days_pop</th>\n",
       "    </tr>\n",
       "  </thead>\n",
       "  <tbody>\n",
       "    <tr>\n",
       "      <td>0</td>\n",
       "      <td>0</td>\n",
       "      <td>5645</td>\n",
       "      <td>1983</td>\n",
       "      <td>1</td>\n",
       "      <td>80796.793810</td>\n",
       "      <td>80796.79381</td>\n",
       "      <td>96123.248169</td>\n",
       "      <td>80796.793810</td>\n",
       "      <td>80796.79381</td>\n",
       "      <td>0.000000</td>\n",
       "    </tr>\n",
       "    <tr>\n",
       "      <td>1</td>\n",
       "      <td>1</td>\n",
       "      <td>5645</td>\n",
       "      <td>1989</td>\n",
       "      <td>2</td>\n",
       "      <td>78918.494262</td>\n",
       "      <td>80796.79381</td>\n",
       "      <td>96123.248169</td>\n",
       "      <td>157836.988523</td>\n",
       "      <td>161593.58762</td>\n",
       "      <td>-3756.599097</td>\n",
       "    </tr>\n",
       "    <tr>\n",
       "      <td>2</td>\n",
       "      <td>2</td>\n",
       "      <td>5645</td>\n",
       "      <td>1990</td>\n",
       "      <td>3</td>\n",
       "      <td>78605.444337</td>\n",
       "      <td>80796.79381</td>\n",
       "      <td>96123.248169</td>\n",
       "      <td>235816.333011</td>\n",
       "      <td>242390.38143</td>\n",
       "      <td>-6574.048420</td>\n",
       "    </tr>\n",
       "    <tr>\n",
       "      <td>3</td>\n",
       "      <td>3</td>\n",
       "      <td>5645</td>\n",
       "      <td>1994</td>\n",
       "      <td>1</td>\n",
       "      <td>76481.266889</td>\n",
       "      <td>80796.79381</td>\n",
       "      <td>96123.248169</td>\n",
       "      <td>76481.266889</td>\n",
       "      <td>80796.79381</td>\n",
       "      <td>-4315.526921</td>\n",
       "    </tr>\n",
       "    <tr>\n",
       "      <td>4</td>\n",
       "      <td>4</td>\n",
       "      <td>5645</td>\n",
       "      <td>2005</td>\n",
       "      <td>1</td>\n",
       "      <td>80904.416534</td>\n",
       "      <td>80796.79381</td>\n",
       "      <td>96123.248169</td>\n",
       "      <td>80904.416534</td>\n",
       "      <td>80796.79381</td>\n",
       "      <td>107.622724</td>\n",
       "    </tr>\n",
       "  </tbody>\n",
       "</table>\n",
       "</div>"
      ],
      "text/plain": [
       "   Unnamed: 0  ID_HDC_G0  year  total_days             P        P1983  \\\n",
       "0           0       5645  1983           1  80796.793810  80796.79381   \n",
       "1           1       5645  1989           2  78918.494262  80796.79381   \n",
       "2           2       5645  1990           3  78605.444337  80796.79381   \n",
       "3           3       5645  1994           1  76481.266889  80796.79381   \n",
       "4           4       5645  2005           1  80904.416534  80796.79381   \n",
       "\n",
       "          P2016    people_days  people_days_heat  people_days_pop  \n",
       "0  96123.248169   80796.793810       80796.79381         0.000000  \n",
       "1  96123.248169  157836.988523      161593.58762     -3756.599097  \n",
       "2  96123.248169  235816.333011      242390.38143     -6574.048420  \n",
       "3  96123.248169   76481.266889       80796.79381     -4315.526921  \n",
       "4  96123.248169   80904.416534       80796.79381       107.622724  "
      ]
     },
     "execution_count": 3,
     "metadata": {},
     "output_type": "execute_result"
    }
   ],
   "source": [
    "#### Load Data\n",
    "\n",
    "# file paths\n",
    "DATA_IN = \"/home/cascade/projects/UrbanHeat/data/\"  # Note: Need ?dl=1 to make sure this file gets read correctly\n",
    "FIG_OUT = \"/home/cascade/projects/UrbanHeat/figures/\"\n",
    "FN_IN = 'processed/AllDATA-GHS-ERA5-HI406-FIGDATA.csv'\n",
    "HI_STATS = pd.read_csv(DATA_IN+FN_IN)\n",
    "\n",
    "# Set scale\n",
    "scale = 10**9\n",
    "\n",
    "# STATS IN\n",
    "HI_STATS = pd.read_csv(DATA_IN+FN_IN)\n",
    "\n",
    "# GHS-UCDB IN\n",
    "GHS_FN = 'raw/GHS_UCDB/GHS_STAT_UCDB2015MT_GLOBE_R2019A_V1_0.shp'\n",
    "GHS = gpd.read_file(DATA_IN+GHS_FN)\n",
    "print('Len of GHS-UCDB (all cities) is', len(GHS))\n",
    "\n",
    "# Check it\n",
    "HI_STATS.head()"
   ]
  },
  {
   "cell_type": "code",
   "execution_count": 4,
   "metadata": {
    "scrolled": false
   },
   "outputs": [
    {
     "name": "stdout",
     "output_type": "stream",
     "text": [
      "386920\n",
      "385526\n",
      "385424\n"
     ]
    }
   ],
   "source": [
    "#### Drop cities where P1983 == 0\n",
    "print(len(HI_STATS))\n",
    "HI_STATS = HI_STATS[HI_STATS['P1983'] > 0]\n",
    "print(len(HI_STATS))\n",
    "\n",
    "#### Drop cities with only one Tmax Day in 1983 and none else because you cannot regress them\n",
    "#drop_list = [2543, 2560, 3667, 3669, 6122, 6156] # city ids for MERRA2 \n",
    "drop_list = [832, 1732, 5521] # city IDS for ERA5\n",
    "\n",
    "HI_STATS= HI_STATS[~HI_STATS['ID_HDC_G0'].isin(drop_list)]\n",
    "print(len(HI_STATS))"
   ]
  },
  {
   "cell_type": "code",
   "execution_count": 5,
   "metadata": {},
   "outputs": [
    {
     "data": {
      "text/html": [
       "<div>\n",
       "<style scoped>\n",
       "    .dataframe tbody tr th:only-of-type {\n",
       "        vertical-align: middle;\n",
       "    }\n",
       "\n",
       "    .dataframe tbody tr th {\n",
       "        vertical-align: top;\n",
       "    }\n",
       "\n",
       "    .dataframe thead th {\n",
       "        text-align: right;\n",
       "    }\n",
       "</style>\n",
       "<table border=\"1\" class=\"dataframe\">\n",
       "  <thead>\n",
       "    <tr style=\"text-align: right;\">\n",
       "      <th></th>\n",
       "      <th>Unnamed: 0</th>\n",
       "      <th>ID_HDC_G0</th>\n",
       "      <th>year</th>\n",
       "      <th>total_days</th>\n",
       "      <th>P</th>\n",
       "      <th>P1983</th>\n",
       "      <th>P2016</th>\n",
       "      <th>people_days</th>\n",
       "      <th>people_days_heat</th>\n",
       "      <th>people_days_pop</th>\n",
       "      <th>region</th>\n",
       "      <th>intermediate-region</th>\n",
       "      <th>sub-region</th>\n",
       "      <th>CTR_MN_NM</th>\n",
       "      <th>GCPNT_LAT</th>\n",
       "      <th>GCPNT_LON</th>\n",
       "    </tr>\n",
       "  </thead>\n",
       "  <tbody>\n",
       "    <tr>\n",
       "      <td>0</td>\n",
       "      <td>0</td>\n",
       "      <td>5645</td>\n",
       "      <td>1983</td>\n",
       "      <td>1</td>\n",
       "      <td>80796.793810</td>\n",
       "      <td>80796.79381</td>\n",
       "      <td>96123.248169</td>\n",
       "      <td>80796.793810</td>\n",
       "      <td>80796.79381</td>\n",
       "      <td>0.000000</td>\n",
       "      <td>Europe</td>\n",
       "      <td>Eastern Europe</td>\n",
       "      <td>Eastern Europe</td>\n",
       "      <td>Russia</td>\n",
       "      <td>66.083799</td>\n",
       "      <td>76.64658</td>\n",
       "    </tr>\n",
       "    <tr>\n",
       "      <td>1</td>\n",
       "      <td>1</td>\n",
       "      <td>5645</td>\n",
       "      <td>1989</td>\n",
       "      <td>2</td>\n",
       "      <td>78918.494262</td>\n",
       "      <td>80796.79381</td>\n",
       "      <td>96123.248169</td>\n",
       "      <td>157836.988523</td>\n",
       "      <td>161593.58762</td>\n",
       "      <td>-3756.599097</td>\n",
       "      <td>Europe</td>\n",
       "      <td>Eastern Europe</td>\n",
       "      <td>Eastern Europe</td>\n",
       "      <td>Russia</td>\n",
       "      <td>66.083799</td>\n",
       "      <td>76.64658</td>\n",
       "    </tr>\n",
       "    <tr>\n",
       "      <td>2</td>\n",
       "      <td>2</td>\n",
       "      <td>5645</td>\n",
       "      <td>1990</td>\n",
       "      <td>3</td>\n",
       "      <td>78605.444337</td>\n",
       "      <td>80796.79381</td>\n",
       "      <td>96123.248169</td>\n",
       "      <td>235816.333011</td>\n",
       "      <td>242390.38143</td>\n",
       "      <td>-6574.048420</td>\n",
       "      <td>Europe</td>\n",
       "      <td>Eastern Europe</td>\n",
       "      <td>Eastern Europe</td>\n",
       "      <td>Russia</td>\n",
       "      <td>66.083799</td>\n",
       "      <td>76.64658</td>\n",
       "    </tr>\n",
       "    <tr>\n",
       "      <td>3</td>\n",
       "      <td>3</td>\n",
       "      <td>5645</td>\n",
       "      <td>1994</td>\n",
       "      <td>1</td>\n",
       "      <td>76481.266889</td>\n",
       "      <td>80796.79381</td>\n",
       "      <td>96123.248169</td>\n",
       "      <td>76481.266889</td>\n",
       "      <td>80796.79381</td>\n",
       "      <td>-4315.526921</td>\n",
       "      <td>Europe</td>\n",
       "      <td>Eastern Europe</td>\n",
       "      <td>Eastern Europe</td>\n",
       "      <td>Russia</td>\n",
       "      <td>66.083799</td>\n",
       "      <td>76.64658</td>\n",
       "    </tr>\n",
       "    <tr>\n",
       "      <td>4</td>\n",
       "      <td>4</td>\n",
       "      <td>5645</td>\n",
       "      <td>2005</td>\n",
       "      <td>1</td>\n",
       "      <td>80904.416534</td>\n",
       "      <td>80796.79381</td>\n",
       "      <td>96123.248169</td>\n",
       "      <td>80904.416534</td>\n",
       "      <td>80796.79381</td>\n",
       "      <td>107.622724</td>\n",
       "      <td>Europe</td>\n",
       "      <td>Eastern Europe</td>\n",
       "      <td>Eastern Europe</td>\n",
       "      <td>Russia</td>\n",
       "      <td>66.083799</td>\n",
       "      <td>76.64658</td>\n",
       "    </tr>\n",
       "  </tbody>\n",
       "</table>\n",
       "</div>"
      ],
      "text/plain": [
       "   Unnamed: 0  ID_HDC_G0  year  total_days             P        P1983  \\\n",
       "0           0       5645  1983           1  80796.793810  80796.79381   \n",
       "1           1       5645  1989           2  78918.494262  80796.79381   \n",
       "2           2       5645  1990           3  78605.444337  80796.79381   \n",
       "3           3       5645  1994           1  76481.266889  80796.79381   \n",
       "4           4       5645  2005           1  80904.416534  80796.79381   \n",
       "\n",
       "          P2016    people_days  people_days_heat  people_days_pop  region  \\\n",
       "0  96123.248169   80796.793810       80796.79381         0.000000  Europe   \n",
       "1  96123.248169  157836.988523      161593.58762     -3756.599097  Europe   \n",
       "2  96123.248169  235816.333011      242390.38143     -6574.048420  Europe   \n",
       "3  96123.248169   76481.266889       80796.79381     -4315.526921  Europe   \n",
       "4  96123.248169   80904.416534       80796.79381       107.622724  Europe   \n",
       "\n",
       "  intermediate-region      sub-region CTR_MN_NM  GCPNT_LAT  GCPNT_LON  \n",
       "0      Eastern Europe  Eastern Europe    Russia  66.083799   76.64658  \n",
       "1      Eastern Europe  Eastern Europe    Russia  66.083799   76.64658  \n",
       "2      Eastern Europe  Eastern Europe    Russia  66.083799   76.64658  \n",
       "3      Eastern Europe  Eastern Europe    Russia  66.083799   76.64658  \n",
       "4      Eastern Europe  Eastern Europe    Russia  66.083799   76.64658  "
      ]
     },
     "execution_count": 5,
     "metadata": {},
     "output_type": "execute_result"
    }
   ],
   "source": [
    "## Add In Meta Data\n",
    "geog = ['region', 'intermediate-region', 'sub-region','CTR_MN_NM', 'ID_HDC_G0', 'GCPNT_LAT', 'GCPNT_LON']\n",
    "meta_fn = 'processed/AllDATA-GHS-ERA5-HI406-META.csv'\n",
    "all_data = pd.read_csv(DATA_IN+meta_fn)\n",
    "meta = all_data[geog]\n",
    "meta = meta.drop_duplicates('ID_HDC_G0')\n",
    "\n",
    "## Merge in meta\n",
    "HI_STATS= HI_STATS.merge(meta, on = 'ID_HDC_G0', how = 'left')\n",
    "HI_STATS.head()\n"
   ]
  },
  {
   "cell_type": "markdown",
   "metadata": {},
   "source": [
    "# Global Trends"
   ]
  },
  {
   "cell_type": "code",
   "execution_count": 58,
   "metadata": {
    "scrolled": true
   },
   "outputs": [
    {
     "name": "stdout",
     "output_type": "stream",
     "text": [
      "person days in 2016 was 291.3703313035282 billion\n",
      "person days in 1983 was 118.01971700133181 billion\n",
      "pct increase in people days 83 - 16 is  146.88275714153778\n",
      "annual increase in people days  was 5.245146271  p= 0.0\n",
      "annual increase in people days heat  was 1.369131521  p= 0.0\n",
      "annual increase in people days pop  was 3.876014749  p= 0.0\n",
      "attrib heat  was 26.102828219869107  p= 0.0 \n",
      "\n"
     ]
    }
   ],
   "source": [
    "#### Total Change in people Days\n",
    "data = HI_STATS.groupby('year')['people_days'].sum()\n",
    "year = str(data.index[33])\n",
    "value = str(data.values[33]/10**9)\n",
    "print('person days in 2016 was '+value+' billion')\n",
    "\n",
    "year = str(data.index[0])\n",
    "value = str(data.values[0]/10**9)\n",
    "print('person days in 1983 was '+value+' billion')\n",
    "\n",
    "#### Pct Change in Poeple Days 1983 - 2016\n",
    "pdays16 = data.iloc[len(data) -1]\n",
    "pdays83 = data.iloc[0]\n",
    "out = (data.iloc[len(data) -1] - data.iloc[0]) / data.iloc[0] * 100\n",
    "print('pct increase in people days 83 - 16 is ', out)\n",
    "\n",
    "#### Rate of change\n",
    "data = HI_STATS\n",
    "coef, r2, p = lm_func(data, 'people_days')\n",
    "print('annual increase in people days ', 'was', coef/10**9, ' p=', p)\n",
    "coef1, r21, p1 = lm_func(data, 'people_days_heat')\n",
    "print('annual increase in people days heat ', 'was', coef1/10**9, ' p=', p)\n",
    "coef2, r22, p2 = lm_func(data, 'people_days_pop')\n",
    "print('annual increase in people days pop ', 'was', coef2/10**9, ' p=', p)\n",
    "print('attrib heat ', 'was', coef1 / coef *100, ' p=', p, '\\n')"
   ]
  },
  {
   "cell_type": "code",
   "execution_count": null,
   "metadata": {
    "scrolled": true
   },
   "outputs": [],
   "source": [
    "#### Pct Pday Annual Increase from Heat\n",
    "coef_pdays, r2_pdays, p_pdays = lm_func(HI_STATS, 'people_days') # regress pdays\n",
    "coef_heat, r2_heat, p_heat = lm_func(HI_STATS, 'people_days_heat') # regreas heat\n",
    "\n",
    "print('warming is what pct of total?', coef_heat/coef_pdays *100)"
   ]
  },
  {
   "cell_type": "markdown",
   "metadata": {},
   "source": [
    "# City-level"
   ]
  },
  {
   "cell_type": "markdown",
   "metadata": {},
   "source": [
    "#### Pdays"
   ]
  },
  {
   "cell_type": "code",
   "execution_count": 6,
   "metadata": {},
   "outputs": [],
   "source": [
    "city_coefs = pd.read_csv(DATA_IN+'processed/AllDATA-GHS-ERA5-HI406-MAPDATA_PDAYS_P05.csv')"
   ]
  },
  {
   "cell_type": "code",
   "execution_count": 7,
   "metadata": {},
   "outputs": [
    {
     "data": {
      "text/plain": [
       "8236"
      ]
     },
     "execution_count": 7,
     "metadata": {},
     "output_type": "execute_result"
    }
   ],
   "source": [
    "len(city_coefs)"
   ]
  },
  {
   "cell_type": "code",
   "execution_count": 8,
   "metadata": {},
   "outputs": [
    {
     "name": "stdout",
     "output_type": "stream",
     "text": [
      "The pct of cities w/ increases in exposure:  62.70270270270271\n"
     ]
    }
   ],
   "source": [
    "#### Number of cities w/ sig increase in exposure?\n",
    "print('The pct of cities w/ increases in exposure: ', len(city_coefs)/len(GHS)*100)\n"
   ]
  },
  {
   "cell_type": "code",
   "execution_count": 14,
   "metadata": {
    "scrolled": true
   },
   "outputs": [
    {
     "data": {
      "text/html": [
       "<div>\n",
       "<style scoped>\n",
       "    .dataframe tbody tr th:only-of-type {\n",
       "        vertical-align: middle;\n",
       "    }\n",
       "\n",
       "    .dataframe tbody tr th {\n",
       "        vertical-align: top;\n",
       "    }\n",
       "\n",
       "    .dataframe thead th {\n",
       "        text-align: right;\n",
       "    }\n",
       "</style>\n",
       "<table border=\"1\" class=\"dataframe\">\n",
       "  <thead>\n",
       "    <tr style=\"text-align: right;\">\n",
       "      <th></th>\n",
       "      <th>ID_HDC_G0</th>\n",
       "      <th>CTR_MN_NM</th>\n",
       "      <th>coef_pdays</th>\n",
       "      <th>rank</th>\n",
       "    </tr>\n",
       "  </thead>\n",
       "  <tbody>\n",
       "    <tr>\n",
       "      <td>6293</td>\n",
       "      <td>9872</td>\n",
       "      <td>Bangladesh</td>\n",
       "      <td>1.101247e+08</td>\n",
       "      <td>1</td>\n",
       "    </tr>\n",
       "    <tr>\n",
       "      <td>6757</td>\n",
       "      <td>10715</td>\n",
       "      <td>Thailand</td>\n",
       "      <td>9.350953e+07</td>\n",
       "      <td>2</td>\n",
       "    </tr>\n",
       "    <tr>\n",
       "      <td>7456</td>\n",
       "      <td>11862</td>\n",
       "      <td>Indonesia</td>\n",
       "      <td>9.280246e+07</td>\n",
       "      <td>3</td>\n",
       "    </tr>\n",
       "    <tr>\n",
       "      <td>7592</td>\n",
       "      <td>12080</td>\n",
       "      <td>China</td>\n",
       "      <td>8.866874e+07</td>\n",
       "      <td>4</td>\n",
       "    </tr>\n",
       "    <tr>\n",
       "      <td>8064</td>\n",
       "      <td>12829</td>\n",
       "      <td>Philippines</td>\n",
       "      <td>8.741375e+07</td>\n",
       "      <td>5</td>\n",
       "    </tr>\n",
       "    <tr>\n",
       "      <td>3670</td>\n",
       "      <td>6955</td>\n",
       "      <td>India</td>\n",
       "      <td>7.278390e+07</td>\n",
       "      <td>6</td>\n",
       "    </tr>\n",
       "    <tr>\n",
       "      <td>7416</td>\n",
       "      <td>11800</td>\n",
       "      <td>Vietnam</td>\n",
       "      <td>6.933806e+07</td>\n",
       "      <td>7</td>\n",
       "    </tr>\n",
       "    <tr>\n",
       "      <td>3569</td>\n",
       "      <td>6845</td>\n",
       "      <td>India</td>\n",
       "      <td>6.487200e+07</td>\n",
       "      <td>8</td>\n",
       "    </tr>\n",
       "    <tr>\n",
       "      <td>1157</td>\n",
       "      <td>2125</td>\n",
       "      <td>Nigeria</td>\n",
       "      <td>5.736711e+07</td>\n",
       "      <td>9</td>\n",
       "    </tr>\n",
       "    <tr>\n",
       "      <td>3010</td>\n",
       "      <td>6169</td>\n",
       "      <td>Pakistan</td>\n",
       "      <td>5.023954e+07</td>\n",
       "      <td>10</td>\n",
       "    </tr>\n",
       "    <tr>\n",
       "      <td>6115</td>\n",
       "      <td>9691</td>\n",
       "      <td>India</td>\n",
       "      <td>4.980559e+07</td>\n",
       "      <td>11</td>\n",
       "    </tr>\n",
       "    <tr>\n",
       "      <td>7237</td>\n",
       "      <td>11498</td>\n",
       "      <td>Singapore</td>\n",
       "      <td>4.259024e+07</td>\n",
       "      <td>12</td>\n",
       "    </tr>\n",
       "    <tr>\n",
       "      <td>7049</td>\n",
       "      <td>11139</td>\n",
       "      <td>Malaysia</td>\n",
       "      <td>4.005976e+07</td>\n",
       "      <td>13</td>\n",
       "    </tr>\n",
       "    <tr>\n",
       "      <td>5159</td>\n",
       "      <td>8675</td>\n",
       "      <td>India</td>\n",
       "      <td>3.376740e+07</td>\n",
       "      <td>14</td>\n",
       "    </tr>\n",
       "    <tr>\n",
       "      <td>6581</td>\n",
       "      <td>10248</td>\n",
       "      <td>Myanmar</td>\n",
       "      <td>3.087082e+07</td>\n",
       "      <td>15</td>\n",
       "    </tr>\n",
       "    <tr>\n",
       "      <td>2931</td>\n",
       "      <td>5915</td>\n",
       "      <td>United Arab Emirates</td>\n",
       "      <td>2.755135e+07</td>\n",
       "      <td>16</td>\n",
       "    </tr>\n",
       "    <tr>\n",
       "      <td>7783</td>\n",
       "      <td>12400</td>\n",
       "      <td>China</td>\n",
       "      <td>2.640532e+07</td>\n",
       "      <td>17</td>\n",
       "    </tr>\n",
       "    <tr>\n",
       "      <td>3242</td>\n",
       "      <td>6473</td>\n",
       "      <td>Pakistan</td>\n",
       "      <td>2.615718e+07</td>\n",
       "      <td>18</td>\n",
       "    </tr>\n",
       "    <tr>\n",
       "      <td>3398</td>\n",
       "      <td>6651</td>\n",
       "      <td>India</td>\n",
       "      <td>2.310778e+07</td>\n",
       "      <td>19</td>\n",
       "    </tr>\n",
       "    <tr>\n",
       "      <td>3467</td>\n",
       "      <td>6728</td>\n",
       "      <td>India</td>\n",
       "      <td>2.298673e+07</td>\n",
       "      <td>20</td>\n",
       "    </tr>\n",
       "    <tr>\n",
       "      <td>1027</td>\n",
       "      <td>1910</td>\n",
       "      <td>Ghana</td>\n",
       "      <td>2.219937e+07</td>\n",
       "      <td>21</td>\n",
       "    </tr>\n",
       "    <tr>\n",
       "      <td>6352</td>\n",
       "      <td>9938</td>\n",
       "      <td>Bangladesh</td>\n",
       "      <td>2.181961e+07</td>\n",
       "      <td>22</td>\n",
       "    </tr>\n",
       "    <tr>\n",
       "      <td>2092</td>\n",
       "      <td>3902</td>\n",
       "      <td>Egypt</td>\n",
       "      <td>2.179162e+07</td>\n",
       "      <td>23</td>\n",
       "    </tr>\n",
       "    <tr>\n",
       "      <td>930</td>\n",
       "      <td>1675</td>\n",
       "      <td>Ivory Coast</td>\n",
       "      <td>2.035184e+07</td>\n",
       "      <td>24</td>\n",
       "    </tr>\n",
       "    <tr>\n",
       "      <td>7803</td>\n",
       "      <td>12430</td>\n",
       "      <td>China</td>\n",
       "      <td>1.862358e+07</td>\n",
       "      <td>25</td>\n",
       "    </tr>\n",
       "    <tr>\n",
       "      <td>6442</td>\n",
       "      <td>10035</td>\n",
       "      <td>Bangladesh</td>\n",
       "      <td>1.842454e+07</td>\n",
       "      <td>26</td>\n",
       "    </tr>\n",
       "    <tr>\n",
       "      <td>7046</td>\n",
       "      <td>11136</td>\n",
       "      <td>Vietnam</td>\n",
       "      <td>1.748295e+07</td>\n",
       "      <td>27</td>\n",
       "    </tr>\n",
       "    <tr>\n",
       "      <td>2293</td>\n",
       "      <td>4335</td>\n",
       "      <td>Sudan</td>\n",
       "      <td>1.746343e+07</td>\n",
       "      <td>28</td>\n",
       "    </tr>\n",
       "    <tr>\n",
       "      <td>1635</td>\n",
       "      <td>2850</td>\n",
       "      <td>Cameroon</td>\n",
       "      <td>1.737199e+07</td>\n",
       "      <td>29</td>\n",
       "    </tr>\n",
       "    <tr>\n",
       "      <td>1740</td>\n",
       "      <td>3050</td>\n",
       "      <td>Angola</td>\n",
       "      <td>1.699746e+07</td>\n",
       "      <td>30</td>\n",
       "    </tr>\n",
       "    <tr>\n",
       "      <td>5304</td>\n",
       "      <td>8835</td>\n",
       "      <td>Sri Lanka</td>\n",
       "      <td>1.653412e+07</td>\n",
       "      <td>31</td>\n",
       "    </tr>\n",
       "    <tr>\n",
       "      <td>2535</td>\n",
       "      <td>4921</td>\n",
       "      <td>Saudi Arabia</td>\n",
       "      <td>1.591031e+07</td>\n",
       "      <td>32</td>\n",
       "    </tr>\n",
       "    <tr>\n",
       "      <td>1197</td>\n",
       "      <td>2189</td>\n",
       "      <td>Nigeria</td>\n",
       "      <td>1.537539e+07</td>\n",
       "      <td>33</td>\n",
       "    </tr>\n",
       "    <tr>\n",
       "      <td>8138</td>\n",
       "      <td>12964</td>\n",
       "      <td>Japan</td>\n",
       "      <td>1.502437e+07</td>\n",
       "      <td>34</td>\n",
       "    </tr>\n",
       "    <tr>\n",
       "      <td>566</td>\n",
       "      <td>1165</td>\n",
       "      <td>Brazil</td>\n",
       "      <td>1.465277e+07</td>\n",
       "      <td>35</td>\n",
       "    </tr>\n",
       "    <tr>\n",
       "      <td>6742</td>\n",
       "      <td>10692</td>\n",
       "      <td>Indonesia</td>\n",
       "      <td>1.462800e+07</td>\n",
       "      <td>36</td>\n",
       "    </tr>\n",
       "    <tr>\n",
       "      <td>1410</td>\n",
       "      <td>2484</td>\n",
       "      <td>Nigeria</td>\n",
       "      <td>1.436240e+07</td>\n",
       "      <td>37</td>\n",
       "    </tr>\n",
       "    <tr>\n",
       "      <td>805</td>\n",
       "      <td>1502</td>\n",
       "      <td>Guinea</td>\n",
       "      <td>1.389540e+07</td>\n",
       "      <td>38</td>\n",
       "    </tr>\n",
       "    <tr>\n",
       "      <td>982</td>\n",
       "      <td>1799</td>\n",
       "      <td>Burkina Faso</td>\n",
       "      <td>1.376358e+07</td>\n",
       "      <td>39</td>\n",
       "    </tr>\n",
       "    <tr>\n",
       "      <td>4470</td>\n",
       "      <td>7854</td>\n",
       "      <td>India</td>\n",
       "      <td>1.355210e+07</td>\n",
       "      <td>40</td>\n",
       "    </tr>\n",
       "    <tr>\n",
       "      <td>977</td>\n",
       "      <td>1785</td>\n",
       "      <td>Ghana</td>\n",
       "      <td>1.336038e+07</td>\n",
       "      <td>41</td>\n",
       "    </tr>\n",
       "    <tr>\n",
       "      <td>708</td>\n",
       "      <td>1361</td>\n",
       "      <td>Brazil</td>\n",
       "      <td>1.300253e+07</td>\n",
       "      <td>42</td>\n",
       "    </tr>\n",
       "    <tr>\n",
       "      <td>401</td>\n",
       "      <td>816</td>\n",
       "      <td>Dominican Republic</td>\n",
       "      <td>1.233740e+07</td>\n",
       "      <td>43</td>\n",
       "    </tr>\n",
       "    <tr>\n",
       "      <td>479</td>\n",
       "      <td>1006</td>\n",
       "      <td>Brazil</td>\n",
       "      <td>1.215648e+07</td>\n",
       "      <td>44</td>\n",
       "    </tr>\n",
       "    <tr>\n",
       "      <td>4599</td>\n",
       "      <td>8005</td>\n",
       "      <td>India</td>\n",
       "      <td>1.212506e+07</td>\n",
       "      <td>45</td>\n",
       "    </tr>\n",
       "    <tr>\n",
       "      <td>847</td>\n",
       "      <td>1553</td>\n",
       "      <td>Mali</td>\n",
       "      <td>1.145524e+07</td>\n",
       "      <td>46</td>\n",
       "    </tr>\n",
       "    <tr>\n",
       "      <td>8149</td>\n",
       "      <td>12981</td>\n",
       "      <td>Philippines</td>\n",
       "      <td>1.139943e+07</td>\n",
       "      <td>47</td>\n",
       "    </tr>\n",
       "    <tr>\n",
       "      <td>2589</td>\n",
       "      <td>5222</td>\n",
       "      <td>Tanzania</td>\n",
       "      <td>1.133983e+07</td>\n",
       "      <td>48</td>\n",
       "    </tr>\n",
       "    <tr>\n",
       "      <td>1088</td>\n",
       "      <td>2020</td>\n",
       "      <td>Togo</td>\n",
       "      <td>1.115482e+07</td>\n",
       "      <td>49</td>\n",
       "    </tr>\n",
       "    <tr>\n",
       "      <td>4970</td>\n",
       "      <td>8463</td>\n",
       "      <td>India</td>\n",
       "      <td>1.098985e+07</td>\n",
       "      <td>50</td>\n",
       "    </tr>\n",
       "  </tbody>\n",
       "</table>\n",
       "</div>"
      ],
      "text/plain": [
       "      ID_HDC_G0             CTR_MN_NM    coef_pdays  rank\n",
       "6293       9872            Bangladesh  1.101247e+08     1\n",
       "6757      10715              Thailand  9.350953e+07     2\n",
       "7456      11862             Indonesia  9.280246e+07     3\n",
       "7592      12080                 China  8.866874e+07     4\n",
       "8064      12829           Philippines  8.741375e+07     5\n",
       "3670       6955                 India  7.278390e+07     6\n",
       "7416      11800               Vietnam  6.933806e+07     7\n",
       "3569       6845                 India  6.487200e+07     8\n",
       "1157       2125               Nigeria  5.736711e+07     9\n",
       "3010       6169              Pakistan  5.023954e+07    10\n",
       "6115       9691                 India  4.980559e+07    11\n",
       "7237      11498             Singapore  4.259024e+07    12\n",
       "7049      11139              Malaysia  4.005976e+07    13\n",
       "5159       8675                 India  3.376740e+07    14\n",
       "6581      10248               Myanmar  3.087082e+07    15\n",
       "2931       5915  United Arab Emirates  2.755135e+07    16\n",
       "7783      12400                 China  2.640532e+07    17\n",
       "3242       6473              Pakistan  2.615718e+07    18\n",
       "3398       6651                 India  2.310778e+07    19\n",
       "3467       6728                 India  2.298673e+07    20\n",
       "1027       1910                 Ghana  2.219937e+07    21\n",
       "6352       9938            Bangladesh  2.181961e+07    22\n",
       "2092       3902                 Egypt  2.179162e+07    23\n",
       "930        1675           Ivory Coast  2.035184e+07    24\n",
       "7803      12430                 China  1.862358e+07    25\n",
       "6442      10035            Bangladesh  1.842454e+07    26\n",
       "7046      11136               Vietnam  1.748295e+07    27\n",
       "2293       4335                 Sudan  1.746343e+07    28\n",
       "1635       2850              Cameroon  1.737199e+07    29\n",
       "1740       3050                Angola  1.699746e+07    30\n",
       "5304       8835             Sri Lanka  1.653412e+07    31\n",
       "2535       4921          Saudi Arabia  1.591031e+07    32\n",
       "1197       2189               Nigeria  1.537539e+07    33\n",
       "8138      12964                 Japan  1.502437e+07    34\n",
       "566        1165                Brazil  1.465277e+07    35\n",
       "6742      10692             Indonesia  1.462800e+07    36\n",
       "1410       2484               Nigeria  1.436240e+07    37\n",
       "805        1502                Guinea  1.389540e+07    38\n",
       "982        1799          Burkina Faso  1.376358e+07    39\n",
       "4470       7854                 India  1.355210e+07    40\n",
       "977        1785                 Ghana  1.336038e+07    41\n",
       "708        1361                Brazil  1.300253e+07    42\n",
       "401         816    Dominican Republic  1.233740e+07    43\n",
       "479        1006                Brazil  1.215648e+07    44\n",
       "4599       8005                 India  1.212506e+07    45\n",
       "847        1553                  Mali  1.145524e+07    46\n",
       "8149      12981           Philippines  1.139943e+07    47\n",
       "2589       5222              Tanzania  1.133983e+07    48\n",
       "1088       2020                  Togo  1.115482e+07    49\n",
       "4970       8463                 India  1.098985e+07    50"
      ]
     },
     "execution_count": 14,
     "metadata": {},
     "output_type": "execute_result"
    }
   ],
   "source": [
    "#### Top Fifty Cities Worldwide Pdays\n",
    "data = city_coefs[['ID_HDC_G0', 'CTR_MN_NM', 'coef_pdays']].sort_values('coef_pdays', ascending = False)\n",
    "rank = list(range(1,len(data)+1))\n",
    "data['rank'] = rank\n",
    "data.head(50) # remove ; to show\n",
    "#round(data['coef_pdays'].head(5)/10**6, 0) # remove ; to show"
   ]
  },
  {
   "cell_type": "code",
   "execution_count": null,
   "metadata": {},
   "outputs": [],
   "source": [
    "def country_search(country):\n",
    "    \"what pct of cities had a p-day increase?\"\n",
    "    print('Num of Cities in '+country+' ', len(data[data['CTR_MN_NM'] == country]) / len(GHS[GHS['CTR_MN_NM'] == country]) *100)"
   ]
  },
  {
   "cell_type": "code",
   "execution_count": 36,
   "metadata": {},
   "outputs": [
    {
     "data": {
      "text/html": [
       "<div>\n",
       "<style scoped>\n",
       "    .dataframe tbody tr th:only-of-type {\n",
       "        vertical-align: middle;\n",
       "    }\n",
       "\n",
       "    .dataframe tbody tr th {\n",
       "        vertical-align: top;\n",
       "    }\n",
       "\n",
       "    .dataframe thead th {\n",
       "        text-align: right;\n",
       "    }\n",
       "</style>\n",
       "<table border=\"1\" class=\"dataframe\">\n",
       "  <thead>\n",
       "    <tr style=\"text-align: right;\">\n",
       "      <th></th>\n",
       "      <th>ID_HDC_G0</th>\n",
       "      <th>CTR_MN_NM</th>\n",
       "      <th>coef_pdays</th>\n",
       "      <th>rank</th>\n",
       "    </tr>\n",
       "  </thead>\n",
       "  <tbody>\n",
       "    <tr>\n",
       "      <td>3670</td>\n",
       "      <td>6955</td>\n",
       "      <td>India</td>\n",
       "      <td>7.278390e+07</td>\n",
       "      <td>6</td>\n",
       "    </tr>\n",
       "    <tr>\n",
       "      <td>3569</td>\n",
       "      <td>6845</td>\n",
       "      <td>India</td>\n",
       "      <td>6.487200e+07</td>\n",
       "      <td>8</td>\n",
       "    </tr>\n",
       "    <tr>\n",
       "      <td>6115</td>\n",
       "      <td>9691</td>\n",
       "      <td>India</td>\n",
       "      <td>4.980559e+07</td>\n",
       "      <td>11</td>\n",
       "    </tr>\n",
       "    <tr>\n",
       "      <td>5159</td>\n",
       "      <td>8675</td>\n",
       "      <td>India</td>\n",
       "      <td>3.376740e+07</td>\n",
       "      <td>14</td>\n",
       "    </tr>\n",
       "    <tr>\n",
       "      <td>3398</td>\n",
       "      <td>6651</td>\n",
       "      <td>India</td>\n",
       "      <td>2.310778e+07</td>\n",
       "      <td>19</td>\n",
       "    </tr>\n",
       "    <tr>\n",
       "      <td>3467</td>\n",
       "      <td>6728</td>\n",
       "      <td>India</td>\n",
       "      <td>2.298673e+07</td>\n",
       "      <td>20</td>\n",
       "    </tr>\n",
       "    <tr>\n",
       "      <td>4470</td>\n",
       "      <td>7854</td>\n",
       "      <td>India</td>\n",
       "      <td>1.355210e+07</td>\n",
       "      <td>40</td>\n",
       "    </tr>\n",
       "    <tr>\n",
       "      <td>4599</td>\n",
       "      <td>8005</td>\n",
       "      <td>India</td>\n",
       "      <td>1.212506e+07</td>\n",
       "      <td>45</td>\n",
       "    </tr>\n",
       "    <tr>\n",
       "      <td>4970</td>\n",
       "      <td>8463</td>\n",
       "      <td>India</td>\n",
       "      <td>1.098985e+07</td>\n",
       "      <td>50</td>\n",
       "    </tr>\n",
       "  </tbody>\n",
       "</table>\n",
       "</div>"
      ],
      "text/plain": [
       "      ID_HDC_G0 CTR_MN_NM    coef_pdays  rank\n",
       "3670       6955     India  7.278390e+07     6\n",
       "3569       6845     India  6.487200e+07     8\n",
       "6115       9691     India  4.980559e+07    11\n",
       "5159       8675     India  3.376740e+07    14\n",
       "3398       6651     India  2.310778e+07    19\n",
       "3467       6728     India  2.298673e+07    20\n",
       "4470       7854     India  1.355210e+07    40\n",
       "4599       8005     India  1.212506e+07    45\n",
       "4970       8463     India  1.098985e+07    50"
      ]
     },
     "execution_count": 36,
     "metadata": {},
     "output_type": "execute_result"
    }
   ],
   "source": [
    "cities = data.head(50)\n",
    "cities[cities['CTR_MN_NM'] == 'India']"
   ]
  },
  {
   "cell_type": "code",
   "execution_count": null,
   "metadata": {},
   "outputs": [],
   "source": [
    "country_search('Senegal')"
   ]
  },
  {
   "cell_type": "code",
   "execution_count": null,
   "metadata": {},
   "outputs": [],
   "source": [
    "country_search('Nigeria')"
   ]
  },
  {
   "cell_type": "markdown",
   "metadata": {},
   "source": [
    "1.502437e+07 / 10**6"
   ]
  },
  {
   "cell_type": "code",
   "execution_count": 52,
   "metadata": {
    "scrolled": true
   },
   "outputs": [
    {
     "data": {
      "text/plain": [
       "15.02437"
      ]
     },
     "execution_count": 52,
     "metadata": {},
     "output_type": "execute_result"
    }
   ],
   "source": [
    "1.502437e+07 / 10**6"
   ]
  },
  {
   "cell_type": "code",
   "execution_count": 64,
   "metadata": {},
   "outputs": [
    {
     "name": "stdout",
     "output_type": "stream",
     "text": [
      "Tokyo pdays days: [15024365.25712823]\n",
      "Tokyo pdays heat days: [9747286.23462754]\n",
      "Tokyo pdays heat days: [5277079.02250069]\n"
     ]
    }
   ],
   "source": [
    "#### What about Tokyo?\n",
    "# 12964\n",
    "print('Tokyo pdays days:', city_coefs[city_coefs['ID_HDC_G0'] == 12964]['coef_pdays'].values)\n",
    "print('Tokyo pdays heat days:', city_coefs[city_coefs['ID_HDC_G0'] == 12964]['coef_heat'].values)\n",
    "print('Tokyo pdays heat days:', city_coefs[city_coefs['ID_HDC_G0'] == 12964]['coef_pop'].values)\n"
   ]
  },
  {
   "cell_type": "code",
   "execution_count": 65,
   "metadata": {},
   "outputs": [
    {
     "name": "stdout",
     "output_type": "stream",
     "text": [
      "Contribution from heat in Tokyo 64.8765260149875\n"
     ]
    }
   ],
   "source": [
    "print('Contribution from heat in Tokyo', 9747286.23462754/15024365.25712823*100)"
   ]
  },
  {
   "cell_type": "markdown",
   "metadata": {},
   "source": [
    "#### Total Days "
   ]
  },
  {
   "cell_type": "code",
   "execution_count": 20,
   "metadata": {},
   "outputs": [],
   "source": [
    "city_totdays = pd.read_csv(DATA_IN+'processed/AllDATA-GHS-ERA5-HI406-MAPDATA_TOTDAYS_P05.csv')"
   ]
  },
  {
   "cell_type": "code",
   "execution_count": 31,
   "metadata": {
    "scrolled": true
   },
   "outputs": [
    {
     "name": "stdout",
     "output_type": "stream",
     "text": [
      "Num of Cities in India : 89.77832512315271\n"
     ]
    }
   ],
   "source": [
    "#### How many cities in India?\n",
    "print('Num of Cities in India :', len(data[data['CTR_MN_NM'] == 'India']) / len(GHS[GHS['CTR_MN_NM'] == 'India']) *100)"
   ]
  },
  {
   "cell_type": "code",
   "execution_count": 38,
   "metadata": {},
   "outputs": [
    {
     "name": "stdout",
     "output_type": "stream",
     "text": [
      "Num of Cities in Nigeria : 81.98757763975155\n"
     ]
    }
   ],
   "source": [
    "#### How many cities in Nigeria?\n",
    "print('Num of Cities in Nigeria :', len(data[data['CTR_MN_NM'] == 'Nigeria']) / len(GHS[GHS['CTR_MN_NM'] == 'Nigeria']) *100)"
   ]
  },
  {
   "cell_type": "code",
   "execution_count": 21,
   "metadata": {},
   "outputs": [
    {
     "data": {
      "text/plain": [
       "7131"
      ]
     },
     "execution_count": 21,
     "metadata": {},
     "output_type": "execute_result"
    }
   ],
   "source": [
    "len(city_totdays)"
   ]
  },
  {
   "cell_type": "code",
   "execution_count": 36,
   "metadata": {},
   "outputs": [],
   "source": [
    "## How many cities day increase per year ... 1, 3\n",
    "top = len(city_totdays)\n",
    "bottom = len(city_totdays[city_totdays['coef_totDays'] >= 3])"
   ]
  },
  {
   "cell_type": "code",
   "execution_count": 19,
   "metadata": {},
   "outputs": [
    {
     "data": {
      "text/plain": [
       "Index(['Unnamed: 0', 'ID_HDC_G0', 'coef_pdays', 'p_value_pdays',\n",
       "       'ci_left_pdays', 'ci_right_pdays', 'coef_heat', 'p_value_heat',\n",
       "       'ci_left_heat', 'ci_right_heat', 'coef_pop', 'p_value_pop',\n",
       "       'ci_left_pop', 'ci_right_pop', 'coef_totDays', 'p_value_totDays',\n",
       "       'ci_left_totDays', 'ci_right_totDays', 'coef_attrib',\n",
       "       'coef_attrib_left', 'coef_attrib_right', 'coef_attrib_norm',\n",
       "       'coef_attrib_norm_left', 'coef_attrib_norm_right', 'region',\n",
       "       'intermediate-region', 'sub-region', 'CTR_MN_NM', 'GCPNT_LAT',\n",
       "       'GCPNT_LON', 'P1983', 'P2016'],\n",
       "      dtype='object')"
      ]
     },
     "execution_count": 19,
     "metadata": {},
     "output_type": "execute_result"
    }
   ],
   "source": [
    "city_totadays.columns"
   ]
  },
  {
   "cell_type": "code",
   "execution_count": 37,
   "metadata": {
    "scrolled": true
   },
   "outputs": [
    {
     "name": "stdout",
     "output_type": "stream",
     "text": [
      "7131\n",
      "154\n"
     ]
    }
   ],
   "source": [
    "print(top)\n",
    "print(bottom)"
   ]
  },
  {
   "cell_type": "code",
   "execution_count": 48,
   "metadata": {},
   "outputs": [
    {
     "name": "stdout",
     "output_type": "stream",
     "text": [
      "columbo tot days: [3.05592055]\n",
      "San Sal tot days: [3.84033613]\n"
     ]
    }
   ],
   "source": [
    "#### Columbo & San Salvador\n",
    "print('columbo tot days:', city_totdays[city_totdays['ID_HDC_G0'] == 8835]['coef_totDays'].values)\n",
    "print('San Sal tot days:', city_totdays[city_totdays['ID_HDC_G0'] == 321]['coef_totDays'].values)"
   ]
  },
  {
   "cell_type": "markdown",
   "metadata": {},
   "source": [
    "# Regional Trends"
   ]
  },
  {
   "cell_type": "code",
   "execution_count": 57,
   "metadata": {},
   "outputs": [
    {
     "name": "stdout",
     "output_type": "stream",
     "text": [
      "annual increase in people days Australia and New Zealand was 1.791013  p= 0.0\n",
      "annual increase in people days heat Australia and New Zealand was 0.901771  p= 0.0\n",
      "annual increase in people days pop Australia and New Zealand was 0.889242  p= 0.0\n",
      "attrib heat Australia and New Zealand was 50.34977412224255  p= 0.0 \n",
      "\n",
      "annual increase in people days Central Asia was 1.156314  p= 0.0\n",
      "annual increase in people days heat Central Asia was 0.49997  p= 0.0\n",
      "annual increase in people days pop Central Asia was 0.656344  p= 0.0\n",
      "attrib heat Central Asia was 43.2382553527848  p= 0.0 \n",
      "\n",
      "annual increase in people days Eastern Asia was 453.078748  p= 0.0\n",
      "annual increase in people days heat Eastern Asia was 157.375669  p= 0.0\n",
      "annual increase in people days pop Eastern Asia was 295.703078  p= 0.0\n",
      "attrib heat Eastern Asia was 34.734727615165035  p= 0.0 \n",
      "\n",
      "annual increase in people days Eastern Europe was 7.947795  p= 0.011\n",
      "annual increase in people days heat Eastern Europe was 7.680745  p= 0.011\n",
      "annual increase in people days pop Eastern Europe was 0.26705  p= 0.011\n",
      "attrib heat Eastern Europe was 96.63994856435025  p= 0.011 \n",
      "\n",
      "annual increase in people days Latin America and the Caribbean was 312.891385  p= 0.0\n",
      "annual increase in people days heat Latin America and the Caribbean was 107.246358  p= 0.0\n",
      "annual increase in people days pop Latin America and the Caribbean was 205.645027  p= 0.0\n",
      "attrib heat Latin America and the Caribbean was 34.27590631809821  p= 0.0 \n",
      "\n",
      "annual increase in people days Melanesia was 4.207789  p= 0.0\n",
      "annual increase in people days heat Melanesia was 1.089444  p= 0.0\n",
      "annual increase in people days pop Melanesia was 3.118345  p= 0.0\n",
      "attrib heat Melanesia was 25.891127145396307  p= 0.0 \n",
      "\n",
      "annual increase in people days Northern Africa was 136.850507  p= 0.0\n",
      "annual increase in people days heat Northern Africa was 31.360297  p= 0.0\n",
      "annual increase in people days pop Northern Africa was 105.49021  p= 0.0\n",
      "attrib heat Northern Africa was 22.915733151065346  p= 0.0 \n",
      "\n",
      "annual increase in people days Northern America was 64.248562  p= 0.0\n",
      "annual increase in people days heat Northern America was 16.815363  p= 0.0\n",
      "annual increase in people days pop Northern America was 47.433199  p= 0.0\n",
      "attrib heat Northern America was 26.172356978199762  p= 0.0 \n",
      "\n",
      "annual increase in people days Northern Europe was 0.049474  p= 0.074\n",
      "annual increase in people days heat Northern Europe was 0.066126  p= 0.074\n",
      "annual increase in people days pop Northern Europe was -0.016652  p= 0.074\n",
      "attrib heat Northern Europe was 133.65808303351255  p= 0.074 \n",
      "\n",
      "annual increase in people days South-eastern Asia was 944.292561  p= 0.0\n",
      "annual increase in people days heat South-eastern Asia was 244.339398  p= 0.0\n",
      "annual increase in people days pop South-eastern Asia was 699.953163  p= 0.0\n",
      "attrib heat South-eastern Asia was 25.875391599108443  p= 0.0 \n",
      "\n",
      "annual increase in people days Southern Asia was 1899.70765  p= 0.0\n",
      "annual increase in people days heat Southern Asia was 536.149806  p= 0.0\n",
      "annual increase in people days pop Southern Asia was 1363.557844  p= 0.0\n",
      "attrib heat Southern Asia was 28.222753432613697  p= 0.0 \n",
      "\n",
      "annual increase in people days Southern Europe was 6.562473  p= 0.0\n",
      "annual increase in people days heat Southern Europe was 5.788761  p= 0.0\n",
      "annual increase in people days pop Southern Europe was 0.773712  p= 0.0\n",
      "attrib heat Southern Europe was 88.21005434993789  p= 0.0 \n",
      "\n",
      "annual increase in people days Sub-Saharan Africa was 886.691157  p= 0.0\n",
      "annual increase in people days heat Sub-Saharan Africa was 140.630122  p= 0.0\n",
      "annual increase in people days pop Sub-Saharan Africa was 746.061035  p= 0.0\n",
      "attrib heat Sub-Saharan Africa was 15.860102008438098  p= 0.0 \n",
      "\n",
      "annual increase in people days Western Asia was 522.159127  p= 0.0\n",
      "annual increase in people days heat Western Asia was 116.183003  p= 0.0\n",
      "annual increase in people days pop Western Asia was 405.976123  p= 0.0\n",
      "attrib heat Western Asia was 22.250497404405227  p= 0.0 \n",
      "\n",
      "annual increase in people days Western Europe was 3.511707  p= 0.003\n",
      "annual increase in people days heat Western Europe was 3.004683  p= 0.003\n",
      "annual increase in people days pop Western Europe was 0.507024  p= 0.003\n",
      "attrib heat Western Europe was 85.56189340397704  p= 0.003 \n",
      "\n"
     ]
    }
   ],
   "source": [
    "#### Annual Rates\n",
    "\n",
    "scale = 10**6\n",
    "\n",
    "for label in np.unique(HI_STATS['sub-region']):\n",
    "    geog = 'sub-region'\n",
    "    label = label\n",
    "    data = HI_STATS[HI_STATS[geog] == label]\n",
    "    \n",
    "    #### Rate of change\n",
    "    coef, r2, p = lm_func(data, 'people_days')\n",
    "    print('annual increase in people days '+label, 'was', coef/scale, ' p=', p)\n",
    "    coef1, r21, p1 = lm_func(data, 'people_days_heat')\n",
    "    print('annual increase in people days heat '+label, 'was', coef1/scale, ' p=', p)\n",
    "    coef2, r22, p2 = lm_func(data, 'people_days_pop')\n",
    "    print('annual increase in people days pop '+label, 'was', coef2/scale, ' p=', p)\n",
    "    print('attrib heat '+label, 'was', coef1 / coef *100, ' p=', p, '\\n')\n",
    "  "
   ]
  },
  {
   "cell_type": "code",
   "execution_count": 61,
   "metadata": {},
   "outputs": [
    {
     "name": "stdout",
     "output_type": "stream",
     "text": [
      "pct of total pdays from S Asia is  36.218392240142734\n"
     ]
    }
   ],
   "source": [
    "#### S Asia as pct of total  global = 5.245146271 B \n",
    "\n",
    "print('pct of total pdays from S Asia is ', 1899.70765 / 10**3 / 5.245146271 * 100)"
   ]
  },
  {
   "cell_type": "code",
   "execution_count": 79,
   "metadata": {},
   "outputs": [
    {
     "name": "stdout",
     "output_type": "stream",
     "text": [
      "Europe coef_heat is  11.345571726038768\n"
     ]
    }
   ],
   "source": [
    "#### Median Slope\n",
    "region = 'Europe'\n",
    "col = 'coef_heat'\n",
    "geog = 'region'\n",
    "scale = 10**3\n",
    "result = city_coefs[city_coefs[geog]== region][col].median()\n",
    "print(region, col, 'is ', result/scale)"
   ]
  },
  {
   "cell_type": "markdown",
   "metadata": {},
   "source": [
    "# Trend First vs. Second Half of Data"
   ]
  },
  {
   "cell_type": "code",
   "execution_count": null,
   "metadata": {},
   "outputs": [],
   "source": [
    "data.head()"
   ]
  },
  {
   "cell_type": "code",
   "execution_count": null,
   "metadata": {},
   "outputs": [],
   "source": [
    "#### Share of exposure due to heat by 17 year split\n",
    "\n",
    "## 1983 - 1999\n",
    "data1 = HI_STATS[(HI_STATS['year'] >= 1983) & (HI_STATS['year'] < 2000)]\n",
    "coef1pop , r21pop, p1pop  = lm_func(data1 , 'people_days_pop')\n",
    "coef1heat , r21heat, p1heat = lm_func(data1 , 'people_days_heat')\n",
    "\n",
    "years = list(np.unique(data1['year']))\n",
    "plt.plot(years, data1.groupby('year')['people_days_heat'].sum())\n",
    "sns.regplot(years, data1.groupby('year')['people_days_heat'].sum(), \n",
    "            color = 'blue', scatter = False, truncate = True)\n",
    "\n",
    "## 2000 - 2016\n",
    "data2 = HI_STATS[(HI_STATS['year'] >= 2000) & (HI_STATS['year'] <= 2016)]\n",
    "coef2heat , r22heat, p2heat = lm_func(data2 , 'people_days_heat')\n",
    "coef2pop , r22pop, p1pop  = lm_func(data2 , 'people_days_pop')\n",
    "\n",
    "years = list(np.unique(data1['year']))\n",
    "plt.plot(years, data2.groupby('year')['people_days_heat'].sum())\n",
    "sns.regplot(years, data2.groupby('year')['people_days_heat'].sum(), \n",
    "            color = 'orange', scatter = False, truncate = True)"
   ]
  },
  {
   "cell_type": "code",
   "execution_count": null,
   "metadata": {},
   "outputs": [],
   "source": [
    "## 2000 - 2016\n",
    "data2pop = HI_STATS[(HI_STATS['year'] >= 1983) & (HI_STATS['year'] < 2000)]\n",
    "coef2pop , r22pop, p1pop  = lm_func(data2pop , 'people_days_pop')\n",
    "\n",
    "data2heat = HI_STATS[(HI_STATS['year'] >= 2000) & (HI_STATS['year'] <= 2016)]\n",
    "coef2heat , r22heat, p2heat = lm_func(data2heat , 'people_days_heat')\n"
   ]
  },
  {
   "cell_type": "code",
   "execution_count": null,
   "metadata": {
    "scrolled": true
   },
   "outputs": [],
   "source": [
    "## Estimates\n",
    "print('From 83 - 99, contribution from heat was', coef1heat/(coef1pop+coef1heat))\n",
    "print('From 00 - 16, contribution from heat was', coef2heat/(coef2pop+coef2heat))\n",
    "print('From 83 - 00, heat was', coef1heat/10**9, round(p1heat, 3))\n",
    "print('From 00 - 16, heat was', coef2heat/10**9)\n",
    "print('From 83 - 00, pop was', coef1pop/10**9)\n",
    "print('From 00 - 16, pop was', coef2pop/10**9)"
   ]
  },
  {
   "cell_type": "markdown",
   "metadata": {},
   "source": [
    "# Old Code"
   ]
  },
  {
   "cell_type": "code",
   "execution_count": null,
   "metadata": {},
   "outputs": [],
   "source": [
    "### Rates of exposure due to pop or heat (switch cols)\n",
    "\n",
    "col = 'coef_pop' # 'coef_heat'\n",
    "for label in np.unique(all_coefs['sub-region']):\n",
    "    geog = 'sub-region'\n",
    "    label = label\n",
    "    data = all_coefs[all_coefs[geog] == label]c\n",
    "    results = data[col].quantile([.25, .5, .75])\n",
    "    \n",
    "    print(label, ' ', results)\n",
    "    print('median', data[col].median(), '\\n')"
   ]
  },
  {
   "cell_type": "code",
   "execution_count": null,
   "metadata": {},
   "outputs": [],
   "source": [
    "#### Delhi\n",
    "city = 6955\n",
    "data = HI_STATS[HI_STATS['ID_HDC_G0'] == city]\n",
    "coef, r2, p = lm_func(data, 'people_days')\n",
    "print('Delhi increased', coef / 10**6)"
   ]
  },
  {
   "cell_type": "code",
   "execution_count": null,
   "metadata": {},
   "outputs": [],
   "source": [
    "#### Lagos\n",
    "city = 2125\n",
    "data = HI_STATS[HI_STATS['ID_HDC_G0'] == city]\n",
    "coef, r2, p = lm_func(data, 'people_days')\n",
    "print('Lagos increased', coef)"
   ]
  },
  {
   "cell_type": "code",
   "execution_count": null,
   "metadata": {},
   "outputs": [],
   "source": [
    "## T-test w/ 17 samples each\n"
   ]
  },
  {
   "cell_type": "code",
   "execution_count": null,
   "metadata": {},
   "outputs": [],
   "source": [
    "#### Miami \n",
    "city = 556\n",
    "data = HI_STATS[HI_STATS['ID_HDC_G0'] == city]\n",
    "coef, r2, p = lm_func(data, 'people_days')\n",
    "print('Miami increased', coef)"
   ]
  },
  {
   "cell_type": "code",
   "execution_count": null,
   "metadata": {},
   "outputs": [],
   "source": [
    "#### Top Fifty Cities Worldwide Heating\n",
    "data = all_coefs[['ID_HDC_G0', 'CTR_MN_NM', 'coef_totDays']].sort_values('coef_totDays', ascending = False)\n",
    "rank = list(range(1,len(data)+1))\n",
    "data['rank'] = rank\n",
    "data.head(50)"
   ]
  },
  {
   "cell_type": "code",
   "execution_count": null,
   "metadata": {},
   "outputs": [],
   "source": [
    "#### How many cities out all cities experienced warmingp\n",
    "print('globally : ', len(HI_STATS.drop_duplicates('ID_HDC_G0')) /len(GHS))\n",
    "\n",
    "## India\n",
    "\n"
   ]
  },
  {
   "cell_type": "code",
   "execution_count": null,
   "metadata": {},
   "outputs": [],
   "source": [
    "### Rates of exposure due to pop or heat (switch cols)\n",
    "\n",
    "col = 'coef_pop' # 'coef_heat'\n",
    "for label in np.unique(all_coefs['sub-region']):\n",
    "    geog = 'sub-region'\n",
    "    label = label\n",
    "    data = all_coefs[all_coefs[geog] == label]\n",
    "    results = data[col].quantile([.25, .5, .75])\n",
    "    \n",
    "    print(label, ' ', results)\n",
    "    print('median', data[col].median(), '\\n')"
   ]
  },
  {
   "cell_type": "code",
   "execution_count": 63,
   "metadata": {},
   "outputs": [
    {
     "name": "stdout",
     "output_type": "stream",
     "text": [
      "pct annual increase in people days Australia and New Zealand was 0.03485735009675085  p= 0.0\n",
      "pct annual increase in people days heat Australia and New Zealand was 0.07647161977686948  p= 0.0\n",
      "pct annual increase in people days pop Australia and New Zealand was 0.022461854500425427  p= 0.0 \n",
      "\n",
      "pct annual increase in people days Central Asia was 0.022504606007758943  p= 0.0\n",
      "pct annual increase in people days heat Central Asia was 0.042398253813708174  p= 0.0\n",
      "pct annual increase in people days pop Central Asia was 0.0165789553689853  p= 0.0 \n",
      "\n",
      "pct annual increase in people days Eastern Asia was 8.81798431414711  p= 0.0\n",
      "pct annual increase in people days heat Eastern Asia was 13.345707859199804  p= 0.0\n",
      "pct annual increase in people days pop Eastern Asia was 7.469327262279505  p= 0.0 \n",
      "\n",
      "pct annual increase in people days Eastern Europe was 0.1546828933191473  p= 0.011\n",
      "pct annual increase in people days heat Eastern Europe was 0.6513394323426805  p= 0.011\n",
      "pct annual increase in people days pop Eastern Europe was 0.006745563349840212  p= 0.011 \n",
      "\n",
      "pct annual increase in people days Latin America and the Caribbean was 6.08960657974133  p= 0.0\n",
      "pct annual increase in people days heat Latin America and the Caribbean was 9.094662293897258  p= 0.0\n",
      "pct annual increase in people days pop Latin America and the Caribbean was 5.19450124399214  p= 0.0 \n",
      "\n",
      "pct annual increase in people days Melanesia was 0.0818935285820132  p= 0.0\n",
      "pct annual increase in people days heat Melanesia was 0.09238658965102203  p= 0.0\n",
      "pct annual increase in people days pop Melanesia was 0.07876799754412087  p= 0.0 \n",
      "\n",
      "pct annual increase in people days Northern Africa was 2.663434622427003  p= 0.0\n",
      "pct annual increase in people days heat Northern Africa was 2.6594032279522195  p= 0.0\n",
      "pct annual increase in people days pop Northern Africa was 2.664635440340563  p= 0.0 \n",
      "\n",
      "pct annual increase in people days Northern America was 1.2504290135508807  p= 0.0\n",
      "pct annual increase in people days heat Northern America was 1.4259696150641785  p= 0.0\n",
      "pct annual increase in people days pop Northern America was 1.1981413545780841  p= 0.0 \n",
      "\n",
      "pct annual increase in people days Northern Europe was 0.0009628810838819438  p= 0.074\n",
      "pct annual increase in people days heat Northern Europe was 0.005607590318789661  p= 0.074\n",
      "pct annual increase in people days pop Northern Europe was -0.00042062205917071417  p= 0.074 \n",
      "\n",
      "pct annual increase in people days South-eastern Asia was 18.378167211815025  p= 0.0\n",
      "pct annual increase in people days heat South-eastern Asia was 20.720370848436225  p= 0.0\n",
      "pct annual increase in people days pop South-eastern Asia was 17.680503287539906  p= 0.0 \n",
      "\n",
      "pct annual increase in people days Southern Asia was 36.97280513180297  p= 0.0\n",
      "pct annual increase in people days heat Southern Asia was 45.46635909546252  p= 0.0\n",
      "pct annual increase in people days pop Southern Asia was 34.442860205480386  p= 0.0 \n",
      "\n",
      "pct annual increase in people days Southern Europe was 0.1277212498521646  p= 0.0\n",
      "pct annual increase in people days heat Southern Europe was 0.4908961700599939  p= 0.0\n",
      "pct annual increase in people days pop Southern Europe was 0.019543618462952893  p= 0.0 \n",
      "\n",
      "pct annual increase in people days Sub-Saharan Africa was 17.25710761856116  p= 0.0\n",
      "pct annual increase in people days heat Sub-Saharan Africa was 11.925658752342633  p= 0.0\n",
      "pct annual increase in people days pop Sub-Saharan Africa was 18.845167475902848  p= 0.0 \n",
      "\n",
      "pct annual increase in people days Western Asia was 10.162451917463912  p= 0.0\n",
      "pct annual increase in people days heat Western Asia was 9.852504050308655  p= 0.0\n",
      "pct annual increase in people days pop Western Asia was 10.254774971799371  p= 0.0 \n",
      "\n",
      "pct annual increase in people days Western Europe was 0.06834612609523809  p= 0.003\n",
      "pct annual increase in people days heat Western Europe was 0.25480191304225075  p= 0.003\n",
      "pct annual increase in people days pop Western Europe was 0.012807199070920742  p= 0.003 \n",
      "\n"
     ]
    }
   ],
   "source": [
    "#### Which region contributed the most people-days from warming and Pop?\n",
    "\n",
    "global_pdays = 5138.121501 * 10**6\n",
    "global_heat = 1179.223093 * 10**6# see above\n",
    "global_pop = 3958.898407 * 10**6\n",
    "\n",
    "for label in np.unique(HI_STATS['sub-region']):\n",
    "    geog = 'sub-region'\n",
    "    label = label\n",
    "    data = HI_STATS[HI_STATS[geog] == label]\n",
    "    \n",
    "    #### Rate of change\n",
    "    coef, r2, p = lm_func(data, 'people_days')\n",
    "    print('pct annual increase in people days '+label, 'was', coef/global_pdays * 100 , ' p=', p)\n",
    "    coef1, r21, p1 = lm_func(data, 'people_days_heat')\n",
    "    print('pct annual increase in people days heat '+label, 'was', coef1/global_heat * 100 , ' p=', p)\n",
    "    coef2, r22, p2 = lm_func(data, 'people_days_pop')\n",
    "    print('pct annual increase in people days pop '+label, 'was', coef2/global_pop * 100 , ' p=', p, '\\n')\n",
    "\n",
    "  "
   ]
  },
  {
   "cell_type": "code",
   "execution_count": null,
   "metadata": {},
   "outputs": [],
   "source": [
    "#### Total Change in people Days\n",
    "\n",
    "for label in np.unique(HI_STATS['sub-region']):\n",
    "    geog = 'sub-region'\n",
    "    label = label\n",
    "    data = HI_STATS[HI_STATS[geog] == label]\n",
    "    \n",
    "    #### Change 1983 - 2016 \n",
    "    data = data.groupby('year')['people_days'].sum()\n",
    "    year1 = str(data.index[33])\n",
    "    value1 = data.values[33]/10**9\n",
    "    print(label,' person days in 2016 was ',value1,' billion')\n",
    "\n",
    "    year2 = str(data.index[0])\n",
    "    value2 = data.values[0]/10**9\n",
    "    print(label,' person days in 1983 was ', value2, ' billion')\n",
    "    \n",
    "    #### Total Change \n",
    "    print('Total change was', (value1 - value2) * 10**3, ' person-days')\n",
    "\n",
    "    #### Pct Change in Poeple Days 1983 - 2016\n",
    "    pdays16 = data.iloc[len(data) -1]\n",
    "    pdays83 = data.iloc[0]\n",
    "    out = (data.iloc[len(data) -1] - data.iloc[0]) / data.iloc[0] * 100\n",
    "    print(label,' pct increase in people days 83 - 16 is ', out, '\\n')\n",
    "    "
   ]
  },
  {
   "cell_type": "code",
   "execution_count": 62,
   "metadata": {},
   "outputs": [
    {
     "name": "stdout",
     "output_type": "stream",
     "text": [
      "Europe  person days in 2016 was  0.6455211809221928  billion\n",
      "Europe  person days in 1983 was  0.23054503717622266  billion\n",
      "Total change was 414.97614374597015  person-days\n",
      "Europe  pct increase in people days 83 - 16 is  179.99786455119965 \n",
      "\n"
     ]
    }
   ],
   "source": [
    "#### 2016 vs 2983\n",
    "geog = 'region'\n",
    "label = 'Europe'\n",
    "data = HI_STATS[HI_STATS[geog] == label]\n",
    "data = data.groupby('year')['people_days'].sum()\n",
    "year1 = str(data.index[33])\n",
    "value1 = data.values[33]/10**9\n",
    "print(label,' person days in 2016 was ',value1,' billion')\n",
    "\n",
    "year2 = str(data.index[0])\n",
    "value2 = data.values[0]/10**9\n",
    "print(label,' person days in 1983 was ', value2, ' billion')\n",
    "\n",
    "#### Total Change \n",
    "print('Total change was', (value1 - value2) * 10**3, ' person-days')\n",
    "\n",
    "#### Pct Change in Poeple Days 1983 - 2016\n",
    "pdays16 = data.iloc[len(data) -1]\n",
    "pdays83 = data.iloc[0]\n",
    "out = (data.iloc[len(data) -1] - data.iloc[0]) / data.iloc[0] * 100\n",
    "print(label,' pct increase in people days 83 - 16 is ', out, '\\n')"
   ]
  },
  {
   "cell_type": "code",
   "execution_count": null,
   "metadata": {},
   "outputs": [],
   "source": [
    "### Rates of exposure due to pop or heat (switch cols)\n",
    "\n",
    "col = 'coef_pop' # 'coef_heat'\n",
    "for label in np.unique(all_coefs['sub-region']):\n",
    "    geog = 'sub-region'\n",
    "    label = label\n",
    "    data = all_coefs[all_coefs[geog] == label]\n",
    "    results = data[col].quantile([.25, .5, .75])\n",
    "    \n",
    "    print(label, ' ', results)\n",
    "    print('median', data[col].median(), '\\n')"
   ]
  },
  {
   "cell_type": "code",
   "execution_count": null,
   "metadata": {},
   "outputs": [],
   "source": [
    "#### Delhi\n",
    "city = 6955\n",
    "data = HI_STATS[HI_STATS['ID_HDC_G0'] == city]\n",
    "coef, r2, p = lm_func(data, 'people_days')\n",
    "print('Delhi increased', coef / 10**6)"
   ]
  },
  {
   "cell_type": "code",
   "execution_count": null,
   "metadata": {},
   "outputs": [],
   "source": [
    "#### Lagos\n",
    "city = 2125\n",
    "data = HI_STATS[HI_STATS['ID_HDC_G0'] == city]\n",
    "coef, r2, p = lm_func(data, 'people_days')\n",
    "print('Lagos increased', coef)"
   ]
  },
  {
   "cell_type": "code",
   "execution_count": null,
   "metadata": {},
   "outputs": [],
   "source": [
    "#### Miami \n",
    "city = 556\n",
    "data = HI_STATS[HI_STATS['ID_HDC_G0'] == city]\n",
    "coef, r2, p = lm_func(data, 'people_days')\n",
    "print('Miami increased', coef)"
   ]
  },
  {
   "cell_type": "code",
   "execution_count": null,
   "metadata": {},
   "outputs": [],
   "source": [
    "#### Top Fifty Cities Worldwide Heating\n",
    "data = all_coefs[['ID_HDC_G0', 'CTR_MN_NM', 'coef_totDays']].sort_values('coef_totDays', ascending = False)\n",
    "rank = list(range(1,len(data)+1))\n",
    "data['rank'] = rank\n",
    "data.head(50)"
   ]
  },
  {
   "cell_type": "code",
   "execution_count": null,
   "metadata": {},
   "outputs": [],
   "source": [
    "#### How many cities out all cities experienced warmingp\n",
    "print('globally : ', len(HI_STATS.drop_duplicates('ID_HDC_G0')) /len(GHS))\n",
    "\n",
    "## India\n",
    "\n"
   ]
  },
  {
   "cell_type": "code",
   "execution_count": null,
   "metadata": {},
   "outputs": [],
   "source": [
    "### Rates of exposure due to pop or heat (switch cols)\n",
    "\n",
    "col = 'coef_pop' # 'coef_heat'\n",
    "for label in np.unique(all_coefs['sub-region']):\n",
    "    geog = 'sub-region'\n",
    "    label = label\n",
    "    data = all_coefs[all_coefs[geog] == label]\n",
    "    results = data[col].quantile([.25, .5, .75])\n",
    "    \n",
    "    print(label, ' ', results)\n",
    "    print('median', data[col].median(), '\\n')"
   ]
  },
  {
   "cell_type": "code",
   "execution_count": 63,
   "metadata": {
    "scrolled": true
   },
   "outputs": [
    {
     "name": "stdout",
     "output_type": "stream",
     "text": [
      "pct annual increase in people days Australia and New Zealand was 0.03485735009675085  p= 0.0\n",
      "pct annual increase in people days heat Australia and New Zealand was 0.07647161977686948  p= 0.0\n",
      "pct annual increase in people days pop Australia and New Zealand was 0.022461854500425427  p= 0.0 \n",
      "\n",
      "pct annual increase in people days Central Asia was 0.022504606007758943  p= 0.0\n",
      "pct annual increase in people days heat Central Asia was 0.042398253813708174  p= 0.0\n",
      "pct annual increase in people days pop Central Asia was 0.0165789553689853  p= 0.0 \n",
      "\n",
      "pct annual increase in people days Eastern Asia was 8.81798431414711  p= 0.0\n",
      "pct annual increase in people days heat Eastern Asia was 13.345707859199804  p= 0.0\n",
      "pct annual increase in people days pop Eastern Asia was 7.469327262279505  p= 0.0 \n",
      "\n",
      "pct annual increase in people days Eastern Europe was 0.1546828933191473  p= 0.011\n",
      "pct annual increase in people days heat Eastern Europe was 0.6513394323426805  p= 0.011\n",
      "pct annual increase in people days pop Eastern Europe was 0.006745563349840212  p= 0.011 \n",
      "\n",
      "pct annual increase in people days Latin America and the Caribbean was 6.08960657974133  p= 0.0\n",
      "pct annual increase in people days heat Latin America and the Caribbean was 9.094662293897258  p= 0.0\n",
      "pct annual increase in people days pop Latin America and the Caribbean was 5.19450124399214  p= 0.0 \n",
      "\n",
      "pct annual increase in people days Melanesia was 0.0818935285820132  p= 0.0\n",
      "pct annual increase in people days heat Melanesia was 0.09238658965102203  p= 0.0\n",
      "pct annual increase in people days pop Melanesia was 0.07876799754412087  p= 0.0 \n",
      "\n",
      "pct annual increase in people days Northern Africa was 2.663434622427003  p= 0.0\n",
      "pct annual increase in people days heat Northern Africa was 2.6594032279522195  p= 0.0\n",
      "pct annual increase in people days pop Northern Africa was 2.664635440340563  p= 0.0 \n",
      "\n",
      "pct annual increase in people days Northern America was 1.2504290135508807  p= 0.0\n",
      "pct annual increase in people days heat Northern America was 1.4259696150641785  p= 0.0\n",
      "pct annual increase in people days pop Northern America was 1.1981413545780841  p= 0.0 \n",
      "\n",
      "pct annual increase in people days Northern Europe was 0.0009628810838819438  p= 0.074\n",
      "pct annual increase in people days heat Northern Europe was 0.005607590318789661  p= 0.074\n",
      "pct annual increase in people days pop Northern Europe was -0.00042062205917071417  p= 0.074 \n",
      "\n",
      "pct annual increase in people days South-eastern Asia was 18.378167211815025  p= 0.0\n",
      "pct annual increase in people days heat South-eastern Asia was 20.720370848436225  p= 0.0\n",
      "pct annual increase in people days pop South-eastern Asia was 17.680503287539906  p= 0.0 \n",
      "\n",
      "pct annual increase in people days Southern Asia was 36.97280513180297  p= 0.0\n",
      "pct annual increase in people days heat Southern Asia was 45.46635909546252  p= 0.0\n",
      "pct annual increase in people days pop Southern Asia was 34.442860205480386  p= 0.0 \n",
      "\n",
      "pct annual increase in people days Southern Europe was 0.1277212498521646  p= 0.0\n",
      "pct annual increase in people days heat Southern Europe was 0.4908961700599939  p= 0.0\n",
      "pct annual increase in people days pop Southern Europe was 0.019543618462952893  p= 0.0 \n",
      "\n",
      "pct annual increase in people days Sub-Saharan Africa was 17.25710761856116  p= 0.0\n",
      "pct annual increase in people days heat Sub-Saharan Africa was 11.925658752342633  p= 0.0\n",
      "pct annual increase in people days pop Sub-Saharan Africa was 18.845167475902848  p= 0.0 \n",
      "\n",
      "pct annual increase in people days Western Asia was 10.162451917463912  p= 0.0\n",
      "pct annual increase in people days heat Western Asia was 9.852504050308655  p= 0.0\n",
      "pct annual increase in people days pop Western Asia was 10.254774971799371  p= 0.0 \n",
      "\n",
      "pct annual increase in people days Western Europe was 0.06834612609523809  p= 0.003\n",
      "pct annual increase in people days heat Western Europe was 0.25480191304225075  p= 0.003\n",
      "pct annual increase in people days pop Western Europe was 0.012807199070920742  p= 0.003 \n",
      "\n"
     ]
    }
   ],
   "source": [
    "#### Which region contributed the most people-days from warming and Pop?\n",
    "\n",
    "global_pdays = 5138.121501 * 10**6\n",
    "global_heat = 1179.223093 * 10**6# see above\n",
    "global_pop = 3958.898407 * 10**6\n",
    "\n",
    "for label in np.unique(HI_STATS['sub-region']):\n",
    "    geog = 'sub-region'\n",
    "    label = label\n",
    "    data = HI_STATS[HI_STATS[geog] == label]\n",
    "    \n",
    "    #### Rate of change\n",
    "    coef, r2, p = lm_func(data, 'people_days')\n",
    "    print('pct annual increase in people days '+label, 'was', coef/global_pdays * 100 , ' p=', p)\n",
    "    coef1, r21, p1 = lm_func(data, 'people_days_heat')\n",
    "    print('pct annual increase in people days heat '+label, 'was', coef1/global_heat * 100 , ' p=', p)\n",
    "    coef2, r22, p2 = lm_func(data, 'people_days_pop')\n",
    "    print('pct annual increase in people days pop '+label, 'was', coef2/global_pop * 100 , ' p=', p, '\\n')\n",
    "\n",
    "  "
   ]
  },
  {
   "cell_type": "code",
   "execution_count": null,
   "metadata": {},
   "outputs": [],
   "source": []
  },
  {
   "cell_type": "code",
   "execution_count": null,
   "metadata": {},
   "outputs": [],
   "source": [
    "#### Change 1983 and 2016\n",
    "\n",
    "for label in np.unique(HI_STATS['sub-region']):\n",
    "    geog = 'sub-region'\n",
    "    label = label\n",
    "    data = HI_STATS[HI_STATS[geog] == label]\n",
    "    \n",
    "    #### Change 1983 - 2016 \n",
    "    data = data.groupby('year')['people_days'].sum()\n",
    "    year1 = str(data.index[33])\n",
    "    value1 = data.values[33]/10**9\n",
    "    print(label,' person days in 2016 was ',value1,' billion')\n",
    "\n",
    "    year2 = str(data.index[0])\n",
    "    value2 = data.values[0]/10**9\n",
    "    print(label,' person days in 1983 was ', value2, ' billion')\n",
    "    \n",
    "    #### Total Change \n",
    "    print('Total change was', (value1 - value2) * 10**3, ' person-days')\n",
    "\n",
    "    #### Pct Change in Poeple Days 1983 - 2016\n",
    "    pdays16 = data.iloc[len(data) -1]\n",
    "    pdays83 = data.iloc[0]\n",
    "    out = (data.iloc[len(data) -1] - data.iloc[0]) / data.iloc[0] * 100\n",
    "    print(label,' pct increase in people days 83 - 16 is ', out, '\\n')\n",
    "    "
   ]
  },
  {
   "cell_type": "code",
   "execution_count": 62,
   "metadata": {},
   "outputs": [
    {
     "name": "stdout",
     "output_type": "stream",
     "text": [
      "Europe  person days in 2016 was  0.6455211809221928  billion\n",
      "Europe  person days in 1983 was  0.23054503717622266  billion\n",
      "Total change was 414.97614374597015  person-days\n",
      "Europe  pct increase in people days 83 - 16 is  179.99786455119965 \n",
      "\n"
     ]
    }
   ],
   "source": [
    "#### Change 1983 and 2016\n",
    "geog = 'region'\n",
    "label = 'Europe'\n",
    "data = HI_STATS[HI_STATS[geog] == label]\n",
    "data = data.groupby('year')['people_days'].sum()\n",
    "year1 = str(data.index[33])\n",
    "value1 = data.values[33]/10**9\n",
    "print(label,' person days in 2016 was ',value1,' billion')\n",
    "\n",
    "year2 = str(data.index[0])\n",
    "value2 = data.values[0]/10**9\n",
    "print(label,' person days in 1983 was ', value2, ' billion')\n",
    "\n",
    "#### Total Change \n",
    "print('Total change was', (value1 - value2) * 10**3, ' person-days')\n",
    "\n",
    "#### Pct Change in Poeple Days 1983 - 2016\n",
    "pdays16 = data.iloc[len(data) -1]\n",
    "pdays83 = data.iloc[0]\n",
    "out = (data.iloc[len(data) -1] - data.iloc[0]) / data.iloc[0] * 100\n",
    "print(label,' pct increase in people days 83 - 16 is ', out, '\\n')"
   ]
  }
 ],
 "metadata": {
  "kernelspec": {
   "display_name": "geo",
   "language": "python",
   "name": "geo"
  },
  "language_info": {
   "codemirror_mode": {
    "name": "ipython",
    "version": 3
   },
   "file_extension": ".py",
   "mimetype": "text/x-python",
   "name": "python",
   "nbconvert_exporter": "python",
   "pygments_lexer": "ipython3",
   "version": "3.6.7"
  }
 },
 "nbformat": 4,
 "nbformat_minor": 2
}
