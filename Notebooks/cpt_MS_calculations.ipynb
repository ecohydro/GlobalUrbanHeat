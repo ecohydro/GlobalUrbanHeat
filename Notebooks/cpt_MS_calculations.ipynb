{
 "cells": [
  {
   "cell_type": "markdown",
   "metadata": {},
   "source": [
    "# MS Calculations\n",
    "\n",
    "Notebook to crunch numbers for the MS.\n",
    "\n",
    "by Cascade Tuholske 2020.02.23"
   ]
  },
  {
   "cell_type": "code",
   "execution_count": 1,
   "metadata": {},
   "outputs": [],
   "source": [
    "#### Depdencies \n",
    "import pandas as pd\n",
    "import numpy as np\n",
    "import geopandas as gpd\n",
    "import matplotlib.pyplot as plt\n",
    "import statsmodels.api as sm\n",
    "import seaborn as sns"
   ]
  },
  {
   "cell_type": "code",
   "execution_count": 2,
   "metadata": {},
   "outputs": [],
   "source": [
    "#### Regressions, no intercept addition is needed because we're using SK LEARN HERE \n",
    "\n",
    "def lm_func(df, col):\n",
    "    \n",
    "    \"simple linear model of a time series data, returns coef\"\n",
    "    \n",
    "    # Get Data\n",
    "    X_year = np.array(df.groupby('year')['ID_HDC_G0'].mean().index).reshape((-1, 1))\n",
    "    Y_stats = np.array(df.groupby('year')[col].sum()).reshape((-1, 1))\n",
    "\n",
    "    # Add Intercept\n",
    "    X_year_2 = sm.add_constant(X_year)\n",
    "\n",
    "    # Regress\n",
    "    model = sm.OLS(Y_stats, X_year_2).fit() \n",
    "        \n",
    "    coef = int(model.params[1])\n",
    "    #coef = int(coef)\n",
    "            \n",
    "    # R2 and P\n",
    "    r2 = model.rsquared_adj\n",
    "    p = model.pvalues[0]\n",
    "    \n",
    "    return coef, round(r2, 2), round(p, 3)"
   ]
  },
  {
   "cell_type": "code",
   "execution_count": 3,
   "metadata": {},
   "outputs": [
    {
     "name": "stdout",
     "output_type": "stream",
     "text": [
      "Len of GHS-UCDB (all cities) is 13135\n"
     ]
    },
    {
     "data": {
      "text/html": [
       "<div>\n",
       "<style scoped>\n",
       "    .dataframe tbody tr th:only-of-type {\n",
       "        vertical-align: middle;\n",
       "    }\n",
       "\n",
       "    .dataframe tbody tr th {\n",
       "        vertical-align: top;\n",
       "    }\n",
       "\n",
       "    .dataframe thead th {\n",
       "        text-align: right;\n",
       "    }\n",
       "</style>\n",
       "<table border=\"1\" class=\"dataframe\">\n",
       "  <thead>\n",
       "    <tr style=\"text-align: right;\">\n",
       "      <th></th>\n",
       "      <th>Unnamed: 0</th>\n",
       "      <th>ID_HDC_G0</th>\n",
       "      <th>year</th>\n",
       "      <th>total_days</th>\n",
       "      <th>P</th>\n",
       "      <th>P1983</th>\n",
       "      <th>P2016</th>\n",
       "      <th>people_days</th>\n",
       "      <th>people_days_heat</th>\n",
       "      <th>people_days_pop</th>\n",
       "    </tr>\n",
       "  </thead>\n",
       "  <tbody>\n",
       "    <tr>\n",
       "      <td>0</td>\n",
       "      <td>0</td>\n",
       "      <td>5645</td>\n",
       "      <td>1983</td>\n",
       "      <td>1</td>\n",
       "      <td>80796.793810</td>\n",
       "      <td>80796.79381</td>\n",
       "      <td>96123.248169</td>\n",
       "      <td>80796.793810</td>\n",
       "      <td>80796.79381</td>\n",
       "      <td>0.000000</td>\n",
       "    </tr>\n",
       "    <tr>\n",
       "      <td>1</td>\n",
       "      <td>1</td>\n",
       "      <td>5645</td>\n",
       "      <td>1989</td>\n",
       "      <td>2</td>\n",
       "      <td>78918.494262</td>\n",
       "      <td>80796.79381</td>\n",
       "      <td>96123.248169</td>\n",
       "      <td>157836.988523</td>\n",
       "      <td>161593.58762</td>\n",
       "      <td>-3756.599097</td>\n",
       "    </tr>\n",
       "    <tr>\n",
       "      <td>2</td>\n",
       "      <td>2</td>\n",
       "      <td>5645</td>\n",
       "      <td>1990</td>\n",
       "      <td>3</td>\n",
       "      <td>78605.444337</td>\n",
       "      <td>80796.79381</td>\n",
       "      <td>96123.248169</td>\n",
       "      <td>235816.333011</td>\n",
       "      <td>242390.38143</td>\n",
       "      <td>-6574.048420</td>\n",
       "    </tr>\n",
       "    <tr>\n",
       "      <td>3</td>\n",
       "      <td>3</td>\n",
       "      <td>5645</td>\n",
       "      <td>1994</td>\n",
       "      <td>1</td>\n",
       "      <td>76481.266889</td>\n",
       "      <td>80796.79381</td>\n",
       "      <td>96123.248169</td>\n",
       "      <td>76481.266889</td>\n",
       "      <td>80796.79381</td>\n",
       "      <td>-4315.526921</td>\n",
       "    </tr>\n",
       "    <tr>\n",
       "      <td>4</td>\n",
       "      <td>4</td>\n",
       "      <td>5645</td>\n",
       "      <td>2005</td>\n",
       "      <td>1</td>\n",
       "      <td>80904.416534</td>\n",
       "      <td>80796.79381</td>\n",
       "      <td>96123.248169</td>\n",
       "      <td>80904.416534</td>\n",
       "      <td>80796.79381</td>\n",
       "      <td>107.622724</td>\n",
       "    </tr>\n",
       "  </tbody>\n",
       "</table>\n",
       "</div>"
      ],
      "text/plain": [
       "   Unnamed: 0  ID_HDC_G0  year  total_days             P        P1983  \\\n",
       "0           0       5645  1983           1  80796.793810  80796.79381   \n",
       "1           1       5645  1989           2  78918.494262  80796.79381   \n",
       "2           2       5645  1990           3  78605.444337  80796.79381   \n",
       "3           3       5645  1994           1  76481.266889  80796.79381   \n",
       "4           4       5645  2005           1  80904.416534  80796.79381   \n",
       "\n",
       "          P2016    people_days  people_days_heat  people_days_pop  \n",
       "0  96123.248169   80796.793810       80796.79381         0.000000  \n",
       "1  96123.248169  157836.988523      161593.58762     -3756.599097  \n",
       "2  96123.248169  235816.333011      242390.38143     -6574.048420  \n",
       "3  96123.248169   76481.266889       80796.79381     -4315.526921  \n",
       "4  96123.248169   80904.416534       80796.79381       107.622724  "
      ]
     },
     "execution_count": 3,
     "metadata": {},
     "output_type": "execute_result"
    }
   ],
   "source": [
    "#### Load Data\n",
    "\n",
    "# file paths\n",
    "DATA_IN = \"/home/cascade/projects/UrbanHeat/data/\"  # Note: Need ?dl=1 to make sure this file gets read correctly\n",
    "FIG_OUT = \"/home/cascade/projects/UrbanHeat/figures/\"\n",
    "FN_IN = 'processed/AllDATA-GHS-ERA5-HI406-FIGDATA.csv'\n",
    "HI_STATS = pd.read_csv(DATA_IN+FN_IN)\n",
    "\n",
    "# Set scale\n",
    "scale = 10**9\n",
    "\n",
    "# STATS IN\n",
    "HI_STATS = pd.read_csv(DATA_IN+FN_IN)\n",
    "\n",
    "# GHS-UCDB IN\n",
    "GHS_FN = 'raw/GHS_UCDB/GHS_STAT_UCDB2015MT_GLOBE_R2019A_V1_0.shp'\n",
    "GHS = gpd.read_file(DATA_IN+GHS_FN)\n",
    "print('Len of GHS-UCDB (all cities) is', len(GHS))\n",
    "\n",
    "# Check it\n",
    "HI_STATS.head()"
   ]
  },
  {
   "cell_type": "code",
   "execution_count": 4,
   "metadata": {
    "scrolled": false
   },
   "outputs": [
    {
     "name": "stdout",
     "output_type": "stream",
     "text": [
      "386920\n",
      "385526\n",
      "385424\n"
     ]
    }
   ],
   "source": [
    "#### Drop cities where P1983 == 0\n",
    "print(len(HI_STATS))\n",
    "HI_STATS = HI_STATS[HI_STATS['P1983'] > 0]\n",
    "print(len(HI_STATS))\n",
    "\n",
    "#### Drop cities with only one Tmax Day in 1983 and none else because you cannot regress them\n",
    "#drop_list = [2543, 2560, 3667, 3669, 6122, 6156] # city ids for MERRA2 \n",
    "drop_list = [832, 1732, 5521] # city IDS for ERA5\n",
    "\n",
    "HI_STATS= HI_STATS[~HI_STATS['ID_HDC_G0'].isin(drop_list)]\n",
    "print(len(HI_STATS))"
   ]
  },
  {
   "cell_type": "code",
   "execution_count": 7,
   "metadata": {},
   "outputs": [
    {
     "data": {
      "text/html": [
       "<div>\n",
       "<style scoped>\n",
       "    .dataframe tbody tr th:only-of-type {\n",
       "        vertical-align: middle;\n",
       "    }\n",
       "\n",
       "    .dataframe tbody tr th {\n",
       "        vertical-align: top;\n",
       "    }\n",
       "\n",
       "    .dataframe thead th {\n",
       "        text-align: right;\n",
       "    }\n",
       "</style>\n",
       "<table border=\"1\" class=\"dataframe\">\n",
       "  <thead>\n",
       "    <tr style=\"text-align: right;\">\n",
       "      <th></th>\n",
       "      <th>Unnamed: 0</th>\n",
       "      <th>ID_HDC_G0</th>\n",
       "      <th>year</th>\n",
       "      <th>total_days</th>\n",
       "      <th>P</th>\n",
       "      <th>P1983</th>\n",
       "      <th>P2016</th>\n",
       "      <th>people_days</th>\n",
       "      <th>people_days_heat</th>\n",
       "      <th>people_days_pop</th>\n",
       "      <th>region</th>\n",
       "      <th>intermediate-region</th>\n",
       "      <th>sub-region</th>\n",
       "      <th>CTR_MN_NM</th>\n",
       "      <th>GCPNT_LAT</th>\n",
       "      <th>GCPNT_LON</th>\n",
       "    </tr>\n",
       "  </thead>\n",
       "  <tbody>\n",
       "    <tr>\n",
       "      <td>0</td>\n",
       "      <td>0</td>\n",
       "      <td>5645</td>\n",
       "      <td>1983</td>\n",
       "      <td>1</td>\n",
       "      <td>80796.793810</td>\n",
       "      <td>80796.79381</td>\n",
       "      <td>96123.248169</td>\n",
       "      <td>80796.793810</td>\n",
       "      <td>80796.79381</td>\n",
       "      <td>0.000000</td>\n",
       "      <td>Europe</td>\n",
       "      <td>Eastern Europe</td>\n",
       "      <td>Eastern Europe</td>\n",
       "      <td>Russia</td>\n",
       "      <td>66.083799</td>\n",
       "      <td>76.64658</td>\n",
       "    </tr>\n",
       "    <tr>\n",
       "      <td>1</td>\n",
       "      <td>1</td>\n",
       "      <td>5645</td>\n",
       "      <td>1989</td>\n",
       "      <td>2</td>\n",
       "      <td>78918.494262</td>\n",
       "      <td>80796.79381</td>\n",
       "      <td>96123.248169</td>\n",
       "      <td>157836.988523</td>\n",
       "      <td>161593.58762</td>\n",
       "      <td>-3756.599097</td>\n",
       "      <td>Europe</td>\n",
       "      <td>Eastern Europe</td>\n",
       "      <td>Eastern Europe</td>\n",
       "      <td>Russia</td>\n",
       "      <td>66.083799</td>\n",
       "      <td>76.64658</td>\n",
       "    </tr>\n",
       "    <tr>\n",
       "      <td>2</td>\n",
       "      <td>2</td>\n",
       "      <td>5645</td>\n",
       "      <td>1990</td>\n",
       "      <td>3</td>\n",
       "      <td>78605.444337</td>\n",
       "      <td>80796.79381</td>\n",
       "      <td>96123.248169</td>\n",
       "      <td>235816.333011</td>\n",
       "      <td>242390.38143</td>\n",
       "      <td>-6574.048420</td>\n",
       "      <td>Europe</td>\n",
       "      <td>Eastern Europe</td>\n",
       "      <td>Eastern Europe</td>\n",
       "      <td>Russia</td>\n",
       "      <td>66.083799</td>\n",
       "      <td>76.64658</td>\n",
       "    </tr>\n",
       "    <tr>\n",
       "      <td>3</td>\n",
       "      <td>3</td>\n",
       "      <td>5645</td>\n",
       "      <td>1994</td>\n",
       "      <td>1</td>\n",
       "      <td>76481.266889</td>\n",
       "      <td>80796.79381</td>\n",
       "      <td>96123.248169</td>\n",
       "      <td>76481.266889</td>\n",
       "      <td>80796.79381</td>\n",
       "      <td>-4315.526921</td>\n",
       "      <td>Europe</td>\n",
       "      <td>Eastern Europe</td>\n",
       "      <td>Eastern Europe</td>\n",
       "      <td>Russia</td>\n",
       "      <td>66.083799</td>\n",
       "      <td>76.64658</td>\n",
       "    </tr>\n",
       "    <tr>\n",
       "      <td>4</td>\n",
       "      <td>4</td>\n",
       "      <td>5645</td>\n",
       "      <td>2005</td>\n",
       "      <td>1</td>\n",
       "      <td>80904.416534</td>\n",
       "      <td>80796.79381</td>\n",
       "      <td>96123.248169</td>\n",
       "      <td>80904.416534</td>\n",
       "      <td>80796.79381</td>\n",
       "      <td>107.622724</td>\n",
       "      <td>Europe</td>\n",
       "      <td>Eastern Europe</td>\n",
       "      <td>Eastern Europe</td>\n",
       "      <td>Russia</td>\n",
       "      <td>66.083799</td>\n",
       "      <td>76.64658</td>\n",
       "    </tr>\n",
       "  </tbody>\n",
       "</table>\n",
       "</div>"
      ],
      "text/plain": [
       "   Unnamed: 0  ID_HDC_G0  year  total_days             P        P1983  \\\n",
       "0           0       5645  1983           1  80796.793810  80796.79381   \n",
       "1           1       5645  1989           2  78918.494262  80796.79381   \n",
       "2           2       5645  1990           3  78605.444337  80796.79381   \n",
       "3           3       5645  1994           1  76481.266889  80796.79381   \n",
       "4           4       5645  2005           1  80904.416534  80796.79381   \n",
       "\n",
       "          P2016    people_days  people_days_heat  people_days_pop  region  \\\n",
       "0  96123.248169   80796.793810       80796.79381         0.000000  Europe   \n",
       "1  96123.248169  157836.988523      161593.58762     -3756.599097  Europe   \n",
       "2  96123.248169  235816.333011      242390.38143     -6574.048420  Europe   \n",
       "3  96123.248169   76481.266889       80796.79381     -4315.526921  Europe   \n",
       "4  96123.248169   80904.416534       80796.79381       107.622724  Europe   \n",
       "\n",
       "  intermediate-region      sub-region CTR_MN_NM  GCPNT_LAT  GCPNT_LON  \n",
       "0      Eastern Europe  Eastern Europe    Russia  66.083799   76.64658  \n",
       "1      Eastern Europe  Eastern Europe    Russia  66.083799   76.64658  \n",
       "2      Eastern Europe  Eastern Europe    Russia  66.083799   76.64658  \n",
       "3      Eastern Europe  Eastern Europe    Russia  66.083799   76.64658  \n",
       "4      Eastern Europe  Eastern Europe    Russia  66.083799   76.64658  "
      ]
     },
     "execution_count": 7,
     "metadata": {},
     "output_type": "execute_result"
    }
   ],
   "source": [
    "## Add In Meta Data\n",
    "geog = ['region', 'intermediate-region', 'sub-region','CTR_MN_NM', 'ID_HDC_G0', 'GCPNT_LAT', 'GCPNT_LON']\n",
    "meta_fn = 'processed/AllDATA-GHS-ERA5-HI406-META.csv'\n",
    "ALL_DATA = pd.read_csv(DATA_IN+meta_fn)\n",
    "META = ALL_DATA[geog]\n",
    "META = META.drop_duplicates('ID_HDC_G0')\n",
    "\n",
    "## Merge in meta\n",
    "HI_STATS= HI_STATS.merge(META, on = 'ID_HDC_G0', how = 'left')\n",
    "HI_STATS.head()\n"
   ]
  },
  {
   "cell_type": "markdown",
   "metadata": {},
   "source": [
    "# Global Trends"
   ]
  },
  {
   "cell_type": "code",
   "execution_count": null,
   "metadata": {
    "scrolled": true
   },
   "outputs": [],
   "source": [
    "#### Total Change in people Days\n",
    "data = HI_STATS.groupby('year')['people_days'].sum()\n",
    "year = str(data.index[33])\n",
    "value = str(data.values[33]/10**9)\n",
    "print('person days in 2016 was '+value+' billion')\n",
    "\n",
    "year = str(data.index[0])\n",
    "value = str(data.values[0]/10**9)\n",
    "print('person days in 1983 was '+value+' billion')\n",
    "\n",
    "#### Pct Change in Poeple Days 1983 - 2016\n",
    "pdays16 = data.iloc[len(data) -1]\n",
    "pdays83 = data.iloc[0]\n",
    "out = (data.iloc[len(data) -1] - data.iloc[0]) / data.iloc[0] * 100\n",
    "print('pct increase in people days 83 - 16 is ', out)\n",
    "\n",
    "#### Rate of change\n",
    "data = HI_STATS\n",
    "coef, r2, p = lm_func(data, 'people_days')\n",
    "print('annual increase in people days ', 'was', coef/10**9, ' p=', p)\n",
    "coef1, r21, p1 = lm_func(data, 'people_days_heat')\n",
    "print('annual increase in people days heat ', 'was', coef1/10**9, ' p=', p)\n",
    "coef2, r22, p2 = lm_func(data, 'people_days_pop')\n",
    "print('annual increase in people days pop ', 'was', coef2/10**9, ' p=', p)\n",
    "print('attrib heat ', 'was', coef1 / coef *100, ' p=', p, '\\n')"
   ]
  },
  {
   "cell_type": "code",
   "execution_count": null,
   "metadata": {
    "scrolled": true
   },
   "outputs": [],
   "source": [
    "#### Pct Pday Annual Increase from Heat\n",
    "coef_pdays, r2_pdays, p_pdays = lm_func(HI_STATS, 'people_days') # regress pdays\n",
    "coef_heat, r2_heat, p_heat = lm_func(HI_STATS, 'people_days_heat') # regreas heat\n",
    "\n",
    "print('warming is what pct of total?', coef_heat/coef_pdays *100)"
   ]
  },
  {
   "cell_type": "markdown",
   "metadata": {},
   "source": [
    "# City-level"
   ]
  },
  {
   "cell_type": "markdown",
   "metadata": {},
   "source": [
    "#### Pdays"
   ]
  },
  {
   "cell_type": "code",
   "execution_count": null,
   "metadata": {},
   "outputs": [],
   "source": [
    "city_coefs = pd.read_csv(DATA_IN+'processed/AllDATA-GHS-ERA5-HI406-MAPDATA_PDAYS_P05.csv')"
   ]
  },
  {
   "cell_type": "code",
   "execution_count": null,
   "metadata": {},
   "outputs": [],
   "source": [
    "len(city_coefs)"
   ]
  },
  {
   "cell_type": "code",
   "execution_count": null,
   "metadata": {},
   "outputs": [],
   "source": [
    "#### Number of cities w/ sig increase in exposure?\n",
    "print('The pct of cities w/ increases in exposure: ', len(city_coefs)/len(GHS)*100)\n"
   ]
  },
  {
   "cell_type": "code",
   "execution_count": null,
   "metadata": {
    "scrolled": true
   },
   "outputs": [],
   "source": [
    "#### Top Fifty Cities Worldwide Pdays\n",
    "data = city_coefs[['ID_HDC_G0', 'CTR_MN_NM', 'coef_pdays']].sort_values('coef_pdays', ascending = False)\n",
    "rank = list(range(1,len(data)+1))\n",
    "data['rank'] = rank\n",
    "data.head(50) # remove ; to show\n",
    "#round(data['coef_pdays'].head(5)/10**6, 0) # remove ; to show"
   ]
  },
  {
   "cell_type": "code",
   "execution_count": null,
   "metadata": {},
   "outputs": [],
   "source": [
    "def country_search(country):\n",
    "    \"what pct of cities had a p-day increase?\"\n",
    "    print('Num of Cities in '+country+' ', len(data[data['CTR_MN_NM'] == country]) / len(GHS[GHS['CTR_MN_NM'] == country]) *100)"
   ]
  },
  {
   "cell_type": "code",
   "execution_count": null,
   "metadata": {},
   "outputs": [],
   "source": [
    "cities = data.head(50)\n",
    "cities[cities['CTR_MN_NM'] == 'India']"
   ]
  },
  {
   "cell_type": "code",
   "execution_count": null,
   "metadata": {},
   "outputs": [],
   "source": [
    "country_search('Senegal')"
   ]
  },
  {
   "cell_type": "code",
   "execution_count": null,
   "metadata": {},
   "outputs": [],
   "source": [
    "country_search('Nigeria')"
   ]
  },
  {
   "cell_type": "markdown",
   "metadata": {},
   "source": [
    "1.502437e+07 / 10**6"
   ]
  },
  {
   "cell_type": "code",
   "execution_count": null,
   "metadata": {
    "scrolled": true
   },
   "outputs": [],
   "source": [
    "1.502437e+07 / 10**6"
   ]
  },
  {
   "cell_type": "code",
   "execution_count": null,
   "metadata": {},
   "outputs": [],
   "source": [
    "#### What about Tokyo?\n",
    "# 12964\n",
    "print('Tokyo pdays days:', city_coefs[city_coefs['ID_HDC_G0'] == 12964]['coef_pdays'].values)\n",
    "print('Tokyo pdays heat days:', city_coefs[city_coefs['ID_HDC_G0'] == 12964]['coef_heat'].values)\n",
    "print('Tokyo pdays heat days:', city_coefs[city_coefs['ID_HDC_G0'] == 12964]['coef_pop'].values)\n"
   ]
  },
  {
   "cell_type": "code",
   "execution_count": null,
   "metadata": {},
   "outputs": [],
   "source": [
    "print('Contribution from heat in Tokyo', 9747286.23462754/15024365.25712823*100)"
   ]
  },
  {
   "cell_type": "markdown",
   "metadata": {},
   "source": [
    "#### Total Days "
   ]
  },
  {
   "cell_type": "code",
   "execution_count": null,
   "metadata": {},
   "outputs": [],
   "source": [
    "city_totdays = pd.read_csv(DATA_IN+'processed/AllDATA-GHS-ERA5-HI406-MAPDATA_TOTDAYS_P05.csv')"
   ]
  },
  {
   "cell_type": "code",
   "execution_count": null,
   "metadata": {
    "scrolled": true
   },
   "outputs": [],
   "source": [
    "#### How many cities in India?\n",
    "print('Num of Cities in India :', len(data[data['CTR_MN_NM'] == 'India']) / len(GHS[GHS['CTR_MN_NM'] == 'India']) *100)"
   ]
  },
  {
   "cell_type": "code",
   "execution_count": null,
   "metadata": {},
   "outputs": [],
   "source": [
    "#### How many cities in Nigeria?\n",
    "print('Num of Cities in Nigeria :', len(data[data['CTR_MN_NM'] == 'Nigeria']) / len(GHS[GHS['CTR_MN_NM'] == 'Nigeria']) *100)"
   ]
  },
  {
   "cell_type": "code",
   "execution_count": null,
   "metadata": {},
   "outputs": [],
   "source": [
    "len(city_totdays)"
   ]
  },
  {
   "cell_type": "code",
   "execution_count": null,
   "metadata": {},
   "outputs": [],
   "source": [
    "## How many cities day increase per year ... 1, 3\n",
    "top = len(city_totdays)\n",
    "bottom = len(city_totdays[city_totdays['coef_totDays'] >= 3])"
   ]
  },
  {
   "cell_type": "code",
   "execution_count": null,
   "metadata": {},
   "outputs": [],
   "source": [
    "city_totadays.columns"
   ]
  },
  {
   "cell_type": "code",
   "execution_count": null,
   "metadata": {
    "scrolled": true
   },
   "outputs": [],
   "source": [
    "print(top)\n",
    "print(bottom)"
   ]
  },
  {
   "cell_type": "code",
   "execution_count": null,
   "metadata": {},
   "outputs": [],
   "source": [
    "#### Columbo & San Salvador\n",
    "print('columbo tot days:', city_totdays[city_totdays['ID_HDC_G0'] == 8835]['coef_totDays'].values)\n",
    "print('San Sal tot days:', city_totdays[city_totdays['ID_HDC_G0'] == 321]['coef_totDays'].values)"
   ]
  },
  {
   "cell_type": "markdown",
   "metadata": {},
   "source": [
    "# Regional Trends"
   ]
  },
  {
   "cell_type": "code",
   "execution_count": 11,
   "metadata": {},
   "outputs": [
    {
     "name": "stdout",
     "output_type": "stream",
     "text": [
      "annual increase in people days Australia and New Zealand was 1.791013  p= 0.0\n",
      "annual increase in people days heat Australia and New Zealand was 0.901771  p= 0.0\n",
      "annual increase in people days pop Australia and New Zealand was 0.889242  p= 0.0\n",
      "attrib heat Australia and New Zealand was 50.34977412224255  p= 0.0 \n",
      "\n",
      "annual increase in people days Central Asia was 1.156314  p= 0.0\n",
      "annual increase in people days heat Central Asia was 0.49997  p= 0.0\n",
      "annual increase in people days pop Central Asia was 0.656344  p= 0.0\n",
      "attrib heat Central Asia was 43.2382553527848  p= 0.0 \n",
      "\n",
      "annual increase in people days Eastern Asia was 453.078748  p= 0.0\n",
      "annual increase in people days heat Eastern Asia was 157.375669  p= 0.0\n",
      "annual increase in people days pop Eastern Asia was 295.703078  p= 0.0\n",
      "attrib heat Eastern Asia was 34.734727615165035  p= 0.0 \n",
      "\n",
      "annual increase in people days Eastern Europe was 7.947795  p= 0.011\n",
      "annual increase in people days heat Eastern Europe was 7.680745  p= 0.011\n",
      "annual increase in people days pop Eastern Europe was 0.26705  p= 0.011\n",
      "attrib heat Eastern Europe was 96.63994856435025  p= 0.011 \n",
      "\n",
      "annual increase in people days Latin America and the Caribbean was 312.891385  p= 0.0\n",
      "annual increase in people days heat Latin America and the Caribbean was 107.246358  p= 0.0\n",
      "annual increase in people days pop Latin America and the Caribbean was 205.645027  p= 0.0\n",
      "attrib heat Latin America and the Caribbean was 34.27590631809821  p= 0.0 \n",
      "\n",
      "annual increase in people days Melanesia was 4.207789  p= 0.0\n",
      "annual increase in people days heat Melanesia was 1.089444  p= 0.0\n",
      "annual increase in people days pop Melanesia was 3.118345  p= 0.0\n",
      "attrib heat Melanesia was 25.891127145396307  p= 0.0 \n",
      "\n",
      "annual increase in people days Northern Africa was 136.850507  p= 0.0\n",
      "annual increase in people days heat Northern Africa was 31.360297  p= 0.0\n",
      "annual increase in people days pop Northern Africa was 105.49021  p= 0.0\n",
      "attrib heat Northern Africa was 22.915733151065346  p= 0.0 \n",
      "\n",
      "annual increase in people days Northern America was 64.248562  p= 0.0\n",
      "annual increase in people days heat Northern America was 16.815363  p= 0.0\n",
      "annual increase in people days pop Northern America was 47.433199  p= 0.0\n",
      "attrib heat Northern America was 26.172356978199762  p= 0.0 \n",
      "\n",
      "annual increase in people days Northern Europe was 0.049474  p= 0.074\n",
      "annual increase in people days heat Northern Europe was 0.066126  p= 0.074\n",
      "annual increase in people days pop Northern Europe was -0.016652  p= 0.074\n",
      "attrib heat Northern Europe was 133.65808303351255  p= 0.074 \n",
      "\n",
      "annual increase in people days South-eastern Asia was 944.292561  p= 0.0\n",
      "annual increase in people days heat South-eastern Asia was 244.339398  p= 0.0\n",
      "annual increase in people days pop South-eastern Asia was 699.953163  p= 0.0\n",
      "attrib heat South-eastern Asia was 25.875391599108443  p= 0.0 \n",
      "\n",
      "annual increase in people days Southern Asia was 1899.70765  p= 0.0\n",
      "annual increase in people days heat Southern Asia was 536.149806  p= 0.0\n",
      "annual increase in people days pop Southern Asia was 1363.557844  p= 0.0\n",
      "attrib heat Southern Asia was 28.222753432613697  p= 0.0 \n",
      "\n",
      "annual increase in people days Southern Europe was 6.562473  p= 0.0\n",
      "annual increase in people days heat Southern Europe was 5.788761  p= 0.0\n",
      "annual increase in people days pop Southern Europe was 0.773712  p= 0.0\n",
      "attrib heat Southern Europe was 88.21005434993789  p= 0.0 \n",
      "\n",
      "annual increase in people days Sub-Saharan Africa was 886.691157  p= 0.0\n",
      "annual increase in people days heat Sub-Saharan Africa was 140.630122  p= 0.0\n",
      "annual increase in people days pop Sub-Saharan Africa was 746.061035  p= 0.0\n",
      "attrib heat Sub-Saharan Africa was 15.860102008438098  p= 0.0 \n",
      "\n",
      "annual increase in people days Western Asia was 522.159127  p= 0.0\n",
      "annual increase in people days heat Western Asia was 116.183003  p= 0.0\n",
      "annual increase in people days pop Western Asia was 405.976123  p= 0.0\n",
      "attrib heat Western Asia was 22.250497404405227  p= 0.0 \n",
      "\n",
      "annual increase in people days Western Europe was 3.511707  p= 0.003\n",
      "annual increase in people days heat Western Europe was 3.004683  p= 0.003\n",
      "annual increase in people days pop Western Europe was 0.507024  p= 0.003\n",
      "attrib heat Western Europe was 85.56189340397704  p= 0.003 \n",
      "\n"
     ]
    }
   ],
   "source": [
    "#### Annual Rates\n",
    "\n",
    "scale = 10**6\n",
    "geog = 'sub-region'\n",
    "\n",
    "for label in np.unique(HI_STATS[geog]):\n",
    "    label = label\n",
    "    data = HI_STATS[HI_STATS[geog] == label]\n",
    "    \n",
    "    #### Rate of change\n",
    "    coef, r2, p = lm_func(data, 'people_days')\n",
    "    print('annual increase in people days '+label, 'was', coef/scale, ' p=', p)\n",
    "    coef1, r21, p1 = lm_func(data, 'people_days_heat')\n",
    "    print('annual increase in people days heat '+label, 'was', coef1/scale, ' p=', p)\n",
    "    coef2, r22, p2 = lm_func(data, 'people_days_pop')\n",
    "    print('annual increase in people days pop '+label, 'was', coef2/scale, ' p=', p)\n",
    "    print('attrib heat '+label, 'was', coef1 / coef *100, ' p=', p, '\\n')\n",
    "  "
   ]
  },
  {
   "cell_type": "code",
   "execution_count": 9,
   "metadata": {},
   "outputs": [
    {
     "name": "stdout",
     "output_type": "stream",
     "text": [
      "Africa\n",
      "person days in 2016 was 50.16711694483583 billion\n",
      "person days in 1983 was 14.595397210158913 billion\n",
      "pct increase in people days 83 - 16 is  243.7187506614602\n"
     ]
    }
   ],
   "source": [
    "#### Trends for Africa, N & SS\n",
    "geog = 'region'\n",
    "location = 'Africa'\n",
    "data = HI_STATS[HI_STATS[geog] == location]\n",
    "print(location)\n",
    "\n",
    "#### Total Change in people Days\n",
    "data = data.groupby('year')['people_days'].sum()\n",
    "year = str(data.index[33])\n",
    "value = str(data.values[33]/10**9)\n",
    "print('person days in 2016 was '+value+' billion')\n",
    "\n",
    "year = str(data.index[0])\n",
    "value = str(data.values[0]/10**9)\n",
    "print('person days in 1983 was '+value+' billion')\n",
    "\n",
    "#### Pct Change in Poeple Days 1983 - 2016\n",
    "pdays16 = data.iloc[len(data) -1]\n",
    "pdays83 = data.iloc[0]\n",
    "out = (data.iloc[len(data) -1] - data.iloc[0]) / data.iloc[0] * 100\n",
    "print('pct increase in people days 83 - 16 is ', out)\n",
    "\n"
   ]
  },
  {
   "cell_type": "code",
   "execution_count": null,
   "metadata": {},
   "outputs": [],
   "source": [
    "#### S Asia as pct of total  global = 5.245146271 B \n",
    "\n",
    "print('pct of total pdays from S Asia is ', 1899.70765 / 10**3 / 5.245146271 * 100)"
   ]
  },
  {
   "cell_type": "code",
   "execution_count": null,
   "metadata": {},
   "outputs": [],
   "source": [
    "#### Median Slope\n",
    "region = 'Europe'\n",
    "col = 'coef_heat'\n",
    "geog = 'region'\n",
    "scale = 10**3\n",
    "result = city_coefs[city_coefs[geog]== region][col].median()\n",
    "print(region, col, 'is ', result/scale)"
   ]
  },
  {
   "cell_type": "markdown",
   "metadata": {},
   "source": [
    "# Trend First vs. Second Half of Data"
   ]
  },
  {
   "cell_type": "code",
   "execution_count": null,
   "metadata": {},
   "outputs": [],
   "source": [
    "data.head()"
   ]
  },
  {
   "cell_type": "code",
   "execution_count": null,
   "metadata": {},
   "outputs": [],
   "source": [
    "#### Share of exposure due to heat by 17 year split\n",
    "\n",
    "## 1983 - 1999\n",
    "data1 = HI_STATS[(HI_STATS['year'] >= 1983) & (HI_STATS['year'] < 2000)]\n",
    "coef1pop , r21pop, p1pop  = lm_func(data1 , 'people_days_pop')\n",
    "coef1heat , r21heat, p1heat = lm_func(data1 , 'people_days_heat')\n",
    "\n",
    "years = list(np.unique(data1['year']))\n",
    "plt.plot(years, data1.groupby('year')['people_days_heat'].sum())\n",
    "sns.regplot(years, data1.groupby('year')['people_days_heat'].sum(), \n",
    "            color = 'blue', scatter = False, truncate = True)\n",
    "\n",
    "## 2000 - 2016\n",
    "data2 = HI_STATS[(HI_STATS['year'] >= 2000) & (HI_STATS['year'] <= 2016)]\n",
    "coef2heat , r22heat, p2heat = lm_func(data2 , 'people_days_heat')\n",
    "coef2pop , r22pop, p1pop  = lm_func(data2 , 'people_days_pop')\n",
    "\n",
    "years = list(np.unique(data1['year']))\n",
    "plt.plot(years, data2.groupby('year')['people_days_heat'].sum())\n",
    "sns.regplot(years, data2.groupby('year')['people_days_heat'].sum(), \n",
    "            color = 'orange', scatter = False, truncate = True)"
   ]
  },
  {
   "cell_type": "code",
   "execution_count": null,
   "metadata": {},
   "outputs": [],
   "source": [
    "## 2000 - 2016\n",
    "data2pop = HI_STATS[(HI_STATS['year'] >= 1983) & (HI_STATS['year'] < 2000)]\n",
    "coef2pop , r22pop, p1pop  = lm_func(data2pop , 'people_days_pop')\n",
    "\n",
    "data2heat = HI_STATS[(HI_STATS['year'] >= 2000) & (HI_STATS['year'] <= 2016)]\n",
    "coef2heat , r22heat, p2heat = lm_func(data2heat , 'people_days_heat')\n"
   ]
  },
  {
   "cell_type": "code",
   "execution_count": null,
   "metadata": {
    "scrolled": true
   },
   "outputs": [],
   "source": [
    "## Estimates\n",
    "print('From 83 - 99, contribution from heat was', coef1heat/(coef1pop+coef1heat))\n",
    "print('From 00 - 16, contribution from heat was', coef2heat/(coef2pop+coef2heat))\n",
    "print('From 83 - 00, heat was', coef1heat/10**9, round(p1heat, 3))\n",
    "print('From 00 - 16, heat was', coef2heat/10**9)\n",
    "print('From 83 - 00, pop was', coef1pop/10**9)\n",
    "print('From 00 - 16, pop was', coef2pop/10**9)"
   ]
  },
  {
   "cell_type": "markdown",
   "metadata": {},
   "source": [
    "# Heat Waves\n",
    "\n",
    "- 9691 Kolkata 1998\n",
    "- 2046 Paris 2003\n",
    "- 4417, Aleppo 2010"
   ]
  },
  {
   "cell_type": "code",
   "execution_count": null,
   "metadata": {},
   "outputs": [],
   "source": [
    "def select_city_year(df, city_id, year):\n",
    "    \"Quick search to find city and years within HI_STATS\"\n",
    "    df_out = df[(df['ID_HDC_G0'] == city_id) & (df['year'] == year)]\n",
    "    \n",
    "    return df_out\n"
   ]
  },
  {
   "cell_type": "code",
   "execution_count": null,
   "metadata": {},
   "outputs": [],
   "source": [
    "aleppo = select_city_year(ALL_DATA, 4417, 2010)"
   ]
  },
  {
   "cell_type": "code",
   "execution_count": null,
   "metadata": {},
   "outputs": [],
   "source": [
    "aleppo.loc[669069]"
   ]
  },
  {
   "cell_type": "markdown",
   "metadata": {},
   "source": [
    "# Old Code"
   ]
  },
  {
   "cell_type": "code",
   "execution_count": null,
   "metadata": {},
   "outputs": [],
   "source": [
    "### Rates of exposure due to pop or heat (switch cols)\n",
    "\n",
    "col = 'coef_pop' # 'coef_heat'\n",
    "for label in np.unique(all_coefs['sub-region']):\n",
    "    geog = 'sub-region'\n",
    "    label = label\n",
    "    data = all_coefs[all_coefs[geog] == label]c\n",
    "    results = data[col].quantile([.25, .5, .75])\n",
    "    \n",
    "    print(label, ' ', results)\n",
    "    print('median', data[col].median(), '\\n')"
   ]
  },
  {
   "cell_type": "code",
   "execution_count": null,
   "metadata": {},
   "outputs": [],
   "source": [
    "#### Delhi\n",
    "city = 6955\n",
    "data = HI_STATS[HI_STATS['ID_HDC_G0'] == city]\n",
    "coef, r2, p = lm_func(data, 'people_days')\n",
    "print('Delhi increased', coef / 10**6)"
   ]
  },
  {
   "cell_type": "code",
   "execution_count": null,
   "metadata": {},
   "outputs": [],
   "source": [
    "#### Lagos\n",
    "city = 2125\n",
    "data = HI_STATS[HI_STATS['ID_HDC_G0'] == city]\n",
    "coef, r2, p = lm_func(data, 'people_days')\n",
    "print('Lagos increased', coef)"
   ]
  },
  {
   "cell_type": "code",
   "execution_count": null,
   "metadata": {},
   "outputs": [],
   "source": [
    "## T-test w/ 17 samples each\n"
   ]
  },
  {
   "cell_type": "code",
   "execution_count": null,
   "metadata": {},
   "outputs": [],
   "source": [
    "#### Miami \n",
    "city = 556\n",
    "data = HI_STATS[HI_STATS['ID_HDC_G0'] == city]\n",
    "coef, r2, p = lm_func(data, 'people_days')\n",
    "print('Miami increased', coef)"
   ]
  },
  {
   "cell_type": "code",
   "execution_count": null,
   "metadata": {},
   "outputs": [],
   "source": [
    "#### Top Fifty Cities Worldwide Heating\n",
    "data = all_coefs[['ID_HDC_G0', 'CTR_MN_NM', 'coef_totDays']].sort_values('coef_totDays', ascending = False)\n",
    "rank = list(range(1,len(data)+1))\n",
    "data['rank'] = rank\n",
    "data.head(50)"
   ]
  },
  {
   "cell_type": "code",
   "execution_count": null,
   "metadata": {},
   "outputs": [],
   "source": [
    "#### How many cities out all cities experienced warmingp\n",
    "print('globally : ', len(HI_STATS.drop_duplicates('ID_HDC_G0')) /len(GHS))\n",
    "\n",
    "## India\n",
    "\n"
   ]
  },
  {
   "cell_type": "code",
   "execution_count": null,
   "metadata": {},
   "outputs": [],
   "source": [
    "### Rates of exposure due to pop or heat (switch cols)\n",
    "\n",
    "col = 'coef_pop' # 'coef_heat'\n",
    "for label in np.unique(all_coefs['sub-region']):\n",
    "    geog = 'sub-region'\n",
    "    label = label\n",
    "    data = all_coefs[all_coefs[geog] == label]\n",
    "    results = data[col].quantile([.25, .5, .75])\n",
    "    \n",
    "    print(label, ' ', results)\n",
    "    print('median', data[col].median(), '\\n')"
   ]
  },
  {
   "cell_type": "code",
   "execution_count": null,
   "metadata": {},
   "outputs": [],
   "source": [
    "#### Which region contributed the most people-days from warming and Pop?\n",
    "\n",
    "global_pdays = 5138.121501 * 10**6\n",
    "global_heat = 1179.223093 * 10**6# see above\n",
    "global_pop = 3958.898407 * 10**6\n",
    "\n",
    "for label in np.unique(HI_STATS['sub-region']):\n",
    "    geog = 'sub-region'\n",
    "    label = label\n",
    "    data = HI_STATS[HI_STATS[geog] == label]\n",
    "    \n",
    "    #### Rate of change\n",
    "    coef, r2, p = lm_func(data, 'people_days')\n",
    "    print('pct annual increase in people days '+label, 'was', coef/global_pdays * 100 , ' p=', p)\n",
    "    coef1, r21, p1 = lm_func(data, 'people_days_heat')\n",
    "    print('pct annual increase in people days heat '+label, 'was', coef1/global_heat * 100 , ' p=', p)\n",
    "    coef2, r22, p2 = lm_func(data, 'people_days_pop')\n",
    "    print('pct annual increase in people days pop '+label, 'was', coef2/global_pop * 100 , ' p=', p, '\\n')\n",
    "\n",
    "  "
   ]
  },
  {
   "cell_type": "code",
   "execution_count": null,
   "metadata": {},
   "outputs": [],
   "source": [
    "#### Total Change in people Days\n",
    "\n",
    "for label in np.unique(HI_STATS['sub-region']):\n",
    "    geog = 'sub-region'\n",
    "    label = label\n",
    "    data = HI_STATS[HI_STATS[geog] == label]\n",
    "    \n",
    "    #### Change 1983 - 2016 \n",
    "    data = data.groupby('year')['people_days'].sum()\n",
    "    year1 = str(data.index[33])\n",
    "    value1 = data.values[33]/10**9\n",
    "    print(label,' person days in 2016 was ',value1,' billion')\n",
    "\n",
    "    year2 = str(data.index[0])\n",
    "    value2 = data.values[0]/10**9\n",
    "    print(label,' person days in 1983 was ', value2, ' billion')\n",
    "    \n",
    "    #### Total Change \n",
    "    print('Total change was', (value1 - value2) * 10**3, ' person-days')\n",
    "\n",
    "    #### Pct Change in Poeple Days 1983 - 2016\n",
    "    pdays16 = data.iloc[len(data) -1]\n",
    "    pdays83 = data.iloc[0]\n",
    "    out = (data.iloc[len(data) -1] - data.iloc[0]) / data.iloc[0] * 100\n",
    "    print(label,' pct increase in people days 83 - 16 is ', out, '\\n')\n",
    "    "
   ]
  },
  {
   "cell_type": "code",
   "execution_count": null,
   "metadata": {},
   "outputs": [],
   "source": [
    "#### 2016 vs 2983\n",
    "geog = 'region'\n",
    "label = 'Europe'\n",
    "data = HI_STATS[HI_STATS[geog] == label]\n",
    "data = data.groupby('year')['people_days'].sum()\n",
    "year1 = str(data.index[33])\n",
    "value1 = data.values[33]/10**9\n",
    "print(label,' person days in 2016 was ',value1,' billion')\n",
    "\n",
    "year2 = str(data.index[0])\n",
    "value2 = data.values[0]/10**9\n",
    "print(label,' person days in 1983 was ', value2, ' billion')\n",
    "\n",
    "#### Total Change \n",
    "print('Total change was', (value1 - value2) * 10**3, ' person-days')\n",
    "\n",
    "#### Pct Change in Poeple Days 1983 - 2016\n",
    "pdays16 = data.iloc[len(data) -1]\n",
    "pdays83 = data.iloc[0]\n",
    "out = (data.iloc[len(data) -1] - data.iloc[0]) / data.iloc[0] * 100\n",
    "print(label,' pct increase in people days 83 - 16 is ', out, '\\n')"
   ]
  },
  {
   "cell_type": "code",
   "execution_count": null,
   "metadata": {},
   "outputs": [],
   "source": [
    "### Rates of exposure due to pop or heat (switch cols)\n",
    "\n",
    "col = 'coef_pop' # 'coef_heat'\n",
    "for label in np.unique(all_coefs['sub-region']):\n",
    "    geog = 'sub-region'\n",
    "    label = label\n",
    "    data = all_coefs[all_coefs[geog] == label]\n",
    "    results = data[col].quantile([.25, .5, .75])\n",
    "    \n",
    "    print(label, ' ', results)\n",
    "    print('median', data[col].median(), '\\n')"
   ]
  },
  {
   "cell_type": "code",
   "execution_count": null,
   "metadata": {},
   "outputs": [],
   "source": [
    "#### Delhi\n",
    "city = 6955\n",
    "data = HI_STATS[HI_STATS['ID_HDC_G0'] == city]\n",
    "coef, r2, p = lm_func(data, 'people_days')\n",
    "print('Delhi increased', coef / 10**6)"
   ]
  },
  {
   "cell_type": "code",
   "execution_count": null,
   "metadata": {},
   "outputs": [],
   "source": [
    "#### Lagos\n",
    "city = 2125\n",
    "data = HI_STATS[HI_STATS['ID_HDC_G0'] == city]\n",
    "coef, r2, p = lm_func(data, 'people_days')\n",
    "print('Lagos increased', coef)"
   ]
  },
  {
   "cell_type": "code",
   "execution_count": null,
   "metadata": {},
   "outputs": [],
   "source": [
    "#### Miami \n",
    "city = 556\n",
    "data = HI_STATS[HI_STATS['ID_HDC_G0'] == city]\n",
    "coef, r2, p = lm_func(data, 'people_days')\n",
    "print('Miami increased', coef)"
   ]
  },
  {
   "cell_type": "code",
   "execution_count": null,
   "metadata": {},
   "outputs": [],
   "source": [
    "#### Top Fifty Cities Worldwide Heating\n",
    "data = all_coefs[['ID_HDC_G0', 'CTR_MN_NM', 'coef_totDays']].sort_values('coef_totDays', ascending = False)\n",
    "rank = list(range(1,len(data)+1))\n",
    "data['rank'] = rank\n",
    "data.head(50)"
   ]
  },
  {
   "cell_type": "code",
   "execution_count": null,
   "metadata": {},
   "outputs": [],
   "source": [
    "#### How many cities out all cities experienced warmingp\n",
    "print('globally : ', len(HI_STATS.drop_duplicates('ID_HDC_G0')) /len(GHS))\n",
    "\n",
    "## India\n",
    "\n"
   ]
  },
  {
   "cell_type": "code",
   "execution_count": null,
   "metadata": {},
   "outputs": [],
   "source": [
    "### Rates of exposure due to pop or heat (switch cols)\n",
    "\n",
    "col = 'coef_pop' # 'coef_heat'\n",
    "for label in np.unique(all_coefs['sub-region']):\n",
    "    geog = 'sub-region'\n",
    "    label = label\n",
    "    data = all_coefs[all_coefs[geog] == label]\n",
    "    results = data[col].quantile([.25, .5, .75])\n",
    "    \n",
    "    print(label, ' ', results)\n",
    "    print('median', data[col].median(), '\\n')"
   ]
  },
  {
   "cell_type": "code",
   "execution_count": null,
   "metadata": {
    "scrolled": true
   },
   "outputs": [],
   "source": [
    "#### Which region contributed the most people-days from warming and Pop?\n",
    "\n",
    "global_pdays = 5138.121501 * 10**6\n",
    "global_heat = 1179.223093 * 10**6# see above\n",
    "global_pop = 3958.898407 * 10**6\n",
    "\n",
    "for label in np.unique(HI_STATS['sub-region']):\n",
    "    geog = 'sub-region'\n",
    "    label = label\n",
    "    data = HI_STATS[HI_STATS[geog] == label]\n",
    "    \n",
    "    #### Rate of change\n",
    "    coef, r2, p = lm_func(data, 'people_days')\n",
    "    print('pct annual increase in people days '+label, 'was', coef/global_pdays * 100 , ' p=', p)\n",
    "    coef1, r21, p1 = lm_func(data, 'people_days_heat')\n",
    "    print('pct annual increase in people days heat '+label, 'was', coef1/global_heat * 100 , ' p=', p)\n",
    "    coef2, r22, p2 = lm_func(data, 'people_days_pop')\n",
    "    print('pct annual increase in people days pop '+label, 'was', coef2/global_pop * 100 , ' p=', p, '\\n')\n",
    "\n",
    "  "
   ]
  },
  {
   "cell_type": "code",
   "execution_count": null,
   "metadata": {},
   "outputs": [],
   "source": []
  },
  {
   "cell_type": "code",
   "execution_count": null,
   "metadata": {},
   "outputs": [],
   "source": [
    "#### Change 1983 and 2016\n",
    "\n",
    "for label in np.unique(HI_STATS['sub-region']):\n",
    "    geog = 'sub-region'\n",
    "    label = label\n",
    "    data = HI_STATS[HI_STATS[geog] == label]\n",
    "    \n",
    "    #### Change 1983 - 2016 \n",
    "    data = data.groupby('year')['people_days'].sum()\n",
    "    year1 = str(data.index[33])\n",
    "    value1 = data.values[33]/10**9\n",
    "    print(label,' person days in 2016 was ',value1,' billion')\n",
    "\n",
    "    year2 = str(data.index[0])\n",
    "    value2 = data.values[0]/10**9\n",
    "    print(label,' person days in 1983 was ', value2, ' billion')\n",
    "    \n",
    "    #### Total Change \n",
    "    print('Total change was', (value1 - value2) * 10**3, ' person-days')\n",
    "\n",
    "    #### Pct Change in Poeple Days 1983 - 2016\n",
    "    pdays16 = data.iloc[len(data) -1]\n",
    "    pdays83 = data.iloc[0]\n",
    "    out = (data.iloc[len(data) -1] - data.iloc[0]) / data.iloc[0] * 100\n",
    "    print(label,' pct increase in people days 83 - 16 is ', out, '\\n')\n",
    "    "
   ]
  },
  {
   "cell_type": "code",
   "execution_count": null,
   "metadata": {},
   "outputs": [],
   "source": [
    "#### Change 1983 and 2016\n",
    "geog = 'region'\n",
    "label = 'Europe'\n",
    "data = HI_STATS[HI_STATS[geog] == label]\n",
    "data = data.groupby('year')['people_days'].sum()\n",
    "year1 = str(data.index[33])\n",
    "value1 = data.values[33]/10**9\n",
    "print(label,' person days in 2016 was ',value1,' billion')\n",
    "\n",
    "year2 = str(data.index[0])\n",
    "value2 = data.values[0]/10**9\n",
    "print(label,' person days in 1983 was ', value2, ' billion')\n",
    "\n",
    "#### Total Change \n",
    "print('Total change was', (value1 - value2) * 10**3, ' person-days')\n",
    "\n",
    "#### Pct Change in Poeple Days 1983 - 2016\n",
    "pdays16 = data.iloc[len(data) -1]\n",
    "pdays83 = data.iloc[0]\n",
    "out = (data.iloc[len(data) -1] - data.iloc[0]) / data.iloc[0] * 100\n",
    "print(label,' pct increase in people days 83 - 16 is ', out, '\\n')"
   ]
  }
 ],
 "metadata": {
  "kernelspec": {
   "display_name": "geo",
   "language": "python",
   "name": "geo"
  },
  "language_info": {
   "codemirror_mode": {
    "name": "ipython",
    "version": 3
   },
   "file_extension": ".py",
   "mimetype": "text/x-python",
   "name": "python",
   "nbconvert_exporter": "python",
   "pygments_lexer": "ipython3",
   "version": "3.6.7"
  }
 },
 "nbformat": 4,
 "nbformat_minor": 2
}
