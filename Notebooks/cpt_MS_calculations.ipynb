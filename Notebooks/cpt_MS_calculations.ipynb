{
 "cells": [
  {
   "cell_type": "markdown",
   "metadata": {},
   "source": [
    "# MS Calculations\n",
    "\n",
    "Notebook to crunch numbers for the MS.\n",
    "\n",
    "by Cascade Tuholske 2020.02.23"
   ]
  },
  {
   "cell_type": "code",
   "execution_count": 1,
   "metadata": {},
   "outputs": [],
   "source": [
    "#### Depdencies \n",
    "import pandas as pd\n",
    "import numpy as np\n",
    "import geopandas as gpd\n",
    "import matplotlib.pyplot as plt\n",
    "import statsmodels.api as sm\n",
    "import seaborn as sns"
   ]
  },
  {
   "cell_type": "code",
   "execution_count": 5,
   "metadata": {},
   "outputs": [],
   "source": [
    "#### Regressions, no intercept addition is needed because we're using SK LEARN HERE \n",
    "\n",
    "def lm_func(df, col, scale):\n",
    "    \n",
    "    \"simple linear model of a time series data, returns coef\"\n",
    "    \n",
    "    # Get Data\n",
    "    X_year = np.array(df.groupby('year')['ID_HDC_G0'].mean().index).reshape((-1, 1))\n",
    "    Y_stats = np.array(df.groupby('year')[col].sum()).reshape((-1, 1))\n",
    "\n",
    "    # Add Intercept\n",
    "    X_year_2 = sm.add_constant(X_year)\n",
    "\n",
    "    # Regress\n",
    "    model = sm.OLS(Y_stats, X_year_2).fit() \n",
    "        \n",
    "    coef = int(model.params[1]*scale)\n",
    "    #coef = int(coef)\n",
    "            \n",
    "    # R2 and P\n",
    "    r2 = model.rsquared_adj\n",
    "    p = model.pvalues[0]\n",
    "    \n",
    "    return coef, round(r2, 2), round(p, 3)"
   ]
  },
  {
   "cell_type": "code",
   "execution_count": 2,
   "metadata": {},
   "outputs": [],
   "source": [
    "#### Load Data\n",
    "\n",
    "# file paths\n",
    "DATA_IN = \"/home/cascade/projects/UrbanHeat/data/\"  # Note: Need ?dl=1 to make sure this file gets read correctly\n",
    "FIG_OUT = \"/home/cascade/projects/UrbanHeat/figures/\"\n",
    "FN_IN = 'processed/All_data_HI406_figdata.csv'\n",
    "#FN_IN = '/home/cascade/projects/UrbanHeat/data/processed/oldworkflow/All_data_Raw406_es_final_pdayadd.csv'\n",
    "\n",
    "HI_STATS = pd.read_csv(DATA_IN+FN_IN)"
   ]
  },
  {
   "cell_type": "code",
   "execution_count": 3,
   "metadata": {
    "scrolled": false
   },
   "outputs": [
    {
     "data": {
      "text/html": [
       "<div>\n",
       "<style scoped>\n",
       "    .dataframe tbody tr th:only-of-type {\n",
       "        vertical-align: middle;\n",
       "    }\n",
       "\n",
       "    .dataframe tbody tr th {\n",
       "        vertical-align: top;\n",
       "    }\n",
       "\n",
       "    .dataframe thead th {\n",
       "        text-align: right;\n",
       "    }\n",
       "</style>\n",
       "<table border=\"1\" class=\"dataframe\">\n",
       "  <thead>\n",
       "    <tr style=\"text-align: right;\">\n",
       "      <th></th>\n",
       "      <th>Unnamed: 0</th>\n",
       "      <th>ID_HDC_G0</th>\n",
       "      <th>year</th>\n",
       "      <th>total_days</th>\n",
       "      <th>P</th>\n",
       "      <th>P1983</th>\n",
       "      <th>P2016</th>\n",
       "      <th>people_days</th>\n",
       "      <th>people_days_heat</th>\n",
       "      <th>people_days_pop</th>\n",
       "    </tr>\n",
       "  </thead>\n",
       "  <tbody>\n",
       "    <tr>\n",
       "      <td>0</td>\n",
       "      <td>0</td>\n",
       "      <td>22</td>\n",
       "      <td>1983</td>\n",
       "      <td>2</td>\n",
       "      <td>52064.452435</td>\n",
       "      <td>52064.452435</td>\n",
       "      <td>73006.671133</td>\n",
       "      <td>0.000104</td>\n",
       "      <td>0.000104</td>\n",
       "      <td>0.0</td>\n",
       "    </tr>\n",
       "    <tr>\n",
       "      <td>1</td>\n",
       "      <td>1</td>\n",
       "      <td>26</td>\n",
       "      <td>1983</td>\n",
       "      <td>1</td>\n",
       "      <td>194088.886834</td>\n",
       "      <td>194088.886834</td>\n",
       "      <td>268055.635628</td>\n",
       "      <td>0.000194</td>\n",
       "      <td>0.000194</td>\n",
       "      <td>0.0</td>\n",
       "    </tr>\n",
       "    <tr>\n",
       "      <td>2</td>\n",
       "      <td>2</td>\n",
       "      <td>27</td>\n",
       "      <td>1983</td>\n",
       "      <td>1</td>\n",
       "      <td>80540.779940</td>\n",
       "      <td>80540.779940</td>\n",
       "      <td>93335.494324</td>\n",
       "      <td>0.000081</td>\n",
       "      <td>0.000081</td>\n",
       "      <td>0.0</td>\n",
       "    </tr>\n",
       "    <tr>\n",
       "      <td>3</td>\n",
       "      <td>3</td>\n",
       "      <td>28</td>\n",
       "      <td>1983</td>\n",
       "      <td>9</td>\n",
       "      <td>59320.971209</td>\n",
       "      <td>59320.971209</td>\n",
       "      <td>91449.606255</td>\n",
       "      <td>0.000534</td>\n",
       "      <td>0.000534</td>\n",
       "      <td>0.0</td>\n",
       "    </tr>\n",
       "    <tr>\n",
       "      <td>4</td>\n",
       "      <td>4</td>\n",
       "      <td>29</td>\n",
       "      <td>1983</td>\n",
       "      <td>8</td>\n",
       "      <td>336518.836621</td>\n",
       "      <td>336518.836621</td>\n",
       "      <td>533318.453653</td>\n",
       "      <td>0.002692</td>\n",
       "      <td>0.002692</td>\n",
       "      <td>0.0</td>\n",
       "    </tr>\n",
       "  </tbody>\n",
       "</table>\n",
       "</div>"
      ],
      "text/plain": [
       "   Unnamed: 0  ID_HDC_G0  year  total_days              P          P1983  \\\n",
       "0           0         22  1983           2   52064.452435   52064.452435   \n",
       "1           1         26  1983           1  194088.886834  194088.886834   \n",
       "2           2         27  1983           1   80540.779940   80540.779940   \n",
       "3           3         28  1983           9   59320.971209   59320.971209   \n",
       "4           4         29  1983           8  336518.836621  336518.836621   \n",
       "\n",
       "           P2016  people_days  people_days_heat  people_days_pop  \n",
       "0   73006.671133     0.000104          0.000104              0.0  \n",
       "1  268055.635628     0.000194          0.000194              0.0  \n",
       "2   93335.494324     0.000081          0.000081              0.0  \n",
       "3   91449.606255     0.000534          0.000534              0.0  \n",
       "4  533318.453653     0.002692          0.002692              0.0  "
      ]
     },
     "execution_count": 3,
     "metadata": {},
     "output_type": "execute_result"
    }
   ],
   "source": [
    "# Check it\n",
    "HI_STATS.head()"
   ]
  },
  {
   "cell_type": "code",
   "execution_count": 4,
   "metadata": {},
   "outputs": [
    {
     "name": "stdout",
     "output_type": "stream",
     "text": [
      "392972\n",
      "391612\n",
      "391408\n"
     ]
    }
   ],
   "source": [
    "#### Drop 40 cities where P1983 == 40 -- see comments in Fig 2 & 3 code CPT 2020.03.03\n",
    "print(len(HI_STATS))\n",
    "HI_STATS = HI_STATS[HI_STATS['P1983'] > 0]\n",
    "print(len(HI_STATS))\n",
    "\n",
    "#### Drop cities with only one Tmax Day in 1983 and none else because you cannot regress them\n",
    "drop_list = [2543, 2560, 3667, 3669, 6122, 6156] # city IDS\n",
    "HI_STATS= HI_STATS[~HI_STATS['ID_HDC_G0'].isin(drop_list)]\n",
    "print(len(HI_STATS))"
   ]
  },
  {
   "cell_type": "code",
   "execution_count": 20,
   "metadata": {
    "scrolled": true
   },
   "outputs": [
    {
     "data": {
      "text/plain": [
       "year\n",
       "1983    129.172185\n",
       "1984    118.641838\n",
       "1985    121.763473\n",
       "1986    122.285152\n",
       "1987    148.688010\n",
       "1988    150.189327\n",
       "1989    132.949977\n",
       "1990    159.222580\n",
       "1991    148.600409\n",
       "1992    144.284759\n",
       "1993    156.908293\n",
       "1994    167.530805\n",
       "1995    179.716878\n",
       "1996    175.381440\n",
       "1997    180.892595\n",
       "1998    221.487122\n",
       "1999    174.817034\n",
       "2000    188.635963\n",
       "2001    201.161597\n",
       "2002    208.165107\n",
       "2003    215.373058\n",
       "2004    214.547240\n",
       "2005    226.441442\n",
       "2006    234.600218\n",
       "2007    233.438331\n",
       "2008    229.223204\n",
       "2009    250.671001\n",
       "2010    274.827940\n",
       "2011    247.504078\n",
       "2012    254.894533\n",
       "2013    261.693024\n",
       "2014    268.369678\n",
       "2015    288.384824\n",
       "2016    301.672123\n",
       "Name: people_days, dtype: float64"
      ]
     },
     "execution_count": 20,
     "metadata": {},
     "output_type": "execute_result"
    }
   ],
   "source": [
    "data"
   ]
  },
  {
   "cell_type": "code",
   "execution_count": 24,
   "metadata": {},
   "outputs": [
    {
     "data": {
      "text/plain": [
       "133.5426331807929"
      ]
     },
     "execution_count": 24,
     "metadata": {},
     "output_type": "execute_result"
    }
   ],
   "source": [
    "#### Pct Change in Poeple Days 1983 - 2016\n",
    "\n",
    "(data.iloc[len(data) -1] - data.iloc[0]) / data.iloc[0] * 100"
   ]
  },
  {
   "cell_type": "code",
   "execution_count": 26,
   "metadata": {},
   "outputs": [
    {
     "name": "stdout",
     "output_type": "stream",
     "text": [
      "22.9466718567536\n"
     ]
    }
   ],
   "source": [
    "#### Pct Pday Annual Increase from Heat\n",
    "coef_pdays, r2_pdays, p_pdays = lm_func(HI_STATS, 'people_days', 10**3) # regress pdays\n",
    "coef_heat, r2_heat, p_heat = lm_func(HI_STATS, 'people_days_heat', 10**3) # regreas heat\n",
    "\n",
    "print(coef_heat/coef_pdays *100)"
   ]
  },
  {
   "cell_type": "markdown",
   "metadata": {},
   "source": [
    "# FIG 1 Code"
   ]
  },
  {
   "cell_type": "code",
   "execution_count": null,
   "metadata": {
    "scrolled": true
   },
   "outputs": [],
   "source": [
    "#### Make Figure & Save it\n",
    "\n",
    "fig, axs = plt.subplots(1, 3, figsize = (16, 5), sharex=True)\n",
    "ws = 0.25\n",
    "fig.subplots_adjust(wspace=ws)\n",
    "\n",
    "## PLOT 1 - People Days\n",
    "color = 'blue'\n",
    "data = HI_STATS.groupby('year')['people_days'].sum() \n",
    "years = list(data.index)\n",
    "axs[0].plot(data, color = color, linestyle = ':', alpha = 0.5)\n",
    "axs[0].fill_between(years, data, color = color, alpha = 0.1, label='_nolegend_')\n",
    "sns.regplot(years, data, color = color, ax = axs[0], scatter = False, truncate = True)\n",
    "axs[0].set_title('Total people-days', size = 15 )\n",
    "axs[0].set_ylabel('People-days [billions]', fontsize = 13)\n",
    "axs[0].set_xlabel('Year', fontsize = 13)\n",
    "\n",
    "# Add text\n",
    "coef, r2, p = lm_func(HI_STATS, 'people_days', 10**3)\n",
    "text = str(round(coef/1000, 1))+' B increase in people-\\ndays per year'# ($R^2$=' + str(r2) + ')*'\n",
    "axs[0].text(0.07, .85, text, transform=axs[0].transAxes, size=12)\n",
    "axs[0].text(0.00, 1.1, '(a)', transform=axs[0].transAxes, size=15 )\n",
    "\n",
    "\n",
    "#2 PLOT 2 - People Days delta pop x days\n",
    "color = 'red'\n",
    "data = HI_STATS.groupby('year')['people_days_pop'].sum() \n",
    "axs[1].scatter(years, data, color = color, linestyle = ':', alpha = 0.3)\n",
    "axs[1].plot(data, color = color, linestyle = ':', alpha = 0.3)\n",
    "sns.regplot(years, data, color = color, ax = axs[1], scatter = False, truncate = True)\n",
    "axs[1].set_title('Trend due to population growth', size = 15)\n",
    "axs[1].set_ylabel('People-days [billions]', fontsize = 13)\n",
    "axs[1].set_xlabel('Year', fontsize = 13)\n",
    "\n",
    "# Add text\n",
    "coef, r2, p = lm_func(HI_STATS, 'people_days_pop', 10**3)\n",
    "text = str(round(coef/1000, 1))+' B increase in people-\\ndays per year'# ($R^2$=' + str(r2) + ')*'\n",
    "axs[1].text(1.25+.08, .85, text, transform=axs[0].transAxes, size=12)\n",
    "axs[1].text(1.25, 1.1, '(b)', transform=axs[0].transAxes, size=15 )\n",
    "\n",
    "## PLOT 3 - People Days due to heat\n",
    "color = 'green'\n",
    "data = HI_STATS.groupby('year')['people_days_heat'].sum()\n",
    "pdays83 = data.get(data.index[0])\n",
    "data = data - pdays83\n",
    "years = list(data.index)\n",
    "axs[2].scatter(years, data, color = color, linestyle = ':', alpha = 0.5)\n",
    "axs[2].plot(data, color = color, linestyle = ':', alpha = 0.5)\n",
    "sns.regplot(years, data, color = color, ax = axs[2], scatter = False, truncate = True)\n",
    "axs[2].set_title('Trend due to urban warming', size = 15)\n",
    "axs[2].set_xlabel('Year', fontsize = 13)\n",
    "axs[2].set_ylabel('People-days [billions]', fontsize = 13)\n",
    "\n",
    "# Add text\n",
    "coef, r2, p = lm_func(HI_STATS, 'people_days_heat', 10**3)\n",
    "text = str(round(coef/1000, 1))+' B increase in people-\\ndays per year' # ($R^2$=' + str(r2) + ')*'\n",
    "axs[2].text(1.25*2-0.04+.1, .85, text, transform=axs[0].transAxes, size=12,);\n",
    "axs[1].text(1.25*2, 1.1, '(c)', transform=axs[0].transAxes, size=15 )\n",
    "\n",
    "# Set y-axis\n",
    "# for ax in fig.get_axes():\n",
    "#     ax.label_outer()\n",
    "\n",
    "plt.savefig(FIG_OUT+'FIG1.png', dpi = 300, bbox_inches='tight')\n",
    "\n"
   ]
  }
 ],
 "metadata": {
  "kernelspec": {
   "display_name": "geo",
   "language": "python",
   "name": "geo"
  },
  "language_info": {
   "codemirror_mode": {
    "name": "ipython",
    "version": 3
   },
   "file_extension": ".py",
   "mimetype": "text/x-python",
   "name": "python",
   "nbconvert_exporter": "python",
   "pygments_lexer": "ipython3",
   "version": "3.6.7"
  }
 },
 "nbformat": 4,
 "nbformat_minor": 2
}
