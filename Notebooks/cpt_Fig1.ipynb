{
 "cells": [
  {
   "cell_type": "markdown",
   "metadata": {},
   "source": [
    "# Figure 1\n",
    "\n",
    "- Goal of this notebook is to make Figure 1 for our manuscript\n",
    "- We need one overal term to describe the global trend of extreme heat events over time"
   ]
  },
  {
   "cell_type": "markdown",
   "metadata": {},
   "source": [
    "#### Dependencies"
   ]
  },
  {
   "cell_type": "code",
   "execution_count": 1,
   "metadata": {},
   "outputs": [],
   "source": [
    "import pandas as pd\n",
    "import geopandas as gpd\n",
    "import numpy as np  \n",
    "import matplotlib.pyplot as plt  \n",
    "import seaborn as seabornInstance \n",
    "from sklearn.model_selection import train_test_split \n",
    "from sklearn.linear_model import LinearRegression\n",
    "from sklearn import metrics\n",
    "import statsmodels.api as sm\n",
    "import seaborn as sns"
   ]
  },
  {
   "cell_type": "markdown",
   "metadata": {},
   "source": [
    "#### Load and arrange data"
   ]
  },
  {
   "cell_type": "code",
   "execution_count": 2,
   "metadata": {},
   "outputs": [],
   "source": [
    "# file paths\n",
    "DATA_IN = \"/home/cascade/projects/data_out_urbanheat/\"  # Note: Need ?dl=1 to make sure this file gets read correctly\n",
    "FN_stats = 'All_data20200102.csv'\n",
    "df_stats = pd.read_csv(DATA_IN+FN_stats)\n",
    "FIG_OUT = '/home/cascade/projects/figures/'\n",
    "\n",
    "FN_pop = 'GHS-UCDB-Interp.csv'\n",
    "df_pop = pd.read_csv(DATA_IN+FN_pop)"
   ]
  },
  {
   "cell_type": "markdown",
   "metadata": {},
   "source": [
    "## Let's explore the data"
   ]
  },
  {
   "cell_type": "code",
   "execution_count": 3,
   "metadata": {},
   "outputs": [
    {
     "data": {
      "text/html": [
       "<div>\n",
       "<style scoped>\n",
       "    .dataframe tbody tr th:only-of-type {\n",
       "        vertical-align: middle;\n",
       "    }\n",
       "\n",
       "    .dataframe tbody tr th {\n",
       "        vertical-align: top;\n",
       "    }\n",
       "\n",
       "    .dataframe thead th {\n",
       "        text-align: right;\n",
       "    }\n",
       "</style>\n",
       "<table border=\"1\" class=\"dataframe\">\n",
       "  <thead>\n",
       "    <tr style=\"text-align: right;\">\n",
       "      <th></th>\n",
       "      <th>Unnamed: 0</th>\n",
       "      <th>Unnamed: 0.1</th>\n",
       "      <th>CTR_MN_NM</th>\n",
       "      <th>Event_ID</th>\n",
       "      <th>ID_HDC_G0</th>\n",
       "      <th>avg_intensity</th>\n",
       "      <th>avg_temp</th>\n",
       "      <th>duration</th>\n",
       "      <th>event_dates</th>\n",
       "      <th>intensity</th>\n",
       "      <th>tmax</th>\n",
       "      <th>tot_intensity</th>\n",
       "      <th>total_days</th>\n",
       "      <th>year</th>\n",
       "      <th>region</th>\n",
       "      <th>sub-region</th>\n",
       "      <th>intermediate-region</th>\n",
       "      <th>GCPNT_LAT</th>\n",
       "      <th>GCPNT_LON</th>\n",
       "    </tr>\n",
       "  </thead>\n",
       "  <tbody>\n",
       "    <tr>\n",
       "      <td>0</td>\n",
       "      <td>0</td>\n",
       "      <td>0</td>\n",
       "      <td>Germany</td>\n",
       "      <td>1</td>\n",
       "      <td>2784</td>\n",
       "      <td>3.859750</td>\n",
       "      <td>44.459750</td>\n",
       "      <td>1</td>\n",
       "      <td>['1983.07.27']</td>\n",
       "      <td>[3.85975]</td>\n",
       "      <td>[44.45975]</td>\n",
       "      <td>3.859750</td>\n",
       "      <td>1</td>\n",
       "      <td>1983</td>\n",
       "      <td>Europe</td>\n",
       "      <td>Western Europe</td>\n",
       "      <td>Western Europe</td>\n",
       "      <td>48.138002</td>\n",
       "      <td>11.563435</td>\n",
       "    </tr>\n",
       "    <tr>\n",
       "      <td>1</td>\n",
       "      <td>1</td>\n",
       "      <td>763004</td>\n",
       "      <td>Germany</td>\n",
       "      <td>763005</td>\n",
       "      <td>2784</td>\n",
       "      <td>0.058337</td>\n",
       "      <td>40.658337</td>\n",
       "      <td>1</td>\n",
       "      <td>['2013.08.06']</td>\n",
       "      <td>[0.058337]</td>\n",
       "      <td>[40.658337]</td>\n",
       "      <td>0.058337</td>\n",
       "      <td>1</td>\n",
       "      <td>2013</td>\n",
       "      <td>Europe</td>\n",
       "      <td>Western Europe</td>\n",
       "      <td>Western Europe</td>\n",
       "      <td>48.138002</td>\n",
       "      <td>11.563435</td>\n",
       "    </tr>\n",
       "    <tr>\n",
       "      <td>2</td>\n",
       "      <td>2</td>\n",
       "      <td>3</td>\n",
       "      <td>Germany</td>\n",
       "      <td>4</td>\n",
       "      <td>2833</td>\n",
       "      <td>6.893180</td>\n",
       "      <td>47.493180</td>\n",
       "      <td>1</td>\n",
       "      <td>['1983.07.27']</td>\n",
       "      <td>[6.89318]</td>\n",
       "      <td>[47.49318]</td>\n",
       "      <td>6.893180</td>\n",
       "      <td>1</td>\n",
       "      <td>1983</td>\n",
       "      <td>Europe</td>\n",
       "      <td>Western Europe</td>\n",
       "      <td>Western Europe</td>\n",
       "      <td>47.849642</td>\n",
       "      <td>12.102591</td>\n",
       "    </tr>\n",
       "    <tr>\n",
       "      <td>3</td>\n",
       "      <td>3</td>\n",
       "      <td>22702</td>\n",
       "      <td>Germany</td>\n",
       "      <td>22703</td>\n",
       "      <td>2833</td>\n",
       "      <td>1.187350</td>\n",
       "      <td>41.787350</td>\n",
       "      <td>1</td>\n",
       "      <td>['1984.07.11']</td>\n",
       "      <td>[1.18735]</td>\n",
       "      <td>[41.78735]</td>\n",
       "      <td>1.187350</td>\n",
       "      <td>1</td>\n",
       "      <td>1984</td>\n",
       "      <td>Europe</td>\n",
       "      <td>Western Europe</td>\n",
       "      <td>Western Europe</td>\n",
       "      <td>47.849642</td>\n",
       "      <td>12.102591</td>\n",
       "    </tr>\n",
       "    <tr>\n",
       "      <td>4</td>\n",
       "      <td>4</td>\n",
       "      <td>349978</td>\n",
       "      <td>Germany</td>\n",
       "      <td>349979</td>\n",
       "      <td>2833</td>\n",
       "      <td>0.793425</td>\n",
       "      <td>41.393425</td>\n",
       "      <td>1</td>\n",
       "      <td>['1998.08.11']</td>\n",
       "      <td>[0.793425]</td>\n",
       "      <td>[41.393425]</td>\n",
       "      <td>0.793425</td>\n",
       "      <td>1</td>\n",
       "      <td>1998</td>\n",
       "      <td>Europe</td>\n",
       "      <td>Western Europe</td>\n",
       "      <td>Western Europe</td>\n",
       "      <td>47.849642</td>\n",
       "      <td>12.102591</td>\n",
       "    </tr>\n",
       "  </tbody>\n",
       "</table>\n",
       "</div>"
      ],
      "text/plain": [
       "   Unnamed: 0  Unnamed: 0.1 CTR_MN_NM  Event_ID  ID_HDC_G0  avg_intensity  \\\n",
       "0           0             0   Germany         1       2784       3.859750   \n",
       "1           1        763004   Germany    763005       2784       0.058337   \n",
       "2           2             3   Germany         4       2833       6.893180   \n",
       "3           3         22702   Germany     22703       2833       1.187350   \n",
       "4           4        349978   Germany    349979       2833       0.793425   \n",
       "\n",
       "    avg_temp  duration     event_dates   intensity         tmax  \\\n",
       "0  44.459750         1  ['1983.07.27']   [3.85975]   [44.45975]   \n",
       "1  40.658337         1  ['2013.08.06']  [0.058337]  [40.658337]   \n",
       "2  47.493180         1  ['1983.07.27']   [6.89318]   [47.49318]   \n",
       "3  41.787350         1  ['1984.07.11']   [1.18735]   [41.78735]   \n",
       "4  41.393425         1  ['1998.08.11']  [0.793425]  [41.393425]   \n",
       "\n",
       "   tot_intensity  total_days  year  region      sub-region  \\\n",
       "0       3.859750           1  1983  Europe  Western Europe   \n",
       "1       0.058337           1  2013  Europe  Western Europe   \n",
       "2       6.893180           1  1983  Europe  Western Europe   \n",
       "3       1.187350           1  1984  Europe  Western Europe   \n",
       "4       0.793425           1  1998  Europe  Western Europe   \n",
       "\n",
       "  intermediate-region  GCPNT_LAT  GCPNT_LON  \n",
       "0      Western Europe  48.138002  11.563435  \n",
       "1      Western Europe  48.138002  11.563435  \n",
       "2      Western Europe  47.849642  12.102591  \n",
       "3      Western Europe  47.849642  12.102591  \n",
       "4      Western Europe  47.849642  12.102591  "
      ]
     },
     "execution_count": 3,
     "metadata": {},
     "output_type": "execute_result"
    }
   ],
   "source": [
    "df_stats.head()"
   ]
  },
  {
   "cell_type": "code",
   "execution_count": 4,
   "metadata": {
    "scrolled": true
   },
   "outputs": [
    {
     "data": {
      "text/html": [
       "<div>\n",
       "<style scoped>\n",
       "    .dataframe tbody tr th:only-of-type {\n",
       "        vertical-align: middle;\n",
       "    }\n",
       "\n",
       "    .dataframe tbody tr th {\n",
       "        vertical-align: top;\n",
       "    }\n",
       "\n",
       "    .dataframe thead th {\n",
       "        text-align: right;\n",
       "    }\n",
       "</style>\n",
       "<table border=\"1\" class=\"dataframe\">\n",
       "  <thead>\n",
       "    <tr style=\"text-align: right;\">\n",
       "      <th></th>\n",
       "      <th>Unnamed: 0</th>\n",
       "      <th>P1975</th>\n",
       "      <th>P1976</th>\n",
       "      <th>P1977</th>\n",
       "      <th>P1978</th>\n",
       "      <th>P1979</th>\n",
       "      <th>P1980</th>\n",
       "      <th>P1981</th>\n",
       "      <th>P1982</th>\n",
       "      <th>P1983</th>\n",
       "      <th>...</th>\n",
       "      <th>P2008</th>\n",
       "      <th>P2009</th>\n",
       "      <th>P2010</th>\n",
       "      <th>P2011</th>\n",
       "      <th>P2012</th>\n",
       "      <th>P2013</th>\n",
       "      <th>P2014</th>\n",
       "      <th>P2015</th>\n",
       "      <th>P2016</th>\n",
       "      <th>ID_HDC_G0</th>\n",
       "    </tr>\n",
       "  </thead>\n",
       "  <tbody>\n",
       "    <tr>\n",
       "      <td>0</td>\n",
       "      <td>0</td>\n",
       "      <td>76680.403870</td>\n",
       "      <td>76724.995508</td>\n",
       "      <td>76769.587146</td>\n",
       "      <td>76814.178784</td>\n",
       "      <td>76858.770422</td>\n",
       "      <td>76903.362061</td>\n",
       "      <td>76947.953699</td>\n",
       "      <td>76992.545337</td>\n",
       "      <td>77037.136975</td>\n",
       "      <td>...</td>\n",
       "      <td>71934.628198</td>\n",
       "      <td>71518.810376</td>\n",
       "      <td>71102.992554</td>\n",
       "      <td>70687.174731</td>\n",
       "      <td>70271.356909</td>\n",
       "      <td>69855.539087</td>\n",
       "      <td>69439.721265</td>\n",
       "      <td>69023.903442</td>\n",
       "      <td>69023.903442</td>\n",
       "      <td>5782</td>\n",
       "    </tr>\n",
       "    <tr>\n",
       "      <td>1</td>\n",
       "      <td>1</td>\n",
       "      <td>432518.760010</td>\n",
       "      <td>430308.818037</td>\n",
       "      <td>428098.876064</td>\n",
       "      <td>425888.934091</td>\n",
       "      <td>423678.992118</td>\n",
       "      <td>421469.050145</td>\n",
       "      <td>419259.108173</td>\n",
       "      <td>417049.166200</td>\n",
       "      <td>414839.224227</td>\n",
       "      <td>...</td>\n",
       "      <td>313888.948027</td>\n",
       "      <td>309323.046789</td>\n",
       "      <td>304757.145551</td>\n",
       "      <td>300191.244313</td>\n",
       "      <td>295625.343076</td>\n",
       "      <td>291059.441838</td>\n",
       "      <td>286493.540600</td>\n",
       "      <td>281927.639362</td>\n",
       "      <td>281927.639362</td>\n",
       "      <td>3316</td>\n",
       "    </tr>\n",
       "    <tr>\n",
       "      <td>2</td>\n",
       "      <td>2</td>\n",
       "      <td>83301.193208</td>\n",
       "      <td>82988.143283</td>\n",
       "      <td>82675.093359</td>\n",
       "      <td>82362.043434</td>\n",
       "      <td>82048.993509</td>\n",
       "      <td>81735.943584</td>\n",
       "      <td>81422.893660</td>\n",
       "      <td>81109.843735</td>\n",
       "      <td>80796.793810</td>\n",
       "      <td>...</td>\n",
       "      <td>85470.066025</td>\n",
       "      <td>86991.949188</td>\n",
       "      <td>88513.832352</td>\n",
       "      <td>90035.715515</td>\n",
       "      <td>91557.598679</td>\n",
       "      <td>93079.481842</td>\n",
       "      <td>94601.365005</td>\n",
       "      <td>96123.248169</td>\n",
       "      <td>96123.248169</td>\n",
       "      <td>5645</td>\n",
       "    </tr>\n",
       "    <tr>\n",
       "      <td>3</td>\n",
       "      <td>3</td>\n",
       "      <td>59961.838394</td>\n",
       "      <td>60449.793404</td>\n",
       "      <td>60937.748414</td>\n",
       "      <td>61425.703424</td>\n",
       "      <td>61913.658434</td>\n",
       "      <td>62401.613444</td>\n",
       "      <td>62889.568454</td>\n",
       "      <td>63377.523464</td>\n",
       "      <td>63865.478474</td>\n",
       "      <td>...</td>\n",
       "      <td>78991.555206</td>\n",
       "      <td>79636.309448</td>\n",
       "      <td>80281.063690</td>\n",
       "      <td>80925.817932</td>\n",
       "      <td>81570.572174</td>\n",
       "      <td>82215.326416</td>\n",
       "      <td>82860.080658</td>\n",
       "      <td>83504.834900</td>\n",
       "      <td>83504.834900</td>\n",
       "      <td>3185</td>\n",
       "    </tr>\n",
       "    <tr>\n",
       "      <td>4</td>\n",
       "      <td>4</td>\n",
       "      <td>216241.069946</td>\n",
       "      <td>215363.900885</td>\n",
       "      <td>214486.731824</td>\n",
       "      <td>213609.562762</td>\n",
       "      <td>212732.393701</td>\n",
       "      <td>211855.224640</td>\n",
       "      <td>210978.055579</td>\n",
       "      <td>210100.886517</td>\n",
       "      <td>209223.717456</td>\n",
       "      <td>...</td>\n",
       "      <td>167489.228621</td>\n",
       "      <td>165714.085614</td>\n",
       "      <td>163938.942607</td>\n",
       "      <td>162163.799599</td>\n",
       "      <td>160388.656592</td>\n",
       "      <td>158613.513584</td>\n",
       "      <td>156838.370577</td>\n",
       "      <td>155063.227570</td>\n",
       "      <td>155063.227570</td>\n",
       "      <td>3539</td>\n",
       "    </tr>\n",
       "  </tbody>\n",
       "</table>\n",
       "<p>5 rows × 44 columns</p>\n",
       "</div>"
      ],
      "text/plain": [
       "   Unnamed: 0          P1975          P1976          P1977          P1978  \\\n",
       "0           0   76680.403870   76724.995508   76769.587146   76814.178784   \n",
       "1           1  432518.760010  430308.818037  428098.876064  425888.934091   \n",
       "2           2   83301.193208   82988.143283   82675.093359   82362.043434   \n",
       "3           3   59961.838394   60449.793404   60937.748414   61425.703424   \n",
       "4           4  216241.069946  215363.900885  214486.731824  213609.562762   \n",
       "\n",
       "           P1979          P1980          P1981          P1982          P1983  \\\n",
       "0   76858.770422   76903.362061   76947.953699   76992.545337   77037.136975   \n",
       "1  423678.992118  421469.050145  419259.108173  417049.166200  414839.224227   \n",
       "2   82048.993509   81735.943584   81422.893660   81109.843735   80796.793810   \n",
       "3   61913.658434   62401.613444   62889.568454   63377.523464   63865.478474   \n",
       "4  212732.393701  211855.224640  210978.055579  210100.886517  209223.717456   \n",
       "\n",
       "   ...          P2008          P2009          P2010          P2011  \\\n",
       "0  ...   71934.628198   71518.810376   71102.992554   70687.174731   \n",
       "1  ...  313888.948027  309323.046789  304757.145551  300191.244313   \n",
       "2  ...   85470.066025   86991.949188   88513.832352   90035.715515   \n",
       "3  ...   78991.555206   79636.309448   80281.063690   80925.817932   \n",
       "4  ...  167489.228621  165714.085614  163938.942607  162163.799599   \n",
       "\n",
       "           P2012          P2013          P2014          P2015          P2016  \\\n",
       "0   70271.356909   69855.539087   69439.721265   69023.903442   69023.903442   \n",
       "1  295625.343076  291059.441838  286493.540600  281927.639362  281927.639362   \n",
       "2   91557.598679   93079.481842   94601.365005   96123.248169   96123.248169   \n",
       "3   81570.572174   82215.326416   82860.080658   83504.834900   83504.834900   \n",
       "4  160388.656592  158613.513584  156838.370577  155063.227570  155063.227570   \n",
       "\n",
       "   ID_HDC_G0  \n",
       "0       5782  \n",
       "1       3316  \n",
       "2       5645  \n",
       "3       3185  \n",
       "4       3539  \n",
       "\n",
       "[5 rows x 44 columns]"
      ]
     },
     "execution_count": 4,
     "metadata": {},
     "output_type": "execute_result"
    }
   ],
   "source": [
    "df_pop.head()"
   ]
  },
  {
   "cell_type": "markdown",
   "metadata": {},
   "source": [
    "## Make Population Long Format"
   ]
  },
  {
   "cell_type": "code",
   "execution_count": 5,
   "metadata": {},
   "outputs": [],
   "source": [
    "# Make Population Long Format\n",
    "\n",
    "pop_long = pd.wide_to_long(df_pop, stubnames = 'P', i = 'ID_HDC_G0', j = 'year')\n",
    "pop_long.reset_index(level=0, inplace=True)\n",
    "pop_long.reset_index(level=0, inplace=True)\n",
    "pop_long = pop_long.drop('Unnamed: 0', axis = 1)"
   ]
  },
  {
   "cell_type": "code",
   "execution_count": 6,
   "metadata": {},
   "outputs": [
    {
     "data": {
      "text/html": [
       "<div>\n",
       "<style scoped>\n",
       "    .dataframe tbody tr th:only-of-type {\n",
       "        vertical-align: middle;\n",
       "    }\n",
       "\n",
       "    .dataframe tbody tr th {\n",
       "        vertical-align: top;\n",
       "    }\n",
       "\n",
       "    .dataframe thead th {\n",
       "        text-align: right;\n",
       "    }\n",
       "</style>\n",
       "<table border=\"1\" class=\"dataframe\">\n",
       "  <thead>\n",
       "    <tr style=\"text-align: right;\">\n",
       "      <th></th>\n",
       "      <th>year</th>\n",
       "      <th>ID_HDC_G0</th>\n",
       "      <th>P</th>\n",
       "    </tr>\n",
       "  </thead>\n",
       "  <tbody>\n",
       "    <tr>\n",
       "      <td>0</td>\n",
       "      <td>1975</td>\n",
       "      <td>5782</td>\n",
       "      <td>76680.403870</td>\n",
       "    </tr>\n",
       "    <tr>\n",
       "      <td>1</td>\n",
       "      <td>1975</td>\n",
       "      <td>3316</td>\n",
       "      <td>432518.760010</td>\n",
       "    </tr>\n",
       "    <tr>\n",
       "      <td>2</td>\n",
       "      <td>1975</td>\n",
       "      <td>5645</td>\n",
       "      <td>83301.193208</td>\n",
       "    </tr>\n",
       "    <tr>\n",
       "      <td>3</td>\n",
       "      <td>1975</td>\n",
       "      <td>3185</td>\n",
       "      <td>59961.838394</td>\n",
       "    </tr>\n",
       "    <tr>\n",
       "      <td>4</td>\n",
       "      <td>1975</td>\n",
       "      <td>3539</td>\n",
       "      <td>216241.069946</td>\n",
       "    </tr>\n",
       "    <tr>\n",
       "      <td>...</td>\n",
       "      <td>...</td>\n",
       "      <td>...</td>\n",
       "      <td>...</td>\n",
       "    </tr>\n",
       "    <tr>\n",
       "      <td>551665</td>\n",
       "      <td>2016</td>\n",
       "      <td>13046</td>\n",
       "      <td>70726.404129</td>\n",
       "    </tr>\n",
       "    <tr>\n",
       "      <td>551666</td>\n",
       "      <td>2016</td>\n",
       "      <td>1116</td>\n",
       "      <td>110865.699524</td>\n",
       "    </tr>\n",
       "    <tr>\n",
       "      <td>551667</td>\n",
       "      <td>2016</td>\n",
       "      <td>1114</td>\n",
       "      <td>108875.221680</td>\n",
       "    </tr>\n",
       "    <tr>\n",
       "      <td>551668</td>\n",
       "      <td>2016</td>\n",
       "      <td>1161</td>\n",
       "      <td>55765.187012</td>\n",
       "    </tr>\n",
       "    <tr>\n",
       "      <td>551669</td>\n",
       "      <td>2016</td>\n",
       "      <td>1169</td>\n",
       "      <td>61703.987061</td>\n",
       "    </tr>\n",
       "  </tbody>\n",
       "</table>\n",
       "<p>551670 rows × 3 columns</p>\n",
       "</div>"
      ],
      "text/plain": [
       "        year  ID_HDC_G0              P\n",
       "0       1975       5782   76680.403870\n",
       "1       1975       3316  432518.760010\n",
       "2       1975       5645   83301.193208\n",
       "3       1975       3185   59961.838394\n",
       "4       1975       3539  216241.069946\n",
       "...      ...        ...            ...\n",
       "551665  2016      13046   70726.404129\n",
       "551666  2016       1116  110865.699524\n",
       "551667  2016       1114  108875.221680\n",
       "551668  2016       1161   55765.187012\n",
       "551669  2016       1169   61703.987061\n",
       "\n",
       "[551670 rows x 3 columns]"
      ]
     },
     "execution_count": 6,
     "metadata": {},
     "output_type": "execute_result"
    }
   ],
   "source": [
    "pop_long"
   ]
  },
  {
   "cell_type": "markdown",
   "metadata": {},
   "source": [
    "## Calc People Days"
   ]
  },
  {
   "cell_type": "code",
   "execution_count": 7,
   "metadata": {},
   "outputs": [],
   "source": [
    "# Get Total Days \n",
    "\n",
    "data = df_stats.drop_duplicates(['year', 'ID_HDC_G0'], keep = 'first') # drop out duplicates\n",
    "\n",
    "pdays = pd.DataFrame()\n",
    "pdays['ID_HDC_G0'] = data['ID_HDC_G0']\n",
    "pdays['year'] = data['year']\n",
    "pdays['total_days'] = data['total_days']\n",
    "pdays['CTR_MN_NM'] = data['CTR_MN_NM']\n",
    "pdays['sub-region'] = data['sub-region']"
   ]
  },
  {
   "cell_type": "code",
   "execution_count": 8,
   "metadata": {
    "scrolled": true
   },
   "outputs": [
    {
     "name": "stdout",
     "output_type": "stream",
     "text": [
      "153517\n",
      "153517\n"
     ]
    }
   ],
   "source": [
    "# Try to merge with Pdays\n",
    "print(len(pdays))\n",
    "pdays_merge = pdays.merge(pop_long, on=['ID_HDC_G0', 'year'], how = 'left')\n",
    "print(len(pdays_merge))"
   ]
  },
  {
   "cell_type": "code",
   "execution_count": 9,
   "metadata": {
    "scrolled": false
   },
   "outputs": [
    {
     "data": {
      "text/html": [
       "<div>\n",
       "<style scoped>\n",
       "    .dataframe tbody tr th:only-of-type {\n",
       "        vertical-align: middle;\n",
       "    }\n",
       "\n",
       "    .dataframe tbody tr th {\n",
       "        vertical-align: top;\n",
       "    }\n",
       "\n",
       "    .dataframe thead th {\n",
       "        text-align: right;\n",
       "    }\n",
       "</style>\n",
       "<table border=\"1\" class=\"dataframe\">\n",
       "  <thead>\n",
       "    <tr style=\"text-align: right;\">\n",
       "      <th></th>\n",
       "      <th>ID_HDC_G0</th>\n",
       "      <th>year</th>\n",
       "      <th>total_days</th>\n",
       "      <th>CTR_MN_NM</th>\n",
       "      <th>sub-region</th>\n",
       "      <th>P</th>\n",
       "    </tr>\n",
       "  </thead>\n",
       "  <tbody>\n",
       "    <tr>\n",
       "      <td>0</td>\n",
       "      <td>2784</td>\n",
       "      <td>1983</td>\n",
       "      <td>1</td>\n",
       "      <td>Germany</td>\n",
       "      <td>Western Europe</td>\n",
       "      <td>9.976361e+05</td>\n",
       "    </tr>\n",
       "    <tr>\n",
       "      <td>1</td>\n",
       "      <td>2784</td>\n",
       "      <td>2013</td>\n",
       "      <td>1</td>\n",
       "      <td>Germany</td>\n",
       "      <td>Western Europe</td>\n",
       "      <td>1.538112e+06</td>\n",
       "    </tr>\n",
       "    <tr>\n",
       "      <td>2</td>\n",
       "      <td>2833</td>\n",
       "      <td>1983</td>\n",
       "      <td>1</td>\n",
       "      <td>Germany</td>\n",
       "      <td>Western Europe</td>\n",
       "      <td>6.014093e+04</td>\n",
       "    </tr>\n",
       "    <tr>\n",
       "      <td>3</td>\n",
       "      <td>2833</td>\n",
       "      <td>1984</td>\n",
       "      <td>1</td>\n",
       "      <td>Germany</td>\n",
       "      <td>Western Europe</td>\n",
       "      <td>6.033127e+04</td>\n",
       "    </tr>\n",
       "    <tr>\n",
       "      <td>4</td>\n",
       "      <td>2833</td>\n",
       "      <td>1998</td>\n",
       "      <td>1</td>\n",
       "      <td>Germany</td>\n",
       "      <td>Western Europe</td>\n",
       "      <td>6.411484e+04</td>\n",
       "    </tr>\n",
       "  </tbody>\n",
       "</table>\n",
       "</div>"
      ],
      "text/plain": [
       "   ID_HDC_G0  year  total_days CTR_MN_NM      sub-region             P\n",
       "0       2784  1983           1   Germany  Western Europe  9.976361e+05\n",
       "1       2784  2013           1   Germany  Western Europe  1.538112e+06\n",
       "2       2833  1983           1   Germany  Western Europe  6.014093e+04\n",
       "3       2833  1984           1   Germany  Western Europe  6.033127e+04\n",
       "4       2833  1998           1   Germany  Western Europe  6.411484e+04"
      ]
     },
     "execution_count": 9,
     "metadata": {},
     "output_type": "execute_result"
    }
   ],
   "source": [
    "pdays_merge.head()"
   ]
  },
  {
   "cell_type": "markdown",
   "metadata": {},
   "source": [
    "#### Issues\n",
    "\n",
    "- when using the first ten years there are nans because not all cities had a heat wave in the first ten years\n",
    "- for now going to set all NANs to zero, but another solution is to just drop them\n",
    "- another idea is just to use 1983 population as a baseline ... e.g. holding population constant what is the increase in people days by heat "
   ]
  },
  {
   "cell_type": "code",
   "execution_count": 10,
   "metadata": {},
   "outputs": [
    {
     "name": "stdout",
     "output_type": "stream",
     "text": [
      "153517\n",
      "153517\n"
     ]
    }
   ],
   "source": [
    "# Now get avg number of days per year for each city and calc people days\n",
    "\n",
    "# 34-year avg days per year\n",
    "# avgdays = df_stats.drop_duplicates(['year', 'ID_HDC_G0'], keep = 'first') # drop out duplicates\n",
    "# avgdays = avgdays.groupby('ID_HDC_G0')['total_days'].mean()\n",
    "\n",
    "# first ten-year avg days per year\n",
    "avgdays = df_stats.drop_duplicates(['year', 'ID_HDC_G0'], keep = 'first') # drop out duplicates\n",
    "avgdays = avgdays[(avgdays['year'] >= 1983) & (avgdays['year'] <= 1992)]\n",
    "avgdays = avgdays.groupby('ID_HDC_G0')['total_days'].mean()\n",
    "\n",
    "# Try to merge with Pdays\n",
    "print(len(pdays))\n",
    "pdays_merge = pdays_merge.merge(avgdays, on=['ID_HDC_G0'], how = 'left')\n",
    "print(len(pdays_merge))\n",
    "pdays_merge = pdays_merge.rename(columns={'total_days_x': 'total_days', 'total_days_y': 'total_days_avg'})"
   ]
  },
  {
   "cell_type": "code",
   "execution_count": 11,
   "metadata": {},
   "outputs": [
    {
     "data": {
      "text/html": [
       "<div>\n",
       "<style scoped>\n",
       "    .dataframe tbody tr th:only-of-type {\n",
       "        vertical-align: middle;\n",
       "    }\n",
       "\n",
       "    .dataframe tbody tr th {\n",
       "        vertical-align: top;\n",
       "    }\n",
       "\n",
       "    .dataframe thead th {\n",
       "        text-align: right;\n",
       "    }\n",
       "</style>\n",
       "<table border=\"1\" class=\"dataframe\">\n",
       "  <thead>\n",
       "    <tr style=\"text-align: right;\">\n",
       "      <th></th>\n",
       "      <th>ID_HDC_G0</th>\n",
       "      <th>year</th>\n",
       "      <th>total_days</th>\n",
       "      <th>CTR_MN_NM</th>\n",
       "      <th>sub-region</th>\n",
       "      <th>P</th>\n",
       "      <th>total_days_avg</th>\n",
       "    </tr>\n",
       "  </thead>\n",
       "  <tbody>\n",
       "    <tr>\n",
       "      <td>41</td>\n",
       "      <td>1998</td>\n",
       "      <td>2003</td>\n",
       "      <td>1</td>\n",
       "      <td>France</td>\n",
       "      <td>Western Europe</td>\n",
       "      <td>330049.320209</td>\n",
       "      <td>NaN</td>\n",
       "    </tr>\n",
       "    <tr>\n",
       "      <td>42</td>\n",
       "      <td>1897</td>\n",
       "      <td>2003</td>\n",
       "      <td>1</td>\n",
       "      <td>France</td>\n",
       "      <td>Western Europe</td>\n",
       "      <td>550989.959540</td>\n",
       "      <td>NaN</td>\n",
       "    </tr>\n",
       "    <tr>\n",
       "      <td>43</td>\n",
       "      <td>2017</td>\n",
       "      <td>2010</td>\n",
       "      <td>1</td>\n",
       "      <td>France</td>\n",
       "      <td>Western Europe</td>\n",
       "      <td>627370.420171</td>\n",
       "      <td>NaN</td>\n",
       "    </tr>\n",
       "    <tr>\n",
       "      <td>44</td>\n",
       "      <td>1927</td>\n",
       "      <td>2015</td>\n",
       "      <td>1</td>\n",
       "      <td>France</td>\n",
       "      <td>Western Europe</td>\n",
       "      <td>112672.350098</td>\n",
       "      <td>NaN</td>\n",
       "    </tr>\n",
       "    <tr>\n",
       "      <td>274</td>\n",
       "      <td>5804</td>\n",
       "      <td>2012</td>\n",
       "      <td>1</td>\n",
       "      <td>Kazakhstan</td>\n",
       "      <td>Central Asia</td>\n",
       "      <td>136567.468567</td>\n",
       "      <td>NaN</td>\n",
       "    </tr>\n",
       "    <tr>\n",
       "      <td>...</td>\n",
       "      <td>...</td>\n",
       "      <td>...</td>\n",
       "      <td>...</td>\n",
       "      <td>...</td>\n",
       "      <td>...</td>\n",
       "      <td>...</td>\n",
       "      <td>...</td>\n",
       "    </tr>\n",
       "    <tr>\n",
       "      <td>153512</td>\n",
       "      <td>358</td>\n",
       "      <td>2013</td>\n",
       "      <td>1</td>\n",
       "      <td>Belize</td>\n",
       "      <td>Latin America and the Caribbean</td>\n",
       "      <td>68889.835064</td>\n",
       "      <td>NaN</td>\n",
       "    </tr>\n",
       "    <tr>\n",
       "      <td>153513</td>\n",
       "      <td>4297</td>\n",
       "      <td>2015</td>\n",
       "      <td>1</td>\n",
       "      <td>Uganda</td>\n",
       "      <td>Sub-Saharan Africa</td>\n",
       "      <td>73807.964355</td>\n",
       "      <td>NaN</td>\n",
       "    </tr>\n",
       "    <tr>\n",
       "      <td>153514</td>\n",
       "      <td>3364</td>\n",
       "      <td>2016</td>\n",
       "      <td>2</td>\n",
       "      <td>Republic of Congo</td>\n",
       "      <td>Sub-Saharan Africa</td>\n",
       "      <td>79344.519775</td>\n",
       "      <td>NaN</td>\n",
       "    </tr>\n",
       "    <tr>\n",
       "      <td>153515</td>\n",
       "      <td>3347</td>\n",
       "      <td>2016</td>\n",
       "      <td>2</td>\n",
       "      <td>Republic of Congo</td>\n",
       "      <td>Sub-Saharan Africa</td>\n",
       "      <td>110878.187500</td>\n",
       "      <td>NaN</td>\n",
       "    </tr>\n",
       "    <tr>\n",
       "      <td>153516</td>\n",
       "      <td>3348</td>\n",
       "      <td>2016</td>\n",
       "      <td>1</td>\n",
       "      <td>Republic of Congo</td>\n",
       "      <td>Sub-Saharan Africa</td>\n",
       "      <td>304021.521088</td>\n",
       "      <td>NaN</td>\n",
       "    </tr>\n",
       "  </tbody>\n",
       "</table>\n",
       "<p>3552 rows × 7 columns</p>\n",
       "</div>"
      ],
      "text/plain": [
       "        ID_HDC_G0  year  total_days          CTR_MN_NM  \\\n",
       "41           1998  2003           1             France   \n",
       "42           1897  2003           1             France   \n",
       "43           2017  2010           1             France   \n",
       "44           1927  2015           1             France   \n",
       "274          5804  2012           1         Kazakhstan   \n",
       "...           ...   ...         ...                ...   \n",
       "153512        358  2013           1             Belize   \n",
       "153513       4297  2015           1             Uganda   \n",
       "153514       3364  2016           2  Republic of Congo   \n",
       "153515       3347  2016           2  Republic of Congo   \n",
       "153516       3348  2016           1  Republic of Congo   \n",
       "\n",
       "                             sub-region              P  total_days_avg  \n",
       "41                       Western Europe  330049.320209             NaN  \n",
       "42                       Western Europe  550989.959540             NaN  \n",
       "43                       Western Europe  627370.420171             NaN  \n",
       "44                       Western Europe  112672.350098             NaN  \n",
       "274                        Central Asia  136567.468567             NaN  \n",
       "...                                 ...            ...             ...  \n",
       "153512  Latin America and the Caribbean   68889.835064             NaN  \n",
       "153513               Sub-Saharan Africa   73807.964355             NaN  \n",
       "153514               Sub-Saharan Africa   79344.519775             NaN  \n",
       "153515               Sub-Saharan Africa  110878.187500             NaN  \n",
       "153516               Sub-Saharan Africa  304021.521088             NaN  \n",
       "\n",
       "[3552 rows x 7 columns]"
      ]
     },
     "execution_count": 11,
     "metadata": {},
     "output_type": "execute_result"
    }
   ],
   "source": [
    "# Check for Nans\n",
    "pdays_merge[pd.isnull(pdays_merge).any(axis=1)]"
   ]
  },
  {
   "cell_type": "code",
   "execution_count": 12,
   "metadata": {},
   "outputs": [],
   "source": [
    "# Fill nans\n",
    "pdays_merge = pdays_merge.fillna(value = 0)"
   ]
  },
  {
   "cell_type": "code",
   "execution_count": 13,
   "metadata": {},
   "outputs": [
    {
     "data": {
      "text/plain": [
       "ID_HDC_G0           int64\n",
       "year                int64\n",
       "total_days          int64\n",
       "CTR_MN_NM          object\n",
       "sub-region         object\n",
       "P                 float64\n",
       "total_days_avg    float64\n",
       "dtype: object"
      ]
     },
     "execution_count": 13,
     "metadata": {},
     "output_type": "execute_result"
    }
   ],
   "source": [
    "pdays_merge.dtypes"
   ]
  },
  {
   "cell_type": "code",
   "execution_count": 14,
   "metadata": {},
   "outputs": [],
   "source": [
    "pdays_merge['people_days'] = pdays_merge['total_days'] * pdays_merge['P'] / 10**9\n",
    "pdays_merge['people_days_avg'] = pdays_merge['total_days_avg'] * pdays_merge['P'] / 10**9\n"
   ]
  },
  {
   "cell_type": "code",
   "execution_count": 15,
   "metadata": {},
   "outputs": [
    {
     "data": {
      "text/html": [
       "<div>\n",
       "<style scoped>\n",
       "    .dataframe tbody tr th:only-of-type {\n",
       "        vertical-align: middle;\n",
       "    }\n",
       "\n",
       "    .dataframe tbody tr th {\n",
       "        vertical-align: top;\n",
       "    }\n",
       "\n",
       "    .dataframe thead th {\n",
       "        text-align: right;\n",
       "    }\n",
       "</style>\n",
       "<table border=\"1\" class=\"dataframe\">\n",
       "  <thead>\n",
       "    <tr style=\"text-align: right;\">\n",
       "      <th></th>\n",
       "      <th>ID_HDC_G0</th>\n",
       "      <th>year</th>\n",
       "      <th>total_days</th>\n",
       "      <th>CTR_MN_NM</th>\n",
       "      <th>sub-region</th>\n",
       "      <th>P</th>\n",
       "      <th>total_days_avg</th>\n",
       "      <th>people_days</th>\n",
       "      <th>people_days_avg</th>\n",
       "    </tr>\n",
       "  </thead>\n",
       "  <tbody>\n",
       "    <tr>\n",
       "      <td>0</td>\n",
       "      <td>2784</td>\n",
       "      <td>1983</td>\n",
       "      <td>1</td>\n",
       "      <td>Germany</td>\n",
       "      <td>Western Europe</td>\n",
       "      <td>9.976361e+05</td>\n",
       "      <td>1.0</td>\n",
       "      <td>0.000998</td>\n",
       "      <td>0.000998</td>\n",
       "    </tr>\n",
       "    <tr>\n",
       "      <td>1</td>\n",
       "      <td>2784</td>\n",
       "      <td>2013</td>\n",
       "      <td>1</td>\n",
       "      <td>Germany</td>\n",
       "      <td>Western Europe</td>\n",
       "      <td>1.538112e+06</td>\n",
       "      <td>1.0</td>\n",
       "      <td>0.001538</td>\n",
       "      <td>0.001538</td>\n",
       "    </tr>\n",
       "    <tr>\n",
       "      <td>2</td>\n",
       "      <td>2833</td>\n",
       "      <td>1983</td>\n",
       "      <td>1</td>\n",
       "      <td>Germany</td>\n",
       "      <td>Western Europe</td>\n",
       "      <td>6.014093e+04</td>\n",
       "      <td>1.0</td>\n",
       "      <td>0.000060</td>\n",
       "      <td>0.000060</td>\n",
       "    </tr>\n",
       "    <tr>\n",
       "      <td>3</td>\n",
       "      <td>2833</td>\n",
       "      <td>1984</td>\n",
       "      <td>1</td>\n",
       "      <td>Germany</td>\n",
       "      <td>Western Europe</td>\n",
       "      <td>6.033127e+04</td>\n",
       "      <td>1.0</td>\n",
       "      <td>0.000060</td>\n",
       "      <td>0.000060</td>\n",
       "    </tr>\n",
       "    <tr>\n",
       "      <td>4</td>\n",
       "      <td>2833</td>\n",
       "      <td>1998</td>\n",
       "      <td>1</td>\n",
       "      <td>Germany</td>\n",
       "      <td>Western Europe</td>\n",
       "      <td>6.411484e+04</td>\n",
       "      <td>1.0</td>\n",
       "      <td>0.000064</td>\n",
       "      <td>0.000064</td>\n",
       "    </tr>\n",
       "  </tbody>\n",
       "</table>\n",
       "</div>"
      ],
      "text/plain": [
       "   ID_HDC_G0  year  total_days CTR_MN_NM      sub-region             P  \\\n",
       "0       2784  1983           1   Germany  Western Europe  9.976361e+05   \n",
       "1       2784  2013           1   Germany  Western Europe  1.538112e+06   \n",
       "2       2833  1983           1   Germany  Western Europe  6.014093e+04   \n",
       "3       2833  1984           1   Germany  Western Europe  6.033127e+04   \n",
       "4       2833  1998           1   Germany  Western Europe  6.411484e+04   \n",
       "\n",
       "   total_days_avg  people_days  people_days_avg  \n",
       "0             1.0     0.000998         0.000998  \n",
       "1             1.0     0.001538         0.001538  \n",
       "2             1.0     0.000060         0.000060  \n",
       "3             1.0     0.000060         0.000060  \n",
       "4             1.0     0.000064         0.000064  "
      ]
     },
     "execution_count": 15,
     "metadata": {},
     "output_type": "execute_result"
    }
   ],
   "source": [
    "pdays_merge.head()"
   ]
  },
  {
   "cell_type": "markdown",
   "metadata": {},
   "source": [
    "## How has exposure changed overtime?\n",
    "- First we do it with all data\n",
    "- Second we do it holding 1983 population constant\n",
    "- Third we do it with avg days split over 15 year periods (both with real population change and 1983 pop)\n",
    "- Next we do it with avg days per year in ten year intervals (both with real population change and 1983 pop)\n",
    "\n",
    "**OR WE DO DELTA POPULATION** !"
   ]
  },
  {
   "cell_type": "code",
   "execution_count": 16,
   "metadata": {},
   "outputs": [
    {
     "data": {
      "text/plain": [
       "array([1983, 1984, 1985, 1986, 1987, 1988, 1989, 1990, 1991, 1992, 1993,\n",
       "       1994, 1995, 1996, 1997, 1998, 1999, 2000, 2001, 2002, 2003, 2004,\n",
       "       2005, 2006, 2007, 2008, 2009, 2010, 2011, 2012, 2013, 2014, 2015,\n",
       "       2016])"
      ]
     },
     "execution_count": 16,
     "metadata": {},
     "output_type": "execute_result"
    }
   ],
   "source": [
    "# styles\n",
    "kwargs = {'linewidth':0.7, 'marker': 'o'} #linestyle: '--'\n",
    "\n",
    "# Make Years List\n",
    "years = np.unique(df_stats['year'])\n",
    "years"
   ]
  },
  {
   "cell_type": "code",
   "execution_count": 17,
   "metadata": {},
   "outputs": [
    {
     "data": {
      "image/png": "[encoded data removed]",
      "text/plain": [
       "<Figure size 720x720 with 1 Axes>"
      ]
     },
     "metadata": {
      "needs_background": "light"
     },
     "output_type": "display_data"
    }
   ],
   "source": [
    "fig, ax1 = plt.subplots(1, figsize = (10,10), sharex=True)\n",
    "\n",
    "# Total Days\n",
    "data = pdays_merge.groupby(['year'])['people_days'].sum()\n",
    "sns.regplot(years, data, color = 'green', ax = ax1)\n",
    "ax1.plot(data, **kwargs, color = 'green')\n",
    "\n",
    "# Total Days first ten avg \n",
    "data = pdays_merge.groupby(['year'])['people_days_avg'].sum()\n",
    "#sns.regplot(years, data, color = 'red', ax = ax1)\n",
    "ax1.plot(data, **kwargs, color = 'red')\n",
    "\n",
    "ax1.set_title('Annual Urban Population Exposure to Days >40.6 C', fontsize = 20)\n",
    "ax1.set_ylabel('Person Days [Billions]', fontsize = 20)\n",
    "ax1.set_xlabel('Year', fontsize = 20)\n",
    "ax1.tick_params(labelsize = 15)\n",
    "\n",
    "#plt.savefig(FIG_OUT+'AGU_Global_PersonDays.png')"
   ]
  },
  {
   "cell_type": "markdown",
   "metadata": {},
   "source": [
    "## What happens when we hold population constant?"
   ]
  },
  {
   "cell_type": "code",
   "execution_count": 18,
   "metadata": {},
   "outputs": [
    {
     "data": {
      "text/html": [
       "<div>\n",
       "<style scoped>\n",
       "    .dataframe tbody tr th:only-of-type {\n",
       "        vertical-align: middle;\n",
       "    }\n",
       "\n",
       "    .dataframe tbody tr th {\n",
       "        vertical-align: top;\n",
       "    }\n",
       "\n",
       "    .dataframe thead th {\n",
       "        text-align: right;\n",
       "    }\n",
       "</style>\n",
       "<table border=\"1\" class=\"dataframe\">\n",
       "  <thead>\n",
       "    <tr style=\"text-align: right;\">\n",
       "      <th></th>\n",
       "      <th>ID_HDC_G0</th>\n",
       "      <th>year</th>\n",
       "      <th>total_days</th>\n",
       "      <th>CTR_MN_NM</th>\n",
       "      <th>sub-region</th>\n",
       "      <th>P1983</th>\n",
       "      <th>P</th>\n",
       "    </tr>\n",
       "  </thead>\n",
       "  <tbody>\n",
       "    <tr>\n",
       "      <td>0</td>\n",
       "      <td>2784</td>\n",
       "      <td>1983</td>\n",
       "      <td>1</td>\n",
       "      <td>Germany</td>\n",
       "      <td>Western Europe</td>\n",
       "      <td>997636.118717</td>\n",
       "      <td>9.976361e+05</td>\n",
       "    </tr>\n",
       "    <tr>\n",
       "      <td>1</td>\n",
       "      <td>2784</td>\n",
       "      <td>2013</td>\n",
       "      <td>1</td>\n",
       "      <td>Germany</td>\n",
       "      <td>Western Europe</td>\n",
       "      <td>997636.118717</td>\n",
       "      <td>1.538112e+06</td>\n",
       "    </tr>\n",
       "    <tr>\n",
       "      <td>2</td>\n",
       "      <td>2833</td>\n",
       "      <td>1983</td>\n",
       "      <td>1</td>\n",
       "      <td>Germany</td>\n",
       "      <td>Western Europe</td>\n",
       "      <td>60140.932532</td>\n",
       "      <td>6.014093e+04</td>\n",
       "    </tr>\n",
       "    <tr>\n",
       "      <td>3</td>\n",
       "      <td>2833</td>\n",
       "      <td>1984</td>\n",
       "      <td>1</td>\n",
       "      <td>Germany</td>\n",
       "      <td>Western Europe</td>\n",
       "      <td>60140.932532</td>\n",
       "      <td>6.033127e+04</td>\n",
       "    </tr>\n",
       "    <tr>\n",
       "      <td>4</td>\n",
       "      <td>2833</td>\n",
       "      <td>1998</td>\n",
       "      <td>1</td>\n",
       "      <td>Germany</td>\n",
       "      <td>Western Europe</td>\n",
       "      <td>60140.932532</td>\n",
       "      <td>6.411484e+04</td>\n",
       "    </tr>\n",
       "  </tbody>\n",
       "</table>\n",
       "</div>"
      ],
      "text/plain": [
       "   ID_HDC_G0  year  total_days CTR_MN_NM      sub-region          P1983  \\\n",
       "0       2784  1983           1   Germany  Western Europe  997636.118717   \n",
       "1       2784  2013           1   Germany  Western Europe  997636.118717   \n",
       "2       2833  1983           1   Germany  Western Europe   60140.932532   \n",
       "3       2833  1984           1   Germany  Western Europe   60140.932532   \n",
       "4       2833  1998           1   Germany  Western Europe   60140.932532   \n",
       "\n",
       "              P  \n",
       "0  9.976361e+05  \n",
       "1  1.538112e+06  \n",
       "2  6.014093e+04  \n",
       "3  6.033127e+04  \n",
       "4  6.411484e+04  "
      ]
     },
     "execution_count": 18,
     "metadata": {},
     "output_type": "execute_result"
    }
   ],
   "source": [
    "# Get Total Days \n",
    "\n",
    "data = df_stats.drop_duplicates(['year', 'ID_HDC_G0'], keep = 'first') # drop out duplicates\n",
    "\n",
    "pdays = pd.DataFrame()\n",
    "pdays['ID_HDC_G0'] = data['ID_HDC_G0']\n",
    "pdays['year'] = data['year']\n",
    "pdays['total_days'] = data['total_days']\n",
    "pdays['CTR_MN_NM'] = data['CTR_MN_NM']\n",
    "pdays['sub-region'] = data['sub-region']\n",
    "\n",
    "p83 = pd.DataFrame()\n",
    "p83['ID_HDC_G0'] = df_pop['ID_HDC_G0']\n",
    "p83['P1983'] = df_pop['P1983']\n",
    "\n",
    "pdays = pdays.merge(p83, on = 'ID_HDC_G0', how = 'left')\n",
    "\n",
    "pdays_merge = pd.DataFrame()\n",
    "pdays_merge = pdays.merge(pop_long, on=['ID_HDC_G0', 'year'], how = 'left')\n",
    "pdays_merge.head()"
   ]
  },
  {
   "cell_type": "code",
   "execution_count": 19,
   "metadata": {},
   "outputs": [],
   "source": [
    "pdays_merge['people_days'] = pdays_merge['total_days'] * pdays_merge['P'] / 10**9\n",
    "pdays_merge['people_days_83'] = pdays_merge['total_days'] * pdays_merge['P1983'] / 10**9\n"
   ]
  },
  {
   "cell_type": "code",
   "execution_count": 20,
   "metadata": {},
   "outputs": [
    {
     "data": {
      "text/plain": [
       "<matplotlib.legend.Legend at 0x7f7bab990518>"
      ]
     },
     "execution_count": 20,
     "metadata": {},
     "output_type": "execute_result"
    },
    {
     "data": {
      "image/png": "[encoded data removed]",
      "text/plain": [
       "<Figure size 720x720 with 1 Axes>"
      ]
     },
     "metadata": {
      "needs_background": "light"
     },
     "output_type": "display_data"
    }
   ],
   "source": [
    "fig, ax1 = plt.subplots(1, figsize = (10,10), sharex=True)\n",
    "\n",
    "# Total Days\n",
    "data = pdays_merge.groupby(['year'])['people_days'].sum()\n",
    "#sns.regplot(years, data, color = 'green', ax = ax1, label='_nolegend_')\n",
    "ax1.plot(data, **kwargs, color = 'green')\n",
    "\n",
    "# Total Days first ten avg \n",
    "data = pdays_merge.groupby(['year'])['people_days_83'].sum()\n",
    "#sns.regplot(years, data, color = 'red', ax = ax1)\n",
    "ax1.plot(data, **kwargs, color = 'red')\n",
    "\n",
    "# Title\n",
    "ax1.set_title('Annual Urban Population Exposure to Days >40.6 C', fontsize = 20)\n",
    "ax1.set_ylabel('Person Days [Billions]', fontsize = 20)\n",
    "ax1.set_xlabel('Year', fontsize = 20)\n",
    "ax1.tick_params(labelsize = 15)\n",
    "\n",
    "# legend\n",
    "leg_labels = ['People Days', 'People Days, 1983 population constant']\n",
    "plt.legend(leg_labels, fontsize = 15)\n",
    "\n",
    "#plt.savefig(FIG_OUT+'AGU_Global_PersonDays.png')"
   ]
  },
  {
   "cell_type": "markdown",
   "metadata": {},
   "source": [
    "# What happens when we only look at incease in people, not days?"
   ]
  },
  {
   "cell_type": "code",
   "execution_count": 21,
   "metadata": {
    "scrolled": true
   },
   "outputs": [
    {
     "data": {
      "text/plain": [
       "<matplotlib.legend.Legend at 0x7f7baba621d0>"
      ]
     },
     "execution_count": 21,
     "metadata": {},
     "output_type": "execute_result"
    },
    {
     "data": {
      "image/png": "[encoded data removed]",
      "text/plain": [
       "<Figure size 720x720 with 1 Axes>"
      ]
     },
     "metadata": {
      "needs_background": "light"
     },
     "output_type": "display_data"
    }
   ],
   "source": [
    "fig, ax1 = plt.subplots(1, figsize = (10,10), sharex=True)\n",
    "\n",
    "# Total Days\n",
    "data = pdays_merge.groupby(['year'])['people_days'].sum()\n",
    "#sns.regplot(years, data, color = 'green', ax = ax1, label='_nolegend_')\n",
    "ax1.plot(data, **kwargs, color = 'green')\n",
    "\n",
    "# Total Days first ten avg \n",
    "data = pdays_merge.groupby('year')['P'].sum() / 10**9\n",
    "#sns.regplot(years, data, color = 'red', ax = ax1)\n",
    "ax1.plot(data, **kwargs, color = 'red')\n",
    "\n",
    "# Title\n",
    "ax1.set_title('Annual Urban Population Exposure to Days >40.6 C', fontsize = 20)\n",
    "ax1.set_ylabel('Person Days [Billions]', fontsize = 20)\n",
    "ax1.set_xlabel('Year', fontsize = 20)\n",
    "ax1.tick_params(labelsize = 15)\n",
    "\n",
    "# legend\n",
    "leg_labels = ['People Days', 'People Days, 1983 population constant']\n",
    "plt.legend(leg_labels, fontsize = 15)\n",
    "\n",
    "#plt.savefig(FIG_OUT+'AGU_Global_PersonDays.png')"
   ]
  },
  {
   "cell_type": "code",
   "execution_count": 22,
   "metadata": {},
   "outputs": [
    {
     "data": {
      "text/plain": [
       "year\n",
       "1983    5.124315e+08\n",
       "1984    5.264431e+08\n",
       "1985    5.023436e+08\n",
       "1986    5.266425e+08\n",
       "1987    5.525738e+08\n",
       "1988    6.262942e+08\n",
       "1989    5.870233e+08\n",
       "1990    5.682694e+08\n",
       "1991    5.669395e+08\n",
       "1992    5.885925e+08\n",
       "1993    5.908864e+08\n",
       "1994    6.613592e+08\n",
       "1995    7.340196e+08\n",
       "1996    6.947248e+08\n",
       "1997    7.141938e+08\n",
       "1998    8.399672e+08\n",
       "1999    7.793975e+08\n",
       "2000    8.004206e+08\n",
       "2001    7.765410e+08\n",
       "2002    9.124983e+08\n",
       "2003    9.057882e+08\n",
       "2004    8.302197e+08\n",
       "2005    9.452088e+08\n",
       "2006    8.321399e+08\n",
       "2007    8.852705e+08\n",
       "2008    8.714883e+08\n",
       "2009    9.627411e+08\n",
       "2010    1.001877e+09\n",
       "2011    9.387558e+08\n",
       "2012    9.923825e+08\n",
       "2013    9.923002e+08\n",
       "2014    1.052562e+09\n",
       "2015    1.065342e+09\n",
       "2016    1.069360e+09\n",
       "Name: P, dtype: float64"
      ]
     },
     "execution_count": 22,
     "metadata": {},
     "output_type": "execute_result"
    }
   ],
   "source": [
    "pdays_merge.groupby('year')['P'].sum()"
   ]
  },
  {
   "cell_type": "code",
   "execution_count": 23,
   "metadata": {
    "scrolled": false
   },
   "outputs": [
    {
     "data": {
      "text/plain": [
       "[<matplotlib.lines.Line2D at 0x7f7bab9efe10>]"
      ]
     },
     "execution_count": 23,
     "metadata": {},
     "output_type": "execute_result"
    },
    {
     "data": {
      "image/png": "[encoded data removed]",
      "text/plain": [
       "<Figure size 720x720 with 1 Axes>"
      ]
     },
     "metadata": {
      "needs_background": "light"
     },
     "output_type": "display_data"
    }
   ],
   "source": [
    "fig, ax1 = plt.subplots(1, figsize = (10,10), sharex=True)\n",
    "\n",
    "\n",
    "# Total Days first ten avg \n",
    "data = pdays_merge.groupby('year')['P'].sum() / 10**9\n",
    "#sns.regplot(years, data, color = 'red', ax = ax1)\n",
    "ax1.plot(data, **kwargs, color = 'red')"
   ]
  },
  {
   "cell_type": "markdown",
   "metadata": {},
   "source": [
    "# What happens when we look at per capita change?"
   ]
  },
  {
   "cell_type": "code",
   "execution_count": 37,
   "metadata": {
    "scrolled": true
   },
   "outputs": [],
   "source": [
    "# How many people in a given year were exposed?\n",
    "\n",
    "total_people = pdays_merge.groupby('year')['P'].sum()\n",
    "total_days = pdays_merge.groupby('year')['total_days'].sum()"
   ]
  },
  {
   "cell_type": "code",
   "execution_count": 42,
   "metadata": {},
   "outputs": [
    {
     "data": {
      "image/png": "[encoded data removed]",
      "text/plain": [
       "<Figure size 720x720 with 1 Axes>"
      ]
     },
     "metadata": {
      "needs_background": "light"
     },
     "output_type": "display_data"
    }
   ],
   "source": [
    "fig, ax1 = plt.subplots(1, figsize = (10,10), sharex=True)\n",
    "\n",
    "# Total Days\n",
    "data = total_people / total_days\n",
    "#sns.regplot(years, data, color = 'green', ax = ax1, label='_nolegend_')\n",
    "ax1.plot(data, **kwargs, color = 'green')\n",
    "\n",
    "# Title\n",
    "ax1.set_title('Per Capital Annual Urban Population Exposure to Days >40.6 C', fontsize = 20)\n",
    "ax1.set_ylabel('Tot # of People Expose / Tot. # Days [Global]', fontsize = 20)\n",
    "ax1.set_xlabel('Year', fontsize = 20)\n",
    "ax1.tick_params(labelsize = 15)\n",
    "\n",
    "# legend\n",
    "# leg_labels = ['People Days', 'People Days, 1983 population constant']\n",
    "# plt.legend(leg_labels, fontsize = 15)\n",
    "\n",
    "#plt.savefig(FIG_OUT+'AGU_Global_PersonDays.png')"
   ]
  },
  {
   "cell_type": "code",
   "execution_count": 45,
   "metadata": {},
   "outputs": [
    {
     "data": {
      "text/plain": [
       "0.007777777777777777"
      ]
     },
     "execution_count": 45,
     "metadata": {},
     "output_type": "execute_result"
    }
   ],
   "source": [
    "(4*(400/(400+200)) + 6*(200/600)) + 7*"
   ]
  },
  {
   "cell_type": "code",
   "execution_count": 46,
   "metadata": {},
   "outputs": [
    {
     "data": {
      "text/plain": [
       "0.6666666666666666"
      ]
     },
     "execution_count": 46,
     "metadata": {},
     "output_type": "execute_result"
    }
   ],
   "source": [
    "400/(400+200)"
   ]
  },
  {
   "cell_type": "markdown",
   "metadata": {},
   "source": [
    "# What happens when we only look at people-events?"
   ]
  },
  {
   "cell_type": "code",
   "execution_count": null,
   "metadata": {},
   "outputs": [],
   "source": [
    "data = df_stats\n",
    "\n",
    "edays = pd.DataFrame()\n",
    "edays['ID_HDC_G0'] = data['ID_HDC_G0']\n",
    "edays['year'] = data['year']\n",
    "edays['total_days'] = data['total_days']\n",
    "edays['CTR_MN_NM'] = data['CTR_MN_NM']\n",
    "edays['sub-region'] = data['sub-region']"
   ]
  },
  {
   "cell_type": "code",
   "execution_count": null,
   "metadata": {},
   "outputs": [],
   "source": [
    "edays.groupby(['year','ID_HDC_G0'])['total_days'].count()"
   ]
  }
 ],
 "metadata": {
  "kernelspec": {
   "display_name": "geo",
   "language": "python",
   "name": "geo"
  },
  "language_info": {
   "codemirror_mode": {
    "name": "ipython",
    "version": 3
   },
   "file_extension": ".py",
   "mimetype": "text/x-python",
   "name": "python",
   "nbconvert_exporter": "python",
   "pygments_lexer": "ipython3",
   "version": "3.6.7"
  }
 },
 "nbformat": 4,
 "nbformat_minor": 2
}
