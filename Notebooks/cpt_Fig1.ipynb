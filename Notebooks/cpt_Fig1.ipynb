{
 "cells": [
  {
   "cell_type": "markdown",
   "metadata": {},
   "source": [
    "# Figure 1\n",
    "\n",
    "- Notebook to make figure one\n",
    "- Moved from old on 2020.01.10\n",
    "- by Cascade Tuholske"
   ]
  },
  {
   "cell_type": "markdown",
   "metadata": {},
   "source": [
    "#### Dependencies"
   ]
  },
  {
   "cell_type": "code",
   "execution_count": 1,
   "metadata": {},
   "outputs": [],
   "source": [
    "import pandas as pd\n",
    "import geopandas as gpd\n",
    "import numpy as np  \n",
    "import matplotlib.pyplot as plt  \n",
    "import seaborn as seabornInstance \n",
    "from sklearn.model_selection import train_test_split \n",
    "from sklearn.linear_model import LinearRegression\n",
    "from sklearn import metrics\n",
    "import statsmodels.api as sm\n",
    "import seaborn as sns\n",
    "import glob"
   ]
  },
  {
   "cell_type": "markdown",
   "metadata": {},
   "source": [
    "#### Make Data Function"
   ]
  },
  {
   "cell_type": "code",
   "execution_count": 2,
   "metadata": {},
   "outputs": [],
   "source": [
    "def make_pdays(df_stats, df_pop):\n",
    "    \n",
    "    \"Makes a dataframe with stats and population to calc people days\"\n",
    "    \n",
    "    # Make Population Long Format\n",
    "    pop_long = pd.wide_to_long(df_pop, stubnames = 'P', i = 'ID_HDC_G0', j = 'year')\n",
    "    pop_long.reset_index(level=0, inplace=True)\n",
    "    pop_long.reset_index(level=0, inplace=True)\n",
    "    pop_long = pop_long.drop('Unnamed: 0', axis = 1)\n",
    "    \n",
    "    # Get Total Days \n",
    "    data = df_stats.drop_duplicates(['year', 'ID_HDC_G0'], keep = 'first') # drop out duplicates\n",
    "    pdays = pd.DataFrame()\n",
    "    pdays['ID_HDC_G0'] = data['ID_HDC_G0']\n",
    "    pdays['year'] = data['year']\n",
    "    pdays['total_days'] = data['total_days']\n",
    "    pdays['CTR_MN_NM'] = data['CTR_MN_NM']\n",
    "    pdays['sub-region'] = data['sub-region']\n",
    "    pdays['region'] = data['region']\n",
    "    pdays['intermediate-region'] = data['intermediate-region']\n",
    "    \n",
    "    # Merge\n",
    "    pdays_merge = pdays.merge(pop_long, on=['ID_HDC_G0', 'year'], how = 'left')\n",
    "\n",
    "    # Now get people days from 1983\n",
    "    p83 = pd.DataFrame()\n",
    "    p83['ID_HDC_G0'] = df_pop['ID_HDC_G0']\n",
    "    p83['P1983'] = df_pop['P1983']\n",
    "\n",
    "    pdays_merge = pdays_merge.merge(p83, on=['ID_HDC_G0'], how = 'left')\n",
    "    \n",
    "    # Calc p days\n",
    "    pdays_merge['people_days'] = pdays_merge['total_days'] * pdays_merge['P'] / 10**9 # total people days\n",
    "    pdays_merge['people_days_83'] = pdays_merge['total_days'] * pdays_merge['P1983'] / 10**9 # people days w/ pop con\n",
    "    pdays_merge['people_days_attr'] = pdays_merge['people_days'] - pdays_merge['people_days_83']  # dif\n",
    "    pdays_merge['test'] = pdays_merge['total_days'] * (pdays_merge['P'] - pdays_merge['P1983'])\n",
    "    \n",
    "    return pdays_merge"
   ]
  },
  {
   "cell_type": "markdown",
   "metadata": {},
   "source": [
    "#### LM Function"
   ]
  },
  {
   "cell_type": "code",
   "execution_count": 3,
   "metadata": {},
   "outputs": [],
   "source": [
    "# Regressions\n",
    "\n",
    "# Get Data\n",
    "\n",
    "def lm_func(df, col):\n",
    "    \n",
    "    \"simple linear model of a time series data, returns coef\"\n",
    "    \n",
    "    X_year = np.array(df.groupby('year')['ID_HDC_G0'].mean().index).reshape((-1, 1))\n",
    "    Y_stats = np.array(df.groupby('year')[col].sum()).reshape((-1, 1))\n",
    "\n",
    "    lm = LinearRegression()\n",
    "    model = lm.fit(X_year, Y_stats)\n",
    "    coef = lm.coef_\n",
    "    \n",
    "    return coef\n"
   ]
  },
  {
   "cell_type": "markdown",
   "metadata": {},
   "source": [
    "# Make Data"
   ]
  },
  {
   "cell_type": "code",
   "execution_count": 4,
   "metadata": {},
   "outputs": [],
   "source": [
    "# file paths\n",
    "DATA_IN = \"/home/cascade/projects/data_out_urbanheat/\"  # Note: Need ?dl=1 to make sure this file gets read correctly\n",
    "FN_stats = 'heatrange/All_data20200109_406C_es_final.csv'\n",
    "df_stats = pd.read_csv(DATA_IN+FN_stats)\n",
    "# FIG_OUT = '/home/cascade/projects/figures/'\n",
    "\n",
    "FN_pop = 'GHS-UCDB-Interp.csv'\n",
    "df_pop = pd.read_csv(DATA_IN+FN_pop)"
   ]
  },
  {
   "cell_type": "code",
   "execution_count": 5,
   "metadata": {},
   "outputs": [],
   "source": [
    "df_data = make_pdays(df_stats, df_pop)"
   ]
  },
  {
   "cell_type": "code",
   "execution_count": 6,
   "metadata": {},
   "outputs": [
    {
     "data": {
      "text/html": [
       "<div>\n",
       "<style scoped>\n",
       "    .dataframe tbody tr th:only-of-type {\n",
       "        vertical-align: middle;\n",
       "    }\n",
       "\n",
       "    .dataframe tbody tr th {\n",
       "        vertical-align: top;\n",
       "    }\n",
       "\n",
       "    .dataframe thead th {\n",
       "        text-align: right;\n",
       "    }\n",
       "</style>\n",
       "<table border=\"1\" class=\"dataframe\">\n",
       "  <thead>\n",
       "    <tr style=\"text-align: right;\">\n",
       "      <th></th>\n",
       "      <th>ID_HDC_G0</th>\n",
       "      <th>year</th>\n",
       "      <th>total_days</th>\n",
       "      <th>CTR_MN_NM</th>\n",
       "      <th>sub-region</th>\n",
       "      <th>region</th>\n",
       "      <th>intermediate-region</th>\n",
       "      <th>P</th>\n",
       "      <th>P1983</th>\n",
       "      <th>people_days</th>\n",
       "      <th>people_days_83</th>\n",
       "      <th>people_days_attr</th>\n",
       "      <th>test</th>\n",
       "    </tr>\n",
       "  </thead>\n",
       "  <tbody>\n",
       "    <tr>\n",
       "      <td>0</td>\n",
       "      <td>2784</td>\n",
       "      <td>1983</td>\n",
       "      <td>1</td>\n",
       "      <td>Germany</td>\n",
       "      <td>Western Europe</td>\n",
       "      <td>Europe</td>\n",
       "      <td>Western Europe</td>\n",
       "      <td>9.976361e+05</td>\n",
       "      <td>997636.118717</td>\n",
       "      <td>0.000998</td>\n",
       "      <td>0.000998</td>\n",
       "      <td>0.000000e+00</td>\n",
       "      <td>0.000000</td>\n",
       "    </tr>\n",
       "    <tr>\n",
       "      <td>1</td>\n",
       "      <td>2784</td>\n",
       "      <td>2013</td>\n",
       "      <td>1</td>\n",
       "      <td>Germany</td>\n",
       "      <td>Western Europe</td>\n",
       "      <td>Europe</td>\n",
       "      <td>Western Europe</td>\n",
       "      <td>1.538112e+06</td>\n",
       "      <td>997636.118717</td>\n",
       "      <td>0.001538</td>\n",
       "      <td>0.000998</td>\n",
       "      <td>5.404756e-04</td>\n",
       "      <td>540475.589177</td>\n",
       "    </tr>\n",
       "    <tr>\n",
       "      <td>2</td>\n",
       "      <td>2833</td>\n",
       "      <td>1983</td>\n",
       "      <td>1</td>\n",
       "      <td>Germany</td>\n",
       "      <td>Western Europe</td>\n",
       "      <td>Europe</td>\n",
       "      <td>Western Europe</td>\n",
       "      <td>6.014093e+04</td>\n",
       "      <td>60140.932532</td>\n",
       "      <td>0.000060</td>\n",
       "      <td>0.000060</td>\n",
       "      <td>0.000000e+00</td>\n",
       "      <td>0.000000</td>\n",
       "    </tr>\n",
       "    <tr>\n",
       "      <td>3</td>\n",
       "      <td>2833</td>\n",
       "      <td>1984</td>\n",
       "      <td>1</td>\n",
       "      <td>Germany</td>\n",
       "      <td>Western Europe</td>\n",
       "      <td>Europe</td>\n",
       "      <td>Western Europe</td>\n",
       "      <td>6.033127e+04</td>\n",
       "      <td>60140.932532</td>\n",
       "      <td>0.000060</td>\n",
       "      <td>0.000060</td>\n",
       "      <td>1.903325e-07</td>\n",
       "      <td>190.332532</td>\n",
       "    </tr>\n",
       "    <tr>\n",
       "      <td>4</td>\n",
       "      <td>2833</td>\n",
       "      <td>1998</td>\n",
       "      <td>1</td>\n",
       "      <td>Germany</td>\n",
       "      <td>Western Europe</td>\n",
       "      <td>Europe</td>\n",
       "      <td>Western Europe</td>\n",
       "      <td>6.411484e+04</td>\n",
       "      <td>60140.932532</td>\n",
       "      <td>0.000064</td>\n",
       "      <td>0.000060</td>\n",
       "      <td>3.973904e-06</td>\n",
       "      <td>3973.903796</td>\n",
       "    </tr>\n",
       "  </tbody>\n",
       "</table>\n",
       "</div>"
      ],
      "text/plain": [
       "   ID_HDC_G0  year  total_days CTR_MN_NM      sub-region  region  \\\n",
       "0       2784  1983           1   Germany  Western Europe  Europe   \n",
       "1       2784  2013           1   Germany  Western Europe  Europe   \n",
       "2       2833  1983           1   Germany  Western Europe  Europe   \n",
       "3       2833  1984           1   Germany  Western Europe  Europe   \n",
       "4       2833  1998           1   Germany  Western Europe  Europe   \n",
       "\n",
       "  intermediate-region             P          P1983  people_days  \\\n",
       "0      Western Europe  9.976361e+05  997636.118717     0.000998   \n",
       "1      Western Europe  1.538112e+06  997636.118717     0.001538   \n",
       "2      Western Europe  6.014093e+04   60140.932532     0.000060   \n",
       "3      Western Europe  6.033127e+04   60140.932532     0.000060   \n",
       "4      Western Europe  6.411484e+04   60140.932532     0.000064   \n",
       "\n",
       "   people_days_83  people_days_attr           test  \n",
       "0        0.000998      0.000000e+00       0.000000  \n",
       "1        0.000998      5.404756e-04  540475.589177  \n",
       "2        0.000060      0.000000e+00       0.000000  \n",
       "3        0.000060      1.903325e-07     190.332532  \n",
       "4        0.000060      3.973904e-06    3973.903796  "
      ]
     },
     "execution_count": 6,
     "metadata": {},
     "output_type": "execute_result"
    }
   ],
   "source": [
    "df_data.head()"
   ]
  },
  {
   "cell_type": "markdown",
   "metadata": {},
   "source": [
    "# Plots"
   ]
  },
  {
   "cell_type": "code",
   "execution_count": 7,
   "metadata": {},
   "outputs": [
    {
     "data": {
      "text/plain": [
       "Text(2.46, 0.8, '477m increase in \\npeople days per year')"
      ]
     },
     "execution_count": 7,
     "metadata": {},
     "output_type": "execute_result"
    },
    {
     "data": {
      "image/png": "[encoded data removed]",
      "text/plain": [
       "<Figure size 1080x360 with 3 Axes>"
      ]
     },
     "metadata": {
      "needs_background": "light"
     },
     "output_type": "display_data"
    }
   ],
   "source": [
    "fig, axs = plt.subplots(1, 3, figsize = (15,5), sharex=True)\n",
    "\n",
    "# People Days\n",
    "data = df_data.groupby('year')['people_days'].sum() \n",
    "years = list(data.index)\n",
    "axs[0].plot(data, color = 'blue', linestyle = ':', alpha = 0.5)\n",
    "axs[0].fill_between(years, data, color = 'blue', alpha = 0.1, label='_nolegend_')\n",
    "sns.regplot(years, data, color = 'blue', ax = axs[0], scatter = False, truncate = True)\n",
    "axs[0].title.set_text('Total People Days')\n",
    "axs[0].set_ylabel('People Days [billions]')\n",
    "\n",
    "coef = int(lm_func(df_data, 'people_days')[0][0]*10**3)\n",
    "axs[0].text(0.07, .8, str(coef)+'m increase in \\npeople days per year', transform=axs[0].transAxes, \n",
    "            size=12)\n",
    "\n",
    "# People Days\n",
    "data = df_data.groupby('year')['people_days_83'].sum() \n",
    "years = list(data.index)\n",
    "axs[1].plot(data, color = 'green', linestyle = ':', alpha = 0.5)\n",
    "axs[1].fill_between(years, data, color = 'green', alpha = 0.1, label='_nolegend_')\n",
    "sns.regplot(years, data, color = 'green', ax = axs[1], scatter = False, truncate = True)\n",
    "axs[1].title.set_text('Attribution to change in urban climate')\n",
    "axs[1].set_ylabel('')\n",
    "\n",
    "coef = int(lm_func(df_data, 'people_days_83')[0][0]*10**3)\n",
    "axs[1].text(1.25, .8, str(coef)+'m increase in \\npeople days per year', transform=axs[0].transAxes, \n",
    "            size=12)\n",
    "\n",
    "# People Days\n",
    "data = df_data.groupby('year')['people_days_attr'].sum() \n",
    "years = list(data.index)\n",
    "axs[2].plot(data, color = 'red', linestyle = ':', alpha = 0.5)\n",
    "axs[2].fill_between(years, data, color = 'red', alpha = 0.1, label='_nolegend_')\n",
    "sns.regplot(years, data, color = 'red', ax = axs[2], scatter = False, truncate = True)\n",
    "axs[2].title.set_text('Attribution to change in urban climate\\n and population growth')\n",
    "axs[2].set_ylabel('')\n",
    "\n",
    "coef = int(lm_func(df_data, 'people_days_attr')[0][0]*10**3)\n",
    "axs[2].text(1.25*2-0.04, .8, str(coef)+'m increase in \\npeople days per year', transform=axs[0].transAxes, \n",
    "            size=12)\n",
    "\n",
    "# Set y-axis\n",
    "# for ax in fig.get_axes():\n",
    "#     ax.label_outer()\n",
    "\n",
    "\n",
    "# Title\n",
    "# axs.set_title('Dayi * (Pi - P83)', fontsize = 20)\n",
    "# axs.set_ylabel('Person Days [Billions]', fontsize = 20)\n",
    "# axs.set_xlabel('Year', fontsize = 20)\n",
    "# axs.tick_params(labelsize = 15)"
   ]
  },
  {
   "cell_type": "markdown",
   "metadata": {},
   "source": [
    "# Regional plots"
   ]
  },
  {
   "cell_type": "code",
   "execution_count": 62,
   "metadata": {},
   "outputs": [],
   "source": [
    "region_list = []\n",
    "coef_pdays = []\n",
    "coef_pdays_83 = []"
   ]
  },
  {
   "cell_type": "code",
   "execution_count": 63,
   "metadata": {},
   "outputs": [],
   "source": [
    "for region in list(np.unique(df_data['sub-region'])):\n",
    "    label = region\n",
    "    region_list.append(label)\n",
    "    \n",
    "    df = df_data[df_data['sub-region'] == region]\n",
    "    coef_pday = lm_func(df, 'people_days')[0][0]*10**9\n",
    "    coef_pdays.append(coef_pday)\n",
    "    \n",
    "    df = df_data[df_data['sub-region'] == region]\n",
    "    coef_pday = lm_func(df, 'people_days_83')[0][0]*10**9\n",
    "    coef_pdays_83.append(coef_pday)"
   ]
  },
  {
   "cell_type": "code",
   "execution_count": 77,
   "metadata": {},
   "outputs": [
    {
     "data": {
      "text/plain": [
       "(1, 100000000)"
      ]
     },
     "execution_count": 77,
     "metadata": {},
     "output_type": "execute_result"
    },
    {
     "data": {
      "image/png": "[encoded data removed]",
      "text/plain": [
       "<Figure size 720x720 with 1 Axes>"
      ]
     },
     "metadata": {
      "needs_background": "light"
     },
     "output_type": "display_data"
    }
   ],
   "source": [
    "fig, axs = plt.subplots(1, figsize = (10,10), sharex=True)\n",
    "\n",
    "axs.scatter(coef_pdays, coef_pdays_83)\n",
    "plt.xscale('log')\n",
    "plt.yscale('log')\n",
    "plt.xlim((1, 10**8))\n",
    "plt.ylim((1, 10**8))"
   ]
  }
 ],
 "metadata": {
  "kernelspec": {
   "display_name": "geo",
   "language": "python",
   "name": "geo"
  },
  "language_info": {
   "codemirror_mode": {
    "name": "ipython",
    "version": 3
   },
   "file_extension": ".py",
   "mimetype": "text/x-python",
   "name": "python",
   "nbconvert_exporter": "python",
   "pygments_lexer": "ipython3",
   "version": "3.6.7"
  }
 },
 "nbformat": 4,
 "nbformat_minor": 2
}
