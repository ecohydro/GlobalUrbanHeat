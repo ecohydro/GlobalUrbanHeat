{
 "cells": [
  {
   "cell_type": "code",
   "execution_count": 1,
   "metadata": {},
   "outputs": [],
   "source": [
    "##################################################################################\n",
    "#\n",
    "#       Make Heat Index\n",
    "#       By Cascade Tuholske Spring 2021\n",
    "#\n",
    "#       Program makes daily maximum heat index tifs with CHIRTS-daily Tmax and \n",
    "#       relative humidity min estimated with CHIRTS-daily Tmax\n",
    "#\n",
    "#       NOAA Heat Index Equation - https://www.wpc.ncep.noaa.gov/html/heatindex_equation.shtml\n",
    "#\n",
    "#       Note - right now units are all in C. They can be updated to F or C as needed. \n",
    "#              See make_hi function to make changes CPT July 2021\n",
    "#\n",
    "#################################################################################\n",
    "\n",
    "#### Dependencies\n",
    "import numpy as np\n",
    "import pandas as pd\n",
    "import xarray \n",
    "import os\n",
    "import glob\n",
    "import rasterio\n",
    "import matplotlib.pyplot as plt\n",
    "import time\n",
    "import multiprocessing as mp \n",
    "from multiprocessing import Pool\n",
    "import multiprocessing\n",
    "import ClimFuncs"
   ]
  },
  {
   "cell_type": "code",
   "execution_count": 2,
   "metadata": {},
   "outputs": [],
   "source": [
    "def parallel_loop(function, start_list, cpu_num):\n",
    "    \"\"\"Run a routine in parallel\n",
    "    Args: \n",
    "        function = function to apply in parallel\n",
    "        start_list = list of args to loop through in parallel\n",
    "        cpu_num = numper of cpus to fire  \n",
    "    \"\"\" \n",
    "    start = time.time()\n",
    "    pool = Pool(processes = cpu_num)\n",
    "    pool.map(function, start_list)\n",
    "    # pool.map_async(function, dir_list)\n",
    "    pool.close()\n",
    "\n",
    "    end = time.time()\n",
    "    print(end-start)"
   ]
  },
  {
   "cell_type": "code",
   "execution_count": 3,
   "metadata": {},
   "outputs": [],
   "source": [
    "def hi_loop(year):\n",
    "    \n",
    "    \"\"\"\n",
    "    \"\"\"\n",
    "    print(multiprocessing.current_process(), year)\n",
    "    \n",
    "    # Set up file paths\n",
    "    rh_path = os.path.join('/home/CHIRTS/daily_ERA5/w-ERA5_Td.eq2-2-spechum-Tmax/', str(year)) # RH min made with CHIRTS-daily Tmax\n",
    "    tmax_path = os.path.join('/home/chc-data-out/products/CHIRTSdaily/v1.0/global_tifs_p05/Tmax/', str(year)) # CHIRTS-daily Tmax\n",
    "    \n",
    "    # zip RH and Tmax\n",
    "    rh_fns = sorted(glob.glob(rh_path+'/*.tif'))\n",
    "    tmax_fns = sorted(glob.glob(tmax_path+'/*.tif'))\n",
    "    zipped_list = list(zip(rh_fns,tmax_fns))\n",
    "     \n",
    "    test = zipped_list[0:3]\n",
    "    \n",
    "    for i, fns in enumerate(test):\n",
    "        \n",
    "        with rasterio.open(fns[0]) as rh:\n",
    "            rh_arr = rh.read(1)\n",
    "            meta = rh.meta\n",
    "        \n",
    "        with rasterio.open(fns[1]) as tmax:\n",
    "            tmax_arr = tmax.read(1)\n",
    "            meta = rh.meta\n",
    "        \n",
    "        arr = tmax_arr * rh_arr\n",
    "        \n",
    "        fn_out = '/scratch/cascade/UEH-daily/himax/' + str(year) + '/test' + str(i) + '.tif'\n",
    "        \n",
    "        with rasterio.open(fn_out, 'w', **meta) as out:\n",
    "            out.write_band(1, arr)"
   ]
  },
  {
   "cell_type": "code",
   "execution_count": 4,
   "metadata": {},
   "outputs": [],
   "source": [
    "# Make years \n",
    "year_list = list(range(1983,2016+1))\n",
    "year_sub = year_list[0:4]"
   ]
  },
  {
   "cell_type": "code",
   "execution_count": 5,
   "metadata": {},
   "outputs": [
    {
     "name": "stdout",
     "output_type": "stream",
     "text": [
      "<ForkProcess(ForkPoolWorker-1, started daemon)> 1983\n",
      "<ForkProcess(ForkPoolWorker-4, started daemon)> 1986\n",
      "<ForkProcess(ForkPoolWorker-2, started daemon)> 1984\n",
      "<ForkProcess(ForkPoolWorker-3, started daemon)> 1985\n",
      "1.05949068069458\n"
     ]
    }
   ],
   "source": [
    "# Run it\n",
    "parallel_loop(function = hi_loop, start_list = year_sub, cpu_num = 4)"
   ]
  }
 ],
 "metadata": {
  "kernelspec": {
   "display_name": "geo",
   "language": "python",
   "name": "geo"
  },
  "language_info": {
   "codemirror_mode": {
    "name": "ipython",
    "version": 3
   },
   "file_extension": ".py",
   "mimetype": "text/x-python",
   "name": "python",
   "nbconvert_exporter": "python",
   "pygments_lexer": "ipython3",
   "version": "3.6.7"
  }
 },
 "nbformat": 4,
 "nbformat_minor": 4
}
