{
 "cells": [
  {
   "cell_type": "markdown",
   "metadata": {},
   "source": [
    "# Stats Parallel\n",
    "\n",
    "Notebook by Cascade Tuholske 2021.02.15 <br>\n",
    "Trying to speed up 4_Event_Stats.py"
   ]
  },
  {
   "cell_type": "code",
   "execution_count": 1,
   "metadata": {},
   "outputs": [],
   "source": [
    "#### Dependencies\n",
    "import pandas as pd\n",
    "import numpy as np\n",
    "import xarray as xr\n",
    "from random import random\n",
    "from itertools import groupby\n",
    "from operator import itemgetter\n",
    "import geopandas as gpd \n",
    "import glob\n",
    "from statistics import mean\n",
    "import julian\n",
    "import time \n",
    "import multiprocessing as mp \n",
    "from multiprocessing import Pool\n",
    "import os\n",
    "import sys\n",
    "import matplotlib.pyplot as plt"
   ]
  },
  {
   "cell_type": "code",
   "execution_count": 2,
   "metadata": {},
   "outputs": [],
   "source": [
    "# check data\n",
    "path = '/home/cascade/projects/UrbanHeat/data/processed/PNAS-DATA-v2/'\n",
    "fns = glob.glob(path+'*')"
   ]
  },
  {
   "cell_type": "code",
   "execution_count": 3,
   "metadata": {},
   "outputs": [
    {
     "data": {
      "text/plain": [
       "['/home/cascade/projects/UrbanHeat/data/processed/PNAS-DATA-v2/HI406_1D_TREND_EXPP05.json',\n",
       " '/home/cascade/projects/UrbanHeat/data/processed/PNAS-DATA-v2/HI406_1D_STATS.json',\n",
       " '/home/cascade/projects/UrbanHeat/data/processed/PNAS-DATA-v2/WBGT32_1D_STATS.json',\n",
       " '/home/cascade/projects/UrbanHeat/data/processed/PNAS-DATA-v2/WBGT32_1D_TREND_ALL.json',\n",
       " '/home/cascade/projects/UrbanHeat/data/processed/PNAS-DATA-v2/WBGT32_1D_TREND_EXPP05.json',\n",
       " '/home/cascade/projects/UrbanHeat/data/processed/PNAS-DATA-v2/WBGT28_1D_TREND_EXPP05.json',\n",
       " '/home/cascade/projects/UrbanHeat/data/processed/PNAS-DATA-v2/HI406_1D_EXP.json',\n",
       " '/home/cascade/projects/UrbanHeat/data/processed/PNAS-DATA-v2/WBGT28_1D_EXP.json',\n",
       " '/home/cascade/projects/UrbanHeat/data/processed/PNAS-DATA-v2/HI406_2D_EXP.json',\n",
       " '/home/cascade/projects/UrbanHeat/data/processed/PNAS-DATA-v2/HI406_1D_TREND_ALL.json',\n",
       " '/home/cascade/projects/UrbanHeat/data/processed/PNAS-DATA-v2/HI406_2D_TREND_HEATP05.json',\n",
       " '/home/cascade/projects/UrbanHeat/data/processed/PNAS-DATA-v2/WBGT28_1D_TREND_HEATP05.json',\n",
       " '/home/cascade/projects/UrbanHeat/data/processed/PNAS-DATA-v2/HI406_2D_TREND_EXPP05.json',\n",
       " '/home/cascade/projects/UrbanHeat/data/processed/PNAS-DATA-v2/WBGT32_1D_TREND_HEATP05.json',\n",
       " '/home/cascade/projects/UrbanHeat/data/processed/PNAS-DATA-v2/HI461_1D_STATS.json',\n",
       " '/home/cascade/projects/UrbanHeat/data/processed/PNAS-DATA-v2/HI406_1D_TREND_HEATP05.json',\n",
       " '/home/cascade/projects/UrbanHeat/data/processed/PNAS-DATA-v2/HI406_2D_STATS.json',\n",
       " '/home/cascade/projects/UrbanHeat/data/processed/PNAS-DATA-v2/HI406_2D_TREND_ALL.json',\n",
       " '/home/cascade/projects/UrbanHeat/data/processed/PNAS-DATA-v2/WBGT28_1D_TREND_ALL.json',\n",
       " '/home/cascade/projects/UrbanHeat/data/processed/PNAS-DATA-v2/WBGT28_1D_STATS.json',\n",
       " '/home/cascade/projects/UrbanHeat/data/processed/PNAS-DATA-v2/HI461_1D_EXP.json',\n",
       " '/home/cascade/projects/UrbanHeat/data/processed/PNAS-DATA-v2/WBGT32_1D_EXP.json']"
      ]
     },
     "execution_count": 3,
     "metadata": {},
     "output_type": "execute_result"
    }
   ],
   "source": [
    "fns"
   ]
  },
  {
   "cell_type": "code",
   "execution_count": 6,
   "metadata": {},
   "outputs": [
    {
     "name": "stdout",
     "output_type": "stream",
     "text": [
      "/home/cascade/projects/UrbanHeat/data/processed/PNAS-DATA-v2/HI406_1D_EXP.json\n",
      "ID_HDC_G0\n",
      "year\n",
      "tot_days\n",
      "P\n",
      "P1983\n",
      "P2016\n",
      "people_days\n",
      "people_days_heat\n",
      "people_days_pop\n"
     ]
    }
   ],
   "source": [
    "fn = fns[6]\n",
    "print(fn )\n",
    "for col in pd.read_json(fn, orient = 'split').columns:\n",
    "    print(col)"
   ]
  },
  {
   "cell_type": "code",
   "execution_count": null,
   "metadata": {},
   "outputs": [],
   "source": [
    "meta_fn = '/home/cascade/projects/UrbanHeat/data/interim/GHS-UCDB-IDS.csv'"
   ]
  },
  {
   "cell_type": "code",
   "execution_count": null,
   "metadata": {},
   "outputs": [],
   "source": [
    "meta = pd.read_csv(meta_fn)"
   ]
  },
  {
   "cell_type": "code",
   "execution_count": null,
   "metadata": {},
   "outputs": [],
   "source": [
    "meta.head()"
   ]
  },
  {
   "cell_type": "code",
   "execution_count": null,
   "metadata": {},
   "outputs": [],
   "source": [
    "trend_fn = '/home/cascade/projects/UrbanHeat/data/processed/PNAS-DATA-v2/HI406_2D_TREND_EXPP05.json'"
   ]
  },
  {
   "cell_type": "code",
   "execution_count": null,
   "metadata": {},
   "outputs": [],
   "source": [
    "trend = pd.read_json(trend_fn, orient = 'split')"
   ]
  },
  {
   "cell_type": "code",
   "execution_count": null,
   "metadata": {},
   "outputs": [],
   "source": [
    "trend.head()"
   ]
  },
  {
   "cell_type": "code",
   "execution_count": null,
   "metadata": {},
   "outputs": [],
   "source": [
    "fns"
   ]
  },
  {
   "cell_type": "code",
   "execution_count": null,
   "metadata": {},
   "outputs": [],
   "source": [
    "df = pd.read_json(path+'HI406_2D_EXP.json', orient = 'split')\n",
    "fn_nm = '/home/cascade/projects/UrbanHeat/data/processed/PNAS-DATA-v1/AllDATA-GHS-ERA5-HI406-PDAYS.csv'\n",
    "df1 = pd.read_csv(fn_nm)"
   ]
  },
  {
   "cell_type": "code",
   "execution_count": null,
   "metadata": {},
   "outputs": [],
   "source": [
    "city = 2046 #9691\n",
    "nm = 'Paris' #Kolkata\n",
    "plt.scatter(df[df['ID_HDC_G0'] == city]['year'],df[df['ID_HDC_G0'] == city]['tot_days'])\n",
    "plt.title(nm+' 40.6C >=2 TOTAL DAYS/YR')\n",
    "plt.xlabel('days')"
   ]
  },
  {
   "cell_type": "code",
   "execution_count": null,
   "metadata": {},
   "outputs": [],
   "source": [
    "plt.scatter(df1[df1['ID_HDC_G0'] == city]['year'],df1[df1['ID_HDC_G0'] == city]['total_days'])\n",
    "plt.title(nm+' 40.6C >=1 TOTAL DAYS/YR')\n",
    "plt.xlabel('days')"
   ]
  },
  {
   "cell_type": "code",
   "execution_count": null,
   "metadata": {},
   "outputs": [],
   "source": [
    "df1[(df1['ID_HDC_G0'] == city) & (df1['year'] == 1998)]"
   ]
  },
  {
   "cell_type": "code",
   "execution_count": null,
   "metadata": {},
   "outputs": [],
   "source": [
    "df[(df['ID_HDC_G0'] == city) & (df['year'] == 1998)]"
   ]
  },
  {
   "cell_type": "code",
   "execution_count": null,
   "metadata": {},
   "outputs": [],
   "source": [
    "df = pd.read_json(fns[0], orient = 'split')"
   ]
  },
  {
   "cell_type": "code",
   "execution_count": null,
   "metadata": {
    "scrolled": true
   },
   "outputs": [],
   "source": [
    "df.head()"
   ]
  },
  {
   "cell_type": "code",
   "execution_count": null,
   "metadata": {},
   "outputs": [],
   "source": [
    "test = df[(df['ID_HDC_G0'] == 9691) | (df['ID_HDC_G0'] == 4417)]"
   ]
  },
  {
   "cell_type": "code",
   "execution_count": null,
   "metadata": {},
   "outputs": [],
   "source": [
    "test.groupby(['ID_HDC_G0','year']).sum().reset_index()"
   ]
  },
  {
   "cell_type": "code",
   "execution_count": null,
   "metadata": {},
   "outputs": [],
   "source": [
    "def tot_days(df):\n",
    "    df_out = df[['ID_HDC_G0','year','duration']].groupby(['ID_HDC_G0','year']).sum().reset_index()\n",
    "    \n",
    "    return df_out"
   ]
  },
  {
   "cell_type": "code",
   "execution_count": null,
   "metadata": {},
   "outputs": [],
   "source": [
    "ug = tot_days(test)\n",
    "ug\n"
   ]
  },
  {
   "cell_type": "code",
   "execution_count": null,
   "metadata": {},
   "outputs": [],
   "source": [
    "test = df[(df['ID_HDC_G0'] == 9691) & (df['year'] == 2016)]\n",
    "test['duration'].sum()"
   ]
  },
  {
   "cell_type": "code",
   "execution_count": null,
   "metadata": {},
   "outputs": [],
   "source": [
    "for df in dfs: print(len(df))"
   ]
  },
  {
   "cell_type": "code",
   "execution_count": null,
   "metadata": {},
   "outputs": [],
   "source": [
    "dfs[0].head()"
   ]
  },
  {
   "cell_type": "code",
   "execution_count": null,
   "metadata": {
    "scrolled": true
   },
   "outputs": [],
   "source": [
    "plt.hist(dfs[0]['duration'], bins = 50);\n",
    "plt.yscale('log')\n",
    "plt.title('Duration all events 40.6 >=1 day')\n",
    "plt.xlabel('days')"
   ]
  },
  {
   "cell_type": "code",
   "execution_count": null,
   "metadata": {},
   "outputs": [],
   "source": [
    "tmax = dfs[0]['tmax'].to_list()\n",
    "tmax_lst = [item for sublist in tmax for item in sublist]"
   ]
  },
  {
   "cell_type": "code",
   "execution_count": null,
   "metadata": {},
   "outputs": [],
   "source": [
    "plt.hist(tmax_lst, bins = 50);\n",
    "plt.yscale('log')\n",
    "plt.title('HImax >=40.6C, for events >=1 day');\n",
    "plt.xlabel('HI')"
   ]
  },
  {
   "cell_type": "code",
   "execution_count": null,
   "metadata": {},
   "outputs": [],
   "source": [
    "df406 = dfs[0]\n",
    "df406 = df406[df406['duration'] >= 2]"
   ]
  },
  {
   "cell_type": "code",
   "execution_count": null,
   "metadata": {},
   "outputs": [],
   "source": [
    "plt.hist(df406['duration'], bins = 50, color = 'red');\n",
    "plt.yscale('log')\n",
    "plt.title('Duration all events 40.6 >=2 day')\n",
    "plt.xlabel('days')"
   ]
  },
  {
   "cell_type": "code",
   "execution_count": null,
   "metadata": {
    "scrolled": true
   },
   "outputs": [],
   "source": [
    "tmax = df406['tmax'].to_list()\n",
    "tmax_lst = [item for sublist in tmax for item in sublist]\n",
    "\n",
    "plt.hist(tmax_lst, bins = 50);\n",
    "plt.yscale('log')\n",
    "plt.title('HImax >=40.6C, for events >=2 day');\n",
    "plt.xlabel('HI')"
   ]
  },
  {
   "cell_type": "code",
   "execution_count": null,
   "metadata": {},
   "outputs": [],
   "source": [
    "def add_years(df):\n",
    "    \"\"\" Function adds zero to people days for all missing years for each city \n",
    "    so that regressions aren't screwed up\"\"\"\n",
    "    \n",
    "    years = list(np.unique(df['year'])) # Get list of all years\n",
    "    row_list = []\n",
    "    counter = 0\n",
    "    \n",
    "    for city in list(np.unique(df['ID_HDC_G0'])):\n",
    "        city_id = city # Get city Id \n",
    "        city_df = df.loc[df['ID_HDC_G0'] == city] # find the location\n",
    "        city_years = list(np.unique(city_df['year'])) # figure out the number of years\n",
    "        \n",
    "        years_dif = list(set(years) - set(city_years)) # find the missing years\n",
    "        \n",
    "        #print(len(years_dif))\n",
    "        if len(years_dif) > 0: # add in the missing years\n",
    "            \n",
    "            counter = counter + len(years_dif) # counter\n",
    "            \n",
    "            for year in years_dif: # add rows with dummy data and zeros\n",
    "                row = []\n",
    "                row.append(city) # city id\n",
    "                row.append(year) # missing year\n",
    "                row.append(0) # total days\n",
    "                row.append('np.nan') # pop year\n",
    "                row.append(float(df[(df['ID_HDC_G0'] == city)]['P'+str(1983)])) # pop 83\n",
    "                row.append(float(df[(df['ID_HDC_G0'] == city)]['P'+str(2016)])) # pop 16\n",
    "                row.append(0) # days\n",
    "                row.append(0) # pdays 83\n",
    "                row.append(0) # pdays diff\n",
    "                \n",
    "                row_list.append(row)\n",
    "    \n",
    "    df_new = pd.DataFrame(row_list, columns= df.columns) # merge the new rows into a df\n",
    "    \n",
    "    df_new = df.append(df_new) # add the rows back to the original data frame\n",
    "    \n",
    "    # Updated 2020.09.07 CPT - coef can be made for heat when p in 1983 is zero\n",
    "    df_new = df_new[df_new['P1983'] > 0]\n",
    "    \n",
    "    return df_new"
   ]
  },
  {
   "cell_type": "code",
   "execution_count": null,
   "metadata": {},
   "outputs": [],
   "source": [
    "np.nan"
   ]
  },
  {
   "cell_type": "code",
   "execution_count": null,
   "metadata": {},
   "outputs": [],
   "source": [
    "exp = pd.read_json(path+'HI461_1D_STATS.json', orient = 'split')"
   ]
  },
  {
   "cell_type": "code",
   "execution_count": null,
   "metadata": {
    "scrolled": false
   },
   "outputs": [],
   "source": [
    "exp.head()"
   ]
  },
  {
   "cell_type": "code",
   "execution_count": null,
   "metadata": {},
   "outputs": [],
   "source": [
    "test = exp[:10000]"
   ]
  },
  {
   "cell_type": "code",
   "execution_count": null,
   "metadata": {},
   "outputs": [],
   "source": [
    "years = list(np.unique(df['year']))\n",
    "row_list = []\n",
    "\n",
    "for city in list(np.unique(df['ID_HDC_G0'])):\n",
    "    city_id = city # Get city Id \n",
    "    city_df = df.loc[df['ID_HDC_G0'] == city] # find the location\n",
    "    city_years = list(np.unique(city_df['year'])) # figure out the number of years\n",
    "\n",
    "    years_dif = list(set(years) - set(city_years)) # find the missing years\n",
    "    \n",
    "    if len(years_dif) > 0: # add in the missing years\n",
    "        for year in years_dif: # add rows with dummy data and zeros\n",
    "            row = []\n",
    "            row.append(city)\n",
    "            row.append(year)\n",
    "            row.append(0) # duration = 0 days\n",
    "            row.append(np.nan) # population for that year is not needed\n",
    "            row.append(df[(df['ID_HDC_G0'] == city)]['P1983'].values[0])\n",
    "            row.append(df[(df['ID_HDC_G0'] == city)]['P1983'].values[0])\n",
    "            row.append(0) # people_days = 0 days\n",
    "            row.append(0) # people_days_heat = 0 days\n",
    "            row.append(0) # people_days_pop = 0 days\n",
    "            \n",
    "            row_list.append(row) # append row list\n",
    "    \n",
    "df_new = pd.DataFrame(row_list, columns= df.columns) # merge the new rows into a df\n",
    "\n",
    "df_new = df.append(df_new) # add the rows back to the original data frame\n",
    "\n",
    "# Drop any city with zero people in 1983\n",
    "df_new = df_new[df_new['P1983'] > 0]\n",
    "\n",
    "return df_new"
   ]
  },
  {
   "cell_type": "code",
   "execution_count": null,
   "metadata": {},
   "outputs": [],
   "source": [
    "df_new"
   ]
  },
  {
   "cell_type": "code",
   "execution_count": null,
   "metadata": {},
   "outputs": [],
   "source": [
    "set(np.unique(df_new[df_new['ID_HDC_G0'] == 12481]['year'])) - set(np.unique(test[test['ID_HDC_G0'] == 12481]['year']))"
   ]
  },
  {
   "cell_type": "code",
   "execution_count": null,
   "metadata": {},
   "outputs": [],
   "source": [
    "set(np.unique(df_new[df_new['ID_HDC_G0'] == 12481]['year']))"
   ]
  },
  {
   "cell_type": "code",
   "execution_count": null,
   "metadata": {},
   "outputs": [],
   "source": [
    "\n",
    "\"\"\" Function adds zero to people days for all missing years for each city \n",
    "so that regressions aren't screwed up\"\"\"\n",
    "\n",
    "years = list(np.unique(exp['year'])) # Get list of all years\n",
    "row_list = []\n",
    "counter = 0\n",
    "\n",
    "for city in list(np.unique(exp['ID_HDC_G0'])):\n",
    "    city_id = city # Get city Id \n",
    "    city_df = exp.loc[exp['ID_HDC_G0'] == city] # find the location\n",
    "    city_years = list(np.unique(city_df['year'])) # figure out the number of years\n",
    "\n",
    "    years_dif = list(set(years) - set(city_years)) # find the missing years\n",
    "\n",
    "    #print(len(years_dif))\n",
    "    if len(years_dif) > 0: # add in the missing years\n",
    "\n",
    "        counter = counter + len(years_dif) # counter\n",
    "\n",
    "        for year in years_dif: # add rows with dummy data and zeros\n",
    "            row = []\n",
    "            row.append(city) # city id\n",
    "            row.append(year) # missing year\n",
    "            row.append(0) # total days\n",
    "            print(exp[(exp['ID_HDC_G0'] == city)]) # pop year\n",
    "#            row.append(float(exp[(exp['ID_HDC_G0'] == city)]['P'+str(year)])) # pop year\n",
    "#             row.append(float(df[(df['ID_HDC_G0'] == city)]['P'+str(1983)])) # pop 83\n",
    "#             row.append(float(df[(df['ID_HDC_G0'] == city)]['P'+str(2016)])) # pop 16\n",
    "#             row.append(0) # days\n",
    "#             row.append(0) # pdays 83\n",
    "#             row.append(0) # pdays diff\n",
    "\n",
    "#             row_list.append(row)\n",
    "\n",
    "# df_new = pd.DataFrame(row_list, columns= df.columns) # merge the new rows into a df\n",
    "\n",
    "# df_new = df.append(df_new) # add the rows back to the original data frame\n",
    "\n",
    "# # Updated 2020.09.07 CPT - coef can be made for heat when p in 1983 is zero\n",
    "# df_new = df_new[df_new['P1983'] > 0]\n",
    "\n"
   ]
  },
  {
   "cell_type": "code",
   "execution_count": null,
   "metadata": {},
   "outputs": [],
   "source": [
    "out = add_years(exp)"
   ]
  },
  {
   "cell_type": "code",
   "execution_count": null,
   "metadata": {},
   "outputs": [],
   "source": [
    "df_in = path+'HI406_2D_STATS.json'"
   ]
  },
  {
   "cell_type": "code",
   "execution_count": null,
   "metadata": {},
   "outputs": [],
   "source": [
    "df = pd.read_json(df_in, orient = 'split')"
   ]
  },
  {
   "cell_type": "code",
   "execution_count": null,
   "metadata": {},
   "outputs": [],
   "source": [
    "df.head()"
   ]
  },
  {
   "cell_type": "code",
   "execution_count": null,
   "metadata": {},
   "outputs": [],
   "source": [
    "df[(df['ID_HDC_G0'] == 8716) & (df['year'] == 2000)]['duration'].sum()"
   ]
  },
  {
   "cell_type": "code",
   "execution_count": null,
   "metadata": {},
   "outputs": [],
   "source": []
  },
  {
   "cell_type": "code",
   "execution_count": null,
   "metadata": {},
   "outputs": [],
   "source": []
  },
  {
   "cell_type": "code",
   "execution_count": null,
   "metadata": {},
   "outputs": [],
   "source": []
  },
  {
   "cell_type": "code",
   "execution_count": null,
   "metadata": {},
   "outputs": [],
   "source": []
  },
  {
   "cell_type": "code",
   "execution_count": null,
   "metadata": {},
   "outputs": [],
   "source": [
    "#### Step 1 - Function Loads all Tmax Data as an X-array\n",
    "def read_data(dir_path, space_dim, time_dim):\n",
    "    \"\"\" Function reads in all Tmax .csv files, joins them by date along the x-axis\n",
    "    and returns the whole record as a x-array data array\n",
    "    \n",
    "    Args:   \n",
    "        dir_path = path to .csv files \n",
    "        time_dim = name for time dim as a str ... use date :-)\n",
    "        space_dim = col name for GHS-UCDB IDs as an str (ID_HDC_G0)\n",
    "    \"\"\"\n",
    "    fn_list = sorted(glob.glob(dir_path+'*.csv'))\n",
    "    df_out = pd.DataFrame()\n",
    "    date_list = []\n",
    "\n",
    "    # Open all Tmax files and concat into a df\n",
    "    for i, fn in enumerate(fn_list):    \n",
    "        # Open the CSV\n",
    "        df = pd.read_csv(fn)\n",
    "\n",
    "        # Get the city ids \n",
    "        if i == 1:\n",
    "            df_id = df[space_dim]\n",
    "\n",
    "        # get only the Tmax columns and concate date list \n",
    "        df_temp = df.iloc[:,3:] # get only temp columns\n",
    "        date_list = date_list+list(df_temp.columns)\n",
    "\n",
    "        # Drop cities w/ no temp record \n",
    "        df_temp_drop = df_temp.dropna()\n",
    "\n",
    "        # Merge\n",
    "        df_out = pd.concat([df_out, df_temp_drop], axis=1)\n",
    "        print(df_out.shape)\n",
    "    \n",
    "    # make date into an array\n",
    "    tmax_arr = df_out.to_numpy()\n",
    "\n",
    "    # Make data into an xr.DataArray\n",
    "    tmax_xr_da = xr.DataArray(tmax_arr, coords=[df_id, date_list], \n",
    "                             dims=[space_dim, time_dim])\n",
    "    return tmax_xr_da"
   ]
  },
  {
   "cell_type": "code",
   "execution_count": null,
   "metadata": {},
   "outputs": [],
   "source": [
    "#### Step 2 Function finds all the Tmax Events and writes it to a dateframe w/ dates for each city\n",
    "def tmax_days(xarray, Tthresh):\n",
    "    \"\"\" Function finds all the tmax days in a year and sums total days per year \n",
    "    greater than a threshold within a year where Tmax > Tthresh for each city. Returns the total number of days,\n",
    "    the dates, the tempatures, and the intensity (daily Tmax - Tthresh)\n",
    "    \n",
    "    Args: \n",
    "        xarray = an xarray object with dims = (space, times)\n",
    "        Tthresh = int of temp threshold\n",
    "    \"\"\"\n",
    "    \n",
    "    # empty lists & df\n",
    "    id_list = []\n",
    "    date_list = []\n",
    "    tmax_list = []\n",
    "    intensity_list = []\n",
    "    df_out = pd.DataFrame()\n",
    "    \n",
    "    # subset xarray\n",
    "    out = xarray.where(xarray > Tthresh, drop = True)\n",
    "\n",
    "    # start loop \n",
    "    for index, loc in enumerate(out.ID_HDC_G0):\n",
    "        id_list.append(out.ID_HDC_G0.values[index]) # get IDS\n",
    "        date_list.append(out.sel(ID_HDC_G0 = loc).dropna(dim = 'date').date.values) # get event dates\n",
    "        \n",
    "        # #CPT 2020.02.23 \n",
    "        # dayTot_list.append(len(out.sel(ID_HDC_G0 = loc).dropna(dim = 'date').date.values)) # get event totals\n",
    "        \n",
    "        tmax_list.append(out.sel(ID_HDC_G0 = loc).dropna(dim = 'date').values) # get temp values\n",
    "        intensity_list.append(out.sel(ID_HDC_G0 = loc).dropna(dim = 'date').values - Tthresh) # get severity\n",
    "\n",
    "    # write to a data frame\n",
    "    df_out['ID_HDC_G0'] = id_list\n",
    "    # df_out['total_days'] = dayTot_list #CPT 2020.02.23\n",
    "    df_out['dates'] = date_list\n",
    "    df_out['tmax'] = tmax_list\n",
    "    df_out['tmax_tntensity'] = intensity_list\n",
    "\n",
    "    # return df_out\n",
    "    return df_out\n"
   ]
  },
  {
   "cell_type": "code",
   "execution_count": null,
   "metadata": {},
   "outputs": [],
   "source": [
    "#### Step 3 Function splits the dataset into Tmax events (continuous days >Tmax) for each city\n",
    "def jul_convert(dates):\n",
    "    \"Function turn days into julian datetime\"\n",
    "    jul_days = pd.to_datetime(dates).to_julian_date()\n",
    "    \n",
    "    return jul_days\n",
    "\n",
    "def event_split(dates, ID_HDC_G0, intensity, tmax): #, total_days): #CPT 2020.02.23\n",
    "    \n",
    "    \"\"\" Searchs a list of dates and isolates sequential dates as a list, then calculates event stats.\n",
    "    See comments in code for more details. \n",
    "    \n",
    "    Args:\n",
    "        dates: pandas.core.index as julian dates\n",
    "        ID_HDC_G0: city ID as string\n",
    "        intensity: numpy.ndarray of intensities values\n",
    "        tmax: numpy.ndarray of intensities values of tmax values\n",
    "        total_days: total number of tmax days in a year for a given city\n",
    "\n",
    "    \"\"\"\n",
    "\n",
    "    # city id\n",
    "    city_id = ID_HDC_G0\n",
    "    # tot_days = total_days #CPT 2020.02.23\n",
    "    \n",
    "    # lists to fill\n",
    "    city_id_list = []\n",
    "    # tot_days_list = [] #CPT 2020.02.23\n",
    "    event_dates_list = []\n",
    "    dur_list = []\n",
    "    intensity_list = []\n",
    "    tmax_list = []\n",
    "    avg_temp_list = []\n",
    "    avg_int_list = []\n",
    "    tot_int_list = []\n",
    "    year_list = []\n",
    "    \n",
    "    # data frame out\n",
    "    df_out = pd.DataFrame()\n",
    "    \n",
    "    # turn days into julian days\n",
    "    jul_days = jul_convert(dates)\n",
    "    \n",
    "    # Counters to make sure we write the correct event dates to a list, don't want julian days in output\n",
    "    counter = 0\n",
    "    start = 0\n",
    "    end = 0\n",
    "    \n",
    "    # Loop through dur list and isolate seq days, temps, and intensities\n",
    "    for k, g in groupby(enumerate(jul_days.values), lambda x: x[1]-x[0]):\n",
    "        \n",
    "        seq = list(map(itemgetter(1), g)) # isolate seq. days\n",
    "        dur = len(seq) # duration of each event\n",
    "        \n",
    "        counter = counter + dur # add duration to counter\n",
    "        end = counter # end of current event\n",
    "        \n",
    "        event_dates = dates[start:end] # dates of tmax days during each event\n",
    "        intense = intensity[start:end] # intensity of each day during event\n",
    "        temp = tmax[start:end] # temp of each day during event\n",
    "        avg_temp = mean(temp) # avg. temp during event\n",
    "        avg_int = mean(intense) # avg. intensity during event\n",
    "        tot_int = np.sum(intense) # total intensity during event \n",
    "        \n",
    "        start = counter # reset start to current end (e.g. counter)\n",
    "        year = event_dates[0].split('.')[0]\n",
    "        \n",
    "        # fill lists\n",
    "        city_id_list.append(city_id)\n",
    "        year_list.append(year)\n",
    "        # tot_days_list.append(tot_days) #CPT 2020.02.23\n",
    "        dur_list.append(dur)\n",
    "        event_dates_list.append(event_dates)\n",
    "        intensity_list.append(intense)\n",
    "        tmax_list.append(temp)\n",
    "        avg_temp_list.append(avg_temp)\n",
    "        avg_int_list.append(avg_int)\n",
    "        tot_int_list.append(tot_int)\n",
    "\n",
    "    # write out as a dateframe\n",
    "    df_out['ID_HDC_G0'] = city_id_list\n",
    "    df_out['year'] = year_list\n",
    "    # df_out['total_days'] = tot_days_list #CPT 2020.02.23\n",
    "    df_out['duration'] = dur_list\n",
    "    df_out['avg_temp'] = avg_temp_list\n",
    "    df_out['avg_intensity'] = avg_int_list\n",
    "    df_out['tot_intensity'] = tot_int_list\n",
    "    df_out['event_dates'] = event_dates_list\n",
    "    df_out['duration'] = dur_list\n",
    "    df_out['intensity'] = intensity_list\n",
    "    df_out['tmax'] = tmax_list\n",
    "\n",
    "    return df_out\n",
    "\n",
    "#### Step 4 function feeds output from function 3 into function 4\n",
    "def tmax_stats(df_in):\n",
    "    \"\"\" runs event_split functionon a dataframe to produce desired tmax stats\n",
    "\n",
    "        NOTE - If you add arguments to event_split to make more states,\n",
    "        be sure to update this function\n",
    "\n",
    "        args:\n",
    "            df: input dataframe\n",
    "    \"\"\"\n",
    "    df_out = pd.DataFrame()\n",
    "\n",
    "    # NOTE - If you add arguments to event_split to make more stats,\n",
    "    # be sure to update this function\n",
    "\n",
    "    for index, row in df_in.iterrows():\n",
    "        dates = row['dates'] # Get event dates\n",
    "        intensity = row['tmax_tntensity'] # Get intensity for each day\n",
    "        tmax = row['tmax'] # Get tmax for each day\n",
    "        ID_HDC_G0 = row['ID_HDC_G0'] # get city id\n",
    "        # total_days = row['total_days'] # get total number of tmax days -- CPT 2020.02.23\n",
    "\n",
    "        df = event_split(dates, ID_HDC_G0, intensity, tmax)# , total_days) #CPT 2020.02.23\n",
    "\n",
    "        df_out = df_out.append(df)\n",
    "\n",
    "    return df_out\n",
    "\n",
    "#### Step 5 function threads it all together\n",
    "def run_stats(dir_path, space_dim, time_dim, Tthresh, fn_out):\n",
    "    \n",
    "    \"\"\" Function ties all the Tmax Stats functions together and writes final stats for each Tmax \n",
    "    event to a .csv file. Returns results as a dataframe if needed\n",
    "    \n",
    "    Args:\n",
    "        dir_path = path to .csv files \n",
    "        time_dim = name for time dim as a str ... use date :-)\n",
    "        space_dim = col name for GHS-UCDB IDs as an str (ID_HDC_G0)\n",
    "        Tthresh = float of temp threshold\n",
    "        fn_out = file and path to write final csv\n",
    "        \n",
    "    \"\"\"\n",
    "    \n",
    "    # read in data\n",
    "    step1= read_data(dir_path, space_dim = space_dim, time_dim = time_dim)\n",
    "    #step1_sub = step1[:,:10] # subset data for testing\n",
    "    print('Stack x-array made')\n",
    "    \n",
    "    # Mask data based on Tmax threshold ... we're using 40.6C\n",
    "    step2 = tmax_days(step1, Tthresh)\n",
    "    print('Tmax masked')\n",
    "    \n",
    "    \n",
    "    # Calculate stats\n",
    "    step3 = tmax_stats(step2)\n",
    "    print('Stats made')\n",
    "\n",
    "    # Save file out\n",
    "    step3.to_json(fn_out, orient = 'split')\n",
    "    \n",
    "    return step3\n",
    "\n",
    "    print('done')"
   ]
  },
  {
   "cell_type": "code",
   "execution_count": null,
   "metadata": {},
   "outputs": [],
   "source": [
    "## Arges Needed \n",
    "DATA_IN = '/home/cascade/projects/UrbanHeat/data/interim/CHIRTS_DAILY/HI/' # output from avg temp\n",
    "DATA_OUT = '/home/cascade/projects/UrbanHeat/data/interim/CHIRTS_DAILY/STATS/'\n",
    "dir_path = DATA_IN \n",
    "space_dim = 'ID_HDC_G0'\n",
    "time_dim = 'date'\n",
    "Tthresh = 40.6\n",
    "fn_out = DATA_OUT+'STATS_1DAY406.json'"
   ]
  },
  {
   "cell_type": "code",
   "execution_count": null,
   "metadata": {},
   "outputs": [],
   "source": [
    "# read in data\n",
    "step1 = read_data(dir_path, space_dim = space_dim, time_dim = time_dim)"
   ]
  },
  {
   "cell_type": "code",
   "execution_count": null,
   "metadata": {},
   "outputs": [],
   "source": [
    "# Mask data based on Tmax threshold ... we're using 40.6C\n",
    "step2 = tmax_days(step1, Tthresh)\n",
    "print('Tmax masked')"
   ]
  },
  {
   "cell_type": "code",
   "execution_count": null,
   "metadata": {},
   "outputs": [],
   "source": [
    "step2.head()"
   ]
  },
  {
   "cell_type": "code",
   "execution_count": null,
   "metadata": {
    "scrolled": true
   },
   "outputs": [],
   "source": [
    "# this is how to split the df\n",
    "\n",
    "len(np.array_split(step2, 3)[2])"
   ]
  },
  {
   "cell_type": "code",
   "execution_count": null,
   "metadata": {},
   "outputs": [],
   "source": [
    "fn_list = glob.glob(DATA_OUT+'HI406_tmp/*STAT*')\n",
    "fn_list[0]"
   ]
  },
  {
   "cell_type": "code",
   "execution_count": null,
   "metadata": {},
   "outputs": [],
   "source": [
    "df_list = []\n",
    "for fn in fn_list:\n",
    "    df_list.append(pd.read_json(fn, orient = 'split'))\n",
    "\n",
    "df_out = pd.concat(df_list)\n",
    "df_out.to_json(fn_out, orient = 'split')"
   ]
  },
  {
   "cell_type": "code",
   "execution_count": null,
   "metadata": {
    "scrolled": true
   },
   "outputs": [],
   "source": [
    "df_out"
   ]
  },
  {
   "cell_type": "code",
   "execution_count": null,
   "metadata": {},
   "outputs": [],
   "source": [
    "done = pd.read_json(DATA_OUT+'HI406_STATS.json', orient = 'split')"
   ]
  },
  {
   "cell_type": "markdown",
   "metadata": {},
   "source": [
    "# Is the data the same?\n",
    "cpt feb 2021"
   ]
  },
  {
   "cell_type": "code",
   "execution_count": null,
   "metadata": {},
   "outputs": [],
   "source": [
    "new = pd.read_json('/home/cascade/projects/UrbanHeat/data/processed/PNAS-DATA-v2/HI406_STATS.json', orient = 'split')"
   ]
  },
  {
   "cell_type": "code",
   "execution_count": null,
   "metadata": {},
   "outputs": [],
   "source": [
    "old = pd.read_csv('/home/cascade/projects/UrbanHeat/data/processed/PNAS-DATA-v1/AllDATA-GHS-ERA5-HI406.csv')"
   ]
  },
  {
   "cell_type": "code",
   "execution_count": null,
   "metadata": {},
   "outputs": [],
   "source": [
    "new.shape"
   ]
  },
  {
   "cell_type": "code",
   "execution_count": null,
   "metadata": {},
   "outputs": [],
   "source": [
    "old.shape"
   ]
  },
  {
   "cell_type": "code",
   "execution_count": null,
   "metadata": {},
   "outputs": [],
   "source": [
    "old[(old['ID_HDC_G0'] == 3091) & (old['year'] == 1983)]"
   ]
  },
  {
   "cell_type": "code",
   "execution_count": null,
   "metadata": {},
   "outputs": [],
   "source": [
    "new[(new['ID_HDC_G0'] == 3091) & (new['year'] == 1983)]"
   ]
  },
  {
   "cell_type": "markdown",
   "metadata": {},
   "source": [
    "# Old Code"
   ]
  },
  {
   "cell_type": "code",
   "execution_count": null,
   "metadata": {},
   "outputs": [],
   "source": [
    "cpu = 20+2 # - 2\n",
    "n = int(len(step2)/ cpu)  #chunk row size\n",
    "list_df = [step2 [i:i+n] for i in range(0,step2.shape[0],n)]\n",
    "print(len(list_df))"
   ]
  },
  {
   "cell_type": "code",
   "execution_count": null,
   "metadata": {},
   "outputs": [],
   "source": [
    "len(step2)"
   ]
  },
  {
   "cell_type": "code",
   "execution_count": null,
   "metadata": {},
   "outputs": [],
   "source": [
    "step2"
   ]
  },
  {
   "cell_type": "code",
   "execution_count": null,
   "metadata": {},
   "outputs": [],
   "source": [
    "# write them out\n",
    "for i, df in enumerate(list_df):\n",
    "    df.to_json(DATA_OUT+'tmp/tmp_'+str(i)+'.json', orient = 'split')"
   ]
  },
  {
   "cell_type": "code",
   "execution_count": null,
   "metadata": {},
   "outputs": [],
   "source": [
    "#os.mkdir(DATA_OUT+'temp')"
   ]
  },
  {
   "cell_type": "code",
   "execution_count": null,
   "metadata": {},
   "outputs": [],
   "source": [
    "fns_list = glob.glob(DATA_OUT+'tmp/*.json')"
   ]
  },
  {
   "cell_type": "code",
   "execution_count": null,
   "metadata": {},
   "outputs": [],
   "source": [
    "fns_list"
   ]
  },
  {
   "cell_type": "code",
   "execution_count": null,
   "metadata": {},
   "outputs": [],
   "source": [
    "fn = fns_list[0]\n",
    "df = pd.read_json(fn, orient = 'split')"
   ]
  },
  {
   "cell_type": "code",
   "execution_count": null,
   "metadata": {},
   "outputs": [],
   "source": [
    "step3 = tmax_stats(df)"
   ]
  },
  {
   "cell_type": "code",
   "execution_count": null,
   "metadata": {},
   "outputs": [],
   "source": [
    "def max_stats_run(fn):\n",
    "    \n",
    "    \"\"\" runs max_stats on a fn (.json) and writes on .json)\n",
    "    Args:\n",
    "        fn = file name\n",
    "    \"\"\"\n",
    "    \n",
    "    # open df\n",
    "    df = pd.read_json(fn, orient = 'split')\n",
    "    i = fn.split('temp_')[1].split('.json')[0]\n",
    "    \n",
    "    # make small for testing \n",
    "    df = df.iloc[0:4,:]\n",
    "    \n",
    "    # Calculate stats\n",
    "    step3 = max_stats(df)\n",
    "\n",
    "    # write file\n",
    "    fn_out = DATA_OUT+'temp/'+'STAT_'+str(i)+'.json'\n",
    "    step3.to_json(fn_out, orient = 'split')\n",
    "    print('done', i)\n",
    "\n"
   ]
  },
  {
   "cell_type": "code",
   "execution_count": null,
   "metadata": {},
   "outputs": [],
   "source": [
    "for fn in fns_list:\n",
    "    tbd(fn)"
   ]
  },
  {
   "cell_type": "code",
   "execution_count": null,
   "metadata": {},
   "outputs": [],
   "source": [
    "test = glob.glob(DATA_OUT+'temp/STAT*')"
   ]
  },
  {
   "cell_type": "code",
   "execution_count": null,
   "metadata": {},
   "outputs": [],
   "source": [
    "test"
   ]
  },
  {
   "cell_type": "code",
   "execution_count": null,
   "metadata": {},
   "outputs": [],
   "source": [
    "import Event_Stats_Funcs"
   ]
  },
  {
   "cell_type": "code",
   "execution_count": null,
   "metadata": {},
   "outputs": [],
   "source": [
    "test = '/home/cascade/projects/UrbanHeat/data/interim/CHIRTS_DAILY/STATS/HI406_temp/HI406_2.json'"
   ]
  },
  {
   "cell_type": "code",
   "execution_count": null,
   "metadata": {},
   "outputs": [],
   "source": [
    "data = test.split('_temp/')[1].split('_')[0]\n",
    "i = test.split(data+'_temp/')[1].split(data+'_')[1]\n",
    "DATA_OUT = test.split(data+'_temp')[0]"
   ]
  },
  {
   "cell_type": "code",
   "execution_count": null,
   "metadata": {},
   "outputs": [],
   "source": [
    "DATA_OUT"
   ]
  },
  {
   "cell_type": "code",
   "execution_count": null,
   "metadata": {},
   "outputs": [],
   "source": [
    "glob.glob('/home/cascade/projects/UrbanHeat/data/interim/CHIRTS_DAILY/STATS/HI406_temp/*')"
   ]
  },
  {
   "cell_type": "code",
   "execution_count": null,
   "metadata": {},
   "outputs": [],
   "source": [
    "fn = '/home/cascade/projects/UrbanHeat/data/interim/CHIRTS_DAILY/STATS/HI406_temp/HI406_STAT_6.json'\n",
    "test = pd.read_json(fn, orient = 'split')\n",
    "test.head()"
   ]
  }
 ],
 "metadata": {
  "kernelspec": {
   "display_name": "geo",
   "language": "python",
   "name": "geo"
  },
  "language_info": {
   "codemirror_mode": {
    "name": "ipython",
    "version": 3
   },
   "file_extension": ".py",
   "mimetype": "text/x-python",
   "name": "python",
   "nbconvert_exporter": "python",
   "pygments_lexer": "ipython3",
   "version": "3.6.7"
  }
 },
 "nbformat": 4,
 "nbformat_minor": 4
}
