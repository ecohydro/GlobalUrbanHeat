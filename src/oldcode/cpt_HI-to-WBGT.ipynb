{
 "cells": [
  {
   "cell_type": "markdown",
   "metadata": {},
   "source": [
    "# HI to WBGT\n",
    "Cascade Tuholske, 2021.02.15 <br>\n",
    "\n",
    "Notebook is to convert HI values to WBGT using the equation from:<br>\n",
    "- Bernard, T. E., & Iheanacho, I. (2015). Heat index and adjusted temperature as surrogates for wet bulb globe temperature to screen for occupational heat stress. Journal of occupational and environmental hygiene, 12(5), 323-333.\n",
    "\n",
    "29.4 and 31.1"
   ]
  },
  {
   "cell_type": "code",
   "execution_count": 25,
   "metadata": {},
   "outputs": [],
   "source": [
    "# Dependencies\n",
    "import pandas as pd\n",
    "import numpy as np\n",
    "from glob import glob"
   ]
  },
  {
   "cell_type": "code",
   "execution_count": 3,
   "metadata": {},
   "outputs": [],
   "source": [
    "def c_to_f(C):\n",
    "    \"Convert HI C to F\"\n",
    "    return 1.8 * C + 32 \n",
    "    "
   ]
  },
  {
   "cell_type": "code",
   "execution_count": 4,
   "metadata": {},
   "outputs": [],
   "source": [
    "def hi_to_wbgt(HI):\n",
    "    \"\"\" Convert HI to WBGT using emprical relationship from Bernard and Iheanacho 2015\n",
    "    WBGT [◦C] = −0.0034 HI2 + 0.96 HI−34; for HI [◦F]\n",
    "    \"\"\"\n",
    "    \n",
    "    WBGT = -0.0034*HI**2 + 0.96*HI - 34\n",
    "    \n",
    "    return WBGT"
   ]
  },
  {
   "cell_type": "code",
   "execution_count": 45,
   "metadata": {},
   "outputs": [],
   "source": [
    "def loop(fns_list):\n",
    "    \n",
    "    for fn in fns_list:\n",
    "        \n",
    "        # Get year\n",
    "        print(fn)\n",
    "        year = fn.split('GHS-HI_')[1].split('.csv')[0]\n",
    "        fn_out = DATA_PATH+'interim/CHIRTS_DAILY/WBGT/GHS-WBGT_'+year+'.csv'\n",
    "        \n",
    "        # read in and convert to WBGT\n",
    "        df = pd.read_csv(fn_in)\n",
    "        hi = df.iloc[:,3:]\n",
    "        hi_f = hi.apply(c_to_f)\n",
    "        wbgt = hi_f.apply(hi_to_wbgt)\n",
    "        \n",
    "        # cols out\n",
    "        df_out = df.iloc[:,1:3]\n",
    "        \n",
    "        # write it out \n",
    "        df_out = pd.concat([df_out,wbgt], axis = 1)\n",
    "        df_out.to_csv(fn_out)\n",
    "        print('done', year, '\\n')"
   ]
  },
  {
   "cell_type": "code",
   "execution_count": 46,
   "metadata": {},
   "outputs": [],
   "source": [
    "# Files\n",
    "DATA_PATH = '/home/cascade/projects/UrbanHeat/data/'\n",
    "\n",
    "fns_list = sorted(glob(DATA_PATH+'interim/CHIRTS_DAILY/HI/*csv'))\n"
   ]
  },
  {
   "cell_type": "code",
   "execution_count": 47,
   "metadata": {},
   "outputs": [
    {
     "name": "stdout",
     "output_type": "stream",
     "text": [
      "/home/cascade/projects/UrbanHeat/data/interim/CHIRTS_DAILY/HI/GHS-HI_1983.csv\n",
      "done 1983 \n",
      "\n",
      "/home/cascade/projects/UrbanHeat/data/interim/CHIRTS_DAILY/HI/GHS-HI_1984.csv\n",
      "done 1984 \n",
      "\n",
      "/home/cascade/projects/UrbanHeat/data/interim/CHIRTS_DAILY/HI/GHS-HI_1985.csv\n",
      "done 1985 \n",
      "\n",
      "/home/cascade/projects/UrbanHeat/data/interim/CHIRTS_DAILY/HI/GHS-HI_1986.csv\n",
      "done 1986 \n",
      "\n",
      "/home/cascade/projects/UrbanHeat/data/interim/CHIRTS_DAILY/HI/GHS-HI_1987.csv\n",
      "done 1987 \n",
      "\n",
      "/home/cascade/projects/UrbanHeat/data/interim/CHIRTS_DAILY/HI/GHS-HI_1988.csv\n",
      "done 1988 \n",
      "\n",
      "/home/cascade/projects/UrbanHeat/data/interim/CHIRTS_DAILY/HI/GHS-HI_1989.csv\n",
      "done 1989 \n",
      "\n",
      "/home/cascade/projects/UrbanHeat/data/interim/CHIRTS_DAILY/HI/GHS-HI_1990.csv\n",
      "done 1990 \n",
      "\n",
      "/home/cascade/projects/UrbanHeat/data/interim/CHIRTS_DAILY/HI/GHS-HI_1991.csv\n",
      "done 1991 \n",
      "\n",
      "/home/cascade/projects/UrbanHeat/data/interim/CHIRTS_DAILY/HI/GHS-HI_1992.csv\n",
      "done 1992 \n",
      "\n",
      "/home/cascade/projects/UrbanHeat/data/interim/CHIRTS_DAILY/HI/GHS-HI_1993.csv\n",
      "done 1993 \n",
      "\n",
      "/home/cascade/projects/UrbanHeat/data/interim/CHIRTS_DAILY/HI/GHS-HI_1994.csv\n",
      "done 1994 \n",
      "\n",
      "/home/cascade/projects/UrbanHeat/data/interim/CHIRTS_DAILY/HI/GHS-HI_1995.csv\n",
      "done 1995 \n",
      "\n",
      "/home/cascade/projects/UrbanHeat/data/interim/CHIRTS_DAILY/HI/GHS-HI_1996.csv\n",
      "done 1996 \n",
      "\n",
      "/home/cascade/projects/UrbanHeat/data/interim/CHIRTS_DAILY/HI/GHS-HI_1997.csv\n",
      "done 1997 \n",
      "\n",
      "/home/cascade/projects/UrbanHeat/data/interim/CHIRTS_DAILY/HI/GHS-HI_1998.csv\n",
      "done 1998 \n",
      "\n",
      "/home/cascade/projects/UrbanHeat/data/interim/CHIRTS_DAILY/HI/GHS-HI_1999.csv\n",
      "done 1999 \n",
      "\n",
      "/home/cascade/projects/UrbanHeat/data/interim/CHIRTS_DAILY/HI/GHS-HI_2000.csv\n",
      "done 2000 \n",
      "\n",
      "/home/cascade/projects/UrbanHeat/data/interim/CHIRTS_DAILY/HI/GHS-HI_2001.csv\n",
      "done 2001 \n",
      "\n",
      "/home/cascade/projects/UrbanHeat/data/interim/CHIRTS_DAILY/HI/GHS-HI_2002.csv\n",
      "done 2002 \n",
      "\n",
      "/home/cascade/projects/UrbanHeat/data/interim/CHIRTS_DAILY/HI/GHS-HI_2003.csv\n",
      "done 2003 \n",
      "\n",
      "/home/cascade/projects/UrbanHeat/data/interim/CHIRTS_DAILY/HI/GHS-HI_2004.csv\n",
      "done 2004 \n",
      "\n",
      "/home/cascade/projects/UrbanHeat/data/interim/CHIRTS_DAILY/HI/GHS-HI_2005.csv\n",
      "done 2005 \n",
      "\n",
      "/home/cascade/projects/UrbanHeat/data/interim/CHIRTS_DAILY/HI/GHS-HI_2006.csv\n",
      "done 2006 \n",
      "\n",
      "/home/cascade/projects/UrbanHeat/data/interim/CHIRTS_DAILY/HI/GHS-HI_2007.csv\n",
      "done 2007 \n",
      "\n",
      "/home/cascade/projects/UrbanHeat/data/interim/CHIRTS_DAILY/HI/GHS-HI_2008.csv\n",
      "done 2008 \n",
      "\n",
      "/home/cascade/projects/UrbanHeat/data/interim/CHIRTS_DAILY/HI/GHS-HI_2009.csv\n",
      "done 2009 \n",
      "\n",
      "/home/cascade/projects/UrbanHeat/data/interim/CHIRTS_DAILY/HI/GHS-HI_2010.csv\n",
      "done 2010 \n",
      "\n",
      "/home/cascade/projects/UrbanHeat/data/interim/CHIRTS_DAILY/HI/GHS-HI_2011.csv\n",
      "done 2011 \n",
      "\n",
      "/home/cascade/projects/UrbanHeat/data/interim/CHIRTS_DAILY/HI/GHS-HI_2012.csv\n",
      "done 2012 \n",
      "\n",
      "/home/cascade/projects/UrbanHeat/data/interim/CHIRTS_DAILY/HI/GHS-HI_2013.csv\n",
      "done 2013 \n",
      "\n",
      "/home/cascade/projects/UrbanHeat/data/interim/CHIRTS_DAILY/HI/GHS-HI_2014.csv\n",
      "done 2014 \n",
      "\n",
      "/home/cascade/projects/UrbanHeat/data/interim/CHIRTS_DAILY/HI/GHS-HI_2015.csv\n",
      "done 2015 \n",
      "\n",
      "/home/cascade/projects/UrbanHeat/data/interim/CHIRTS_DAILY/HI/GHS-HI_2016.csv\n",
      "done 2016 \n",
      "\n"
     ]
    }
   ],
   "source": [
    "# run loop\n",
    "loop(fns_list)"
   ]
  },
  {
   "cell_type": "code",
   "execution_count": 48,
   "metadata": {},
   "outputs": [],
   "source": [
    "fn_in = '/home/cascade/projects/UrbanHeat/data/interim/CHIRTS_DAILY/WBGT/GHS-WBGT_1983.csv'"
   ]
  },
  {
   "cell_type": "code",
   "execution_count": 49,
   "metadata": {},
   "outputs": [],
   "source": [
    "wbgt_in = pd.read_csv(fn_in)"
   ]
  },
  {
   "cell_type": "code",
   "execution_count": 58,
   "metadata": {},
   "outputs": [],
   "source": [
    "arr = wbgt_in.iloc[:,3:].to_numpy().flatten()"
   ]
  }
 ],
 "metadata": {
  "kernelspec": {
   "display_name": "geo",
   "language": "python",
   "name": "geo"
  },
  "language_info": {
   "codemirror_mode": {
    "name": "ipython",
    "version": 3
   },
   "file_extension": ".py",
   "mimetype": "text/x-python",
   "name": "python",
   "nbconvert_exporter": "python",
   "pygments_lexer": "ipython3",
   "version": "3.6.7"
  }
 },
 "nbformat": 4,
 "nbformat_minor": 4
}
