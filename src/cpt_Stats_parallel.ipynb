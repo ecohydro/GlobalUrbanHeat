{
 "cells": [
  {
   "cell_type": "markdown",
   "metadata": {},
   "source": [
    "# Stats Parallel\n",
    "\n",
    "Notebook by Cascade Tuholske 2021.02.15 <br>\n",
    "Trying to speed up 4_Event_Stats.py"
   ]
  },
  {
   "cell_type": "code",
   "execution_count": 1,
   "metadata": {},
   "outputs": [],
   "source": [
    "#### Dependencies\n",
    "import pandas as pd\n",
    "import numpy as np\n",
    "import xarray as xr\n",
    "from random import random\n",
    "from itertools import groupby\n",
    "from operator import itemgetter\n",
    "import geopandas as gpd \n",
    "import glob\n",
    "from statistics import mean\n",
    "import julian\n",
    "import time \n",
    "import multiprocessing as mp \n",
    "from multiprocessing import Pool\n",
    "import os\n",
    "import sys"
   ]
  },
  {
   "cell_type": "code",
   "execution_count": 2,
   "metadata": {},
   "outputs": [],
   "source": [
    "#### Step 1 - Function Loads all Tmax Data as an X-array\n",
    "def read_data(dir_path, space_dim, time_dim):\n",
    "    \"\"\" Function reads in all Tmax .csv files, joins them by date along the x-axis\n",
    "    and returns the whole record as a x-array data array\n",
    "    \n",
    "    Args:   \n",
    "        dir_path = path to .csv files \n",
    "        time_dim = name for time dim as a str ... use date :-)\n",
    "        space_dim = col name for GHS-UCDB IDs as an str (ID_HDC_G0)\n",
    "    \"\"\"\n",
    "    fn_list = sorted(glob.glob(dir_path+'*.csv'))\n",
    "    df_out = pd.DataFrame()\n",
    "    date_list = []\n",
    "\n",
    "    # Open all Tmax files and concat into a df\n",
    "    for i, fn in enumerate(fn_list):    \n",
    "        # Open the CSV\n",
    "        df = pd.read_csv(fn)\n",
    "\n",
    "        # Get the city ids \n",
    "        if i == 1:\n",
    "            df_id = df[space_dim]\n",
    "\n",
    "        # get only the Tmax columns and concate date list \n",
    "        df_temp = df.iloc[:,3:] # get only temp columns\n",
    "        date_list = date_list+list(df_temp.columns)\n",
    "\n",
    "        # Drop cities w/ no temp record \n",
    "        df_temp_drop = df_temp.dropna()\n",
    "\n",
    "        # Merge\n",
    "        df_out = pd.concat([df_out, df_temp_drop], axis=1)\n",
    "        print(df_out.shape)\n",
    "    \n",
    "    # make date into an array\n",
    "    tmax_arr = df_out.to_numpy()\n",
    "\n",
    "    # Make data into an xr.DataArray\n",
    "    tmax_xr_da = xr.DataArray(tmax_arr, coords=[df_id, date_list], \n",
    "                             dims=[space_dim, time_dim])\n",
    "    return tmax_xr_da"
   ]
  },
  {
   "cell_type": "code",
   "execution_count": 3,
   "metadata": {},
   "outputs": [],
   "source": [
    "#### Step 2 Function finds all the Tmax Events and writes it to a dateframe w/ dates for each city\n",
    "def tmax_days(xarray, Tthresh):\n",
    "    \"\"\" Function finds all the tmax days in a year and sums total days per year \n",
    "    greater than a threshold within a year where Tmax > Tthresh for each city. Returns the total number of days,\n",
    "    the dates, the tempatures, and the intensity (daily Tmax - Tthresh)\n",
    "    \n",
    "    Args: \n",
    "        xarray = an xarray object with dims = (space, times)\n",
    "        Tthresh = int of temp threshold\n",
    "    \"\"\"\n",
    "    \n",
    "    # empty lists & df\n",
    "    id_list = []\n",
    "    date_list = []\n",
    "    tmax_list = []\n",
    "    intensity_list = []\n",
    "    df_out = pd.DataFrame()\n",
    "    \n",
    "    # subset xarray\n",
    "    out = xarray.where(xarray > Tthresh, drop = True)\n",
    "\n",
    "    # start loop \n",
    "    for index, loc in enumerate(out.ID_HDC_G0):\n",
    "        id_list.append(out.ID_HDC_G0.values[index]) # get IDS\n",
    "        date_list.append(out.sel(ID_HDC_G0 = loc).dropna(dim = 'date').date.values) # get event dates\n",
    "        \n",
    "        # #CPT 2020.02.23 \n",
    "        # dayTot_list.append(len(out.sel(ID_HDC_G0 = loc).dropna(dim = 'date').date.values)) # get event totals\n",
    "        \n",
    "        tmax_list.append(out.sel(ID_HDC_G0 = loc).dropna(dim = 'date').values) # get temp values\n",
    "        intensity_list.append(out.sel(ID_HDC_G0 = loc).dropna(dim = 'date').values - Tthresh) # get severity\n",
    "\n",
    "    # write to a data frame\n",
    "    df_out['ID_HDC_G0'] = id_list\n",
    "    # df_out['total_days'] = dayTot_list #CPT 2020.02.23\n",
    "    df_out['dates'] = date_list\n",
    "    df_out['tmax'] = tmax_list\n",
    "    df_out['tmax_tntensity'] = intensity_list\n",
    "\n",
    "    # return df_out\n",
    "    return df_out\n"
   ]
  },
  {
   "cell_type": "code",
   "execution_count": 4,
   "metadata": {},
   "outputs": [],
   "source": [
    "#### Step 3 Function splits the dataset into Tmax events (continuous days >Tmax) for each city\n",
    "def jul_convert(dates):\n",
    "    \"Function turn days into julian datetime\"\n",
    "    jul_days = pd.to_datetime(dates).to_julian_date()\n",
    "    \n",
    "    return jul_days\n",
    "\n",
    "def event_split(dates, ID_HDC_G0, intensity, tmax): #, total_days): #CPT 2020.02.23\n",
    "    \n",
    "    \"\"\" Searchs a list of dates and isolates sequential dates as a list, then calculates event stats.\n",
    "    See comments in code for more details. \n",
    "    \n",
    "    Args:\n",
    "        dates: pandas.core.index as julian dates\n",
    "        ID_HDC_G0: city ID as string\n",
    "        intensity: numpy.ndarray of intensities values\n",
    "        tmax: numpy.ndarray of intensities values of tmax values\n",
    "        total_days: total number of tmax days in a year for a given city\n",
    "\n",
    "    \"\"\"\n",
    "\n",
    "    # city id\n",
    "    city_id = ID_HDC_G0\n",
    "    # tot_days = total_days #CPT 2020.02.23\n",
    "    \n",
    "    # lists to fill\n",
    "    city_id_list = []\n",
    "    # tot_days_list = [] #CPT 2020.02.23\n",
    "    event_dates_list = []\n",
    "    dur_list = []\n",
    "    intensity_list = []\n",
    "    tmax_list = []\n",
    "    avg_temp_list = []\n",
    "    avg_int_list = []\n",
    "    tot_int_list = []\n",
    "    year_list = []\n",
    "    \n",
    "    # data frame out\n",
    "    df_out = pd.DataFrame()\n",
    "    \n",
    "    # turn days into julian days\n",
    "    jul_days = jul_convert(dates)\n",
    "    \n",
    "    # Counters to make sure we write the correct event dates to a list, don't want julian days in output\n",
    "    counter = 0\n",
    "    start = 0\n",
    "    end = 0\n",
    "    \n",
    "    # Loop through dur list and isolate seq days, temps, and intensities\n",
    "    for k, g in groupby(enumerate(jul_days.values), lambda x: x[1]-x[0]):\n",
    "        \n",
    "        seq = list(map(itemgetter(1), g)) # isolate seq. days\n",
    "        dur = len(seq) # duration of each event\n",
    "        \n",
    "        counter = counter + dur # add duration to counter\n",
    "        end = counter # end of current event\n",
    "        \n",
    "        event_dates = dates[start:end] # dates of tmax days during each event\n",
    "        intense = intensity[start:end] # intensity of each day during event\n",
    "        temp = tmax[start:end] # temp of each day during event\n",
    "        avg_temp = mean(temp) # avg. temp during event\n",
    "        avg_int = mean(intense) # avg. intensity during event\n",
    "        tot_int = np.sum(intense) # total intensity during event \n",
    "        \n",
    "        start = counter # reset start to current end (e.g. counter)\n",
    "        year = event_dates[0].split('.')[0]\n",
    "        \n",
    "        # fill lists\n",
    "        city_id_list.append(city_id)\n",
    "        year_list.append(year)\n",
    "        # tot_days_list.append(tot_days) #CPT 2020.02.23\n",
    "        dur_list.append(dur)\n",
    "        event_dates_list.append(event_dates)\n",
    "        intensity_list.append(intense)\n",
    "        tmax_list.append(temp)\n",
    "        avg_temp_list.append(avg_temp)\n",
    "        avg_int_list.append(avg_int)\n",
    "        tot_int_list.append(tot_int)\n",
    "\n",
    "    # write out as a dateframe\n",
    "    df_out['ID_HDC_G0'] = city_id_list\n",
    "    df_out['year'] = year_list\n",
    "    # df_out['total_days'] = tot_days_list #CPT 2020.02.23\n",
    "    df_out['duration'] = dur_list\n",
    "    df_out['avg_temp'] = avg_temp_list\n",
    "    df_out['avg_intensity'] = avg_int_list\n",
    "    df_out['tot_intensity'] = tot_int_list\n",
    "    df_out['event_dates'] = event_dates_list\n",
    "    df_out['duration'] = dur_list\n",
    "    df_out['intensity'] = intensity_list\n",
    "    df_out['tmax'] = tmax_list\n",
    "\n",
    "    return df_out\n",
    "\n",
    "#### Step 4 function feeds output from function 3 into function 4\n",
    "def tmax_stats(df_in):\n",
    "    \"\"\" runs event_split functionon a dataframe to produce desired tmax stats\n",
    "\n",
    "        NOTE - If you add arguments to event_split to make more states,\n",
    "        be sure to update this function\n",
    "\n",
    "        args:\n",
    "            df: input dataframe\n",
    "    \"\"\"\n",
    "    df_out = pd.DataFrame()\n",
    "\n",
    "    # NOTE - If you add arguments to event_split to make more stats,\n",
    "    # be sure to update this function\n",
    "\n",
    "    for index, row in df_in.iterrows():\n",
    "        dates = row['dates'] # Get event dates\n",
    "        intensity = row['tmax_tntensity'] # Get intensity for each day\n",
    "        tmax = row['tmax'] # Get tmax for each day\n",
    "        ID_HDC_G0 = row['ID_HDC_G0'] # get city id\n",
    "        # total_days = row['total_days'] # get total number of tmax days -- CPT 2020.02.23\n",
    "\n",
    "        df = event_split(dates, ID_HDC_G0, intensity, tmax)# , total_days) #CPT 2020.02.23\n",
    "\n",
    "        df_out = df_out.append(df)\n",
    "\n",
    "    return df_out\n",
    "\n",
    "#### Step 5 function threads it all together\n",
    "def run_stats(dir_path, space_dim, time_dim, Tthresh, fn_out):\n",
    "    \n",
    "    \"\"\" Function ties all the Tmax Stats functions together and writes final stats for each Tmax \n",
    "    event to a .csv file. Returns results as a dataframe if needed\n",
    "    \n",
    "    Args:\n",
    "        dir_path = path to .csv files \n",
    "        time_dim = name for time dim as a str ... use date :-)\n",
    "        space_dim = col name for GHS-UCDB IDs as an str (ID_HDC_G0)\n",
    "        Tthresh = float of temp threshold\n",
    "        fn_out = file and path to write final csv\n",
    "        \n",
    "    \"\"\"\n",
    "    \n",
    "    # read in data\n",
    "    step1= read_data(dir_path, space_dim = space_dim, time_dim = time_dim)\n",
    "    #step1_sub = step1[:,:10] # subset data for testing\n",
    "    print('Stack x-array made')\n",
    "    \n",
    "    # Mask data based on Tmax threshold ... we're using 40.6C\n",
    "    step2 = tmax_days(step1, Tthresh)\n",
    "    print('Tmax masked')\n",
    "    \n",
    "    \n",
    "    # Calculate stats\n",
    "    step3 = tmax_stats(step2)\n",
    "    print('Stats made')\n",
    "\n",
    "    # Save file out\n",
    "    step3.to_json(fn_out, orient = 'split')\n",
    "    \n",
    "    return step3\n",
    "\n",
    "    print('done')"
   ]
  },
  {
   "cell_type": "code",
   "execution_count": 5,
   "metadata": {},
   "outputs": [],
   "source": [
    "## Arges Needed \n",
    "DATA_IN = '/home/cascade/projects/UrbanHeat/data/interim/CHIRTS_DAILY/HI/' # output from avg temp\n",
    "DATA_OUT = '/home/cascade/projects/UrbanHeat/data/interim/CHIRTS_DAILY/STATS/'\n",
    "dir_path = DATA_IN \n",
    "space_dim = 'ID_HDC_G0'\n",
    "time_dim = 'date'\n",
    "Tthresh = 40.6\n",
    "fn_out = DATA_OUT+'STATS_1DAY406.json'"
   ]
  },
  {
   "cell_type": "code",
   "execution_count": 6,
   "metadata": {},
   "outputs": [
    {
     "name": "stdout",
     "output_type": "stream",
     "text": [
      "(13067, 365)\n",
      "(13067, 731)\n",
      "(13067, 1096)\n",
      "(13067, 1461)\n",
      "(13067, 1826)\n",
      "(13067, 2192)\n",
      "(13067, 2557)\n",
      "(13067, 2922)\n",
      "(13067, 3287)\n",
      "(13067, 3653)\n",
      "(13067, 4018)\n",
      "(13067, 4383)\n",
      "(13067, 4748)\n",
      "(13067, 5114)\n",
      "(13067, 5479)\n",
      "(13067, 5844)\n",
      "(13067, 6209)\n",
      "(13067, 6575)\n",
      "(13067, 6940)\n",
      "(13067, 7305)\n",
      "(13067, 7670)\n",
      "(13067, 8036)\n",
      "(13067, 8401)\n",
      "(13067, 8766)\n",
      "(13067, 9131)\n",
      "(13067, 9497)\n",
      "(13067, 9862)\n",
      "(13067, 10227)\n",
      "(13067, 10592)\n",
      "(13067, 10958)\n",
      "(13067, 11323)\n",
      "(13067, 11688)\n",
      "(13067, 12053)\n",
      "(13067, 12419)\n"
     ]
    }
   ],
   "source": [
    "# read in data\n",
    "step1 = read_data(dir_path, space_dim = space_dim, time_dim = time_dim)"
   ]
  },
  {
   "cell_type": "code",
   "execution_count": 7,
   "metadata": {},
   "outputs": [
    {
     "name": "stdout",
     "output_type": "stream",
     "text": [
      "Tmax masked\n"
     ]
    }
   ],
   "source": [
    "# Mask data based on Tmax threshold ... we're using 40.6C\n",
    "step2 = tmax_days(step1, Tthresh)\n",
    "print('Tmax masked')"
   ]
  },
  {
   "cell_type": "code",
   "execution_count": 20,
   "metadata": {},
   "outputs": [
    {
     "data": {
      "text/html": [
       "<div>\n",
       "<style scoped>\n",
       "    .dataframe tbody tr th:only-of-type {\n",
       "        vertical-align: middle;\n",
       "    }\n",
       "\n",
       "    .dataframe tbody tr th {\n",
       "        vertical-align: top;\n",
       "    }\n",
       "\n",
       "    .dataframe thead th {\n",
       "        text-align: right;\n",
       "    }\n",
       "</style>\n",
       "<table border=\"1\" class=\"dataframe\">\n",
       "  <thead>\n",
       "    <tr style=\"text-align: right;\">\n",
       "      <th></th>\n",
       "      <th>ID_HDC_G0</th>\n",
       "      <th>dates</th>\n",
       "      <th>tmax</th>\n",
       "      <th>tmax_tntensity</th>\n",
       "    </tr>\n",
       "  </thead>\n",
       "  <tbody>\n",
       "    <tr>\n",
       "      <td>0</td>\n",
       "      <td>3554</td>\n",
       "      <td>[2010.07.29]</td>\n",
       "      <td>[42.91095336309989]</td>\n",
       "      <td>[2.310953363099891]</td>\n",
       "    </tr>\n",
       "    <tr>\n",
       "      <td>1</td>\n",
       "      <td>3295</td>\n",
       "      <td>[2010.07.29]</td>\n",
       "      <td>[42.365039604142964]</td>\n",
       "      <td>[1.765039604142963]</td>\n",
       "    </tr>\n",
       "    <tr>\n",
       "      <td>2</td>\n",
       "      <td>3242</td>\n",
       "      <td>[2010.07.29]</td>\n",
       "      <td>[40.941567828562654]</td>\n",
       "      <td>[0.34156782856265266]</td>\n",
       "    </tr>\n",
       "    <tr>\n",
       "      <td>3</td>\n",
       "      <td>9075</td>\n",
       "      <td>[1988.07.22, 1988.07.23, 1988.07.24, 1988.07.2...</td>\n",
       "      <td>[42.60064411402778, 44.46700911035864, 44.7843...</td>\n",
       "      <td>[2.0006441140277786, 3.8670091103586373, 4.184...</td>\n",
       "    </tr>\n",
       "    <tr>\n",
       "      <td>4</td>\n",
       "      <td>4362</td>\n",
       "      <td>[1989.07.19, 1990.07.10, 1996.07.13, 2001.07.2...</td>\n",
       "      <td>[40.77021376234568, 42.44143213521773, 41.0918...</td>\n",
       "      <td>[0.17021376234568208, 1.8414321352177296, 0.49...</td>\n",
       "    </tr>\n",
       "  </tbody>\n",
       "</table>\n",
       "</div>"
      ],
      "text/plain": [
       "   ID_HDC_G0                                              dates  \\\n",
       "0       3554                                       [2010.07.29]   \n",
       "1       3295                                       [2010.07.29]   \n",
       "2       3242                                       [2010.07.29]   \n",
       "3       9075  [1988.07.22, 1988.07.23, 1988.07.24, 1988.07.2...   \n",
       "4       4362  [1989.07.19, 1990.07.10, 1996.07.13, 2001.07.2...   \n",
       "\n",
       "                                                tmax  \\\n",
       "0                                [42.91095336309989]   \n",
       "1                               [42.365039604142964]   \n",
       "2                               [40.941567828562654]   \n",
       "3  [42.60064411402778, 44.46700911035864, 44.7843...   \n",
       "4  [40.77021376234568, 42.44143213521773, 41.0918...   \n",
       "\n",
       "                                      tmax_tntensity  \n",
       "0                                [2.310953363099891]  \n",
       "1                                [1.765039604142963]  \n",
       "2                              [0.34156782856265266]  \n",
       "3  [2.0006441140277786, 3.8670091103586373, 4.184...  \n",
       "4  [0.17021376234568208, 1.8414321352177296, 0.49...  "
      ]
     },
     "execution_count": 20,
     "metadata": {},
     "output_type": "execute_result"
    }
   ],
   "source": [
    "step2.head()"
   ]
  },
  {
   "cell_type": "code",
   "execution_count": 26,
   "metadata": {
    "scrolled": true
   },
   "outputs": [
    {
     "data": {
      "text/plain": [
       "3887"
      ]
     },
     "execution_count": 26,
     "metadata": {},
     "output_type": "execute_result"
    }
   ],
   "source": [
    "# this is how to split the df\n",
    "\n",
    "len(np.array_split(step2, 3)[2])"
   ]
  },
  {
   "cell_type": "code",
   "execution_count": 35,
   "metadata": {},
   "outputs": [
    {
     "data": {
      "text/plain": [
       "'/home/cascade/projects/UrbanHeat/data/interim/CHIRTS_DAILY/STATS/HI406_tmp/HI406_STAT_9.json'"
      ]
     },
     "execution_count": 35,
     "metadata": {},
     "output_type": "execute_result"
    }
   ],
   "source": [
    "fn_list = glob.glob(DATA_OUT+'HI406_tmp/*STAT*')\n",
    "fn_list[0]"
   ]
  },
  {
   "cell_type": "code",
   "execution_count": 40,
   "metadata": {},
   "outputs": [],
   "source": [
    "df_list = []\n",
    "for fn in fn_list:\n",
    "    df_list.append(pd.read_json(fn, orient = 'split'))\n",
    "\n",
    "df_out = pd.concat(df_list)\n",
    "df_out.to_json(fn_out, orient = 'split')"
   ]
  },
  {
   "cell_type": "code",
   "execution_count": 41,
   "metadata": {
    "scrolled": true
   },
   "outputs": [
    {
     "data": {
      "text/html": [
       "<div>\n",
       "<style scoped>\n",
       "    .dataframe tbody tr th:only-of-type {\n",
       "        vertical-align: middle;\n",
       "    }\n",
       "\n",
       "    .dataframe tbody tr th {\n",
       "        vertical-align: top;\n",
       "    }\n",
       "\n",
       "    .dataframe thead th {\n",
       "        text-align: right;\n",
       "    }\n",
       "</style>\n",
       "<table border=\"1\" class=\"dataframe\">\n",
       "  <thead>\n",
       "    <tr style=\"text-align: right;\">\n",
       "      <th></th>\n",
       "      <th>ID_HDC_G0</th>\n",
       "      <th>year</th>\n",
       "      <th>duration</th>\n",
       "      <th>avg_temp</th>\n",
       "      <th>avg_intensity</th>\n",
       "      <th>tot_intensity</th>\n",
       "      <th>event_dates</th>\n",
       "      <th>intensity</th>\n",
       "      <th>tmax</th>\n",
       "    </tr>\n",
       "  </thead>\n",
       "  <tbody>\n",
       "    <tr>\n",
       "      <td>0</td>\n",
       "      <td>8716</td>\n",
       "      <td>1983</td>\n",
       "      <td>1</td>\n",
       "      <td>40.916269</td>\n",
       "      <td>0.316269</td>\n",
       "      <td>0.316269</td>\n",
       "      <td>[1983.04.10]</td>\n",
       "      <td>[0.3162688247]</td>\n",
       "      <td>[40.9162688247]</td>\n",
       "    </tr>\n",
       "    <tr>\n",
       "      <td>1</td>\n",
       "      <td>8716</td>\n",
       "      <td>1983</td>\n",
       "      <td>2</td>\n",
       "      <td>41.968549</td>\n",
       "      <td>1.368549</td>\n",
       "      <td>2.737099</td>\n",
       "      <td>[1983.04.23, 1983.04.24]</td>\n",
       "      <td>[2.2036853194, 0.5334132134]</td>\n",
       "      <td>[42.8036853194, 41.1334132134]</td>\n",
       "    </tr>\n",
       "    <tr>\n",
       "      <td>2</td>\n",
       "      <td>8716</td>\n",
       "      <td>1983</td>\n",
       "      <td>16</td>\n",
       "      <td>47.880512</td>\n",
       "      <td>7.280512</td>\n",
       "      <td>116.488197</td>\n",
       "      <td>[1983.04.26, 1983.04.27, 1983.04.28, 1983.04.2...</td>\n",
       "      <td>[0.7365281444, 4.1637614766, 9.6917897375, 6.4...</td>\n",
       "      <td>[41.3365281444, 44.7637614766, 50.2917897375, ...</td>\n",
       "    </tr>\n",
       "    <tr>\n",
       "      <td>3</td>\n",
       "      <td>8716</td>\n",
       "      <td>1983</td>\n",
       "      <td>51</td>\n",
       "      <td>51.438063</td>\n",
       "      <td>10.838063</td>\n",
       "      <td>552.741209</td>\n",
       "      <td>[1983.05.13, 1983.05.14, 1983.05.15, 1983.05.1...</td>\n",
       "      <td>[3.4425009533, 7.2378939909, 10.2395632742, 9....</td>\n",
       "      <td>[44.0425009533, 47.8378939909, 50.8395632742, ...</td>\n",
       "    </tr>\n",
       "    <tr>\n",
       "      <td>4</td>\n",
       "      <td>8716</td>\n",
       "      <td>1983</td>\n",
       "      <td>22</td>\n",
       "      <td>53.897499</td>\n",
       "      <td>13.297499</td>\n",
       "      <td>292.544988</td>\n",
       "      <td>[1983.07.04, 1983.07.05, 1983.07.06, 1983.07.0...</td>\n",
       "      <td>[11.9686002231, 16.3046980407, 14.5550595174, ...</td>\n",
       "      <td>[52.5686002231, 56.9046980407, 55.1550595174, ...</td>\n",
       "    </tr>\n",
       "    <tr>\n",
       "      <td>...</td>\n",
       "      <td>...</td>\n",
       "      <td>...</td>\n",
       "      <td>...</td>\n",
       "      <td>...</td>\n",
       "      <td>...</td>\n",
       "      <td>...</td>\n",
       "      <td>...</td>\n",
       "      <td>...</td>\n",
       "      <td>...</td>\n",
       "    </tr>\n",
       "    <tr>\n",
       "      <td>739</td>\n",
       "      <td>7913</td>\n",
       "      <td>2016</td>\n",
       "      <td>3</td>\n",
       "      <td>44.063638</td>\n",
       "      <td>3.463638</td>\n",
       "      <td>10.390913</td>\n",
       "      <td>[2016.09.27, 2016.09.28, 2016.09.29]</td>\n",
       "      <td>[3.7426933615999998, 3.8692065932, 2.7790127486]</td>\n",
       "      <td>[44.3426933616, 44.4692065932, 43.3790127486]</td>\n",
       "    </tr>\n",
       "    <tr>\n",
       "      <td>740</td>\n",
       "      <td>7913</td>\n",
       "      <td>2016</td>\n",
       "      <td>4</td>\n",
       "      <td>42.075934</td>\n",
       "      <td>1.475934</td>\n",
       "      <td>5.903736</td>\n",
       "      <td>[2016.10.01, 2016.10.02, 2016.10.03, 2016.10.04]</td>\n",
       "      <td>[2.425792107, 0.2698984881, 0.8358455298, 2.37...</td>\n",
       "      <td>[43.025792107, 40.8698984881, 41.4358455298, 4...</td>\n",
       "    </tr>\n",
       "    <tr>\n",
       "      <td>741</td>\n",
       "      <td>7913</td>\n",
       "      <td>2016</td>\n",
       "      <td>2</td>\n",
       "      <td>41.662540</td>\n",
       "      <td>1.062540</td>\n",
       "      <td>2.125080</td>\n",
       "      <td>[2016.10.06, 2016.10.07]</td>\n",
       "      <td>[0.7375403857, 1.3875400703]</td>\n",
       "      <td>[41.3375403857, 41.9875400703]</td>\n",
       "    </tr>\n",
       "    <tr>\n",
       "      <td>742</td>\n",
       "      <td>7913</td>\n",
       "      <td>2016</td>\n",
       "      <td>5</td>\n",
       "      <td>44.139456</td>\n",
       "      <td>3.539456</td>\n",
       "      <td>17.697282</td>\n",
       "      <td>[2016.10.09, 2016.10.10, 2016.10.11, 2016.10.1...</td>\n",
       "      <td>[1.69968388, 6.5772558792, 5.4375574898, 3.022...</td>\n",
       "      <td>[42.29968388, 47.1772558792, 46.0375574898, 43...</td>\n",
       "    </tr>\n",
       "    <tr>\n",
       "      <td>743</td>\n",
       "      <td>7913</td>\n",
       "      <td>2016</td>\n",
       "      <td>1</td>\n",
       "      <td>40.916731</td>\n",
       "      <td>0.316731</td>\n",
       "      <td>0.316731</td>\n",
       "      <td>[2016.10.17]</td>\n",
       "      <td>[0.3167313479]</td>\n",
       "      <td>[40.9167313479]</td>\n",
       "    </tr>\n",
       "  </tbody>\n",
       "</table>\n",
       "<p>39773 rows × 9 columns</p>\n",
       "</div>"
      ],
      "text/plain": [
       "     ID_HDC_G0  year  duration   avg_temp  avg_intensity  tot_intensity  \\\n",
       "0         8716  1983         1  40.916269       0.316269       0.316269   \n",
       "1         8716  1983         2  41.968549       1.368549       2.737099   \n",
       "2         8716  1983        16  47.880512       7.280512     116.488197   \n",
       "3         8716  1983        51  51.438063      10.838063     552.741209   \n",
       "4         8716  1983        22  53.897499      13.297499     292.544988   \n",
       "..         ...   ...       ...        ...            ...            ...   \n",
       "739       7913  2016         3  44.063638       3.463638      10.390913   \n",
       "740       7913  2016         4  42.075934       1.475934       5.903736   \n",
       "741       7913  2016         2  41.662540       1.062540       2.125080   \n",
       "742       7913  2016         5  44.139456       3.539456      17.697282   \n",
       "743       7913  2016         1  40.916731       0.316731       0.316731   \n",
       "\n",
       "                                           event_dates  \\\n",
       "0                                         [1983.04.10]   \n",
       "1                             [1983.04.23, 1983.04.24]   \n",
       "2    [1983.04.26, 1983.04.27, 1983.04.28, 1983.04.2...   \n",
       "3    [1983.05.13, 1983.05.14, 1983.05.15, 1983.05.1...   \n",
       "4    [1983.07.04, 1983.07.05, 1983.07.06, 1983.07.0...   \n",
       "..                                                 ...   \n",
       "739               [2016.09.27, 2016.09.28, 2016.09.29]   \n",
       "740   [2016.10.01, 2016.10.02, 2016.10.03, 2016.10.04]   \n",
       "741                           [2016.10.06, 2016.10.07]   \n",
       "742  [2016.10.09, 2016.10.10, 2016.10.11, 2016.10.1...   \n",
       "743                                       [2016.10.17]   \n",
       "\n",
       "                                             intensity  \\\n",
       "0                                       [0.3162688247]   \n",
       "1                         [2.2036853194, 0.5334132134]   \n",
       "2    [0.7365281444, 4.1637614766, 9.6917897375, 6.4...   \n",
       "3    [3.4425009533, 7.2378939909, 10.2395632742, 9....   \n",
       "4    [11.9686002231, 16.3046980407, 14.5550595174, ...   \n",
       "..                                                 ...   \n",
       "739   [3.7426933615999998, 3.8692065932, 2.7790127486]   \n",
       "740  [2.425792107, 0.2698984881, 0.8358455298, 2.37...   \n",
       "741                       [0.7375403857, 1.3875400703]   \n",
       "742  [1.69968388, 6.5772558792, 5.4375574898, 3.022...   \n",
       "743                                     [0.3167313479]   \n",
       "\n",
       "                                                  tmax  \n",
       "0                                      [40.9162688247]  \n",
       "1                       [42.8036853194, 41.1334132134]  \n",
       "2    [41.3365281444, 44.7637614766, 50.2917897375, ...  \n",
       "3    [44.0425009533, 47.8378939909, 50.8395632742, ...  \n",
       "4    [52.5686002231, 56.9046980407, 55.1550595174, ...  \n",
       "..                                                 ...  \n",
       "739      [44.3426933616, 44.4692065932, 43.3790127486]  \n",
       "740  [43.025792107, 40.8698984881, 41.4358455298, 4...  \n",
       "741                     [41.3375403857, 41.9875400703]  \n",
       "742  [42.29968388, 47.1772558792, 46.0375574898, 43...  \n",
       "743                                    [40.9167313479]  \n",
       "\n",
       "[39773 rows x 9 columns]"
      ]
     },
     "execution_count": 41,
     "metadata": {},
     "output_type": "execute_result"
    }
   ],
   "source": [
    "df_out"
   ]
  },
  {
   "cell_type": "code",
   "execution_count": 42,
   "metadata": {},
   "outputs": [],
   "source": [
    "done = pd.read_json(DATA_OUT+'HI406_STATS.json', orient = 'split')"
   ]
  },
  {
   "cell_type": "markdown",
   "metadata": {},
   "source": [
    "# Is the data the same?\n",
    "cpt feb 2021"
   ]
  },
  {
   "cell_type": "code",
   "execution_count": 89,
   "metadata": {},
   "outputs": [],
   "source": [
    "new = pd.read_json('/home/cascade/projects/UrbanHeat/data/processed/PNAS-DATA-v2/HI406_STATS.json', orient = 'split')"
   ]
  },
  {
   "cell_type": "code",
   "execution_count": 90,
   "metadata": {},
   "outputs": [],
   "source": [
    "old = pd.read_csv('/home/cascade/projects/UrbanHeat/data/processed/PNAS-DATA-v1/AllDATA-GHS-ERA5-HI406.csv')"
   ]
  },
  {
   "cell_type": "code",
   "execution_count": 91,
   "metadata": {},
   "outputs": [
    {
     "data": {
      "text/plain": [
       "(5734150, 10)"
      ]
     },
     "execution_count": 91,
     "metadata": {},
     "output_type": "execute_result"
    }
   ],
   "source": [
    "new.shape"
   ]
  },
  {
   "cell_type": "code",
   "execution_count": 92,
   "metadata": {},
   "outputs": [
    {
     "data": {
      "text/plain": [
       "(5746476, 13)"
      ]
     },
     "execution_count": 92,
     "metadata": {},
     "output_type": "execute_result"
    }
   ],
   "source": [
    "old.shape"
   ]
  },
  {
   "cell_type": "code",
   "execution_count": 93,
   "metadata": {},
   "outputs": [
    {
     "data": {
      "text/html": [
       "<div>\n",
       "<style scoped>\n",
       "    .dataframe tbody tr th:only-of-type {\n",
       "        vertical-align: middle;\n",
       "    }\n",
       "\n",
       "    .dataframe tbody tr th {\n",
       "        vertical-align: top;\n",
       "    }\n",
       "\n",
       "    .dataframe thead th {\n",
       "        text-align: right;\n",
       "    }\n",
       "</style>\n",
       "<table border=\"1\" class=\"dataframe\">\n",
       "  <thead>\n",
       "    <tr style=\"text-align: right;\">\n",
       "      <th></th>\n",
       "      <th>Unnamed: 0</th>\n",
       "      <th>ID_HDC_G0</th>\n",
       "      <th>CTR_MN_NM</th>\n",
       "      <th>total_days</th>\n",
       "      <th>duration</th>\n",
       "      <th>avg_temp</th>\n",
       "      <th>avg_intensity</th>\n",
       "      <th>tot_intensity</th>\n",
       "      <th>event_dates</th>\n",
       "      <th>intensity</th>\n",
       "      <th>tmax</th>\n",
       "      <th>year</th>\n",
       "      <th>Event_ID</th>\n",
       "    </tr>\n",
       "  </thead>\n",
       "  <tbody>\n",
       "    <tr>\n",
       "      <td>0</td>\n",
       "      <td>0</td>\n",
       "      <td>3091</td>\n",
       "      <td>Poland</td>\n",
       "      <td>1</td>\n",
       "      <td>1</td>\n",
       "      <td>42.493549</td>\n",
       "      <td>1.893549</td>\n",
       "      <td>1.893549</td>\n",
       "      <td>['1983.05.16']</td>\n",
       "      <td>[1.89354862]</td>\n",
       "      <td>[42.49354862]</td>\n",
       "      <td>1983</td>\n",
       "      <td>1</td>\n",
       "    </tr>\n",
       "  </tbody>\n",
       "</table>\n",
       "</div>"
      ],
      "text/plain": [
       "   Unnamed: 0  ID_HDC_G0 CTR_MN_NM  total_days  duration   avg_temp  \\\n",
       "0           0       3091    Poland           1         1  42.493549   \n",
       "\n",
       "   avg_intensity  tot_intensity     event_dates     intensity           tmax  \\\n",
       "0       1.893549       1.893549  ['1983.05.16']  [1.89354862]  [42.49354862]   \n",
       "\n",
       "   year  Event_ID  \n",
       "0  1983         1  "
      ]
     },
     "execution_count": 93,
     "metadata": {},
     "output_type": "execute_result"
    }
   ],
   "source": [
    "old[(old['ID_HDC_G0'] == 3091) & (old['year'] == 1983)]"
   ]
  },
  {
   "cell_type": "code",
   "execution_count": 94,
   "metadata": {},
   "outputs": [
    {
     "data": {
      "text/html": [
       "<div>\n",
       "<style scoped>\n",
       "    .dataframe tbody tr th:only-of-type {\n",
       "        vertical-align: middle;\n",
       "    }\n",
       "\n",
       "    .dataframe tbody tr th {\n",
       "        vertical-align: top;\n",
       "    }\n",
       "\n",
       "    .dataframe thead th {\n",
       "        text-align: right;\n",
       "    }\n",
       "</style>\n",
       "<table border=\"1\" class=\"dataframe\">\n",
       "  <thead>\n",
       "    <tr style=\"text-align: right;\">\n",
       "      <th></th>\n",
       "      <th>ID_HDC_G0</th>\n",
       "      <th>year</th>\n",
       "      <th>duration</th>\n",
       "      <th>avg_temp</th>\n",
       "      <th>avg_intensity</th>\n",
       "      <th>tot_intensity</th>\n",
       "      <th>event_dates</th>\n",
       "      <th>intensity</th>\n",
       "      <th>tmax</th>\n",
       "      <th>UID</th>\n",
       "    </tr>\n",
       "  </thead>\n",
       "  <tbody>\n",
       "    <tr>\n",
       "      <td>0</td>\n",
       "      <td>3091</td>\n",
       "      <td>1983</td>\n",
       "      <td>1</td>\n",
       "      <td>42.493549</td>\n",
       "      <td>1.893549</td>\n",
       "      <td>1.893549</td>\n",
       "      <td>[1983.05.16]</td>\n",
       "      <td>[1.8935486155999999]</td>\n",
       "      <td>[42.4935486156]</td>\n",
       "      <td>UID-2340963</td>\n",
       "    </tr>\n",
       "  </tbody>\n",
       "</table>\n",
       "</div>"
      ],
      "text/plain": [
       "   ID_HDC_G0  year  duration   avg_temp  avg_intensity  tot_intensity  \\\n",
       "0       3091  1983         1  42.493549       1.893549       1.893549   \n",
       "\n",
       "    event_dates             intensity             tmax          UID  \n",
       "0  [1983.05.16]  [1.8935486155999999]  [42.4935486156]  UID-2340963  "
      ]
     },
     "execution_count": 94,
     "metadata": {},
     "output_type": "execute_result"
    }
   ],
   "source": [
    "new[(new['ID_HDC_G0'] == 3091) & (new['year'] == 1983)]"
   ]
  },
  {
   "cell_type": "markdown",
   "metadata": {},
   "source": [
    "# Old Code"
   ]
  },
  {
   "cell_type": "code",
   "execution_count": 17,
   "metadata": {},
   "outputs": [
    {
     "name": "stdout",
     "output_type": "stream",
     "text": [
      "23\n"
     ]
    }
   ],
   "source": [
    "cpu = 20+2 # - 2\n",
    "n = int(len(step2)/ cpu)  #chunk row size\n",
    "list_df = [step2 [i:i+n] for i in range(0,step2.shape[0],n)]\n",
    "print(len(list_df))"
   ]
  },
  {
   "cell_type": "code",
   "execution_count": 15,
   "metadata": {},
   "outputs": [
    {
     "data": {
      "text/plain": [
       "11661"
      ]
     },
     "execution_count": 15,
     "metadata": {},
     "output_type": "execute_result"
    }
   ],
   "source": [
    "len(step2)"
   ]
  },
  {
   "cell_type": "code",
   "execution_count": 16,
   "metadata": {},
   "outputs": [
    {
     "data": {
      "text/html": [
       "<div>\n",
       "<style scoped>\n",
       "    .dataframe tbody tr th:only-of-type {\n",
       "        vertical-align: middle;\n",
       "    }\n",
       "\n",
       "    .dataframe tbody tr th {\n",
       "        vertical-align: top;\n",
       "    }\n",
       "\n",
       "    .dataframe thead th {\n",
       "        text-align: right;\n",
       "    }\n",
       "</style>\n",
       "<table border=\"1\" class=\"dataframe\">\n",
       "  <thead>\n",
       "    <tr style=\"text-align: right;\">\n",
       "      <th></th>\n",
       "      <th>ID_HDC_G0</th>\n",
       "      <th>dates</th>\n",
       "      <th>tmax</th>\n",
       "      <th>tmax_tntensity</th>\n",
       "    </tr>\n",
       "  </thead>\n",
       "  <tbody>\n",
       "    <tr>\n",
       "      <td>0</td>\n",
       "      <td>3554</td>\n",
       "      <td>[2010.07.29]</td>\n",
       "      <td>[42.91095336309989]</td>\n",
       "      <td>[2.310953363099891]</td>\n",
       "    </tr>\n",
       "    <tr>\n",
       "      <td>1</td>\n",
       "      <td>3295</td>\n",
       "      <td>[2010.07.29]</td>\n",
       "      <td>[42.365039604142964]</td>\n",
       "      <td>[1.765039604142963]</td>\n",
       "    </tr>\n",
       "    <tr>\n",
       "      <td>2</td>\n",
       "      <td>3242</td>\n",
       "      <td>[2010.07.29]</td>\n",
       "      <td>[40.941567828562654]</td>\n",
       "      <td>[0.34156782856265266]</td>\n",
       "    </tr>\n",
       "    <tr>\n",
       "      <td>3</td>\n",
       "      <td>9075</td>\n",
       "      <td>[1988.07.22, 1988.07.23, 1988.07.24, 1988.07.2...</td>\n",
       "      <td>[42.60064411402778, 44.46700911035864, 44.7843...</td>\n",
       "      <td>[2.0006441140277786, 3.8670091103586373, 4.184...</td>\n",
       "    </tr>\n",
       "    <tr>\n",
       "      <td>4</td>\n",
       "      <td>4362</td>\n",
       "      <td>[1989.07.19, 1990.07.10, 1996.07.13, 2001.07.2...</td>\n",
       "      <td>[40.77021376234568, 42.44143213521773, 41.0918...</td>\n",
       "      <td>[0.17021376234568208, 1.8414321352177296, 0.49...</td>\n",
       "    </tr>\n",
       "    <tr>\n",
       "      <td>...</td>\n",
       "      <td>...</td>\n",
       "      <td>...</td>\n",
       "      <td>...</td>\n",
       "      <td>...</td>\n",
       "    </tr>\n",
       "    <tr>\n",
       "      <td>11656</td>\n",
       "      <td>968</td>\n",
       "      <td>[2013.01.20]</td>\n",
       "      <td>[42.02921292854994]</td>\n",
       "      <td>[1.429212928549937]</td>\n",
       "    </tr>\n",
       "    <tr>\n",
       "      <td>11657</td>\n",
       "      <td>1087</td>\n",
       "      <td>[1983.01.01, 1983.01.05, 1983.01.12, 1983.01.2...</td>\n",
       "      <td>[42.1275297653516, 41.70304743074981, 46.36813...</td>\n",
       "      <td>[1.527529765351602, 1.103047430749811, 5.76813...</td>\n",
       "    </tr>\n",
       "    <tr>\n",
       "      <td>11658</td>\n",
       "      <td>1081</td>\n",
       "      <td>[1983.01.05, 1983.02.04, 1983.02.05, 1983.11.2...</td>\n",
       "      <td>[40.94428549255453, 40.62568825715032, 41.7781...</td>\n",
       "      <td>[0.34428549255452623, 0.025688257150321192, 1....</td>\n",
       "    </tr>\n",
       "    <tr>\n",
       "      <td>11659</td>\n",
       "      <td>12943</td>\n",
       "      <td>[1991.01.03, 1994.01.26, 1997.01.21, 2001.02.0...</td>\n",
       "      <td>[48.04558470377348, 41.501496488217626, 43.111...</td>\n",
       "      <td>[7.445584703773477, 0.9014964882176244, 2.5114...</td>\n",
       "    </tr>\n",
       "    <tr>\n",
       "      <td>11660</td>\n",
       "      <td>1082</td>\n",
       "      <td>[1983.01.05, 1983.02.05, 1983.11.27, 1989.01.0...</td>\n",
       "      <td>[42.19979061148469, 40.76924754146149, 40.6431...</td>\n",
       "      <td>[1.5997906114846856, 0.16924754146148757, 0.04...</td>\n",
       "    </tr>\n",
       "  </tbody>\n",
       "</table>\n",
       "<p>11661 rows × 4 columns</p>\n",
       "</div>"
      ],
      "text/plain": [
       "       ID_HDC_G0                                              dates  \\\n",
       "0           3554                                       [2010.07.29]   \n",
       "1           3295                                       [2010.07.29]   \n",
       "2           3242                                       [2010.07.29]   \n",
       "3           9075  [1988.07.22, 1988.07.23, 1988.07.24, 1988.07.2...   \n",
       "4           4362  [1989.07.19, 1990.07.10, 1996.07.13, 2001.07.2...   \n",
       "...          ...                                                ...   \n",
       "11656        968                                       [2013.01.20]   \n",
       "11657       1087  [1983.01.01, 1983.01.05, 1983.01.12, 1983.01.2...   \n",
       "11658       1081  [1983.01.05, 1983.02.04, 1983.02.05, 1983.11.2...   \n",
       "11659      12943  [1991.01.03, 1994.01.26, 1997.01.21, 2001.02.0...   \n",
       "11660       1082  [1983.01.05, 1983.02.05, 1983.11.27, 1989.01.0...   \n",
       "\n",
       "                                                    tmax  \\\n",
       "0                                    [42.91095336309989]   \n",
       "1                                   [42.365039604142964]   \n",
       "2                                   [40.941567828562654]   \n",
       "3      [42.60064411402778, 44.46700911035864, 44.7843...   \n",
       "4      [40.77021376234568, 42.44143213521773, 41.0918...   \n",
       "...                                                  ...   \n",
       "11656                                [42.02921292854994]   \n",
       "11657  [42.1275297653516, 41.70304743074981, 46.36813...   \n",
       "11658  [40.94428549255453, 40.62568825715032, 41.7781...   \n",
       "11659  [48.04558470377348, 41.501496488217626, 43.111...   \n",
       "11660  [42.19979061148469, 40.76924754146149, 40.6431...   \n",
       "\n",
       "                                          tmax_tntensity  \n",
       "0                                    [2.310953363099891]  \n",
       "1                                    [1.765039604142963]  \n",
       "2                                  [0.34156782856265266]  \n",
       "3      [2.0006441140277786, 3.8670091103586373, 4.184...  \n",
       "4      [0.17021376234568208, 1.8414321352177296, 0.49...  \n",
       "...                                                  ...  \n",
       "11656                                [1.429212928549937]  \n",
       "11657  [1.527529765351602, 1.103047430749811, 5.76813...  \n",
       "11658  [0.34428549255452623, 0.025688257150321192, 1....  \n",
       "11659  [7.445584703773477, 0.9014964882176244, 2.5114...  \n",
       "11660  [1.5997906114846856, 0.16924754146148757, 0.04...  \n",
       "\n",
       "[11661 rows x 4 columns]"
      ]
     },
     "execution_count": 16,
     "metadata": {},
     "output_type": "execute_result"
    }
   ],
   "source": [
    "step2"
   ]
  },
  {
   "cell_type": "code",
   "execution_count": 10,
   "metadata": {},
   "outputs": [],
   "source": [
    "# write them out\n",
    "for i, df in enumerate(list_df):\n",
    "    df.to_json(DATA_OUT+'tmp/tmp_'+str(i)+'.json', orient = 'split')"
   ]
  },
  {
   "cell_type": "code",
   "execution_count": null,
   "metadata": {},
   "outputs": [],
   "source": [
    "#os.mkdir(DATA_OUT+'temp')"
   ]
  },
  {
   "cell_type": "code",
   "execution_count": 11,
   "metadata": {},
   "outputs": [],
   "source": [
    "fns_list = glob.glob(DATA_OUT+'tmp/*.json')"
   ]
  },
  {
   "cell_type": "code",
   "execution_count": 12,
   "metadata": {},
   "outputs": [
    {
     "data": {
      "text/plain": [
       "['/home/cascade/projects/UrbanHeat/data/interim/CHIRTS_DAILY/STATS/tmp/tmp_0.json',\n",
       " '/home/cascade/projects/UrbanHeat/data/interim/CHIRTS_DAILY/STATS/tmp/tmp_4.json',\n",
       " '/home/cascade/projects/UrbanHeat/data/interim/CHIRTS_DAILY/STATS/tmp/tmp_16.json',\n",
       " '/home/cascade/projects/UrbanHeat/data/interim/CHIRTS_DAILY/STATS/tmp/tmp_8.json',\n",
       " '/home/cascade/projects/UrbanHeat/data/interim/CHIRTS_DAILY/STATS/tmp/tmp_12.json',\n",
       " '/home/cascade/projects/UrbanHeat/data/interim/CHIRTS_DAILY/STATS/tmp/tmp_17.json',\n",
       " '/home/cascade/projects/UrbanHeat/data/interim/CHIRTS_DAILY/STATS/tmp/tmp_9.json',\n",
       " '/home/cascade/projects/UrbanHeat/data/interim/CHIRTS_DAILY/STATS/tmp/tmp_13.json',\n",
       " '/home/cascade/projects/UrbanHeat/data/interim/CHIRTS_DAILY/STATS/tmp/tmp_1.json',\n",
       " '/home/cascade/projects/UrbanHeat/data/interim/CHIRTS_DAILY/STATS/tmp/tmp_5.json',\n",
       " '/home/cascade/projects/UrbanHeat/data/interim/CHIRTS_DAILY/STATS/tmp/tmp_15.json',\n",
       " '/home/cascade/projects/UrbanHeat/data/interim/CHIRTS_DAILY/STATS/tmp/tmp_11.json',\n",
       " '/home/cascade/projects/UrbanHeat/data/interim/CHIRTS_DAILY/STATS/tmp/tmp_3.json',\n",
       " '/home/cascade/projects/UrbanHeat/data/interim/CHIRTS_DAILY/STATS/tmp/tmp_7.json',\n",
       " '/home/cascade/projects/UrbanHeat/data/interim/CHIRTS_DAILY/STATS/tmp/tmp_19.json',\n",
       " '/home/cascade/projects/UrbanHeat/data/interim/CHIRTS_DAILY/STATS/tmp/tmp_2.json',\n",
       " '/home/cascade/projects/UrbanHeat/data/interim/CHIRTS_DAILY/STATS/tmp/tmp_6.json',\n",
       " '/home/cascade/projects/UrbanHeat/data/interim/CHIRTS_DAILY/STATS/tmp/tmp_18.json',\n",
       " '/home/cascade/projects/UrbanHeat/data/interim/CHIRTS_DAILY/STATS/tmp/tmp_14.json',\n",
       " '/home/cascade/projects/UrbanHeat/data/interim/CHIRTS_DAILY/STATS/tmp/tmp_10.json']"
      ]
     },
     "execution_count": 12,
     "metadata": {},
     "output_type": "execute_result"
    }
   ],
   "source": [
    "fns_list"
   ]
  },
  {
   "cell_type": "code",
   "execution_count": null,
   "metadata": {},
   "outputs": [],
   "source": [
    "fn = fns_list[0]\n",
    "df = pd.read_json(fn, orient = 'split')"
   ]
  },
  {
   "cell_type": "code",
   "execution_count": null,
   "metadata": {},
   "outputs": [],
   "source": [
    "step3 = tmax_stats(df)"
   ]
  },
  {
   "cell_type": "code",
   "execution_count": null,
   "metadata": {},
   "outputs": [],
   "source": [
    "def max_stats_run(fn):\n",
    "    \n",
    "    \"\"\" runs max_stats on a fn (.json) and writes on .json)\n",
    "    Args:\n",
    "        fn = file name\n",
    "    \"\"\"\n",
    "    \n",
    "    # open df\n",
    "    df = pd.read_json(fn, orient = 'split')\n",
    "    i = fn.split('temp_')[1].split('.json')[0]\n",
    "    \n",
    "    # make small for testing \n",
    "    df = df.iloc[0:4,:]\n",
    "    \n",
    "    # Calculate stats\n",
    "    step3 = max_stats(df)\n",
    "\n",
    "    # write file\n",
    "    fn_out = DATA_OUT+'temp/'+'STAT_'+str(i)+'.json'\n",
    "    step3.to_json(fn_out, orient = 'split')\n",
    "    print('done', i)\n",
    "\n"
   ]
  },
  {
   "cell_type": "code",
   "execution_count": null,
   "metadata": {},
   "outputs": [],
   "source": [
    "for fn in fns_list:\n",
    "    tbd(fn)"
   ]
  },
  {
   "cell_type": "code",
   "execution_count": null,
   "metadata": {},
   "outputs": [],
   "source": [
    "test = glob.glob(DATA_OUT+'temp/STAT*')"
   ]
  },
  {
   "cell_type": "code",
   "execution_count": null,
   "metadata": {},
   "outputs": [],
   "source": [
    "test"
   ]
  },
  {
   "cell_type": "code",
   "execution_count": null,
   "metadata": {},
   "outputs": [],
   "source": [
    "import Event_Stats_Funcs"
   ]
  },
  {
   "cell_type": "code",
   "execution_count": null,
   "metadata": {},
   "outputs": [],
   "source": [
    "test = '/home/cascade/projects/UrbanHeat/data/interim/CHIRTS_DAILY/STATS/HI406_temp/HI406_2.json'"
   ]
  },
  {
   "cell_type": "code",
   "execution_count": null,
   "metadata": {},
   "outputs": [],
   "source": [
    "data = test.split('_temp/')[1].split('_')[0]\n",
    "i = test.split(data+'_temp/')[1].split(data+'_')[1]\n",
    "DATA_OUT = test.split(data+'_temp')[0]"
   ]
  },
  {
   "cell_type": "code",
   "execution_count": null,
   "metadata": {},
   "outputs": [],
   "source": [
    "DATA_OUT"
   ]
  },
  {
   "cell_type": "code",
   "execution_count": null,
   "metadata": {},
   "outputs": [],
   "source": [
    "glob.glob('/home/cascade/projects/UrbanHeat/data/interim/CHIRTS_DAILY/STATS/HI406_temp/*')"
   ]
  },
  {
   "cell_type": "code",
   "execution_count": null,
   "metadata": {},
   "outputs": [],
   "source": [
    "fn = '/home/cascade/projects/UrbanHeat/data/interim/CHIRTS_DAILY/STATS/HI406_temp/HI406_STAT_6.json'\n",
    "test = pd.read_json(fn, orient = 'split')\n",
    "test.head()"
   ]
  }
 ],
 "metadata": {
  "kernelspec": {
   "display_name": "geo",
   "language": "python",
   "name": "geo"
  },
  "language_info": {
   "codemirror_mode": {
    "name": "ipython",
    "version": 3
   },
   "file_extension": ".py",
   "mimetype": "text/x-python",
   "name": "python",
   "nbconvert_exporter": "python",
   "pygments_lexer": "ipython3",
   "version": "3.6.7"
  }
 },
 "nbformat": 4,
 "nbformat_minor": 4
}
