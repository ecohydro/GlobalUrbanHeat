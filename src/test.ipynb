{
 "cells": [
  {
   "cell_type": "code",
   "execution_count": 1,
   "metadata": {},
   "outputs": [],
   "source": [
    "import pandas as pd\n",
    "import os\n",
    "import matplotlib.pyplot as plt\n",
    "import numpy as np\n",
    "import statsmodels.api as sm\n",
    "import warnings"
   ]
  },
  {
   "cell_type": "markdown",
   "metadata": {},
   "source": [
    "# Check event stats"
   ]
  },
  {
   "cell_type": "code",
   "execution_count": null,
   "metadata": {},
   "outputs": [],
   "source": [
    "fn = os.path.join('/scratch/cascade/UEH-daily/stats/wbgtmax30_STATS.json')"
   ]
  },
  {
   "cell_type": "code",
   "execution_count": null,
   "metadata": {},
   "outputs": [],
   "source": [
    "df = pd.read_json(fn, orient = 'split')"
   ]
  },
  {
   "cell_type": "code",
   "execution_count": null,
   "metadata": {},
   "outputs": [],
   "source": [
    "df.head()"
   ]
  },
  {
   "cell_type": "code",
   "execution_count": null,
   "metadata": {},
   "outputs": [],
   "source": [
    "# Dehli 6955, Kolkata 9691"
   ]
  },
  {
   "cell_type": "code",
   "execution_count": null,
   "metadata": {},
   "outputs": [],
   "source": [
    "def mk_data(df, id_):\n",
    "    data = df[df['ID_HDC_G0'] == id_][['year','duration']].groupby('year').sum()\n",
    "    pd.DataFrame(data.reset_index(inplace = True))\n",
    "    \n",
    "    return data"
   ]
  },
  {
   "cell_type": "code",
   "execution_count": null,
   "metadata": {},
   "outputs": [],
   "source": [
    "dehli = mk_data(df, 6955)\n",
    "kolkata = mk_data(df, 9691)"
   ]
  },
  {
   "cell_type": "code",
   "execution_count": null,
   "metadata": {
    "scrolled": true
   },
   "outputs": [],
   "source": [
    "fig = plt.gcf()\n",
    "fig.set_size_inches(10, 10)\n",
    "plt.plot(dehli['year'], dehli['duration'], color = 'cornflowerblue', linewidth = 3)\n",
    "plt.plot(kolkata['year'], kolkata['duration'], color = 'chocolate', linewidth = 3)\n",
    "plt.legend(['Deli','Kolata'], fontsize = 15)\n",
    "plt.xlabel('Year', fontsize = 15)\n",
    "plt.ylabel('days/yr wbgt-max > 30°C', fontsize = 15)"
   ]
  },
  {
   "cell_type": "code",
   "execution_count": null,
   "metadata": {},
   "outputs": [],
   "source": [
    "#### Args\n",
    "DATA = 'wbgt30' # Always update WBGT32_1D, WBGT28_1D, HI406_1D HI406_2D & HI461_1D \n",
    "DATA_PATH = os.path.join('/scratch/cascade/UEH-daily/stats/')\n",
    "FN_POP = os.path.join('/home/cascade/projects/UrbanHeat/data/interim/GHS-UCDB-Interp.csv')\n",
    "FN_STATS = os.path.join(DATA_PATH, DATA+'_STATS.json')\n",
    "FN_OUT = os.path.join(DATA_PATH, DATA+'_EXP.json') "
   ]
  },
  {
   "cell_type": "code",
   "execution_count": null,
   "metadata": {
    "scrolled": true
   },
   "outputs": [],
   "source": [
    "FN_STATS"
   ]
  },
  {
   "cell_type": "code",
   "execution_count": null,
   "metadata": {},
   "outputs": [],
   "source": [
    "FN_STATS = os.path.join('/scratch/cascade/UEH-daily/stats/wbgtmax30_STATS.json')"
   ]
  },
  {
   "cell_type": "code",
   "execution_count": null,
   "metadata": {},
   "outputs": [],
   "source": [
    "stats = pd.read_json(FN_STATS, orient = 'split') # read in stats\n",
    "df_pop = pd.read_csv(FN_POP) # read in interp population from GHS-UCDB"
   ]
  },
  {
   "cell_type": "code",
   "execution_count": null,
   "metadata": {},
   "outputs": [],
   "source": [
    "len(np.unique(stats['ID_HDC_G0']))"
   ]
  },
  {
   "cell_type": "code",
   "execution_count": null,
   "metadata": {},
   "outputs": [],
   "source": [
    "stats"
   ]
  },
  {
   "cell_type": "code",
   "execution_count": null,
   "metadata": {},
   "outputs": [],
   "source": [
    "def tot_days(df):\n",
    "    \"\"\" Calulates the total number of days per year when a heat threshold was met\n",
    "    \"\"\"\n",
    "    df_out = df[['ID_HDC_G0','year','duration']].groupby(['ID_HDC_G0','year']).sum().reset_index()\n",
    "    df_out.rename(columns={'duration':'tot_days'}, inplace=True)\n",
    "    \n",
    "    return df_out"
   ]
  },
  {
   "cell_type": "code",
   "execution_count": null,
   "metadata": {},
   "outputs": [],
   "source": [
    "#### Args\n",
    "DATA = 'wbgtmax30' # Always update WBGT32_1D, WBGT28_1D, HI406_1D HI406_2D & HI461_1D \n",
    "DATA_PATH = os.path.join('/scratch/cascade/UEH-daily/stats/')\n",
    "FN_POP = os.path.join('/home/cascade/projects/UrbanHeat/data/interim/GHS-UCDB-Interp.csv')\n",
    "FN_STATS = os.path.join(DATA_PATH, DATA+'_STATS.json')\n",
    "FN_OUT = os.path.join(DATA_PATH, DATA+'_EXP.json') "
   ]
  },
  {
   "cell_type": "code",
   "execution_count": null,
   "metadata": {},
   "outputs": [],
   "source": [
    "df = pd.read_json(FN_OUT, orient = 'split')"
   ]
  },
  {
   "cell_type": "code",
   "execution_count": null,
   "metadata": {
    "scrolled": true
   },
   "outputs": [],
   "source": [
    "df"
   ]
  },
  {
   "cell_type": "markdown",
   "metadata": {},
   "source": [
    "# Check TREND"
   ]
  },
  {
   "cell_type": "code",
   "execution_count": 2,
   "metadata": {},
   "outputs": [],
   "source": [
    "fn = '/scratch/cascade/UEH-daily/stats/wbgtmax30_TREND_ALL.json'"
   ]
  },
  {
   "cell_type": "code",
   "execution_count": 3,
   "metadata": {},
   "outputs": [
    {
     "data": {
      "text/plain": [
       "8917"
      ]
     },
     "execution_count": 3,
     "metadata": {},
     "output_type": "execute_result"
    }
   ],
   "source": [
    "trend = pd.read_json(fn, orient = 'split')\n",
    "len(trend)"
   ]
  },
  {
   "cell_type": "code",
   "execution_count": 7,
   "metadata": {},
   "outputs": [
    {
     "data": {
      "text/html": [
       "<div>\n",
       "<style scoped>\n",
       "    .dataframe tbody tr th:only-of-type {\n",
       "        vertical-align: middle;\n",
       "    }\n",
       "\n",
       "    .dataframe tbody tr th {\n",
       "        vertical-align: top;\n",
       "    }\n",
       "\n",
       "    .dataframe thead th {\n",
       "        text-align: right;\n",
       "    }\n",
       "</style>\n",
       "<table border=\"1\" class=\"dataframe\">\n",
       "  <thead>\n",
       "    <tr style=\"text-align: right;\">\n",
       "      <th></th>\n",
       "      <th>ID_HDC_G0</th>\n",
       "      <th>coef_pdays</th>\n",
       "      <th>p_value_pdays</th>\n",
       "      <th>coef_heat</th>\n",
       "      <th>p_value_heat</th>\n",
       "      <th>coef_pop</th>\n",
       "      <th>p_value_pop</th>\n",
       "      <th>coef_totDays</th>\n",
       "      <th>p_value_totDays</th>\n",
       "      <th>coef_attrib</th>\n",
       "      <th>coef_attrib_norm</th>\n",
       "      <th>CTR_MN_NM</th>\n",
       "      <th>UC_NM_MN</th>\n",
       "      <th>GCPNT_LAT</th>\n",
       "      <th>GCPNT_LON</th>\n",
       "      <th>region</th>\n",
       "      <th>sub-region</th>\n",
       "      <th>intermediate-region</th>\n",
       "      <th>P1983</th>\n",
       "      <th>P2016</th>\n",
       "    </tr>\n",
       "  </thead>\n",
       "  <tbody>\n",
       "    <tr>\n",
       "      <td>0</td>\n",
       "      <td>18</td>\n",
       "      <td>2472.019732</td>\n",
       "      <td>0.5191</td>\n",
       "      <td>1965.053764</td>\n",
       "      <td>0.5191</td>\n",
       "      <td>506.965968</td>\n",
       "      <td>0.5191</td>\n",
       "      <td>0.003972</td>\n",
       "      <td>0.5191</td>\n",
       "      <td>-0.589837</td>\n",
       "      <td>0.746604</td>\n",
       "      <td>United States</td>\n",
       "      <td>Concord [USA]</td>\n",
       "      <td>37.913946</td>\n",
       "      <td>-122.048318</td>\n",
       "      <td>Americas</td>\n",
       "      <td>Northern America</td>\n",
       "      <td>Northern America</td>\n",
       "      <td>494664.495616</td>\n",
       "      <td>661553.577433</td>\n",
       "    </tr>\n",
       "    <tr>\n",
       "      <td>1</td>\n",
       "      <td>22</td>\n",
       "      <td>281.712286</td>\n",
       "      <td>0.5191</td>\n",
       "      <td>206.825938</td>\n",
       "      <td>0.5191</td>\n",
       "      <td>74.886349</td>\n",
       "      <td>0.5191</td>\n",
       "      <td>0.003972</td>\n",
       "      <td>0.5191</td>\n",
       "      <td>-0.468349</td>\n",
       "      <td>0.746772</td>\n",
       "      <td>United States</td>\n",
       "      <td>Livermore [USA]</td>\n",
       "      <td>37.688409</td>\n",
       "      <td>-121.753980</td>\n",
       "      <td>Americas</td>\n",
       "      <td>Northern America</td>\n",
       "      <td>Northern America</td>\n",
       "      <td>52064.452435</td>\n",
       "      <td>73006.671133</td>\n",
       "    </tr>\n",
       "    <tr>\n",
       "      <td>2</td>\n",
       "      <td>26</td>\n",
       "      <td>1477.435791</td>\n",
       "      <td>0.5191</td>\n",
       "      <td>1156.526598</td>\n",
       "      <td>0.5191</td>\n",
       "      <td>320.909193</td>\n",
       "      <td>0.5191</td>\n",
       "      <td>0.005959</td>\n",
       "      <td>0.5191</td>\n",
       "      <td>-0.565586</td>\n",
       "      <td>0.746637</td>\n",
       "      <td>United States</td>\n",
       "      <td>Antioch [USA]</td>\n",
       "      <td>37.985433</td>\n",
       "      <td>-121.797516</td>\n",
       "      <td>Americas</td>\n",
       "      <td>Northern America</td>\n",
       "      <td>Northern America</td>\n",
       "      <td>194088.886834</td>\n",
       "      <td>268055.635628</td>\n",
       "    </tr>\n",
       "    <tr>\n",
       "      <td>3</td>\n",
       "      <td>27</td>\n",
       "      <td>360.722938</td>\n",
       "      <td>0.5191</td>\n",
       "      <td>319.948094</td>\n",
       "      <td>0.5191</td>\n",
       "      <td>40.774843</td>\n",
       "      <td>0.5191</td>\n",
       "      <td>0.003972</td>\n",
       "      <td>0.5191</td>\n",
       "      <td>-0.773927</td>\n",
       "      <td>0.746349</td>\n",
       "      <td>United States</td>\n",
       "      <td>Fairfield [USA]</td>\n",
       "      <td>38.264013</td>\n",
       "      <td>-122.030253</td>\n",
       "      <td>Americas</td>\n",
       "      <td>Northern America</td>\n",
       "      <td>Northern America</td>\n",
       "      <td>80540.779940</td>\n",
       "      <td>93335.494324</td>\n",
       "    </tr>\n",
       "    <tr>\n",
       "      <td>4</td>\n",
       "      <td>28</td>\n",
       "      <td>589.850324</td>\n",
       "      <td>0.5481</td>\n",
       "      <td>444.114223</td>\n",
       "      <td>0.5539</td>\n",
       "      <td>145.736101</td>\n",
       "      <td>0.5322</td>\n",
       "      <td>0.007487</td>\n",
       "      <td>0.5539</td>\n",
       "      <td>-0.505854</td>\n",
       "      <td>0.746720</td>\n",
       "      <td>United States</td>\n",
       "      <td>Tracy [USA]</td>\n",
       "      <td>37.730079</td>\n",
       "      <td>-121.431413</td>\n",
       "      <td>Americas</td>\n",
       "      <td>Northern America</td>\n",
       "      <td>Northern America</td>\n",
       "      <td>59320.971209</td>\n",
       "      <td>91449.606255</td>\n",
       "    </tr>\n",
       "  </tbody>\n",
       "</table>\n",
       "</div>"
      ],
      "text/plain": [
       "   ID_HDC_G0   coef_pdays  p_value_pdays    coef_heat  p_value_heat  \\\n",
       "0         18  2472.019732         0.5191  1965.053764        0.5191   \n",
       "1         22   281.712286         0.5191   206.825938        0.5191   \n",
       "2         26  1477.435791         0.5191  1156.526598        0.5191   \n",
       "3         27   360.722938         0.5191   319.948094        0.5191   \n",
       "4         28   589.850324         0.5481   444.114223        0.5539   \n",
       "\n",
       "     coef_pop  p_value_pop  coef_totDays  p_value_totDays  coef_attrib  \\\n",
       "0  506.965968       0.5191      0.003972           0.5191    -0.589837   \n",
       "1   74.886349       0.5191      0.003972           0.5191    -0.468349   \n",
       "2  320.909193       0.5191      0.005959           0.5191    -0.565586   \n",
       "3   40.774843       0.5191      0.003972           0.5191    -0.773927   \n",
       "4  145.736101       0.5322      0.007487           0.5539    -0.505854   \n",
       "\n",
       "   coef_attrib_norm      CTR_MN_NM         UC_NM_MN  GCPNT_LAT   GCPNT_LON  \\\n",
       "0          0.746604  United States    Concord [USA]  37.913946 -122.048318   \n",
       "1          0.746772  United States  Livermore [USA]  37.688409 -121.753980   \n",
       "2          0.746637  United States    Antioch [USA]  37.985433 -121.797516   \n",
       "3          0.746349  United States  Fairfield [USA]  38.264013 -122.030253   \n",
       "4          0.746720  United States      Tracy [USA]  37.730079 -121.431413   \n",
       "\n",
       "     region        sub-region intermediate-region          P1983  \\\n",
       "0  Americas  Northern America    Northern America  494664.495616   \n",
       "1  Americas  Northern America    Northern America   52064.452435   \n",
       "2  Americas  Northern America    Northern America  194088.886834   \n",
       "3  Americas  Northern America    Northern America   80540.779940   \n",
       "4  Americas  Northern America    Northern America   59320.971209   \n",
       "\n",
       "           P2016  \n",
       "0  661553.577433  \n",
       "1   73006.671133  \n",
       "2  268055.635628  \n",
       "3   93335.494324  \n",
       "4   91449.606255  "
      ]
     },
     "execution_count": 7,
     "metadata": {},
     "output_type": "execute_result"
    }
   ],
   "source": [
    "trend.head()"
   ]
  },
  {
   "cell_type": "code",
   "execution_count": 19,
   "metadata": {},
   "outputs": [
    {
     "data": {
      "text/html": [
       "<div>\n",
       "<style scoped>\n",
       "    .dataframe tbody tr th:only-of-type {\n",
       "        vertical-align: middle;\n",
       "    }\n",
       "\n",
       "    .dataframe tbody tr th {\n",
       "        vertical-align: top;\n",
       "    }\n",
       "\n",
       "    .dataframe thead th {\n",
       "        text-align: right;\n",
       "    }\n",
       "</style>\n",
       "<table border=\"1\" class=\"dataframe\">\n",
       "  <thead>\n",
       "    <tr style=\"text-align: right;\">\n",
       "      <th></th>\n",
       "      <th>ID_HDC_G0</th>\n",
       "      <th>coef_pdays</th>\n",
       "      <th>p_value_pdays</th>\n",
       "      <th>coef_heat</th>\n",
       "      <th>p_value_heat</th>\n",
       "      <th>coef_pop</th>\n",
       "      <th>p_value_pop</th>\n",
       "      <th>coef_totDays</th>\n",
       "      <th>p_value_totDays</th>\n",
       "      <th>coef_attrib</th>\n",
       "      <th>coef_attrib_norm</th>\n",
       "      <th>CTR_MN_NM</th>\n",
       "      <th>UC_NM_MN</th>\n",
       "      <th>GCPNT_LAT</th>\n",
       "      <th>GCPNT_LON</th>\n",
       "      <th>region</th>\n",
       "      <th>sub-region</th>\n",
       "      <th>intermediate-region</th>\n",
       "      <th>P1983</th>\n",
       "      <th>P2016</th>\n",
       "    </tr>\n",
       "  </thead>\n",
       "  <tbody>\n",
       "    <tr>\n",
       "      <td>913</td>\n",
       "      <td>1702</td>\n",
       "      <td>-1056.283476</td>\n",
       "      <td>0.0309</td>\n",
       "      <td>-1117.352224</td>\n",
       "      <td>0.0341</td>\n",
       "      <td>61.068749</td>\n",
       "      <td>0.1958</td>\n",
       "      <td>-0.011917</td>\n",
       "      <td>0.0341</td>\n",
       "      <td>-1.115629</td>\n",
       "      <td>0.745875</td>\n",
       "      <td>Spain</td>\n",
       "      <td>Jaen [ESP]</td>\n",
       "      <td>37.780479</td>\n",
       "      <td>-3.787381</td>\n",
       "      <td>Europe</td>\n",
       "      <td>Southern Europe</td>\n",
       "      <td>Southern Europe</td>\n",
       "      <td>93757.311650</td>\n",
       "      <td>66540.934692</td>\n",
       "    </tr>\n",
       "    <tr>\n",
       "      <td>1671</td>\n",
       "      <td>2998</td>\n",
       "      <td>-627.328766</td>\n",
       "      <td>0.0459</td>\n",
       "      <td>-621.946687</td>\n",
       "      <td>0.0456</td>\n",
       "      <td>-5.382079</td>\n",
       "      <td>0.1432</td>\n",
       "      <td>-0.008251</td>\n",
       "      <td>0.0456</td>\n",
       "      <td>-0.982841</td>\n",
       "      <td>0.746059</td>\n",
       "      <td>Poland</td>\n",
       "      <td>Legnica [POL]</td>\n",
       "      <td>51.206241</td>\n",
       "      <td>16.176722</td>\n",
       "      <td>Europe</td>\n",
       "      <td>Eastern Europe</td>\n",
       "      <td>Eastern Europe</td>\n",
       "      <td>75382.241980</td>\n",
       "      <td>66979.700439</td>\n",
       "    </tr>\n",
       "    <tr>\n",
       "      <td>1673</td>\n",
       "      <td>3001</td>\n",
       "      <td>-490.661017</td>\n",
       "      <td>0.0460</td>\n",
       "      <td>-484.601639</td>\n",
       "      <td>0.0456</td>\n",
       "      <td>-6.059378</td>\n",
       "      <td>0.1432</td>\n",
       "      <td>-0.008251</td>\n",
       "      <td>0.0456</td>\n",
       "      <td>-0.975301</td>\n",
       "      <td>0.746070</td>\n",
       "      <td>Poland</td>\n",
       "      <td>Pila [POL]</td>\n",
       "      <td>53.152501</td>\n",
       "      <td>16.747037</td>\n",
       "      <td>Europe</td>\n",
       "      <td>Eastern Europe</td>\n",
       "      <td>Eastern Europe</td>\n",
       "      <td>58735.513480</td>\n",
       "      <td>56832.666321</td>\n",
       "    </tr>\n",
       "    <tr>\n",
       "      <td>1676</td>\n",
       "      <td>3006</td>\n",
       "      <td>-452.975953</td>\n",
       "      <td>0.0463</td>\n",
       "      <td>-442.146332</td>\n",
       "      <td>0.0456</td>\n",
       "      <td>-10.829621</td>\n",
       "      <td>0.1432</td>\n",
       "      <td>-0.008251</td>\n",
       "      <td>0.0456</td>\n",
       "      <td>-0.952185</td>\n",
       "      <td>0.746102</td>\n",
       "      <td>Poland</td>\n",
       "      <td>Leszno [POL]</td>\n",
       "      <td>51.843782</td>\n",
       "      <td>16.577666</td>\n",
       "      <td>Europe</td>\n",
       "      <td>Eastern Europe</td>\n",
       "      <td>Eastern Europe</td>\n",
       "      <td>53589.773038</td>\n",
       "      <td>56598.201181</td>\n",
       "    </tr>\n",
       "    <tr>\n",
       "      <td>1682</td>\n",
       "      <td>3012</td>\n",
       "      <td>-4676.282852</td>\n",
       "      <td>0.0459</td>\n",
       "      <td>-4621.976803</td>\n",
       "      <td>0.0456</td>\n",
       "      <td>-54.306048</td>\n",
       "      <td>0.1432</td>\n",
       "      <td>-0.008251</td>\n",
       "      <td>0.0456</td>\n",
       "      <td>-0.976774</td>\n",
       "      <td>0.746068</td>\n",
       "      <td>Poland</td>\n",
       "      <td>Poznan [POL]</td>\n",
       "      <td>52.400971</td>\n",
       "      <td>16.918282</td>\n",
       "      <td>Europe</td>\n",
       "      <td>Eastern Europe</td>\n",
       "      <td>Eastern Europe</td>\n",
       "      <td>560200.707010</td>\n",
       "      <td>527670.385445</td>\n",
       "    </tr>\n",
       "    <tr>\n",
       "      <td>...</td>\n",
       "      <td>...</td>\n",
       "      <td>...</td>\n",
       "      <td>...</td>\n",
       "      <td>...</td>\n",
       "      <td>...</td>\n",
       "      <td>...</td>\n",
       "      <td>...</td>\n",
       "      <td>...</td>\n",
       "      <td>...</td>\n",
       "      <td>...</td>\n",
       "      <td>...</td>\n",
       "      <td>...</td>\n",
       "      <td>...</td>\n",
       "      <td>...</td>\n",
       "      <td>...</td>\n",
       "      <td>...</td>\n",
       "      <td>...</td>\n",
       "      <td>...</td>\n",
       "      <td>...</td>\n",
       "      <td>...</td>\n",
       "    </tr>\n",
       "    <tr>\n",
       "      <td>7694</td>\n",
       "      <td>11597</td>\n",
       "      <td>-29573.948182</td>\n",
       "      <td>0.0477</td>\n",
       "      <td>7994.972629</td>\n",
       "      <td>0.7246</td>\n",
       "      <td>-37568.920811</td>\n",
       "      <td>0.0000</td>\n",
       "      <td>0.063102</td>\n",
       "      <td>0.7246</td>\n",
       "      <td>1.540677</td>\n",
       "      <td>0.749556</td>\n",
       "      <td>China</td>\n",
       "      <td>Yuyue [CHN]</td>\n",
       "      <td>29.974200</td>\n",
       "      <td>113.902127</td>\n",
       "      <td>Asia</td>\n",
       "      <td>Eastern Asia</td>\n",
       "      <td>Eastern Asia</td>\n",
       "      <td>126699.989970</td>\n",
       "      <td>91419.355957</td>\n",
       "    </tr>\n",
       "    <tr>\n",
       "      <td>7784</td>\n",
       "      <td>11693</td>\n",
       "      <td>-79323.603526</td>\n",
       "      <td>0.0292</td>\n",
       "      <td>26843.731136</td>\n",
       "      <td>0.6037</td>\n",
       "      <td>-106167.334661</td>\n",
       "      <td>0.0000</td>\n",
       "      <td>0.084950</td>\n",
       "      <td>0.6037</td>\n",
       "      <td>1.676816</td>\n",
       "      <td>0.749744</td>\n",
       "      <td>China</td>\n",
       "      <td>Huanggang [CHN]</td>\n",
       "      <td>30.466754</td>\n",
       "      <td>114.893979</td>\n",
       "      <td>Asia</td>\n",
       "      <td>Eastern Asia</td>\n",
       "      <td>Eastern Asia</td>\n",
       "      <td>315993.201949</td>\n",
       "      <td>212823.100403</td>\n",
       "    </tr>\n",
       "    <tr>\n",
       "      <td>7888</td>\n",
       "      <td>11809</td>\n",
       "      <td>-39215.385844</td>\n",
       "      <td>0.0458</td>\n",
       "      <td>25750.144352</td>\n",
       "      <td>0.3362</td>\n",
       "      <td>-64965.530196</td>\n",
       "      <td>0.0000</td>\n",
       "      <td>0.134148</td>\n",
       "      <td>0.3362</td>\n",
       "      <td>2.313267</td>\n",
       "      <td>0.750626</td>\n",
       "      <td>China</td>\n",
       "      <td>Caohe [CHN]</td>\n",
       "      <td>30.243488</td>\n",
       "      <td>115.423547</td>\n",
       "      <td>Asia</td>\n",
       "      <td>Eastern Asia</td>\n",
       "      <td>Eastern Asia</td>\n",
       "      <td>191952.955331</td>\n",
       "      <td>125085.617828</td>\n",
       "    </tr>\n",
       "    <tr>\n",
       "      <td>7943</td>\n",
       "      <td>11869</td>\n",
       "      <td>-70772.416855</td>\n",
       "      <td>0.0227</td>\n",
       "      <td>22439.358097</td>\n",
       "      <td>0.6279</td>\n",
       "      <td>-93211.774952</td>\n",
       "      <td>0.0000</td>\n",
       "      <td>0.077158</td>\n",
       "      <td>0.6279</td>\n",
       "      <td>1.634127</td>\n",
       "      <td>0.749685</td>\n",
       "      <td>China</td>\n",
       "      <td>Wuxue [CHN]</td>\n",
       "      <td>29.850464</td>\n",
       "      <td>115.570692</td>\n",
       "      <td>Asia</td>\n",
       "      <td>Eastern Asia</td>\n",
       "      <td>Eastern Asia</td>\n",
       "      <td>290822.967808</td>\n",
       "      <td>208923.691280</td>\n",
       "    </tr>\n",
       "    <tr>\n",
       "      <td>8006</td>\n",
       "      <td>11939</td>\n",
       "      <td>-38504.621568</td>\n",
       "      <td>0.0034</td>\n",
       "      <td>15444.621305</td>\n",
       "      <td>0.4030</td>\n",
       "      <td>-53949.242873</td>\n",
       "      <td>0.0000</td>\n",
       "      <td>0.129412</td>\n",
       "      <td>0.4030</td>\n",
       "      <td>1.802222</td>\n",
       "      <td>0.749918</td>\n",
       "      <td>China</td>\n",
       "      <td>Jiujiang [CHN]</td>\n",
       "      <td>29.758632</td>\n",
       "      <td>115.982292</td>\n",
       "      <td>Asia</td>\n",
       "      <td>Eastern Asia</td>\n",
       "      <td>Eastern Asia</td>\n",
       "      <td>119344.800990</td>\n",
       "      <td>74472.246498</td>\n",
       "    </tr>\n",
       "  </tbody>\n",
       "</table>\n",
       "<p>63 rows × 20 columns</p>\n",
       "</div>"
      ],
      "text/plain": [
       "      ID_HDC_G0    coef_pdays  p_value_pdays     coef_heat  p_value_heat  \\\n",
       "913        1702  -1056.283476         0.0309  -1117.352224        0.0341   \n",
       "1671       2998   -627.328766         0.0459   -621.946687        0.0456   \n",
       "1673       3001   -490.661017         0.0460   -484.601639        0.0456   \n",
       "1676       3006   -452.975953         0.0463   -442.146332        0.0456   \n",
       "1682       3012  -4676.282852         0.0459  -4621.976803        0.0456   \n",
       "...         ...           ...            ...           ...           ...   \n",
       "7694      11597 -29573.948182         0.0477   7994.972629        0.7246   \n",
       "7784      11693 -79323.603526         0.0292  26843.731136        0.6037   \n",
       "7888      11809 -39215.385844         0.0458  25750.144352        0.3362   \n",
       "7943      11869 -70772.416855         0.0227  22439.358097        0.6279   \n",
       "8006      11939 -38504.621568         0.0034  15444.621305        0.4030   \n",
       "\n",
       "           coef_pop  p_value_pop  coef_totDays  p_value_totDays  coef_attrib  \\\n",
       "913       61.068749       0.1958     -0.011917           0.0341    -1.115629   \n",
       "1671      -5.382079       0.1432     -0.008251           0.0456    -0.982841   \n",
       "1673      -6.059378       0.1432     -0.008251           0.0456    -0.975301   \n",
       "1676     -10.829621       0.1432     -0.008251           0.0456    -0.952185   \n",
       "1682     -54.306048       0.1432     -0.008251           0.0456    -0.976774   \n",
       "...             ...          ...           ...              ...          ...   \n",
       "7694  -37568.920811       0.0000      0.063102           0.7246     1.540677   \n",
       "7784 -106167.334661       0.0000      0.084950           0.6037     1.676816   \n",
       "7888  -64965.530196       0.0000      0.134148           0.3362     2.313267   \n",
       "7943  -93211.774952       0.0000      0.077158           0.6279     1.634127   \n",
       "8006  -53949.242873       0.0000      0.129412           0.4030     1.802222   \n",
       "\n",
       "      coef_attrib_norm CTR_MN_NM         UC_NM_MN  GCPNT_LAT   GCPNT_LON  \\\n",
       "913           0.745875     Spain       Jaen [ESP]  37.780479   -3.787381   \n",
       "1671          0.746059    Poland    Legnica [POL]  51.206241   16.176722   \n",
       "1673          0.746070    Poland       Pila [POL]  53.152501   16.747037   \n",
       "1676          0.746102    Poland     Leszno [POL]  51.843782   16.577666   \n",
       "1682          0.746068    Poland     Poznan [POL]  52.400971   16.918282   \n",
       "...                ...       ...              ...        ...         ...   \n",
       "7694          0.749556     China      Yuyue [CHN]  29.974200  113.902127   \n",
       "7784          0.749744     China  Huanggang [CHN]  30.466754  114.893979   \n",
       "7888          0.750626     China      Caohe [CHN]  30.243488  115.423547   \n",
       "7943          0.749685     China      Wuxue [CHN]  29.850464  115.570692   \n",
       "8006          0.749918     China   Jiujiang [CHN]  29.758632  115.982292   \n",
       "\n",
       "      region       sub-region intermediate-region          P1983  \\\n",
       "913   Europe  Southern Europe     Southern Europe   93757.311650   \n",
       "1671  Europe   Eastern Europe      Eastern Europe   75382.241980   \n",
       "1673  Europe   Eastern Europe      Eastern Europe   58735.513480   \n",
       "1676  Europe   Eastern Europe      Eastern Europe   53589.773038   \n",
       "1682  Europe   Eastern Europe      Eastern Europe  560200.707010   \n",
       "...      ...              ...                 ...            ...   \n",
       "7694    Asia     Eastern Asia        Eastern Asia  126699.989970   \n",
       "7784    Asia     Eastern Asia        Eastern Asia  315993.201949   \n",
       "7888    Asia     Eastern Asia        Eastern Asia  191952.955331   \n",
       "7943    Asia     Eastern Asia        Eastern Asia  290822.967808   \n",
       "8006    Asia     Eastern Asia        Eastern Asia  119344.800990   \n",
       "\n",
       "              P2016  \n",
       "913    66540.934692  \n",
       "1671   66979.700439  \n",
       "1673   56832.666321  \n",
       "1676   56598.201181  \n",
       "1682  527670.385445  \n",
       "...             ...  \n",
       "7694   91419.355957  \n",
       "7784  212823.100403  \n",
       "7888  125085.617828  \n",
       "7943  208923.691280  \n",
       "8006   74472.246498  \n",
       "\n",
       "[63 rows x 20 columns]"
      ]
     },
     "execution_count": 19,
     "metadata": {},
     "output_type": "execute_result"
    }
   ],
   "source": [
    "trend[(trend['p_value_pdays'] < 0.05) & (trend['coef_pdays'] < 0)]"
   ]
  },
  {
   "cell_type": "code",
   "execution_count": null,
   "metadata": {},
   "outputs": [],
   "source": [
    "trend[trend.isna().any(axis=1)]"
   ]
  },
  {
   "cell_type": "code",
   "execution_count": null,
   "metadata": {},
   "outputs": [],
   "source": [
    "ids_trend = np.unique(trend['ID_HDC_G0'])"
   ]
  },
  {
   "cell_type": "code",
   "execution_count": null,
   "metadata": {},
   "outputs": [],
   "source": [
    "fn = '/scratch/cascade/UEH-daily/stats/wbgtmax30_EXP.json'"
   ]
  },
  {
   "cell_type": "code",
   "execution_count": null,
   "metadata": {},
   "outputs": [],
   "source": [
    "exp = pd.read_json(fn, orient = 'split')"
   ]
  },
  {
   "cell_type": "code",
   "execution_count": null,
   "metadata": {},
   "outputs": [],
   "source": [
    "ids_exp = np.unique(exp['ID_HDC_G0'])"
   ]
  },
  {
   "cell_type": "code",
   "execution_count": null,
   "metadata": {},
   "outputs": [],
   "source": [
    "len(ids_exp)"
   ]
  },
  {
   "cell_type": "code",
   "execution_count": null,
   "metadata": {},
   "outputs": [],
   "source": [
    "len(ids_trend)"
   ]
  },
  {
   "cell_type": "code",
   "execution_count": null,
   "metadata": {},
   "outputs": [],
   "source": [
    "#missing = list(set(ids_exp) - set(ids_trend))"
   ]
  },
  {
   "cell_type": "code",
   "execution_count": null,
   "metadata": {},
   "outputs": [],
   "source": [
    "test = exp[exp['ID_HDC_G0'] == 8203]\n"
   ]
  },
  {
   "cell_type": "code",
   "execution_count": null,
   "metadata": {},
   "outputs": [],
   "source": [
    "pop = OLS(df = test, geog = 'ID_HDC_G0', col = 'people_days_pop', alpha = 0.05) # get stats \n"
   ]
  },
  {
   "cell_type": "code",
   "execution_count": null,
   "metadata": {
    "scrolled": true
   },
   "outputs": [],
   "source": [
    "pop"
   ]
  },
  {
   "cell_type": "code",
   "execution_count": null,
   "metadata": {},
   "outputs": [],
   "source": [
    "for item in list(zip(trend['ID_HDC_G0'],trend['coef_pop'])):\n",
    "    print(item)"
   ]
  },
  {
   "cell_type": "code",
   "execution_count": null,
   "metadata": {},
   "outputs": [],
   "source": [
    "exp[exp['ID_HDC_G0'] == 733]"
   ]
  },
  {
   "cell_type": "markdown",
   "metadata": {},
   "source": [
    "# WBGT"
   ]
  },
  {
   "cell_type": "code",
   "execution_count": null,
   "metadata": {},
   "outputs": [],
   "source": [
    "# Functions\n",
    "def c_to_f(C):\n",
    "    \"Convert HI C to F\"\n",
    "    return 1.8 * C + 32\n",
    "\n",
    "def F_to_C(Tmax_F):\n",
    "    \"Function converts temp in F to C\"\n",
    "    Tmax_C = (Tmax_F - 32) * (5/9)\n",
    "    \n",
    "    return Tmax_C\n",
    "\n",
    "def hi_to_wbgt(HI):\n",
    "    \"\"\" Convert HI to WBGT using emprical relationship from Bernard and Iheanacho 2015\n",
    "    WBGT [◦C] = −0.0034 HI2 + 0.96 HI−34; for HI [◦F]\n",
    "    Args:\n",
    "        HI = heat index as an array\n",
    "    \"\"\"\n",
    "    \n",
    "    WBGT = -0.0034*HI**2 + 0.96*HI - 34\n",
    "    \n",
    "    return WBGT"
   ]
  },
  {
   "cell_type": "code",
   "execution_count": null,
   "metadata": {},
   "outputs": [],
   "source": [
    "hi_to_wbgt(105)"
   ]
  },
  {
   "cell_type": "code",
   "execution_count": null,
   "metadata": {},
   "outputs": [],
   "source": [
    "c_to_f(29)"
   ]
  }
 ],
 "metadata": {
  "kernelspec": {
   "display_name": "geo",
   "language": "python",
   "name": "geo"
  },
  "language_info": {
   "codemirror_mode": {
    "name": "ipython",
    "version": 3
   },
   "file_extension": ".py",
   "mimetype": "text/x-python",
   "name": "python",
   "nbconvert_exporter": "python",
   "pygments_lexer": "ipython3",
   "version": "3.6.7"
  }
 },
 "nbformat": 4,
 "nbformat_minor": 4
}
