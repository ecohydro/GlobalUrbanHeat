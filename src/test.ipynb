{
 "cells": [
  {
   "cell_type": "code",
   "execution_count": 1,
   "metadata": {},
   "outputs": [],
   "source": [
    "import pandas as pd\n",
    "import os\n",
    "import matplotlib.pyplot as plt\n",
    "import numpy as np\n",
    "import statsmodels.api as sm\n",
    "import warnings"
   ]
  },
  {
   "cell_type": "markdown",
   "metadata": {},
   "source": [
    "# Check event stats"
   ]
  },
  {
   "cell_type": "code",
   "execution_count": null,
   "metadata": {},
   "outputs": [],
   "source": [
    "fn = os.path.join('/scratch/cascade/UEH-daily/stats/wbgtmax30_STATS.json')"
   ]
  },
  {
   "cell_type": "code",
   "execution_count": null,
   "metadata": {},
   "outputs": [],
   "source": [
    "df = pd.read_json(fn, orient = 'split')"
   ]
  },
  {
   "cell_type": "code",
   "execution_count": null,
   "metadata": {},
   "outputs": [],
   "source": [
    "df.head()"
   ]
  },
  {
   "cell_type": "code",
   "execution_count": null,
   "metadata": {},
   "outputs": [],
   "source": [
    "# Dehli 6955, Kolkata 9691"
   ]
  },
  {
   "cell_type": "code",
   "execution_count": null,
   "metadata": {},
   "outputs": [],
   "source": [
    "def mk_data(df, id_):\n",
    "    data = df[df['ID_HDC_G0'] == id_][['year','duration']].groupby('year').sum()\n",
    "    pd.DataFrame(data.reset_index(inplace = True))\n",
    "    \n",
    "    return data"
   ]
  },
  {
   "cell_type": "code",
   "execution_count": null,
   "metadata": {},
   "outputs": [],
   "source": [
    "dehli = mk_data(df, 6955)\n",
    "kolkata = mk_data(df, 9691)"
   ]
  },
  {
   "cell_type": "code",
   "execution_count": null,
   "metadata": {
    "scrolled": true
   },
   "outputs": [],
   "source": [
    "fig = plt.gcf()\n",
    "fig.set_size_inches(10, 10)\n",
    "plt.plot(dehli['year'], dehli['duration'], color = 'cornflowerblue', linewidth = 3)\n",
    "plt.plot(kolkata['year'], kolkata['duration'], color = 'chocolate', linewidth = 3)\n",
    "plt.legend(['Deli','Kolata'], fontsize = 15)\n",
    "plt.xlabel('Year', fontsize = 15)\n",
    "plt.ylabel('days/yr wbgt-max > 30°C', fontsize = 15)"
   ]
  },
  {
   "cell_type": "code",
   "execution_count": null,
   "metadata": {},
   "outputs": [],
   "source": [
    "#### Args\n",
    "DATA = 'wbgt30' # Always update WBGT32_1D, WBGT28_1D, HI406_1D HI406_2D & HI461_1D \n",
    "DATA_PATH = os.path.join('/scratch/cascade/UEH-daily/stats/')\n",
    "FN_POP = os.path.join('/home/cascade/projects/UrbanHeat/data/interim/GHS-UCDB-Interp.csv')\n",
    "FN_STATS = os.path.join(DATA_PATH, DATA+'_STATS.json')\n",
    "FN_OUT = os.path.join(DATA_PATH, DATA+'_EXP.json') "
   ]
  },
  {
   "cell_type": "code",
   "execution_count": null,
   "metadata": {
    "scrolled": true
   },
   "outputs": [],
   "source": [
    "FN_STATS"
   ]
  },
  {
   "cell_type": "code",
   "execution_count": null,
   "metadata": {},
   "outputs": [],
   "source": [
    "FN_STATS = os.path.join('/scratch/cascade/UEH-daily/stats/wbgtmax30_STATS.json')"
   ]
  },
  {
   "cell_type": "code",
   "execution_count": null,
   "metadata": {},
   "outputs": [],
   "source": [
    "stats = pd.read_json(FN_STATS, orient = 'split') # read in stats\n",
    "df_pop = pd.read_csv(FN_POP) # read in interp population from GHS-UCDB"
   ]
  },
  {
   "cell_type": "code",
   "execution_count": null,
   "metadata": {},
   "outputs": [],
   "source": [
    "len(np.unique(stats['ID_HDC_G0']))"
   ]
  },
  {
   "cell_type": "code",
   "execution_count": null,
   "metadata": {},
   "outputs": [],
   "source": [
    "stats"
   ]
  },
  {
   "cell_type": "code",
   "execution_count": null,
   "metadata": {},
   "outputs": [],
   "source": [
    "def tot_days(df):\n",
    "    \"\"\" Calulates the total number of days per year when a heat threshold was met\n",
    "    \"\"\"\n",
    "    df_out = df[['ID_HDC_G0','year','duration']].groupby(['ID_HDC_G0','year']).sum().reset_index()\n",
    "    df_out.rename(columns={'duration':'tot_days'}, inplace=True)\n",
    "    \n",
    "    return df_out"
   ]
  },
  {
   "cell_type": "code",
   "execution_count": null,
   "metadata": {},
   "outputs": [],
   "source": [
    "#### Args\n",
    "DATA = 'wbgtmax30' # Always update WBGT32_1D, WBGT28_1D, HI406_1D HI406_2D & HI461_1D \n",
    "DATA_PATH = os.path.join('/scratch/cascade/UEH-daily/stats/')\n",
    "FN_POP = os.path.join('/home/cascade/projects/UrbanHeat/data/interim/GHS-UCDB-Interp.csv')\n",
    "FN_STATS = os.path.join(DATA_PATH, DATA+'_STATS.json')\n",
    "FN_OUT = os.path.join(DATA_PATH, DATA+'_EXP.json') "
   ]
  },
  {
   "cell_type": "code",
   "execution_count": null,
   "metadata": {},
   "outputs": [],
   "source": [
    "df = pd.read_json(FN_OUT, orient = 'split')"
   ]
  },
  {
   "cell_type": "code",
   "execution_count": null,
   "metadata": {
    "scrolled": true
   },
   "outputs": [],
   "source": [
    "df"
   ]
  },
  {
   "cell_type": "markdown",
   "metadata": {},
   "source": [
    "# Check TREND"
   ]
  },
  {
   "cell_type": "code",
   "execution_count": 8,
   "metadata": {},
   "outputs": [],
   "source": [
    "fn = '/scratch/cascade/UEH-daily/stats/wbgtmax30_TREND_PDAYS05.json'"
   ]
  },
  {
   "cell_type": "code",
   "execution_count": 9,
   "metadata": {},
   "outputs": [
    {
     "data": {
      "text/plain": [
       "6269"
      ]
     },
     "execution_count": 9,
     "metadata": {},
     "output_type": "execute_result"
    }
   ],
   "source": [
    "trend = pd.read_json(fn, orient = 'split')\n",
    "len(trend)"
   ]
  },
  {
   "cell_type": "code",
   "execution_count": 10,
   "metadata": {
    "scrolled": true
   },
   "outputs": [
    {
     "data": {
      "text/html": [
       "<div>\n",
       "<style scoped>\n",
       "    .dataframe tbody tr th:only-of-type {\n",
       "        vertical-align: middle;\n",
       "    }\n",
       "\n",
       "    .dataframe tbody tr th {\n",
       "        vertical-align: top;\n",
       "    }\n",
       "\n",
       "    .dataframe thead th {\n",
       "        text-align: right;\n",
       "    }\n",
       "</style>\n",
       "<table border=\"1\" class=\"dataframe\">\n",
       "  <thead>\n",
       "    <tr style=\"text-align: right;\">\n",
       "      <th></th>\n",
       "      <th>ID_HDC_G0</th>\n",
       "      <th>coef_pdays</th>\n",
       "      <th>p_value_pdays</th>\n",
       "      <th>coef_heat</th>\n",
       "      <th>p_value_heat</th>\n",
       "      <th>coef_pop</th>\n",
       "      <th>p_value_pop</th>\n",
       "      <th>coef_totDays</th>\n",
       "      <th>p_value_totDays</th>\n",
       "      <th>coef_attrib</th>\n",
       "      <th>CTR_MN_NM</th>\n",
       "      <th>UC_NM_MN</th>\n",
       "      <th>GCPNT_LAT</th>\n",
       "      <th>GCPNT_LON</th>\n",
       "      <th>region</th>\n",
       "      <th>sub-region</th>\n",
       "      <th>intermediate-region</th>\n",
       "      <th>P1983</th>\n",
       "      <th>P2016</th>\n",
       "      <th>coef_attrib_norm</th>\n",
       "    </tr>\n",
       "  </thead>\n",
       "  <tbody>\n",
       "    <tr>\n",
       "      <td>22</td>\n",
       "      <td>52</td>\n",
       "      <td>101604.735492</td>\n",
       "      <td>0.0007</td>\n",
       "      <td>28022.279616</td>\n",
       "      <td>0.0764</td>\n",
       "      <td>73582.455875</td>\n",
       "      <td>0.0</td>\n",
       "      <td>0.280825</td>\n",
       "      <td>0.0764</td>\n",
       "      <td>0.448406</td>\n",
       "      <td>Mexico</td>\n",
       "      <td>La Paz [MEX]</td>\n",
       "      <td>24.117658</td>\n",
       "      <td>-110.310119</td>\n",
       "      <td>Americas</td>\n",
       "      <td>Latin America and the Caribbean</td>\n",
       "      <td>Central America</td>\n",
       "      <td>99785.538677</td>\n",
       "      <td>249632.317993</td>\n",
       "      <td>0.780879</td>\n",
       "    </tr>\n",
       "    <tr>\n",
       "      <td>26</td>\n",
       "      <td>57</td>\n",
       "      <td>531741.922626</td>\n",
       "      <td>0.0002</td>\n",
       "      <td>-36648.428326</td>\n",
       "      <td>0.6062</td>\n",
       "      <td>568390.350952</td>\n",
       "      <td>0.0</td>\n",
       "      <td>-0.084798</td>\n",
       "      <td>0.6062</td>\n",
       "      <td>1.137843</td>\n",
       "      <td>Mexico</td>\n",
       "      <td>Mexicali [MEX]; Calexico [USA]</td>\n",
       "      <td>32.625439</td>\n",
       "      <td>-115.447658</td>\n",
       "      <td>Americas</td>\n",
       "      <td>Latin America and the Caribbean</td>\n",
       "      <td>Central America</td>\n",
       "      <td>432187.321425</td>\n",
       "      <td>805239.718513</td>\n",
       "      <td>0.876066</td>\n",
       "    </tr>\n",
       "  </tbody>\n",
       "</table>\n",
       "</div>"
      ],
      "text/plain": [
       "    ID_HDC_G0     coef_pdays  p_value_pdays     coef_heat  p_value_heat  \\\n",
       "22         52  101604.735492         0.0007  28022.279616        0.0764   \n",
       "26         57  531741.922626         0.0002 -36648.428326        0.6062   \n",
       "\n",
       "         coef_pop  p_value_pop  coef_totDays  p_value_totDays  coef_attrib  \\\n",
       "22   73582.455875          0.0      0.280825           0.0764     0.448406   \n",
       "26  568390.350952          0.0     -0.084798           0.6062     1.137843   \n",
       "\n",
       "   CTR_MN_NM                        UC_NM_MN  GCPNT_LAT   GCPNT_LON    region  \\\n",
       "22    Mexico                    La Paz [MEX]  24.117658 -110.310119  Americas   \n",
       "26    Mexico  Mexicali [MEX]; Calexico [USA]  32.625439 -115.447658  Americas   \n",
       "\n",
       "                         sub-region intermediate-region          P1983  \\\n",
       "22  Latin America and the Caribbean     Central America   99785.538677   \n",
       "26  Latin America and the Caribbean     Central America  432187.321425   \n",
       "\n",
       "            P2016  coef_attrib_norm  \n",
       "22  249632.317993          0.780879  \n",
       "26  805239.718513          0.876066  "
      ]
     },
     "execution_count": 10,
     "metadata": {},
     "output_type": "execute_result"
    }
   ],
   "source": [
    "trend.head(2)"
   ]
  },
  {
   "cell_type": "code",
   "execution_count": 11,
   "metadata": {},
   "outputs": [
    {
     "data": {
      "text/plain": [
       "-5.207463696"
      ]
     },
     "execution_count": 11,
     "metadata": {},
     "output_type": "execute_result"
    }
   ],
   "source": [
    "min(trend['coef_attrib'])"
   ]
  },
  {
   "cell_type": "code",
   "execution_count": null,
   "metadata": {
    "scrolled": true
   },
   "outputs": [],
   "source": [
    "norm = trend['coef_attrib']\n",
    "plt.hist((norm-min(norm))/(max(norm)-min(norm)));"
   ]
  },
  {
   "cell_type": "code",
   "execution_count": null,
   "metadata": {},
   "outputs": [],
   "source": [
    "plt.hist(trend['coef_attrib_norm']);"
   ]
  },
  {
   "cell_type": "markdown",
   "metadata": {},
   "source": [
    "## coef attrib is not working, check it"
   ]
  },
  {
   "cell_type": "code",
   "execution_count": 12,
   "metadata": {},
   "outputs": [
    {
     "data": {
      "image/png": "[encoded data removed]",
      "text/plain": [
       "<Figure size 288x288 with 1 Axes>"
      ]
     },
     "metadata": {
      "needs_background": "light"
     },
     "output_type": "display_data"
    }
   ],
   "source": [
    "data = trend['coef_attrib_norm'].values\n",
    "fig = plt.gcf()\n",
    "fig.set_size_inches(4, 4)\n",
    "\n",
    "plt.hist(data);"
   ]
  },
  {
   "cell_type": "code",
   "execution_count": null,
   "metadata": {},
   "outputs": [],
   "source": [
    "test = trend#.iloc[:1000,:]"
   ]
  },
  {
   "cell_type": "code",
   "execution_count": null,
   "metadata": {},
   "outputs": [],
   "source": [
    "coef_attrib = (trend['coef_pop'] - trend['coef_heat']) / (trend['coef_pop'] + trend['coef_heat'])"
   ]
  },
  {
   "cell_type": "code",
   "execution_count": null,
   "metadata": {},
   "outputs": [],
   "source": [
    "fig = plt.gcf()\n",
    "fig.set_size_inches(4, 4)\n",
    "\n",
    "plt.hist(coef_attrib);\n",
    "plt.xlim([-5,5])"
   ]
  },
  {
   "cell_type": "code",
   "execution_count": null,
   "metadata": {},
   "outputs": [],
   "source": [
    "plt.hist(trend['coef_attrib'])\n",
    "plt.xlim([-5,5])"
   ]
  },
  {
   "cell_type": "code",
   "execution_count": null,
   "metadata": {},
   "outputs": [],
   "source": [
    "df = pd.DataFrame()\n",
    "df['coef_attrib'] = coef_attrib\n",
    "norm = df['coef_attrib']\n",
    "df['coef_attrib_norm'] = (norm-min(norm))/(max(norm)-min(norm))"
   ]
  },
  {
   "cell_type": "code",
   "execution_count": null,
   "metadata": {},
   "outputs": [],
   "source": [
    "df"
   ]
  },
  {
   "cell_type": "code",
   "execution_count": null,
   "metadata": {},
   "outputs": [],
   "source": [
    "fig = plt.gcf()\n",
    "fig.set_size_inches(4, 4)\n",
    "\n",
    "plt.hist(df['coef_attrib_norm']);"
   ]
  },
  {
   "cell_type": "code",
   "execution_count": null,
   "metadata": {},
   "outputs": [],
   "source": [
    "df['norm_old'] = trend['coef_attrib_norm']\n",
    "df['coef_attrib_old'] = trend['coef_attrib']"
   ]
  },
  {
   "cell_type": "code",
   "execution_count": null,
   "metadata": {},
   "outputs": [],
   "source": [
    "df.head()"
   ]
  },
  {
   "cell_type": "code",
   "execution_count": null,
   "metadata": {
    "scrolled": true
   },
   "outputs": [],
   "source": [
    "min(df['coef_attrib'])"
   ]
  },
  {
   "cell_type": "code",
   "execution_count": null,
   "metadata": {},
   "outputs": [],
   "source": [
    "test = trend"
   ]
  },
  {
   "cell_type": "code",
   "execution_count": null,
   "metadata": {},
   "outputs": [],
   "source": [
    "# attrib coef --- creates range index of heat vs. population as a driver of total pdays increase\n",
    "out = pd.DataFrame()\n",
    "out['coef_attrib'] = (test['coef_pop'] - test['coef_heat']) / (test['coef_pop'] + test['coef_heat'])  \n",
    "\n",
    "# normalize coef of attribution 0 to 1\n",
    "norm = test['coef_attrib']\n",
    "out['coef_attrib_norm'] = (norm-min(norm))/(max(norm)-min(norm))"
   ]
  },
  {
   "cell_type": "code",
   "execution_count": null,
   "metadata": {},
   "outputs": [],
   "source": [
    "out"
   ]
  },
  {
   "cell_type": "code",
   "execution_count": null,
   "metadata": {},
   "outputs": [],
   "source": [
    "plt.hist(out['coef_attrib_norm'])"
   ]
  },
  {
   "cell_type": "markdown",
   "metadata": {},
   "source": [
    "# WBGT"
   ]
  },
  {
   "cell_type": "code",
   "execution_count": null,
   "metadata": {},
   "outputs": [],
   "source": [
    "# Functions\n",
    "def c_to_f(C):\n",
    "    \"Convert HI C to F\"\n",
    "    return 1.8 * C + 32\n",
    "\n",
    "def F_to_C(Tmax_F):\n",
    "    \"Function converts temp in F to C\"\n",
    "    Tmax_C = (Tmax_F - 32) * (5/9)\n",
    "    \n",
    "    return Tmax_C\n",
    "\n",
    "def hi_to_wbgt(HI):\n",
    "    \"\"\" Convert HI to WBGT using emprical relationship from Bernard and Iheanacho 2015\n",
    "    WBGT [◦C] = −0.0034 HI2 + 0.96 HI−34; for HI [◦F]\n",
    "    Args:\n",
    "        HI = heat index as an array\n",
    "    \"\"\"\n",
    "    \n",
    "    WBGT = -0.0034*HI**2 + 0.96*HI - 34\n",
    "    \n",
    "    return WBGT"
   ]
  },
  {
   "cell_type": "code",
   "execution_count": null,
   "metadata": {},
   "outputs": [],
   "source": [
    "hi_to_wbgt(105)"
   ]
  },
  {
   "cell_type": "code",
   "execution_count": null,
   "metadata": {},
   "outputs": [],
   "source": [
    "c_to_f(29)"
   ]
  }
 ],
 "metadata": {
  "kernelspec": {
   "display_name": "geo",
   "language": "python",
   "name": "geo"
  },
  "language_info": {
   "codemirror_mode": {
    "name": "ipython",
    "version": 3
   },
   "file_extension": ".py",
   "mimetype": "text/x-python",
   "name": "python",
   "nbconvert_exporter": "python",
   "pygments_lexer": "ipython3",
   "version": "3.6.7"
  }
 },
 "nbformat": 4,
 "nbformat_minor": 4
}
