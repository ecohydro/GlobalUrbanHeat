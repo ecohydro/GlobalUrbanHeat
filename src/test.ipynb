{
 "cells": [
  {
   "cell_type": "code",
   "execution_count": 3,
   "metadata": {},
   "outputs": [],
   "source": [
    "import pandas as pd\n",
    "import os\n",
    "import matplotlib.pyplot as plt\n",
    "import numpy as np\n",
    "import statsmodels.api as sm\n",
    "import warnings"
   ]
  },
  {
   "cell_type": "markdown",
   "metadata": {},
   "source": [
    "# Check event stats"
   ]
  },
  {
   "cell_type": "code",
   "execution_count": 27,
   "metadata": {},
   "outputs": [],
   "source": [
    "fn = os.path.join('/scratch/cascade/UEH-daily/stats/wbgtmax30_STATS.json')"
   ]
  },
  {
   "cell_type": "code",
   "execution_count": 28,
   "metadata": {},
   "outputs": [],
   "source": [
    "stats = pd.read_json(fn, orient = 'split')"
   ]
  },
  {
   "cell_type": "code",
   "execution_count": null,
   "metadata": {},
   "outputs": [],
   "source": [
    "df.head()"
   ]
  },
  {
   "cell_type": "code",
   "execution_count": null,
   "metadata": {},
   "outputs": [],
   "source": [
    "# Dehli 6955, Kolkata 9691"
   ]
  },
  {
   "cell_type": "code",
   "execution_count": null,
   "metadata": {},
   "outputs": [],
   "source": [
    "def mk_data(df, id_):\n",
    "    data = df[df['ID_HDC_G0'] == id_][['year','duration']].groupby('year').sum()\n",
    "    pd.DataFrame(data.reset_index(inplace = True))\n",
    "    \n",
    "    return data"
   ]
  },
  {
   "cell_type": "code",
   "execution_count": null,
   "metadata": {},
   "outputs": [],
   "source": [
    "dehli = mk_data(df, 6955)\n",
    "kolkata = mk_data(df, 9691)"
   ]
  },
  {
   "cell_type": "code",
   "execution_count": null,
   "metadata": {
    "scrolled": true
   },
   "outputs": [],
   "source": [
    "fig = plt.gcf()\n",
    "fig.set_size_inches(10, 10)\n",
    "plt.plot(dehli['year'], dehli['duration'], color = 'cornflowerblue', linewidth = 3)\n",
    "plt.plot(kolkata['year'], kolkata['duration'], color = 'chocolate', linewidth = 3)\n",
    "plt.legend(['Deli','Kolata'], fontsize = 15)\n",
    "plt.xlabel('Year', fontsize = 15)\n",
    "plt.ylabel('days/yr wbgt-max > 30°C', fontsize = 15)"
   ]
  },
  {
   "cell_type": "code",
   "execution_count": null,
   "metadata": {},
   "outputs": [],
   "source": [
    "#### Args\n",
    "DATA = 'wbgt30' # Always update WBGT32_1D, WBGT28_1D, HI406_1D HI406_2D & HI461_1D \n",
    "DATA_PATH = os.path.join('/scratch/cascade/UEH-daily/stats/')\n",
    "FN_POP = os.path.join('/home/cascade/projects/UrbanHeat/data/interim/GHS-UCDB-Interp.csv')\n",
    "FN_STATS = os.path.join(DATA_PATH, DATA+'_STATS.json')\n",
    "FN_OUT = os.path.join(DATA_PATH, DATA+'_EXP.json') "
   ]
  },
  {
   "cell_type": "code",
   "execution_count": null,
   "metadata": {
    "scrolled": true
   },
   "outputs": [],
   "source": [
    "FN_STATS"
   ]
  },
  {
   "cell_type": "code",
   "execution_count": null,
   "metadata": {},
   "outputs": [],
   "source": [
    "FN_STATS = os.path.join('/scratch/cascade/UEH-daily/stats/wbgtmax30_STATS.json')"
   ]
  },
  {
   "cell_type": "code",
   "execution_count": null,
   "metadata": {},
   "outputs": [],
   "source": [
    "stats = pd.read_json(FN_STATS, orient = 'split') # read in stats\n",
    "df_pop = pd.read_csv(FN_POP) # read in interp population from GHS-UCDB"
   ]
  },
  {
   "cell_type": "code",
   "execution_count": null,
   "metadata": {},
   "outputs": [],
   "source": [
    "len(np.unique(stats['ID_HDC_G0']))"
   ]
  },
  {
   "cell_type": "code",
   "execution_count": null,
   "metadata": {},
   "outputs": [],
   "source": [
    "stats"
   ]
  },
  {
   "cell_type": "code",
   "execution_count": null,
   "metadata": {},
   "outputs": [],
   "source": [
    "def tot_days(df):\n",
    "    \"\"\" Calulates the total number of days per year when a heat threshold was met\n",
    "    \"\"\"\n",
    "    df_out = df[['ID_HDC_G0','year','duration']].groupby(['ID_HDC_G0','year']).sum().reset_index()\n",
    "    df_out.rename(columns={'duration':'tot_days'}, inplace=True)\n",
    "    \n",
    "    return df_out"
   ]
  },
  {
   "cell_type": "code",
   "execution_count": null,
   "metadata": {},
   "outputs": [],
   "source": [
    "#### Args\n",
    "DATA = 'wbgtmax30' # Always update WBGT32_1D, WBGT28_1D, HI406_1D HI406_2D & HI461_1D \n",
    "DATA_PATH = os.path.join('/scratch/cascade/UEH-daily/stats/')\n",
    "FN_POP = os.path.join('/home/cascade/projects/UrbanHeat/data/interim/GHS-UCDB-Interp.csv')\n",
    "FN_STATS = os.path.join(DATA_PATH, DATA+'_STATS.json')\n",
    "FN_OUT = os.path.join(DATA_PATH, DATA+'_EXP.json') "
   ]
  },
  {
   "cell_type": "code",
   "execution_count": null,
   "metadata": {},
   "outputs": [],
   "source": [
    "df = pd.read_json(FN_OUT, orient = 'split')"
   ]
  },
  {
   "cell_type": "code",
   "execution_count": null,
   "metadata": {
    "scrolled": true
   },
   "outputs": [],
   "source": [
    "df"
   ]
  },
  {
   "cell_type": "markdown",
   "metadata": {},
   "source": [
    "# Check TREND"
   ]
  },
  {
   "cell_type": "code",
   "execution_count": 4,
   "metadata": {},
   "outputs": [],
   "source": [
    "fn = '/scratch/cascade/UEH-daily/stats/wbgtmax30_TREND_PDAYS05.json'"
   ]
  },
  {
   "cell_type": "code",
   "execution_count": 6,
   "metadata": {},
   "outputs": [
    {
     "data": {
      "text/plain": [
       "6269"
      ]
     },
     "execution_count": 6,
     "metadata": {},
     "output_type": "execute_result"
    }
   ],
   "source": [
    "trend = pd.read_json(fn, orient = 'split')\n",
    "len(trend)"
   ]
  },
  {
   "cell_type": "code",
   "execution_count": 7,
   "metadata": {
    "scrolled": true
   },
   "outputs": [
    {
     "data": {
      "text/html": [
       "<div>\n",
       "<style scoped>\n",
       "    .dataframe tbody tr th:only-of-type {\n",
       "        vertical-align: middle;\n",
       "    }\n",
       "\n",
       "    .dataframe tbody tr th {\n",
       "        vertical-align: top;\n",
       "    }\n",
       "\n",
       "    .dataframe thead th {\n",
       "        text-align: right;\n",
       "    }\n",
       "</style>\n",
       "<table border=\"1\" class=\"dataframe\">\n",
       "  <thead>\n",
       "    <tr style=\"text-align: right;\">\n",
       "      <th></th>\n",
       "      <th>ID_HDC_G0</th>\n",
       "      <th>coef_pdays</th>\n",
       "      <th>p_value_pdays</th>\n",
       "      <th>coef_heat</th>\n",
       "      <th>p_value_heat</th>\n",
       "      <th>coef_pop</th>\n",
       "      <th>p_value_pop</th>\n",
       "      <th>coef_totDays</th>\n",
       "      <th>p_value_totDays</th>\n",
       "      <th>coef_attrib</th>\n",
       "      <th>coef_attrib_norm</th>\n",
       "      <th>CTR_MN_NM</th>\n",
       "      <th>UC_NM_MN</th>\n",
       "      <th>GCPNT_LAT</th>\n",
       "      <th>GCPNT_LON</th>\n",
       "      <th>region</th>\n",
       "      <th>sub-region</th>\n",
       "      <th>intermediate-region</th>\n",
       "      <th>P1983</th>\n",
       "      <th>P2016</th>\n",
       "    </tr>\n",
       "  </thead>\n",
       "  <tbody>\n",
       "    <tr>\n",
       "      <td>22</td>\n",
       "      <td>52</td>\n",
       "      <td>101604.735492</td>\n",
       "      <td>0.0007</td>\n",
       "      <td>28022.279616</td>\n",
       "      <td>0.0764</td>\n",
       "      <td>73582.455875</td>\n",
       "      <td>0.0</td>\n",
       "      <td>0.280825</td>\n",
       "      <td>0.0764</td>\n",
       "      <td>0.448406</td>\n",
       "      <td>0.780879</td>\n",
       "      <td>Mexico</td>\n",
       "      <td>La Paz [MEX]</td>\n",
       "      <td>24.117658</td>\n",
       "      <td>-110.310119</td>\n",
       "      <td>Americas</td>\n",
       "      <td>Latin America and the Caribbean</td>\n",
       "      <td>Central America</td>\n",
       "      <td>99785.538677</td>\n",
       "      <td>249632.317993</td>\n",
       "    </tr>\n",
       "    <tr>\n",
       "      <td>26</td>\n",
       "      <td>57</td>\n",
       "      <td>531741.922626</td>\n",
       "      <td>0.0002</td>\n",
       "      <td>-36648.428326</td>\n",
       "      <td>0.6062</td>\n",
       "      <td>568390.350952</td>\n",
       "      <td>0.0</td>\n",
       "      <td>-0.084798</td>\n",
       "      <td>0.6062</td>\n",
       "      <td>1.137843</td>\n",
       "      <td>0.876066</td>\n",
       "      <td>Mexico</td>\n",
       "      <td>Mexicali [MEX]; Calexico [USA]</td>\n",
       "      <td>32.625439</td>\n",
       "      <td>-115.447658</td>\n",
       "      <td>Americas</td>\n",
       "      <td>Latin America and the Caribbean</td>\n",
       "      <td>Central America</td>\n",
       "      <td>432187.321425</td>\n",
       "      <td>805239.718513</td>\n",
       "    </tr>\n",
       "  </tbody>\n",
       "</table>\n",
       "</div>"
      ],
      "text/plain": [
       "    ID_HDC_G0     coef_pdays  p_value_pdays     coef_heat  p_value_heat  \\\n",
       "22         52  101604.735492         0.0007  28022.279616        0.0764   \n",
       "26         57  531741.922626         0.0002 -36648.428326        0.6062   \n",
       "\n",
       "         coef_pop  p_value_pop  coef_totDays  p_value_totDays  coef_attrib  \\\n",
       "22   73582.455875          0.0      0.280825           0.0764     0.448406   \n",
       "26  568390.350952          0.0     -0.084798           0.6062     1.137843   \n",
       "\n",
       "    coef_attrib_norm CTR_MN_NM                        UC_NM_MN  GCPNT_LAT  \\\n",
       "22          0.780879    Mexico                    La Paz [MEX]  24.117658   \n",
       "26          0.876066    Mexico  Mexicali [MEX]; Calexico [USA]  32.625439   \n",
       "\n",
       "     GCPNT_LON    region                       sub-region intermediate-region  \\\n",
       "22 -110.310119  Americas  Latin America and the Caribbean     Central America   \n",
       "26 -115.447658  Americas  Latin America and the Caribbean     Central America   \n",
       "\n",
       "            P1983          P2016  \n",
       "22   99785.538677  249632.317993  \n",
       "26  432187.321425  805239.718513  "
      ]
     },
     "execution_count": 7,
     "metadata": {},
     "output_type": "execute_result"
    }
   ],
   "source": [
    "trend.head(2)"
   ]
  },
  {
   "cell_type": "code",
   "execution_count": 9,
   "metadata": {},
   "outputs": [
    {
     "data": {
      "image/png": "[encoded data removed]",
      "text/plain": [
       "<Figure size 432x288 with 1 Axes>"
      ]
     },
     "metadata": {
      "needs_background": "light"
     },
     "output_type": "display_data"
    }
   ],
   "source": [
    "plt.hist(trend['coef_attrib']);"
   ]
  },
  {
   "cell_type": "code",
   "execution_count": 11,
   "metadata": {},
   "outputs": [
    {
     "data": {
      "text/plain": [
       "(array([2.000e+00, 1.000e+00, 5.000e+00, 1.500e+01, 5.300e+01, 1.680e+02,\n",
       "        9.510e+02, 3.851e+03, 1.188e+03, 3.500e+01]),\n",
       " array([0. , 0.1, 0.2, 0.3, 0.4, 0.5, 0.6, 0.7, 0.8, 0.9, 1. ]),\n",
       " <a list of 10 Patch objects>)"
      ]
     },
     "execution_count": 11,
     "metadata": {},
     "output_type": "execute_result"
    },
    {
     "data": {
      "image/png": "[encoded data removed]",
      "text/plain": [
       "<Figure size 432x288 with 1 Axes>"
      ]
     },
     "metadata": {
      "needs_background": "light"
     },
     "output_type": "display_data"
    }
   ],
   "source": [
    "plt.hist(trend['coef_attrib_norm'])"
   ]
  },
  {
   "cell_type": "code",
   "execution_count": 58,
   "metadata": {},
   "outputs": [],
   "source": [
    "df = trend[['ID_HDC_G0', 'coef_pdays', 'coef_pop', 'coef_heat']].copy()\n",
    "df['pct-pop'] = trend['coef_pop'] / trend['coef_pdays']\n",
    "df['pct-heat'] = trend['coef_heat'] / trend['coef_pdays']"
   ]
  },
  {
   "cell_type": "code",
   "execution_count": 61,
   "metadata": {},
   "outputs": [
    {
     "data": {
      "text/html": [
       "<div>\n",
       "<style scoped>\n",
       "    .dataframe tbody tr th:only-of-type {\n",
       "        vertical-align: middle;\n",
       "    }\n",
       "\n",
       "    .dataframe tbody tr th {\n",
       "        vertical-align: top;\n",
       "    }\n",
       "\n",
       "    .dataframe thead th {\n",
       "        text-align: right;\n",
       "    }\n",
       "</style>\n",
       "<table border=\"1\" class=\"dataframe\">\n",
       "  <thead>\n",
       "    <tr style=\"text-align: right;\">\n",
       "      <th></th>\n",
       "      <th>ID_HDC_G0</th>\n",
       "      <th>coef_pdays</th>\n",
       "      <th>coef_pop</th>\n",
       "      <th>coef_heat</th>\n",
       "      <th>pct-pop</th>\n",
       "      <th>pct-heat</th>\n",
       "    </tr>\n",
       "  </thead>\n",
       "  <tbody>\n",
       "    <tr>\n",
       "      <td>213</td>\n",
       "      <td>473</td>\n",
       "      <td>74030.666354</td>\n",
       "      <td>-1082.839874</td>\n",
       "      <td>75113.506228</td>\n",
       "      <td>-0.014627</td>\n",
       "      <td>1.014627</td>\n",
       "    </tr>\n",
       "    <tr>\n",
       "      <td>747</td>\n",
       "      <td>1470</td>\n",
       "      <td>83118.592288</td>\n",
       "      <td>-33902.715070</td>\n",
       "      <td>117021.307358</td>\n",
       "      <td>-0.407884</td>\n",
       "      <td>1.407884</td>\n",
       "    </tr>\n",
       "    <tr>\n",
       "      <td>790</td>\n",
       "      <td>1524</td>\n",
       "      <td>16138.986926</td>\n",
       "      <td>-2782.615273</td>\n",
       "      <td>18921.602199</td>\n",
       "      <td>-0.172416</td>\n",
       "      <td>1.172416</td>\n",
       "    </tr>\n",
       "    <tr>\n",
       "      <td>1029</td>\n",
       "      <td>1957</td>\n",
       "      <td>57701.795178</td>\n",
       "      <td>-3569.390252</td>\n",
       "      <td>61271.185430</td>\n",
       "      <td>-0.061859</td>\n",
       "      <td>1.061859</td>\n",
       "    </tr>\n",
       "    <tr>\n",
       "      <td>1618</td>\n",
       "      <td>2884</td>\n",
       "      <td>72436.453349</td>\n",
       "      <td>-2366.280178</td>\n",
       "      <td>74802.733527</td>\n",
       "      <td>-0.032667</td>\n",
       "      <td>1.032667</td>\n",
       "    </tr>\n",
       "    <tr>\n",
       "      <td>...</td>\n",
       "      <td>...</td>\n",
       "      <td>...</td>\n",
       "      <td>...</td>\n",
       "      <td>...</td>\n",
       "      <td>...</td>\n",
       "      <td>...</td>\n",
       "    </tr>\n",
       "    <tr>\n",
       "      <td>8646</td>\n",
       "      <td>12705</td>\n",
       "      <td>109308.233066</td>\n",
       "      <td>-15924.630508</td>\n",
       "      <td>125232.863574</td>\n",
       "      <td>-0.145686</td>\n",
       "      <td>1.145686</td>\n",
       "    </tr>\n",
       "    <tr>\n",
       "      <td>8652</td>\n",
       "      <td>12714</td>\n",
       "      <td>41453.918924</td>\n",
       "      <td>-7260.710170</td>\n",
       "      <td>48714.629094</td>\n",
       "      <td>-0.175151</td>\n",
       "      <td>1.175151</td>\n",
       "    </tr>\n",
       "    <tr>\n",
       "      <td>8658</td>\n",
       "      <td>12722</td>\n",
       "      <td>43297.456746</td>\n",
       "      <td>-1304.413264</td>\n",
       "      <td>44601.870010</td>\n",
       "      <td>-0.030127</td>\n",
       "      <td>1.030127</td>\n",
       "    </tr>\n",
       "    <tr>\n",
       "      <td>8676</td>\n",
       "      <td>12750</td>\n",
       "      <td>13307.875080</td>\n",
       "      <td>-5326.062165</td>\n",
       "      <td>18633.937245</td>\n",
       "      <td>-0.400219</td>\n",
       "      <td>1.400219</td>\n",
       "    </tr>\n",
       "    <tr>\n",
       "      <td>8788</td>\n",
       "      <td>12886</td>\n",
       "      <td>6848.420958</td>\n",
       "      <td>-660.022735</td>\n",
       "      <td>7508.443693</td>\n",
       "      <td>-0.096376</td>\n",
       "      <td>1.096376</td>\n",
       "    </tr>\n",
       "  </tbody>\n",
       "</table>\n",
       "<p>192 rows × 6 columns</p>\n",
       "</div>"
      ],
      "text/plain": [
       "      ID_HDC_G0     coef_pdays      coef_pop      coef_heat   pct-pop  \\\n",
       "213         473   74030.666354  -1082.839874   75113.506228 -0.014627   \n",
       "747        1470   83118.592288 -33902.715070  117021.307358 -0.407884   \n",
       "790        1524   16138.986926  -2782.615273   18921.602199 -0.172416   \n",
       "1029       1957   57701.795178  -3569.390252   61271.185430 -0.061859   \n",
       "1618       2884   72436.453349  -2366.280178   74802.733527 -0.032667   \n",
       "...         ...            ...           ...            ...       ...   \n",
       "8646      12705  109308.233066 -15924.630508  125232.863574 -0.145686   \n",
       "8652      12714   41453.918924  -7260.710170   48714.629094 -0.175151   \n",
       "8658      12722   43297.456746  -1304.413264   44601.870010 -0.030127   \n",
       "8676      12750   13307.875080  -5326.062165   18633.937245 -0.400219   \n",
       "8788      12886    6848.420958   -660.022735    7508.443693 -0.096376   \n",
       "\n",
       "      pct-heat  \n",
       "213   1.014627  \n",
       "747   1.407884  \n",
       "790   1.172416  \n",
       "1029  1.061859  \n",
       "1618  1.032667  \n",
       "...        ...  \n",
       "8646  1.145686  \n",
       "8652  1.175151  \n",
       "8658  1.030127  \n",
       "8676  1.400219  \n",
       "8788  1.096376  \n",
       "\n",
       "[192 rows x 6 columns]"
      ]
     },
     "execution_count": 61,
     "metadata": {},
     "output_type": "execute_result"
    }
   ],
   "source": [
    "df[df['pct-pop'] < 0]"
   ]
  },
  {
   "cell_type": "code",
   "execution_count": 60,
   "metadata": {},
   "outputs": [
    {
     "data": {
      "text/html": [
       "<div>\n",
       "<style scoped>\n",
       "    .dataframe tbody tr th:only-of-type {\n",
       "        vertical-align: middle;\n",
       "    }\n",
       "\n",
       "    .dataframe tbody tr th {\n",
       "        vertical-align: top;\n",
       "    }\n",
       "\n",
       "    .dataframe thead th {\n",
       "        text-align: right;\n",
       "    }\n",
       "</style>\n",
       "<table border=\"1\" class=\"dataframe\">\n",
       "  <thead>\n",
       "    <tr style=\"text-align: right;\">\n",
       "      <th></th>\n",
       "      <th>ID_HDC_G0</th>\n",
       "      <th>coef_pdays</th>\n",
       "      <th>coef_pop</th>\n",
       "      <th>coef_heat</th>\n",
       "      <th>pct-pop</th>\n",
       "      <th>pct-heat</th>\n",
       "    </tr>\n",
       "  </thead>\n",
       "  <tbody>\n",
       "    <tr>\n",
       "      <td>213</td>\n",
       "      <td>473</td>\n",
       "      <td>74030.666354</td>\n",
       "      <td>-1082.839874</td>\n",
       "      <td>75113.506228</td>\n",
       "      <td>-0.014627</td>\n",
       "      <td>1.014627</td>\n",
       "    </tr>\n",
       "    <tr>\n",
       "      <td>747</td>\n",
       "      <td>1470</td>\n",
       "      <td>83118.592288</td>\n",
       "      <td>-33902.715070</td>\n",
       "      <td>117021.307358</td>\n",
       "      <td>-0.407884</td>\n",
       "      <td>1.407884</td>\n",
       "    </tr>\n",
       "    <tr>\n",
       "      <td>790</td>\n",
       "      <td>1524</td>\n",
       "      <td>16138.986926</td>\n",
       "      <td>-2782.615273</td>\n",
       "      <td>18921.602199</td>\n",
       "      <td>-0.172416</td>\n",
       "      <td>1.172416</td>\n",
       "    </tr>\n",
       "    <tr>\n",
       "      <td>1029</td>\n",
       "      <td>1957</td>\n",
       "      <td>57701.795178</td>\n",
       "      <td>-3569.390252</td>\n",
       "      <td>61271.185430</td>\n",
       "      <td>-0.061859</td>\n",
       "      <td>1.061859</td>\n",
       "    </tr>\n",
       "    <tr>\n",
       "      <td>1618</td>\n",
       "      <td>2884</td>\n",
       "      <td>72436.453349</td>\n",
       "      <td>-2366.280178</td>\n",
       "      <td>74802.733527</td>\n",
       "      <td>-0.032667</td>\n",
       "      <td>1.032667</td>\n",
       "    </tr>\n",
       "    <tr>\n",
       "      <td>...</td>\n",
       "      <td>...</td>\n",
       "      <td>...</td>\n",
       "      <td>...</td>\n",
       "      <td>...</td>\n",
       "      <td>...</td>\n",
       "      <td>...</td>\n",
       "    </tr>\n",
       "    <tr>\n",
       "      <td>8646</td>\n",
       "      <td>12705</td>\n",
       "      <td>109308.233066</td>\n",
       "      <td>-15924.630508</td>\n",
       "      <td>125232.863574</td>\n",
       "      <td>-0.145686</td>\n",
       "      <td>1.145686</td>\n",
       "    </tr>\n",
       "    <tr>\n",
       "      <td>8652</td>\n",
       "      <td>12714</td>\n",
       "      <td>41453.918924</td>\n",
       "      <td>-7260.710170</td>\n",
       "      <td>48714.629094</td>\n",
       "      <td>-0.175151</td>\n",
       "      <td>1.175151</td>\n",
       "    </tr>\n",
       "    <tr>\n",
       "      <td>8658</td>\n",
       "      <td>12722</td>\n",
       "      <td>43297.456746</td>\n",
       "      <td>-1304.413264</td>\n",
       "      <td>44601.870010</td>\n",
       "      <td>-0.030127</td>\n",
       "      <td>1.030127</td>\n",
       "    </tr>\n",
       "    <tr>\n",
       "      <td>8676</td>\n",
       "      <td>12750</td>\n",
       "      <td>13307.875080</td>\n",
       "      <td>-5326.062165</td>\n",
       "      <td>18633.937245</td>\n",
       "      <td>-0.400219</td>\n",
       "      <td>1.400219</td>\n",
       "    </tr>\n",
       "    <tr>\n",
       "      <td>8788</td>\n",
       "      <td>12886</td>\n",
       "      <td>6848.420958</td>\n",
       "      <td>-660.022735</td>\n",
       "      <td>7508.443693</td>\n",
       "      <td>-0.096376</td>\n",
       "      <td>1.096376</td>\n",
       "    </tr>\n",
       "  </tbody>\n",
       "</table>\n",
       "<p>192 rows × 6 columns</p>\n",
       "</div>"
      ],
      "text/plain": [
       "      ID_HDC_G0     coef_pdays      coef_pop      coef_heat   pct-pop  \\\n",
       "213         473   74030.666354  -1082.839874   75113.506228 -0.014627   \n",
       "747        1470   83118.592288 -33902.715070  117021.307358 -0.407884   \n",
       "790        1524   16138.986926  -2782.615273   18921.602199 -0.172416   \n",
       "1029       1957   57701.795178  -3569.390252   61271.185430 -0.061859   \n",
       "1618       2884   72436.453349  -2366.280178   74802.733527 -0.032667   \n",
       "...         ...            ...           ...            ...       ...   \n",
       "8646      12705  109308.233066 -15924.630508  125232.863574 -0.145686   \n",
       "8652      12714   41453.918924  -7260.710170   48714.629094 -0.175151   \n",
       "8658      12722   43297.456746  -1304.413264   44601.870010 -0.030127   \n",
       "8676      12750   13307.875080  -5326.062165   18633.937245 -0.400219   \n",
       "8788      12886    6848.420958   -660.022735    7508.443693 -0.096376   \n",
       "\n",
       "      pct-heat  \n",
       "213   1.014627  \n",
       "747   1.407884  \n",
       "790   1.172416  \n",
       "1029  1.061859  \n",
       "1618  1.032667  \n",
       "...        ...  \n",
       "8646  1.145686  \n",
       "8652  1.175151  \n",
       "8658  1.030127  \n",
       "8676  1.400219  \n",
       "8788  1.096376  \n",
       "\n",
       "[192 rows x 6 columns]"
      ]
     },
     "execution_count": 60,
     "metadata": {},
     "output_type": "execute_result"
    }
   ],
   "source": [
    "df[df['pct-heat'] > 1]"
   ]
  },
  {
   "cell_type": "code",
   "execution_count": 52,
   "metadata": {},
   "outputs": [
    {
     "data": {
      "text/html": [
       "<div>\n",
       "<style scoped>\n",
       "    .dataframe tbody tr th:only-of-type {\n",
       "        vertical-align: middle;\n",
       "    }\n",
       "\n",
       "    .dataframe tbody tr th {\n",
       "        vertical-align: top;\n",
       "    }\n",
       "\n",
       "    .dataframe thead th {\n",
       "        text-align: right;\n",
       "    }\n",
       "</style>\n",
       "<table border=\"1\" class=\"dataframe\">\n",
       "  <thead>\n",
       "    <tr style=\"text-align: right;\">\n",
       "      <th></th>\n",
       "      <th>ID_HDC_G0</th>\n",
       "      <th>coef_attrib</th>\n",
       "      <th>pct-pop</th>\n",
       "    </tr>\n",
       "  </thead>\n",
       "  <tbody>\n",
       "    <tr>\n",
       "      <td>26</td>\n",
       "      <td>57</td>\n",
       "      <td>1.137843</td>\n",
       "      <td>1.068921</td>\n",
       "    </tr>\n",
       "    <tr>\n",
       "      <td>39</td>\n",
       "      <td>72</td>\n",
       "      <td>1.041146</td>\n",
       "      <td>1.020573</td>\n",
       "    </tr>\n",
       "    <tr>\n",
       "      <td>45</td>\n",
       "      <td>79</td>\n",
       "      <td>1.357328</td>\n",
       "      <td>1.178664</td>\n",
       "    </tr>\n",
       "    <tr>\n",
       "      <td>50</td>\n",
       "      <td>85</td>\n",
       "      <td>1.164690</td>\n",
       "      <td>1.082345</td>\n",
       "    </tr>\n",
       "    <tr>\n",
       "      <td>1800</td>\n",
       "      <td>3251</td>\n",
       "      <td>1.025003</td>\n",
       "      <td>1.012501</td>\n",
       "    </tr>\n",
       "    <tr>\n",
       "      <td>...</td>\n",
       "      <td>...</td>\n",
       "      <td>...</td>\n",
       "      <td>...</td>\n",
       "    </tr>\n",
       "    <tr>\n",
       "      <td>8196</td>\n",
       "      <td>12166</td>\n",
       "      <td>1.007998</td>\n",
       "      <td>1.003999</td>\n",
       "    </tr>\n",
       "    <tr>\n",
       "      <td>8201</td>\n",
       "      <td>12171</td>\n",
       "      <td>1.016852</td>\n",
       "      <td>1.008426</td>\n",
       "    </tr>\n",
       "    <tr>\n",
       "      <td>8251</td>\n",
       "      <td>12232</td>\n",
       "      <td>1.014257</td>\n",
       "      <td>1.007129</td>\n",
       "    </tr>\n",
       "    <tr>\n",
       "      <td>8259</td>\n",
       "      <td>12242</td>\n",
       "      <td>1.020776</td>\n",
       "      <td>1.010388</td>\n",
       "    </tr>\n",
       "    <tr>\n",
       "      <td>8420</td>\n",
       "      <td>12433</td>\n",
       "      <td>1.004742</td>\n",
       "      <td>1.002371</td>\n",
       "    </tr>\n",
       "  </tbody>\n",
       "</table>\n",
       "<p>92 rows × 3 columns</p>\n",
       "</div>"
      ],
      "text/plain": [
       "      ID_HDC_G0  coef_attrib   pct-pop\n",
       "26           57     1.137843  1.068921\n",
       "39           72     1.041146  1.020573\n",
       "45           79     1.357328  1.178664\n",
       "50           85     1.164690  1.082345\n",
       "1800       3251     1.025003  1.012501\n",
       "...         ...          ...       ...\n",
       "8196      12166     1.007998  1.003999\n",
       "8201      12171     1.016852  1.008426\n",
       "8251      12232     1.014257  1.007129\n",
       "8259      12242     1.020776  1.010388\n",
       "8420      12433     1.004742  1.002371\n",
       "\n",
       "[92 rows x 3 columns]"
      ]
     },
     "execution_count": 52,
     "metadata": {},
     "output_type": "execute_result"
    }
   ],
   "source": [
    "df[df['pct-pop'] > 1]"
   ]
  },
  {
   "cell_type": "code",
   "execution_count": 26,
   "metadata": {
    "scrolled": true
   },
   "outputs": [
    {
     "data": {
      "text/html": [
       "<div>\n",
       "<style scoped>\n",
       "    .dataframe tbody tr th:only-of-type {\n",
       "        vertical-align: middle;\n",
       "    }\n",
       "\n",
       "    .dataframe tbody tr th {\n",
       "        vertical-align: top;\n",
       "    }\n",
       "\n",
       "    .dataframe thead th {\n",
       "        text-align: right;\n",
       "    }\n",
       "</style>\n",
       "<table border=\"1\" class=\"dataframe\">\n",
       "  <thead>\n",
       "    <tr style=\"text-align: right;\">\n",
       "      <th></th>\n",
       "      <th>ID_HDC_G0</th>\n",
       "      <th>coef_pdays</th>\n",
       "      <th>p_value_pdays</th>\n",
       "      <th>coef_heat</th>\n",
       "      <th>p_value_heat</th>\n",
       "      <th>coef_pop</th>\n",
       "      <th>p_value_pop</th>\n",
       "      <th>coef_totDays</th>\n",
       "      <th>p_value_totDays</th>\n",
       "      <th>coef_attrib</th>\n",
       "      <th>coef_attrib_norm</th>\n",
       "      <th>CTR_MN_NM</th>\n",
       "      <th>UC_NM_MN</th>\n",
       "      <th>GCPNT_LAT</th>\n",
       "      <th>GCPNT_LON</th>\n",
       "      <th>region</th>\n",
       "      <th>sub-region</th>\n",
       "      <th>intermediate-region</th>\n",
       "      <th>P1983</th>\n",
       "      <th>P2016</th>\n",
       "    </tr>\n",
       "  </thead>\n",
       "  <tbody>\n",
       "    <tr>\n",
       "      <td>213</td>\n",
       "      <td>473</td>\n",
       "      <td>74030.666354</td>\n",
       "      <td>0.0413</td>\n",
       "      <td>75113.506228</td>\n",
       "      <td>0.0397</td>\n",
       "      <td>-1082.839874</td>\n",
       "      <td>0.0124</td>\n",
       "      <td>0.039572</td>\n",
       "      <td>0.0397</td>\n",
       "      <td>-1.029254</td>\n",
       "      <td>0.576865</td>\n",
       "      <td>Cuba</td>\n",
       "      <td>La Habana (Havana) [CUB]</td>\n",
       "      <td>23.071386</td>\n",
       "      <td>-82.351656</td>\n",
       "      <td>Americas</td>\n",
       "      <td>Latin America and the Caribbean</td>\n",
       "      <td>Caribbean</td>\n",
       "      <td>1.898139e+06</td>\n",
       "      <td>1.839558e+06</td>\n",
       "    </tr>\n",
       "  </tbody>\n",
       "</table>\n",
       "</div>"
      ],
      "text/plain": [
       "     ID_HDC_G0    coef_pdays  p_value_pdays     coef_heat  p_value_heat  \\\n",
       "213        473  74030.666354         0.0413  75113.506228        0.0397   \n",
       "\n",
       "        coef_pop  p_value_pop  coef_totDays  p_value_totDays  coef_attrib  \\\n",
       "213 -1082.839874       0.0124      0.039572           0.0397    -1.029254   \n",
       "\n",
       "     coef_attrib_norm CTR_MN_NM                  UC_NM_MN  GCPNT_LAT  \\\n",
       "213          0.576865      Cuba  La Habana (Havana) [CUB]  23.071386   \n",
       "\n",
       "     GCPNT_LON    region                       sub-region intermediate-region  \\\n",
       "213 -82.351656  Americas  Latin America and the Caribbean           Caribbean   \n",
       "\n",
       "            P1983         P2016  \n",
       "213  1.898139e+06  1.839558e+06  "
      ]
     },
     "execution_count": 26,
     "metadata": {},
     "output_type": "execute_result"
    }
   ],
   "source": [
    "trend[trend['ID_HDC_G0'] == 473]"
   ]
  },
  {
   "cell_type": "code",
   "execution_count": 29,
   "metadata": {},
   "outputs": [],
   "source": [
    "fn = os.path.join('/scratch/cascade/UEH-daily/stats/wbgtmax30_EXP.json')"
   ]
  },
  {
   "cell_type": "code",
   "execution_count": 31,
   "metadata": {},
   "outputs": [],
   "source": [
    "exp = pd.read_json(fn, orient = 'split')"
   ]
  },
  {
   "cell_type": "code",
   "execution_count": 36,
   "metadata": {},
   "outputs": [],
   "source": [
    "test = exp[exp['ID_HDC_G0'] == 12750].sort_values(by = 'year')"
   ]
  },
  {
   "cell_type": "code",
   "execution_count": 43,
   "metadata": {},
   "outputs": [
    {
     "data": {
      "text/plain": [
       "[<matplotlib.lines.Line2D at 0x7f853847d630>]"
      ]
     },
     "execution_count": 43,
     "metadata": {},
     "output_type": "execute_result"
    },
    {
     "data": {
      "image/png": "[encoded data removed]",
      "text/plain": [
       "<Figure size 432x288 with 1 Axes>"
      ]
     },
     "metadata": {
      "needs_background": "light"
     },
     "output_type": "display_data"
    }
   ],
   "source": [
    "plt.plot(test['year'], test['people_days'])\n",
    "plt.plot(test['year'], test['people_days_heat'])\n",
    "plt.plot(test['year'], test['people_days_pop'])"
   ]
  },
  {
   "cell_type": "code",
   "execution_count": 45,
   "metadata": {},
   "outputs": [
    {
     "data": {
      "text/plain": [
       "[<matplotlib.lines.Line2D at 0x7f8533408fd0>]"
      ]
     },
     "execution_count": 45,
     "metadata": {},
     "output_type": "execute_result"
    },
    {
     "data": {
      "image/png": "[encoded data removed]",
      "text/plain": [
       "<Figure size 432x288 with 1 Axes>"
      ]
     },
     "metadata": {
      "needs_background": "light"
     },
     "output_type": "display_data"
    }
   ],
   "source": [
    "plt.plot(test['year'], test['P'])"
   ]
  },
  {
   "cell_type": "code",
   "execution_count": 46,
   "metadata": {
    "scrolled": true
   },
   "outputs": [
    {
     "data": {
      "text/html": [
       "<div>\n",
       "<style scoped>\n",
       "    .dataframe tbody tr th:only-of-type {\n",
       "        vertical-align: middle;\n",
       "    }\n",
       "\n",
       "    .dataframe tbody tr th {\n",
       "        vertical-align: top;\n",
       "    }\n",
       "\n",
       "    .dataframe thead th {\n",
       "        text-align: right;\n",
       "    }\n",
       "</style>\n",
       "<table border=\"1\" class=\"dataframe\">\n",
       "  <thead>\n",
       "    <tr style=\"text-align: right;\">\n",
       "      <th></th>\n",
       "      <th>ID_HDC_G0</th>\n",
       "      <th>year</th>\n",
       "      <th>tot_days</th>\n",
       "      <th>P</th>\n",
       "      <th>P1983</th>\n",
       "      <th>P2016</th>\n",
       "      <th>people_days</th>\n",
       "      <th>people_days_heat</th>\n",
       "      <th>people_days_pop</th>\n",
       "    </tr>\n",
       "  </thead>\n",
       "  <tbody>\n",
       "    <tr>\n",
       "      <td>237267</td>\n",
       "      <td>12750</td>\n",
       "      <td>1983</td>\n",
       "      <td>3</td>\n",
       "      <td>76272.119619</td>\n",
       "      <td>76272.119619</td>\n",
       "      <td>59225.665802</td>\n",
       "      <td>2.288164e+05</td>\n",
       "      <td>2.288164e+05</td>\n",
       "      <td>0.000000</td>\n",
       "    </tr>\n",
       "    <tr>\n",
       "      <td>237268</td>\n",
       "      <td>12750</td>\n",
       "      <td>1984</td>\n",
       "      <td>4</td>\n",
       "      <td>75923.594299</td>\n",
       "      <td>76272.119619</td>\n",
       "      <td>59225.665802</td>\n",
       "      <td>3.036944e+05</td>\n",
       "      <td>3.050885e+05</td>\n",
       "      <td>-1394.101278</td>\n",
       "    </tr>\n",
       "    <tr>\n",
       "      <td>237269</td>\n",
       "      <td>12750</td>\n",
       "      <td>1985</td>\n",
       "      <td>4</td>\n",
       "      <td>75575.068980</td>\n",
       "      <td>76272.119619</td>\n",
       "      <td>59225.665802</td>\n",
       "      <td>3.023003e+05</td>\n",
       "      <td>3.050885e+05</td>\n",
       "      <td>-2788.202555</td>\n",
       "    </tr>\n",
       "    <tr>\n",
       "      <td>59179</td>\n",
       "      <td>12750</td>\n",
       "      <td>1986</td>\n",
       "      <td>0</td>\n",
       "      <td>NaN</td>\n",
       "      <td>76272.119619</td>\n",
       "      <td>59225.665802</td>\n",
       "      <td>0.000000e+00</td>\n",
       "      <td>0.000000e+00</td>\n",
       "      <td>0.000000</td>\n",
       "    </tr>\n",
       "    <tr>\n",
       "      <td>59180</td>\n",
       "      <td>12750</td>\n",
       "      <td>1987</td>\n",
       "      <td>0</td>\n",
       "      <td>NaN</td>\n",
       "      <td>76272.119619</td>\n",
       "      <td>59225.665802</td>\n",
       "      <td>0.000000e+00</td>\n",
       "      <td>0.000000e+00</td>\n",
       "      <td>0.000000</td>\n",
       "    </tr>\n",
       "    <tr>\n",
       "      <td>59181</td>\n",
       "      <td>12750</td>\n",
       "      <td>1988</td>\n",
       "      <td>0</td>\n",
       "      <td>NaN</td>\n",
       "      <td>76272.119619</td>\n",
       "      <td>59225.665802</td>\n",
       "      <td>0.000000e+00</td>\n",
       "      <td>0.000000e+00</td>\n",
       "      <td>0.000000</td>\n",
       "    </tr>\n",
       "    <tr>\n",
       "      <td>59182</td>\n",
       "      <td>12750</td>\n",
       "      <td>1989</td>\n",
       "      <td>0</td>\n",
       "      <td>NaN</td>\n",
       "      <td>76272.119619</td>\n",
       "      <td>59225.665802</td>\n",
       "      <td>0.000000e+00</td>\n",
       "      <td>0.000000e+00</td>\n",
       "      <td>0.000000</td>\n",
       "    </tr>\n",
       "    <tr>\n",
       "      <td>237270</td>\n",
       "      <td>12750</td>\n",
       "      <td>1990</td>\n",
       "      <td>9</td>\n",
       "      <td>73832.442383</td>\n",
       "      <td>76272.119619</td>\n",
       "      <td>59225.665802</td>\n",
       "      <td>6.644920e+05</td>\n",
       "      <td>6.864491e+05</td>\n",
       "      <td>-21957.095123</td>\n",
       "    </tr>\n",
       "    <tr>\n",
       "      <td>59183</td>\n",
       "      <td>12750</td>\n",
       "      <td>1991</td>\n",
       "      <td>0</td>\n",
       "      <td>NaN</td>\n",
       "      <td>76272.119619</td>\n",
       "      <td>59225.665802</td>\n",
       "      <td>0.000000e+00</td>\n",
       "      <td>0.000000e+00</td>\n",
       "      <td>0.000000</td>\n",
       "    </tr>\n",
       "    <tr>\n",
       "      <td>59184</td>\n",
       "      <td>12750</td>\n",
       "      <td>1992</td>\n",
       "      <td>0</td>\n",
       "      <td>NaN</td>\n",
       "      <td>76272.119619</td>\n",
       "      <td>59225.665802</td>\n",
       "      <td>0.000000e+00</td>\n",
       "      <td>0.000000e+00</td>\n",
       "      <td>0.000000</td>\n",
       "    </tr>\n",
       "    <tr>\n",
       "      <td>59185</td>\n",
       "      <td>12750</td>\n",
       "      <td>1993</td>\n",
       "      <td>0</td>\n",
       "      <td>NaN</td>\n",
       "      <td>76272.119619</td>\n",
       "      <td>59225.665802</td>\n",
       "      <td>0.000000e+00</td>\n",
       "      <td>0.000000e+00</td>\n",
       "      <td>0.000000</td>\n",
       "    </tr>\n",
       "    <tr>\n",
       "      <td>237271</td>\n",
       "      <td>12750</td>\n",
       "      <td>1994</td>\n",
       "      <td>16</td>\n",
       "      <td>71703.826514</td>\n",
       "      <td>76272.119619</td>\n",
       "      <td>59225.665802</td>\n",
       "      <td>1.147261e+06</td>\n",
       "      <td>1.220354e+06</td>\n",
       "      <td>-73092.689681</td>\n",
       "    </tr>\n",
       "    <tr>\n",
       "      <td>237272</td>\n",
       "      <td>12750</td>\n",
       "      <td>1995</td>\n",
       "      <td>5</td>\n",
       "      <td>71171.672546</td>\n",
       "      <td>76272.119619</td>\n",
       "      <td>59225.665802</td>\n",
       "      <td>3.558584e+05</td>\n",
       "      <td>3.813606e+05</td>\n",
       "      <td>-25502.235362</td>\n",
       "    </tr>\n",
       "    <tr>\n",
       "      <td>237273</td>\n",
       "      <td>12750</td>\n",
       "      <td>1996</td>\n",
       "      <td>12</td>\n",
       "      <td>70639.518579</td>\n",
       "      <td>76272.119619</td>\n",
       "      <td>59225.665802</td>\n",
       "      <td>8.476742e+05</td>\n",
       "      <td>9.152654e+05</td>\n",
       "      <td>-67591.212476</td>\n",
       "    </tr>\n",
       "    <tr>\n",
       "      <td>237274</td>\n",
       "      <td>12750</td>\n",
       "      <td>1997</td>\n",
       "      <td>1</td>\n",
       "      <td>70107.364612</td>\n",
       "      <td>76272.119619</td>\n",
       "      <td>59225.665802</td>\n",
       "      <td>7.010736e+04</td>\n",
       "      <td>7.627212e+04</td>\n",
       "      <td>-6164.755007</td>\n",
       "    </tr>\n",
       "    <tr>\n",
       "      <td>237275</td>\n",
       "      <td>12750</td>\n",
       "      <td>1998</td>\n",
       "      <td>3</td>\n",
       "      <td>69575.210645</td>\n",
       "      <td>76272.119619</td>\n",
       "      <td>59225.665802</td>\n",
       "      <td>2.087256e+05</td>\n",
       "      <td>2.288164e+05</td>\n",
       "      <td>-20090.726923</td>\n",
       "    </tr>\n",
       "    <tr>\n",
       "      <td>59186</td>\n",
       "      <td>12750</td>\n",
       "      <td>1999</td>\n",
       "      <td>0</td>\n",
       "      <td>NaN</td>\n",
       "      <td>76272.119619</td>\n",
       "      <td>59225.665802</td>\n",
       "      <td>0.000000e+00</td>\n",
       "      <td>0.000000e+00</td>\n",
       "      <td>0.000000</td>\n",
       "    </tr>\n",
       "    <tr>\n",
       "      <td>59187</td>\n",
       "      <td>12750</td>\n",
       "      <td>2000</td>\n",
       "      <td>0</td>\n",
       "      <td>NaN</td>\n",
       "      <td>76272.119619</td>\n",
       "      <td>59225.665802</td>\n",
       "      <td>0.000000e+00</td>\n",
       "      <td>0.000000e+00</td>\n",
       "      <td>0.000000</td>\n",
       "    </tr>\n",
       "    <tr>\n",
       "      <td>237276</td>\n",
       "      <td>12750</td>\n",
       "      <td>2001</td>\n",
       "      <td>7</td>\n",
       "      <td>67891.886916</td>\n",
       "      <td>76272.119619</td>\n",
       "      <td>59225.665802</td>\n",
       "      <td>4.752432e+05</td>\n",
       "      <td>5.339048e+05</td>\n",
       "      <td>-58661.628918</td>\n",
       "    </tr>\n",
       "    <tr>\n",
       "      <td>237277</td>\n",
       "      <td>12750</td>\n",
       "      <td>2002</td>\n",
       "      <td>1</td>\n",
       "      <td>67272.871122</td>\n",
       "      <td>76272.119619</td>\n",
       "      <td>59225.665802</td>\n",
       "      <td>6.727287e+04</td>\n",
       "      <td>7.627212e+04</td>\n",
       "      <td>-8999.248497</td>\n",
       "    </tr>\n",
       "    <tr>\n",
       "      <td>237278</td>\n",
       "      <td>12750</td>\n",
       "      <td>2003</td>\n",
       "      <td>5</td>\n",
       "      <td>66653.855328</td>\n",
       "      <td>76272.119619</td>\n",
       "      <td>59225.665802</td>\n",
       "      <td>3.332693e+05</td>\n",
       "      <td>3.813606e+05</td>\n",
       "      <td>-48091.321452</td>\n",
       "    </tr>\n",
       "    <tr>\n",
       "      <td>237279</td>\n",
       "      <td>12750</td>\n",
       "      <td>2004</td>\n",
       "      <td>3</td>\n",
       "      <td>66034.839535</td>\n",
       "      <td>76272.119619</td>\n",
       "      <td>59225.665802</td>\n",
       "      <td>1.981045e+05</td>\n",
       "      <td>2.288164e+05</td>\n",
       "      <td>-30711.840253</td>\n",
       "    </tr>\n",
       "    <tr>\n",
       "      <td>237280</td>\n",
       "      <td>12750</td>\n",
       "      <td>2005</td>\n",
       "      <td>7</td>\n",
       "      <td>65415.823741</td>\n",
       "      <td>76272.119619</td>\n",
       "      <td>59225.665802</td>\n",
       "      <td>4.579108e+05</td>\n",
       "      <td>5.339048e+05</td>\n",
       "      <td>-75994.071147</td>\n",
       "    </tr>\n",
       "    <tr>\n",
       "      <td>237281</td>\n",
       "      <td>12750</td>\n",
       "      <td>2006</td>\n",
       "      <td>3</td>\n",
       "      <td>64796.807947</td>\n",
       "      <td>76272.119619</td>\n",
       "      <td>59225.665802</td>\n",
       "      <td>1.943904e+05</td>\n",
       "      <td>2.288164e+05</td>\n",
       "      <td>-34425.935016</td>\n",
       "    </tr>\n",
       "    <tr>\n",
       "      <td>237282</td>\n",
       "      <td>12750</td>\n",
       "      <td>2007</td>\n",
       "      <td>6</td>\n",
       "      <td>64177.792153</td>\n",
       "      <td>76272.119619</td>\n",
       "      <td>59225.665802</td>\n",
       "      <td>3.850668e+05</td>\n",
       "      <td>4.576327e+05</td>\n",
       "      <td>-72565.964795</td>\n",
       "    </tr>\n",
       "    <tr>\n",
       "      <td>237283</td>\n",
       "      <td>12750</td>\n",
       "      <td>2008</td>\n",
       "      <td>9</td>\n",
       "      <td>63558.776359</td>\n",
       "      <td>76272.119619</td>\n",
       "      <td>59225.665802</td>\n",
       "      <td>5.720290e+05</td>\n",
       "      <td>6.864491e+05</td>\n",
       "      <td>-114420.089337</td>\n",
       "    </tr>\n",
       "    <tr>\n",
       "      <td>237284</td>\n",
       "      <td>12750</td>\n",
       "      <td>2009</td>\n",
       "      <td>4</td>\n",
       "      <td>62939.760565</td>\n",
       "      <td>76272.119619</td>\n",
       "      <td>59225.665802</td>\n",
       "      <td>2.517590e+05</td>\n",
       "      <td>3.050885e+05</td>\n",
       "      <td>-53329.436214</td>\n",
       "    </tr>\n",
       "    <tr>\n",
       "      <td>237285</td>\n",
       "      <td>12750</td>\n",
       "      <td>2010</td>\n",
       "      <td>8</td>\n",
       "      <td>62320.744771</td>\n",
       "      <td>76272.119619</td>\n",
       "      <td>59225.665802</td>\n",
       "      <td>4.985660e+05</td>\n",
       "      <td>6.101770e+05</td>\n",
       "      <td>-111610.998779</td>\n",
       "    </tr>\n",
       "    <tr>\n",
       "      <td>237286</td>\n",
       "      <td>12750</td>\n",
       "      <td>2011</td>\n",
       "      <td>1</td>\n",
       "      <td>61701.728977</td>\n",
       "      <td>76272.119619</td>\n",
       "      <td>59225.665802</td>\n",
       "      <td>6.170173e+04</td>\n",
       "      <td>7.627212e+04</td>\n",
       "      <td>-14570.390641</td>\n",
       "    </tr>\n",
       "    <tr>\n",
       "      <td>237287</td>\n",
       "      <td>12750</td>\n",
       "      <td>2012</td>\n",
       "      <td>7</td>\n",
       "      <td>61082.713184</td>\n",
       "      <td>76272.119619</td>\n",
       "      <td>59225.665802</td>\n",
       "      <td>4.275790e+05</td>\n",
       "      <td>5.339048e+05</td>\n",
       "      <td>-106325.845046</td>\n",
       "    </tr>\n",
       "    <tr>\n",
       "      <td>237288</td>\n",
       "      <td>12750</td>\n",
       "      <td>2013</td>\n",
       "      <td>21</td>\n",
       "      <td>60463.697390</td>\n",
       "      <td>76272.119619</td>\n",
       "      <td>59225.665802</td>\n",
       "      <td>1.269738e+06</td>\n",
       "      <td>1.601715e+06</td>\n",
       "      <td>-331976.866809</td>\n",
       "    </tr>\n",
       "    <tr>\n",
       "      <td>237289</td>\n",
       "      <td>12750</td>\n",
       "      <td>2014</td>\n",
       "      <td>2</td>\n",
       "      <td>59844.681596</td>\n",
       "      <td>76272.119619</td>\n",
       "      <td>59225.665802</td>\n",
       "      <td>1.196894e+05</td>\n",
       "      <td>1.525442e+05</td>\n",
       "      <td>-32854.876046</td>\n",
       "    </tr>\n",
       "    <tr>\n",
       "      <td>237290</td>\n",
       "      <td>12750</td>\n",
       "      <td>2015</td>\n",
       "      <td>5</td>\n",
       "      <td>59225.665802</td>\n",
       "      <td>76272.119619</td>\n",
       "      <td>59225.665802</td>\n",
       "      <td>2.961283e+05</td>\n",
       "      <td>3.813606e+05</td>\n",
       "      <td>-85232.269084</td>\n",
       "    </tr>\n",
       "    <tr>\n",
       "      <td>237291</td>\n",
       "      <td>12750</td>\n",
       "      <td>2016</td>\n",
       "      <td>23</td>\n",
       "      <td>59225.665802</td>\n",
       "      <td>76272.119619</td>\n",
       "      <td>59225.665802</td>\n",
       "      <td>1.362190e+06</td>\n",
       "      <td>1.754259e+06</td>\n",
       "      <td>-392068.437785</td>\n",
       "    </tr>\n",
       "  </tbody>\n",
       "</table>\n",
       "</div>"
      ],
      "text/plain": [
       "        ID_HDC_G0  year  tot_days             P         P1983         P2016  \\\n",
       "237267      12750  1983         3  76272.119619  76272.119619  59225.665802   \n",
       "237268      12750  1984         4  75923.594299  76272.119619  59225.665802   \n",
       "237269      12750  1985         4  75575.068980  76272.119619  59225.665802   \n",
       "59179       12750  1986         0           NaN  76272.119619  59225.665802   \n",
       "59180       12750  1987         0           NaN  76272.119619  59225.665802   \n",
       "59181       12750  1988         0           NaN  76272.119619  59225.665802   \n",
       "59182       12750  1989         0           NaN  76272.119619  59225.665802   \n",
       "237270      12750  1990         9  73832.442383  76272.119619  59225.665802   \n",
       "59183       12750  1991         0           NaN  76272.119619  59225.665802   \n",
       "59184       12750  1992         0           NaN  76272.119619  59225.665802   \n",
       "59185       12750  1993         0           NaN  76272.119619  59225.665802   \n",
       "237271      12750  1994        16  71703.826514  76272.119619  59225.665802   \n",
       "237272      12750  1995         5  71171.672546  76272.119619  59225.665802   \n",
       "237273      12750  1996        12  70639.518579  76272.119619  59225.665802   \n",
       "237274      12750  1997         1  70107.364612  76272.119619  59225.665802   \n",
       "237275      12750  1998         3  69575.210645  76272.119619  59225.665802   \n",
       "59186       12750  1999         0           NaN  76272.119619  59225.665802   \n",
       "59187       12750  2000         0           NaN  76272.119619  59225.665802   \n",
       "237276      12750  2001         7  67891.886916  76272.119619  59225.665802   \n",
       "237277      12750  2002         1  67272.871122  76272.119619  59225.665802   \n",
       "237278      12750  2003         5  66653.855328  76272.119619  59225.665802   \n",
       "237279      12750  2004         3  66034.839535  76272.119619  59225.665802   \n",
       "237280      12750  2005         7  65415.823741  76272.119619  59225.665802   \n",
       "237281      12750  2006         3  64796.807947  76272.119619  59225.665802   \n",
       "237282      12750  2007         6  64177.792153  76272.119619  59225.665802   \n",
       "237283      12750  2008         9  63558.776359  76272.119619  59225.665802   \n",
       "237284      12750  2009         4  62939.760565  76272.119619  59225.665802   \n",
       "237285      12750  2010         8  62320.744771  76272.119619  59225.665802   \n",
       "237286      12750  2011         1  61701.728977  76272.119619  59225.665802   \n",
       "237287      12750  2012         7  61082.713184  76272.119619  59225.665802   \n",
       "237288      12750  2013        21  60463.697390  76272.119619  59225.665802   \n",
       "237289      12750  2014         2  59844.681596  76272.119619  59225.665802   \n",
       "237290      12750  2015         5  59225.665802  76272.119619  59225.665802   \n",
       "237291      12750  2016        23  59225.665802  76272.119619  59225.665802   \n",
       "\n",
       "         people_days  people_days_heat  people_days_pop  \n",
       "237267  2.288164e+05      2.288164e+05         0.000000  \n",
       "237268  3.036944e+05      3.050885e+05     -1394.101278  \n",
       "237269  3.023003e+05      3.050885e+05     -2788.202555  \n",
       "59179   0.000000e+00      0.000000e+00         0.000000  \n",
       "59180   0.000000e+00      0.000000e+00         0.000000  \n",
       "59181   0.000000e+00      0.000000e+00         0.000000  \n",
       "59182   0.000000e+00      0.000000e+00         0.000000  \n",
       "237270  6.644920e+05      6.864491e+05    -21957.095123  \n",
       "59183   0.000000e+00      0.000000e+00         0.000000  \n",
       "59184   0.000000e+00      0.000000e+00         0.000000  \n",
       "59185   0.000000e+00      0.000000e+00         0.000000  \n",
       "237271  1.147261e+06      1.220354e+06    -73092.689681  \n",
       "237272  3.558584e+05      3.813606e+05    -25502.235362  \n",
       "237273  8.476742e+05      9.152654e+05    -67591.212476  \n",
       "237274  7.010736e+04      7.627212e+04     -6164.755007  \n",
       "237275  2.087256e+05      2.288164e+05    -20090.726923  \n",
       "59186   0.000000e+00      0.000000e+00         0.000000  \n",
       "59187   0.000000e+00      0.000000e+00         0.000000  \n",
       "237276  4.752432e+05      5.339048e+05    -58661.628918  \n",
       "237277  6.727287e+04      7.627212e+04     -8999.248497  \n",
       "237278  3.332693e+05      3.813606e+05    -48091.321452  \n",
       "237279  1.981045e+05      2.288164e+05    -30711.840253  \n",
       "237280  4.579108e+05      5.339048e+05    -75994.071147  \n",
       "237281  1.943904e+05      2.288164e+05    -34425.935016  \n",
       "237282  3.850668e+05      4.576327e+05    -72565.964795  \n",
       "237283  5.720290e+05      6.864491e+05   -114420.089337  \n",
       "237284  2.517590e+05      3.050885e+05    -53329.436214  \n",
       "237285  4.985660e+05      6.101770e+05   -111610.998779  \n",
       "237286  6.170173e+04      7.627212e+04    -14570.390641  \n",
       "237287  4.275790e+05      5.339048e+05   -106325.845046  \n",
       "237288  1.269738e+06      1.601715e+06   -331976.866809  \n",
       "237289  1.196894e+05      1.525442e+05    -32854.876046  \n",
       "237290  2.961283e+05      3.813606e+05    -85232.269084  \n",
       "237291  1.362190e+06      1.754259e+06   -392068.437785  "
      ]
     },
     "execution_count": 46,
     "metadata": {},
     "output_type": "execute_result"
    }
   ],
   "source": [
    "test"
   ]
  },
  {
   "cell_type": "code",
   "execution_count": 70,
   "metadata": {},
   "outputs": [
    {
     "data": {
      "text/plain": [
       "(-0.5, 1.5)"
      ]
     },
     "execution_count": 70,
     "metadata": {},
     "output_type": "execute_result"
    },
    {
     "data": {
      "image/png": "[encoded data removed]",
      "text/plain": [
       "<Figure size 720x720 with 1 Axes>"
      ]
     },
     "metadata": {
      "needs_background": "light"
     },
     "output_type": "display_data"
    }
   ],
   "source": [
    "fig = plt.gcf()\n",
    "fig.set_size_inches(10, 10)\n",
    "\n",
    "plt.hist(df['pct-heat'], bins = 30);\n",
    "plt.xlim([-0.5,1.5])"
   ]
  },
  {
   "cell_type": "markdown",
   "metadata": {},
   "source": [
    "## coef attrib is not working, check it"
   ]
  },
  {
   "cell_type": "code",
   "execution_count": 12,
   "metadata": {},
   "outputs": [
    {
     "data": {
      "image/png": "[encoded data removed]",
      "text/plain": [
       "<Figure size 288x288 with 1 Axes>"
      ]
     },
     "metadata": {
      "needs_background": "light"
     },
     "output_type": "display_data"
    }
   ],
   "source": [
    "data = trend['coef_attrib_norm'].values\n",
    "fig = plt.gcf()\n",
    "fig.set_size_inches(4, 4)\n",
    "\n",
    "plt.hist(data);"
   ]
  },
  {
   "cell_type": "code",
   "execution_count": null,
   "metadata": {},
   "outputs": [],
   "source": [
    "test = trend#.iloc[:1000,:]"
   ]
  },
  {
   "cell_type": "code",
   "execution_count": null,
   "metadata": {},
   "outputs": [],
   "source": [
    "coef_attrib = (trend['coef_pop'] - trend['coef_heat']) / (trend['coef_pop'] + trend['coef_heat'])"
   ]
  },
  {
   "cell_type": "code",
   "execution_count": null,
   "metadata": {},
   "outputs": [],
   "source": [
    "fig = plt.gcf()\n",
    "fig.set_size_inches(4, 4)\n",
    "\n",
    "plt.hist(coef_attrib);\n",
    "plt.xlim([-5,5])"
   ]
  },
  {
   "cell_type": "code",
   "execution_count": null,
   "metadata": {},
   "outputs": [],
   "source": [
    "plt.hist(trend['coef_attrib'])\n",
    "plt.xlim([-5,5])"
   ]
  },
  {
   "cell_type": "code",
   "execution_count": null,
   "metadata": {},
   "outputs": [],
   "source": [
    "df = pd.DataFrame()\n",
    "df['coef_attrib'] = coef_attrib\n",
    "norm = df['coef_attrib']\n",
    "df['coef_attrib_norm'] = (norm-min(norm))/(max(norm)-min(norm))"
   ]
  },
  {
   "cell_type": "code",
   "execution_count": null,
   "metadata": {},
   "outputs": [],
   "source": [
    "df"
   ]
  },
  {
   "cell_type": "code",
   "execution_count": null,
   "metadata": {},
   "outputs": [],
   "source": [
    "fig = plt.gcf()\n",
    "fig.set_size_inches(4, 4)\n",
    "\n",
    "plt.hist(df['coef_attrib_norm']);"
   ]
  },
  {
   "cell_type": "code",
   "execution_count": null,
   "metadata": {},
   "outputs": [],
   "source": [
    "df['norm_old'] = trend['coef_attrib_norm']\n",
    "df['coef_attrib_old'] = trend['coef_attrib']"
   ]
  },
  {
   "cell_type": "code",
   "execution_count": null,
   "metadata": {},
   "outputs": [],
   "source": [
    "df.head()"
   ]
  },
  {
   "cell_type": "code",
   "execution_count": null,
   "metadata": {
    "scrolled": true
   },
   "outputs": [],
   "source": [
    "min(df['coef_attrib'])"
   ]
  },
  {
   "cell_type": "code",
   "execution_count": null,
   "metadata": {},
   "outputs": [],
   "source": [
    "test = trend"
   ]
  },
  {
   "cell_type": "code",
   "execution_count": null,
   "metadata": {},
   "outputs": [],
   "source": [
    "# attrib coef --- creates range index of heat vs. population as a driver of total pdays increase\n",
    "out = pd.DataFrame()\n",
    "out['coef_attrib'] = (test['coef_pop'] - test['coef_heat']) / (test['coef_pop'] + test['coef_heat'])  \n",
    "\n",
    "# normalize coef of attribution 0 to 1\n",
    "norm = test['coef_attrib']\n",
    "out['coef_attrib_norm'] = (norm-min(norm))/(max(norm)-min(norm))"
   ]
  },
  {
   "cell_type": "code",
   "execution_count": null,
   "metadata": {},
   "outputs": [],
   "source": [
    "out"
   ]
  },
  {
   "cell_type": "code",
   "execution_count": null,
   "metadata": {},
   "outputs": [],
   "source": [
    "plt.hist(out['coef_attrib_norm'])"
   ]
  },
  {
   "cell_type": "markdown",
   "metadata": {},
   "source": [
    "# WBGT"
   ]
  },
  {
   "cell_type": "code",
   "execution_count": null,
   "metadata": {},
   "outputs": [],
   "source": [
    "# Functions\n",
    "def c_to_f(C):\n",
    "    \"Convert HI C to F\"\n",
    "    return 1.8 * C + 32\n",
    "\n",
    "def F_to_C(Tmax_F):\n",
    "    \"Function converts temp in F to C\"\n",
    "    Tmax_C = (Tmax_F - 32) * (5/9)\n",
    "    \n",
    "    return Tmax_C\n",
    "\n",
    "def hi_to_wbgt(HI):\n",
    "    \"\"\" Convert HI to WBGT using emprical relationship from Bernard and Iheanacho 2015\n",
    "    WBGT [◦C] = −0.0034 HI2 + 0.96 HI−34; for HI [◦F]\n",
    "    Args:\n",
    "        HI = heat index as an array\n",
    "    \"\"\"\n",
    "    \n",
    "    WBGT = -0.0034*HI**2 + 0.96*HI - 34\n",
    "    \n",
    "    return WBGT"
   ]
  },
  {
   "cell_type": "code",
   "execution_count": null,
   "metadata": {},
   "outputs": [],
   "source": [
    "hi_to_wbgt(105)"
   ]
  },
  {
   "cell_type": "code",
   "execution_count": null,
   "metadata": {},
   "outputs": [],
   "source": [
    "c_to_f(29)"
   ]
  }
 ],
 "metadata": {
  "kernelspec": {
   "display_name": "geo",
   "language": "python",
   "name": "geo"
  },
  "language_info": {
   "codemirror_mode": {
    "name": "ipython",
    "version": 3
   },
   "file_extension": ".py",
   "mimetype": "text/x-python",
   "name": "python",
   "nbconvert_exporter": "python",
   "pygments_lexer": "ipython3",
   "version": "3.6.7"
  }
 },
 "nbformat": 4,
 "nbformat_minor": 4
}
